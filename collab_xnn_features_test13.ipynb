{
  "nbformat": 4,
  "nbformat_minor": 0,
  "metadata": {
    "accelerator": "GPU",
    "colab": {
      "name": "collab_xnn_features_test13.ipynb",
      "provenance": [],
      "collapsed_sections": [
        "av22_gwc_hOd",
        "UrA1SY4CHTOS",
        "y5rAoKKZA49X",
        "BEJ_HoV2BgJq",
        "q6M9xK1N-i9t",
        "ib862JpbN7oI",
        "05H-E-Hb21S9",
        "7NfTm6C0efVR",
        "zarZ-ubirq5w",
        "YgXJUgDGFDf2",
        "Qr4uwylNzQl1",
        "5YEfUSsWG6bm",
        "a9XCKIfqnQ3V"
      ],
      "machine_shape": "hm"
    },
    "kernelspec": {
      "display_name": "Python 3",
      "name": "python3"
    },
    "language_info": {
      "name": "python"
    }
  },
  "cells": [
    {
      "cell_type": "markdown",
      "metadata": {
        "id": "av22_gwc_hOd"
      },
      "source": [
        "# Setup and install for Test13"
      ]
    },
    {
      "cell_type": "code",
      "metadata": {
        "colab": {
          "base_uri": "https://localhost:8080/"
        },
        "id": "l247Lv_MYR8O",
        "outputId": "973d3a64-de95-4670-e845-19b43f799b74"
      },
      "source": [
        "from google.colab import drive\n",
        "drive.mount('/content/drive')"
      ],
      "execution_count": null,
      "outputs": [
        {
          "output_type": "stream",
          "name": "stdout",
          "text": [
            "Mounted at /content/drive\n"
          ]
        }
      ]
    },
    {
      "cell_type": "code",
      "metadata": {
        "id": "yqquQY0B65AH",
        "colab": {
          "base_uri": "https://localhost:8080/"
        },
        "outputId": "b1975334-42a9-411e-87ce-e1b062cf63c6"
      },
      "source": [
        "%pip install gpflow\n",
        "%pip install plotnine\n",
        "%pip install plotly"
      ],
      "execution_count": null,
      "outputs": [
        {
          "output_type": "stream",
          "name": "stdout",
          "text": [
            "Collecting gpflow\n",
            "  Downloading gpflow-2.3.0-py3-none-any.whl (286 kB)\n",
            "\u001b[?25l\r\u001b[K     |█▏                              | 10 kB 36.3 MB/s eta 0:00:01\r\u001b[K     |██▎                             | 20 kB 44.0 MB/s eta 0:00:01\r\u001b[K     |███▍                            | 30 kB 36.5 MB/s eta 0:00:01\r\u001b[K     |████▋                           | 40 kB 24.5 MB/s eta 0:00:01\r\u001b[K     |█████▊                          | 51 kB 16.7 MB/s eta 0:00:01\r\u001b[K     |██████▉                         | 61 kB 14.0 MB/s eta 0:00:01\r\u001b[K     |████████                        | 71 kB 12.5 MB/s eta 0:00:01\r\u001b[K     |█████████▏                      | 81 kB 14.0 MB/s eta 0:00:01\r\u001b[K     |██████████▎                     | 92 kB 14.2 MB/s eta 0:00:01\r\u001b[K     |███████████▌                    | 102 kB 15.2 MB/s eta 0:00:01\r\u001b[K     |████████████▋                   | 112 kB 15.2 MB/s eta 0:00:01\r\u001b[K     |█████████████▊                  | 122 kB 15.2 MB/s eta 0:00:01\r\u001b[K     |███████████████                 | 133 kB 15.2 MB/s eta 0:00:01\r\u001b[K     |████████████████                | 143 kB 15.2 MB/s eta 0:00:01\r\u001b[K     |█████████████████▏              | 153 kB 15.2 MB/s eta 0:00:01\r\u001b[K     |██████████████████▎             | 163 kB 15.2 MB/s eta 0:00:01\r\u001b[K     |███████████████████▌            | 174 kB 15.2 MB/s eta 0:00:01\r\u001b[K     |████████████████████▋           | 184 kB 15.2 MB/s eta 0:00:01\r\u001b[K     |█████████████████████▊          | 194 kB 15.2 MB/s eta 0:00:01\r\u001b[K     |███████████████████████         | 204 kB 15.2 MB/s eta 0:00:01\r\u001b[K     |████████████████████████        | 215 kB 15.2 MB/s eta 0:00:01\r\u001b[K     |█████████████████████████▏      | 225 kB 15.2 MB/s eta 0:00:01\r\u001b[K     |██████████████████████████▍     | 235 kB 15.2 MB/s eta 0:00:01\r\u001b[K     |███████████████████████████▌    | 245 kB 15.2 MB/s eta 0:00:01\r\u001b[K     |████████████████████████████▋   | 256 kB 15.2 MB/s eta 0:00:01\r\u001b[K     |█████████████████████████████▉  | 266 kB 15.2 MB/s eta 0:00:01\r\u001b[K     |███████████████████████████████ | 276 kB 15.2 MB/s eta 0:00:01\r\u001b[K     |████████████████████████████████| 286 kB 15.2 MB/s \n",
            "\u001b[?25hCollecting multipledispatch>=0.6\n",
            "  Downloading multipledispatch-0.6.0-py3-none-any.whl (11 kB)\n",
            "Requirement already satisfied: typing-extensions in /usr/local/lib/python3.7/dist-packages (from gpflow) (3.10.0.2)\n",
            "Collecting dataclasses\n",
            "  Downloading dataclasses-0.6-py3-none-any.whl (14 kB)\n",
            "Requirement already satisfied: scipy in /usr/local/lib/python3.7/dist-packages (from gpflow) (1.4.1)\n",
            "Requirement already satisfied: setuptools>=41.0.0 in /usr/local/lib/python3.7/dist-packages (from gpflow) (57.4.0)\n",
            "Requirement already satisfied: tensorflow>=2.2.0 in /usr/local/lib/python3.7/dist-packages (from gpflow) (2.7.0)\n",
            "Requirement already satisfied: packaging in /usr/local/lib/python3.7/dist-packages (from gpflow) (21.3)\n",
            "Collecting deprecated\n",
            "  Downloading Deprecated-1.2.13-py2.py3-none-any.whl (9.6 kB)\n",
            "Requirement already satisfied: numpy in /usr/local/lib/python3.7/dist-packages (from gpflow) (1.19.5)\n",
            "Requirement already satisfied: tensorflow-probability>0.10.0 in /usr/local/lib/python3.7/dist-packages (from gpflow) (0.15.0)\n",
            "Requirement already satisfied: tabulate in /usr/local/lib/python3.7/dist-packages (from gpflow) (0.8.9)\n",
            "Requirement already satisfied: six in /usr/local/lib/python3.7/dist-packages (from multipledispatch>=0.6->gpflow) (1.15.0)\n",
            "Requirement already satisfied: termcolor>=1.1.0 in /usr/local/lib/python3.7/dist-packages (from tensorflow>=2.2.0->gpflow) (1.1.0)\n",
            "Requirement already satisfied: protobuf>=3.9.2 in /usr/local/lib/python3.7/dist-packages (from tensorflow>=2.2.0->gpflow) (3.17.3)\n",
            "Requirement already satisfied: gast<0.5.0,>=0.2.1 in /usr/local/lib/python3.7/dist-packages (from tensorflow>=2.2.0->gpflow) (0.4.0)\n",
            "Requirement already satisfied: keras<2.8,>=2.7.0rc0 in /usr/local/lib/python3.7/dist-packages (from tensorflow>=2.2.0->gpflow) (2.7.0)\n",
            "Requirement already satisfied: absl-py>=0.4.0 in /usr/local/lib/python3.7/dist-packages (from tensorflow>=2.2.0->gpflow) (0.12.0)\n",
            "Requirement already satisfied: wrapt>=1.11.0 in /usr/local/lib/python3.7/dist-packages (from tensorflow>=2.2.0->gpflow) (1.13.3)\n",
            "Requirement already satisfied: flatbuffers<3.0,>=1.12 in /usr/local/lib/python3.7/dist-packages (from tensorflow>=2.2.0->gpflow) (2.0)\n",
            "Requirement already satisfied: tensorflow-io-gcs-filesystem>=0.21.0 in /usr/local/lib/python3.7/dist-packages (from tensorflow>=2.2.0->gpflow) (0.22.0)\n",
            "Requirement already satisfied: grpcio<2.0,>=1.24.3 in /usr/local/lib/python3.7/dist-packages (from tensorflow>=2.2.0->gpflow) (1.42.0)\n",
            "Requirement already satisfied: keras-preprocessing>=1.1.1 in /usr/local/lib/python3.7/dist-packages (from tensorflow>=2.2.0->gpflow) (1.1.2)\n",
            "Requirement already satisfied: google-pasta>=0.1.1 in /usr/local/lib/python3.7/dist-packages (from tensorflow>=2.2.0->gpflow) (0.2.0)\n",
            "Requirement already satisfied: opt-einsum>=2.3.2 in /usr/local/lib/python3.7/dist-packages (from tensorflow>=2.2.0->gpflow) (3.3.0)\n",
            "Requirement already satisfied: astunparse>=1.6.0 in /usr/local/lib/python3.7/dist-packages (from tensorflow>=2.2.0->gpflow) (1.6.3)\n",
            "Requirement already satisfied: tensorboard~=2.6 in /usr/local/lib/python3.7/dist-packages (from tensorflow>=2.2.0->gpflow) (2.7.0)\n",
            "Requirement already satisfied: h5py>=2.9.0 in /usr/local/lib/python3.7/dist-packages (from tensorflow>=2.2.0->gpflow) (3.1.0)\n",
            "Requirement already satisfied: tensorflow-estimator<2.8,~=2.7.0rc0 in /usr/local/lib/python3.7/dist-packages (from tensorflow>=2.2.0->gpflow) (2.7.0)\n",
            "Requirement already satisfied: wheel<1.0,>=0.32.0 in /usr/local/lib/python3.7/dist-packages (from tensorflow>=2.2.0->gpflow) (0.37.0)\n",
            "Requirement already satisfied: libclang>=9.0.1 in /usr/local/lib/python3.7/dist-packages (from tensorflow>=2.2.0->gpflow) (12.0.0)\n",
            "Requirement already satisfied: cached-property in /usr/local/lib/python3.7/dist-packages (from h5py>=2.9.0->tensorflow>=2.2.0->gpflow) (1.5.2)\n",
            "Requirement already satisfied: google-auth-oauthlib<0.5,>=0.4.1 in /usr/local/lib/python3.7/dist-packages (from tensorboard~=2.6->tensorflow>=2.2.0->gpflow) (0.4.6)\n",
            "Requirement already satisfied: werkzeug>=0.11.15 in /usr/local/lib/python3.7/dist-packages (from tensorboard~=2.6->tensorflow>=2.2.0->gpflow) (1.0.1)\n",
            "Requirement already satisfied: tensorboard-data-server<0.7.0,>=0.6.0 in /usr/local/lib/python3.7/dist-packages (from tensorboard~=2.6->tensorflow>=2.2.0->gpflow) (0.6.1)\n",
            "Requirement already satisfied: requests<3,>=2.21.0 in /usr/local/lib/python3.7/dist-packages (from tensorboard~=2.6->tensorflow>=2.2.0->gpflow) (2.23.0)\n",
            "Requirement already satisfied: markdown>=2.6.8 in /usr/local/lib/python3.7/dist-packages (from tensorboard~=2.6->tensorflow>=2.2.0->gpflow) (3.3.6)\n",
            "Requirement already satisfied: tensorboard-plugin-wit>=1.6.0 in /usr/local/lib/python3.7/dist-packages (from tensorboard~=2.6->tensorflow>=2.2.0->gpflow) (1.8.0)\n",
            "Requirement already satisfied: google-auth<3,>=1.6.3 in /usr/local/lib/python3.7/dist-packages (from tensorboard~=2.6->tensorflow>=2.2.0->gpflow) (1.35.0)\n",
            "Requirement already satisfied: rsa<5,>=3.1.4 in /usr/local/lib/python3.7/dist-packages (from google-auth<3,>=1.6.3->tensorboard~=2.6->tensorflow>=2.2.0->gpflow) (4.8)\n",
            "Requirement already satisfied: pyasn1-modules>=0.2.1 in /usr/local/lib/python3.7/dist-packages (from google-auth<3,>=1.6.3->tensorboard~=2.6->tensorflow>=2.2.0->gpflow) (0.2.8)\n",
            "Requirement already satisfied: cachetools<5.0,>=2.0.0 in /usr/local/lib/python3.7/dist-packages (from google-auth<3,>=1.6.3->tensorboard~=2.6->tensorflow>=2.2.0->gpflow) (4.2.4)\n",
            "Requirement already satisfied: requests-oauthlib>=0.7.0 in /usr/local/lib/python3.7/dist-packages (from google-auth-oauthlib<0.5,>=0.4.1->tensorboard~=2.6->tensorflow>=2.2.0->gpflow) (1.3.0)\n",
            "Requirement already satisfied: importlib-metadata>=4.4 in /usr/local/lib/python3.7/dist-packages (from markdown>=2.6.8->tensorboard~=2.6->tensorflow>=2.2.0->gpflow) (4.8.2)\n",
            "Requirement already satisfied: zipp>=0.5 in /usr/local/lib/python3.7/dist-packages (from importlib-metadata>=4.4->markdown>=2.6.8->tensorboard~=2.6->tensorflow>=2.2.0->gpflow) (3.6.0)\n",
            "Requirement already satisfied: pyasn1<0.5.0,>=0.4.6 in /usr/local/lib/python3.7/dist-packages (from pyasn1-modules>=0.2.1->google-auth<3,>=1.6.3->tensorboard~=2.6->tensorflow>=2.2.0->gpflow) (0.4.8)\n",
            "Requirement already satisfied: urllib3!=1.25.0,!=1.25.1,<1.26,>=1.21.1 in /usr/local/lib/python3.7/dist-packages (from requests<3,>=2.21.0->tensorboard~=2.6->tensorflow>=2.2.0->gpflow) (1.24.3)\n",
            "Requirement already satisfied: idna<3,>=2.5 in /usr/local/lib/python3.7/dist-packages (from requests<3,>=2.21.0->tensorboard~=2.6->tensorflow>=2.2.0->gpflow) (2.10)\n",
            "Requirement already satisfied: certifi>=2017.4.17 in /usr/local/lib/python3.7/dist-packages (from requests<3,>=2.21.0->tensorboard~=2.6->tensorflow>=2.2.0->gpflow) (2021.10.8)\n",
            "Requirement already satisfied: chardet<4,>=3.0.2 in /usr/local/lib/python3.7/dist-packages (from requests<3,>=2.21.0->tensorboard~=2.6->tensorflow>=2.2.0->gpflow) (3.0.4)\n",
            "Requirement already satisfied: oauthlib>=3.0.0 in /usr/local/lib/python3.7/dist-packages (from requests-oauthlib>=0.7.0->google-auth-oauthlib<0.5,>=0.4.1->tensorboard~=2.6->tensorflow>=2.2.0->gpflow) (3.1.1)\n",
            "Requirement already satisfied: decorator in /usr/local/lib/python3.7/dist-packages (from tensorflow-probability>0.10.0->gpflow) (4.4.2)\n",
            "Requirement already satisfied: cloudpickle>=1.3 in /usr/local/lib/python3.7/dist-packages (from tensorflow-probability>0.10.0->gpflow) (1.3.0)\n",
            "Requirement already satisfied: dm-tree in /usr/local/lib/python3.7/dist-packages (from tensorflow-probability>0.10.0->gpflow) (0.1.6)\n",
            "Requirement already satisfied: pyparsing!=3.0.5,>=2.0.2 in /usr/local/lib/python3.7/dist-packages (from packaging->gpflow) (3.0.6)\n",
            "Installing collected packages: multipledispatch, deprecated, dataclasses, gpflow\n",
            "Successfully installed dataclasses-0.6 deprecated-1.2.13 gpflow-2.3.0 multipledispatch-0.6.0\n",
            "Requirement already satisfied: plotnine in /usr/local/lib/python3.7/dist-packages (0.6.0)\n",
            "Requirement already satisfied: statsmodels>=0.9.0 in /usr/local/lib/python3.7/dist-packages (from plotnine) (0.10.2)\n",
            "Requirement already satisfied: numpy>=1.16.0 in /usr/local/lib/python3.7/dist-packages (from plotnine) (1.19.5)\n",
            "Requirement already satisfied: patsy>=0.4.1 in /usr/local/lib/python3.7/dist-packages (from plotnine) (0.5.2)\n",
            "Requirement already satisfied: descartes>=1.1.0 in /usr/local/lib/python3.7/dist-packages (from plotnine) (1.1.0)\n",
            "Requirement already satisfied: pandas>=0.25.0 in /usr/local/lib/python3.7/dist-packages (from plotnine) (1.1.5)\n",
            "Requirement already satisfied: mizani>=0.6.0 in /usr/local/lib/python3.7/dist-packages (from plotnine) (0.6.0)\n",
            "Requirement already satisfied: matplotlib>=3.1.1 in /usr/local/lib/python3.7/dist-packages (from plotnine) (3.2.2)\n",
            "Requirement already satisfied: scipy>=1.2.0 in /usr/local/lib/python3.7/dist-packages (from plotnine) (1.4.1)\n",
            "Requirement already satisfied: python-dateutil>=2.1 in /usr/local/lib/python3.7/dist-packages (from matplotlib>=3.1.1->plotnine) (2.8.2)\n",
            "Requirement already satisfied: cycler>=0.10 in /usr/local/lib/python3.7/dist-packages (from matplotlib>=3.1.1->plotnine) (0.11.0)\n",
            "Requirement already satisfied: pyparsing!=2.0.4,!=2.1.2,!=2.1.6,>=2.0.1 in /usr/local/lib/python3.7/dist-packages (from matplotlib>=3.1.1->plotnine) (3.0.6)\n",
            "Requirement already satisfied: kiwisolver>=1.0.1 in /usr/local/lib/python3.7/dist-packages (from matplotlib>=3.1.1->plotnine) (1.3.2)\n",
            "Requirement already satisfied: palettable in /usr/local/lib/python3.7/dist-packages (from mizani>=0.6.0->plotnine) (3.3.0)\n",
            "Requirement already satisfied: pytz>=2017.2 in /usr/local/lib/python3.7/dist-packages (from pandas>=0.25.0->plotnine) (2018.9)\n",
            "Requirement already satisfied: six in /usr/local/lib/python3.7/dist-packages (from patsy>=0.4.1->plotnine) (1.15.0)\n",
            "Requirement already satisfied: plotly in /usr/local/lib/python3.7/dist-packages (4.4.1)\n",
            "Requirement already satisfied: retrying>=1.3.3 in /usr/local/lib/python3.7/dist-packages (from plotly) (1.3.3)\n",
            "Requirement already satisfied: six in /usr/local/lib/python3.7/dist-packages (from plotly) (1.15.0)\n"
          ]
        }
      ]
    },
    {
      "cell_type": "code",
      "metadata": {
        "colab": {
          "base_uri": "https://localhost:8080/"
        },
        "id": "0BjPTJxxk0YK",
        "outputId": "0dfb6776-b737-426d-a0b9-398bbc5a3f91"
      },
      "source": [
        "%pip install keras_self_attention\n",
        "%pip install keras-tuner\n",
        "%pip install pycm"
      ],
      "execution_count": null,
      "outputs": [
        {
          "output_type": "stream",
          "name": "stdout",
          "text": [
            "Collecting keras_self_attention\n",
            "  Downloading keras-self-attention-0.50.0.tar.gz (12 kB)\n",
            "Requirement already satisfied: numpy in /usr/local/lib/python3.7/dist-packages (from keras_self_attention) (1.19.5)\n",
            "Requirement already satisfied: Keras in /usr/local/lib/python3.7/dist-packages (from keras_self_attention) (2.7.0)\n",
            "Building wheels for collected packages: keras-self-attention\n",
            "  Building wheel for keras-self-attention (setup.py) ... \u001b[?25l\u001b[?25hdone\n",
            "  Created wheel for keras-self-attention: filename=keras_self_attention-0.50.0-py3-none-any.whl size=19414 sha256=9c3228e4627a45fcaf0e6e7b961e9231ea49b15d242945e32e522ff2d7c967ea\n",
            "  Stored in directory: /root/.cache/pip/wheels/92/7a/a3/231bef5803298e7ec1815215bc0613239cb1e9c03c57b13c14\n",
            "Successfully built keras-self-attention\n",
            "Installing collected packages: keras-self-attention\n",
            "Successfully installed keras-self-attention-0.50.0\n",
            "Collecting keras-tuner\n",
            "  Downloading keras_tuner-1.1.0-py3-none-any.whl (98 kB)\n",
            "\u001b[K     |████████████████████████████████| 98 kB 5.7 MB/s \n",
            "\u001b[?25hRequirement already satisfied: numpy in /usr/local/lib/python3.7/dist-packages (from keras-tuner) (1.19.5)\n",
            "Requirement already satisfied: requests in /usr/local/lib/python3.7/dist-packages (from keras-tuner) (2.23.0)\n",
            "Requirement already satisfied: scipy in /usr/local/lib/python3.7/dist-packages (from keras-tuner) (1.4.1)\n",
            "Requirement already satisfied: packaging in /usr/local/lib/python3.7/dist-packages (from keras-tuner) (21.3)\n",
            "Collecting kt-legacy\n",
            "  Downloading kt_legacy-1.0.4-py3-none-any.whl (9.6 kB)\n",
            "Requirement already satisfied: tensorboard in /usr/local/lib/python3.7/dist-packages (from keras-tuner) (2.7.0)\n",
            "Requirement already satisfied: ipython in /usr/local/lib/python3.7/dist-packages (from keras-tuner) (5.5.0)\n",
            "Requirement already satisfied: pickleshare in /usr/local/lib/python3.7/dist-packages (from ipython->keras-tuner) (0.7.5)\n",
            "Requirement already satisfied: pexpect in /usr/local/lib/python3.7/dist-packages (from ipython->keras-tuner) (4.8.0)\n",
            "Requirement already satisfied: setuptools>=18.5 in /usr/local/lib/python3.7/dist-packages (from ipython->keras-tuner) (57.4.0)\n",
            "Requirement already satisfied: simplegeneric>0.8 in /usr/local/lib/python3.7/dist-packages (from ipython->keras-tuner) (0.8.1)\n",
            "Requirement already satisfied: prompt-toolkit<2.0.0,>=1.0.4 in /usr/local/lib/python3.7/dist-packages (from ipython->keras-tuner) (1.0.18)\n",
            "Requirement already satisfied: decorator in /usr/local/lib/python3.7/dist-packages (from ipython->keras-tuner) (4.4.2)\n",
            "Requirement already satisfied: pygments in /usr/local/lib/python3.7/dist-packages (from ipython->keras-tuner) (2.6.1)\n",
            "Requirement already satisfied: traitlets>=4.2 in /usr/local/lib/python3.7/dist-packages (from ipython->keras-tuner) (5.1.1)\n",
            "Requirement already satisfied: wcwidth in /usr/local/lib/python3.7/dist-packages (from prompt-toolkit<2.0.0,>=1.0.4->ipython->keras-tuner) (0.2.5)\n",
            "Requirement already satisfied: six>=1.9.0 in /usr/local/lib/python3.7/dist-packages (from prompt-toolkit<2.0.0,>=1.0.4->ipython->keras-tuner) (1.15.0)\n",
            "Requirement already satisfied: pyparsing!=3.0.5,>=2.0.2 in /usr/local/lib/python3.7/dist-packages (from packaging->keras-tuner) (3.0.6)\n",
            "Requirement already satisfied: ptyprocess>=0.5 in /usr/local/lib/python3.7/dist-packages (from pexpect->ipython->keras-tuner) (0.7.0)\n",
            "Requirement already satisfied: idna<3,>=2.5 in /usr/local/lib/python3.7/dist-packages (from requests->keras-tuner) (2.10)\n",
            "Requirement already satisfied: certifi>=2017.4.17 in /usr/local/lib/python3.7/dist-packages (from requests->keras-tuner) (2021.10.8)\n",
            "Requirement already satisfied: urllib3!=1.25.0,!=1.25.1,<1.26,>=1.21.1 in /usr/local/lib/python3.7/dist-packages (from requests->keras-tuner) (1.24.3)\n",
            "Requirement already satisfied: chardet<4,>=3.0.2 in /usr/local/lib/python3.7/dist-packages (from requests->keras-tuner) (3.0.4)\n",
            "Requirement already satisfied: grpcio>=1.24.3 in /usr/local/lib/python3.7/dist-packages (from tensorboard->keras-tuner) (1.42.0)\n",
            "Requirement already satisfied: google-auth-oauthlib<0.5,>=0.4.1 in /usr/local/lib/python3.7/dist-packages (from tensorboard->keras-tuner) (0.4.6)\n",
            "Requirement already satisfied: markdown>=2.6.8 in /usr/local/lib/python3.7/dist-packages (from tensorboard->keras-tuner) (3.3.6)\n",
            "Requirement already satisfied: tensorboard-plugin-wit>=1.6.0 in /usr/local/lib/python3.7/dist-packages (from tensorboard->keras-tuner) (1.8.0)\n",
            "Requirement already satisfied: tensorboard-data-server<0.7.0,>=0.6.0 in /usr/local/lib/python3.7/dist-packages (from tensorboard->keras-tuner) (0.6.1)\n",
            "Requirement already satisfied: werkzeug>=0.11.15 in /usr/local/lib/python3.7/dist-packages (from tensorboard->keras-tuner) (1.0.1)\n",
            "Requirement already satisfied: wheel>=0.26 in /usr/local/lib/python3.7/dist-packages (from tensorboard->keras-tuner) (0.37.0)\n",
            "Requirement already satisfied: absl-py>=0.4 in /usr/local/lib/python3.7/dist-packages (from tensorboard->keras-tuner) (0.12.0)\n",
            "Requirement already satisfied: google-auth<3,>=1.6.3 in /usr/local/lib/python3.7/dist-packages (from tensorboard->keras-tuner) (1.35.0)\n",
            "Requirement already satisfied: protobuf>=3.6.0 in /usr/local/lib/python3.7/dist-packages (from tensorboard->keras-tuner) (3.17.3)\n",
            "Requirement already satisfied: cachetools<5.0,>=2.0.0 in /usr/local/lib/python3.7/dist-packages (from google-auth<3,>=1.6.3->tensorboard->keras-tuner) (4.2.4)\n",
            "Requirement already satisfied: pyasn1-modules>=0.2.1 in /usr/local/lib/python3.7/dist-packages (from google-auth<3,>=1.6.3->tensorboard->keras-tuner) (0.2.8)\n",
            "Requirement already satisfied: rsa<5,>=3.1.4 in /usr/local/lib/python3.7/dist-packages (from google-auth<3,>=1.6.3->tensorboard->keras-tuner) (4.8)\n",
            "Requirement already satisfied: requests-oauthlib>=0.7.0 in /usr/local/lib/python3.7/dist-packages (from google-auth-oauthlib<0.5,>=0.4.1->tensorboard->keras-tuner) (1.3.0)\n",
            "Requirement already satisfied: importlib-metadata>=4.4 in /usr/local/lib/python3.7/dist-packages (from markdown>=2.6.8->tensorboard->keras-tuner) (4.8.2)\n",
            "Requirement already satisfied: zipp>=0.5 in /usr/local/lib/python3.7/dist-packages (from importlib-metadata>=4.4->markdown>=2.6.8->tensorboard->keras-tuner) (3.6.0)\n",
            "Requirement already satisfied: typing-extensions>=3.6.4 in /usr/local/lib/python3.7/dist-packages (from importlib-metadata>=4.4->markdown>=2.6.8->tensorboard->keras-tuner) (3.10.0.2)\n",
            "Requirement already satisfied: pyasn1<0.5.0,>=0.4.6 in /usr/local/lib/python3.7/dist-packages (from pyasn1-modules>=0.2.1->google-auth<3,>=1.6.3->tensorboard->keras-tuner) (0.4.8)\n",
            "Requirement already satisfied: oauthlib>=3.0.0 in /usr/local/lib/python3.7/dist-packages (from requests-oauthlib>=0.7.0->google-auth-oauthlib<0.5,>=0.4.1->tensorboard->keras-tuner) (3.1.1)\n",
            "Installing collected packages: kt-legacy, keras-tuner\n",
            "Successfully installed keras-tuner-1.1.0 kt-legacy-1.0.4\n",
            "Collecting pycm\n",
            "  Downloading pycm-3.3-py2.py3-none-any.whl (65 kB)\n",
            "\u001b[K     |████████████████████████████████| 65 kB 3.7 MB/s \n",
            "\u001b[?25hRequirement already satisfied: numpy>=1.9.0 in /usr/local/lib/python3.7/dist-packages (from pycm) (1.19.5)\n",
            "Collecting art>=1.8\n",
            "  Downloading art-5.3-py2.py3-none-any.whl (574 kB)\n",
            "\u001b[K     |████████████████████████████████| 574 kB 33.7 MB/s \n",
            "\u001b[?25hInstalling collected packages: art, pycm\n",
            "Successfully installed art-5.3 pycm-3.3\n"
          ]
        }
      ]
    },
    {
      "cell_type": "code",
      "metadata": {
        "id": "EfIU_eNp3Zio"
      },
      "source": [
        "from plotnine import *\n",
        "from plotnine.themes import *\n",
        "import plotly as py\n",
        "import plotly.graph_objs as go\n",
        "import pandas as pd\n"
      ],
      "execution_count": null,
      "outputs": []
    },
    {
      "cell_type": "code",
      "metadata": {
        "id": "ZmUjYbArAuQT"
      },
      "source": [
        "import tensorflow as tf\n",
        "from scipy.io import loadmat\n",
        "import random\n",
        "import math\n",
        "import tensorflow_probability as tfp"
      ],
      "execution_count": null,
      "outputs": []
    },
    {
      "cell_type": "code",
      "metadata": {
        "id": "Fg0OYkHWkvbj"
      },
      "source": [
        "import tensorflow as tf\n",
        "import numpy as np\n",
        "from tensorflow.keras.layers import  Dense, Flatten, Activation, Dropout, Embedding, Conv1D, MaxPooling1D, GRU\n",
        "from tensorflow.keras.layers import LSTM, TimeDistributed, Permute,Reshape, Lambda, RepeatVector, Input,Multiply\n",
        "from tensorflow.keras.layers import  Dense, Flatten, Activation, Dropout, Embedding, Conv1D, Conv2D, MaxPooling2D, MaxPooling1D, Concatenate, BatchNormalization, GaussianNoise\n",
        "from tensorflow.keras.layers import SimpleRNN, GRU, LeakyReLU\n",
        "from tensorflow.keras.layers import Concatenate, Average \n",
        "from tensorflow.keras.models import Sequential, load_model, Model\n",
        "from tensorflow.keras.utils import to_categorical\n",
        "from tensorflow.keras.layers import  Bidirectional\n",
        "from timeit import default_timer as timer\n",
        "import h5py as h5\n",
        "import matplotlib.pyplot as plt\n",
        "from tensorflow.keras.models import Model\n",
        "import errno\n",
        "from tensorflow.keras.applications.imagenet_utils import decode_predictions\n",
        "import random\n",
        "import warnings\n",
        "import gpflow\n",
        "from gpflow.utilities import ops, print_summary, set_trainable\n",
        "from gpflow.config import set_default_float, default_float, set_default_summary_fmt\n",
        "from gpflow.ci_utils import ci_niter\n",
        "import warnings\n",
        "from functools import partial\n",
        "from multiprocessing import Pool, cpu_count\n",
        "from tensorflow.keras.layers import  Dense, Flatten, Activation, Dropout, Embedding, Conv1D, Conv2D, MaxPooling2D, MaxPooling1D, Concatenate, BatchNormalization, GaussianNoise\n",
        "from tensorflow.keras.layers import LSTM, TimeDistributed, Permute, Reshape, Lambda, RepeatVector, Input, Multiply, SimpleRNN, GRU, LeakyReLU\n",
        "from keras_self_attention import SeqSelfAttention, SeqWeightedAttention\n",
        "from tensorflow.keras import regularizers\n",
        "import os\n",
        "from collections import defaultdict\n",
        "from tensorflow.keras.callbacks import ModelCheckpoint, TensorBoard\n",
        "import keras_tuner as kt"
      ],
      "execution_count": null,
      "outputs": []
    },
    {
      "cell_type": "markdown",
      "metadata": {
        "id": "PieVKPfHHYQ6"
      },
      "source": [
        "_paper_name_ establishes the reusable name of the paper, it represents the directory under data_papers on the google drive"
      ]
    },
    {
      "cell_type": "code",
      "metadata": {
        "id": "BI4p7ZKb0Qz2"
      },
      "source": [
        "paper_name = \"test13\""
      ],
      "execution_count": null,
      "outputs": []
    },
    {
      "cell_type": "code",
      "metadata": {
        "id": "433z6V3T2rB2"
      },
      "source": [
        "import os, sys\n",
        "import errno\n",
        "\n",
        "# make a directory if it does not exist\n",
        "def make_dir_if_not_exist(used_path):\n",
        "    if not os.path.isdir(used_path):\n",
        "        try:\n",
        "            os.mkdir(used_path)\n",
        "        except OSError as exc:\n",
        "            if exc.errno != errno.EEXIST:\n",
        "                raise exc\n",
        "            else:\n",
        "                raise ValueError(f'{used_path} directoy cannot be created because its parent directory does not exist.')\n",
        "\n",
        "# make directories if they do not exist\n",
        "\n",
        "make_dir_if_not_exist(\"/content/drive/MyDrive/data_papers/\")\n",
        "make_dir_if_not_exist(f\"/content/drive/MyDrive/data_papers/{paper_name}\")\n",
        "make_dir_if_not_exist(f\"/content/drive/MyDrive/data_papers/{paper_name}/model_features/\")\n",
        "make_dir_if_not_exist(f\"/content/drive/MyDrive/data_papers/{paper_name}/model_checkpoints/\")\n",
        "make_dir_if_not_exist(f\"/content/drive/MyDrive/data_papers/{paper_name}/model_history/\")\n",
        "make_dir_if_not_exist(f\"/content/drive/MyDrive/data_papers/{paper_name}/model_finals/\")\n",
        "make_dir_if_not_exist(f\"/content/drive/MyDrive/data_papers/{paper_name}/gp_collab/\")\n",
        "make_dir_if_not_exist(f\"/content/drive/MyDrive/data_papers/{paper_name}/model_predictions/\")\n",
        "make_dir_if_not_exist(f\"/content/drive/MyDrive/data_papers/{paper_name}/model_ccs/\")\n",
        "make_dir_if_not_exist(f\"/content/drive/MyDrive/data_papers/{paper_name}/model_tb/\")\n",
        "make_dir_if_not_exist(f\"/content/drive/MyDrive/data_papers/{paper_name}/summary_results/\")\n",
        "make_dir_if_not_exist(f\"/content/drive/MyDrive/data_papers/{paper_name}/summary_results/temp/\")"
      ],
      "execution_count": null,
      "outputs": []
    },
    {
      "cell_type": "markdown",
      "metadata": {
        "id": "IufmBnPeB50P"
      },
      "source": [
        "\n",
        "This will use the Test13 dataset\n",
        "\n",
        "* A. Fiannaca, M. La Rosa, L. La Paglia, R. Rizzo, and A. Urso. Nrc: Non-coding rna classifier based on structural features. BioData Mining, 10, 08 2017. doi: 10.1186/s13040-017-0148-2.\n",
        "\n",
        "The orginal loading of the data is from : e2e_dataprocess_from_fasta_example.ipynb\n",
        "\n"
      ]
    },
    {
      "cell_type": "code",
      "metadata": {
        "id": "0yCKQpti4HWJ"
      },
      "source": [
        "data_location = f'/content/drive/MyDrive/data_papers/{paper_name}'"
      ],
      "execution_count": null,
      "outputs": []
    },
    {
      "cell_type": "code",
      "metadata": {
        "id": "M7--mKqbEhZZ"
      },
      "source": [
        "# Run this cell to load the dataset\n",
        "INPUT_DIM = 8    # \n",
        "\n",
        "hf_Train = h5.File(f'{data_location}/Fold_10_Train_Data_1000.h5', 'r')\n",
        "hf_Test = h5.File(f'{data_location}/Fold_10_Test_Data_1000.h5', 'r')\n",
        "\n",
        "X_train = hf_Train['Train_Data'] # Get train set\n",
        "X_train = np.array(X_train)\n",
        "Y_train = hf_Train['Label']      # Get train label\n",
        "Y_train = np.array(Y_train)\n",
        "\n",
        "X_test = hf_Test['Train_Data']     # Get test set\n",
        "X_test = np.array(X_test)\n",
        "Y_test = hf_Test['Label']       # Get test label\n",
        "Y_test = np.array(Y_test)\n",
        "\n",
        "Y_train = to_categorical(Y_train, 13)  # Process the label of tain\n",
        "Y_test = to_categorical(Y_test, 13)    #  Process the label of te\n",
        "\n",
        "def coShuffled_vectors(X,Y):\n",
        "    if tf.shape(X)[0] ==  tf.shape(Y)[0]:\n",
        "        test_idxs = tf.range(start=0, limit=tf.shape(X)[0], dtype=tf.int32)\n",
        "        shuffled_test_idxs = tf.random.shuffle(test_idxs)\n",
        "        return ( tf.gather(X, shuffled_test_idxs), tf.gather(Y, shuffled_test_idxs) )\n",
        "    else:\n",
        "        raise ValueError(f\"0-dimension has to be the same {tf.shape(X)[0]} != {tf.shape(Y)[0]}\")\n",
        "\n",
        "X_test_shuffled, Y_test_shuffled = coShuffled_vectors(np.array(hf_Test['Train_Data']), to_categorical(np.array(hf_Test['Label']),13))\n",
        "X_train_shuffled, Y_train_shuffled = coShuffled_vectors(np.array(hf_Train['Train_Data']), to_categorical(np.array(hf_Train['Label']),13))\n",
        "\n"
      ],
      "execution_count": null,
      "outputs": []
    },
    {
      "cell_type": "code",
      "metadata": {
        "id": "6b7tNfakowYM"
      },
      "source": [
        "def plot_history(history):\n",
        "    acc_keys = [k for k in history.history.keys() if k in ('accuracy', 'val_accuracy')] \n",
        "    loss_keys = [k for k in history.history.keys() if not k in acc_keys]\n",
        "    for k, v in history.history.items():\n",
        "        if k in acc_keys:\n",
        "            plt.figure(1)\n",
        "            plt.plot(v)\n",
        "        else:\n",
        "            plt.figure(2)\n",
        "            plt.plot(v)\n",
        "    plt.figure(1)\n",
        "    plt.title('Accuracy vs. epochs')\n",
        "    plt.ylabel('Accuracy')\n",
        "    plt.xlabel('Epoch')\n",
        "    plt.legend(acc_keys, loc='upper right')\n",
        "    plt.figure(2)\n",
        "    plt.title('Loss vs. epochs')\n",
        "    plt.ylabel('Loss')\n",
        "    plt.xlabel('Epoch')\n",
        "    plt.legend(loss_keys, loc='upper right')\n",
        "    plt.show()\n",
        "\n"
      ],
      "execution_count": null,
      "outputs": []
    },
    {
      "cell_type": "code",
      "metadata": {
        "id": "t5hVSGiwo3t_"
      },
      "source": [
        "\n",
        "def get_layer_by_name(layers, name, return_first = True):\n",
        "    matching_named_layers = [ l for l in layers if l.name==name]\n",
        "    if not matching_named_layers:\n",
        "        return None\n",
        "    return matching_named_layers[0] if return_first else matching_named_layers\n",
        "\n",
        "\n",
        "def get_combined_features_from_models(\n",
        "        to_combine, \n",
        "        X_train, Y_train, \n",
        "        X_test, Y_test,\n",
        "        reverse_one_hot = False,\n",
        "        normalize_X_func = None):\n",
        "    \n",
        "    models = dict()\n",
        "    X_trains_out = []\n",
        "    X_test_out = []\n",
        "    XY_dict = defaultdict(lambda: defaultdict(lambda: defaultdict(lambda: defaultdict(lambda: None))))\n",
        "    \n",
        "    if reverse_one_hot:\n",
        "        Y_train_new = np.apply_along_axis(np.argmax, 1, Y_train) + 1  \n",
        "        Y_test_new = np.apply_along_axis(np.argmax, 1, Y_test) + 1 \n",
        "    else:\n",
        "        Y_train_new = Y_train.copy()\n",
        "        Y_test_new = Y_test.copy()\n",
        "    \n",
        "    for model_file_name, layer_name, kwargs in to_combine:\n",
        "        model_here = None\n",
        "        if isinstance(model_file_name, tf.keras.models.Model):\n",
        "            model_here = model_file_name\n",
        "            model_file_name = model_here.name\n",
        "        else:\n",
        "            if model_file_name in models.keys():\n",
        "                model_here = models[model_file_name]\n",
        "            else:\n",
        "                model_here = tf.keras.models.load_model(model_file_name, **kwargs) if kwargs is not None else tf.keras.models.load_model(model_file_name)\n",
        "        features_model = Model(model_here.input, \n",
        "                               get_layer_by_name(model_here.layers,layer_name).output)\n",
        "        if normalize_X_func is None:\n",
        "            X_trains_out.append(np.array(features_model.predict(X_train), dtype='float64'))\n",
        "            X_test_out.append(np.array(features_model.predict(X_test), dtype='float64'))\n",
        "        else:\n",
        "            X_trains_out.append(np.array(normalize_X_func(features_model.predict(X_train)), dtype='float64'))\n",
        "            X_test_out.append(np.array(normalize_X_func(features_model.predict(X_test)), dtype='float64'))\n",
        "        XY_dict[model_file_name][layer_name]['Train']['X'] = X_trains_out[-1]\n",
        "        XY_dict[model_file_name][layer_name]['Test']['X'] = X_test_out[-1]\n",
        "        XY_dict[model_file_name][layer_name]['Train']['Y'] = Y_train_new\n",
        "        XY_dict[model_file_name][layer_name]['Test']['Y'] = Y_test_new\n",
        "        models[model_file_name] = model_here            \n",
        "        \n",
        "    X_train_new = np.concatenate(tuple(X_trains_out), axis = 1)\n",
        "    X_test_new = np.concatenate(tuple(X_test_out), axis = 1)\n",
        "    \n",
        "    data_train = (X_train_new, Y_train_new)\n",
        "    data_test = (X_test_new, Y_test_new)    \n",
        "    \n",
        "        \n",
        "    return (models, data_train, data_test,XY_dict)\n",
        "\n"
      ],
      "execution_count": null,
      "outputs": []
    },
    {
      "cell_type": "code",
      "metadata": {
        "id": "OyVEfMk4pDEa"
      },
      "source": [
        "def run_and_save_model(model_func, X_train, Y_train, kwargs):    \n",
        "    m = model_func()\n",
        "    m.compile(loss='categorical_crossentropy', optimizer = 'adam', metrics=['accuracy'])\n",
        "    history = m.fit(X_train, Y_train, **kwargs) \n",
        "    m.save(f\"{m.name}_Tenth_Fold_New_Model_500_8\") #Save the model\n"
      ],
      "execution_count": null,
      "outputs": []
    },
    {
      "cell_type": "code",
      "metadata": {
        "colab": {
          "base_uri": "https://localhost:8080/"
        },
        "id": "qxNjkxgjxc5y",
        "outputId": "839c0593-06e0-491a-c53f-b0934a7ea558"
      },
      "source": [
        "import tensorflow as tf\n",
        "from tensorflow.keras.utils import to_categorical\n",
        "import h5py as h5\n",
        "import matplotlib.pyplot as plt\n",
        "from tensorflow.keras.models import Model\n",
        "from tensorflow.keras.layers import Conv1D, LeakyReLU, MaxPooling1D, BatchNormalization, GaussianNoise, Dropout, Dense, Flatten\n",
        "import errno\n",
        "import os\n",
        "from collections import defaultdict\n",
        "from tensorflow.keras.callbacks import ModelCheckpoint, TensorBoard\n",
        "from tensorflow.summary import create_file_writer\n",
        "from sklearn.model_selection import train_test_split\n",
        "from sklearn.metrics import confusion_matrix\n",
        "import kerastuner as kt\n",
        "from kerastuner import HyperModel\n",
        "import numpy as np\n",
        "import itertools\n",
        "import multiprocessing\n",
        "from numpy import genfromtxt\n",
        "import seaborn as sns\n",
        "from sklearn.metrics import precision_recall_fscore_support\n",
        "from pycm import ConfusionMatrix"
      ],
      "execution_count": null,
      "outputs": [
        {
          "output_type": "stream",
          "name": "stderr",
          "text": [
            "/usr/local/lib/python3.7/dist-packages/ipykernel_launcher.py:14: DeprecationWarning:\n",
            "\n",
            "`import kerastuner` is deprecated, please use `import keras_tuner`.\n",
            "\n"
          ]
        }
      ]
    },
    {
      "cell_type": "code",
      "metadata": {
        "colab": {
          "base_uri": "https://localhost:8080/"
        },
        "id": "aWfKrF40X4gX",
        "outputId": "e55d2998-01a7-49b4-d90e-1b50f655e73b"
      },
      "source": [
        "data_location"
      ],
      "execution_count": null,
      "outputs": [
        {
          "output_type": "execute_result",
          "data": {
            "application/vnd.google.colaboratory.intrinsic+json": {
              "type": "string"
            },
            "text/plain": [
              "'/content/drive/MyDrive/data_papers/test13'"
            ]
          },
          "metadata": {},
          "execution_count": 15
        }
      ]
    },
    {
      "cell_type": "code",
      "metadata": {
        "id": "87ma654Ixu3f"
      },
      "source": [
        "\n",
        "def coShuffled_vectors(X, Y):\n",
        "    if tf.shape(X)[0] == tf.shape(Y)[0]:\n",
        "        test_idxs = tf.range(start=0, limit=tf.shape(X)[0], dtype=tf.int32)\n",
        "        shuffled_test_idxs = tf.random.shuffle(test_idxs)\n",
        "        return (tf.gather(X, shuffled_test_idxs), tf.gather(Y, shuffled_test_idxs))\n",
        "    else:\n",
        "        raise ValueError(f\"0-dimension has to be the same {tf.shape(X)[0]} != {tf.shape(Y)[0]}\")\n",
        "\n",
        "def reverse_one_hot(Y_input):\n",
        "    return np.apply_along_axis(np.argmax, 1, Y_input) + 1\n",
        "\n",
        "def getNpArrayFromH5(hf_Data):\n",
        "    X_train = hf_Data['Train_Data']  # Get train set\n",
        "    X_train = np.array(X_train)\n",
        "    Y_train = hf_Data['Label']  # Get train label\n",
        "    Y_train = np.array(Y_train)\n",
        "    return X_train, Y_train\n",
        "\n",
        "def get_confusion_matrix_classification(model, X, Y_true):\n",
        "    y_pred = model.predict(X)\n",
        "    y_true = np.apply_along_axis(np.argmax, 1, Y_true)\n",
        "    y_pred = np.apply_along_axis(np.argmax, 1, y_pred)\n",
        "    return (confusion_matrix(y_true, y_pred), y_pred, y_true)\n",
        "\n",
        "def misclass_perc_to_weight(input_confusion, add_base=True, func=None):\n",
        "    perc_misclassified = 1.0 - np.array([ input_confusion[x,x] for x in np.arange(input_confusion.shape[0]).tolist() ])/input_confusion.sum(axis=1)\n",
        "    \n",
        "    base_val = min(perc_misclassified[perc_misclassified>0.0])\n",
        "    if add_base:        \n",
        "        perc_misclassified = perc_misclassified + base_val\n",
        "    \n",
        "    perc_misclassified = [ x/base_val for x in perc_misclassified]\n",
        "    return dict([ (idx, func(perc_val)) if func is not None else (idx, perc_val) for idx, perc_val in enumerate(perc_misclassified) ])\n",
        "\n",
        "def prf(model,xtest, ytest):\n",
        "  y_pred = np.apply_along_axis(np.argmax, 1, model.predict(xtest))\n",
        "  y_true = np.apply_along_axis(np.argmax, 1, ytest)\n",
        "  return precision_recall_fscore_support(y_true, y_pred, average=\"weighted\")\n",
        "\n",
        "def get_sp_pr_rc_f1(model,xtest, ytest):  \n",
        "    y_pred = np.apply_along_axis(np.argmax, 1, model.predict(xtest))\n",
        "    y_true = np.apply_along_axis(np.argmax, 1, ytest)\n",
        "    cmres = ConfusionMatrix(actual_vector=y_true,predict_vector=y_pred)\n",
        "    pr, rc, f1, _ = precision_recall_fscore_support(y_true, y_pred, average=\"weighted\")   \n",
        "    return cmres.TNR_Macro, pr, rc, f1\n",
        " \n",
        "def get_sp_pr_rc_f1_acc(model,xtest, ytest):  \n",
        "    spec, pr, rc, f1 = get_sp_pr_rc_f1(model,xtest, ytest)\n",
        "    acc = model.evaluate(xtest,ytest)[-1]        \n",
        "    return spec, pr, rc, f1, acc\n",
        "\n"
      ],
      "execution_count": null,
      "outputs": []
    },
    {
      "cell_type": "code",
      "metadata": {
        "id": "1dd-0iNNhk3t"
      },
      "source": [
        "def plot_history(history):\n",
        "    acc_keys = [k for k in history.history.keys() if k in ('accuracy', 'val_accuracy')]\n",
        "    loss_keys = [k for k in history.history.keys() if not k in acc_keys]\n",
        "    for k, v in history.history.items():\n",
        "        if k in acc_keys:\n",
        "            plt.figure(1)\n",
        "            plt.plot(v)\n",
        "        else:\n",
        "            plt.figure(2)\n",
        "            plt.plot(v)\n",
        "    plt.figure(1)\n",
        "    plt.title('Accuracy vs. epochs')\n",
        "    plt.ylabel('Accuracy')\n",
        "    plt.xlabel('Epoch')\n",
        "    plt.legend(acc_keys, loc='lower right')\n",
        "    plt.figure(2)\n",
        "    plt.title('Loss vs. epochs')\n",
        "    plt.ylabel('Loss')\n",
        "    plt.xlabel('Epoch')\n",
        "    plt.legend(loss_keys, loc='upper right')\n",
        "    plt.show()\n",
        "\n",
        "\n",
        "def get_layer_by_name(layers, name, return_first=True):\n",
        "    matching_named_layers = [l for l in layers if l.name == name]\n",
        "    if not matching_named_layers:\n",
        "        return None\n",
        "    return matching_named_layers[0] if return_first else matching_named_layers\n",
        "\n",
        "\n",
        "def make_dir_if_not_exist(used_path):\n",
        "    if not os.path.isdir(used_path):\n",
        "        try:\n",
        "            os.mkdir(used_path)\n",
        "        except OSError as exc:\n",
        "            if exc.errno != errno.EEXIST:\n",
        "                raise exc\n",
        "            else:\n",
        "                raise ValueError(f'{used_path} directoy cannot be created because its parent directory does not exist.')\n",
        "\n",
        "\n",
        "def source_model(model_func, model_name, input_shape):\n",
        "    m = None\n",
        "    if isinstance(model_func, tf.keras.models.Model):\n",
        "        m = model_func\n",
        "        m._name = model_name\n",
        "    else:\n",
        "        m = model_func(model_name, input_shape)\n",
        "    return m\n"
      ],
      "execution_count": null,
      "outputs": []
    },
    {
      "cell_type": "code",
      "metadata": {
        "id": "iTv646yChscq"
      },
      "source": [
        "\n",
        "\n",
        "def compile_and_fit_model_with_tb(model_func,\n",
        "                                  model_name,\n",
        "                                  input_shape,\n",
        "                                  X_train,\n",
        "                                  Y_train,\n",
        "                                  save_every_epoch=True,\n",
        "                                  save_final=False,\n",
        "                                  **kwargs):\n",
        "    m = None\n",
        "    if isinstance(model_func, tf.keras.models.Model):\n",
        "        m = model_func\n",
        "        m._name = model_name\n",
        "    else:\n",
        "        m = model_func(model_name, input_shape)\n",
        "    tb_callback = TensorBoard(log_dir=f'{m.name}_logs', histogram_freq=kwargs.pop(\"histogram_freq\", 1))\n",
        "    if save_every_epoch:\n",
        "        tb_callback.append(ModelCheckpoint(f'{m.name}' + '_model_{epoch:03d}_{val_accuracy:0.2f}'))\n",
        "    m.compile(loss='categorical_crossentropy', optimizer='adam', metrics=['accuracy'])\n",
        "    history = m.fit(X_train, Y_train, callbacks=[tb_callback], verbose=2, **kwargs)\n",
        "    if save_final:\n",
        "        make_dir_if_not_exist(model_name)\n",
        "        m.save(f\"{m.name}_saved_model_after_fit\")  # Save the model\n",
        "    return (m, history)\n",
        "    # m.save(f\"{m.name}_Tenth_Fold_New_Model_500_8\") #Save the model\n",
        "\n",
        "\n",
        "def compile_model_and_fit_with_custom_loop(model_func,\n",
        "                                           model_name,\n",
        "                                           input_shape,\n",
        "                                           X_train,\n",
        "                                           Y_train,\n",
        "                                           **kwargs):\n",
        "    make_dir_if_not_exist(model_name)\n",
        "    m = None\n",
        "    if isinstance(model_func, tf.keras.models.Model):\n",
        "        m = model_func\n",
        "        m._name = model_name\n",
        "    else:\n",
        "        m = model_func(model_name, input_shape)\n",
        "\n",
        "    train_writer = create_file_writer(f'{m.name}_logs/train/')\n",
        "    test_writer = create_file_writer(f'{m.name}_logs/test/')\n",
        "    train_step = test_step = 0\n",
        "\n",
        "    acc_metric = tf.keras.metrics.CategoricalAccuracy()\n",
        "    optimizer = tf.keras.optimizers.Adam()\n",
        "    num_epochs = kwargs.get(\"epochs\", 10)\n",
        "\n",
        "    AUTOTUNE = tf.data.experimental.AUTOTUNE\n",
        "    BATCH_SIZE = kwargs.get(\"batch_size\", 32)\n",
        "    X_test, Y_test = kwargs.get(\"validation_data\", (None, None))\n",
        "    if X_test is None:\n",
        "        raise ValueError(\"Missing X validation data\")\n",
        "    if Y_test is None:\n",
        "        raise ValueError(\"Missing Y validation data\")\n",
        "\n",
        "    train_dataset_tf = tf.data.Dataset.from_tensor_slices((X_train, Y_train))\n",
        "    train_dataset_tf = train_dataset_tf.batch(BATCH_SIZE)\n",
        "    train_dataset_tf = train_dataset_tf.prefetch(AUTOTUNE)\n",
        "\n",
        "    test_dataset_tf = tf.data.Dataset.from_tensor_slices((X_test, Y_test))\n",
        "    test_dataset_tf = train_dataset_tf.batch(BATCH_SIZE)\n",
        "    test_dataset_tf = train_dataset_tf.prefetch(AUTOTUNE)\n",
        "\n",
        "    loss_fn = tf.keras.losses.CategoricalCrossentropy()\n",
        "\n",
        "    for epoch in range(num_epochs):\n",
        "        # Iterate through training set\n",
        "        for batch_idx, (x, y) in enumerate(train_dataset_tf):\n",
        "            with tf.GradientTape() as tape:\n",
        "                y_pred = m(x, training=True)\n",
        "                loss = loss_fn(y, y_pred)\n",
        "\n",
        "            gradients = tape.gradient(loss, m.trainable_weights)\n",
        "            optimizer.apply_gradients(zip(gradients, m.trainable_weights))\n",
        "            acc_metric.update_state(y, y_pred)\n",
        "\n",
        "            with train_writer.as_default():\n",
        "                tf.summary.scalar(\"Loss\", loss, step=train_step)\n",
        "                tf.summary.scalar(\n",
        "                    \"Accuracy\", acc_metric.result(), step=train_step,\n",
        "                )\n",
        "                train_step += 1\n",
        "        # Reset accuracy in between epochs (and for testing and test)\n",
        "        acc_metric.reset_states()\n",
        "        # Iterate through test set\n",
        "        for batch_idx, (x, y) in enumerate(test_dataset_tf):\n",
        "            y_pred = m(x, training=False)\n",
        "            loss = loss_fn(y, y_pred)\n",
        "            acc_metric.update_state(y, y_pred)\n",
        "            with test_writer.as_default():\n",
        "                tf.summary.scalar(\"Loss\", loss, step=test_step)\n",
        "                tf.summary.scalar(\n",
        "                    \"Accuracy\", acc_metric.result(), step=test_step,\n",
        "                )\n",
        "                test_step += 1\n",
        "\n",
        "        acc_metric.reset_states()  # Reset accuracy in between epochs (and for testing and test)\n",
        "\n",
        "    return m\n",
        "\n",
        "\n",
        "\n",
        "def run_mirrored_strategy(model_func, base_batch_size, nepochs, x_train, y_train, x_test, y_test, **kwargs):\n",
        "    strategy = tf.distribute.MirroredStrategy()\n",
        "    with strategy.scope():\n",
        "        model = model_func()\n",
        "        model.compile(\n",
        "            optimizer=tf.keras.optimizers.Adam(),\n",
        "            loss=tf.keras.losses.SparseCategoricalCrossentropy(from_logits=True),\n",
        "            metrics=tf.keras.metrics.SparseCategoricalAccuracy()\n",
        "        )\n",
        "    batch_size_mirr_strat = base_batch_size * strategy.num_replicas_in_sync\n",
        "    history = model.fit(x_train, y_train, epochs=nepochs, batch_size=batch_size_mirr_strat,\n",
        "                        validation_data=(x_test, y_test),\n",
        "                        **kwargs)\n",
        "    return model, history\n",
        "\n",
        "\n",
        "def sparse_setdiff(a1, a2):\n",
        "    a1a = a1.reshape(a1.shape[0], -1)\n",
        "    a2a = a2.reshape(a2.shape[0], -1)\n",
        "    spa2a = [np.where(x)[0].tolist() for x in a2a]\n",
        "    spa1a = [np.where(x)[0].tolist() for x in a1a]\n",
        "    idxs_to_keep = []\n",
        "    for idx, sample in enumerate(spa1a):\n",
        "        try:\n",
        "            spa2a.index(sample)\n",
        "        except ValueError:\n",
        "            # not in list\n",
        "            idxs_to_keep.append(idx)\n",
        "    return a1[idxs_to_keep], idxs_to_keep\n",
        "\n",
        "\n",
        "\n",
        "def reinitialize_weights(model):\n",
        "    for ix, layer in enumerate(model.layers):\n",
        "        if hasattr(model.layers[ix], 'kernel_initializer') and hasattr(model.layers[ix], 'bias_initializer'):\n",
        "            weight_initializer = model.layers[ix].kernel_initializer\n",
        "            bias_initializer = model.layers[ix].bias_initializer\n",
        "    \n",
        "            old_weights, old_biases = model.layers[ix].get_weights()\n",
        "    \n",
        "            model.layers[ix].set_weights([\n",
        "                weight_initializer(shape=old_weights.shape),\n",
        "                bias_initializer(shape=len(old_biases))])            \n",
        "    return model\n",
        "\n",
        "def reverse_tensor(X):\n",
        "    return tf.gather(X, tf.reverse(tf.range(start=0, limit=tf.shape(X)[0], dtype=tf.int32),(0,)) )\n",
        "\n",
        "def get_combined_features_from_models(\n",
        "    \n",
        "        to_combine,\n",
        "        X_train, Y_train,\n",
        "        X_test, Y_test,\n",
        "        reverse_one_hot=False,\n",
        "        normalize_X_func=None):\n",
        "    \n",
        "    models = []\n",
        "    models_dict = {}\n",
        "    X_trains_out = []\n",
        "    X_test_out = []\n",
        "    XY_dict = defaultdict(lambda: defaultdict(lambda: defaultdict(lambda: defaultdict(lambda: None))))\n",
        "\n",
        "    models_have_different_inputs = isinstance(Y_train,list)\n",
        "\n",
        "    if reverse_one_hot:\n",
        "        if models_have_different_inputs:\n",
        "            Y_train_new = np.apply_along_axis(np.argmax, 1, Y_train) + 1\n",
        "            Y_test_new = np.apply_along_axis(np.argmax, 1, Y_test) + 1\n",
        "        else:\n",
        "            Y_train_new = [ np.apply_along_axis(np.argmax, 1, y_train) + 1 for y_train in Y_train ]  \n",
        "            Y_test_new = [ np.apply_along_axis(np.argmax, 1, y_test) + 1 for y_test in Y_test ]              \n",
        "    else:\n",
        "        if models_have_different_inputs:\n",
        "            Y_train_new = Y_train.copy()\n",
        "            Y_test_new = Y_test.copy()\n",
        "        else:\n",
        "            Y_train_new = [ y_train.copy() for y_train in Y_train ] \n",
        "            Y_test_new = [ y_test.copy() for y_test in Y_train ] \n",
        "            \n",
        "\n",
        "    extraction_counter =0\n",
        "    for model_file_name, layer_name, kwargs in to_combine:\n",
        "        model_here = None\n",
        "        if isinstance(model_file_name, tf.keras.models.Model):\n",
        "            model_here = model_file_name\n",
        "            model_file_name = model_here.name\n",
        "        else:\n",
        "            if model_file_name in models_dict.keys():\n",
        "                model_here = models_dict[model_file_name]\n",
        "            else:\n",
        "                model_here = tf.keras.models.load_model(model_file_name,\n",
        "                                                        **kwargs) if kwargs is not None else tf.keras.models.load_model \\\n",
        "                    (model_file_name)\n",
        "\n",
        "        features_model = Model(model_here.input,\n",
        "                               get_layer_by_name(model_here.layers, layer_name).output)\n",
        "        \n",
        "        if normalize_X_func is None:\n",
        "            X_trains_out.append(np.array(features_model.predict(X_train if not models_have_different_inputs else X_train[extraction_counter]), dtype='float64'))\n",
        "            X_test_out.append(np.array(features_model.predict(X_test if not models_have_different_inputs else X_test[extraction_counter]), dtype='float64'))\n",
        "        else:\n",
        "            X_trains_out.append(np.array(normalize_X_func(features_model.predict(X_train if not models_have_different_inputs else X_train[extraction_counter])), dtype='float64'))\n",
        "            X_test_out.append(np.array(normalize_X_func(features_model.predict(X_test if not models_have_different_inputs else X_test[extraction_counter])), dtype='float64'))\n",
        "        XY_dict[model_file_name][layer_name]['Train']['X'] = X_trains_out[-1]\n",
        "        XY_dict[model_file_name][layer_name]['Test']['X'] = X_test_out[-1]\n",
        "        XY_dict[model_file_name][layer_name]['Train']['Y'] = Y_train_new\n",
        "        XY_dict[model_file_name][layer_name]['Test']['Y'] = Y_test_new\n",
        "        models.append(((model_file_name, layer_name), (model_here, features_model)))\n",
        "        models_dict[model_file_name] = model_here\n",
        "        extraction_counter += 1\n",
        "\n",
        "    X_train_new = np.concatenate(tuple(X_trains_out), axis=1)\n",
        "    X_test_new = np.concatenate(tuple(X_test_out), axis=1)\n",
        "\n",
        "    data_train = (X_train_new, Y_train_new)\n",
        "    data_test = (X_test_new, Y_test_new)\n",
        "\n",
        "    return models, data_train, data_test, XY_dict\n",
        "\n",
        "class SaveBestOverCombinedThresholds(tf.keras.callbacks.Callback):\n",
        "\n",
        "    def __init__(self, colab_download = False, observed_values = [ ('accuracy',0.9) ] ):\n",
        "        self.thresholds = dict(observed_values)\n",
        "        self.last_best_values = dict([ (obs_name, np.nan) for obs_name in self.thresholds.keys()] )\n",
        "        self.colab_download = colab_download\n",
        "        \n",
        "    def on_epoch_end(self, epoch, logs=None):        \n",
        "        register = None\n",
        "        for k,v in self.thresholds.items():\n",
        "            if k not in logs.keys():\n",
        "                raise ValueError(f\"{k} not found in logs\")\n",
        "            passes_threshold = logs[k] > self.thresholds[k]                 \n",
        "            register = passes_threshold if register is None else (register and passes_threshold)\n",
        "        \n",
        "        if register:\n",
        "            for k,v in self.thresholds.items():\n",
        "                if np.isnan(self.last_best_values[k]):\n",
        "                    self.last_best_values[k] = logs[k]\n",
        "                else:\n",
        "                    if logs[k] < self.last_best_values[k]:\n",
        "                        register = False\n",
        "                        break\n",
        "            if register:\n",
        "                for k,v in self.thresholds.items():\n",
        "                    self.last_best_values[k] = logs[k]\n",
        "                base_name = f'{self.model.name}_epoch_{str(epoch)}_{\"_\".join([\"{}_{:.3f}\".format(k,v) for k,v in self.last_best_values.items()])}'\n",
        "                self.model.save(f'{base_name}.h5')                \n",
        "                history_df = pd.DataFrame(self.model.history.history) \n",
        "                history_df.to_csv(f'{base_name}_history.csv',header=True, index=False)\n",
        "                \n",
        "                if self.colab_download:\n",
        "                    from google.colab import files\n",
        "                    files.download(f'{base_name}.h5')\n",
        "                    files.download(f'{base_name}_history.csv')\n",
        "                "
      ],
      "execution_count": null,
      "outputs": []
    },
    {
      "cell_type": "code",
      "metadata": {
        "id": "08mDn9XtXtIp"
      },
      "source": [
        "# data extraction\n",
        "def getE2eData13(shuffle=False):\n",
        "    hf_Train = h5.File(f'{data_location}/e2e_Train_Data_1000.h5', 'r')\n",
        "    hf_Test = h5.File(f'{data_location}/e2e_Test_Data_1000.h5', 'r')\n",
        "\n",
        "    X_train, Y_train = getNpArrayFromH5(hf_Train)\n",
        "    X_test, Y_test = getNpArrayFromH5(hf_Test)\n",
        "    Y_train = to_categorical(Y_train, 13)  # Process the label of tain\n",
        "    Y_test = to_categorical(Y_test, 13)  # Process the label of te\n",
        "\n",
        "    if shuffle:\n",
        "        X_train, Y_train = coShuffled_vectors(X_train, Y_train)\n",
        "        X_test, Y_test = coShuffled_vectors(X_test, Y_test)\n",
        "\n",
        "    hf_Val = h5.File(f'{data_location}/e2e_Val_Data_1000.h5', 'r')\n",
        "    X_validation, Y_validation = getNpArrayFromH5(hf_Val)\n",
        "    Y_validation = to_categorical(Y_validation, 13)  \n",
        "\n",
        "    return X_train, Y_train, X_test, Y_test, X_validation, Y_validation\n",
        "\n",
        "\n",
        "def getE2eDataJustSecondary(shuffle=False,isColab=False):\n",
        "    hf_Train = h5.File(f'{data_location}/e2e_Train_just_Secondary_Data_1000.h5', 'r')\n",
        "    hf_Test = h5.File(f'{data_location}/e2e_Test_just_Secondary_Data_1000.h5', 'r')\n",
        "\n",
        "    X_train, Y_train = getNpArrayFromH5(hf_Train)\n",
        "    X_test, Y_test = getNpArrayFromH5(hf_Test)\n",
        "    \n",
        "    Y_train = to_categorical(Y_train, Y_test.shape[-1])  \n",
        "    Y_test = to_categorical(Y_test, Y_test.shape[-1])  \n",
        "\n",
        "    if shuffle:\n",
        "        X_train, Y_train = coShuffled_vectors(X_train, Y_train)\n",
        "        X_test, Y_test = coShuffled_vectors(X_test, Y_test)\n",
        "\n",
        "    hf_Val = h5.File(f'{data_location}/e2e_Val_just_Secondary_Data_1000.h5', 'r')\n",
        "    \n",
        "    X_validation, Y_validation = getNpArrayFromH5(hf_Val)\n",
        "    Y_validation = to_categorical(Y_validation, Y_test.shape[-1])  # Process the label of tain\n",
        "\n",
        "    return X_train, Y_train, X_test, Y_test, X_validation, Y_validation\n",
        "\n",
        "\n",
        "def getTest12Data():\n",
        "    hf_Test = h5.File(f'{data_location}/e2e_Test_Data_1000_12classes.h5', 'r')\n",
        "    X_test, Y_test = getNpArrayFromH5(hf_Test)\n",
        "    Y_test = to_categorical(Y_test, 13)  # Process the label of te\n",
        "    return X_test, Y_test\n",
        "\n",
        "\n",
        "def get88KData():\n",
        "    hf_Train = h5.File(f'{data_location}/e2e_Train_Data_1000_88.h5', 'r')\n",
        "    hf_Test = h5.File(f'{data_location}/e2e_Test_Data_1000_88.h5', 'r')\n",
        "\n",
        "    X_train, Y_train = getNpArrayFromH5(hf_Train)\n",
        "    X_test, Y_test = getNpArrayFromH5(hf_Test)\n",
        "    Y_train = to_categorical(Y_train, Y_test.shape[-1])  # Process the label of tain\n",
        "    Y_test = to_categorical(Y_test, Y_test.shape[-1])  # Process the label of te\n",
        "\n",
        "    hf_Val = h5.File(f'{data_location}/e2e_Val_Data_1000_88.h5', 'r') \n",
        "    X_validation, Y_validation = getNpArrayFromH5(hf_Val)\n",
        "    Y_validation = to_categorical(Y_validation, Y_test.shape[-1])  # Process the label of tain\n",
        "\n",
        "    return X_train, Y_train, X_test, Y_test, X_validation, Y_validation\n",
        "    \n"
      ],
      "execution_count": null,
      "outputs": []
    },
    {
      "cell_type": "markdown",
      "metadata": {
        "id": "oNo_peRzfXNP"
      },
      "source": [
        "A function that will take a model construction function (with _model_name_ and _input_shape_ arguments), train and fit it using the supplied data and callbacks. The _kwargs_ are supplied to the model fit function."
      ]
    },
    {
      "cell_type": "code",
      "metadata": {
        "id": "P_dqIA0noEoo"
      },
      "source": [
        "from tensorflow.keras.callbacks import CSVLogger\n",
        "import datetime\n",
        "\n",
        "def compile_and_fit_model_basic(  model_func,\n",
        "                                  model_name,\n",
        "                                  input_shape,\n",
        "                                  X_train,\n",
        "                                  Y_train,\n",
        "                                  save_max_epoch=True,\n",
        "                                  save_final=False,\n",
        "                                  patience_count = None,\n",
        "                                  early_stopping_obs = 'val_categorical_accuracy',\n",
        "                                  log_history = True,\n",
        "                                  verbose_level = 0,\n",
        "                                  **kwargs):\n",
        "    m = None\n",
        "    if isinstance(model_func, tf.keras.models.Model):\n",
        "        m = model_func\n",
        "        m._name = model_name\n",
        "    else:\n",
        "        m = model_func(model_name, input_shape)\n",
        "      \n",
        "    if 'validation_data' not in kwargs.keys() and 'val_' in early_stopping_obs:\n",
        "        early_stopping_obs = early_stopping_obs.replace('val_','')\n",
        "\n",
        "    callbacks_used = []\n",
        "    if save_max_epoch:\n",
        "        callbacks_used.append(ModelCheckpoint(f'/content/drive/MyDrive/data_papers/{paper_name}/model_checkpoints/{m.name}' + '_model_{epoch:03d}_{categorical_accuracy:0.3f}',\n",
        "                                              save_weights_only=False,\n",
        "                                              monitor = early_stopping_obs,\n",
        "                                              mode='max',\n",
        "                                              save_best_only=True))\n",
        "    if patience_count is not None:\n",
        "        callbacks_used.append(tf.keras.callbacks.EarlyStopping(monitor=early_stopping_obs, patience=patience_count))\n",
        "\n",
        "    if log_history:\n",
        "        callbacks_used.append(tf.keras.callbacks.CSVLogger(f\"/content/drive/MyDrive/data_papers/{paper_name}/model_history/history_log_{model_name}_{datetime.date.today().strftime('%Y%m%d')}.csv\", append=True))\n",
        "\n",
        "    m.compile(loss=tf.keras.losses.CategoricalCrossentropy(), \n",
        "              optimizer=tf.keras.optimizers.Adam(), \n",
        "              metrics=[tf.keras.metrics.CategoricalAccuracy()])\n",
        "    \n",
        "    history = m.fit(X_train, Y_train, callbacks=callbacks_used, verbose=verbose_level, **kwargs)\n",
        "    if save_final:\n",
        "        make_dir_if_not_exist(model_name)\n",
        "        m.save(f\"/content/drive/MyDrive/data_papers/{paper_name}/model_finals/{m.name}_saved_model_after_fit\")  # Save the model\n",
        "    return (m, history)"
      ],
      "execution_count": null,
      "outputs": []
    },
    {
      "cell_type": "markdown",
      "metadata": {
        "id": "J212e-sSgQEs"
      },
      "source": [
        "A function that given a model or model directory create a new model up to the _layer_name_, then write the features matching the supplied _X_ and _Y_ as numpy arrays to google drive."
      ]
    },
    {
      "cell_type": "code",
      "metadata": {
        "id": "DxMillEBxs5H"
      },
      "source": [
        "def write_features_from_models(\n",
        "        model_entry,\n",
        "        layer_name,\n",
        "        X_input, Y_input,\n",
        "        reverse_one_hot=False,\n",
        "        normalize_X_func=None,\n",
        "        dataset_id = \"NA\",\n",
        "        **kwargs):\n",
        "  \n",
        "    Y_new = None\n",
        "    X_new = None\n",
        "    if reverse_one_hot:\n",
        "        Y_new = np.apply_along_axis(np.argmax, 1, Y_input) + 1\n",
        "    else:\n",
        "        Y_new = Y_input.copy()\n",
        "\n",
        "    model_here = None\n",
        "    if isinstance(model_entry, tf.keras.models.Model):\n",
        "        model_here = model_entry\n",
        "        model_file_name = model_here.name\n",
        "    else:\n",
        "        model_here = tf.keras.models.load_model(model_entry,**kwargs) \n",
        "\n",
        "    features_model = Model(model_here.input,\n",
        "                            get_layer_by_name(model_here.layers, layer_name).output)\n",
        "    if normalize_X_func is None:\n",
        "        X_new = np.array(features_model.predict(X_input), dtype='float64')\n",
        "    else:\n",
        "        X_new = np.array(normalize_X_func(features_model.predict(X_input)), dtype='float64')\n",
        "\n",
        "    np.save(f\"/content/drive/MyDrive/data_papers/{paper_name}/model_features/{model_here.name}_features_{layer_name}_{dataset_id}_X\", X_new, \n",
        "               allow_pickle=True, \n",
        "               fix_imports=True)\n",
        "    np.save(f\"/content/drive/MyDrive/data_papers/{paper_name}/model_features/{model_here.name}_features_{layer_name}_{dataset_id}_Y\", Y_new, \n",
        "               allow_pickle=True, \n",
        "               fix_imports=True)\n",
        "\n",
        "\n",
        "def write_features_from_models_idxCnt(\n",
        "        model_entry,\n",
        "        idxCnt,\n",
        "        X_input, Y_input,\n",
        "        reverse_one_hot=False,\n",
        "        normalize_X_func=None,\n",
        "        dataset_id = \"NA\",\n",
        "        **kwargs):\n",
        "  \n",
        "    Y_new = None\n",
        "    X_new = None\n",
        "    if reverse_one_hot:\n",
        "        Y_new = np.apply_along_axis(np.argmax, 1, Y_input) + 1\n",
        "    else:\n",
        "        Y_new = Y_input.copy()\n",
        "\n",
        "    model_here = None\n",
        "    if isinstance(model_entry, tf.keras.models.Model):\n",
        "        model_here = model_entry\n",
        "        model_file_name = model_here.name\n",
        "    else:\n",
        "        model_here = tf.keras.models.load_model(model_entry,**kwargs) \n",
        "\n",
        "    features_model = Model(model_here.input,\n",
        "                            model_here.layers[idxCnt].output)\n",
        "    if normalize_X_func is None:\n",
        "        X_new = np.array(features_model.predict(X_input), dtype='float64')\n",
        "    else:\n",
        "        X_new = np.array(normalize_X_func(features_model.predict(X_input)), dtype='float64')\n",
        "\n",
        "    np.save(f\"/content/drive/MyDrive/data_papers/{paper_name}/model_features/{model_here.name}_features_{model_here.layers[idxCnt].name}_{dataset_id}_X\", X_new, \n",
        "               allow_pickle=True, \n",
        "               fix_imports=True)\n",
        "    np.save(f\"/content/drive/MyDrive/data_papers/{paper_name}/model_features/{model_here.name}_features_{model_here.layers[idxCnt].name}_{dataset_id}_Y\", Y_new, \n",
        "               allow_pickle=True, \n",
        "               fix_imports=True)               "
      ],
      "execution_count": null,
      "outputs": []
    },
    {
      "cell_type": "markdown",
      "metadata": {
        "id": "t2O5XMTr2s5m"
      },
      "source": [
        "Some functions to get scores on the results"
      ]
    },
    {
      "cell_type": "code",
      "metadata": {
        "id": "bhPJFtuzujdC"
      },
      "source": [
        "from sklearn.model_selection import train_test_split\n",
        "from sklearn.metrics import confusion_matrix\n",
        "from sklearn.metrics import precision_recall_fscore_support, accuracy_score\n",
        "import re\n",
        "\n",
        "def get_confusion_matrix_classification(model, X, Y_true):\n",
        "    y_pred = model.predict(X)\n",
        "    y_true = np.apply_along_axis(np.argmax, 1, Y_true)\n",
        "    y_pred = np.apply_along_axis(np.argmax, 1, y_pred)\n",
        "    return (confusion_matrix(y_true, y_pred), y_pred, y_true)\n",
        "\n",
        "def construct_confusion_matrix(X, Y_true, Y_pred):\n",
        "    y_true = Y_true\n",
        "    y_pred = np.apply_along_axis(np.argmax, 1, Y_pred)\n",
        "    return (confusion_matrix(y_true, y_pred), y_pred, y_true)\n",
        "\n",
        "def pr_rc_f1_acc_from_supplied(y_pred, y_true):  \n",
        "    pr, rc, f1, _ = precision_recall_fscore_support(y_true, y_pred, average=\"weighted\")   \n",
        "    acc = accuracy_score(y_true, y_pred)\n",
        "    return pr, rc, f1, acc\n"
      ],
      "execution_count": null,
      "outputs": []
    },
    {
      "cell_type": "code",
      "metadata": {
        "id": "mVz_etHKO89T"
      },
      "source": [
        "import re\n",
        "import os\n",
        "\n",
        "def dir_has_file_with_regex(dir_name, regex_string):\n",
        "  filenames = [ f\"{dir_name}/{dir_entry.name}\" for dir_entry in os.scandir(dir_name) if os.path.isfile(f\"{dir_name}/{dir_entry.name}\") ]   \n",
        "  filenames = [ fn for fn in filenames if re.match(regex_string, fn, re.IGNORECASE) ]\n",
        "  return filenames\n",
        "\n"
      ],
      "execution_count": null,
      "outputs": []
    },
    {
      "cell_type": "code",
      "metadata": {
        "id": "IiA0TTr4VR2Z"
      },
      "source": [
        "import tensorflow as tf\n",
        "from tensorflow.keras.layers import Bidirectional\n",
        "from tensorflow.keras.models import Model, Sequential, load_model\n",
        "from tensorflow.keras.layers import  Dense, Flatten, Activation, Dropout, Embedding, Conv1D, Conv2D, MaxPooling2D, MaxPooling1D, Concatenate, BatchNormalization, GaussianNoise\n",
        "from tensorflow.keras.layers import LSTM, TimeDistributed, Permute, Reshape, Lambda, RepeatVector, Input, Multiply, SimpleRNN, GRU, LeakyReLU\n",
        "from keras_self_attention import SeqSelfAttention, SeqWeightedAttention\n",
        "import site\n",
        "import pandas as pd\n",
        "import os\n",
        "from tensorflow.keras.callbacks import ModelCheckpoint, TensorBoard\n",
        "import datetime\n",
        "import re"
      ],
      "execution_count": null,
      "outputs": []
    },
    {
      "cell_type": "code",
      "metadata": {
        "id": "-9DSXcStXi5C"
      },
      "source": [
        "X_train_1000e, Y_train_1000e, X_test_1000e, Y_test_1000e, X_val_1000e, Y_val_1000e = getE2eData13()\n",
        "X_new_train = np.concatenate( (X_train_1000e, X_val_1000e), axis=0 )\n",
        "Y_new_train = np.concatenate( (Y_train_1000e, Y_val_1000e), axis=0 )"
      ],
      "execution_count": null,
      "outputs": []
    },
    {
      "cell_type": "code",
      "metadata": {
        "colab": {
          "base_uri": "https://localhost:8080/"
        },
        "id": "M_9QxchaiSJy",
        "outputId": "e5412e2a-3ad7-459a-bdd4-e23c33971fd0"
      },
      "source": [
        "Y_val_1000e"
      ],
      "execution_count": null,
      "outputs": [
        {
          "output_type": "execute_result",
          "data": {
            "text/plain": [
              "array([[0., 0., 0., ..., 1., 0., 0.],\n",
              "       [1., 0., 0., ..., 0., 0., 0.],\n",
              "       [0., 0., 0., ..., 1., 0., 0.],\n",
              "       ...,\n",
              "       [0., 0., 0., ..., 1., 0., 0.],\n",
              "       [0., 0., 0., ..., 0., 0., 0.],\n",
              "       [0., 0., 0., ..., 0., 0., 0.]], dtype=float32)"
            ]
          },
          "metadata": {},
          "execution_count": 26
        }
      ]
    },
    {
      "cell_type": "markdown",
      "metadata": {
        "id": "UrA1SY4CHTOS"
      },
      "source": [
        "# A basic feeder model functions to fit Test13"
      ]
    },
    {
      "cell_type": "code",
      "metadata": {
        "id": "UPx5iGFDo8bL"
      },
      "source": [
        "def model_with_pure_rnn3():\n",
        "    inputs = Input(shape=(TIME_STEPS, INPUT_DIM,))\n",
        "    lstm_one = Bidirectional(GRU(256, return_sequences=True, kernel_initializer='RandomNormal', dropout= 0.5, recurrent_dropout = 0.5, recurrent_initializer='RandomNormal', bias_initializer='zero'))(inputs)\n",
        "    lstm_two = Bidirectional(GRU(128, return_sequences=True, kernel_initializer='RandomNormal', dropout= 0.5, recurrent_dropout = 0.5, recurrent_initializer='RandomNormal', bias_initializer='zero'))(lstm_one)\n",
        "    lstm_two = Bidirectional(GRU(64, return_sequences=True, kernel_initializer='RandomNormal', dropout= 0.5, recurrent_dropout = 0.5, recurrent_initializer='RandomNormal', bias_initializer='zero'))(lstm_two)\n",
        "    attention_mul = SeqWeightedAttention()(lstm_two)\n",
        "    attention_mul = Flatten()(attention_mul)\n",
        "    dense_one = Dense(256, kernel_initializer='RandomNormal', bias_initializer='zeros', activation='relu', name=\"antepenultimate_dense\")(attention_mul)\n",
        "    dense_one = Dropout(0.5)(dense_one)\n",
        "    dense_two = Dense(128, kernel_initializer='RandomNormal', bias_initializer='zeros', activation='relu', name=\"penultimate_dense\")(dense_one)\n",
        "    dense_two = Dropout(0.4)(dense_two)\n",
        "    dense_three = Dense(64, kernel_initializer='RandomNormal', bias_initializer='zeros', activation='relu', name=\"last_dense\")(dense_two)\n",
        "    dense_three = Dropout(0.3)(dense_two)\n",
        "    output = Dense(13, activation='softmax', name=\"last_softmax\")(dense_three)\n",
        "    model = Model([inputs], output, name=\"pure_rnn3\")\n",
        "    return model\n"
      ],
      "execution_count": null,
      "outputs": []
    },
    {
      "cell_type": "code",
      "metadata": {
        "id": "GHdJJrIbn3DR"
      },
      "source": [
        "def baseline_CNN_finalist_128(model_name, inshape, num_classes = 13):\n",
        "\n",
        "    model = tf.keras.Sequential()\n",
        "\n",
        "    model.add(tf.keras.layers.Conv1D(128 ,10 ,padding='same' ,input_shape=inshape))\n",
        "    model.add(tf.keras.layers.BatchNormalization())\n",
        "    model.add(tf.keras.layers.LeakyReLU(alpha=0.5))\n",
        "    model.add(tf.keras.layers.MaxPooling1D(2))\n",
        "\n",
        "    model.add(tf.keras.layers.GaussianNoise(1))\n",
        "    model.add(tf.keras.layers.Dropout(rate=0.5))\n",
        "\n",
        "    model.add(tf.keras.layers.Conv1D(128 ,10 ,padding='same'))\n",
        "    model.add(tf.keras.layers.BatchNormalization())\n",
        "    model.add(tf.keras.layers.LeakyReLU(alpha=0.5))\n",
        "    model.add(tf.keras.layers.MaxPooling1D(4))\n",
        "\n",
        "    model.add(tf.keras.layers.GaussianNoise(1))\n",
        "    model.add(tf.keras.layers.Dropout(rate=0.5))\n",
        "\n",
        "    model.add(tf.keras.layers.Conv1D(256 ,10 ,padding='same'))\n",
        "    model.add(tf.keras.layers.BatchNormalization())\n",
        "    model.add(tf.keras.layers.LeakyReLU(alpha=0.5))\n",
        "    model.add(tf.keras.layers.MaxPooling1D(2))\n",
        "\n",
        "    model.add(tf.keras.layers.Conv1D(256 ,10 ,padding='same'))\n",
        "    model.add(tf.keras.layers.BatchNormalization())\n",
        "    model.add(tf.keras.layers.LeakyReLU(alpha=0.5))\n",
        "    model.add(tf.keras.layers.MaxPooling1D(4))\n",
        "\n",
        "    model.add(tf.keras.layers.GaussianNoise(1))\n",
        "    model.add(tf.keras.layers.Dropout(rate=0.5))\n",
        "\n",
        "    model.add(tf.keras.layers.Conv1D(256 ,10 ,padding='same'))\n",
        "    model.add(tf.keras.layers.BatchNormalization())\n",
        "    model.add(tf.keras.layers.LeakyReLU(alpha=0.5))\n",
        "    model.add(tf.keras.layers.MaxPooling1D(4))\n",
        "\n",
        "    model.add(tf.keras.layers.GaussianNoise(1))\n",
        "    model.add(tf.keras.layers.Dropout(rate=0.5))\n",
        "\n",
        "    model.add(tf.keras.layers.Flatten())\n",
        "\n",
        "    model.add(tf.keras.layers.Dense(128))\n",
        "    model.add(tf.keras.layers.BatchNormalization())\n",
        "    model.add(tf.keras.layers.LeakyReLU(alpha=0.5))\n",
        "\n",
        "    model.add(tf.keras.layers.Dense(64))\n",
        "    model.add(tf.keras.layers.BatchNormalization())\n",
        "    model.add(tf.keras.layers.LeakyReLU(alpha=0.5))\n",
        "\n",
        "    model.add(tf.keras.layers.Dense(num_classes, activation=tf.nn.softmax))\n",
        "    model._name = model_name\n",
        "\n",
        "    return model\n",
        "\n",
        "def baseline_CNN_finalist_256(model_name, inshape, num_classes = 13):\n",
        "\n",
        "    model = tf.keras.Sequential()\n",
        "\n",
        "    model.add(tf.keras.layers.Conv1D(256 ,10 ,padding='same' ,input_shape=inshape))\n",
        "    model.add(tf.keras.layers.BatchNormalization())\n",
        "    model.add(tf.keras.layers.LeakyReLU(alpha=0.5))\n",
        "    model.add(tf.keras.layers.MaxPooling1D(2))\n",
        "\n",
        "    model.add(tf.keras.layers.GaussianNoise(1))\n",
        "    model.add(tf.keras.layers.Dropout(rate=0.5))\n",
        "\n",
        "    model.add(tf.keras.layers.Conv1D(256 ,10 ,padding='same'))\n",
        "    model.add(tf.keras.layers.BatchNormalization())\n",
        "    model.add(tf.keras.layers.LeakyReLU(alpha=0.5))\n",
        "    model.add(tf.keras.layers.MaxPooling1D(4))\n",
        "\n",
        "    model.add(tf.keras.layers.GaussianNoise(1))\n",
        "    model.add(tf.keras.layers.Dropout(rate=0.5))\n",
        "\n",
        "    model.add(tf.keras.layers.Conv1D(256 ,10 ,padding='same'))\n",
        "    model.add(tf.keras.layers.BatchNormalization())\n",
        "    model.add(tf.keras.layers.LeakyReLU(alpha=0.5))\n",
        "    model.add(tf.keras.layers.MaxPooling1D(2))\n",
        "\n",
        "    model.add(tf.keras.layers.Conv1D(256 ,10 ,padding='same'))\n",
        "    model.add(tf.keras.layers.BatchNormalization())\n",
        "    model.add(tf.keras.layers.LeakyReLU(alpha=0.5))\n",
        "    model.add(tf.keras.layers.MaxPooling1D(4))\n",
        "\n",
        "    model.add(tf.keras.layers.GaussianNoise(1))\n",
        "    model.add(tf.keras.layers.Dropout(rate=0.5))\n",
        "\n",
        "    model.add(tf.keras.layers.Conv1D(256 ,10 ,padding='same'))\n",
        "    model.add(tf.keras.layers.BatchNormalization())\n",
        "    model.add(tf.keras.layers.LeakyReLU(alpha=0.5))\n",
        "    model.add(tf.keras.layers.MaxPooling1D(4))\n",
        "\n",
        "    model.add(tf.keras.layers.GaussianNoise(1))\n",
        "    model.add(tf.keras.layers.Dropout(rate=0.5))\n",
        "\n",
        "    model.add(tf.keras.layers.Flatten())\n",
        "\n",
        "    model.add(tf.keras.layers.Dense(128))\n",
        "    model.add(tf.keras.layers.BatchNormalization())\n",
        "    model.add(tf.keras.layers.LeakyReLU(alpha=0.5))\n",
        "\n",
        "    model.add(tf.keras.layers.Dense(64))\n",
        "    model.add(tf.keras.layers.BatchNormalization())\n",
        "    model.add(tf.keras.layers.LeakyReLU(alpha=0.5))\n",
        "\n",
        "    model.add(tf.keras.layers.Dense(num_classes, activation=tf.nn.softmax))\n",
        "    model._name = model_name\n",
        "\n",
        "    return model\n",
        "\n",
        "def model_with_pure_rnn_finalist(model_name, input_shape = (1000, 8,),num_classes = 13):\n",
        "\n",
        "    # RNN part\n",
        "    inputs = Input(shape=input_shape)\n",
        "    lstm_one = Bidirectional \\\n",
        "        (GRU(256, return_sequences=True, kernel_initializer='RandomNormal', dropout= 0.5, recurrent_dropout = 0.5, recurrent_initializer='RandomNormal', bias_initializer='zero'))(inputs)\n",
        "    lstm_two = Bidirectional \\\n",
        "        (GRU(128, return_sequences=True, kernel_initializer='RandomNormal', dropout= 0.5, recurrent_dropout = 0.5, recurrent_initializer='RandomNormal', bias_initializer='zero'))(lstm_one)\n",
        "    attention = SeqWeightedAttention()(lstm_two)\n",
        "    attention = Flatten()(attention)\n",
        "    rnnoutput = Dense(256 ,kernel_initializer='RandomNormal', bias_initializer='zeros')(attention)\n",
        "    rnnoutput = BatchNormalization()(rnnoutput)\n",
        "    rnnoutput = GaussianNoise(1)(rnnoutput)\n",
        "    rnnoutput = Dropout(0.4)(rnnoutput)\n",
        "\n",
        "    # Dense Feed-forward\n",
        "    dense_one = Dense(128, kernel_initializer='RandomNormal', bias_initializer='zeros')(rnnoutput)\n",
        "    dense_one = LeakyReLU()(dense_one)\n",
        "    dense_one = Dropout(0.5)(dense_one)\n",
        "    dense_one = BatchNormalization()(dense_one)\n",
        "    dense_two = Dense(64, kernel_initializer='RandomNormal', bias_initializer='zeros')(dense_one)\n",
        "    dense_two = LeakyReLU()(dense_two)\n",
        "    dense_two = Dropout(0.4)(dense_two)\n",
        "\n",
        "    # Output\n",
        "    output = Dense(num_classes, activation='softmax')(dense_two)\n",
        "    model = Model([inputs], output, name = model_name)\n",
        "    return model\n"
      ],
      "execution_count": null,
      "outputs": []
    },
    {
      "cell_type": "code",
      "metadata": {
        "id": "-SIFXm1g9t7Z"
      },
      "source": [
        "\n",
        "\n",
        "def model_combination(model_name, input_shape,num_classes = 13):\n",
        "    model = Sequential([\n",
        "        tf.keras.Input(shape=input_shape),\n",
        "        BatchNormalization(),\n",
        "        Dense(256, kernel_initializer='RandomNormal', bias_initializer='zeros'),\n",
        "        LeakyReLU(),\n",
        "        Dropout(0.6),\n",
        "        Dense(128, kernel_initializer='RandomNormal', bias_initializer='zeros', kernel_regularizer = tf.keras.regularizers.l1(1e-3)),\n",
        "        LeakyReLU(),\n",
        "        Dropout(0.6),\n",
        "        Dense(32, kernel_initializer='RandomNormal', bias_initializer='zeros', kernel_regularizer = tf.keras.regularizers.l1(1e-2)),\n",
        "        LeakyReLU(),\n",
        "        Dropout(0.5),\n",
        "        Dense(num_classes, activation='softmax')\n",
        "    ], name=model_name)\n",
        "    return model\n",
        "\n",
        "\n",
        "def compile_and_fit_model_basic_core(  model_func,\n",
        "                                  model_name,\n",
        "                                  input_shape,\n",
        "                                  X_train,\n",
        "                                  Y_train,\n",
        "                                  save_max_epoch=True,\n",
        "                                  save_final=False,\n",
        "                                  patience_count = None,\n",
        "                                  early_stopping_obs = 'val_sparse_categorical_accuracy',\n",
        "                                  log_history = True,\n",
        "                                  verbose_level = 0,\n",
        "                                  use_tb_callback = False,\n",
        "                                  **kwargs):\n",
        "    m = None\n",
        "    if isinstance(model_func, tf.keras.models.Model):\n",
        "        m = model_func\n",
        "        m._name = model_name\n",
        "    else:\n",
        "        m = model_func(model_name, input_shape)\n",
        "\n",
        "\n",
        "    if 'validation_data' not in kwargs.keys() and 'val_' in early_stopping_obs:\n",
        "        early_stopping_obs = early_stopping_obs.replace('val_','')\n",
        "\n",
        "    callbacks_used = []\n",
        "    if save_max_epoch:\n",
        "      callbacks_used.append(ModelCheckpoint(f'/content/drive/MyDrive/data_papers/{paper_name}/model_checkpoints/{m.name}' + '_model_ep{epoch:03d}_{accuracy:0.3f}_{val_accuracy:0.3f}',\n",
        "                                            save_weights_only=False,\n",
        "                                            monitor = early_stopping_obs,\n",
        "                                            mode='max',\n",
        "                                            save_best_only=True))\n",
        "\n",
        "    if use_tb_callback:  \n",
        "      tb_callback = TensorBoard(log_dir=f'/content/drive/MyDrive/data_papers/{paper_name}/model_tb/{m.name}_logs', histogram_freq=kwargs.pop(\"histogram_freq\", 1))\n",
        "      # if save_every_epoch:\n",
        "      #     tb_callback.append(ModelCheckpoint(f'{m.name}' + '_model_{epoch:03d}_{val_accuracy:0.2f}'))\n",
        "\n",
        "    if patience_count is not None:\n",
        "      callbacks_used.append(tf.keras.callbacks.EarlyStopping(monitor=early_stopping_obs, patience=patience_count))\n",
        "\n",
        "    if log_history:\n",
        "        callbacks_used.append(tf.keras.callbacks.CSVLogger(f\"/content/drive/MyDrive/data_papers/{paper_name}/model_history/history_log_{model_name}_{datetime.date.today().strftime('%Y%m%d')}.csv\", append=True))\n",
        "\n",
        "    m.compile(loss='categorical_crossentropy', optimizer='adam', metrics=['accuracy'])\n",
        "    history = m.fit(X_train, Y_train, callbacks=callbacks_used, verbose=verbose_level, **kwargs)\n",
        "    if save_final:\n",
        "        make_dir_if_not_exist(model_name)\n",
        "        m.save(f\"/content/drive/MyDrive/data_papers/{paper_name}/model_finals/{m.name}_saved_model_after_fit\")  # Save the model\n",
        "        \n",
        "    return (m, history)\n",
        "\n"
      ],
      "execution_count": null,
      "outputs": []
    },
    {
      "cell_type": "markdown",
      "metadata": {
        "id": "y5rAoKKZA49X"
      },
      "source": [
        "# Set up the CNN256 models for reuse on Test13"
      ]
    },
    {
      "cell_type": "code",
      "metadata": {
        "id": "nCiT3V7PYXUp"
      },
      "source": [
        "# # saving 100 CNNs\n",
        "for model_count in [i+1 for i in range(100)]:\n",
        "  m1, h1 = compile_and_fit_model_basic_core( baseline_CNN_finalist_256,  \n",
        "                    f\"CNN256_A_{str(model_count)}_{datetime.datetime.now():%Y%m%d%H%M%S}\", \n",
        "                    X_new_train[0].shape, \n",
        "                    X_new_train, \n",
        "                    Y_new_train,\n",
        "                    save_max_epoch=False,\n",
        "                    save_final=True,\n",
        "                    patience_count = 75,\n",
        "                    early_stopping_obs = 'val_accuracy',\n",
        "                    log_history = True,                             \n",
        "                    batch_size=512, \n",
        "                    epochs=500, \n",
        "                    class_weight=None, \n",
        "                    verbose_level=1,\n",
        "                    validation_data=(X_val_1000e, Y_val_1000e))"
      ],
      "execution_count": null,
      "outputs": []
    },
    {
      "cell_type": "code",
      "metadata": {
        "id": "L5O6XYkE8fx6"
      },
      "source": [
        "# cnnmexample =load_model(f\"/content/drive/MyDrive/data_papers/{paper_name}/model_finals/CNN256_A_96_20211124213532_saved_model_after_fit\")\n",
        "# cnnmexample2 =load_model(f\"/content/drive/MyDrive/data_papers/{paper_name}/model_finals/CNN256_A_81_20211124195552_saved_model_after_fit\")"
      ],
      "execution_count": null,
      "outputs": []
    },
    {
      "cell_type": "code",
      "metadata": {
        "colab": {
          "base_uri": "https://localhost:8080/"
        },
        "id": "9R-lwRUX-X0y",
        "outputId": "1141de1e-d2b0-4404-d6a6-44842dc12c03"
      },
      "source": [
        "# os.listdir(f\"/content/drive/MyDrive/data_papers/{paper_name}/model_finals/\")\n",
        "\n",
        "# (cnnmexample.layers[-1].name,cnnmexample2.layers[-1].name)\n",
        "# (cnnmexample.layers[-4].name,cnnmexample2.layers[-4].name)\n"
      ],
      "execution_count": null,
      "outputs": [
        {
          "output_type": "execute_result",
          "data": {
            "text/plain": [
              "('dense_304', 'dense_259')"
            ]
          },
          "metadata": {},
          "execution_count": 54
        }
      ]
    },
    {
      "cell_type": "code",
      "metadata": {
        "id": "0rhK968KxRy3"
      },
      "source": [
        "# X_train_1000e, Y_train_1000e, X_test_1000e, Y_test_1000e, X_val_1000e, Y_val_1000e = getE2eData13()\n",
        "# X_new_train = np.concatenate( (X_train_1000e, X_val_1000e), axis=0 )\n",
        "# Y_new_train = np.concatenate( (Y_train_1000e, Y_val_1000e), axis=0 )\n",
        "\n",
        "# # saving the features of 100 CNNs for the training data\n",
        "check_model_string = \"CNN256_A_\"\n",
        "not_check_model_string = [\"arallel\",\"Collab_\"]\n",
        "for dir_entry in os.scandir(f\"/content/drive/MyDrive/data_papers/{paper_name}/model_finals/\"):\n",
        "  if os.path.isdir(dir_entry):\n",
        "    if check_model_string in str(dir_entry) and all([ (not ncs in dir_entry.name) for ncs in not_check_model_string]):\n",
        "      if not dir_has_file_with_regex(f\"/content/drive/MyDrive/data_papers/{paper_name}/model_features\",f\".*{dir_entry.name.replace('_saved_model_after_fit','')}.*_features_LD1_Train.*$\"):\n",
        "        print(dir_entry.name)\n",
        "        write_features_from_models_idxCnt(\n",
        "          f\"/content/drive/MyDrive/data_papers/{paper_name}/model_finals/{dir_entry.name}\",\n",
        "          -4,\n",
        "          X_train_1000e, Y_train_1000e,\n",
        "          reverse_one_hot=False,\n",
        "          normalize_X_func=None,\n",
        "          dataset_id=\"Train\")\n",
        "      if not dir_has_file_with_regex(f\"/content/drive/MyDrive/data_papers/{paper_name}/model_features\",f\".*{dir_entry.name.replace('_saved_model_after_fit','')}.*_features_SFTMX1_Train.*$\"):\n",
        "        print(dir_entry.name)\n",
        "        write_features_from_models_idxCnt(\n",
        "          f\"/content/drive/MyDrive/data_papers/{paper_name}/model_finals/{dir_entry.name}\",\n",
        "          -1,\n",
        "          X_train_1000e, X_train_1000e,\n",
        "          reverse_one_hot=False,\n",
        "          normalize_X_func=None,\n",
        "          dataset_id=\"Train\")      "
      ],
      "execution_count": null,
      "outputs": []
    },
    {
      "cell_type": "code",
      "metadata": {
        "id": "kk8HZeqOI5IZ"
      },
      "source": [
        "# # saving the features of 100 CNNs for the Validation data\n",
        "\n",
        "# # /content/drive/MyDrive/data_papers/gpSVHN/model_finals/CNN_A_\n",
        "check_model_string = \"CNN256_A_\"\n",
        "not_check_model_string = [\"arallel\",\"Collab_\"]\n",
        "for dir_entry in os.scandir(f\"/content/drive/MyDrive/data_papers/{paper_name}/model_finals/\"):\n",
        "  if os.path.isdir(dir_entry):\n",
        "    if check_model_string in str(dir_entry) and all([ (not ncs in dir_entry.name) for ncs in not_check_model_string]):\n",
        "      if not dir_has_file_with_regex(f\"/content/drive/MyDrive/data_papers/{paper_name}/model_features\",f\".*{dir_entry.name.replace('_saved_model_after_fit','')}.*_features_LD1_Validation.*$\"):\n",
        "        print(dir_entry.name)\n",
        "        write_features_from_models_idxCnt(\n",
        "          f\"/content/drive/MyDrive/data_papers/{paper_name}/model_finals/{dir_entry.name}\",\n",
        "          -4,\n",
        "          X_val_1000e, Y_val_1000e,\n",
        "          reverse_one_hot=False,\n",
        "          normalize_X_func=None,\n",
        "          dataset_id=\"Validation\")\n",
        "      if not dir_has_file_with_regex(f\"/content/drive/MyDrive/data_papers/{paper_name}/model_features\",f\".*{dir_entry.name.replace('_saved_model_after_fit','')}.*_features_SFTMX1_Validation.*$\"):\n",
        "        print(dir_entry.name)\n",
        "        write_features_from_models_idxCnt(\n",
        "          f\"/content/drive/MyDrive/data_papers/{paper_name}/model_finals/{dir_entry.name}\",\n",
        "          -1,\n",
        "          X_val_1000e, Y_val_1000e,\n",
        "          reverse_one_hot=False,\n",
        "          normalize_X_func=None,\n",
        "          dataset_id=\"Validation\")      "
      ],
      "execution_count": null,
      "outputs": []
    },
    {
      "cell_type": "code",
      "metadata": {
        "id": "XIjoa4OnJAih"
      },
      "source": [
        "# # saving the features of 100 CNNs for the Test data\n",
        "\n",
        "# # /content/drive/MyDrive/data_papers/gpSVHN/model_finals/CNN_A_\n",
        "check_model_string = \"CNN256_A_\"\n",
        "not_check_model_string = [\"arallel\",\"Collab_\"]\n",
        "for dir_entry in os.scandir(f\"/content/drive/MyDrive/data_papers/{paper_name}/model_finals/\"):\n",
        "  if os.path.isdir(dir_entry):\n",
        "    if check_model_string in str(dir_entry) and all([ (not ncs in dir_entry.name) for ncs in not_check_model_string]):\n",
        "      if not dir_has_file_with_regex(f\"/content/drive/MyDrive/data_papers/{paper_name}/model_features\",f\".*{dir_entry.name.replace('_saved_model_after_fit','')}.*_features_LD1_Test.*$\"):\n",
        "        print(dir_entry.name)\n",
        "        write_features_from_models_idxCnt(\n",
        "          f\"/content/drive/MyDrive/data_papers/{paper_name}/model_finals/{dir_entry.name}\",\n",
        "          -4,\n",
        "          X_test_1000e, Y_test_1000e,\n",
        "          reverse_one_hot=False,\n",
        "          normalize_X_func=None,\n",
        "          dataset_id=\"Test\")\n",
        "      if not dir_has_file_with_regex(f\"/content/drive/MyDrive/data_papers/{paper_name}/model_features\",f\".*{dir_entry.name.replace('_saved_model_after_fit','')}.*_features_SFTMX1_Test.*$\"):\n",
        "        print(dir_entry.name)\n",
        "        write_features_from_models_idxCnt(\n",
        "          f\"/content/drive/MyDrive/data_papers/{paper_name}/model_finals/{dir_entry.name}\",\n",
        "          -1,\n",
        "          X_test_1000e, Y_test_1000e,\n",
        "          reverse_one_hot=False,\n",
        "          normalize_X_func=None,\n",
        "          dataset_id=\"Test\")      "
      ],
      "execution_count": null,
      "outputs": []
    },
    {
      "cell_type": "code",
      "metadata": {
        "id": "xZsCz3bYySRB"
      },
      "source": [
        "# getting the scores for the individual 100 CNNs on the test data set\n",
        "scores_cnn_simple = []\n",
        "check_model_string = \"CNN256_A_\"\n",
        "not_check_model_string = [\"arallel\",\"Collab_\"]\n",
        "for dir_entry in os.scandir(f\"/content/drive/MyDrive/data_papers/{paper_name}/model_finals/\"):\n",
        "  if os.path.isdir(dir_entry):\n",
        "    if check_model_string in str(dir_entry) and all([ (not ncs in dir_entry.name) for ncs in not_check_model_string]):\n",
        "      print(dir_entry.name)\n",
        "      model_here = tf.keras.models.load_model(f\"/content/drive/MyDrive/data_papers/{paper_name}/model_finals/{dir_entry.name}\")  \n",
        "      y_predict_here = np.array(model_here.predict(X_test_1000e), dtype='float64')\n",
        "      y_predict_here = np.apply_along_axis(np.argmax, 1, y_predict_here)\n",
        "      scores_cnn_simple.append(pr_rc_f1_acc_from_supplied(y_predict_here, np.apply_along_axis(np.argmax, 1, Y_test_1000e)))\n",
        "\n",
        "np.save(f\"/content/drive/MyDrive/data_papers/{paper_name}/summary_results/individual_cnn_summary_{datetime.datetime.now():%Y%m%d%H%M%S}\", np.array(scores_cnn_simple), \n",
        "               allow_pickle=True, \n",
        "               fix_imports=True)\n",
        "\n"
      ],
      "execution_count": null,
      "outputs": []
    },
    {
      "cell_type": "markdown",
      "metadata": {
        "id": "BEJ_HoV2BgJq"
      },
      "source": [
        "# Load old RNN models for reuse on Test13"
      ]
    },
    {
      "cell_type": "code",
      "metadata": {
        "id": "NZa9S23xBfPH"
      },
      "source": [
        "# os.listdir(f\"/content/drive/MyDrive/data_papers/{paper_name}/model_checkpoints/RNN_A_3_20211201005100_model_ep052_0.882_0.967\")\n",
        "# RNN_A_101_20211202161946_model_ep045_0.882_0.954\n",
        "# RNN_A_3_20211202220704_model_ep071_0.936_0.996\n",
        "# RNN_A_102_20211203065818_model_ep033_0.854_0.926\n",
        "# rnn_base = load_model(f\"/content/drive/MyDrive/data_papers/{paper_name}/model_checkpoints/RNN_A_3_20211201005100_model_ep052_0.882_0.967\")\n",
        "# rnn_base = load_model(f\"/content/drive/MyDrive/data_papers/{paper_name}/model_checkpoints/RNN_A_101_20211202161946_model_ep045_0.882_0.954\")\n",
        "# rnn_base = load_model(f\"/content/drive/MyDrive/data_papers/{paper_name}/model_checkpoints/RNN_A_102_20211203065818_model_ep044_0.900_0.965\")\n",
        "# rnn_base = load_model(f\"/content/drive/MyDrive/data_papers/{paper_name}/model_checkpoints/RNN_A_301_20211204152506_model_ep109_0.931_0.989\")\n",
        "# rnn_base = load_model(f\"/content/drive/MyDrive/data_papers/{paper_name}/model_checkpoints/RNN_A_302_20211205171608_model_ep046_0.897_0.963\")\n",
        "\n",
        "rnn_base = load_model(f\"/content/drive/MyDrive/data_papers/{paper_name}/model_checkpoints/RNN_A_303_20211206064252_model_ep001_0.616_0.727\")\n",
        "# RNN_A_403_20211206140009_model_ep006_0.480_0.575\n"
      ],
      "execution_count": null,
      "outputs": []
    },
    {
      "cell_type": "code",
      "metadata": {
        "colab": {
          "base_uri": "https://localhost:8080/",
          "height": 35
        },
        "id": "3N2JDxIlRkEG",
        "outputId": "a0b8afde-7cd3-4c99-fa74-2df43b77ca80"
      },
      "source": [
        "# rnn_base._name = rnn_base._name.replace(\"_302_\",\"_302B_\")\n",
        "# rnn_base.name"
      ],
      "execution_count": null,
      "outputs": [
        {
          "output_type": "execute_result",
          "data": {
            "application/vnd.google.colaboratory.intrinsic+json": {
              "type": "string"
            },
            "text/plain": [
              "'RNN_A_302B_20211205171608'"
            ]
          },
          "metadata": {},
          "execution_count": 27
        }
      ]
    },
    {
      "cell_type": "code",
      "metadata": {
        "colab": {
          "base_uri": "https://localhost:8080/",
          "height": 387
        },
        "id": "2fSCVHWbRYjo",
        "outputId": "28277cc9-1f4e-430e-ba88-334209ebc231"
      },
      "source": [
        "m1x, h1x = compile_and_fit_model_basic_core( rnn_base,  \n",
        "                    rnn_base.name, \n",
        "                    X_new_train[0].shape, \n",
        "                    X_new_train, \n",
        "                    Y_new_train,\n",
        "                    save_max_epoch=True,\n",
        "                    save_final=True,\n",
        "                    patience_count = 10,\n",
        "                    early_stopping_obs = 'val_accuracy',\n",
        "                    log_history = True,                             \n",
        "                    batch_size=64, \n",
        "                    epochs=80, \n",
        "                    class_weight=None, \n",
        "                    verbose_level=1,\n",
        "                    validation_data=(X_val_1000e, Y_val_1000e))"
      ],
      "execution_count": null,
      "outputs": [
        {
          "output_type": "stream",
          "name": "stdout",
          "text": [
            "Epoch 1/80\n",
            "105/121 [=========================>....] - ETA: 2:34 - loss: 1.0635 - accuracy: 0.6391"
          ]
        },
        {
          "output_type": "error",
          "ename": "KeyboardInterrupt",
          "evalue": "ignored",
          "traceback": [
            "\u001b[0;31m---------------------------------------------------------------------------\u001b[0m",
            "\u001b[0;31mKeyboardInterrupt\u001b[0m                         Traceback (most recent call last)",
            "\u001b[0;32m<ipython-input-27-cfbe3cb21350>\u001b[0m in \u001b[0;36m<module>\u001b[0;34m()\u001b[0m\n\u001b[1;32m     13\u001b[0m                     \u001b[0mclass_weight\u001b[0m\u001b[0;34m=\u001b[0m\u001b[0;32mNone\u001b[0m\u001b[0;34m,\u001b[0m\u001b[0;34m\u001b[0m\u001b[0;34m\u001b[0m\u001b[0m\n\u001b[1;32m     14\u001b[0m                     \u001b[0mverbose_level\u001b[0m\u001b[0;34m=\u001b[0m\u001b[0;36m1\u001b[0m\u001b[0;34m,\u001b[0m\u001b[0;34m\u001b[0m\u001b[0;34m\u001b[0m\u001b[0m\n\u001b[0;32m---> 15\u001b[0;31m                     validation_data=(X_val_1000e, Y_val_1000e))\n\u001b[0m",
            "\u001b[0;32m<ipython-input-25-1992fb863201>\u001b[0m in \u001b[0;36mcompile_and_fit_model_basic_core\u001b[0;34m(model_func, model_name, input_shape, X_train, Y_train, save_max_epoch, save_final, patience_count, early_stopping_obs, log_history, verbose_level, use_tb_callback, **kwargs)\u001b[0m\n\u001b[1;32m     63\u001b[0m \u001b[0;34m\u001b[0m\u001b[0m\n\u001b[1;32m     64\u001b[0m     \u001b[0mm\u001b[0m\u001b[0;34m.\u001b[0m\u001b[0mcompile\u001b[0m\u001b[0;34m(\u001b[0m\u001b[0mloss\u001b[0m\u001b[0;34m=\u001b[0m\u001b[0;34m'categorical_crossentropy'\u001b[0m\u001b[0;34m,\u001b[0m \u001b[0moptimizer\u001b[0m\u001b[0;34m=\u001b[0m\u001b[0;34m'adam'\u001b[0m\u001b[0;34m,\u001b[0m \u001b[0mmetrics\u001b[0m\u001b[0;34m=\u001b[0m\u001b[0;34m[\u001b[0m\u001b[0;34m'accuracy'\u001b[0m\u001b[0;34m]\u001b[0m\u001b[0;34m)\u001b[0m\u001b[0;34m\u001b[0m\u001b[0;34m\u001b[0m\u001b[0m\n\u001b[0;32m---> 65\u001b[0;31m     \u001b[0mhistory\u001b[0m \u001b[0;34m=\u001b[0m \u001b[0mm\u001b[0m\u001b[0;34m.\u001b[0m\u001b[0mfit\u001b[0m\u001b[0;34m(\u001b[0m\u001b[0mX_train\u001b[0m\u001b[0;34m,\u001b[0m \u001b[0mY_train\u001b[0m\u001b[0;34m,\u001b[0m \u001b[0mcallbacks\u001b[0m\u001b[0;34m=\u001b[0m\u001b[0mcallbacks_used\u001b[0m\u001b[0;34m,\u001b[0m \u001b[0mverbose\u001b[0m\u001b[0;34m=\u001b[0m\u001b[0mverbose_level\u001b[0m\u001b[0;34m,\u001b[0m \u001b[0;34m**\u001b[0m\u001b[0mkwargs\u001b[0m\u001b[0;34m)\u001b[0m\u001b[0;34m\u001b[0m\u001b[0;34m\u001b[0m\u001b[0m\n\u001b[0m\u001b[1;32m     66\u001b[0m     \u001b[0;32mif\u001b[0m \u001b[0msave_final\u001b[0m\u001b[0;34m:\u001b[0m\u001b[0;34m\u001b[0m\u001b[0;34m\u001b[0m\u001b[0m\n\u001b[1;32m     67\u001b[0m         \u001b[0mmake_dir_if_not_exist\u001b[0m\u001b[0;34m(\u001b[0m\u001b[0mmodel_name\u001b[0m\u001b[0;34m)\u001b[0m\u001b[0;34m\u001b[0m\u001b[0;34m\u001b[0m\u001b[0m\n",
            "\u001b[0;32m/usr/local/lib/python3.7/dist-packages/keras/utils/traceback_utils.py\u001b[0m in \u001b[0;36merror_handler\u001b[0;34m(*args, **kwargs)\u001b[0m\n\u001b[1;32m     62\u001b[0m     \u001b[0mfiltered_tb\u001b[0m \u001b[0;34m=\u001b[0m \u001b[0;32mNone\u001b[0m\u001b[0;34m\u001b[0m\u001b[0;34m\u001b[0m\u001b[0m\n\u001b[1;32m     63\u001b[0m     \u001b[0;32mtry\u001b[0m\u001b[0;34m:\u001b[0m\u001b[0;34m\u001b[0m\u001b[0;34m\u001b[0m\u001b[0m\n\u001b[0;32m---> 64\u001b[0;31m       \u001b[0;32mreturn\u001b[0m \u001b[0mfn\u001b[0m\u001b[0;34m(\u001b[0m\u001b[0;34m*\u001b[0m\u001b[0margs\u001b[0m\u001b[0;34m,\u001b[0m \u001b[0;34m**\u001b[0m\u001b[0mkwargs\u001b[0m\u001b[0;34m)\u001b[0m\u001b[0;34m\u001b[0m\u001b[0;34m\u001b[0m\u001b[0m\n\u001b[0m\u001b[1;32m     65\u001b[0m     \u001b[0;32mexcept\u001b[0m \u001b[0mException\u001b[0m \u001b[0;32mas\u001b[0m \u001b[0me\u001b[0m\u001b[0;34m:\u001b[0m  \u001b[0;31m# pylint: disable=broad-except\u001b[0m\u001b[0;34m\u001b[0m\u001b[0;34m\u001b[0m\u001b[0m\n\u001b[1;32m     66\u001b[0m       \u001b[0mfiltered_tb\u001b[0m \u001b[0;34m=\u001b[0m \u001b[0m_process_traceback_frames\u001b[0m\u001b[0;34m(\u001b[0m\u001b[0me\u001b[0m\u001b[0;34m.\u001b[0m\u001b[0m__traceback__\u001b[0m\u001b[0;34m)\u001b[0m\u001b[0;34m\u001b[0m\u001b[0;34m\u001b[0m\u001b[0m\n",
            "\u001b[0;32m/usr/local/lib/python3.7/dist-packages/keras/engine/training.py\u001b[0m in \u001b[0;36mfit\u001b[0;34m(self, x, y, batch_size, epochs, verbose, callbacks, validation_split, validation_data, shuffle, class_weight, sample_weight, initial_epoch, steps_per_epoch, validation_steps, validation_batch_size, validation_freq, max_queue_size, workers, use_multiprocessing)\u001b[0m\n\u001b[1;32m   1214\u001b[0m                 _r=1):\n\u001b[1;32m   1215\u001b[0m               \u001b[0mcallbacks\u001b[0m\u001b[0;34m.\u001b[0m\u001b[0mon_train_batch_begin\u001b[0m\u001b[0;34m(\u001b[0m\u001b[0mstep\u001b[0m\u001b[0;34m)\u001b[0m\u001b[0;34m\u001b[0m\u001b[0;34m\u001b[0m\u001b[0m\n\u001b[0;32m-> 1216\u001b[0;31m               \u001b[0mtmp_logs\u001b[0m \u001b[0;34m=\u001b[0m \u001b[0mself\u001b[0m\u001b[0;34m.\u001b[0m\u001b[0mtrain_function\u001b[0m\u001b[0;34m(\u001b[0m\u001b[0miterator\u001b[0m\u001b[0;34m)\u001b[0m\u001b[0;34m\u001b[0m\u001b[0;34m\u001b[0m\u001b[0m\n\u001b[0m\u001b[1;32m   1217\u001b[0m               \u001b[0;32mif\u001b[0m \u001b[0mdata_handler\u001b[0m\u001b[0;34m.\u001b[0m\u001b[0mshould_sync\u001b[0m\u001b[0;34m:\u001b[0m\u001b[0;34m\u001b[0m\u001b[0;34m\u001b[0m\u001b[0m\n\u001b[1;32m   1218\u001b[0m                 \u001b[0mcontext\u001b[0m\u001b[0;34m.\u001b[0m\u001b[0masync_wait\u001b[0m\u001b[0;34m(\u001b[0m\u001b[0;34m)\u001b[0m\u001b[0;34m\u001b[0m\u001b[0;34m\u001b[0m\u001b[0m\n",
            "\u001b[0;32m/usr/local/lib/python3.7/dist-packages/tensorflow/python/util/traceback_utils.py\u001b[0m in \u001b[0;36merror_handler\u001b[0;34m(*args, **kwargs)\u001b[0m\n\u001b[1;32m    148\u001b[0m     \u001b[0mfiltered_tb\u001b[0m \u001b[0;34m=\u001b[0m \u001b[0;32mNone\u001b[0m\u001b[0;34m\u001b[0m\u001b[0;34m\u001b[0m\u001b[0m\n\u001b[1;32m    149\u001b[0m     \u001b[0;32mtry\u001b[0m\u001b[0;34m:\u001b[0m\u001b[0;34m\u001b[0m\u001b[0;34m\u001b[0m\u001b[0m\n\u001b[0;32m--> 150\u001b[0;31m       \u001b[0;32mreturn\u001b[0m \u001b[0mfn\u001b[0m\u001b[0;34m(\u001b[0m\u001b[0;34m*\u001b[0m\u001b[0margs\u001b[0m\u001b[0;34m,\u001b[0m \u001b[0;34m**\u001b[0m\u001b[0mkwargs\u001b[0m\u001b[0;34m)\u001b[0m\u001b[0;34m\u001b[0m\u001b[0;34m\u001b[0m\u001b[0m\n\u001b[0m\u001b[1;32m    151\u001b[0m     \u001b[0;32mexcept\u001b[0m \u001b[0mException\u001b[0m \u001b[0;32mas\u001b[0m \u001b[0me\u001b[0m\u001b[0;34m:\u001b[0m\u001b[0;34m\u001b[0m\u001b[0;34m\u001b[0m\u001b[0m\n\u001b[1;32m    152\u001b[0m       \u001b[0mfiltered_tb\u001b[0m \u001b[0;34m=\u001b[0m \u001b[0m_process_traceback_frames\u001b[0m\u001b[0;34m(\u001b[0m\u001b[0me\u001b[0m\u001b[0;34m.\u001b[0m\u001b[0m__traceback__\u001b[0m\u001b[0;34m)\u001b[0m\u001b[0;34m\u001b[0m\u001b[0;34m\u001b[0m\u001b[0m\n",
            "\u001b[0;32m/usr/local/lib/python3.7/dist-packages/tensorflow/python/eager/def_function.py\u001b[0m in \u001b[0;36m__call__\u001b[0;34m(self, *args, **kwds)\u001b[0m\n\u001b[1;32m    908\u001b[0m \u001b[0;34m\u001b[0m\u001b[0m\n\u001b[1;32m    909\u001b[0m       \u001b[0;32mwith\u001b[0m \u001b[0mOptionalXlaContext\u001b[0m\u001b[0;34m(\u001b[0m\u001b[0mself\u001b[0m\u001b[0;34m.\u001b[0m\u001b[0m_jit_compile\u001b[0m\u001b[0;34m)\u001b[0m\u001b[0;34m:\u001b[0m\u001b[0;34m\u001b[0m\u001b[0;34m\u001b[0m\u001b[0m\n\u001b[0;32m--> 910\u001b[0;31m         \u001b[0mresult\u001b[0m \u001b[0;34m=\u001b[0m \u001b[0mself\u001b[0m\u001b[0;34m.\u001b[0m\u001b[0m_call\u001b[0m\u001b[0;34m(\u001b[0m\u001b[0;34m*\u001b[0m\u001b[0margs\u001b[0m\u001b[0;34m,\u001b[0m \u001b[0;34m**\u001b[0m\u001b[0mkwds\u001b[0m\u001b[0;34m)\u001b[0m\u001b[0;34m\u001b[0m\u001b[0;34m\u001b[0m\u001b[0m\n\u001b[0m\u001b[1;32m    911\u001b[0m \u001b[0;34m\u001b[0m\u001b[0m\n\u001b[1;32m    912\u001b[0m       \u001b[0mnew_tracing_count\u001b[0m \u001b[0;34m=\u001b[0m \u001b[0mself\u001b[0m\u001b[0;34m.\u001b[0m\u001b[0mexperimental_get_tracing_count\u001b[0m\u001b[0;34m(\u001b[0m\u001b[0;34m)\u001b[0m\u001b[0;34m\u001b[0m\u001b[0;34m\u001b[0m\u001b[0m\n",
            "\u001b[0;32m/usr/local/lib/python3.7/dist-packages/tensorflow/python/eager/def_function.py\u001b[0m in \u001b[0;36m_call\u001b[0;34m(self, *args, **kwds)\u001b[0m\n\u001b[1;32m    940\u001b[0m       \u001b[0;31m# In this case we have created variables on the first call, so we run the\u001b[0m\u001b[0;34m\u001b[0m\u001b[0;34m\u001b[0m\u001b[0;34m\u001b[0m\u001b[0m\n\u001b[1;32m    941\u001b[0m       \u001b[0;31m# defunned version which is guaranteed to never create variables.\u001b[0m\u001b[0;34m\u001b[0m\u001b[0;34m\u001b[0m\u001b[0;34m\u001b[0m\u001b[0m\n\u001b[0;32m--> 942\u001b[0;31m       \u001b[0;32mreturn\u001b[0m \u001b[0mself\u001b[0m\u001b[0;34m.\u001b[0m\u001b[0m_stateless_fn\u001b[0m\u001b[0;34m(\u001b[0m\u001b[0;34m*\u001b[0m\u001b[0margs\u001b[0m\u001b[0;34m,\u001b[0m \u001b[0;34m**\u001b[0m\u001b[0mkwds\u001b[0m\u001b[0;34m)\u001b[0m  \u001b[0;31m# pylint: disable=not-callable\u001b[0m\u001b[0;34m\u001b[0m\u001b[0;34m\u001b[0m\u001b[0m\n\u001b[0m\u001b[1;32m    943\u001b[0m     \u001b[0;32melif\u001b[0m \u001b[0mself\u001b[0m\u001b[0;34m.\u001b[0m\u001b[0m_stateful_fn\u001b[0m \u001b[0;32mis\u001b[0m \u001b[0;32mnot\u001b[0m \u001b[0;32mNone\u001b[0m\u001b[0;34m:\u001b[0m\u001b[0;34m\u001b[0m\u001b[0;34m\u001b[0m\u001b[0m\n\u001b[1;32m    944\u001b[0m       \u001b[0;31m# Release the lock early so that multiple threads can perform the call\u001b[0m\u001b[0;34m\u001b[0m\u001b[0;34m\u001b[0m\u001b[0;34m\u001b[0m\u001b[0m\n",
            "\u001b[0;32m/usr/local/lib/python3.7/dist-packages/tensorflow/python/eager/function.py\u001b[0m in \u001b[0;36m__call__\u001b[0;34m(self, *args, **kwargs)\u001b[0m\n\u001b[1;32m   3129\u001b[0m        filtered_flat_args) = self._maybe_define_function(args, kwargs)\n\u001b[1;32m   3130\u001b[0m     return graph_function._call_flat(\n\u001b[0;32m-> 3131\u001b[0;31m         filtered_flat_args, captured_inputs=graph_function.captured_inputs)  # pylint: disable=protected-access\n\u001b[0m\u001b[1;32m   3132\u001b[0m \u001b[0;34m\u001b[0m\u001b[0m\n\u001b[1;32m   3133\u001b[0m   \u001b[0;34m@\u001b[0m\u001b[0mproperty\u001b[0m\u001b[0;34m\u001b[0m\u001b[0;34m\u001b[0m\u001b[0m\n",
            "\u001b[0;32m/usr/local/lib/python3.7/dist-packages/tensorflow/python/eager/function.py\u001b[0m in \u001b[0;36m_call_flat\u001b[0;34m(self, args, captured_inputs, cancellation_manager)\u001b[0m\n\u001b[1;32m   1958\u001b[0m       \u001b[0;31m# No tape is watching; skip to running the function.\u001b[0m\u001b[0;34m\u001b[0m\u001b[0;34m\u001b[0m\u001b[0;34m\u001b[0m\u001b[0m\n\u001b[1;32m   1959\u001b[0m       return self._build_call_outputs(self._inference_function.call(\n\u001b[0;32m-> 1960\u001b[0;31m           ctx, args, cancellation_manager=cancellation_manager))\n\u001b[0m\u001b[1;32m   1961\u001b[0m     forward_backward = self._select_forward_and_backward_functions(\n\u001b[1;32m   1962\u001b[0m         \u001b[0margs\u001b[0m\u001b[0;34m,\u001b[0m\u001b[0;34m\u001b[0m\u001b[0;34m\u001b[0m\u001b[0m\n",
            "\u001b[0;32m/usr/local/lib/python3.7/dist-packages/tensorflow/python/eager/function.py\u001b[0m in \u001b[0;36mcall\u001b[0;34m(self, ctx, args, cancellation_manager)\u001b[0m\n\u001b[1;32m    601\u001b[0m               \u001b[0minputs\u001b[0m\u001b[0;34m=\u001b[0m\u001b[0margs\u001b[0m\u001b[0;34m,\u001b[0m\u001b[0;34m\u001b[0m\u001b[0;34m\u001b[0m\u001b[0m\n\u001b[1;32m    602\u001b[0m               \u001b[0mattrs\u001b[0m\u001b[0;34m=\u001b[0m\u001b[0mattrs\u001b[0m\u001b[0;34m,\u001b[0m\u001b[0;34m\u001b[0m\u001b[0;34m\u001b[0m\u001b[0m\n\u001b[0;32m--> 603\u001b[0;31m               ctx=ctx)\n\u001b[0m\u001b[1;32m    604\u001b[0m         \u001b[0;32melse\u001b[0m\u001b[0;34m:\u001b[0m\u001b[0;34m\u001b[0m\u001b[0;34m\u001b[0m\u001b[0m\n\u001b[1;32m    605\u001b[0m           outputs = execute.execute_with_cancellation(\n",
            "\u001b[0;32m/usr/local/lib/python3.7/dist-packages/tensorflow/python/eager/execute.py\u001b[0m in \u001b[0;36mquick_execute\u001b[0;34m(op_name, num_outputs, inputs, attrs, ctx, name)\u001b[0m\n\u001b[1;32m     57\u001b[0m     \u001b[0mctx\u001b[0m\u001b[0;34m.\u001b[0m\u001b[0mensure_initialized\u001b[0m\u001b[0;34m(\u001b[0m\u001b[0;34m)\u001b[0m\u001b[0;34m\u001b[0m\u001b[0;34m\u001b[0m\u001b[0m\n\u001b[1;32m     58\u001b[0m     tensors = pywrap_tfe.TFE_Py_Execute(ctx._handle, device_name, op_name,\n\u001b[0;32m---> 59\u001b[0;31m                                         inputs, attrs, num_outputs)\n\u001b[0m\u001b[1;32m     60\u001b[0m   \u001b[0;32mexcept\u001b[0m \u001b[0mcore\u001b[0m\u001b[0;34m.\u001b[0m\u001b[0m_NotOkStatusException\u001b[0m \u001b[0;32mas\u001b[0m \u001b[0me\u001b[0m\u001b[0;34m:\u001b[0m\u001b[0;34m\u001b[0m\u001b[0;34m\u001b[0m\u001b[0m\n\u001b[1;32m     61\u001b[0m     \u001b[0;32mif\u001b[0m \u001b[0mname\u001b[0m \u001b[0;32mis\u001b[0m \u001b[0;32mnot\u001b[0m \u001b[0;32mNone\u001b[0m\u001b[0;34m:\u001b[0m\u001b[0;34m\u001b[0m\u001b[0;34m\u001b[0m\u001b[0m\n",
            "\u001b[0;31mKeyboardInterrupt\u001b[0m: "
          ]
        }
      ]
    },
    {
      "cell_type": "code",
      "metadata": {
        "id": "E-2zFVzUcDp8"
      },
      "source": [
        "# rnn_base = load_model(f\"/content/drive/MyDrive/data_papers/{paper_name}/model_checkpoints/RNN_A_102_20211203065818_model_ep033_0.854_0.926\")\n",
        "# rnn_base._name = rnn_base._name.replace(\"_102_\",\"_102B_\")\n",
        "# m1x2, h1x2 = compile_and_fit_model_basic_core( rnn_base,  \n",
        "#                     rnn_base.name, \n",
        "#                     X_new_train[0].shape, \n",
        "#                     X_new_train, \n",
        "#                     Y_new_train,\n",
        "#                     save_max_epoch=False,\n",
        "#                     save_final=True,\n",
        "#                     patience_count = 4,\n",
        "#                     early_stopping_obs = 'val_accuracy',\n",
        "#                     log_history = True,                             \n",
        "#                     batch_size=64, \n",
        "#                     epochs=25, \n",
        "#                     class_weight=None, \n",
        "#                     verbose_level=1,\n",
        "#                     validation_data=(X_val_1000e, Y_val_1000e))"
      ],
      "execution_count": null,
      "outputs": []
    },
    {
      "cell_type": "markdown",
      "metadata": {
        "id": "q6M9xK1N-i9t"
      },
      "source": [
        "# Set up the RNN models for reuse on Test13"
      ]
    },
    {
      "cell_type": "code",
      "metadata": {
        "id": "YBq9lCju-i9t"
      },
      "source": [
        "# # saving 100 DNNs\n",
        "for model_count in [i+1 for i in range(10)]:\n",
        "  m1, h1 = compile_and_fit_model_basic_core( model_with_pure_rnn_finalist,  \n",
        "                    f\"RNN_A_{str(model_count+303)}_{datetime.datetime.now():%Y%m%d%H%M%S}\", \n",
        "                    X_new_train[0].shape, \n",
        "                    X_new_train, \n",
        "                    Y_new_train,\n",
        "                    save_max_epoch=True,\n",
        "                    save_final=True,\n",
        "                    patience_count = 12,\n",
        "                    early_stopping_obs = 'val_accuracy',\n",
        "                    log_history = True,                             \n",
        "                    batch_size=128, \n",
        "                    epochs=200, \n",
        "                    class_weight=None, \n",
        "                    verbose_level=1,\n",
        "                    validation_data=(X_val_1000e, Y_val_1000e))"
      ],
      "execution_count": null,
      "outputs": []
    },
    {
      "cell_type": "code",
      "metadata": {
        "id": "Yw22zVLlR-P9"
      },
      "source": [
        ""
      ],
      "execution_count": null,
      "outputs": []
    },
    {
      "cell_type": "code",
      "metadata": {
        "id": "pzGIzxjEtB_c"
      },
      "source": [
        "rnnmexample =load_model(f\"/content/drive/MyDrive/data_papers/{paper_name}/model_finals/RNN_A_101B_20211202161946_saved_model_after_fit\")\n",
        "rnnmexample2 =load_model(f\"/content/drive/MyDrive/data_papers/{paper_name}/model_finals/RNN_A_302_20211205171608_saved_model_after_fit\")"
      ],
      "execution_count": null,
      "outputs": []
    },
    {
      "cell_type": "code",
      "metadata": {
        "colab": {
          "base_uri": "https://localhost:8080/"
        },
        "id": "GLOH77eOtB_c",
        "outputId": "918ef912-1c15-4ebe-c823-ca52956bf53e"
      },
      "source": [
        "# os.listdir(f\"/content/drive/MyDrive/data_papers/{paper_name}/model_finals/\")\n",
        "\n",
        "# (rnnmexample.layers[-1].name,rnnmexample2.layers[-1].name)\n",
        "# (rnnmexample.layers[-4].name,rnnmexample2.layers[-4].name)\n"
      ],
      "execution_count": null,
      "outputs": [
        {
          "output_type": "execute_result",
          "data": {
            "text/plain": [
              "('leaky_re_lu_1', 'dense_2')"
            ]
          },
          "metadata": {},
          "execution_count": 79
        }
      ]
    },
    {
      "cell_type": "code",
      "metadata": {
        "colab": {
          "base_uri": "https://localhost:8080/"
        },
        "id": "aGJHhqTJtB_c",
        "outputId": "7da896fd-9a9b-4e89-b079-8e319c805d43"
      },
      "source": [
        "# X_train_1000e, Y_train_1000e, X_test_1000e, Y_test_1000e, X_val_1000e, Y_val_1000e = getE2eData13()\n",
        "# X_new_train = np.concatenate( (X_train_1000e, X_val_1000e), axis=0 )\n",
        "# Y_new_train = np.concatenate( (Y_train_1000e, Y_val_1000e), axis=0 )\n",
        "\n",
        "# # saving the features of 100 RNNs for the training data\n",
        "check_model_string = \"RNN_A_\"\n",
        "not_check_model_string = [\"arallel\",\"Collab_\"]\n",
        "for dir_entry in os.scandir(f\"/content/drive/MyDrive/data_papers/{paper_name}/model_finals/\"):\n",
        "  if os.path.isdir(dir_entry):\n",
        "    if check_model_string in str(dir_entry) and all([ (not ncs in dir_entry.name) for ncs in not_check_model_string]):\n",
        "      if not dir_has_file_with_regex(f\"/content/drive/MyDrive/data_papers/{paper_name}/model_features\",f\".*{dir_entry.name.replace('_saved_model_after_fit','')}.*_features_LD1_Train.*$\"):\n",
        "        print(dir_entry.name)\n",
        "        write_features_from_models_idxCnt(\n",
        "          f\"/content/drive/MyDrive/data_papers/{paper_name}/model_finals/{dir_entry.name}\",\n",
        "          -4,\n",
        "          X_train_1000e, Y_train_1000e,\n",
        "          reverse_one_hot=False,\n",
        "          normalize_X_func=None,\n",
        "          dataset_id=\"Train\")\n",
        "      if not dir_has_file_with_regex(f\"/content/drive/MyDrive/data_papers/{paper_name}/model_features\",f\".*{dir_entry.name.replace('_saved_model_after_fit','')}.*_features_SFTMX1_Train.*$\"):\n",
        "        print(dir_entry.name)\n",
        "        write_features_from_models_idxCnt(\n",
        "          f\"/content/drive/MyDrive/data_papers/{paper_name}/model_finals/{dir_entry.name}\",\n",
        "          -1,\n",
        "          X_train_1000e, X_train_1000e,\n",
        "          reverse_one_hot=False,\n",
        "          normalize_X_func=None,\n",
        "          dataset_id=\"Train\")      "
      ],
      "execution_count": null,
      "outputs": [
        {
          "output_type": "stream",
          "name": "stdout",
          "text": [
            "RNN_A_1_20211125061523_saved_model_after_fit\n",
            "RNN_A_1_20211125061523_saved_model_after_fit\n",
            "RNN_A_2_20211130131128_saved_model_after_fit\n",
            "RNN_A_2_20211130131128_saved_model_after_fit\n",
            "RNN_A_3_20211201005100_saved_model_after_fit\n",
            "RNN_A_3_20211201005100_saved_model_after_fit\n",
            "RNN_A_101_20211202161946_saved_model_after_fit\n",
            "RNN_A_101_20211202161946_saved_model_after_fit\n",
            "RNN_A_102_20211203065818_saved_model_after_fit\n",
            "RNN_A_102_20211203065818_saved_model_after_fit\n",
            "RNN_A_101B_20211202161946_saved_model_after_fit\n",
            "RNN_A_101B_20211202161946_saved_model_after_fit\n",
            "RNN_A_201_20211204013934_saved_model_after_fit\n",
            "RNN_A_201_20211204013934_saved_model_after_fit\n",
            "RNN_A_301_20211204152506_saved_model_after_fit\n",
            "RNN_A_301_20211204152506_saved_model_after_fit\n",
            "RNN_A_401_20211205025618_saved_model_after_fit\n",
            "RNN_A_401_20211205025618_saved_model_after_fit\n",
            "RNN_A_302_20211205171608_saved_model_after_fit\n",
            "RNN_A_302_20211205171608_saved_model_after_fit\n",
            "RNN_A_302B_20211205171608_saved_model_after_fit\n",
            "RNN_A_302B_20211205171608_saved_model_after_fit\n",
            "RNN_A_402_20211205185555_saved_model_after_fit\n",
            "RNN_A_402_20211205185555_saved_model_after_fit\n"
          ]
        }
      ]
    },
    {
      "cell_type": "code",
      "metadata": {
        "colab": {
          "base_uri": "https://localhost:8080/"
        },
        "id": "j2JHi-ustB_c",
        "outputId": "739fb85b-06c2-4709-87f2-7d503d28113b"
      },
      "source": [
        "# # saving the features of 100 RNNs for the Validation data\n",
        "\n",
        "# # /content/drive/MyDrive/data_papers/gpSVHN/model_finals/CNN_A_\n",
        "check_model_string = \"RNN_A_\"\n",
        "not_check_model_string = [\"arallel\",\"Collab_\"]\n",
        "for dir_entry in os.scandir(f\"/content/drive/MyDrive/data_papers/{paper_name}/model_finals/\"):\n",
        "  if os.path.isdir(dir_entry):\n",
        "    if check_model_string in str(dir_entry) and all([ (not ncs in dir_entry.name) for ncs in not_check_model_string]):\n",
        "      if not dir_has_file_with_regex(f\"/content/drive/MyDrive/data_papers/{paper_name}/model_features\",f\".*{dir_entry.name.replace('_saved_model_after_fit','')}.*_features_LD1_Validation.*$\"):\n",
        "        print(dir_entry.name)\n",
        "        write_features_from_models_idxCnt(\n",
        "          f\"/content/drive/MyDrive/data_papers/{paper_name}/model_finals/{dir_entry.name}\",\n",
        "          -4,\n",
        "          X_val_1000e, Y_val_1000e,\n",
        "          reverse_one_hot=False,\n",
        "          normalize_X_func=None,\n",
        "          dataset_id=\"Validation\")\n",
        "      if not dir_has_file_with_regex(f\"/content/drive/MyDrive/data_papers/{paper_name}/model_features\",f\".*{dir_entry.name.replace('_saved_model_after_fit','')}.*_features_SFTMX1_Validation.*$\"):\n",
        "        print(dir_entry.name)\n",
        "        write_features_from_models_idxCnt(\n",
        "          f\"/content/drive/MyDrive/data_papers/{paper_name}/model_finals/{dir_entry.name}\",\n",
        "          -1,\n",
        "          X_val_1000e, Y_val_1000e,\n",
        "          reverse_one_hot=False,\n",
        "          normalize_X_func=None,\n",
        "          dataset_id=\"Validation\")      "
      ],
      "execution_count": null,
      "outputs": [
        {
          "output_type": "stream",
          "name": "stdout",
          "text": [
            "RNN_A_1_20211125061523_saved_model_after_fit\n",
            "RNN_A_1_20211125061523_saved_model_after_fit\n",
            "RNN_A_2_20211130131128_saved_model_after_fit\n",
            "RNN_A_2_20211130131128_saved_model_after_fit\n",
            "RNN_A_3_20211201005100_saved_model_after_fit\n",
            "RNN_A_3_20211201005100_saved_model_after_fit\n",
            "RNN_A_101_20211202161946_saved_model_after_fit\n",
            "RNN_A_101_20211202161946_saved_model_after_fit\n",
            "RNN_A_102_20211203065818_saved_model_after_fit\n",
            "RNN_A_102_20211203065818_saved_model_after_fit\n",
            "RNN_A_101B_20211202161946_saved_model_after_fit\n",
            "RNN_A_101B_20211202161946_saved_model_after_fit\n",
            "RNN_A_201_20211204013934_saved_model_after_fit\n",
            "RNN_A_201_20211204013934_saved_model_after_fit\n",
            "RNN_A_301_20211204152506_saved_model_after_fit\n",
            "RNN_A_301_20211204152506_saved_model_after_fit\n",
            "RNN_A_401_20211205025618_saved_model_after_fit\n",
            "RNN_A_401_20211205025618_saved_model_after_fit\n",
            "RNN_A_302_20211205171608_saved_model_after_fit\n",
            "RNN_A_302_20211205171608_saved_model_after_fit\n",
            "RNN_A_302B_20211205171608_saved_model_after_fit\n",
            "RNN_A_302B_20211205171608_saved_model_after_fit\n",
            "RNN_A_402_20211205185555_saved_model_after_fit\n",
            "RNN_A_402_20211205185555_saved_model_after_fit\n"
          ]
        }
      ]
    },
    {
      "cell_type": "code",
      "metadata": {
        "colab": {
          "base_uri": "https://localhost:8080/"
        },
        "id": "S-Uc3D5wtB_d",
        "outputId": "2203140e-84fa-44ba-bc54-1dda6112eff6"
      },
      "source": [
        "# # saving the features of 100 RNNs for the Test data\n",
        "\n",
        "# # /content/drive/MyDrive/data_papers/gpSVHN/model_finals/CNN_A_\n",
        "check_model_string = \"RNN_A_\"\n",
        "not_check_model_string = [\"arallel\",\"Collab_\"]\n",
        "for dir_entry in os.scandir(f\"/content/drive/MyDrive/data_papers/{paper_name}/model_finals/\"):\n",
        "  if os.path.isdir(dir_entry):\n",
        "    if check_model_string in str(dir_entry) and all([ (not ncs in dir_entry.name) for ncs in not_check_model_string]):\n",
        "      if not dir_has_file_with_regex(f\"/content/drive/MyDrive/data_papers/{paper_name}/model_features\",f\".*{dir_entry.name.replace('_saved_model_after_fit','')}.*_features_LD1_Test.*$\"):\n",
        "        print(dir_entry.name)\n",
        "        write_features_from_models_idxCnt(\n",
        "          f\"/content/drive/MyDrive/data_papers/{paper_name}/model_finals/{dir_entry.name}\",\n",
        "          -4,\n",
        "          X_test_1000e, Y_test_1000e,\n",
        "          reverse_one_hot=False,\n",
        "          normalize_X_func=None,\n",
        "          dataset_id=\"Test\")\n",
        "      if not dir_has_file_with_regex(f\"/content/drive/MyDrive/data_papers/{paper_name}/model_features\",f\".*{dir_entry.name.replace('_saved_model_after_fit','')}.*_features_SFTMX1_Test.*$\"):\n",
        "        print(dir_entry.name)\n",
        "        write_features_from_models_idxCnt(\n",
        "          f\"/content/drive/MyDrive/data_papers/{paper_name}/model_finals/{dir_entry.name}\",\n",
        "          -1,\n",
        "          X_test_1000e, Y_test_1000e,\n",
        "          reverse_one_hot=False,\n",
        "          normalize_X_func=None,\n",
        "          dataset_id=\"Test\")      "
      ],
      "execution_count": null,
      "outputs": [
        {
          "output_type": "stream",
          "name": "stdout",
          "text": [
            "RNN_A_1_20211125061523_saved_model_after_fit\n",
            "RNN_A_1_20211125061523_saved_model_after_fit\n",
            "RNN_A_2_20211130131128_saved_model_after_fit\n",
            "RNN_A_2_20211130131128_saved_model_after_fit\n",
            "RNN_A_3_20211201005100_saved_model_after_fit\n",
            "RNN_A_3_20211201005100_saved_model_after_fit\n",
            "RNN_A_101_20211202161946_saved_model_after_fit\n",
            "RNN_A_101_20211202161946_saved_model_after_fit\n",
            "RNN_A_102_20211203065818_saved_model_after_fit\n",
            "RNN_A_102_20211203065818_saved_model_after_fit\n",
            "RNN_A_101B_20211202161946_saved_model_after_fit\n",
            "RNN_A_101B_20211202161946_saved_model_after_fit\n",
            "RNN_A_201_20211204013934_saved_model_after_fit\n",
            "RNN_A_201_20211204013934_saved_model_after_fit\n",
            "RNN_A_301_20211204152506_saved_model_after_fit\n",
            "RNN_A_301_20211204152506_saved_model_after_fit\n",
            "RNN_A_401_20211205025618_saved_model_after_fit\n",
            "RNN_A_401_20211205025618_saved_model_after_fit\n",
            "RNN_A_302_20211205171608_saved_model_after_fit\n",
            "RNN_A_302_20211205171608_saved_model_after_fit\n",
            "RNN_A_302B_20211205171608_saved_model_after_fit\n",
            "RNN_A_302B_20211205171608_saved_model_after_fit\n",
            "RNN_A_402_20211205185555_saved_model_after_fit\n",
            "RNN_A_402_20211205185555_saved_model_after_fit\n"
          ]
        }
      ]
    },
    {
      "cell_type": "code",
      "metadata": {
        "colab": {
          "base_uri": "https://localhost:8080/"
        },
        "id": "Q2ZBKTJ5tB_d",
        "outputId": "e693435f-3e76-4b25-c4b6-bd1056e41ba7"
      },
      "source": [
        "# getting the scores for the individual 100 RNNs on the test data set\n",
        "scores_rnn_simple = []\n",
        "check_model_string = \"RNN_A_\"\n",
        "not_check_model_string = [\"arallel\",\"Collab_\"]\n",
        "for dir_entry in os.scandir(f\"/content/drive/MyDrive/data_papers/{paper_name}/model_finals/\"):\n",
        "  if os.path.isdir(dir_entry):\n",
        "    if check_model_string in str(dir_entry) and all([ (not ncs in dir_entry.name) for ncs in not_check_model_string]):\n",
        "      print(dir_entry.name)\n",
        "      model_here = tf.keras.models.load_model(f\"/content/drive/MyDrive/data_papers/{paper_name}/model_finals/{dir_entry.name}\")  \n",
        "      y_predict_here = np.array(model_here.predict(X_test_1000e), dtype='float64')\n",
        "      y_predict_here = np.apply_along_axis(np.argmax, 1, y_predict_here)\n",
        "      scores_rnn_simple.append(pr_rc_f1_acc_from_supplied(y_predict_here, np.apply_along_axis(np.argmax, 1, Y_test_1000e)))\n",
        "\n",
        "np.save(f\"/content/drive/MyDrive/data_papers/{paper_name}/summary_results/individual_rnn_summary_{datetime.datetime.now():%Y%m%d%H%M%S}\", np.array(scores_rnn_simple), \n",
        "               allow_pickle=True, \n",
        "               fix_imports=True)\n",
        "\n"
      ],
      "execution_count": null,
      "outputs": [
        {
          "output_type": "stream",
          "name": "stdout",
          "text": [
            "RNN_A_1_20211125061523_saved_model_after_fit\n",
            "RNN_A_2_20211130131128_saved_model_after_fit\n",
            "RNN_A_3_20211201005100_saved_model_after_fit\n",
            "RNN_A_101_20211202161946_saved_model_after_fit\n",
            "RNN_A_102_20211203065818_saved_model_after_fit\n",
            "RNN_A_101B_20211202161946_saved_model_after_fit\n",
            "RNN_A_201_20211204013934_saved_model_after_fit\n"
          ]
        },
        {
          "output_type": "stream",
          "name": "stderr",
          "text": [
            "/usr/local/lib/python3.7/dist-packages/sklearn/metrics/_classification.py:1308: UndefinedMetricWarning: Precision and F-score are ill-defined and being set to 0.0 in labels with no predicted samples. Use `zero_division` parameter to control this behavior.\n",
            "  _warn_prf(average, modifier, msg_start, len(result))\n"
          ]
        },
        {
          "output_type": "stream",
          "name": "stdout",
          "text": [
            "RNN_A_301_20211204152506_saved_model_after_fit\n",
            "RNN_A_401_20211205025618_saved_model_after_fit\n",
            "RNN_A_302_20211205171608_saved_model_after_fit\n"
          ]
        },
        {
          "output_type": "stream",
          "name": "stderr",
          "text": [
            "/usr/local/lib/python3.7/dist-packages/sklearn/metrics/_classification.py:1308: UndefinedMetricWarning: Precision and F-score are ill-defined and being set to 0.0 in labels with no predicted samples. Use `zero_division` parameter to control this behavior.\n",
            "  _warn_prf(average, modifier, msg_start, len(result))\n"
          ]
        },
        {
          "output_type": "stream",
          "name": "stdout",
          "text": [
            "RNN_A_302B_20211205171608_saved_model_after_fit\n",
            "RNN_A_402_20211205185555_saved_model_after_fit\n"
          ]
        }
      ]
    },
    {
      "cell_type": "code",
      "metadata": {
        "colab": {
          "base_uri": "https://localhost:8080/"
        },
        "id": "By5gVGzPfPEl",
        "outputId": "44078ba3-ef69-4c09-925d-27e65491206f"
      },
      "source": [
        "scores_rnn_simple = []\n",
        "check_model_string = \"RNN_A_\"\n",
        "not_check_model_string = [\"arallel\",\"Collab_\"]\n",
        "for dir_entry in os.scandir(f\"/content/drive/MyDrive/data_papers/{paper_name}/model_finals/\"):\n",
        "  if os.path.isdir(dir_entry):\n",
        "    if check_model_string in str(dir_entry) and all([ (not ncs in dir_entry.name) for ncs in not_check_model_string]):\n",
        "      print(dir_entry.name)\n"
      ],
      "execution_count": null,
      "outputs": [
        {
          "output_type": "stream",
          "name": "stdout",
          "text": [
            "RNN_A_1_20211125061523_saved_model_after_fit\n",
            "RNN_A_2_20211130131128_saved_model_after_fit\n",
            "RNN_A_3_20211201005100_saved_model_after_fit\n",
            "RNN_A_101_20211202161946_saved_model_after_fit\n",
            "RNN_A_102_20211203065818_saved_model_after_fit\n",
            "RNN_A_101B_20211202161946_saved_model_after_fit\n",
            "RNN_A_201_20211204013934_saved_model_after_fit\n",
            "RNN_A_301_20211204152506_saved_model_after_fit\n",
            "RNN_A_401_20211205025618_saved_model_after_fit\n",
            "RNN_A_302_20211205171608_saved_model_after_fit\n",
            "RNN_A_302B_20211205171608_saved_model_after_fit\n",
            "RNN_A_402_20211205185555_saved_model_after_fit\n"
          ]
        }
      ]
    },
    {
      "cell_type": "markdown",
      "metadata": {
        "id": "ib862JpbN7oI"
      },
      "source": [
        "# Save the validation results for all the RNN, CNN to see whether it can be used for 'selecting' models"
      ]
    },
    {
      "cell_type": "code",
      "metadata": {
        "id": "_09nA-cDONBT"
      },
      "source": [
        "import pandas as pd\n",
        "\n",
        "def get_validation_acc_from_history_file(f1):\n",
        "  pd1 = pd.read_csv(f1)\n",
        "  return pd1[pd1.epoch==max(pd1.epoch)].val_accuracy.iloc[0]\n"
      ],
      "execution_count": null,
      "outputs": []
    },
    {
      "cell_type": "code",
      "metadata": {
        "id": "rqG47BAEONen"
      },
      "source": [
        "all_histories = os.listdir(f\"/content/drive/MyDrive/data_papers/{paper_name}/model_history\")\n",
        "\n",
        "all_rnn_histories = [f for f in all_histories if \"RNN_\" in f and \"arallel\" not in f and \"ollab\" not in f]\n",
        "all_cnn_histories = [f for f in all_histories if \"CNN256_\" in f and \"arallel\" not in f and \"ollab\" not in f]\n"
      ],
      "execution_count": null,
      "outputs": []
    },
    {
      "cell_type": "code",
      "metadata": {
        "id": "7yHc2JWiiFpL"
      },
      "source": [
        "rnn_val_accs = pd.DataFrame( { \"Type\": \"RNN\", \"File\": all_rnn_histories, \"ValAcc\" : [ get_validation_acc_from_history_file(f\"/content/drive/MyDrive/data_papers/{paper_name}/model_history/{f}\") for f in all_rnn_histories  ] } )\n",
        "cnn_val_accs = pd.DataFrame( { \"Type\": \"CNN\", \"File\": all_cnn_histories, \"ValAcc\" : [ get_validation_acc_from_history_file(f\"/content/drive/MyDrive/data_papers/{paper_name}/model_history/{f}\") for f in all_cnn_histories  ] } )\n",
        "\n"
      ],
      "execution_count": null,
      "outputs": []
    },
    {
      "cell_type": "code",
      "metadata": {
        "id": "feXi7f-Zq4vz"
      },
      "source": [
        "import datetime\n",
        "val_accs_base_models = pd.concat([rnn_val_accs, cnn_val_accs])\n",
        "val_accs_base_models.to_csv(f\"/content/drive/MyDrive/data_papers/{paper_name}/model_ccs/validation_accs_base_{datetime.datetime.now():%Y%m%d%H%M%S}.csv\", index=False)"
      ],
      "execution_count": null,
      "outputs": []
    },
    {
      "cell_type": "code",
      "metadata": {
        "colab": {
          "base_uri": "https://localhost:8080/",
          "height": 414
        },
        "id": "cXz6msIg62Tf",
        "outputId": "6619aca5-3c67-4a16-fe12-042c90cff10e"
      },
      "source": [
        "val_accs_base_models"
      ],
      "execution_count": null,
      "outputs": [
        {
          "output_type": "execute_result",
          "data": {
            "text/html": [
              "<div>\n",
              "<style scoped>\n",
              "    .dataframe tbody tr th:only-of-type {\n",
              "        vertical-align: middle;\n",
              "    }\n",
              "\n",
              "    .dataframe tbody tr th {\n",
              "        vertical-align: top;\n",
              "    }\n",
              "\n",
              "    .dataframe thead th {\n",
              "        text-align: right;\n",
              "    }\n",
              "</style>\n",
              "<table border=\"1\" class=\"dataframe\">\n",
              "  <thead>\n",
              "    <tr style=\"text-align: right;\">\n",
              "      <th></th>\n",
              "      <th>Type</th>\n",
              "      <th>File</th>\n",
              "      <th>ValAcc</th>\n",
              "    </tr>\n",
              "  </thead>\n",
              "  <tbody>\n",
              "    <tr>\n",
              "      <th>0</th>\n",
              "      <td>RNN</td>\n",
              "      <td>history_log_RNN_A_1_20211125005639_20211125.csv</td>\n",
              "      <td>0.780630</td>\n",
              "    </tr>\n",
              "    <tr>\n",
              "      <th>1</th>\n",
              "      <td>RNN</td>\n",
              "      <td>history_log_RNN_A_1_20211125061523_20211125.csv</td>\n",
              "      <td>0.802800</td>\n",
              "    </tr>\n",
              "    <tr>\n",
              "      <th>2</th>\n",
              "      <td>RNN</td>\n",
              "      <td>history_log_RNN_A_2_20211125214129_20211125.csv</td>\n",
              "      <td>0.919487</td>\n",
              "    </tr>\n",
              "    <tr>\n",
              "      <th>3</th>\n",
              "      <td>RNN</td>\n",
              "      <td>history_log_RNN_A_2_20211129013212_20211129.csv</td>\n",
              "      <td>0.996499</td>\n",
              "    </tr>\n",
              "    <tr>\n",
              "      <th>4</th>\n",
              "      <td>RNN</td>\n",
              "      <td>history_log_RNN_A_2_20211130131128_20211130.csv</td>\n",
              "      <td>0.802800</td>\n",
              "    </tr>\n",
              "    <tr>\n",
              "      <th>...</th>\n",
              "      <td>...</td>\n",
              "      <td>...</td>\n",
              "      <td>...</td>\n",
              "    </tr>\n",
              "    <tr>\n",
              "      <th>96</th>\n",
              "      <td>CNN</td>\n",
              "      <td>history_log_CNN256_A_96_20211124213532_2021112...</td>\n",
              "      <td>1.000000</td>\n",
              "    </tr>\n",
              "    <tr>\n",
              "      <th>97</th>\n",
              "      <td>CNN</td>\n",
              "      <td>history_log_CNN256_A_97_20211124214206_2021112...</td>\n",
              "      <td>1.000000</td>\n",
              "    </tr>\n",
              "    <tr>\n",
              "      <th>98</th>\n",
              "      <td>CNN</td>\n",
              "      <td>history_log_CNN256_A_98_20211124214843_2021112...</td>\n",
              "      <td>1.000000</td>\n",
              "    </tr>\n",
              "    <tr>\n",
              "      <th>99</th>\n",
              "      <td>CNN</td>\n",
              "      <td>history_log_CNN256_A_99_20211124215531_2021112...</td>\n",
              "      <td>1.000000</td>\n",
              "    </tr>\n",
              "    <tr>\n",
              "      <th>100</th>\n",
              "      <td>CNN</td>\n",
              "      <td>history_log_CNN256_A_100_20211124220210_202111...</td>\n",
              "      <td>1.000000</td>\n",
              "    </tr>\n",
              "  </tbody>\n",
              "</table>\n",
              "<p>120 rows × 3 columns</p>\n",
              "</div>"
            ],
            "text/plain": [
              "    Type                                               File    ValAcc\n",
              "0    RNN    history_log_RNN_A_1_20211125005639_20211125.csv  0.780630\n",
              "1    RNN    history_log_RNN_A_1_20211125061523_20211125.csv  0.802800\n",
              "2    RNN    history_log_RNN_A_2_20211125214129_20211125.csv  0.919487\n",
              "3    RNN    history_log_RNN_A_2_20211129013212_20211129.csv  0.996499\n",
              "4    RNN    history_log_RNN_A_2_20211130131128_20211130.csv  0.802800\n",
              "..   ...                                                ...       ...\n",
              "96   CNN  history_log_CNN256_A_96_20211124213532_2021112...  1.000000\n",
              "97   CNN  history_log_CNN256_A_97_20211124214206_2021112...  1.000000\n",
              "98   CNN  history_log_CNN256_A_98_20211124214843_2021112...  1.000000\n",
              "99   CNN  history_log_CNN256_A_99_20211124215531_2021112...  1.000000\n",
              "100  CNN  history_log_CNN256_A_100_20211124220210_202111...  1.000000\n",
              "\n",
              "[120 rows x 3 columns]"
            ]
          },
          "metadata": {},
          "execution_count": 39
        }
      ]
    },
    {
      "cell_type": "markdown",
      "metadata": {
        "id": "05H-E-Hb21S9"
      },
      "source": [
        "# Set up the models + features file lists for CNN/RNN splits for reuse test13"
      ]
    },
    {
      "cell_type": "code",
      "metadata": {
        "id": "Ll_pxppktl28"
      },
      "source": [
        "acceptable_string_grabs = [ \"CNN256_A_\", \"RNN_A_\"]\n",
        "not_check_model_string = [\"arallel\",\"Collab_\"]\n",
        "\n",
        "model_dirs = [  f\"/content/drive/MyDrive/data_papers/{paper_name}/model_finals/{dir_entry.name}\" \n",
        "                for dir_entry in os.scandir(f\"/content/drive/MyDrive/data_papers/{paper_name}/model_finals/\") \n",
        "                if os.path.isdir(dir_entry) and any(xs in dir_entry.name for xs in acceptable_string_grabs) ]\n",
        "rnn_model_dirs = [ s for s in model_dirs if \"RNN\" in s and all([ (not ncs in s) for ncs in not_check_model_string])] \n",
        "cnn_model_dirs = [ s for s in model_dirs if \"CNN\" in s and all([ (not ncs in s) for ncs in not_check_model_string])] \n",
        "\n",
        "model_features_files = [  f\"/content/drive/MyDrive/data_papers/{paper_name}/model_features/{file_entry.name}\" \n",
        "                for file_entry in os.scandir(f\"/content/drive/MyDrive/data_papers/{paper_name}/model_features/\") \n",
        "                if os.path.isfile(file_entry) and any(xs in file_entry.name for xs in acceptable_string_grabs) ]\n",
        "\n",
        "rnn_features_files = [ s for s in model_features_files if \"RNN\" in s and all([ (not ncs in s) for ncs in not_check_model_string])] \n",
        "cnn_features_files = [ s for s in model_features_files if \"CNN\" in s and all([ (not ncs in s) for ncs in not_check_model_string])] \n",
        "\n",
        "rnn_identifier = acceptable_string_grabs[1]\n",
        "# dnn_layer_name = \"DRP1\"\n",
        "\n",
        "cnn_identifier = acceptable_string_grabs[0]\n",
        "# cnn_layer_name = \"D3R\"\n",
        "\n",
        "def avgfilter_ensemble_predictions(y_pred_ms, xtest):\n",
        "  y_preds_ens_prb = np.apply_along_axis(np.mean, 0, y_pred_ms)\n",
        "  y_preds_ens_idx = np.apply_along_axis(np.argmax, 1, y_preds_ens_prb) \n",
        "  # y_preds_ens_idx = y_preds_ens_idx + 1\n",
        "  return y_preds_ens_idx  \n",
        "\n",
        "\n"
      ],
      "execution_count": null,
      "outputs": []
    },
    {
      "cell_type": "code",
      "metadata": {
        "id": "-sdTTPWo7orm",
        "colab": {
          "base_uri": "https://localhost:8080/"
        },
        "outputId": "17277027-aab6-46aa-b045-723a8db163ae"
      },
      "source": [
        "cnn_features_files\n"
      ],
      "execution_count": null,
      "outputs": [
        {
          "output_type": "execute_result",
          "data": {
            "text/plain": [
              "['/content/drive/MyDrive/data_papers/test13/model_features/CNN256_A_87_20211124203619_features_dense_277_Train_X.npy',\n",
              " '/content/drive/MyDrive/data_papers/test13/model_features/CNN256_A_87_20211124203619_features_dense_277_Train_Y.npy',\n",
              " '/content/drive/MyDrive/data_papers/test13/model_features/CNN256_A_87_20211124203619_features_dense_278_Train_X.npy',\n",
              " '/content/drive/MyDrive/data_papers/test13/model_features/CNN256_A_87_20211124203619_features_dense_278_Train_Y.npy',\n",
              " '/content/drive/MyDrive/data_papers/test13/model_features/CNN256_A_88_20211124204306_features_dense_280_Train_X.npy',\n",
              " '/content/drive/MyDrive/data_papers/test13/model_features/CNN256_A_88_20211124204306_features_dense_280_Train_Y.npy',\n",
              " '/content/drive/MyDrive/data_papers/test13/model_features/CNN256_A_88_20211124204306_features_dense_281_Train_X.npy',\n",
              " '/content/drive/MyDrive/data_papers/test13/model_features/CNN256_A_88_20211124204306_features_dense_281_Train_Y.npy',\n",
              " '/content/drive/MyDrive/data_papers/test13/model_features/CNN256_A_89_20211124204936_features_dense_283_Train_X.npy',\n",
              " '/content/drive/MyDrive/data_papers/test13/model_features/CNN256_A_89_20211124204936_features_dense_283_Train_Y.npy',\n",
              " '/content/drive/MyDrive/data_papers/test13/model_features/CNN256_A_89_20211124204936_features_dense_284_Train_X.npy',\n",
              " '/content/drive/MyDrive/data_papers/test13/model_features/CNN256_A_89_20211124204936_features_dense_284_Train_Y.npy',\n",
              " '/content/drive/MyDrive/data_papers/test13/model_features/CNN256_A_90_20211124205551_features_dense_286_Train_X.npy',\n",
              " '/content/drive/MyDrive/data_papers/test13/model_features/CNN256_A_90_20211124205551_features_dense_286_Train_Y.npy',\n",
              " '/content/drive/MyDrive/data_papers/test13/model_features/CNN256_A_90_20211124205551_features_dense_287_Train_X.npy',\n",
              " '/content/drive/MyDrive/data_papers/test13/model_features/CNN256_A_90_20211124205551_features_dense_287_Train_Y.npy',\n",
              " '/content/drive/MyDrive/data_papers/test13/model_features/CNN256_A_91_20211124210233_features_dense_289_Train_X.npy',\n",
              " '/content/drive/MyDrive/data_papers/test13/model_features/CNN256_A_91_20211124210233_features_dense_289_Train_Y.npy',\n",
              " '/content/drive/MyDrive/data_papers/test13/model_features/CNN256_A_91_20211124210233_features_dense_290_Train_X.npy',\n",
              " '/content/drive/MyDrive/data_papers/test13/model_features/CNN256_A_91_20211124210233_features_dense_290_Train_Y.npy',\n",
              " '/content/drive/MyDrive/data_papers/test13/model_features/CNN256_A_92_20211124210923_features_dense_292_Train_X.npy',\n",
              " '/content/drive/MyDrive/data_papers/test13/model_features/CNN256_A_92_20211124210923_features_dense_292_Train_Y.npy',\n",
              " '/content/drive/MyDrive/data_papers/test13/model_features/CNN256_A_92_20211124210923_features_dense_293_Train_X.npy',\n",
              " '/content/drive/MyDrive/data_papers/test13/model_features/CNN256_A_92_20211124210923_features_dense_293_Train_Y.npy',\n",
              " '/content/drive/MyDrive/data_papers/test13/model_features/CNN256_A_93_20211124211555_features_dense_295_Train_X.npy',\n",
              " '/content/drive/MyDrive/data_papers/test13/model_features/CNN256_A_93_20211124211555_features_dense_295_Train_Y.npy',\n",
              " '/content/drive/MyDrive/data_papers/test13/model_features/CNN256_A_93_20211124211555_features_dense_296_Train_X.npy',\n",
              " '/content/drive/MyDrive/data_papers/test13/model_features/CNN256_A_93_20211124211555_features_dense_296_Train_Y.npy',\n",
              " '/content/drive/MyDrive/data_papers/test13/model_features/CNN256_A_94_20211124212215_features_dense_298_Train_X.npy',\n",
              " '/content/drive/MyDrive/data_papers/test13/model_features/CNN256_A_94_20211124212215_features_dense_298_Train_Y.npy',\n",
              " '/content/drive/MyDrive/data_papers/test13/model_features/CNN256_A_94_20211124212215_features_dense_299_Train_X.npy',\n",
              " '/content/drive/MyDrive/data_papers/test13/model_features/CNN256_A_94_20211124212215_features_dense_299_Train_Y.npy',\n",
              " '/content/drive/MyDrive/data_papers/test13/model_features/CNN256_A_95_20211124212859_features_dense_301_Train_X.npy',\n",
              " '/content/drive/MyDrive/data_papers/test13/model_features/CNN256_A_95_20211124212859_features_dense_301_Train_Y.npy',\n",
              " '/content/drive/MyDrive/data_papers/test13/model_features/CNN256_A_95_20211124212859_features_dense_302_Train_X.npy',\n",
              " '/content/drive/MyDrive/data_papers/test13/model_features/CNN256_A_95_20211124212859_features_dense_302_Train_Y.npy',\n",
              " '/content/drive/MyDrive/data_papers/test13/model_features/CNN256_A_96_20211124213532_features_dense_304_Train_X.npy',\n",
              " '/content/drive/MyDrive/data_papers/test13/model_features/CNN256_A_96_20211124213532_features_dense_304_Train_Y.npy',\n",
              " '/content/drive/MyDrive/data_papers/test13/model_features/CNN256_A_96_20211124213532_features_dense_305_Train_X.npy',\n",
              " '/content/drive/MyDrive/data_papers/test13/model_features/CNN256_A_96_20211124213532_features_dense_305_Train_Y.npy',\n",
              " '/content/drive/MyDrive/data_papers/test13/model_features/CNN256_A_97_20211124214206_features_dense_307_Train_X.npy',\n",
              " '/content/drive/MyDrive/data_papers/test13/model_features/CNN256_A_97_20211124214206_features_dense_307_Train_Y.npy',\n",
              " '/content/drive/MyDrive/data_papers/test13/model_features/CNN256_A_97_20211124214206_features_dense_308_Train_X.npy',\n",
              " '/content/drive/MyDrive/data_papers/test13/model_features/CNN256_A_97_20211124214206_features_dense_308_Train_Y.npy',\n",
              " '/content/drive/MyDrive/data_papers/test13/model_features/CNN256_A_98_20211124214843_features_dense_310_Train_X.npy',\n",
              " '/content/drive/MyDrive/data_papers/test13/model_features/CNN256_A_98_20211124214843_features_dense_310_Train_Y.npy',\n",
              " '/content/drive/MyDrive/data_papers/test13/model_features/CNN256_A_98_20211124214843_features_dense_311_Train_X.npy',\n",
              " '/content/drive/MyDrive/data_papers/test13/model_features/CNN256_A_98_20211124214843_features_dense_311_Train_Y.npy',\n",
              " '/content/drive/MyDrive/data_papers/test13/model_features/CNN256_A_99_20211124215531_features_dense_313_Train_X.npy',\n",
              " '/content/drive/MyDrive/data_papers/test13/model_features/CNN256_A_99_20211124215531_features_dense_313_Train_Y.npy',\n",
              " '/content/drive/MyDrive/data_papers/test13/model_features/CNN256_A_99_20211124215531_features_dense_314_Train_X.npy',\n",
              " '/content/drive/MyDrive/data_papers/test13/model_features/CNN256_A_99_20211124215531_features_dense_314_Train_Y.npy',\n",
              " '/content/drive/MyDrive/data_papers/test13/model_features/CNN256_A_100_20211124220210_features_dense_316_Train_X.npy',\n",
              " '/content/drive/MyDrive/data_papers/test13/model_features/CNN256_A_100_20211124220210_features_dense_316_Train_Y.npy',\n",
              " '/content/drive/MyDrive/data_papers/test13/model_features/CNN256_A_100_20211124220210_features_dense_317_Train_X.npy',\n",
              " '/content/drive/MyDrive/data_papers/test13/model_features/CNN256_A_100_20211124220210_features_dense_317_Train_Y.npy',\n",
              " '/content/drive/MyDrive/data_papers/test13/model_features/CNN256_A_1_20211124110828_features_dense_19_Validation_X.npy',\n",
              " '/content/drive/MyDrive/data_papers/test13/model_features/CNN256_A_1_20211124110828_features_dense_19_Validation_Y.npy',\n",
              " '/content/drive/MyDrive/data_papers/test13/model_features/CNN256_A_1_20211124110828_features_dense_20_Validation_X.npy',\n",
              " '/content/drive/MyDrive/data_papers/test13/model_features/CNN256_A_1_20211124110828_features_dense_20_Validation_Y.npy',\n",
              " '/content/drive/MyDrive/data_papers/test13/model_features/CNN256_A_2_20211124111459_features_dense_22_Validation_X.npy',\n",
              " '/content/drive/MyDrive/data_papers/test13/model_features/CNN256_A_2_20211124111459_features_dense_22_Validation_Y.npy',\n",
              " '/content/drive/MyDrive/data_papers/test13/model_features/CNN256_A_2_20211124111459_features_dense_23_Validation_X.npy',\n",
              " '/content/drive/MyDrive/data_papers/test13/model_features/CNN256_A_2_20211124111459_features_dense_23_Validation_Y.npy',\n",
              " '/content/drive/MyDrive/data_papers/test13/model_features/CNN256_A_3_20211124112133_features_dense_25_Validation_X.npy',\n",
              " '/content/drive/MyDrive/data_papers/test13/model_features/CNN256_A_3_20211124112133_features_dense_25_Validation_Y.npy',\n",
              " '/content/drive/MyDrive/data_papers/test13/model_features/CNN256_A_3_20211124112133_features_dense_26_Validation_X.npy',\n",
              " '/content/drive/MyDrive/data_papers/test13/model_features/CNN256_A_3_20211124112133_features_dense_26_Validation_Y.npy',\n",
              " '/content/drive/MyDrive/data_papers/test13/model_features/CNN256_A_4_20211124112755_features_dense_28_Validation_X.npy',\n",
              " '/content/drive/MyDrive/data_papers/test13/model_features/CNN256_A_4_20211124112755_features_dense_28_Validation_Y.npy',\n",
              " '/content/drive/MyDrive/data_papers/test13/model_features/CNN256_A_4_20211124112755_features_dense_29_Validation_X.npy',\n",
              " '/content/drive/MyDrive/data_papers/test13/model_features/CNN256_A_4_20211124112755_features_dense_29_Validation_Y.npy',\n",
              " '/content/drive/MyDrive/data_papers/test13/model_features/CNN256_A_5_20211124113440_features_dense_31_Validation_X.npy',\n",
              " '/content/drive/MyDrive/data_papers/test13/model_features/CNN256_A_5_20211124113440_features_dense_31_Validation_Y.npy',\n",
              " '/content/drive/MyDrive/data_papers/test13/model_features/CNN256_A_5_20211124113440_features_dense_32_Validation_X.npy',\n",
              " '/content/drive/MyDrive/data_papers/test13/model_features/CNN256_A_5_20211124113440_features_dense_32_Validation_Y.npy',\n",
              " '/content/drive/MyDrive/data_papers/test13/model_features/CNN256_A_6_20211124114114_features_dense_34_Validation_X.npy',\n",
              " '/content/drive/MyDrive/data_papers/test13/model_features/CNN256_A_6_20211124114114_features_dense_34_Validation_Y.npy',\n",
              " '/content/drive/MyDrive/data_papers/test13/model_features/CNN256_A_6_20211124114114_features_dense_35_Validation_X.npy',\n",
              " '/content/drive/MyDrive/data_papers/test13/model_features/CNN256_A_6_20211124114114_features_dense_35_Validation_Y.npy',\n",
              " '/content/drive/MyDrive/data_papers/test13/model_features/CNN256_A_7_20211124114753_features_dense_37_Validation_X.npy',\n",
              " '/content/drive/MyDrive/data_papers/test13/model_features/CNN256_A_7_20211124114753_features_dense_37_Validation_Y.npy',\n",
              " '/content/drive/MyDrive/data_papers/test13/model_features/CNN256_A_7_20211124114753_features_dense_38_Validation_X.npy',\n",
              " '/content/drive/MyDrive/data_papers/test13/model_features/CNN256_A_7_20211124114753_features_dense_38_Validation_Y.npy',\n",
              " '/content/drive/MyDrive/data_papers/test13/model_features/CNN256_A_8_20211124115418_features_dense_40_Validation_X.npy',\n",
              " '/content/drive/MyDrive/data_papers/test13/model_features/CNN256_A_8_20211124115418_features_dense_40_Validation_Y.npy',\n",
              " '/content/drive/MyDrive/data_papers/test13/model_features/CNN256_A_8_20211124115418_features_dense_41_Validation_X.npy',\n",
              " '/content/drive/MyDrive/data_papers/test13/model_features/CNN256_A_8_20211124115418_features_dense_41_Validation_Y.npy',\n",
              " '/content/drive/MyDrive/data_papers/test13/model_features/CNN256_A_9_20211124120100_features_dense_43_Validation_X.npy',\n",
              " '/content/drive/MyDrive/data_papers/test13/model_features/CNN256_A_9_20211124120100_features_dense_43_Validation_Y.npy',\n",
              " '/content/drive/MyDrive/data_papers/test13/model_features/CNN256_A_9_20211124120100_features_dense_44_Validation_X.npy',\n",
              " '/content/drive/MyDrive/data_papers/test13/model_features/CNN256_A_9_20211124120100_features_dense_44_Validation_Y.npy',\n",
              " '/content/drive/MyDrive/data_papers/test13/model_features/CNN256_A_10_20211124120744_features_dense_46_Validation_X.npy',\n",
              " '/content/drive/MyDrive/data_papers/test13/model_features/CNN256_A_10_20211124120744_features_dense_46_Validation_Y.npy',\n",
              " '/content/drive/MyDrive/data_papers/test13/model_features/CNN256_A_10_20211124120744_features_dense_47_Validation_X.npy',\n",
              " '/content/drive/MyDrive/data_papers/test13/model_features/CNN256_A_10_20211124120744_features_dense_47_Validation_Y.npy',\n",
              " '/content/drive/MyDrive/data_papers/test13/model_features/CNN256_A_11_20211124121436_features_dense_49_Validation_X.npy',\n",
              " '/content/drive/MyDrive/data_papers/test13/model_features/CNN256_A_11_20211124121436_features_dense_49_Validation_Y.npy',\n",
              " '/content/drive/MyDrive/data_papers/test13/model_features/CNN256_A_11_20211124121436_features_dense_50_Validation_X.npy',\n",
              " '/content/drive/MyDrive/data_papers/test13/model_features/CNN256_A_11_20211124121436_features_dense_50_Validation_Y.npy',\n",
              " '/content/drive/MyDrive/data_papers/test13/model_features/CNN256_A_12_20211124122043_features_dense_52_Validation_X.npy',\n",
              " '/content/drive/MyDrive/data_papers/test13/model_features/CNN256_A_12_20211124122043_features_dense_52_Validation_Y.npy',\n",
              " '/content/drive/MyDrive/data_papers/test13/model_features/CNN256_A_12_20211124122043_features_dense_53_Validation_X.npy',\n",
              " '/content/drive/MyDrive/data_papers/test13/model_features/CNN256_A_12_20211124122043_features_dense_53_Validation_Y.npy',\n",
              " '/content/drive/MyDrive/data_papers/test13/model_features/CNN256_A_13_20211124122718_features_dense_55_Validation_X.npy',\n",
              " '/content/drive/MyDrive/data_papers/test13/model_features/CNN256_A_13_20211124122718_features_dense_55_Validation_Y.npy',\n",
              " '/content/drive/MyDrive/data_papers/test13/model_features/CNN256_A_13_20211124122718_features_dense_56_Validation_X.npy',\n",
              " '/content/drive/MyDrive/data_papers/test13/model_features/CNN256_A_13_20211124122718_features_dense_56_Validation_Y.npy',\n",
              " '/content/drive/MyDrive/data_papers/test13/model_features/CNN256_A_14_20211124123410_features_dense_58_Validation_X.npy',\n",
              " '/content/drive/MyDrive/data_papers/test13/model_features/CNN256_A_14_20211124123410_features_dense_58_Validation_Y.npy',\n",
              " '/content/drive/MyDrive/data_papers/test13/model_features/CNN256_A_14_20211124123410_features_dense_59_Validation_X.npy',\n",
              " '/content/drive/MyDrive/data_papers/test13/model_features/CNN256_A_14_20211124123410_features_dense_59_Validation_Y.npy',\n",
              " '/content/drive/MyDrive/data_papers/test13/model_features/CNN256_A_15_20211124124025_features_dense_61_Validation_X.npy',\n",
              " '/content/drive/MyDrive/data_papers/test13/model_features/CNN256_A_15_20211124124025_features_dense_61_Validation_Y.npy',\n",
              " '/content/drive/MyDrive/data_papers/test13/model_features/CNN256_A_15_20211124124025_features_dense_62_Validation_X.npy',\n",
              " '/content/drive/MyDrive/data_papers/test13/model_features/CNN256_A_15_20211124124025_features_dense_62_Validation_Y.npy',\n",
              " '/content/drive/MyDrive/data_papers/test13/model_features/CNN256_A_16_20211124124717_features_dense_64_Validation_X.npy',\n",
              " '/content/drive/MyDrive/data_papers/test13/model_features/CNN256_A_16_20211124124717_features_dense_64_Validation_Y.npy',\n",
              " '/content/drive/MyDrive/data_papers/test13/model_features/CNN256_A_16_20211124124717_features_dense_65_Validation_X.npy',\n",
              " '/content/drive/MyDrive/data_papers/test13/model_features/CNN256_A_16_20211124124717_features_dense_65_Validation_Y.npy',\n",
              " '/content/drive/MyDrive/data_papers/test13/model_features/CNN256_A_17_20211124125352_features_dense_67_Validation_X.npy',\n",
              " '/content/drive/MyDrive/data_papers/test13/model_features/CNN256_A_17_20211124125352_features_dense_67_Validation_Y.npy',\n",
              " '/content/drive/MyDrive/data_papers/test13/model_features/CNN256_A_17_20211124125352_features_dense_68_Validation_X.npy',\n",
              " '/content/drive/MyDrive/data_papers/test13/model_features/CNN256_A_17_20211124125352_features_dense_68_Validation_Y.npy',\n",
              " '/content/drive/MyDrive/data_papers/test13/model_features/CNN256_A_18_20211124130025_features_dense_70_Validation_X.npy',\n",
              " '/content/drive/MyDrive/data_papers/test13/model_features/CNN256_A_18_20211124130025_features_dense_70_Validation_Y.npy',\n",
              " '/content/drive/MyDrive/data_papers/test13/model_features/CNN256_A_18_20211124130025_features_dense_71_Validation_X.npy',\n",
              " '/content/drive/MyDrive/data_papers/test13/model_features/CNN256_A_18_20211124130025_features_dense_71_Validation_Y.npy',\n",
              " '/content/drive/MyDrive/data_papers/test13/model_features/CNN256_A_19_20211124130651_features_dense_73_Validation_X.npy',\n",
              " '/content/drive/MyDrive/data_papers/test13/model_features/CNN256_A_19_20211124130651_features_dense_73_Validation_Y.npy',\n",
              " '/content/drive/MyDrive/data_papers/test13/model_features/CNN256_A_19_20211124130651_features_dense_74_Validation_X.npy',\n",
              " '/content/drive/MyDrive/data_papers/test13/model_features/CNN256_A_19_20211124130651_features_dense_74_Validation_Y.npy',\n",
              " '/content/drive/MyDrive/data_papers/test13/model_features/CNN256_A_20_20211124131334_features_dense_76_Validation_X.npy',\n",
              " '/content/drive/MyDrive/data_papers/test13/model_features/CNN256_A_20_20211124131334_features_dense_76_Validation_Y.npy',\n",
              " '/content/drive/MyDrive/data_papers/test13/model_features/CNN256_A_20_20211124131334_features_dense_77_Validation_X.npy',\n",
              " '/content/drive/MyDrive/data_papers/test13/model_features/CNN256_A_20_20211124131334_features_dense_77_Validation_Y.npy',\n",
              " '/content/drive/MyDrive/data_papers/test13/model_features/CNN256_A_21_20211124132004_features_dense_79_Validation_X.npy',\n",
              " '/content/drive/MyDrive/data_papers/test13/model_features/CNN256_A_21_20211124132004_features_dense_79_Validation_Y.npy',\n",
              " '/content/drive/MyDrive/data_papers/test13/model_features/CNN256_A_21_20211124132004_features_dense_80_Validation_X.npy',\n",
              " '/content/drive/MyDrive/data_papers/test13/model_features/CNN256_A_21_20211124132004_features_dense_80_Validation_Y.npy',\n",
              " '/content/drive/MyDrive/data_papers/test13/model_features/CNN256_A_22_20211124132639_features_dense_82_Validation_X.npy',\n",
              " '/content/drive/MyDrive/data_papers/test13/model_features/CNN256_A_22_20211124132639_features_dense_82_Validation_Y.npy',\n",
              " '/content/drive/MyDrive/data_papers/test13/model_features/CNN256_A_22_20211124132639_features_dense_83_Validation_X.npy',\n",
              " '/content/drive/MyDrive/data_papers/test13/model_features/CNN256_A_22_20211124132639_features_dense_83_Validation_Y.npy',\n",
              " '/content/drive/MyDrive/data_papers/test13/model_features/CNN256_A_23_20211124133316_features_dense_85_Validation_X.npy',\n",
              " '/content/drive/MyDrive/data_papers/test13/model_features/CNN256_A_23_20211124133316_features_dense_85_Validation_Y.npy',\n",
              " '/content/drive/MyDrive/data_papers/test13/model_features/CNN256_A_23_20211124133316_features_dense_86_Validation_X.npy',\n",
              " '/content/drive/MyDrive/data_papers/test13/model_features/CNN256_A_23_20211124133316_features_dense_86_Validation_Y.npy',\n",
              " '/content/drive/MyDrive/data_papers/test13/model_features/CNN256_A_24_20211124134008_features_dense_88_Validation_X.npy',\n",
              " '/content/drive/MyDrive/data_papers/test13/model_features/CNN256_A_24_20211124134008_features_dense_88_Validation_Y.npy',\n",
              " '/content/drive/MyDrive/data_papers/test13/model_features/CNN256_A_24_20211124134008_features_dense_89_Validation_X.npy',\n",
              " '/content/drive/MyDrive/data_papers/test13/model_features/CNN256_A_24_20211124134008_features_dense_89_Validation_Y.npy',\n",
              " '/content/drive/MyDrive/data_papers/test13/model_features/CNN256_A_25_20211124134640_features_dense_91_Validation_X.npy',\n",
              " '/content/drive/MyDrive/data_papers/test13/model_features/CNN256_A_25_20211124134640_features_dense_91_Validation_Y.npy',\n",
              " '/content/drive/MyDrive/data_papers/test13/model_features/CNN256_A_25_20211124134640_features_dense_92_Validation_X.npy',\n",
              " '/content/drive/MyDrive/data_papers/test13/model_features/CNN256_A_25_20211124134640_features_dense_92_Validation_Y.npy',\n",
              " '/content/drive/MyDrive/data_papers/test13/model_features/CNN256_A_26_20211124135322_features_dense_94_Validation_X.npy',\n",
              " '/content/drive/MyDrive/data_papers/test13/model_features/CNN256_A_26_20211124135322_features_dense_94_Validation_Y.npy',\n",
              " '/content/drive/MyDrive/data_papers/test13/model_features/CNN256_A_26_20211124135322_features_dense_95_Validation_X.npy',\n",
              " '/content/drive/MyDrive/data_papers/test13/model_features/CNN256_A_26_20211124135322_features_dense_95_Validation_Y.npy',\n",
              " '/content/drive/MyDrive/data_papers/test13/model_features/CNN256_A_27_20211124140019_features_dense_97_Validation_X.npy',\n",
              " '/content/drive/MyDrive/data_papers/test13/model_features/CNN256_A_27_20211124140019_features_dense_97_Validation_Y.npy',\n",
              " '/content/drive/MyDrive/data_papers/test13/model_features/CNN256_A_27_20211124140019_features_dense_98_Validation_X.npy',\n",
              " '/content/drive/MyDrive/data_papers/test13/model_features/CNN256_A_27_20211124140019_features_dense_98_Validation_Y.npy',\n",
              " '/content/drive/MyDrive/data_papers/test13/model_features/CNN256_A_28_20211124140641_features_dense_100_Validation_X.npy',\n",
              " '/content/drive/MyDrive/data_papers/test13/model_features/CNN256_A_28_20211124140641_features_dense_100_Validation_Y.npy',\n",
              " '/content/drive/MyDrive/data_papers/test13/model_features/CNN256_A_28_20211124140641_features_dense_101_Validation_X.npy',\n",
              " '/content/drive/MyDrive/data_papers/test13/model_features/CNN256_A_28_20211124140641_features_dense_101_Validation_Y.npy',\n",
              " '/content/drive/MyDrive/data_papers/test13/model_features/CNN256_A_29_20211124141316_features_dense_103_Validation_X.npy',\n",
              " '/content/drive/MyDrive/data_papers/test13/model_features/CNN256_A_29_20211124141316_features_dense_103_Validation_Y.npy',\n",
              " '/content/drive/MyDrive/data_papers/test13/model_features/CNN256_A_29_20211124141316_features_dense_104_Validation_X.npy',\n",
              " '/content/drive/MyDrive/data_papers/test13/model_features/CNN256_A_29_20211124141316_features_dense_104_Validation_Y.npy',\n",
              " '/content/drive/MyDrive/data_papers/test13/model_features/CNN256_A_30_20211124141929_features_dense_106_Validation_X.npy',\n",
              " '/content/drive/MyDrive/data_papers/test13/model_features/CNN256_A_30_20211124141929_features_dense_106_Validation_Y.npy',\n",
              " '/content/drive/MyDrive/data_papers/test13/model_features/CNN256_A_30_20211124141929_features_dense_107_Validation_X.npy',\n",
              " '/content/drive/MyDrive/data_papers/test13/model_features/CNN256_A_30_20211124141929_features_dense_107_Validation_Y.npy',\n",
              " '/content/drive/MyDrive/data_papers/test13/model_features/CNN256_A_31_20211124142615_features_dense_109_Validation_X.npy',\n",
              " '/content/drive/MyDrive/data_papers/test13/model_features/CNN256_A_31_20211124142615_features_dense_109_Validation_Y.npy',\n",
              " '/content/drive/MyDrive/data_papers/test13/model_features/CNN256_A_31_20211124142615_features_dense_110_Validation_X.npy',\n",
              " '/content/drive/MyDrive/data_papers/test13/model_features/CNN256_A_31_20211124142615_features_dense_110_Validation_Y.npy',\n",
              " '/content/drive/MyDrive/data_papers/test13/model_features/CNN256_A_32_20211124143302_features_dense_112_Validation_X.npy',\n",
              " '/content/drive/MyDrive/data_papers/test13/model_features/CNN256_A_32_20211124143302_features_dense_112_Validation_Y.npy',\n",
              " '/content/drive/MyDrive/data_papers/test13/model_features/CNN256_A_32_20211124143302_features_dense_113_Validation_X.npy',\n",
              " '/content/drive/MyDrive/data_papers/test13/model_features/CNN256_A_32_20211124143302_features_dense_113_Validation_Y.npy',\n",
              " '/content/drive/MyDrive/data_papers/test13/model_features/CNN256_A_33_20211124143941_features_dense_115_Validation_X.npy',\n",
              " '/content/drive/MyDrive/data_papers/test13/model_features/CNN256_A_33_20211124143941_features_dense_115_Validation_Y.npy',\n",
              " '/content/drive/MyDrive/data_papers/test13/model_features/CNN256_A_33_20211124143941_features_dense_116_Validation_X.npy',\n",
              " '/content/drive/MyDrive/data_papers/test13/model_features/CNN256_A_33_20211124143941_features_dense_116_Validation_Y.npy',\n",
              " '/content/drive/MyDrive/data_papers/test13/model_features/CNN256_A_34_20211124144626_features_dense_118_Validation_X.npy',\n",
              " '/content/drive/MyDrive/data_papers/test13/model_features/CNN256_A_34_20211124144626_features_dense_118_Validation_Y.npy',\n",
              " '/content/drive/MyDrive/data_papers/test13/model_features/CNN256_A_34_20211124144626_features_dense_119_Validation_X.npy',\n",
              " '/content/drive/MyDrive/data_papers/test13/model_features/CNN256_A_34_20211124144626_features_dense_119_Validation_Y.npy',\n",
              " '/content/drive/MyDrive/data_papers/test13/model_features/CNN256_A_35_20211124145317_features_dense_121_Validation_X.npy',\n",
              " '/content/drive/MyDrive/data_papers/test13/model_features/CNN256_A_35_20211124145317_features_dense_121_Validation_Y.npy',\n",
              " '/content/drive/MyDrive/data_papers/test13/model_features/CNN256_A_35_20211124145317_features_dense_122_Validation_X.npy',\n",
              " '/content/drive/MyDrive/data_papers/test13/model_features/CNN256_A_35_20211124145317_features_dense_122_Validation_Y.npy',\n",
              " '/content/drive/MyDrive/data_papers/test13/model_features/CNN256_A_36_20211124145950_features_dense_124_Validation_X.npy',\n",
              " '/content/drive/MyDrive/data_papers/test13/model_features/CNN256_A_36_20211124145950_features_dense_124_Validation_Y.npy',\n",
              " '/content/drive/MyDrive/data_papers/test13/model_features/CNN256_A_36_20211124145950_features_dense_125_Validation_X.npy',\n",
              " '/content/drive/MyDrive/data_papers/test13/model_features/CNN256_A_36_20211124145950_features_dense_125_Validation_Y.npy',\n",
              " '/content/drive/MyDrive/data_papers/test13/model_features/CNN256_A_37_20211124150632_features_dense_127_Validation_X.npy',\n",
              " '/content/drive/MyDrive/data_papers/test13/model_features/CNN256_A_37_20211124150632_features_dense_127_Validation_Y.npy',\n",
              " '/content/drive/MyDrive/data_papers/test13/model_features/CNN256_A_37_20211124150632_features_dense_128_Validation_X.npy',\n",
              " '/content/drive/MyDrive/data_papers/test13/model_features/CNN256_A_37_20211124150632_features_dense_128_Validation_Y.npy',\n",
              " '/content/drive/MyDrive/data_papers/test13/model_features/CNN256_A_38_20211124151259_features_dense_130_Validation_X.npy',\n",
              " '/content/drive/MyDrive/data_papers/test13/model_features/CNN256_A_38_20211124151259_features_dense_130_Validation_Y.npy',\n",
              " '/content/drive/MyDrive/data_papers/test13/model_features/CNN256_A_38_20211124151259_features_dense_131_Validation_X.npy',\n",
              " '/content/drive/MyDrive/data_papers/test13/model_features/CNN256_A_38_20211124151259_features_dense_131_Validation_Y.npy',\n",
              " '/content/drive/MyDrive/data_papers/test13/model_features/CNN256_A_39_20211124151925_features_dense_133_Validation_X.npy',\n",
              " '/content/drive/MyDrive/data_papers/test13/model_features/CNN256_A_39_20211124151925_features_dense_133_Validation_Y.npy',\n",
              " '/content/drive/MyDrive/data_papers/test13/model_features/CNN256_A_39_20211124151925_features_dense_134_Validation_X.npy',\n",
              " '/content/drive/MyDrive/data_papers/test13/model_features/CNN256_A_39_20211124151925_features_dense_134_Validation_Y.npy',\n",
              " '/content/drive/MyDrive/data_papers/test13/model_features/CNN256_A_40_20211124152552_features_dense_136_Validation_X.npy',\n",
              " '/content/drive/MyDrive/data_papers/test13/model_features/CNN256_A_40_20211124152552_features_dense_136_Validation_Y.npy',\n",
              " '/content/drive/MyDrive/data_papers/test13/model_features/CNN256_A_40_20211124152552_features_dense_137_Validation_X.npy',\n",
              " '/content/drive/MyDrive/data_papers/test13/model_features/CNN256_A_40_20211124152552_features_dense_137_Validation_Y.npy',\n",
              " '/content/drive/MyDrive/data_papers/test13/model_features/CNN256_A_41_20211124153222_features_dense_139_Validation_X.npy',\n",
              " '/content/drive/MyDrive/data_papers/test13/model_features/CNN256_A_41_20211124153222_features_dense_139_Validation_Y.npy',\n",
              " '/content/drive/MyDrive/data_papers/test13/model_features/CNN256_A_41_20211124153222_features_dense_140_Validation_X.npy',\n",
              " '/content/drive/MyDrive/data_papers/test13/model_features/CNN256_A_41_20211124153222_features_dense_140_Validation_Y.npy',\n",
              " '/content/drive/MyDrive/data_papers/test13/model_features/CNN256_A_42_20211124153847_features_dense_142_Validation_X.npy',\n",
              " '/content/drive/MyDrive/data_papers/test13/model_features/CNN256_A_42_20211124153847_features_dense_142_Validation_Y.npy',\n",
              " '/content/drive/MyDrive/data_papers/test13/model_features/CNN256_A_42_20211124153847_features_dense_143_Validation_X.npy',\n",
              " '/content/drive/MyDrive/data_papers/test13/model_features/CNN256_A_42_20211124153847_features_dense_143_Validation_Y.npy',\n",
              " '/content/drive/MyDrive/data_papers/test13/model_features/CNN256_A_43_20211124154518_features_dense_145_Validation_X.npy',\n",
              " '/content/drive/MyDrive/data_papers/test13/model_features/CNN256_A_43_20211124154518_features_dense_145_Validation_Y.npy',\n",
              " '/content/drive/MyDrive/data_papers/test13/model_features/CNN256_A_43_20211124154518_features_dense_146_Validation_X.npy',\n",
              " '/content/drive/MyDrive/data_papers/test13/model_features/CNN256_A_43_20211124154518_features_dense_146_Validation_Y.npy',\n",
              " '/content/drive/MyDrive/data_papers/test13/model_features/CNN256_A_44_20211124155140_features_dense_148_Validation_X.npy',\n",
              " '/content/drive/MyDrive/data_papers/test13/model_features/CNN256_A_44_20211124155140_features_dense_148_Validation_Y.npy',\n",
              " '/content/drive/MyDrive/data_papers/test13/model_features/CNN256_A_44_20211124155140_features_dense_149_Validation_X.npy',\n",
              " '/content/drive/MyDrive/data_papers/test13/model_features/CNN256_A_44_20211124155140_features_dense_149_Validation_Y.npy',\n",
              " '/content/drive/MyDrive/data_papers/test13/model_features/CNN256_A_45_20211124155829_features_dense_151_Validation_X.npy',\n",
              " '/content/drive/MyDrive/data_papers/test13/model_features/CNN256_A_45_20211124155829_features_dense_151_Validation_Y.npy',\n",
              " '/content/drive/MyDrive/data_papers/test13/model_features/CNN256_A_45_20211124155829_features_dense_152_Validation_X.npy',\n",
              " '/content/drive/MyDrive/data_papers/test13/model_features/CNN256_A_45_20211124155829_features_dense_152_Validation_Y.npy',\n",
              " '/content/drive/MyDrive/data_papers/test13/model_features/CNN256_A_46_20211124160503_features_dense_154_Validation_X.npy',\n",
              " '/content/drive/MyDrive/data_papers/test13/model_features/CNN256_A_46_20211124160503_features_dense_154_Validation_Y.npy',\n",
              " '/content/drive/MyDrive/data_papers/test13/model_features/CNN256_A_46_20211124160503_features_dense_155_Validation_X.npy',\n",
              " '/content/drive/MyDrive/data_papers/test13/model_features/CNN256_A_46_20211124160503_features_dense_155_Validation_Y.npy',\n",
              " '/content/drive/MyDrive/data_papers/test13/model_features/CNN256_A_47_20211124161120_features_dense_157_Validation_X.npy',\n",
              " '/content/drive/MyDrive/data_papers/test13/model_features/CNN256_A_47_20211124161120_features_dense_157_Validation_Y.npy',\n",
              " '/content/drive/MyDrive/data_papers/test13/model_features/CNN256_A_47_20211124161120_features_dense_158_Validation_X.npy',\n",
              " '/content/drive/MyDrive/data_papers/test13/model_features/CNN256_A_47_20211124161120_features_dense_158_Validation_Y.npy',\n",
              " '/content/drive/MyDrive/data_papers/test13/model_features/CNN256_A_48_20211124161756_features_dense_160_Validation_X.npy',\n",
              " '/content/drive/MyDrive/data_papers/test13/model_features/CNN256_A_48_20211124161756_features_dense_160_Validation_Y.npy',\n",
              " '/content/drive/MyDrive/data_papers/test13/model_features/CNN256_A_48_20211124161756_features_dense_161_Validation_X.npy',\n",
              " '/content/drive/MyDrive/data_papers/test13/model_features/CNN256_A_48_20211124161756_features_dense_161_Validation_Y.npy',\n",
              " '/content/drive/MyDrive/data_papers/test13/model_features/CNN256_A_49_20211124162434_features_dense_163_Validation_X.npy',\n",
              " '/content/drive/MyDrive/data_papers/test13/model_features/CNN256_A_49_20211124162434_features_dense_163_Validation_Y.npy',\n",
              " '/content/drive/MyDrive/data_papers/test13/model_features/CNN256_A_49_20211124162434_features_dense_164_Validation_X.npy',\n",
              " '/content/drive/MyDrive/data_papers/test13/model_features/CNN256_A_49_20211124162434_features_dense_164_Validation_Y.npy',\n",
              " '/content/drive/MyDrive/data_papers/test13/model_features/CNN256_A_50_20211124163127_features_dense_166_Validation_X.npy',\n",
              " '/content/drive/MyDrive/data_papers/test13/model_features/CNN256_A_50_20211124163127_features_dense_166_Validation_Y.npy',\n",
              " '/content/drive/MyDrive/data_papers/test13/model_features/CNN256_A_50_20211124163127_features_dense_167_Validation_X.npy',\n",
              " '/content/drive/MyDrive/data_papers/test13/model_features/CNN256_A_50_20211124163127_features_dense_167_Validation_Y.npy',\n",
              " '/content/drive/MyDrive/data_papers/test13/model_features/CNN256_A_51_20211124163815_features_dense_169_Validation_X.npy',\n",
              " '/content/drive/MyDrive/data_papers/test13/model_features/CNN256_A_51_20211124163815_features_dense_169_Validation_Y.npy',\n",
              " '/content/drive/MyDrive/data_papers/test13/model_features/CNN256_A_51_20211124163815_features_dense_170_Validation_X.npy',\n",
              " '/content/drive/MyDrive/data_papers/test13/model_features/CNN256_A_51_20211124163815_features_dense_170_Validation_Y.npy',\n",
              " '/content/drive/MyDrive/data_papers/test13/model_features/CNN256_A_52_20211124164436_features_dense_172_Validation_X.npy',\n",
              " '/content/drive/MyDrive/data_papers/test13/model_features/CNN256_A_52_20211124164436_features_dense_172_Validation_Y.npy',\n",
              " '/content/drive/MyDrive/data_papers/test13/model_features/CNN256_A_52_20211124164436_features_dense_173_Validation_X.npy',\n",
              " '/content/drive/MyDrive/data_papers/test13/model_features/CNN256_A_52_20211124164436_features_dense_173_Validation_Y.npy',\n",
              " '/content/drive/MyDrive/data_papers/test13/model_features/CNN256_A_53_20211124165059_features_dense_175_Validation_X.npy',\n",
              " '/content/drive/MyDrive/data_papers/test13/model_features/CNN256_A_53_20211124165059_features_dense_175_Validation_Y.npy',\n",
              " '/content/drive/MyDrive/data_papers/test13/model_features/CNN256_A_53_20211124165059_features_dense_176_Validation_X.npy',\n",
              " '/content/drive/MyDrive/data_papers/test13/model_features/CNN256_A_53_20211124165059_features_dense_176_Validation_Y.npy',\n",
              " '/content/drive/MyDrive/data_papers/test13/model_features/CNN256_A_54_20211124165804_features_dense_178_Validation_X.npy',\n",
              " '/content/drive/MyDrive/data_papers/test13/model_features/CNN256_A_54_20211124165804_features_dense_178_Validation_Y.npy',\n",
              " '/content/drive/MyDrive/data_papers/test13/model_features/CNN256_A_54_20211124165804_features_dense_179_Validation_X.npy',\n",
              " '/content/drive/MyDrive/data_papers/test13/model_features/CNN256_A_54_20211124165804_features_dense_179_Validation_Y.npy',\n",
              " '/content/drive/MyDrive/data_papers/test13/model_features/CNN256_A_55_20211124170430_features_dense_181_Validation_X.npy',\n",
              " '/content/drive/MyDrive/data_papers/test13/model_features/CNN256_A_55_20211124170430_features_dense_181_Validation_Y.npy',\n",
              " '/content/drive/MyDrive/data_papers/test13/model_features/CNN256_A_55_20211124170430_features_dense_182_Validation_X.npy',\n",
              " '/content/drive/MyDrive/data_papers/test13/model_features/CNN256_A_55_20211124170430_features_dense_182_Validation_Y.npy',\n",
              " '/content/drive/MyDrive/data_papers/test13/model_features/CNN256_A_56_20211124171118_features_dense_184_Validation_X.npy',\n",
              " '/content/drive/MyDrive/data_papers/test13/model_features/CNN256_A_56_20211124171118_features_dense_184_Validation_Y.npy',\n",
              " '/content/drive/MyDrive/data_papers/test13/model_features/CNN256_A_56_20211124171118_features_dense_185_Validation_X.npy',\n",
              " '/content/drive/MyDrive/data_papers/test13/model_features/CNN256_A_56_20211124171118_features_dense_185_Validation_Y.npy',\n",
              " '/content/drive/MyDrive/data_papers/test13/model_features/CNN256_A_57_20211124171753_features_dense_187_Validation_X.npy',\n",
              " '/content/drive/MyDrive/data_papers/test13/model_features/CNN256_A_57_20211124171753_features_dense_187_Validation_Y.npy',\n",
              " '/content/drive/MyDrive/data_papers/test13/model_features/CNN256_A_57_20211124171753_features_dense_188_Validation_X.npy',\n",
              " '/content/drive/MyDrive/data_papers/test13/model_features/CNN256_A_57_20211124171753_features_dense_188_Validation_Y.npy',\n",
              " '/content/drive/MyDrive/data_papers/test13/model_features/CNN256_A_58_20211124172421_features_dense_190_Validation_X.npy',\n",
              " '/content/drive/MyDrive/data_papers/test13/model_features/CNN256_A_58_20211124172421_features_dense_190_Validation_Y.npy',\n",
              " '/content/drive/MyDrive/data_papers/test13/model_features/CNN256_A_58_20211124172421_features_dense_191_Validation_X.npy',\n",
              " '/content/drive/MyDrive/data_papers/test13/model_features/CNN256_A_58_20211124172421_features_dense_191_Validation_Y.npy',\n",
              " '/content/drive/MyDrive/data_papers/test13/model_features/CNN256_A_59_20211124173056_features_dense_193_Validation_X.npy',\n",
              " '/content/drive/MyDrive/data_papers/test13/model_features/CNN256_A_59_20211124173056_features_dense_193_Validation_Y.npy',\n",
              " '/content/drive/MyDrive/data_papers/test13/model_features/CNN256_A_59_20211124173056_features_dense_194_Validation_X.npy',\n",
              " '/content/drive/MyDrive/data_papers/test13/model_features/CNN256_A_59_20211124173056_features_dense_194_Validation_Y.npy',\n",
              " '/content/drive/MyDrive/data_papers/test13/model_features/CNN256_A_60_20211124173748_features_dense_196_Validation_X.npy',\n",
              " '/content/drive/MyDrive/data_papers/test13/model_features/CNN256_A_60_20211124173748_features_dense_196_Validation_Y.npy',\n",
              " '/content/drive/MyDrive/data_papers/test13/model_features/CNN256_A_60_20211124173748_features_dense_197_Validation_X.npy',\n",
              " '/content/drive/MyDrive/data_papers/test13/model_features/CNN256_A_60_20211124173748_features_dense_197_Validation_Y.npy',\n",
              " '/content/drive/MyDrive/data_papers/test13/model_features/CNN256_A_61_20211124174423_features_dense_199_Validation_X.npy',\n",
              " '/content/drive/MyDrive/data_papers/test13/model_features/CNN256_A_61_20211124174423_features_dense_199_Validation_Y.npy',\n",
              " '/content/drive/MyDrive/data_papers/test13/model_features/CNN256_A_61_20211124174423_features_dense_200_Validation_X.npy',\n",
              " '/content/drive/MyDrive/data_papers/test13/model_features/CNN256_A_61_20211124174423_features_dense_200_Validation_Y.npy',\n",
              " '/content/drive/MyDrive/data_papers/test13/model_features/CNN256_A_62_20211124175107_features_dense_202_Validation_X.npy',\n",
              " '/content/drive/MyDrive/data_papers/test13/model_features/CNN256_A_62_20211124175107_features_dense_202_Validation_Y.npy',\n",
              " '/content/drive/MyDrive/data_papers/test13/model_features/CNN256_A_62_20211124175107_features_dense_203_Validation_X.npy',\n",
              " '/content/drive/MyDrive/data_papers/test13/model_features/CNN256_A_62_20211124175107_features_dense_203_Validation_Y.npy',\n",
              " '/content/drive/MyDrive/data_papers/test13/model_features/CNN256_A_63_20211124175727_features_dense_205_Validation_X.npy',\n",
              " '/content/drive/MyDrive/data_papers/test13/model_features/CNN256_A_63_20211124175727_features_dense_205_Validation_Y.npy',\n",
              " '/content/drive/MyDrive/data_papers/test13/model_features/CNN256_A_63_20211124175727_features_dense_206_Validation_X.npy',\n",
              " '/content/drive/MyDrive/data_papers/test13/model_features/CNN256_A_63_20211124175727_features_dense_206_Validation_Y.npy',\n",
              " '/content/drive/MyDrive/data_papers/test13/model_features/CNN256_A_64_20211124180355_features_dense_208_Validation_X.npy',\n",
              " '/content/drive/MyDrive/data_papers/test13/model_features/CNN256_A_64_20211124180355_features_dense_208_Validation_Y.npy',\n",
              " '/content/drive/MyDrive/data_papers/test13/model_features/CNN256_A_64_20211124180355_features_dense_209_Validation_X.npy',\n",
              " '/content/drive/MyDrive/data_papers/test13/model_features/CNN256_A_64_20211124180355_features_dense_209_Validation_Y.npy',\n",
              " '/content/drive/MyDrive/data_papers/test13/model_features/CNN256_A_65_20211124181033_features_dense_211_Validation_X.npy',\n",
              " '/content/drive/MyDrive/data_papers/test13/model_features/CNN256_A_65_20211124181033_features_dense_211_Validation_Y.npy',\n",
              " '/content/drive/MyDrive/data_papers/test13/model_features/CNN256_A_65_20211124181033_features_dense_212_Validation_X.npy',\n",
              " '/content/drive/MyDrive/data_papers/test13/model_features/CNN256_A_65_20211124181033_features_dense_212_Validation_Y.npy',\n",
              " '/content/drive/MyDrive/data_papers/test13/model_features/CNN256_A_66_20211124181717_features_dense_214_Validation_X.npy',\n",
              " '/content/drive/MyDrive/data_papers/test13/model_features/CNN256_A_66_20211124181717_features_dense_214_Validation_Y.npy',\n",
              " '/content/drive/MyDrive/data_papers/test13/model_features/CNN256_A_66_20211124181717_features_dense_215_Validation_X.npy',\n",
              " '/content/drive/MyDrive/data_papers/test13/model_features/CNN256_A_66_20211124181717_features_dense_215_Validation_Y.npy',\n",
              " '/content/drive/MyDrive/data_papers/test13/model_features/CNN256_A_67_20211124182357_features_dense_217_Validation_X.npy',\n",
              " '/content/drive/MyDrive/data_papers/test13/model_features/CNN256_A_67_20211124182357_features_dense_217_Validation_Y.npy',\n",
              " '/content/drive/MyDrive/data_papers/test13/model_features/CNN256_A_67_20211124182357_features_dense_218_Validation_X.npy',\n",
              " '/content/drive/MyDrive/data_papers/test13/model_features/CNN256_A_67_20211124182357_features_dense_218_Validation_Y.npy',\n",
              " '/content/drive/MyDrive/data_papers/test13/model_features/CNN256_A_68_20211124183028_features_dense_220_Validation_X.npy',\n",
              " '/content/drive/MyDrive/data_papers/test13/model_features/CNN256_A_68_20211124183028_features_dense_220_Validation_Y.npy',\n",
              " '/content/drive/MyDrive/data_papers/test13/model_features/CNN256_A_68_20211124183028_features_dense_221_Validation_X.npy',\n",
              " '/content/drive/MyDrive/data_papers/test13/model_features/CNN256_A_68_20211124183028_features_dense_221_Validation_Y.npy',\n",
              " '/content/drive/MyDrive/data_papers/test13/model_features/CNN256_A_69_20211124183704_features_dense_223_Validation_X.npy',\n",
              " '/content/drive/MyDrive/data_papers/test13/model_features/CNN256_A_69_20211124183704_features_dense_223_Validation_Y.npy',\n",
              " '/content/drive/MyDrive/data_papers/test13/model_features/CNN256_A_69_20211124183704_features_dense_224_Validation_X.npy',\n",
              " '/content/drive/MyDrive/data_papers/test13/model_features/CNN256_A_69_20211124183704_features_dense_224_Validation_Y.npy',\n",
              " '/content/drive/MyDrive/data_papers/test13/model_features/CNN256_A_70_20211124184353_features_dense_226_Validation_X.npy',\n",
              " '/content/drive/MyDrive/data_papers/test13/model_features/CNN256_A_70_20211124184353_features_dense_226_Validation_Y.npy',\n",
              " '/content/drive/MyDrive/data_papers/test13/model_features/CNN256_A_70_20211124184353_features_dense_227_Validation_X.npy',\n",
              " '/content/drive/MyDrive/data_papers/test13/model_features/CNN256_A_70_20211124184353_features_dense_227_Validation_Y.npy',\n",
              " '/content/drive/MyDrive/data_papers/test13/model_features/CNN256_A_71_20211124185022_features_dense_229_Validation_X.npy',\n",
              " '/content/drive/MyDrive/data_papers/test13/model_features/CNN256_A_71_20211124185022_features_dense_229_Validation_Y.npy',\n",
              " '/content/drive/MyDrive/data_papers/test13/model_features/CNN256_A_71_20211124185022_features_dense_230_Validation_X.npy',\n",
              " '/content/drive/MyDrive/data_papers/test13/model_features/CNN256_A_71_20211124185022_features_dense_230_Validation_Y.npy',\n",
              " '/content/drive/MyDrive/data_papers/test13/model_features/CNN256_A_72_20211124185651_features_dense_232_Validation_X.npy',\n",
              " '/content/drive/MyDrive/data_papers/test13/model_features/CNN256_A_72_20211124185651_features_dense_232_Validation_Y.npy',\n",
              " '/content/drive/MyDrive/data_papers/test13/model_features/CNN256_A_72_20211124185651_features_dense_233_Validation_X.npy',\n",
              " '/content/drive/MyDrive/data_papers/test13/model_features/CNN256_A_72_20211124185651_features_dense_233_Validation_Y.npy',\n",
              " '/content/drive/MyDrive/data_papers/test13/model_features/CNN256_A_73_20211124190333_features_dense_235_Validation_X.npy',\n",
              " '/content/drive/MyDrive/data_papers/test13/model_features/CNN256_A_73_20211124190333_features_dense_235_Validation_Y.npy',\n",
              " '/content/drive/MyDrive/data_papers/test13/model_features/CNN256_A_73_20211124190333_features_dense_236_Validation_X.npy',\n",
              " '/content/drive/MyDrive/data_papers/test13/model_features/CNN256_A_73_20211124190333_features_dense_236_Validation_Y.npy',\n",
              " '/content/drive/MyDrive/data_papers/test13/model_features/CNN256_A_74_20211124191010_features_dense_238_Validation_X.npy',\n",
              " '/content/drive/MyDrive/data_papers/test13/model_features/CNN256_A_74_20211124191010_features_dense_238_Validation_Y.npy',\n",
              " '/content/drive/MyDrive/data_papers/test13/model_features/CNN256_A_74_20211124191010_features_dense_239_Validation_X.npy',\n",
              " '/content/drive/MyDrive/data_papers/test13/model_features/CNN256_A_74_20211124191010_features_dense_239_Validation_Y.npy',\n",
              " '/content/drive/MyDrive/data_papers/test13/model_features/CNN256_A_75_20211124191705_features_dense_241_Validation_X.npy',\n",
              " '/content/drive/MyDrive/data_papers/test13/model_features/CNN256_A_75_20211124191705_features_dense_241_Validation_Y.npy',\n",
              " '/content/drive/MyDrive/data_papers/test13/model_features/CNN256_A_75_20211124191705_features_dense_242_Validation_X.npy',\n",
              " '/content/drive/MyDrive/data_papers/test13/model_features/CNN256_A_75_20211124191705_features_dense_242_Validation_Y.npy',\n",
              " '/content/drive/MyDrive/data_papers/test13/model_features/CNN256_A_76_20211124192348_features_dense_244_Validation_X.npy',\n",
              " '/content/drive/MyDrive/data_papers/test13/model_features/CNN256_A_76_20211124192348_features_dense_244_Validation_Y.npy',\n",
              " '/content/drive/MyDrive/data_papers/test13/model_features/CNN256_A_76_20211124192348_features_dense_245_Validation_X.npy',\n",
              " '/content/drive/MyDrive/data_papers/test13/model_features/CNN256_A_76_20211124192348_features_dense_245_Validation_Y.npy',\n",
              " '/content/drive/MyDrive/data_papers/test13/model_features/CNN256_A_77_20211124193011_features_dense_247_Validation_X.npy',\n",
              " '/content/drive/MyDrive/data_papers/test13/model_features/CNN256_A_77_20211124193011_features_dense_247_Validation_Y.npy',\n",
              " '/content/drive/MyDrive/data_papers/test13/model_features/CNN256_A_77_20211124193011_features_dense_248_Validation_X.npy',\n",
              " '/content/drive/MyDrive/data_papers/test13/model_features/CNN256_A_77_20211124193011_features_dense_248_Validation_Y.npy',\n",
              " '/content/drive/MyDrive/data_papers/test13/model_features/CNN256_A_78_20211124193648_features_dense_250_Validation_X.npy',\n",
              " '/content/drive/MyDrive/data_papers/test13/model_features/CNN256_A_78_20211124193648_features_dense_250_Validation_Y.npy',\n",
              " '/content/drive/MyDrive/data_papers/test13/model_features/CNN256_A_78_20211124193648_features_dense_251_Validation_X.npy',\n",
              " '/content/drive/MyDrive/data_papers/test13/model_features/CNN256_A_78_20211124193648_features_dense_251_Validation_Y.npy',\n",
              " '/content/drive/MyDrive/data_papers/test13/model_features/CNN256_A_79_20211124194316_features_dense_253_Validation_X.npy',\n",
              " '/content/drive/MyDrive/data_papers/test13/model_features/CNN256_A_79_20211124194316_features_dense_253_Validation_Y.npy',\n",
              " '/content/drive/MyDrive/data_papers/test13/model_features/CNN256_A_79_20211124194316_features_dense_254_Validation_X.npy',\n",
              " '/content/drive/MyDrive/data_papers/test13/model_features/CNN256_A_79_20211124194316_features_dense_254_Validation_Y.npy',\n",
              " '/content/drive/MyDrive/data_papers/test13/model_features/CNN256_A_80_20211124194946_features_dense_256_Validation_X.npy',\n",
              " '/content/drive/MyDrive/data_papers/test13/model_features/CNN256_A_80_20211124194946_features_dense_256_Validation_Y.npy',\n",
              " '/content/drive/MyDrive/data_papers/test13/model_features/CNN256_A_80_20211124194946_features_dense_257_Validation_X.npy',\n",
              " '/content/drive/MyDrive/data_papers/test13/model_features/CNN256_A_80_20211124194946_features_dense_257_Validation_Y.npy',\n",
              " '/content/drive/MyDrive/data_papers/test13/model_features/CNN256_A_81_20211124195552_features_dense_259_Validation_X.npy',\n",
              " '/content/drive/MyDrive/data_papers/test13/model_features/CNN256_A_81_20211124195552_features_dense_259_Validation_Y.npy',\n",
              " '/content/drive/MyDrive/data_papers/test13/model_features/CNN256_A_81_20211124195552_features_dense_260_Validation_X.npy',\n",
              " '/content/drive/MyDrive/data_papers/test13/model_features/CNN256_A_81_20211124195552_features_dense_260_Validation_Y.npy',\n",
              " '/content/drive/MyDrive/data_papers/test13/model_features/CNN256_A_82_20211124200226_features_dense_262_Validation_X.npy',\n",
              " '/content/drive/MyDrive/data_papers/test13/model_features/CNN256_A_82_20211124200226_features_dense_262_Validation_Y.npy',\n",
              " '/content/drive/MyDrive/data_papers/test13/model_features/CNN256_A_82_20211124200226_features_dense_263_Validation_X.npy',\n",
              " '/content/drive/MyDrive/data_papers/test13/model_features/CNN256_A_82_20211124200226_features_dense_263_Validation_Y.npy',\n",
              " '/content/drive/MyDrive/data_papers/test13/model_features/CNN256_A_83_20211124200859_features_dense_265_Validation_X.npy',\n",
              " '/content/drive/MyDrive/data_papers/test13/model_features/CNN256_A_83_20211124200859_features_dense_265_Validation_Y.npy',\n",
              " '/content/drive/MyDrive/data_papers/test13/model_features/CNN256_A_83_20211124200859_features_dense_266_Validation_X.npy',\n",
              " '/content/drive/MyDrive/data_papers/test13/model_features/CNN256_A_83_20211124200859_features_dense_266_Validation_Y.npy',\n",
              " '/content/drive/MyDrive/data_papers/test13/model_features/CNN256_A_84_20211124201537_features_dense_268_Validation_X.npy',\n",
              " '/content/drive/MyDrive/data_papers/test13/model_features/CNN256_A_84_20211124201537_features_dense_268_Validation_Y.npy',\n",
              " '/content/drive/MyDrive/data_papers/test13/model_features/CNN256_A_84_20211124201537_features_dense_269_Validation_X.npy',\n",
              " '/content/drive/MyDrive/data_papers/test13/model_features/CNN256_A_84_20211124201537_features_dense_269_Validation_Y.npy',\n",
              " '/content/drive/MyDrive/data_papers/test13/model_features/CNN256_A_85_20211124202231_features_dense_271_Validation_X.npy',\n",
              " '/content/drive/MyDrive/data_papers/test13/model_features/CNN256_A_85_20211124202231_features_dense_271_Validation_Y.npy',\n",
              " '/content/drive/MyDrive/data_papers/test13/model_features/CNN256_A_85_20211124202231_features_dense_272_Validation_X.npy',\n",
              " '/content/drive/MyDrive/data_papers/test13/model_features/CNN256_A_85_20211124202231_features_dense_272_Validation_Y.npy',\n",
              " '/content/drive/MyDrive/data_papers/test13/model_features/CNN256_A_86_20211124202928_features_dense_274_Validation_X.npy',\n",
              " '/content/drive/MyDrive/data_papers/test13/model_features/CNN256_A_86_20211124202928_features_dense_274_Validation_Y.npy',\n",
              " '/content/drive/MyDrive/data_papers/test13/model_features/CNN256_A_86_20211124202928_features_dense_275_Validation_X.npy',\n",
              " '/content/drive/MyDrive/data_papers/test13/model_features/CNN256_A_86_20211124202928_features_dense_275_Validation_Y.npy',\n",
              " '/content/drive/MyDrive/data_papers/test13/model_features/CNN256_A_87_20211124203619_features_dense_277_Validation_X.npy',\n",
              " '/content/drive/MyDrive/data_papers/test13/model_features/CNN256_A_87_20211124203619_features_dense_277_Validation_Y.npy',\n",
              " '/content/drive/MyDrive/data_papers/test13/model_features/CNN256_A_87_20211124203619_features_dense_278_Validation_X.npy',\n",
              " '/content/drive/MyDrive/data_papers/test13/model_features/CNN256_A_87_20211124203619_features_dense_278_Validation_Y.npy',\n",
              " '/content/drive/MyDrive/data_papers/test13/model_features/CNN256_A_88_20211124204306_features_dense_280_Validation_X.npy',\n",
              " '/content/drive/MyDrive/data_papers/test13/model_features/CNN256_A_88_20211124204306_features_dense_280_Validation_Y.npy',\n",
              " '/content/drive/MyDrive/data_papers/test13/model_features/CNN256_A_88_20211124204306_features_dense_281_Validation_X.npy',\n",
              " '/content/drive/MyDrive/data_papers/test13/model_features/CNN256_A_88_20211124204306_features_dense_281_Validation_Y.npy',\n",
              " '/content/drive/MyDrive/data_papers/test13/model_features/CNN256_A_89_20211124204936_features_dense_283_Validation_X.npy',\n",
              " '/content/drive/MyDrive/data_papers/test13/model_features/CNN256_A_89_20211124204936_features_dense_283_Validation_Y.npy',\n",
              " '/content/drive/MyDrive/data_papers/test13/model_features/CNN256_A_89_20211124204936_features_dense_284_Validation_X.npy',\n",
              " '/content/drive/MyDrive/data_papers/test13/model_features/CNN256_A_89_20211124204936_features_dense_284_Validation_Y.npy',\n",
              " '/content/drive/MyDrive/data_papers/test13/model_features/CNN256_A_90_20211124205551_features_dense_286_Validation_X.npy',\n",
              " '/content/drive/MyDrive/data_papers/test13/model_features/CNN256_A_90_20211124205551_features_dense_286_Validation_Y.npy',\n",
              " '/content/drive/MyDrive/data_papers/test13/model_features/CNN256_A_90_20211124205551_features_dense_287_Validation_X.npy',\n",
              " '/content/drive/MyDrive/data_papers/test13/model_features/CNN256_A_90_20211124205551_features_dense_287_Validation_Y.npy',\n",
              " '/content/drive/MyDrive/data_papers/test13/model_features/CNN256_A_91_20211124210233_features_dense_289_Validation_X.npy',\n",
              " '/content/drive/MyDrive/data_papers/test13/model_features/CNN256_A_91_20211124210233_features_dense_289_Validation_Y.npy',\n",
              " '/content/drive/MyDrive/data_papers/test13/model_features/CNN256_A_91_20211124210233_features_dense_290_Validation_X.npy',\n",
              " '/content/drive/MyDrive/data_papers/test13/model_features/CNN256_A_91_20211124210233_features_dense_290_Validation_Y.npy',\n",
              " '/content/drive/MyDrive/data_papers/test13/model_features/CNN256_A_92_20211124210923_features_dense_292_Validation_X.npy',\n",
              " '/content/drive/MyDrive/data_papers/test13/model_features/CNN256_A_92_20211124210923_features_dense_292_Validation_Y.npy',\n",
              " '/content/drive/MyDrive/data_papers/test13/model_features/CNN256_A_92_20211124210923_features_dense_293_Validation_X.npy',\n",
              " '/content/drive/MyDrive/data_papers/test13/model_features/CNN256_A_92_20211124210923_features_dense_293_Validation_Y.npy',\n",
              " '/content/drive/MyDrive/data_papers/test13/model_features/CNN256_A_93_20211124211555_features_dense_295_Validation_X.npy',\n",
              " '/content/drive/MyDrive/data_papers/test13/model_features/CNN256_A_93_20211124211555_features_dense_295_Validation_Y.npy',\n",
              " '/content/drive/MyDrive/data_papers/test13/model_features/CNN256_A_93_20211124211555_features_dense_296_Validation_X.npy',\n",
              " '/content/drive/MyDrive/data_papers/test13/model_features/CNN256_A_93_20211124211555_features_dense_296_Validation_Y.npy',\n",
              " '/content/drive/MyDrive/data_papers/test13/model_features/CNN256_A_94_20211124212215_features_dense_298_Validation_X.npy',\n",
              " '/content/drive/MyDrive/data_papers/test13/model_features/CNN256_A_94_20211124212215_features_dense_298_Validation_Y.npy',\n",
              " '/content/drive/MyDrive/data_papers/test13/model_features/CNN256_A_94_20211124212215_features_dense_299_Validation_X.npy',\n",
              " '/content/drive/MyDrive/data_papers/test13/model_features/CNN256_A_94_20211124212215_features_dense_299_Validation_Y.npy',\n",
              " '/content/drive/MyDrive/data_papers/test13/model_features/CNN256_A_95_20211124212859_features_dense_301_Validation_X.npy',\n",
              " '/content/drive/MyDrive/data_papers/test13/model_features/CNN256_A_95_20211124212859_features_dense_301_Validation_Y.npy',\n",
              " '/content/drive/MyDrive/data_papers/test13/model_features/CNN256_A_95_20211124212859_features_dense_302_Validation_X.npy',\n",
              " '/content/drive/MyDrive/data_papers/test13/model_features/CNN256_A_95_20211124212859_features_dense_302_Validation_Y.npy',\n",
              " '/content/drive/MyDrive/data_papers/test13/model_features/CNN256_A_96_20211124213532_features_dense_304_Validation_X.npy',\n",
              " '/content/drive/MyDrive/data_papers/test13/model_features/CNN256_A_96_20211124213532_features_dense_304_Validation_Y.npy',\n",
              " '/content/drive/MyDrive/data_papers/test13/model_features/CNN256_A_96_20211124213532_features_dense_305_Validation_X.npy',\n",
              " '/content/drive/MyDrive/data_papers/test13/model_features/CNN256_A_96_20211124213532_features_dense_305_Validation_Y.npy',\n",
              " '/content/drive/MyDrive/data_papers/test13/model_features/CNN256_A_97_20211124214206_features_dense_307_Validation_X.npy',\n",
              " '/content/drive/MyDrive/data_papers/test13/model_features/CNN256_A_97_20211124214206_features_dense_307_Validation_Y.npy',\n",
              " '/content/drive/MyDrive/data_papers/test13/model_features/CNN256_A_97_20211124214206_features_dense_308_Validation_X.npy',\n",
              " '/content/drive/MyDrive/data_papers/test13/model_features/CNN256_A_97_20211124214206_features_dense_308_Validation_Y.npy',\n",
              " '/content/drive/MyDrive/data_papers/test13/model_features/CNN256_A_98_20211124214843_features_dense_310_Validation_X.npy',\n",
              " '/content/drive/MyDrive/data_papers/test13/model_features/CNN256_A_98_20211124214843_features_dense_310_Validation_Y.npy',\n",
              " '/content/drive/MyDrive/data_papers/test13/model_features/CNN256_A_98_20211124214843_features_dense_311_Validation_X.npy',\n",
              " '/content/drive/MyDrive/data_papers/test13/model_features/CNN256_A_98_20211124214843_features_dense_311_Validation_Y.npy',\n",
              " '/content/drive/MyDrive/data_papers/test13/model_features/CNN256_A_99_20211124215531_features_dense_313_Validation_X.npy',\n",
              " '/content/drive/MyDrive/data_papers/test13/model_features/CNN256_A_99_20211124215531_features_dense_313_Validation_Y.npy',\n",
              " '/content/drive/MyDrive/data_papers/test13/model_features/CNN256_A_99_20211124215531_features_dense_314_Validation_X.npy',\n",
              " '/content/drive/MyDrive/data_papers/test13/model_features/CNN256_A_99_20211124215531_features_dense_314_Validation_Y.npy',\n",
              " '/content/drive/MyDrive/data_papers/test13/model_features/CNN256_A_100_20211124220210_features_dense_316_Validation_X.npy',\n",
              " '/content/drive/MyDrive/data_papers/test13/model_features/CNN256_A_100_20211124220210_features_dense_316_Validation_Y.npy',\n",
              " '/content/drive/MyDrive/data_papers/test13/model_features/CNN256_A_100_20211124220210_features_dense_317_Validation_X.npy',\n",
              " '/content/drive/MyDrive/data_papers/test13/model_features/CNN256_A_100_20211124220210_features_dense_317_Validation_Y.npy',\n",
              " '/content/drive/MyDrive/data_papers/test13/model_features/CNN256_A_1_20211124110828_features_dense_19_Test_X.npy',\n",
              " '/content/drive/MyDrive/data_papers/test13/model_features/CNN256_A_1_20211124110828_features_dense_19_Test_Y.npy',\n",
              " '/content/drive/MyDrive/data_papers/test13/model_features/CNN256_A_1_20211124110828_features_dense_20_Test_X.npy',\n",
              " '/content/drive/MyDrive/data_papers/test13/model_features/CNN256_A_1_20211124110828_features_dense_20_Test_Y.npy',\n",
              " '/content/drive/MyDrive/data_papers/test13/model_features/CNN256_A_2_20211124111459_features_dense_22_Test_X.npy',\n",
              " '/content/drive/MyDrive/data_papers/test13/model_features/CNN256_A_2_20211124111459_features_dense_22_Test_Y.npy',\n",
              " '/content/drive/MyDrive/data_papers/test13/model_features/CNN256_A_2_20211124111459_features_dense_23_Test_X.npy',\n",
              " '/content/drive/MyDrive/data_papers/test13/model_features/CNN256_A_2_20211124111459_features_dense_23_Test_Y.npy',\n",
              " '/content/drive/MyDrive/data_papers/test13/model_features/CNN256_A_3_20211124112133_features_dense_25_Test_X.npy',\n",
              " '/content/drive/MyDrive/data_papers/test13/model_features/CNN256_A_3_20211124112133_features_dense_25_Test_Y.npy',\n",
              " '/content/drive/MyDrive/data_papers/test13/model_features/CNN256_A_3_20211124112133_features_dense_26_Test_X.npy',\n",
              " '/content/drive/MyDrive/data_papers/test13/model_features/CNN256_A_3_20211124112133_features_dense_26_Test_Y.npy',\n",
              " '/content/drive/MyDrive/data_papers/test13/model_features/CNN256_A_4_20211124112755_features_dense_28_Test_X.npy',\n",
              " '/content/drive/MyDrive/data_papers/test13/model_features/CNN256_A_4_20211124112755_features_dense_28_Test_Y.npy',\n",
              " '/content/drive/MyDrive/data_papers/test13/model_features/CNN256_A_4_20211124112755_features_dense_29_Test_X.npy',\n",
              " '/content/drive/MyDrive/data_papers/test13/model_features/CNN256_A_4_20211124112755_features_dense_29_Test_Y.npy',\n",
              " '/content/drive/MyDrive/data_papers/test13/model_features/CNN256_A_5_20211124113440_features_dense_31_Test_X.npy',\n",
              " '/content/drive/MyDrive/data_papers/test13/model_features/CNN256_A_5_20211124113440_features_dense_31_Test_Y.npy',\n",
              " '/content/drive/MyDrive/data_papers/test13/model_features/CNN256_A_5_20211124113440_features_dense_32_Test_X.npy',\n",
              " '/content/drive/MyDrive/data_papers/test13/model_features/CNN256_A_5_20211124113440_features_dense_32_Test_Y.npy',\n",
              " '/content/drive/MyDrive/data_papers/test13/model_features/CNN256_A_6_20211124114114_features_dense_34_Test_X.npy',\n",
              " '/content/drive/MyDrive/data_papers/test13/model_features/CNN256_A_6_20211124114114_features_dense_34_Test_Y.npy',\n",
              " '/content/drive/MyDrive/data_papers/test13/model_features/CNN256_A_6_20211124114114_features_dense_35_Test_X.npy',\n",
              " '/content/drive/MyDrive/data_papers/test13/model_features/CNN256_A_6_20211124114114_features_dense_35_Test_Y.npy',\n",
              " '/content/drive/MyDrive/data_papers/test13/model_features/CNN256_A_7_20211124114753_features_dense_37_Test_X.npy',\n",
              " '/content/drive/MyDrive/data_papers/test13/model_features/CNN256_A_7_20211124114753_features_dense_37_Test_Y.npy',\n",
              " '/content/drive/MyDrive/data_papers/test13/model_features/CNN256_A_7_20211124114753_features_dense_38_Test_X.npy',\n",
              " '/content/drive/MyDrive/data_papers/test13/model_features/CNN256_A_7_20211124114753_features_dense_38_Test_Y.npy',\n",
              " '/content/drive/MyDrive/data_papers/test13/model_features/CNN256_A_8_20211124115418_features_dense_40_Test_X.npy',\n",
              " '/content/drive/MyDrive/data_papers/test13/model_features/CNN256_A_8_20211124115418_features_dense_40_Test_Y.npy',\n",
              " '/content/drive/MyDrive/data_papers/test13/model_features/CNN256_A_8_20211124115418_features_dense_41_Test_X.npy',\n",
              " '/content/drive/MyDrive/data_papers/test13/model_features/CNN256_A_8_20211124115418_features_dense_41_Test_Y.npy',\n",
              " '/content/drive/MyDrive/data_papers/test13/model_features/CNN256_A_9_20211124120100_features_dense_43_Test_X.npy',\n",
              " '/content/drive/MyDrive/data_papers/test13/model_features/CNN256_A_9_20211124120100_features_dense_43_Test_Y.npy',\n",
              " '/content/drive/MyDrive/data_papers/test13/model_features/CNN256_A_9_20211124120100_features_dense_44_Test_X.npy',\n",
              " '/content/drive/MyDrive/data_papers/test13/model_features/CNN256_A_9_20211124120100_features_dense_44_Test_Y.npy',\n",
              " '/content/drive/MyDrive/data_papers/test13/model_features/CNN256_A_10_20211124120744_features_dense_46_Test_X.npy',\n",
              " '/content/drive/MyDrive/data_papers/test13/model_features/CNN256_A_10_20211124120744_features_dense_46_Test_Y.npy',\n",
              " '/content/drive/MyDrive/data_papers/test13/model_features/CNN256_A_10_20211124120744_features_dense_47_Test_X.npy',\n",
              " '/content/drive/MyDrive/data_papers/test13/model_features/CNN256_A_10_20211124120744_features_dense_47_Test_Y.npy',\n",
              " '/content/drive/MyDrive/data_papers/test13/model_features/CNN256_A_11_20211124121436_features_dense_49_Test_X.npy',\n",
              " '/content/drive/MyDrive/data_papers/test13/model_features/CNN256_A_11_20211124121436_features_dense_49_Test_Y.npy',\n",
              " '/content/drive/MyDrive/data_papers/test13/model_features/CNN256_A_11_20211124121436_features_dense_50_Test_X.npy',\n",
              " '/content/drive/MyDrive/data_papers/test13/model_features/CNN256_A_11_20211124121436_features_dense_50_Test_Y.npy',\n",
              " '/content/drive/MyDrive/data_papers/test13/model_features/CNN256_A_12_20211124122043_features_dense_52_Test_X.npy',\n",
              " '/content/drive/MyDrive/data_papers/test13/model_features/CNN256_A_12_20211124122043_features_dense_52_Test_Y.npy',\n",
              " '/content/drive/MyDrive/data_papers/test13/model_features/CNN256_A_12_20211124122043_features_dense_53_Test_X.npy',\n",
              " '/content/drive/MyDrive/data_papers/test13/model_features/CNN256_A_12_20211124122043_features_dense_53_Test_Y.npy',\n",
              " '/content/drive/MyDrive/data_papers/test13/model_features/CNN256_A_13_20211124122718_features_dense_55_Test_X.npy',\n",
              " '/content/drive/MyDrive/data_papers/test13/model_features/CNN256_A_13_20211124122718_features_dense_55_Test_Y.npy',\n",
              " '/content/drive/MyDrive/data_papers/test13/model_features/CNN256_A_13_20211124122718_features_dense_56_Test_X.npy',\n",
              " '/content/drive/MyDrive/data_papers/test13/model_features/CNN256_A_13_20211124122718_features_dense_56_Test_Y.npy',\n",
              " '/content/drive/MyDrive/data_papers/test13/model_features/CNN256_A_14_20211124123410_features_dense_58_Test_X.npy',\n",
              " '/content/drive/MyDrive/data_papers/test13/model_features/CNN256_A_14_20211124123410_features_dense_58_Test_Y.npy',\n",
              " '/content/drive/MyDrive/data_papers/test13/model_features/CNN256_A_14_20211124123410_features_dense_59_Test_X.npy',\n",
              " '/content/drive/MyDrive/data_papers/test13/model_features/CNN256_A_14_20211124123410_features_dense_59_Test_Y.npy',\n",
              " '/content/drive/MyDrive/data_papers/test13/model_features/CNN256_A_15_20211124124025_features_dense_61_Test_X.npy',\n",
              " '/content/drive/MyDrive/data_papers/test13/model_features/CNN256_A_15_20211124124025_features_dense_61_Test_Y.npy',\n",
              " '/content/drive/MyDrive/data_papers/test13/model_features/CNN256_A_15_20211124124025_features_dense_62_Test_X.npy',\n",
              " '/content/drive/MyDrive/data_papers/test13/model_features/CNN256_A_15_20211124124025_features_dense_62_Test_Y.npy',\n",
              " '/content/drive/MyDrive/data_papers/test13/model_features/CNN256_A_16_20211124124717_features_dense_64_Test_X.npy',\n",
              " '/content/drive/MyDrive/data_papers/test13/model_features/CNN256_A_16_20211124124717_features_dense_64_Test_Y.npy',\n",
              " '/content/drive/MyDrive/data_papers/test13/model_features/CNN256_A_16_20211124124717_features_dense_65_Test_X.npy',\n",
              " '/content/drive/MyDrive/data_papers/test13/model_features/CNN256_A_16_20211124124717_features_dense_65_Test_Y.npy',\n",
              " '/content/drive/MyDrive/data_papers/test13/model_features/CNN256_A_17_20211124125352_features_dense_67_Test_X.npy',\n",
              " '/content/drive/MyDrive/data_papers/test13/model_features/CNN256_A_17_20211124125352_features_dense_67_Test_Y.npy',\n",
              " '/content/drive/MyDrive/data_papers/test13/model_features/CNN256_A_17_20211124125352_features_dense_68_Test_X.npy',\n",
              " '/content/drive/MyDrive/data_papers/test13/model_features/CNN256_A_17_20211124125352_features_dense_68_Test_Y.npy',\n",
              " '/content/drive/MyDrive/data_papers/test13/model_features/CNN256_A_18_20211124130025_features_dense_70_Test_X.npy',\n",
              " '/content/drive/MyDrive/data_papers/test13/model_features/CNN256_A_18_20211124130025_features_dense_70_Test_Y.npy',\n",
              " '/content/drive/MyDrive/data_papers/test13/model_features/CNN256_A_18_20211124130025_features_dense_71_Test_X.npy',\n",
              " '/content/drive/MyDrive/data_papers/test13/model_features/CNN256_A_18_20211124130025_features_dense_71_Test_Y.npy',\n",
              " '/content/drive/MyDrive/data_papers/test13/model_features/CNN256_A_19_20211124130651_features_dense_73_Test_X.npy',\n",
              " '/content/drive/MyDrive/data_papers/test13/model_features/CNN256_A_19_20211124130651_features_dense_73_Test_Y.npy',\n",
              " '/content/drive/MyDrive/data_papers/test13/model_features/CNN256_A_19_20211124130651_features_dense_74_Test_X.npy',\n",
              " '/content/drive/MyDrive/data_papers/test13/model_features/CNN256_A_19_20211124130651_features_dense_74_Test_Y.npy',\n",
              " '/content/drive/MyDrive/data_papers/test13/model_features/CNN256_A_20_20211124131334_features_dense_76_Test_X.npy',\n",
              " '/content/drive/MyDrive/data_papers/test13/model_features/CNN256_A_20_20211124131334_features_dense_76_Test_Y.npy',\n",
              " '/content/drive/MyDrive/data_papers/test13/model_features/CNN256_A_20_20211124131334_features_dense_77_Test_X.npy',\n",
              " '/content/drive/MyDrive/data_papers/test13/model_features/CNN256_A_20_20211124131334_features_dense_77_Test_Y.npy',\n",
              " '/content/drive/MyDrive/data_papers/test13/model_features/CNN256_A_21_20211124132004_features_dense_79_Test_X.npy',\n",
              " '/content/drive/MyDrive/data_papers/test13/model_features/CNN256_A_21_20211124132004_features_dense_79_Test_Y.npy',\n",
              " '/content/drive/MyDrive/data_papers/test13/model_features/CNN256_A_21_20211124132004_features_dense_80_Test_X.npy',\n",
              " '/content/drive/MyDrive/data_papers/test13/model_features/CNN256_A_21_20211124132004_features_dense_80_Test_Y.npy',\n",
              " '/content/drive/MyDrive/data_papers/test13/model_features/CNN256_A_22_20211124132639_features_dense_82_Test_X.npy',\n",
              " '/content/drive/MyDrive/data_papers/test13/model_features/CNN256_A_22_20211124132639_features_dense_82_Test_Y.npy',\n",
              " '/content/drive/MyDrive/data_papers/test13/model_features/CNN256_A_22_20211124132639_features_dense_83_Test_X.npy',\n",
              " '/content/drive/MyDrive/data_papers/test13/model_features/CNN256_A_22_20211124132639_features_dense_83_Test_Y.npy',\n",
              " '/content/drive/MyDrive/data_papers/test13/model_features/CNN256_A_23_20211124133316_features_dense_85_Test_X.npy',\n",
              " '/content/drive/MyDrive/data_papers/test13/model_features/CNN256_A_23_20211124133316_features_dense_85_Test_Y.npy',\n",
              " '/content/drive/MyDrive/data_papers/test13/model_features/CNN256_A_23_20211124133316_features_dense_86_Test_X.npy',\n",
              " '/content/drive/MyDrive/data_papers/test13/model_features/CNN256_A_23_20211124133316_features_dense_86_Test_Y.npy',\n",
              " '/content/drive/MyDrive/data_papers/test13/model_features/CNN256_A_24_20211124134008_features_dense_88_Test_X.npy',\n",
              " '/content/drive/MyDrive/data_papers/test13/model_features/CNN256_A_24_20211124134008_features_dense_88_Test_Y.npy',\n",
              " '/content/drive/MyDrive/data_papers/test13/model_features/CNN256_A_24_20211124134008_features_dense_89_Test_X.npy',\n",
              " '/content/drive/MyDrive/data_papers/test13/model_features/CNN256_A_24_20211124134008_features_dense_89_Test_Y.npy',\n",
              " '/content/drive/MyDrive/data_papers/test13/model_features/CNN256_A_25_20211124134640_features_dense_91_Test_X.npy',\n",
              " '/content/drive/MyDrive/data_papers/test13/model_features/CNN256_A_25_20211124134640_features_dense_91_Test_Y.npy',\n",
              " '/content/drive/MyDrive/data_papers/test13/model_features/CNN256_A_25_20211124134640_features_dense_92_Test_X.npy',\n",
              " '/content/drive/MyDrive/data_papers/test13/model_features/CNN256_A_25_20211124134640_features_dense_92_Test_Y.npy',\n",
              " '/content/drive/MyDrive/data_papers/test13/model_features/CNN256_A_26_20211124135322_features_dense_94_Test_X.npy',\n",
              " '/content/drive/MyDrive/data_papers/test13/model_features/CNN256_A_26_20211124135322_features_dense_94_Test_Y.npy',\n",
              " '/content/drive/MyDrive/data_papers/test13/model_features/CNN256_A_26_20211124135322_features_dense_95_Test_X.npy',\n",
              " '/content/drive/MyDrive/data_papers/test13/model_features/CNN256_A_26_20211124135322_features_dense_95_Test_Y.npy',\n",
              " '/content/drive/MyDrive/data_papers/test13/model_features/CNN256_A_27_20211124140019_features_dense_97_Test_X.npy',\n",
              " '/content/drive/MyDrive/data_papers/test13/model_features/CNN256_A_27_20211124140019_features_dense_97_Test_Y.npy',\n",
              " '/content/drive/MyDrive/data_papers/test13/model_features/CNN256_A_27_20211124140019_features_dense_98_Test_X.npy',\n",
              " '/content/drive/MyDrive/data_papers/test13/model_features/CNN256_A_27_20211124140019_features_dense_98_Test_Y.npy',\n",
              " '/content/drive/MyDrive/data_papers/test13/model_features/CNN256_A_28_20211124140641_features_dense_100_Test_X.npy',\n",
              " '/content/drive/MyDrive/data_papers/test13/model_features/CNN256_A_28_20211124140641_features_dense_100_Test_Y.npy',\n",
              " '/content/drive/MyDrive/data_papers/test13/model_features/CNN256_A_28_20211124140641_features_dense_101_Test_X.npy',\n",
              " '/content/drive/MyDrive/data_papers/test13/model_features/CNN256_A_28_20211124140641_features_dense_101_Test_Y.npy',\n",
              " '/content/drive/MyDrive/data_papers/test13/model_features/CNN256_A_29_20211124141316_features_dense_103_Test_X.npy',\n",
              " '/content/drive/MyDrive/data_papers/test13/model_features/CNN256_A_29_20211124141316_features_dense_103_Test_Y.npy',\n",
              " '/content/drive/MyDrive/data_papers/test13/model_features/CNN256_A_29_20211124141316_features_dense_104_Test_X.npy',\n",
              " '/content/drive/MyDrive/data_papers/test13/model_features/CNN256_A_29_20211124141316_features_dense_104_Test_Y.npy',\n",
              " '/content/drive/MyDrive/data_papers/test13/model_features/CNN256_A_30_20211124141929_features_dense_106_Test_X.npy',\n",
              " '/content/drive/MyDrive/data_papers/test13/model_features/CNN256_A_30_20211124141929_features_dense_106_Test_Y.npy',\n",
              " '/content/drive/MyDrive/data_papers/test13/model_features/CNN256_A_30_20211124141929_features_dense_107_Test_X.npy',\n",
              " '/content/drive/MyDrive/data_papers/test13/model_features/CNN256_A_30_20211124141929_features_dense_107_Test_Y.npy',\n",
              " '/content/drive/MyDrive/data_papers/test13/model_features/CNN256_A_31_20211124142615_features_dense_109_Test_X.npy',\n",
              " '/content/drive/MyDrive/data_papers/test13/model_features/CNN256_A_31_20211124142615_features_dense_109_Test_Y.npy',\n",
              " '/content/drive/MyDrive/data_papers/test13/model_features/CNN256_A_31_20211124142615_features_dense_110_Test_X.npy',\n",
              " '/content/drive/MyDrive/data_papers/test13/model_features/CNN256_A_31_20211124142615_features_dense_110_Test_Y.npy',\n",
              " '/content/drive/MyDrive/data_papers/test13/model_features/CNN256_A_32_20211124143302_features_dense_112_Test_X.npy',\n",
              " '/content/drive/MyDrive/data_papers/test13/model_features/CNN256_A_32_20211124143302_features_dense_112_Test_Y.npy',\n",
              " '/content/drive/MyDrive/data_papers/test13/model_features/CNN256_A_32_20211124143302_features_dense_113_Test_X.npy',\n",
              " '/content/drive/MyDrive/data_papers/test13/model_features/CNN256_A_32_20211124143302_features_dense_113_Test_Y.npy',\n",
              " '/content/drive/MyDrive/data_papers/test13/model_features/CNN256_A_33_20211124143941_features_dense_115_Test_X.npy',\n",
              " '/content/drive/MyDrive/data_papers/test13/model_features/CNN256_A_33_20211124143941_features_dense_115_Test_Y.npy',\n",
              " '/content/drive/MyDrive/data_papers/test13/model_features/CNN256_A_33_20211124143941_features_dense_116_Test_X.npy',\n",
              " '/content/drive/MyDrive/data_papers/test13/model_features/CNN256_A_33_20211124143941_features_dense_116_Test_Y.npy',\n",
              " '/content/drive/MyDrive/data_papers/test13/model_features/CNN256_A_34_20211124144626_features_dense_118_Test_X.npy',\n",
              " '/content/drive/MyDrive/data_papers/test13/model_features/CNN256_A_34_20211124144626_features_dense_118_Test_Y.npy',\n",
              " '/content/drive/MyDrive/data_papers/test13/model_features/CNN256_A_34_20211124144626_features_dense_119_Test_X.npy',\n",
              " '/content/drive/MyDrive/data_papers/test13/model_features/CNN256_A_34_20211124144626_features_dense_119_Test_Y.npy',\n",
              " '/content/drive/MyDrive/data_papers/test13/model_features/CNN256_A_35_20211124145317_features_dense_121_Test_X.npy',\n",
              " '/content/drive/MyDrive/data_papers/test13/model_features/CNN256_A_35_20211124145317_features_dense_121_Test_Y.npy',\n",
              " '/content/drive/MyDrive/data_papers/test13/model_features/CNN256_A_35_20211124145317_features_dense_122_Test_X.npy',\n",
              " '/content/drive/MyDrive/data_papers/test13/model_features/CNN256_A_35_20211124145317_features_dense_122_Test_Y.npy',\n",
              " '/content/drive/MyDrive/data_papers/test13/model_features/CNN256_A_36_20211124145950_features_dense_124_Test_X.npy',\n",
              " '/content/drive/MyDrive/data_papers/test13/model_features/CNN256_A_36_20211124145950_features_dense_124_Test_Y.npy',\n",
              " '/content/drive/MyDrive/data_papers/test13/model_features/CNN256_A_36_20211124145950_features_dense_125_Test_X.npy',\n",
              " '/content/drive/MyDrive/data_papers/test13/model_features/CNN256_A_36_20211124145950_features_dense_125_Test_Y.npy',\n",
              " '/content/drive/MyDrive/data_papers/test13/model_features/CNN256_A_37_20211124150632_features_dense_127_Test_X.npy',\n",
              " '/content/drive/MyDrive/data_papers/test13/model_features/CNN256_A_37_20211124150632_features_dense_127_Test_Y.npy',\n",
              " '/content/drive/MyDrive/data_papers/test13/model_features/CNN256_A_37_20211124150632_features_dense_128_Test_X.npy',\n",
              " '/content/drive/MyDrive/data_papers/test13/model_features/CNN256_A_37_20211124150632_features_dense_128_Test_Y.npy',\n",
              " '/content/drive/MyDrive/data_papers/test13/model_features/CNN256_A_38_20211124151259_features_dense_130_Test_X.npy',\n",
              " '/content/drive/MyDrive/data_papers/test13/model_features/CNN256_A_38_20211124151259_features_dense_130_Test_Y.npy',\n",
              " '/content/drive/MyDrive/data_papers/test13/model_features/CNN256_A_38_20211124151259_features_dense_131_Test_X.npy',\n",
              " '/content/drive/MyDrive/data_papers/test13/model_features/CNN256_A_38_20211124151259_features_dense_131_Test_Y.npy',\n",
              " '/content/drive/MyDrive/data_papers/test13/model_features/CNN256_A_39_20211124151925_features_dense_133_Test_X.npy',\n",
              " '/content/drive/MyDrive/data_papers/test13/model_features/CNN256_A_39_20211124151925_features_dense_133_Test_Y.npy',\n",
              " '/content/drive/MyDrive/data_papers/test13/model_features/CNN256_A_39_20211124151925_features_dense_134_Test_X.npy',\n",
              " '/content/drive/MyDrive/data_papers/test13/model_features/CNN256_A_39_20211124151925_features_dense_134_Test_Y.npy',\n",
              " '/content/drive/MyDrive/data_papers/test13/model_features/CNN256_A_40_20211124152552_features_dense_136_Test_X.npy',\n",
              " '/content/drive/MyDrive/data_papers/test13/model_features/CNN256_A_40_20211124152552_features_dense_136_Test_Y.npy',\n",
              " '/content/drive/MyDrive/data_papers/test13/model_features/CNN256_A_40_20211124152552_features_dense_137_Test_X.npy',\n",
              " '/content/drive/MyDrive/data_papers/test13/model_features/CNN256_A_40_20211124152552_features_dense_137_Test_Y.npy',\n",
              " '/content/drive/MyDrive/data_papers/test13/model_features/CNN256_A_41_20211124153222_features_dense_139_Test_X.npy',\n",
              " '/content/drive/MyDrive/data_papers/test13/model_features/CNN256_A_41_20211124153222_features_dense_139_Test_Y.npy',\n",
              " '/content/drive/MyDrive/data_papers/test13/model_features/CNN256_A_41_20211124153222_features_dense_140_Test_X.npy',\n",
              " '/content/drive/MyDrive/data_papers/test13/model_features/CNN256_A_41_20211124153222_features_dense_140_Test_Y.npy',\n",
              " '/content/drive/MyDrive/data_papers/test13/model_features/CNN256_A_42_20211124153847_features_dense_142_Test_X.npy',\n",
              " '/content/drive/MyDrive/data_papers/test13/model_features/CNN256_A_42_20211124153847_features_dense_142_Test_Y.npy',\n",
              " '/content/drive/MyDrive/data_papers/test13/model_features/CNN256_A_42_20211124153847_features_dense_143_Test_X.npy',\n",
              " '/content/drive/MyDrive/data_papers/test13/model_features/CNN256_A_42_20211124153847_features_dense_143_Test_Y.npy',\n",
              " '/content/drive/MyDrive/data_papers/test13/model_features/CNN256_A_43_20211124154518_features_dense_145_Test_X.npy',\n",
              " '/content/drive/MyDrive/data_papers/test13/model_features/CNN256_A_43_20211124154518_features_dense_145_Test_Y.npy',\n",
              " '/content/drive/MyDrive/data_papers/test13/model_features/CNN256_A_43_20211124154518_features_dense_146_Test_X.npy',\n",
              " '/content/drive/MyDrive/data_papers/test13/model_features/CNN256_A_43_20211124154518_features_dense_146_Test_Y.npy',\n",
              " '/content/drive/MyDrive/data_papers/test13/model_features/CNN256_A_44_20211124155140_features_dense_148_Test_X.npy',\n",
              " '/content/drive/MyDrive/data_papers/test13/model_features/CNN256_A_44_20211124155140_features_dense_148_Test_Y.npy',\n",
              " '/content/drive/MyDrive/data_papers/test13/model_features/CNN256_A_44_20211124155140_features_dense_149_Test_X.npy',\n",
              " '/content/drive/MyDrive/data_papers/test13/model_features/CNN256_A_44_20211124155140_features_dense_149_Test_Y.npy',\n",
              " '/content/drive/MyDrive/data_papers/test13/model_features/CNN256_A_45_20211124155829_features_dense_151_Test_X.npy',\n",
              " '/content/drive/MyDrive/data_papers/test13/model_features/CNN256_A_45_20211124155829_features_dense_151_Test_Y.npy',\n",
              " '/content/drive/MyDrive/data_papers/test13/model_features/CNN256_A_45_20211124155829_features_dense_152_Test_X.npy',\n",
              " '/content/drive/MyDrive/data_papers/test13/model_features/CNN256_A_45_20211124155829_features_dense_152_Test_Y.npy',\n",
              " '/content/drive/MyDrive/data_papers/test13/model_features/CNN256_A_46_20211124160503_features_dense_154_Test_X.npy',\n",
              " '/content/drive/MyDrive/data_papers/test13/model_features/CNN256_A_46_20211124160503_features_dense_154_Test_Y.npy',\n",
              " '/content/drive/MyDrive/data_papers/test13/model_features/CNN256_A_46_20211124160503_features_dense_155_Test_X.npy',\n",
              " '/content/drive/MyDrive/data_papers/test13/model_features/CNN256_A_46_20211124160503_features_dense_155_Test_Y.npy',\n",
              " '/content/drive/MyDrive/data_papers/test13/model_features/CNN256_A_47_20211124161120_features_dense_157_Test_X.npy',\n",
              " '/content/drive/MyDrive/data_papers/test13/model_features/CNN256_A_47_20211124161120_features_dense_157_Test_Y.npy',\n",
              " '/content/drive/MyDrive/data_papers/test13/model_features/CNN256_A_47_20211124161120_features_dense_158_Test_X.npy',\n",
              " '/content/drive/MyDrive/data_papers/test13/model_features/CNN256_A_47_20211124161120_features_dense_158_Test_Y.npy',\n",
              " '/content/drive/MyDrive/data_papers/test13/model_features/CNN256_A_48_20211124161756_features_dense_160_Test_X.npy',\n",
              " '/content/drive/MyDrive/data_papers/test13/model_features/CNN256_A_48_20211124161756_features_dense_160_Test_Y.npy',\n",
              " '/content/drive/MyDrive/data_papers/test13/model_features/CNN256_A_48_20211124161756_features_dense_161_Test_X.npy',\n",
              " '/content/drive/MyDrive/data_papers/test13/model_features/CNN256_A_48_20211124161756_features_dense_161_Test_Y.npy',\n",
              " '/content/drive/MyDrive/data_papers/test13/model_features/CNN256_A_49_20211124162434_features_dense_163_Test_X.npy',\n",
              " '/content/drive/MyDrive/data_papers/test13/model_features/CNN256_A_49_20211124162434_features_dense_163_Test_Y.npy',\n",
              " '/content/drive/MyDrive/data_papers/test13/model_features/CNN256_A_49_20211124162434_features_dense_164_Test_X.npy',\n",
              " '/content/drive/MyDrive/data_papers/test13/model_features/CNN256_A_49_20211124162434_features_dense_164_Test_Y.npy',\n",
              " '/content/drive/MyDrive/data_papers/test13/model_features/CNN256_A_50_20211124163127_features_dense_166_Test_X.npy',\n",
              " '/content/drive/MyDrive/data_papers/test13/model_features/CNN256_A_50_20211124163127_features_dense_166_Test_Y.npy',\n",
              " '/content/drive/MyDrive/data_papers/test13/model_features/CNN256_A_50_20211124163127_features_dense_167_Test_X.npy',\n",
              " '/content/drive/MyDrive/data_papers/test13/model_features/CNN256_A_50_20211124163127_features_dense_167_Test_Y.npy',\n",
              " '/content/drive/MyDrive/data_papers/test13/model_features/CNN256_A_51_20211124163815_features_dense_169_Test_X.npy',\n",
              " '/content/drive/MyDrive/data_papers/test13/model_features/CNN256_A_51_20211124163815_features_dense_169_Test_Y.npy',\n",
              " '/content/drive/MyDrive/data_papers/test13/model_features/CNN256_A_51_20211124163815_features_dense_170_Test_X.npy',\n",
              " '/content/drive/MyDrive/data_papers/test13/model_features/CNN256_A_51_20211124163815_features_dense_170_Test_Y.npy',\n",
              " '/content/drive/MyDrive/data_papers/test13/model_features/CNN256_A_52_20211124164436_features_dense_172_Test_X.npy',\n",
              " '/content/drive/MyDrive/data_papers/test13/model_features/CNN256_A_52_20211124164436_features_dense_172_Test_Y.npy',\n",
              " '/content/drive/MyDrive/data_papers/test13/model_features/CNN256_A_52_20211124164436_features_dense_173_Test_X.npy',\n",
              " '/content/drive/MyDrive/data_papers/test13/model_features/CNN256_A_52_20211124164436_features_dense_173_Test_Y.npy',\n",
              " '/content/drive/MyDrive/data_papers/test13/model_features/CNN256_A_53_20211124165059_features_dense_175_Test_X.npy',\n",
              " '/content/drive/MyDrive/data_papers/test13/model_features/CNN256_A_53_20211124165059_features_dense_175_Test_Y.npy',\n",
              " '/content/drive/MyDrive/data_papers/test13/model_features/CNN256_A_53_20211124165059_features_dense_176_Test_X.npy',\n",
              " '/content/drive/MyDrive/data_papers/test13/model_features/CNN256_A_53_20211124165059_features_dense_176_Test_Y.npy',\n",
              " '/content/drive/MyDrive/data_papers/test13/model_features/CNN256_A_54_20211124165804_features_dense_178_Test_X.npy',\n",
              " '/content/drive/MyDrive/data_papers/test13/model_features/CNN256_A_54_20211124165804_features_dense_178_Test_Y.npy',\n",
              " '/content/drive/MyDrive/data_papers/test13/model_features/CNN256_A_54_20211124165804_features_dense_179_Test_X.npy',\n",
              " '/content/drive/MyDrive/data_papers/test13/model_features/CNN256_A_54_20211124165804_features_dense_179_Test_Y.npy',\n",
              " '/content/drive/MyDrive/data_papers/test13/model_features/CNN256_A_55_20211124170430_features_dense_181_Test_X.npy',\n",
              " '/content/drive/MyDrive/data_papers/test13/model_features/CNN256_A_55_20211124170430_features_dense_181_Test_Y.npy',\n",
              " '/content/drive/MyDrive/data_papers/test13/model_features/CNN256_A_55_20211124170430_features_dense_182_Test_X.npy',\n",
              " '/content/drive/MyDrive/data_papers/test13/model_features/CNN256_A_55_20211124170430_features_dense_182_Test_Y.npy',\n",
              " '/content/drive/MyDrive/data_papers/test13/model_features/CNN256_A_56_20211124171118_features_dense_184_Test_X.npy',\n",
              " '/content/drive/MyDrive/data_papers/test13/model_features/CNN256_A_56_20211124171118_features_dense_184_Test_Y.npy',\n",
              " '/content/drive/MyDrive/data_papers/test13/model_features/CNN256_A_56_20211124171118_features_dense_185_Test_X.npy',\n",
              " '/content/drive/MyDrive/data_papers/test13/model_features/CNN256_A_56_20211124171118_features_dense_185_Test_Y.npy',\n",
              " '/content/drive/MyDrive/data_papers/test13/model_features/CNN256_A_57_20211124171753_features_dense_187_Test_X.npy',\n",
              " '/content/drive/MyDrive/data_papers/test13/model_features/CNN256_A_57_20211124171753_features_dense_187_Test_Y.npy',\n",
              " '/content/drive/MyDrive/data_papers/test13/model_features/CNN256_A_57_20211124171753_features_dense_188_Test_X.npy',\n",
              " '/content/drive/MyDrive/data_papers/test13/model_features/CNN256_A_57_20211124171753_features_dense_188_Test_Y.npy',\n",
              " '/content/drive/MyDrive/data_papers/test13/model_features/CNN256_A_58_20211124172421_features_dense_190_Test_X.npy',\n",
              " '/content/drive/MyDrive/data_papers/test13/model_features/CNN256_A_58_20211124172421_features_dense_190_Test_Y.npy',\n",
              " '/content/drive/MyDrive/data_papers/test13/model_features/CNN256_A_58_20211124172421_features_dense_191_Test_X.npy',\n",
              " '/content/drive/MyDrive/data_papers/test13/model_features/CNN256_A_58_20211124172421_features_dense_191_Test_Y.npy',\n",
              " '/content/drive/MyDrive/data_papers/test13/model_features/CNN256_A_59_20211124173056_features_dense_193_Test_X.npy',\n",
              " '/content/drive/MyDrive/data_papers/test13/model_features/CNN256_A_59_20211124173056_features_dense_193_Test_Y.npy',\n",
              " '/content/drive/MyDrive/data_papers/test13/model_features/CNN256_A_59_20211124173056_features_dense_194_Test_X.npy',\n",
              " '/content/drive/MyDrive/data_papers/test13/model_features/CNN256_A_59_20211124173056_features_dense_194_Test_Y.npy',\n",
              " '/content/drive/MyDrive/data_papers/test13/model_features/CNN256_A_60_20211124173748_features_dense_196_Test_X.npy',\n",
              " '/content/drive/MyDrive/data_papers/test13/model_features/CNN256_A_60_20211124173748_features_dense_196_Test_Y.npy',\n",
              " '/content/drive/MyDrive/data_papers/test13/model_features/CNN256_A_60_20211124173748_features_dense_197_Test_X.npy',\n",
              " '/content/drive/MyDrive/data_papers/test13/model_features/CNN256_A_60_20211124173748_features_dense_197_Test_Y.npy',\n",
              " '/content/drive/MyDrive/data_papers/test13/model_features/CNN256_A_61_20211124174423_features_dense_199_Test_X.npy',\n",
              " '/content/drive/MyDrive/data_papers/test13/model_features/CNN256_A_61_20211124174423_features_dense_199_Test_Y.npy',\n",
              " '/content/drive/MyDrive/data_papers/test13/model_features/CNN256_A_61_20211124174423_features_dense_200_Test_X.npy',\n",
              " '/content/drive/MyDrive/data_papers/test13/model_features/CNN256_A_61_20211124174423_features_dense_200_Test_Y.npy',\n",
              " '/content/drive/MyDrive/data_papers/test13/model_features/CNN256_A_62_20211124175107_features_dense_202_Test_X.npy',\n",
              " '/content/drive/MyDrive/data_papers/test13/model_features/CNN256_A_62_20211124175107_features_dense_202_Test_Y.npy',\n",
              " '/content/drive/MyDrive/data_papers/test13/model_features/CNN256_A_62_20211124175107_features_dense_203_Test_X.npy',\n",
              " '/content/drive/MyDrive/data_papers/test13/model_features/CNN256_A_62_20211124175107_features_dense_203_Test_Y.npy',\n",
              " '/content/drive/MyDrive/data_papers/test13/model_features/CNN256_A_63_20211124175727_features_dense_205_Test_X.npy',\n",
              " '/content/drive/MyDrive/data_papers/test13/model_features/CNN256_A_63_20211124175727_features_dense_205_Test_Y.npy',\n",
              " '/content/drive/MyDrive/data_papers/test13/model_features/CNN256_A_63_20211124175727_features_dense_206_Test_X.npy',\n",
              " '/content/drive/MyDrive/data_papers/test13/model_features/CNN256_A_63_20211124175727_features_dense_206_Test_Y.npy',\n",
              " '/content/drive/MyDrive/data_papers/test13/model_features/CNN256_A_64_20211124180355_features_dense_208_Test_X.npy',\n",
              " '/content/drive/MyDrive/data_papers/test13/model_features/CNN256_A_64_20211124180355_features_dense_208_Test_Y.npy',\n",
              " '/content/drive/MyDrive/data_papers/test13/model_features/CNN256_A_64_20211124180355_features_dense_209_Test_X.npy',\n",
              " '/content/drive/MyDrive/data_papers/test13/model_features/CNN256_A_64_20211124180355_features_dense_209_Test_Y.npy',\n",
              " '/content/drive/MyDrive/data_papers/test13/model_features/CNN256_A_65_20211124181033_features_dense_211_Test_X.npy',\n",
              " '/content/drive/MyDrive/data_papers/test13/model_features/CNN256_A_65_20211124181033_features_dense_211_Test_Y.npy',\n",
              " '/content/drive/MyDrive/data_papers/test13/model_features/CNN256_A_65_20211124181033_features_dense_212_Test_X.npy',\n",
              " '/content/drive/MyDrive/data_papers/test13/model_features/CNN256_A_65_20211124181033_features_dense_212_Test_Y.npy',\n",
              " '/content/drive/MyDrive/data_papers/test13/model_features/CNN256_A_66_20211124181717_features_dense_214_Test_X.npy',\n",
              " '/content/drive/MyDrive/data_papers/test13/model_features/CNN256_A_66_20211124181717_features_dense_214_Test_Y.npy',\n",
              " '/content/drive/MyDrive/data_papers/test13/model_features/CNN256_A_66_20211124181717_features_dense_215_Test_X.npy',\n",
              " '/content/drive/MyDrive/data_papers/test13/model_features/CNN256_A_66_20211124181717_features_dense_215_Test_Y.npy',\n",
              " '/content/drive/MyDrive/data_papers/test13/model_features/CNN256_A_67_20211124182357_features_dense_217_Test_X.npy',\n",
              " '/content/drive/MyDrive/data_papers/test13/model_features/CNN256_A_67_20211124182357_features_dense_217_Test_Y.npy',\n",
              " '/content/drive/MyDrive/data_papers/test13/model_features/CNN256_A_67_20211124182357_features_dense_218_Test_X.npy',\n",
              " '/content/drive/MyDrive/data_papers/test13/model_features/CNN256_A_67_20211124182357_features_dense_218_Test_Y.npy',\n",
              " '/content/drive/MyDrive/data_papers/test13/model_features/CNN256_A_68_20211124183028_features_dense_220_Test_X.npy',\n",
              " '/content/drive/MyDrive/data_papers/test13/model_features/CNN256_A_68_20211124183028_features_dense_220_Test_Y.npy',\n",
              " '/content/drive/MyDrive/data_papers/test13/model_features/CNN256_A_68_20211124183028_features_dense_221_Test_X.npy',\n",
              " '/content/drive/MyDrive/data_papers/test13/model_features/CNN256_A_68_20211124183028_features_dense_221_Test_Y.npy',\n",
              " '/content/drive/MyDrive/data_papers/test13/model_features/CNN256_A_69_20211124183704_features_dense_223_Test_X.npy',\n",
              " '/content/drive/MyDrive/data_papers/test13/model_features/CNN256_A_69_20211124183704_features_dense_223_Test_Y.npy',\n",
              " '/content/drive/MyDrive/data_papers/test13/model_features/CNN256_A_69_20211124183704_features_dense_224_Test_X.npy',\n",
              " '/content/drive/MyDrive/data_papers/test13/model_features/CNN256_A_69_20211124183704_features_dense_224_Test_Y.npy',\n",
              " '/content/drive/MyDrive/data_papers/test13/model_features/CNN256_A_70_20211124184353_features_dense_226_Test_X.npy',\n",
              " '/content/drive/MyDrive/data_papers/test13/model_features/CNN256_A_70_20211124184353_features_dense_226_Test_Y.npy',\n",
              " '/content/drive/MyDrive/data_papers/test13/model_features/CNN256_A_70_20211124184353_features_dense_227_Test_X.npy',\n",
              " '/content/drive/MyDrive/data_papers/test13/model_features/CNN256_A_70_20211124184353_features_dense_227_Test_Y.npy',\n",
              " '/content/drive/MyDrive/data_papers/test13/model_features/CNN256_A_71_20211124185022_features_dense_229_Test_X.npy',\n",
              " '/content/drive/MyDrive/data_papers/test13/model_features/CNN256_A_71_20211124185022_features_dense_229_Test_Y.npy',\n",
              " '/content/drive/MyDrive/data_papers/test13/model_features/CNN256_A_71_20211124185022_features_dense_230_Test_X.npy',\n",
              " '/content/drive/MyDrive/data_papers/test13/model_features/CNN256_A_71_20211124185022_features_dense_230_Test_Y.npy',\n",
              " '/content/drive/MyDrive/data_papers/test13/model_features/CNN256_A_72_20211124185651_features_dense_232_Test_X.npy',\n",
              " '/content/drive/MyDrive/data_papers/test13/model_features/CNN256_A_72_20211124185651_features_dense_232_Test_Y.npy',\n",
              " '/content/drive/MyDrive/data_papers/test13/model_features/CNN256_A_72_20211124185651_features_dense_233_Test_X.npy',\n",
              " '/content/drive/MyDrive/data_papers/test13/model_features/CNN256_A_72_20211124185651_features_dense_233_Test_Y.npy',\n",
              " '/content/drive/MyDrive/data_papers/test13/model_features/CNN256_A_73_20211124190333_features_dense_235_Test_X.npy',\n",
              " '/content/drive/MyDrive/data_papers/test13/model_features/CNN256_A_73_20211124190333_features_dense_235_Test_Y.npy',\n",
              " '/content/drive/MyDrive/data_papers/test13/model_features/CNN256_A_73_20211124190333_features_dense_236_Test_X.npy',\n",
              " '/content/drive/MyDrive/data_papers/test13/model_features/CNN256_A_73_20211124190333_features_dense_236_Test_Y.npy',\n",
              " '/content/drive/MyDrive/data_papers/test13/model_features/CNN256_A_74_20211124191010_features_dense_238_Test_X.npy',\n",
              " '/content/drive/MyDrive/data_papers/test13/model_features/CNN256_A_74_20211124191010_features_dense_238_Test_Y.npy',\n",
              " '/content/drive/MyDrive/data_papers/test13/model_features/CNN256_A_74_20211124191010_features_dense_239_Test_X.npy',\n",
              " '/content/drive/MyDrive/data_papers/test13/model_features/CNN256_A_74_20211124191010_features_dense_239_Test_Y.npy',\n",
              " '/content/drive/MyDrive/data_papers/test13/model_features/CNN256_A_75_20211124191705_features_dense_241_Test_X.npy',\n",
              " '/content/drive/MyDrive/data_papers/test13/model_features/CNN256_A_75_20211124191705_features_dense_241_Test_Y.npy',\n",
              " '/content/drive/MyDrive/data_papers/test13/model_features/CNN256_A_75_20211124191705_features_dense_242_Test_X.npy',\n",
              " '/content/drive/MyDrive/data_papers/test13/model_features/CNN256_A_75_20211124191705_features_dense_242_Test_Y.npy',\n",
              " '/content/drive/MyDrive/data_papers/test13/model_features/CNN256_A_76_20211124192348_features_dense_244_Test_X.npy',\n",
              " '/content/drive/MyDrive/data_papers/test13/model_features/CNN256_A_76_20211124192348_features_dense_244_Test_Y.npy',\n",
              " '/content/drive/MyDrive/data_papers/test13/model_features/CNN256_A_76_20211124192348_features_dense_245_Test_X.npy',\n",
              " '/content/drive/MyDrive/data_papers/test13/model_features/CNN256_A_76_20211124192348_features_dense_245_Test_Y.npy',\n",
              " '/content/drive/MyDrive/data_papers/test13/model_features/CNN256_A_77_20211124193011_features_dense_247_Test_X.npy',\n",
              " '/content/drive/MyDrive/data_papers/test13/model_features/CNN256_A_77_20211124193011_features_dense_247_Test_Y.npy',\n",
              " '/content/drive/MyDrive/data_papers/test13/model_features/CNN256_A_77_20211124193011_features_dense_248_Test_X.npy',\n",
              " '/content/drive/MyDrive/data_papers/test13/model_features/CNN256_A_77_20211124193011_features_dense_248_Test_Y.npy',\n",
              " '/content/drive/MyDrive/data_papers/test13/model_features/CNN256_A_78_20211124193648_features_dense_250_Test_X.npy',\n",
              " '/content/drive/MyDrive/data_papers/test13/model_features/CNN256_A_78_20211124193648_features_dense_250_Test_Y.npy',\n",
              " '/content/drive/MyDrive/data_papers/test13/model_features/CNN256_A_78_20211124193648_features_dense_251_Test_X.npy',\n",
              " '/content/drive/MyDrive/data_papers/test13/model_features/CNN256_A_78_20211124193648_features_dense_251_Test_Y.npy',\n",
              " '/content/drive/MyDrive/data_papers/test13/model_features/CNN256_A_79_20211124194316_features_dense_253_Test_X.npy',\n",
              " '/content/drive/MyDrive/data_papers/test13/model_features/CNN256_A_79_20211124194316_features_dense_253_Test_Y.npy',\n",
              " '/content/drive/MyDrive/data_papers/test13/model_features/CNN256_A_79_20211124194316_features_dense_254_Test_X.npy',\n",
              " '/content/drive/MyDrive/data_papers/test13/model_features/CNN256_A_79_20211124194316_features_dense_254_Test_Y.npy',\n",
              " '/content/drive/MyDrive/data_papers/test13/model_features/CNN256_A_80_20211124194946_features_dense_256_Test_X.npy',\n",
              " '/content/drive/MyDrive/data_papers/test13/model_features/CNN256_A_80_20211124194946_features_dense_256_Test_Y.npy',\n",
              " '/content/drive/MyDrive/data_papers/test13/model_features/CNN256_A_80_20211124194946_features_dense_257_Test_X.npy',\n",
              " '/content/drive/MyDrive/data_papers/test13/model_features/CNN256_A_80_20211124194946_features_dense_257_Test_Y.npy',\n",
              " '/content/drive/MyDrive/data_papers/test13/model_features/CNN256_A_81_20211124195552_features_dense_259_Test_X.npy',\n",
              " '/content/drive/MyDrive/data_papers/test13/model_features/CNN256_A_81_20211124195552_features_dense_259_Test_Y.npy',\n",
              " '/content/drive/MyDrive/data_papers/test13/model_features/CNN256_A_81_20211124195552_features_dense_260_Test_X.npy',\n",
              " '/content/drive/MyDrive/data_papers/test13/model_features/CNN256_A_81_20211124195552_features_dense_260_Test_Y.npy',\n",
              " '/content/drive/MyDrive/data_papers/test13/model_features/CNN256_A_82_20211124200226_features_dense_262_Test_X.npy',\n",
              " '/content/drive/MyDrive/data_papers/test13/model_features/CNN256_A_82_20211124200226_features_dense_262_Test_Y.npy',\n",
              " '/content/drive/MyDrive/data_papers/test13/model_features/CNN256_A_82_20211124200226_features_dense_263_Test_X.npy',\n",
              " '/content/drive/MyDrive/data_papers/test13/model_features/CNN256_A_82_20211124200226_features_dense_263_Test_Y.npy',\n",
              " '/content/drive/MyDrive/data_papers/test13/model_features/CNN256_A_83_20211124200859_features_dense_265_Test_X.npy',\n",
              " '/content/drive/MyDrive/data_papers/test13/model_features/CNN256_A_83_20211124200859_features_dense_265_Test_Y.npy',\n",
              " '/content/drive/MyDrive/data_papers/test13/model_features/CNN256_A_83_20211124200859_features_dense_266_Test_X.npy',\n",
              " '/content/drive/MyDrive/data_papers/test13/model_features/CNN256_A_83_20211124200859_features_dense_266_Test_Y.npy',\n",
              " '/content/drive/MyDrive/data_papers/test13/model_features/CNN256_A_84_20211124201537_features_dense_268_Test_X.npy',\n",
              " '/content/drive/MyDrive/data_papers/test13/model_features/CNN256_A_84_20211124201537_features_dense_268_Test_Y.npy',\n",
              " '/content/drive/MyDrive/data_papers/test13/model_features/CNN256_A_84_20211124201537_features_dense_269_Test_X.npy',\n",
              " '/content/drive/MyDrive/data_papers/test13/model_features/CNN256_A_84_20211124201537_features_dense_269_Test_Y.npy',\n",
              " '/content/drive/MyDrive/data_papers/test13/model_features/CNN256_A_85_20211124202231_features_dense_271_Test_X.npy',\n",
              " '/content/drive/MyDrive/data_papers/test13/model_features/CNN256_A_85_20211124202231_features_dense_271_Test_Y.npy',\n",
              " '/content/drive/MyDrive/data_papers/test13/model_features/CNN256_A_85_20211124202231_features_dense_272_Test_X.npy',\n",
              " '/content/drive/MyDrive/data_papers/test13/model_features/CNN256_A_85_20211124202231_features_dense_272_Test_Y.npy',\n",
              " '/content/drive/MyDrive/data_papers/test13/model_features/CNN256_A_86_20211124202928_features_dense_274_Test_X.npy',\n",
              " '/content/drive/MyDrive/data_papers/test13/model_features/CNN256_A_86_20211124202928_features_dense_274_Test_Y.npy',\n",
              " '/content/drive/MyDrive/data_papers/test13/model_features/CNN256_A_86_20211124202928_features_dense_275_Test_X.npy',\n",
              " '/content/drive/MyDrive/data_papers/test13/model_features/CNN256_A_86_20211124202928_features_dense_275_Test_Y.npy',\n",
              " '/content/drive/MyDrive/data_papers/test13/model_features/CNN256_A_87_20211124203619_features_dense_277_Test_X.npy',\n",
              " '/content/drive/MyDrive/data_papers/test13/model_features/CNN256_A_87_20211124203619_features_dense_277_Test_Y.npy',\n",
              " '/content/drive/MyDrive/data_papers/test13/model_features/CNN256_A_87_20211124203619_features_dense_278_Test_X.npy',\n",
              " '/content/drive/MyDrive/data_papers/test13/model_features/CNN256_A_87_20211124203619_features_dense_278_Test_Y.npy',\n",
              " '/content/drive/MyDrive/data_papers/test13/model_features/CNN256_A_88_20211124204306_features_dense_280_Test_X.npy',\n",
              " '/content/drive/MyDrive/data_papers/test13/model_features/CNN256_A_88_20211124204306_features_dense_280_Test_Y.npy',\n",
              " '/content/drive/MyDrive/data_papers/test13/model_features/CNN256_A_88_20211124204306_features_dense_281_Test_X.npy',\n",
              " '/content/drive/MyDrive/data_papers/test13/model_features/CNN256_A_88_20211124204306_features_dense_281_Test_Y.npy',\n",
              " '/content/drive/MyDrive/data_papers/test13/model_features/CNN256_A_89_20211124204936_features_dense_283_Test_X.npy',\n",
              " '/content/drive/MyDrive/data_papers/test13/model_features/CNN256_A_89_20211124204936_features_dense_283_Test_Y.npy',\n",
              " '/content/drive/MyDrive/data_papers/test13/model_features/CNN256_A_89_20211124204936_features_dense_284_Test_X.npy',\n",
              " '/content/drive/MyDrive/data_papers/test13/model_features/CNN256_A_89_20211124204936_features_dense_284_Test_Y.npy',\n",
              " '/content/drive/MyDrive/data_papers/test13/model_features/CNN256_A_90_20211124205551_features_dense_286_Test_X.npy',\n",
              " '/content/drive/MyDrive/data_papers/test13/model_features/CNN256_A_90_20211124205551_features_dense_286_Test_Y.npy',\n",
              " '/content/drive/MyDrive/data_papers/test13/model_features/CNN256_A_90_20211124205551_features_dense_287_Test_X.npy',\n",
              " '/content/drive/MyDrive/data_papers/test13/model_features/CNN256_A_90_20211124205551_features_dense_287_Test_Y.npy',\n",
              " '/content/drive/MyDrive/data_papers/test13/model_features/CNN256_A_91_20211124210233_features_dense_289_Test_X.npy',\n",
              " '/content/drive/MyDrive/data_papers/test13/model_features/CNN256_A_91_20211124210233_features_dense_289_Test_Y.npy',\n",
              " '/content/drive/MyDrive/data_papers/test13/model_features/CNN256_A_91_20211124210233_features_dense_290_Test_X.npy',\n",
              " '/content/drive/MyDrive/data_papers/test13/model_features/CNN256_A_91_20211124210233_features_dense_290_Test_Y.npy',\n",
              " '/content/drive/MyDrive/data_papers/test13/model_features/CNN256_A_92_20211124210923_features_dense_292_Test_X.npy',\n",
              " '/content/drive/MyDrive/data_papers/test13/model_features/CNN256_A_92_20211124210923_features_dense_292_Test_Y.npy',\n",
              " '/content/drive/MyDrive/data_papers/test13/model_features/CNN256_A_92_20211124210923_features_dense_293_Test_X.npy',\n",
              " '/content/drive/MyDrive/data_papers/test13/model_features/CNN256_A_92_20211124210923_features_dense_293_Test_Y.npy',\n",
              " '/content/drive/MyDrive/data_papers/test13/model_features/CNN256_A_93_20211124211555_features_dense_295_Test_X.npy',\n",
              " '/content/drive/MyDrive/data_papers/test13/model_features/CNN256_A_93_20211124211555_features_dense_295_Test_Y.npy',\n",
              " '/content/drive/MyDrive/data_papers/test13/model_features/CNN256_A_93_20211124211555_features_dense_296_Test_X.npy',\n",
              " '/content/drive/MyDrive/data_papers/test13/model_features/CNN256_A_93_20211124211555_features_dense_296_Test_Y.npy',\n",
              " '/content/drive/MyDrive/data_papers/test13/model_features/CNN256_A_94_20211124212215_features_dense_298_Test_X.npy',\n",
              " '/content/drive/MyDrive/data_papers/test13/model_features/CNN256_A_94_20211124212215_features_dense_298_Test_Y.npy',\n",
              " '/content/drive/MyDrive/data_papers/test13/model_features/CNN256_A_94_20211124212215_features_dense_299_Test_X.npy',\n",
              " '/content/drive/MyDrive/data_papers/test13/model_features/CNN256_A_94_20211124212215_features_dense_299_Test_Y.npy',\n",
              " '/content/drive/MyDrive/data_papers/test13/model_features/CNN256_A_95_20211124212859_features_dense_301_Test_X.npy',\n",
              " '/content/drive/MyDrive/data_papers/test13/model_features/CNN256_A_95_20211124212859_features_dense_301_Test_Y.npy',\n",
              " '/content/drive/MyDrive/data_papers/test13/model_features/CNN256_A_95_20211124212859_features_dense_302_Test_X.npy',\n",
              " '/content/drive/MyDrive/data_papers/test13/model_features/CNN256_A_95_20211124212859_features_dense_302_Test_Y.npy',\n",
              " '/content/drive/MyDrive/data_papers/test13/model_features/CNN256_A_96_20211124213532_features_dense_304_Test_X.npy',\n",
              " '/content/drive/MyDrive/data_papers/test13/model_features/CNN256_A_96_20211124213532_features_dense_304_Test_Y.npy',\n",
              " '/content/drive/MyDrive/data_papers/test13/model_features/CNN256_A_96_20211124213532_features_dense_305_Test_X.npy',\n",
              " '/content/drive/MyDrive/data_papers/test13/model_features/CNN256_A_96_20211124213532_features_dense_305_Test_Y.npy',\n",
              " '/content/drive/MyDrive/data_papers/test13/model_features/CNN256_A_97_20211124214206_features_dense_307_Test_X.npy',\n",
              " '/content/drive/MyDrive/data_papers/test13/model_features/CNN256_A_97_20211124214206_features_dense_307_Test_Y.npy',\n",
              " '/content/drive/MyDrive/data_papers/test13/model_features/CNN256_A_97_20211124214206_features_dense_308_Test_X.npy',\n",
              " '/content/drive/MyDrive/data_papers/test13/model_features/CNN256_A_97_20211124214206_features_dense_308_Test_Y.npy',\n",
              " '/content/drive/MyDrive/data_papers/test13/model_features/CNN256_A_98_20211124214843_features_dense_310_Test_X.npy',\n",
              " '/content/drive/MyDrive/data_papers/test13/model_features/CNN256_A_98_20211124214843_features_dense_310_Test_Y.npy',\n",
              " '/content/drive/MyDrive/data_papers/test13/model_features/CNN256_A_98_20211124214843_features_dense_311_Test_X.npy',\n",
              " '/content/drive/MyDrive/data_papers/test13/model_features/CNN256_A_98_20211124214843_features_dense_311_Test_Y.npy',\n",
              " '/content/drive/MyDrive/data_papers/test13/model_features/CNN256_A_99_20211124215531_features_dense_313_Test_X.npy',\n",
              " '/content/drive/MyDrive/data_papers/test13/model_features/CNN256_A_99_20211124215531_features_dense_313_Test_Y.npy',\n",
              " '/content/drive/MyDrive/data_papers/test13/model_features/CNN256_A_99_20211124215531_features_dense_314_Test_X.npy',\n",
              " '/content/drive/MyDrive/data_papers/test13/model_features/CNN256_A_99_20211124215531_features_dense_314_Test_Y.npy',\n",
              " '/content/drive/MyDrive/data_papers/test13/model_features/CNN256_A_100_20211124220210_features_dense_316_Test_X.npy',\n",
              " '/content/drive/MyDrive/data_papers/test13/model_features/CNN256_A_100_20211124220210_features_dense_316_Test_Y.npy',\n",
              " '/content/drive/MyDrive/data_papers/test13/model_features/CNN256_A_100_20211124220210_features_dense_317_Test_X.npy',\n",
              " '/content/drive/MyDrive/data_papers/test13/model_features/CNN256_A_100_20211124220210_features_dense_317_Test_Y.npy',\n",
              " '/content/drive/MyDrive/data_papers/test13/model_features/CNN256_A_1_20211124110828_features_dense_19_Train_X.npy',\n",
              " '/content/drive/MyDrive/data_papers/test13/model_features/CNN256_A_1_20211124110828_features_dense_19_Train_Y.npy',\n",
              " '/content/drive/MyDrive/data_papers/test13/model_features/CNN256_A_1_20211124110828_features_dense_20_Train_X.npy',\n",
              " '/content/drive/MyDrive/data_papers/test13/model_features/CNN256_A_1_20211124110828_features_dense_20_Train_Y.npy',\n",
              " '/content/drive/MyDrive/data_papers/test13/model_features/CNN256_A_2_20211124111459_features_dense_22_Train_X.npy',\n",
              " '/content/drive/MyDrive/data_papers/test13/model_features/CNN256_A_2_20211124111459_features_dense_22_Train_Y.npy',\n",
              " '/content/drive/MyDrive/data_papers/test13/model_features/CNN256_A_2_20211124111459_features_dense_23_Train_X.npy',\n",
              " '/content/drive/MyDrive/data_papers/test13/model_features/CNN256_A_2_20211124111459_features_dense_23_Train_Y.npy',\n",
              " '/content/drive/MyDrive/data_papers/test13/model_features/CNN256_A_3_20211124112133_features_dense_25_Train_X.npy',\n",
              " '/content/drive/MyDrive/data_papers/test13/model_features/CNN256_A_3_20211124112133_features_dense_25_Train_Y.npy',\n",
              " '/content/drive/MyDrive/data_papers/test13/model_features/CNN256_A_3_20211124112133_features_dense_26_Train_X.npy',\n",
              " '/content/drive/MyDrive/data_papers/test13/model_features/CNN256_A_3_20211124112133_features_dense_26_Train_Y.npy',\n",
              " '/content/drive/MyDrive/data_papers/test13/model_features/CNN256_A_4_20211124112755_features_dense_28_Train_X.npy',\n",
              " '/content/drive/MyDrive/data_papers/test13/model_features/CNN256_A_4_20211124112755_features_dense_28_Train_Y.npy',\n",
              " '/content/drive/MyDrive/data_papers/test13/model_features/CNN256_A_4_20211124112755_features_dense_29_Train_X.npy',\n",
              " '/content/drive/MyDrive/data_papers/test13/model_features/CNN256_A_4_20211124112755_features_dense_29_Train_Y.npy',\n",
              " '/content/drive/MyDrive/data_papers/test13/model_features/CNN256_A_5_20211124113440_features_dense_31_Train_X.npy',\n",
              " '/content/drive/MyDrive/data_papers/test13/model_features/CNN256_A_5_20211124113440_features_dense_31_Train_Y.npy',\n",
              " '/content/drive/MyDrive/data_papers/test13/model_features/CNN256_A_5_20211124113440_features_dense_32_Train_X.npy',\n",
              " '/content/drive/MyDrive/data_papers/test13/model_features/CNN256_A_5_20211124113440_features_dense_32_Train_Y.npy',\n",
              " '/content/drive/MyDrive/data_papers/test13/model_features/CNN256_A_6_20211124114114_features_dense_34_Train_X.npy',\n",
              " '/content/drive/MyDrive/data_papers/test13/model_features/CNN256_A_6_20211124114114_features_dense_34_Train_Y.npy',\n",
              " '/content/drive/MyDrive/data_papers/test13/model_features/CNN256_A_6_20211124114114_features_dense_35_Train_X.npy',\n",
              " '/content/drive/MyDrive/data_papers/test13/model_features/CNN256_A_6_20211124114114_features_dense_35_Train_Y.npy',\n",
              " '/content/drive/MyDrive/data_papers/test13/model_features/CNN256_A_7_20211124114753_features_dense_37_Train_X.npy',\n",
              " '/content/drive/MyDrive/data_papers/test13/model_features/CNN256_A_7_20211124114753_features_dense_37_Train_Y.npy',\n",
              " '/content/drive/MyDrive/data_papers/test13/model_features/CNN256_A_7_20211124114753_features_dense_38_Train_X.npy',\n",
              " '/content/drive/MyDrive/data_papers/test13/model_features/CNN256_A_7_20211124114753_features_dense_38_Train_Y.npy',\n",
              " '/content/drive/MyDrive/data_papers/test13/model_features/CNN256_A_8_20211124115418_features_dense_40_Train_X.npy',\n",
              " '/content/drive/MyDrive/data_papers/test13/model_features/CNN256_A_8_20211124115418_features_dense_40_Train_Y.npy',\n",
              " '/content/drive/MyDrive/data_papers/test13/model_features/CNN256_A_8_20211124115418_features_dense_41_Train_X.npy',\n",
              " '/content/drive/MyDrive/data_papers/test13/model_features/CNN256_A_8_20211124115418_features_dense_41_Train_Y.npy',\n",
              " '/content/drive/MyDrive/data_papers/test13/model_features/CNN256_A_9_20211124120100_features_dense_43_Train_X.npy',\n",
              " '/content/drive/MyDrive/data_papers/test13/model_features/CNN256_A_9_20211124120100_features_dense_43_Train_Y.npy',\n",
              " '/content/drive/MyDrive/data_papers/test13/model_features/CNN256_A_9_20211124120100_features_dense_44_Train_X.npy',\n",
              " '/content/drive/MyDrive/data_papers/test13/model_features/CNN256_A_9_20211124120100_features_dense_44_Train_Y.npy',\n",
              " '/content/drive/MyDrive/data_papers/test13/model_features/CNN256_A_10_20211124120744_features_dense_46_Train_X.npy',\n",
              " '/content/drive/MyDrive/data_papers/test13/model_features/CNN256_A_10_20211124120744_features_dense_46_Train_Y.npy',\n",
              " '/content/drive/MyDrive/data_papers/test13/model_features/CNN256_A_10_20211124120744_features_dense_47_Train_X.npy',\n",
              " '/content/drive/MyDrive/data_papers/test13/model_features/CNN256_A_10_20211124120744_features_dense_47_Train_Y.npy',\n",
              " '/content/drive/MyDrive/data_papers/test13/model_features/CNN256_A_11_20211124121436_features_dense_49_Train_X.npy',\n",
              " '/content/drive/MyDrive/data_papers/test13/model_features/CNN256_A_11_20211124121436_features_dense_49_Train_Y.npy',\n",
              " '/content/drive/MyDrive/data_papers/test13/model_features/CNN256_A_11_20211124121436_features_dense_50_Train_X.npy',\n",
              " '/content/drive/MyDrive/data_papers/test13/model_features/CNN256_A_11_20211124121436_features_dense_50_Train_Y.npy',\n",
              " '/content/drive/MyDrive/data_papers/test13/model_features/CNN256_A_12_20211124122043_features_dense_52_Train_X.npy',\n",
              " '/content/drive/MyDrive/data_papers/test13/model_features/CNN256_A_12_20211124122043_features_dense_52_Train_Y.npy',\n",
              " '/content/drive/MyDrive/data_papers/test13/model_features/CNN256_A_12_20211124122043_features_dense_53_Train_X.npy',\n",
              " '/content/drive/MyDrive/data_papers/test13/model_features/CNN256_A_12_20211124122043_features_dense_53_Train_Y.npy',\n",
              " '/content/drive/MyDrive/data_papers/test13/model_features/CNN256_A_13_20211124122718_features_dense_55_Train_X.npy',\n",
              " '/content/drive/MyDrive/data_papers/test13/model_features/CNN256_A_13_20211124122718_features_dense_55_Train_Y.npy',\n",
              " '/content/drive/MyDrive/data_papers/test13/model_features/CNN256_A_13_20211124122718_features_dense_56_Train_X.npy',\n",
              " '/content/drive/MyDrive/data_papers/test13/model_features/CNN256_A_13_20211124122718_features_dense_56_Train_Y.npy',\n",
              " '/content/drive/MyDrive/data_papers/test13/model_features/CNN256_A_14_20211124123410_features_dense_58_Train_X.npy',\n",
              " '/content/drive/MyDrive/data_papers/test13/model_features/CNN256_A_14_20211124123410_features_dense_58_Train_Y.npy',\n",
              " '/content/drive/MyDrive/data_papers/test13/model_features/CNN256_A_14_20211124123410_features_dense_59_Train_X.npy',\n",
              " '/content/drive/MyDrive/data_papers/test13/model_features/CNN256_A_14_20211124123410_features_dense_59_Train_Y.npy',\n",
              " '/content/drive/MyDrive/data_papers/test13/model_features/CNN256_A_15_20211124124025_features_dense_61_Train_X.npy',\n",
              " '/content/drive/MyDrive/data_papers/test13/model_features/CNN256_A_15_20211124124025_features_dense_61_Train_Y.npy',\n",
              " '/content/drive/MyDrive/data_papers/test13/model_features/CNN256_A_15_20211124124025_features_dense_62_Train_X.npy',\n",
              " '/content/drive/MyDrive/data_papers/test13/model_features/CNN256_A_15_20211124124025_features_dense_62_Train_Y.npy',\n",
              " '/content/drive/MyDrive/data_papers/test13/model_features/CNN256_A_16_20211124124717_features_dense_64_Train_X.npy',\n",
              " '/content/drive/MyDrive/data_papers/test13/model_features/CNN256_A_16_20211124124717_features_dense_64_Train_Y.npy',\n",
              " '/content/drive/MyDrive/data_papers/test13/model_features/CNN256_A_16_20211124124717_features_dense_65_Train_X.npy',\n",
              " '/content/drive/MyDrive/data_papers/test13/model_features/CNN256_A_16_20211124124717_features_dense_65_Train_Y.npy',\n",
              " '/content/drive/MyDrive/data_papers/test13/model_features/CNN256_A_17_20211124125352_features_dense_67_Train_X.npy',\n",
              " '/content/drive/MyDrive/data_papers/test13/model_features/CNN256_A_17_20211124125352_features_dense_67_Train_Y.npy',\n",
              " '/content/drive/MyDrive/data_papers/test13/model_features/CNN256_A_17_20211124125352_features_dense_68_Train_X.npy',\n",
              " '/content/drive/MyDrive/data_papers/test13/model_features/CNN256_A_17_20211124125352_features_dense_68_Train_Y.npy',\n",
              " '/content/drive/MyDrive/data_papers/test13/model_features/CNN256_A_18_20211124130025_features_dense_70_Train_X.npy',\n",
              " '/content/drive/MyDrive/data_papers/test13/model_features/CNN256_A_18_20211124130025_features_dense_70_Train_Y.npy',\n",
              " '/content/drive/MyDrive/data_papers/test13/model_features/CNN256_A_18_20211124130025_features_dense_71_Train_X.npy',\n",
              " '/content/drive/MyDrive/data_papers/test13/model_features/CNN256_A_18_20211124130025_features_dense_71_Train_Y.npy',\n",
              " '/content/drive/MyDrive/data_papers/test13/model_features/CNN256_A_19_20211124130651_features_dense_73_Train_X.npy',\n",
              " '/content/drive/MyDrive/data_papers/test13/model_features/CNN256_A_19_20211124130651_features_dense_73_Train_Y.npy',\n",
              " '/content/drive/MyDrive/data_papers/test13/model_features/CNN256_A_19_20211124130651_features_dense_74_Train_X.npy',\n",
              " '/content/drive/MyDrive/data_papers/test13/model_features/CNN256_A_19_20211124130651_features_dense_74_Train_Y.npy',\n",
              " '/content/drive/MyDrive/data_papers/test13/model_features/CNN256_A_20_20211124131334_features_dense_76_Train_X.npy',\n",
              " '/content/drive/MyDrive/data_papers/test13/model_features/CNN256_A_20_20211124131334_features_dense_76_Train_Y.npy',\n",
              " '/content/drive/MyDrive/data_papers/test13/model_features/CNN256_A_20_20211124131334_features_dense_77_Train_X.npy',\n",
              " '/content/drive/MyDrive/data_papers/test13/model_features/CNN256_A_20_20211124131334_features_dense_77_Train_Y.npy',\n",
              " '/content/drive/MyDrive/data_papers/test13/model_features/CNN256_A_21_20211124132004_features_dense_79_Train_X.npy',\n",
              " '/content/drive/MyDrive/data_papers/test13/model_features/CNN256_A_21_20211124132004_features_dense_79_Train_Y.npy',\n",
              " '/content/drive/MyDrive/data_papers/test13/model_features/CNN256_A_21_20211124132004_features_dense_80_Train_X.npy',\n",
              " '/content/drive/MyDrive/data_papers/test13/model_features/CNN256_A_21_20211124132004_features_dense_80_Train_Y.npy',\n",
              " '/content/drive/MyDrive/data_papers/test13/model_features/CNN256_A_22_20211124132639_features_dense_82_Train_X.npy',\n",
              " '/content/drive/MyDrive/data_papers/test13/model_features/CNN256_A_22_20211124132639_features_dense_82_Train_Y.npy',\n",
              " '/content/drive/MyDrive/data_papers/test13/model_features/CNN256_A_22_20211124132639_features_dense_83_Train_X.npy',\n",
              " '/content/drive/MyDrive/data_papers/test13/model_features/CNN256_A_22_20211124132639_features_dense_83_Train_Y.npy',\n",
              " '/content/drive/MyDrive/data_papers/test13/model_features/CNN256_A_23_20211124133316_features_dense_85_Train_X.npy',\n",
              " '/content/drive/MyDrive/data_papers/test13/model_features/CNN256_A_23_20211124133316_features_dense_85_Train_Y.npy',\n",
              " '/content/drive/MyDrive/data_papers/test13/model_features/CNN256_A_23_20211124133316_features_dense_86_Train_X.npy',\n",
              " '/content/drive/MyDrive/data_papers/test13/model_features/CNN256_A_23_20211124133316_features_dense_86_Train_Y.npy',\n",
              " '/content/drive/MyDrive/data_papers/test13/model_features/CNN256_A_24_20211124134008_features_dense_88_Train_X.npy',\n",
              " '/content/drive/MyDrive/data_papers/test13/model_features/CNN256_A_24_20211124134008_features_dense_88_Train_Y.npy',\n",
              " '/content/drive/MyDrive/data_papers/test13/model_features/CNN256_A_24_20211124134008_features_dense_89_Train_X.npy',\n",
              " '/content/drive/MyDrive/data_papers/test13/model_features/CNN256_A_24_20211124134008_features_dense_89_Train_Y.npy',\n",
              " '/content/drive/MyDrive/data_papers/test13/model_features/CNN256_A_25_20211124134640_features_dense_91_Train_X.npy',\n",
              " '/content/drive/MyDrive/data_papers/test13/model_features/CNN256_A_25_20211124134640_features_dense_91_Train_Y.npy',\n",
              " '/content/drive/MyDrive/data_papers/test13/model_features/CNN256_A_25_20211124134640_features_dense_92_Train_X.npy',\n",
              " '/content/drive/MyDrive/data_papers/test13/model_features/CNN256_A_25_20211124134640_features_dense_92_Train_Y.npy',\n",
              " '/content/drive/MyDrive/data_papers/test13/model_features/CNN256_A_26_20211124135322_features_dense_94_Train_X.npy',\n",
              " '/content/drive/MyDrive/data_papers/test13/model_features/CNN256_A_26_20211124135322_features_dense_94_Train_Y.npy',\n",
              " '/content/drive/MyDrive/data_papers/test13/model_features/CNN256_A_26_20211124135322_features_dense_95_Train_X.npy',\n",
              " '/content/drive/MyDrive/data_papers/test13/model_features/CNN256_A_26_20211124135322_features_dense_95_Train_Y.npy',\n",
              " '/content/drive/MyDrive/data_papers/test13/model_features/CNN256_A_27_20211124140019_features_dense_97_Train_X.npy',\n",
              " '/content/drive/MyDrive/data_papers/test13/model_features/CNN256_A_27_20211124140019_features_dense_97_Train_Y.npy',\n",
              " '/content/drive/MyDrive/data_papers/test13/model_features/CNN256_A_27_20211124140019_features_dense_98_Train_X.npy',\n",
              " '/content/drive/MyDrive/data_papers/test13/model_features/CNN256_A_27_20211124140019_features_dense_98_Train_Y.npy',\n",
              " '/content/drive/MyDrive/data_papers/test13/model_features/CNN256_A_28_20211124140641_features_dense_100_Train_X.npy',\n",
              " '/content/drive/MyDrive/data_papers/test13/model_features/CNN256_A_28_20211124140641_features_dense_100_Train_Y.npy',\n",
              " '/content/drive/MyDrive/data_papers/test13/model_features/CNN256_A_28_20211124140641_features_dense_101_Train_X.npy',\n",
              " '/content/drive/MyDrive/data_papers/test13/model_features/CNN256_A_28_20211124140641_features_dense_101_Train_Y.npy',\n",
              " '/content/drive/MyDrive/data_papers/test13/model_features/CNN256_A_29_20211124141316_features_dense_103_Train_X.npy',\n",
              " '/content/drive/MyDrive/data_papers/test13/model_features/CNN256_A_29_20211124141316_features_dense_103_Train_Y.npy',\n",
              " '/content/drive/MyDrive/data_papers/test13/model_features/CNN256_A_29_20211124141316_features_dense_104_Train_X.npy',\n",
              " '/content/drive/MyDrive/data_papers/test13/model_features/CNN256_A_29_20211124141316_features_dense_104_Train_Y.npy',\n",
              " '/content/drive/MyDrive/data_papers/test13/model_features/CNN256_A_30_20211124141929_features_dense_106_Train_X.npy',\n",
              " '/content/drive/MyDrive/data_papers/test13/model_features/CNN256_A_30_20211124141929_features_dense_106_Train_Y.npy',\n",
              " '/content/drive/MyDrive/data_papers/test13/model_features/CNN256_A_30_20211124141929_features_dense_107_Train_X.npy',\n",
              " '/content/drive/MyDrive/data_papers/test13/model_features/CNN256_A_30_20211124141929_features_dense_107_Train_Y.npy',\n",
              " '/content/drive/MyDrive/data_papers/test13/model_features/CNN256_A_31_20211124142615_features_dense_109_Train_X.npy',\n",
              " '/content/drive/MyDrive/data_papers/test13/model_features/CNN256_A_31_20211124142615_features_dense_109_Train_Y.npy',\n",
              " '/content/drive/MyDrive/data_papers/test13/model_features/CNN256_A_31_20211124142615_features_dense_110_Train_X.npy',\n",
              " '/content/drive/MyDrive/data_papers/test13/model_features/CNN256_A_31_20211124142615_features_dense_110_Train_Y.npy',\n",
              " '/content/drive/MyDrive/data_papers/test13/model_features/CNN256_A_32_20211124143302_features_dense_112_Train_X.npy',\n",
              " '/content/drive/MyDrive/data_papers/test13/model_features/CNN256_A_32_20211124143302_features_dense_112_Train_Y.npy',\n",
              " '/content/drive/MyDrive/data_papers/test13/model_features/CNN256_A_32_20211124143302_features_dense_113_Train_X.npy',\n",
              " '/content/drive/MyDrive/data_papers/test13/model_features/CNN256_A_32_20211124143302_features_dense_113_Train_Y.npy',\n",
              " '/content/drive/MyDrive/data_papers/test13/model_features/CNN256_A_33_20211124143941_features_dense_115_Train_X.npy',\n",
              " '/content/drive/MyDrive/data_papers/test13/model_features/CNN256_A_33_20211124143941_features_dense_115_Train_Y.npy',\n",
              " '/content/drive/MyDrive/data_papers/test13/model_features/CNN256_A_33_20211124143941_features_dense_116_Train_X.npy',\n",
              " '/content/drive/MyDrive/data_papers/test13/model_features/CNN256_A_33_20211124143941_features_dense_116_Train_Y.npy',\n",
              " '/content/drive/MyDrive/data_papers/test13/model_features/CNN256_A_34_20211124144626_features_dense_118_Train_X.npy',\n",
              " '/content/drive/MyDrive/data_papers/test13/model_features/CNN256_A_34_20211124144626_features_dense_118_Train_Y.npy',\n",
              " '/content/drive/MyDrive/data_papers/test13/model_features/CNN256_A_34_20211124144626_features_dense_119_Train_X.npy',\n",
              " '/content/drive/MyDrive/data_papers/test13/model_features/CNN256_A_34_20211124144626_features_dense_119_Train_Y.npy',\n",
              " '/content/drive/MyDrive/data_papers/test13/model_features/CNN256_A_35_20211124145317_features_dense_121_Train_X.npy',\n",
              " '/content/drive/MyDrive/data_papers/test13/model_features/CNN256_A_35_20211124145317_features_dense_121_Train_Y.npy',\n",
              " '/content/drive/MyDrive/data_papers/test13/model_features/CNN256_A_35_20211124145317_features_dense_122_Train_X.npy',\n",
              " '/content/drive/MyDrive/data_papers/test13/model_features/CNN256_A_35_20211124145317_features_dense_122_Train_Y.npy',\n",
              " '/content/drive/MyDrive/data_papers/test13/model_features/CNN256_A_36_20211124145950_features_dense_124_Train_X.npy',\n",
              " '/content/drive/MyDrive/data_papers/test13/model_features/CNN256_A_36_20211124145950_features_dense_124_Train_Y.npy',\n",
              " '/content/drive/MyDrive/data_papers/test13/model_features/CNN256_A_36_20211124145950_features_dense_125_Train_X.npy',\n",
              " '/content/drive/MyDrive/data_papers/test13/model_features/CNN256_A_36_20211124145950_features_dense_125_Train_Y.npy',\n",
              " ...]"
            ]
          },
          "metadata": {},
          "execution_count": 31
        }
      ]
    },
    {
      "cell_type": "markdown",
      "metadata": {
        "id": "7NfTm6C0efVR"
      },
      "source": [
        "# Set up data for ensemble plot collection"
      ]
    },
    {
      "cell_type": "code",
      "metadata": {
        "id": "0N1xIkYzeOqW"
      },
      "source": [
        "# set up the data\n",
        "ensemble_test_results = None"
      ],
      "execution_count": null,
      "outputs": []
    },
    {
      "cell_type": "code",
      "metadata": {
        "id": "vlEnnUKUYQsU"
      },
      "source": [
        "x_input = X_test_1000e\n",
        "y_input = Y_test_1000e\n",
        "\n",
        "num_of_repeats = 10\n",
        "num_of_models = [3,4,7,8,13,16,19]\n",
        "# [1,2,5,10,12,15,18,20]\n",
        "\n",
        "# resnet_model_predicted_values =  dict(zip(resnets_model_dirs,[ resnet_loaded_models[model].predict(x_input) for model in resnets_model_dirs]))\n",
        "# dnn_model_predicted_values =  dict(zip(dnn_model_dirs,[ dnn_loaded_models[model].predict(x_input) for model in dnn_model_dirs]))"
      ],
      "execution_count": null,
      "outputs": []
    },
    {
      "cell_type": "code",
      "metadata": {
        "colab": {
          "base_uri": "https://localhost:8080/"
        },
        "id": "pLSgKRgSmPGz",
        "outputId": "ae4f9849-ec35-4431-ecb6-d63c2183ccc1"
      },
      "source": [
        "from psutil import virtual_memory\n",
        "ram_gb = virtual_memory().total / 1e9\n",
        "print('Your runtime has {:.1f} gigabytes of available RAM\\n'.format(ram_gb))\n",
        "\n",
        "if ram_gb < 20:\n",
        "  print('Not using a high-RAM runtime')\n",
        "else:\n",
        "  print('You are using a high-RAM runtime!')"
      ],
      "execution_count": null,
      "outputs": [
        {
          "output_type": "stream",
          "name": "stdout",
          "text": [
            "Your runtime has 37.8 gigabytes of available RAM\n",
            "\n",
            "You are using a high-RAM runtime!\n"
          ]
        }
      ]
    },
    {
      "cell_type": "markdown",
      "metadata": {
        "id": "zarZ-ubirq5w"
      },
      "source": [
        "# Data for plot of #RNN in ensemble "
      ]
    },
    {
      "cell_type": "code",
      "source": [
        "rnn_loaded_models = dict(zip(rnn_model_dirs,[ tf.keras.models.load_model(mfile) for mfile in rnn_model_dirs]))"
      ],
      "metadata": {
        "id": "K_fLHhvlXPk9"
      },
      "execution_count": null,
      "outputs": []
    },
    {
      "cell_type": "code",
      "metadata": {
        "id": "UFsdTnB3PEHI",
        "colab": {
          "base_uri": "https://localhost:8080/"
        },
        "outputId": "56f3fad1-e968-49d7-945e-6535ed885cc7"
      },
      "source": [
        "x_input = X_test_1000e\n",
        "y_input = Y_test_1000e\n",
        "\n",
        "num_of_repeats = 4\n",
        "num_of_models = [2,3,4,5,6,7,8,9,10,11,12]\n",
        "\n",
        "idxCount = 0 if ensemble_test_results is None else len(ensemble_test_results.index)\n",
        "for mc in num_of_models:\n",
        "  for repc in range(num_of_repeats):\n",
        "    selected_model_names = sorted(random.sample(rnn_model_dirs, min(len(rnn_model_dirs),mc)))\n",
        "    rnn_models_to_use = [ rnn_loaded_models[mn] for mn in selected_model_names ]\n",
        "    rnn_model_predictions = [ np.array(model.predict(x_input), dtype='float64') for model in rnn_models_to_use ]\n",
        "    # np.apply_along_axis(np.argmax, 1, )\n",
        "    y_ens_preds = avgfilter_ensemble_predictions(rnn_model_predictions, x_input)\n",
        "    pr, rc, f1, acc = pr_rc_f1_acc_from_supplied(y_ens_preds,np.apply_along_axis(np.argmax, 1, y_input))\n",
        "    print (mc, repc, pr, rc, f1, acc)\n",
        "    if ensemble_test_results is None:\n",
        "      ensemble_test_results = pd.DataFrame({\"Type\": \"RNN\", \n",
        "                                            \"Data\" : \"Test\",\n",
        "                                            \"NumOfModels\": len(selected_model_names), \n",
        "                                            \"RepC\": repc, \n",
        "                                            \"Pr\": pr,\n",
        "                                            \"Rc\": rc,\n",
        "                                            \"F1\": f1,\n",
        "                                            \"Acc\": acc,\n",
        "                                            \"ModelNames\": \"XOX\".join([ \"_\".join(zz.split(\"RNN_A_\")[1].split(\"_\")[:2]) for zz in selected_model_names])\n",
        "                                            }, index = [idxCount])\n",
        "    else:\n",
        "      ensemble_test_results = pd.concat([ensemble_test_results,\n",
        "                                         pd.DataFrame({\"Type\": \"RNN\", \n",
        "                                            \"Data\" : \"Test\",\n",
        "                                            \"NumOfModels\": len(selected_model_names), \n",
        "                                            \"RepC\": repc, \n",
        "                                            \"Pr\": pr,\n",
        "                                            \"Rc\": rc,\n",
        "                                            \"F1\": f1,\n",
        "                                            \"Acc\": acc,\n",
        "                                            \"ModelNames\": \"XOX\".join([ \"_\".join(zz.split(\"RNN_A_\")[1].split(\"_\")[:2]) for zz in selected_model_names])\n",
        "                                            }, index = [idxCount])\n",
        "                                         ])\n",
        "    idxCount = idxCount + 1\n",
        "    del rnn_models_to_use\n",
        "    del rnn_model_predictions\n",
        "    del y_ens_preds\n"
      ],
      "execution_count": null,
      "outputs": [
        {
          "output_type": "stream",
          "name": "stdout",
          "text": [
            "2 0 0.9202870909153118 0.9125874125874126 0.9112301391734646 0.9125874125874126\n",
            "2 1 0.9161862715008843 0.9090909090909091 0.9060733328757662 0.9090909090909091\n",
            "2 2 0.9347125861297321 0.9335664335664335 0.9325901550362449 0.9335664335664335\n",
            "2 3 0.9052702151306014 0.9032634032634033 0.9004859945186244 0.9032634032634033\n",
            "3 0 0.9144451207029187 0.9090909090909091 0.9057938602006751 0.9090909090909091\n",
            "3 1 0.8910074061480786 0.8846153846153846 0.8812473815404077 0.8846153846153846\n",
            "3 2 0.9352698019876723 0.9324009324009324 0.9321784189313927 0.9324009324009324\n",
            "3 3 0.9208472722796974 0.916083916083916 0.915129816686997 0.916083916083916\n",
            "4 0 0.9337860283974123 0.9300699300699301 0.928588020196213 0.9300699300699301\n",
            "4 1 0.9030425852347415 0.8974358974358975 0.8946747060856347 0.8974358974358975\n",
            "4 2 0.9378840570097285 0.9370629370629371 0.9363387935021523 0.9370629370629371\n",
            "4 3 0.9263313393654887 0.921911421911422 0.9200202004968122 0.921911421911422\n",
            "5 0 0.9164211939901933 0.9137529137529138 0.9131459156892395 0.9137529137529138\n",
            "5 1 0.9332141857276995 0.9300699300699301 0.9290025945745111 0.9300699300699301\n",
            "5 2 0.9275700859898185 0.9230769230769231 0.9214593258395068 0.9230769230769231\n",
            "5 3 0.9181136172193409 0.9137529137529138 0.9102475409832235 0.9137529137529138\n",
            "6 0 0.9290179718326373 0.9254079254079254 0.9222792476881233 0.9254079254079254\n",
            "6 1 0.8946794411793059 0.8904428904428905 0.8876272309702297 0.8904428904428905\n",
            "6 2 0.9147252900283632 0.9114219114219114 0.9085710877192926 0.9114219114219114\n",
            "6 3 0.9269661172393985 0.9230769230769231 0.9218400659738895 0.9230769230769231\n",
            "7 0 0.9236689743246854 0.9184149184149184 0.9171332739188508 0.9184149184149184\n",
            "7 1 0.9250966260678049 0.9207459207459208 0.9192709016700502 0.9207459207459208\n",
            "7 2 0.9262021802427675 0.9242424242424242 0.9226843843570999 0.9242424242424242\n",
            "7 3 0.9326188564215626 0.9289044289044289 0.9263236728233433 0.9289044289044289\n",
            "8 0 0.9218332696391675 0.9195804195804196 0.9178047437175549 0.9195804195804196\n",
            "8 1 0.9346041797335048 0.9312354312354313 0.929958806664791 0.9312354312354313\n",
            "8 2 0.9248970832225848 0.921911421911422 0.9198383115086373 0.921911421911422\n",
            "8 3 0.9219924293729856 0.9184149184149184 0.91533959289345 0.9184149184149184\n",
            "9 0 0.9322410561152419 0.9300699300699301 0.9284189537120476 0.9300699300699301\n",
            "9 1 0.9387149897272009 0.9358974358974359 0.9344686634110542 0.9358974358974359\n",
            "9 2 0.9178042427519035 0.9125874125874126 0.9098525185016169 0.9125874125874126\n",
            "9 3 0.9323135473740249 0.9289044289044289 0.9266861833643968 0.9289044289044289\n",
            "10 0 0.9318555805490207 0.9289044289044289 0.927418678151679 0.9289044289044289\n",
            "10 1 0.9282368618744523 0.9254079254079254 0.9238880615398888 0.9254079254079254\n",
            "10 2 0.932067389838402 0.9289044289044289 0.926939667998794 0.9289044289044289\n",
            "10 3 0.925042526241724 0.9207459207459208 0.9182882444818733 0.9207459207459208\n",
            "11 0 0.9304536955862343 0.9277389277389277 0.9258900560407026 0.9277389277389277\n",
            "11 1 0.9268736557174081 0.9242424242424242 0.9220722743316513 0.9242424242424242\n",
            "11 2 0.9276778753205691 0.9254079254079254 0.9235184319903518 0.9254079254079254\n",
            "11 3 0.9304536955862343 0.9277389277389277 0.9258900560407026 0.9277389277389277\n",
            "12 0 0.9293615322288126 0.9265734265734266 0.924708419703962 0.9265734265734266\n",
            "12 1 0.9293615322288126 0.9265734265734266 0.924708419703962 0.9265734265734266\n",
            "12 2 0.9293615322288126 0.9265734265734266 0.924708419703962 0.9265734265734266\n",
            "12 3 0.9293615322288126 0.9265734265734266 0.924708419703962 0.9265734265734266\n"
          ]
        }
      ]
    },
    {
      "cell_type": "code",
      "metadata": {
        "id": "lfyPSdOghY4j"
      },
      "source": [
        "ensemble_test_results.to_csv(f\"/content/drive/MyDrive/data_papers/{paper_name}/summary_results/ensemble_rnn_test_results_{datetime.datetime.now():%Y%m%d%H%M%S}.csv\")"
      ],
      "execution_count": null,
      "outputs": []
    },
    {
      "cell_type": "markdown",
      "metadata": {
        "id": "YgXJUgDGFDf2"
      },
      "source": [
        "# Plot of #RNN in ensemble "
      ]
    },
    {
      "cell_type": "code",
      "source": [
        ""
      ],
      "metadata": {
        "id": "YnctTNsuFBZ5"
      },
      "execution_count": null,
      "outputs": []
    },
    {
      "cell_type": "markdown",
      "metadata": {
        "id": "Qr4uwylNzQl1"
      },
      "source": [
        "# Data for plot of #CNN in ensemble "
      ]
    },
    {
      "cell_type": "code",
      "metadata": {
        "id": "VRWdcBVizQl2"
      },
      "source": [
        "cnn_loaded_models = dict(zip(cnn_model_dirs,[ tf.keras.models.load_model(mfile) for mfile in cnn_model_dirs]))"
      ],
      "execution_count": null,
      "outputs": []
    },
    {
      "cell_type": "code",
      "metadata": {
        "id": "MR3GuoTdzqGc"
      },
      "source": [
        "# for CNN we try to memoize the predictions... ?\n",
        "# cnn_model_predictions = [ cnn_loaded_models[mn].predict(x_input) for mn in list(cnn_loaded_models.keys()) ]"
      ],
      "execution_count": null,
      "outputs": []
    },
    {
      "cell_type": "code",
      "metadata": {
        "id": "WCDDvCaczQl2"
      },
      "source": [
        "# from numba import jit, prange\n",
        "# @jit(nopython=True, parallel=True)\n",
        "# def parallel_sum(A):\n",
        "#     sum = 0.0\n",
        "#     for i in prange(A.shape[0]):\n",
        "#         sum += A[i]\n",
        "#     return sum"
      ],
      "execution_count": null,
      "outputs": []
    },
    {
      "cell_type": "code",
      "metadata": {
        "id": "lPhanQJWzQl2",
        "colab": {
          "base_uri": "https://localhost:8080/"
        },
        "outputId": "537d375d-b4ac-40b9-e72b-453f86de6348"
      },
      "source": [
        "# num_of_models = [16,20]\n",
        "\n",
        "x_input = X_test_1000e\n",
        "y_input = Y_test_1000e\n",
        "\n",
        "num_of_repeats = 2\n",
        "num_of_models = [2,3,4,6,7,8,9,11,12,13,14,16,18,20,22,25,30,35,40]\n",
        "\n",
        "idxCount = 0 if ensemble_test_results is None else len(ensemble_test_results.index)\n",
        "for mc in num_of_models:\n",
        "  for repc in range(num_of_repeats):\n",
        "    selected_model_names = sorted(random.sample(cnn_model_dirs, min(len(cnn_model_dirs),mc)))\n",
        "    cnn_models_to_use = [ cnn_loaded_models[mn] for mn in selected_model_names ]\n",
        "    cnn_model_predictions = [ np.array(model.predict(x_input), dtype='float64') for model in cnn_models_to_use ]\n",
        "    y_ens_preds = avgfilter_ensemble_predictions(cnn_model_predictions, x_input)\n",
        "    pr, rc, f1, acc = pr_rc_f1_acc_from_supplied(y_ens_preds,np.apply_along_axis(np.argmax, 1, y_input))\n",
        "    print (mc, repc, pr, rc, f1, acc)\n",
        "    if ensemble_test_results is None:\n",
        "      ensemble_test_results = pd.DataFrame({\"Type\": \"CNN256\", \n",
        "                                            \"Data\" : \"Test\",\n",
        "                                            \"NumOfModels\": len(selected_model_names), \n",
        "                                            \"RepC\": repc, \n",
        "                                            \"Pr\": pr,\n",
        "                                            \"Rc\": rc,\n",
        "                                            \"F1\": f1,\n",
        "                                            \"Acc\": acc,\n",
        "                                            \"ModelNames\": \"XOX\".join([ \"_\".join(zz.split(\"CNN256_A_\")[1].split(\"_\")[:2]) for zz in selected_model_names])\n",
        "                                            }, index = [idxCount])\n",
        "    else:\n",
        "      ensemble_test_results = pd.concat([ensemble_test_results,\n",
        "                                         pd.DataFrame({\"Type\": \"CNN256\", \n",
        "                                            \"Data\" : \"Test\",\n",
        "                                            \"NumOfModels\": len(selected_model_names), \n",
        "                                            \"RepC\": repc, \n",
        "                                            \"Pr\": pr,\n",
        "                                            \"Rc\": rc,\n",
        "                                            \"F1\": f1,\n",
        "                                            \"Acc\": acc,\n",
        "                                            \"ModelNames\": \"XOX\".join([ \"_\".join(zz.split(\"CNN256_A_\")[1].split(\"_\")[:2]) for zz in selected_model_names])\n",
        "                                            }, index = [idxCount])\n",
        "                                         ])\n",
        "    idxCount = idxCount + 1\n",
        "    del cnn_models_to_use\n",
        "    del cnn_model_predictions\n",
        "    del y_ens_preds\n",
        "\n",
        "\n"
      ],
      "execution_count": null,
      "outputs": [
        {
          "output_type": "stream",
          "name": "stdout",
          "text": [
            "2 0 0.9499870537086745 0.9487179487179487 0.9486793989033653 0.9487179487179487\n",
            "2 1 0.9573248857955624 0.9557109557109557 0.9560994903318876 0.9557109557109557\n",
            "3 0 0.9549340042352105 0.9533799533799534 0.953417707659895 0.9533799533799534\n",
            "3 1 0.9526903627221619 0.951048951048951 0.9511940897592319 0.951048951048951\n",
            "4 0 0.952004938698692 0.9498834498834499 0.950350658239827 0.9498834498834499\n",
            "4 1 0.9601168549976784 0.9592074592074592 0.9594032122829432 0.9592074592074592\n",
            "6 0 0.9503048945970382 0.9475524475524476 0.9476685401999472 0.9475524475524476\n",
            "6 1 0.9660028786561412 0.965034965034965 0.9652514010284441 0.965034965034965\n",
            "7 0 0.9585848758213502 0.9568764568764568 0.9573873973049694 0.9568764568764568\n",
            "7 1 0.9633818994137271 0.9627039627039627 0.9628528823840847 0.9627039627039627\n",
            "8 0 0.961064578479623 0.9603729603729604 0.9604864754429457 0.9603729603729604\n",
            "8 1 0.9622973877660945 0.9603729603729604 0.9607748180373389 0.9603729603729604\n",
            "9 0 0.9604443808812464 0.9592074592074592 0.9594999121563085 0.9592074592074592\n",
            "9 1 0.964649836109493 0.9627039627039627 0.963174093656367 0.9627039627039627\n",
            "11 0 0.9601431634287633 0.9592074592074592 0.9594485006032556 0.9592074592074592\n",
            "11 1 0.9618062938961746 0.9603729603729604 0.9607196984718277 0.9603729603729604\n",
            "12 0 0.9607572040827559 0.9592074592074592 0.9594805320726971 0.9592074592074592\n",
            "12 1 0.9584746034184263 0.9568764568764568 0.9571683421422154 0.9568764568764568\n",
            "13 0 0.9612914478071328 0.9603729603729604 0.9605193465464186 0.9603729603729604\n",
            "13 1 0.9649905268663025 0.9638694638694638 0.964103010352495 0.9638694638694638\n",
            "14 0 0.9600635026658428 0.9592074592074592 0.9593667983802021 0.9592074592074592\n",
            "14 1 0.9660497602436013 0.965034965034965 0.9653247932954311 0.965034965034965\n",
            "16 0 0.9613203400557582 0.9603729603729604 0.9605571478078416 0.9603729603729604\n",
            "16 1 0.9591175869399036 0.958041958041958 0.958205073248362 0.958041958041958\n",
            "18 0 0.9645215561775966 0.9638694638694638 0.963947062465612 0.9638694638694638\n",
            "18 1 0.9614476453293516 0.9603729603729604 0.9606009606110202 0.9603729603729604\n",
            "20 0 0.9603864318038744 0.9592074592074592 0.9594048026722666 0.9592074592074592\n",
            "20 1 0.956702137232833 0.9557109557109557 0.9557032343274686 0.9557109557109557\n",
            "22 0 0.9578074908883459 0.9568764568764568 0.9570918054804193 0.9568764568764568\n",
            "22 1 0.963952281224243 0.9627039627039627 0.9629902559256475 0.9627039627039627\n",
            "25 0 0.9645722917178878 0.9638694638694638 0.9640247340622419 0.9638694638694638\n",
            "25 1 0.9636412778096657 0.9627039627039627 0.9629189577821404 0.9627039627039627\n",
            "30 0 0.9635981593763747 0.9627039627039627 0.9628778489396366 0.9627039627039627\n",
            "30 1 0.960496605239868 0.9592074592074592 0.9595337571089944 0.9592074592074592\n",
            "35 0 0.9612464389945579 0.9603729603729604 0.9605469556735837 0.9603729603729604\n",
            "35 1 0.9653083010317326 0.9638694638694638 0.9641766250345398 0.9638694638694638\n",
            "40 0 0.9601639578888416 0.9592074592074592 0.959395426430151 0.9592074592074592\n",
            "40 1 0.9594210654048517 0.958041958041958 0.9582809451258443 0.958041958041958\n"
          ]
        }
      ]
    },
    {
      "cell_type": "code",
      "metadata": {
        "id": "mqinAog5zQl2"
      },
      "source": [
        "ensemble_test_results.to_csv(f\"/content/drive/MyDrive/data_papers/{paper_name}/summary_results/ensemble_cnn_test_results_{datetime.datetime.now():%Y%m%d%H%M%S}.csv\")\n"
      ],
      "execution_count": null,
      "outputs": []
    },
    {
      "cell_type": "code",
      "source": [
        ""
      ],
      "metadata": {
        "id": "jlxcj1WbW50n"
      },
      "execution_count": null,
      "outputs": []
    },
    {
      "cell_type": "markdown",
      "metadata": {
        "id": "5YEfUSsWG6bm"
      },
      "source": [
        "# Data for Contour Plot on Mixed CNN/RNN ensemble"
      ]
    },
    {
      "cell_type": "code",
      "metadata": {
        "id": "IuYJjSlHHT9Y"
      },
      "source": [
        "rnn_loaded_models = dict(zip(rnn_model_dirs,[ tf.keras.models.load_model(mfile) for mfile in rnn_model_dirs]))\n",
        "cnn_loaded_models = dict(zip(cnn_model_dirs,[ tf.keras.models.load_model(mfile) for mfile in cnn_model_dirs]))\n"
      ],
      "execution_count": null,
      "outputs": []
    },
    {
      "cell_type": "code",
      "metadata": {
        "id": "Fpy7lzitHiJ9"
      },
      "source": [
        "x_input = X_test_1000e\n",
        "y_input = Y_test_1000e\n",
        "\n",
        "num_of_repeats = 15\n",
        "num_of_models = [2,3,4,5,6,7,8,9,10,11,12] \n"
      ],
      "execution_count": null,
      "outputs": []
    },
    {
      "cell_type": "code",
      "metadata": {
        "id": "_-U8hTmpHiJ9"
      },
      "source": [
        "# # for RNN we try to memoize the predictions... ?\n",
        "rnn_model_predictions = [ np.array(rnn_loaded_models[mn].predict(x_input), dtype='float64') for mn in rnn_model_dirs ]\n"
      ],
      "execution_count": null,
      "outputs": []
    },
    {
      "cell_type": "code",
      "metadata": {
        "id": "c_gCb_W0-1UK"
      },
      "source": [
        "cnn_model_predictions = [ np.array(cnn_loaded_models[mn].predict(x_input), dtype='float64')  for mn in list(cnn_loaded_models.keys()) ]\n"
      ],
      "execution_count": null,
      "outputs": []
    },
    {
      "cell_type": "code",
      "metadata": {
        "id": "xSZg_DX5bz43"
      },
      "source": [
        "# wideresnets_model_dirs"
      ],
      "execution_count": null,
      "outputs": []
    },
    {
      "cell_type": "code",
      "metadata": {
        "id": "RFU-Ro3xG6bn"
      },
      "source": [
        "# set up the combinations we are going to try\n",
        "# len(wideresnets_features_files)\n",
        "cnn_rnn_ensemble_contour_data = None"
      ],
      "execution_count": null,
      "outputs": []
    },
    {
      "cell_type": "code",
      "metadata": {
        "id": "1Lfkuj2vHz0B"
      },
      "source": [
        "idxCount = 0 if cnn_rnn_ensemble_contour_data is None else len(cnn_rnn_ensemble_contour_data.index)\n",
        "for mc in num_of_models:\n",
        "  for repc in range(num_of_repeats):\n",
        "    for num_of_rnn in range(mc+1):\n",
        "      num_of_cnn = mc - num_of_rnn\n",
        "\n",
        "      ensemble_model_predictions_here = []\n",
        "      if num_of_cnn > 0:\n",
        "        ensemble_model_predictions_here.extend(random.sample(cnn_model_predictions, min(num_of_cnn,len(cnn_model_predictions)) ))\n",
        "      if num_of_rnn > 0:\n",
        "        ensemble_model_predictions_here.extend(random.sample(rnn_model_predictions, min(num_of_rnn,len(rnn_model_predictions)) ))\n",
        "\n",
        "      y_ens_preds = avgfilter_ensemble_predictions(ensemble_model_predictions_here, x_input)\n",
        "      pr, rc, f1, acc = pr_rc_f1_acc_from_supplied(y_ens_preds,np.apply_along_axis(np.argmax, 1, y_input))\n",
        "      print (mc, num_of_cnn, repc, pr, rc, f1, acc)\n",
        "      if cnn_rnn_ensemble_contour_data is None:\n",
        "        cnn_rnn_ensemble_contour_data = pd.DataFrame({\"TypeA\": \"CNN\", \n",
        "                                                             \"TypeB\": \"RNN\", \n",
        "                                                              \"Data\" : \"Test\",\n",
        "                                                             \"Layer\" : \"Ensemble\",\n",
        "                                                    \"NumOfA\": num_of_cnn, \n",
        "                                                    \"NumOfB\": num_of_rnn, \n",
        "                                                    \"RepC\": repc, \n",
        "                                                    \"Pr\": pr,\n",
        "                                                    \"Rc\": rc,\n",
        "                                                    \"F1\": f1,\n",
        "                                                    \"Acc\": acc\n",
        "                                              }, index = [idxCount])\n",
        "      else:\n",
        "        cnn_rnn_ensemble_contour_data = pd.concat([cnn_rnn_ensemble_contour_data,\n",
        "                                                          pd.DataFrame({\"TypeA\": \"CNN\", \n",
        "                                                                        \"TypeB\": \"RNN\", \n",
        "                                                                        \"Data\" : \"Test\",\n",
        "                                                                        \"Layer\" : \"Ensemble\",\n",
        "                                                                        \"NumOfA\": num_of_cnn, \n",
        "                                                                        \"NumOfB\": num_of_rnn, \n",
        "                                                                        \"RepC\": repc, \n",
        "                                                                        \"Pr\": pr,\n",
        "                                                                        \"Rc\": rc,\n",
        "                                                                        \"F1\": f1,\n",
        "                                                                        \"Acc\": acc\n",
        "                                                                        }, index = [idxCount])])\n",
        "      idxCount = idxCount + 1\n",
        "      # del resnet_models_to_use\n",
        "      del ensemble_model_predictions_here\n",
        "      del y_ens_preds\n",
        "\n"
      ],
      "execution_count": null,
      "outputs": []
    },
    {
      "cell_type": "code",
      "metadata": {
        "id": "nP3uqLTL9M2v"
      },
      "source": [
        "cnn_rnn_ensemble_contour_data.to_csv(f\"/content/drive/MyDrive/data_papers/{paper_name}/summary_results/cnn_rnn_ensemble_contour_data_{datetime.datetime.now():%Y%m%d%H%M%S}.csv\")\n"
      ],
      "execution_count": null,
      "outputs": []
    },
    {
      "cell_type": "markdown",
      "metadata": {
        "id": "a9XCKIfqnQ3V"
      },
      "source": [
        "# Contour Plots for ensemble CNN+RNN\n",
        "\n",
        "\n"
      ]
    },
    {
      "cell_type": "code",
      "source": [
        "#os.listdir(f\"/content/drive/MyDrive/data_papers/{paper_name}/summary_results/\")\n",
        "# cnn_rnn_ensemble_contour_data"
      ],
      "metadata": {
        "id": "J54BzfuYRz4H"
      },
      "execution_count": null,
      "outputs": []
    },
    {
      "cell_type": "code",
      "source": [
        "cnn_rnn_ensemble_contour_data = pd.read_csv(f\"/content/drive/MyDrive/data_papers/{paper_name}/summary_results/cnn_rnn_ensemble_contour_data_20211207235706.csv\")"
      ],
      "metadata": {
        "id": "zHpxTjKsRtDf"
      },
      "execution_count": null,
      "outputs": []
    },
    {
      "cell_type": "code",
      "metadata": {
        "id": "lBIb4YJtnZTj"
      },
      "source": [
        "cnn_rnn_contour = cnn_rnn_ensemble_contour_data.loc[(cnn_rnn_ensemble_contour_data.Layer==\"Ensemble\") & (cnn_rnn_ensemble_contour_data.TypeA==\"CNN\") & (cnn_rnn_ensemble_contour_data.TypeB==\"RNN\")].copy()\n",
        "cnn_rnn_contour = cnn_rnn_contour.drop_duplicates()\n",
        "cnn_rnn_contour[\"NumOfModels\"] = cnn_rnn_contour.NumOfA + cnn_rnn_contour.NumOfB\n",
        "cnn_rnn_contour[\"Type\"] = \"CNN_RNN\"\n",
        "cnn_rnn_contour[\"CNN%\"] = cnn_rnn_contour.NumOfA/cnn_rnn_contour[\"NumOfModels\"]"
      ],
      "execution_count": null,
      "outputs": []
    },
    {
      "cell_type": "code",
      "metadata": {
        "colab": {
          "base_uri": "https://localhost:8080/",
          "height": 423
        },
        "id": "95bgTbNin01J",
        "outputId": "fc65fefa-b1e9-4da0-92e3-f813ae54f6b7"
      },
      "source": [
        "cnn_rnn_contour"
      ],
      "execution_count": null,
      "outputs": [
        {
          "output_type": "execute_result",
          "data": {
            "text/html": [
              "<div>\n",
              "<style scoped>\n",
              "    .dataframe tbody tr th:only-of-type {\n",
              "        vertical-align: middle;\n",
              "    }\n",
              "\n",
              "    .dataframe tbody tr th {\n",
              "        vertical-align: top;\n",
              "    }\n",
              "\n",
              "    .dataframe thead th {\n",
              "        text-align: right;\n",
              "    }\n",
              "</style>\n",
              "<table border=\"1\" class=\"dataframe\">\n",
              "  <thead>\n",
              "    <tr style=\"text-align: right;\">\n",
              "      <th></th>\n",
              "      <th>Unnamed: 0</th>\n",
              "      <th>TypeA</th>\n",
              "      <th>TypeB</th>\n",
              "      <th>Data</th>\n",
              "      <th>Layer</th>\n",
              "      <th>NumOfA</th>\n",
              "      <th>NumOfB</th>\n",
              "      <th>RepC</th>\n",
              "      <th>Pr</th>\n",
              "      <th>Rc</th>\n",
              "      <th>F1</th>\n",
              "      <th>Acc</th>\n",
              "      <th>NumOfModels</th>\n",
              "      <th>Type</th>\n",
              "      <th>CNN%</th>\n",
              "    </tr>\n",
              "  </thead>\n",
              "  <tbody>\n",
              "    <tr>\n",
              "      <th>0</th>\n",
              "      <td>0</td>\n",
              "      <td>CNN</td>\n",
              "      <td>RNN</td>\n",
              "      <td>Test</td>\n",
              "      <td>Ensemble</td>\n",
              "      <td>2</td>\n",
              "      <td>0</td>\n",
              "      <td>0</td>\n",
              "      <td>0.960341</td>\n",
              "      <td>0.956876</td>\n",
              "      <td>0.957459</td>\n",
              "      <td>0.956876</td>\n",
              "      <td>2</td>\n",
              "      <td>CNN_RNN</td>\n",
              "      <td>1.000000</td>\n",
              "    </tr>\n",
              "    <tr>\n",
              "      <th>1</th>\n",
              "      <td>1</td>\n",
              "      <td>CNN</td>\n",
              "      <td>RNN</td>\n",
              "      <td>Test</td>\n",
              "      <td>Ensemble</td>\n",
              "      <td>1</td>\n",
              "      <td>1</td>\n",
              "      <td>0</td>\n",
              "      <td>0.961484</td>\n",
              "      <td>0.960373</td>\n",
              "      <td>0.960091</td>\n",
              "      <td>0.960373</td>\n",
              "      <td>2</td>\n",
              "      <td>CNN_RNN</td>\n",
              "      <td>0.500000</td>\n",
              "    </tr>\n",
              "    <tr>\n",
              "      <th>2</th>\n",
              "      <td>2</td>\n",
              "      <td>CNN</td>\n",
              "      <td>RNN</td>\n",
              "      <td>Test</td>\n",
              "      <td>Ensemble</td>\n",
              "      <td>0</td>\n",
              "      <td>2</td>\n",
              "      <td>0</td>\n",
              "      <td>0.934713</td>\n",
              "      <td>0.933566</td>\n",
              "      <td>0.932590</td>\n",
              "      <td>0.933566</td>\n",
              "      <td>2</td>\n",
              "      <td>CNN_RNN</td>\n",
              "      <td>0.000000</td>\n",
              "    </tr>\n",
              "    <tr>\n",
              "      <th>3</th>\n",
              "      <td>3</td>\n",
              "      <td>CNN</td>\n",
              "      <td>RNN</td>\n",
              "      <td>Test</td>\n",
              "      <td>Ensemble</td>\n",
              "      <td>2</td>\n",
              "      <td>0</td>\n",
              "      <td>1</td>\n",
              "      <td>0.953253</td>\n",
              "      <td>0.952214</td>\n",
              "      <td>0.952416</td>\n",
              "      <td>0.952214</td>\n",
              "      <td>2</td>\n",
              "      <td>CNN_RNN</td>\n",
              "      <td>1.000000</td>\n",
              "    </tr>\n",
              "    <tr>\n",
              "      <th>4</th>\n",
              "      <td>4</td>\n",
              "      <td>CNN</td>\n",
              "      <td>RNN</td>\n",
              "      <td>Test</td>\n",
              "      <td>Ensemble</td>\n",
              "      <td>1</td>\n",
              "      <td>1</td>\n",
              "      <td>1</td>\n",
              "      <td>0.967257</td>\n",
              "      <td>0.966200</td>\n",
              "      <td>0.966509</td>\n",
              "      <td>0.966200</td>\n",
              "      <td>2</td>\n",
              "      <td>CNN_RNN</td>\n",
              "      <td>0.500000</td>\n",
              "    </tr>\n",
              "    <tr>\n",
              "      <th>...</th>\n",
              "      <td>...</td>\n",
              "      <td>...</td>\n",
              "      <td>...</td>\n",
              "      <td>...</td>\n",
              "      <td>...</td>\n",
              "      <td>...</td>\n",
              "      <td>...</td>\n",
              "      <td>...</td>\n",
              "      <td>...</td>\n",
              "      <td>...</td>\n",
              "      <td>...</td>\n",
              "      <td>...</td>\n",
              "      <td>...</td>\n",
              "      <td>...</td>\n",
              "      <td>...</td>\n",
              "    </tr>\n",
              "    <tr>\n",
              "      <th>1315</th>\n",
              "      <td>1315</td>\n",
              "      <td>CNN</td>\n",
              "      <td>RNN</td>\n",
              "      <td>Test</td>\n",
              "      <td>Ensemble</td>\n",
              "      <td>4</td>\n",
              "      <td>8</td>\n",
              "      <td>14</td>\n",
              "      <td>0.962231</td>\n",
              "      <td>0.961538</td>\n",
              "      <td>0.961550</td>\n",
              "      <td>0.961538</td>\n",
              "      <td>12</td>\n",
              "      <td>CNN_RNN</td>\n",
              "      <td>0.333333</td>\n",
              "    </tr>\n",
              "    <tr>\n",
              "      <th>1316</th>\n",
              "      <td>1316</td>\n",
              "      <td>CNN</td>\n",
              "      <td>RNN</td>\n",
              "      <td>Test</td>\n",
              "      <td>Ensemble</td>\n",
              "      <td>3</td>\n",
              "      <td>9</td>\n",
              "      <td>14</td>\n",
              "      <td>0.955570</td>\n",
              "      <td>0.953380</td>\n",
              "      <td>0.953277</td>\n",
              "      <td>0.953380</td>\n",
              "      <td>12</td>\n",
              "      <td>CNN_RNN</td>\n",
              "      <td>0.250000</td>\n",
              "    </tr>\n",
              "    <tr>\n",
              "      <th>1317</th>\n",
              "      <td>1317</td>\n",
              "      <td>CNN</td>\n",
              "      <td>RNN</td>\n",
              "      <td>Test</td>\n",
              "      <td>Ensemble</td>\n",
              "      <td>2</td>\n",
              "      <td>10</td>\n",
              "      <td>14</td>\n",
              "      <td>0.948477</td>\n",
              "      <td>0.946387</td>\n",
              "      <td>0.945279</td>\n",
              "      <td>0.946387</td>\n",
              "      <td>12</td>\n",
              "      <td>CNN_RNN</td>\n",
              "      <td>0.166667</td>\n",
              "    </tr>\n",
              "    <tr>\n",
              "      <th>1318</th>\n",
              "      <td>1318</td>\n",
              "      <td>CNN</td>\n",
              "      <td>RNN</td>\n",
              "      <td>Test</td>\n",
              "      <td>Ensemble</td>\n",
              "      <td>1</td>\n",
              "      <td>11</td>\n",
              "      <td>14</td>\n",
              "      <td>0.938012</td>\n",
              "      <td>0.935897</td>\n",
              "      <td>0.934769</td>\n",
              "      <td>0.935897</td>\n",
              "      <td>12</td>\n",
              "      <td>CNN_RNN</td>\n",
              "      <td>0.083333</td>\n",
              "    </tr>\n",
              "    <tr>\n",
              "      <th>1319</th>\n",
              "      <td>1319</td>\n",
              "      <td>CNN</td>\n",
              "      <td>RNN</td>\n",
              "      <td>Test</td>\n",
              "      <td>Ensemble</td>\n",
              "      <td>0</td>\n",
              "      <td>12</td>\n",
              "      <td>14</td>\n",
              "      <td>0.929362</td>\n",
              "      <td>0.926573</td>\n",
              "      <td>0.924708</td>\n",
              "      <td>0.926573</td>\n",
              "      <td>12</td>\n",
              "      <td>CNN_RNN</td>\n",
              "      <td>0.000000</td>\n",
              "    </tr>\n",
              "  </tbody>\n",
              "</table>\n",
              "<p>1320 rows × 15 columns</p>\n",
              "</div>"
            ],
            "text/plain": [
              "      Unnamed: 0 TypeA TypeB  Data  ...       Acc  NumOfModels     Type      CNN%\n",
              "0              0   CNN   RNN  Test  ...  0.956876            2  CNN_RNN  1.000000\n",
              "1              1   CNN   RNN  Test  ...  0.960373            2  CNN_RNN  0.500000\n",
              "2              2   CNN   RNN  Test  ...  0.933566            2  CNN_RNN  0.000000\n",
              "3              3   CNN   RNN  Test  ...  0.952214            2  CNN_RNN  1.000000\n",
              "4              4   CNN   RNN  Test  ...  0.966200            2  CNN_RNN  0.500000\n",
              "...          ...   ...   ...   ...  ...       ...          ...      ...       ...\n",
              "1315        1315   CNN   RNN  Test  ...  0.961538           12  CNN_RNN  0.333333\n",
              "1316        1316   CNN   RNN  Test  ...  0.953380           12  CNN_RNN  0.250000\n",
              "1317        1317   CNN   RNN  Test  ...  0.946387           12  CNN_RNN  0.166667\n",
              "1318        1318   CNN   RNN  Test  ...  0.935897           12  CNN_RNN  0.083333\n",
              "1319        1319   CNN   RNN  Test  ...  0.926573           12  CNN_RNN  0.000000\n",
              "\n",
              "[1320 rows x 15 columns]"
            ]
          },
          "metadata": {},
          "execution_count": 64
        }
      ]
    },
    {
      "cell_type": "code",
      "source": [
        "cnn_rnn_contour.Acc.max()"
      ],
      "metadata": {
        "colab": {
          "base_uri": "https://localhost:8080/"
        },
        "id": "OjA5tG0xTd9B",
        "outputId": "f6204a78-789b-465e-eb6b-90b269a91cfd"
      },
      "execution_count": null,
      "outputs": [
        {
          "output_type": "execute_result",
          "data": {
            "text/plain": [
              "0.9743589743589745"
            ]
          },
          "metadata": {},
          "execution_count": 65
        }
      ]
    },
    {
      "cell_type": "code",
      "metadata": {
        "id": "pFp4P6JonQ3b"
      },
      "source": [
        "cnn_rnn_contour_core = cnn_rnn_contour[[\"NumOfModels\",\"CNN%\",\"Acc\"]].copy()\n",
        "cnn_rnn_contour_core[\"NumOfModels\"] = cnn_rnn_contour_core[\"NumOfModels\"].astype(float)"
      ],
      "execution_count": null,
      "outputs": []
    },
    {
      "cell_type": "code",
      "metadata": {
        "colab": {
          "base_uri": "https://localhost:8080/",
          "height": 463
        },
        "id": "N0ZeU804nQ3b",
        "outputId": "9fd23a81-de0b-4322-942a-fdb0c6388013"
      },
      "source": [
        "import numpy as np\n",
        "import matplotlib.pyplot as plt\n",
        "from matplotlib import cm\n",
        "from matplotlib.ticker import LinearLocator, FormatStrFormatter\n",
        "from mpl_toolkits.mplot3d import Axes3D\n",
        "\n",
        "plt.rcParams[\"figure.figsize\"]=(10, 6)\n",
        "fig = plt.figure()\n",
        "ax = Axes3D(fig)\n",
        "surf = ax.plot_trisurf(cnn_rnn_contour_core[\"NumOfModels\"], cnn_rnn_contour_core[\"CNN%\"], cnn_rnn_contour_core[\"Acc\"], cmap=cm.jet, linewidth=0.2)\n",
        "fig.colorbar(surf, shrink=0.5, aspect=5)\n",
        "ax.set_zlim(0.85, 0.98)\n",
        "\n",
        "plt.show()\n"
      ],
      "execution_count": null,
      "outputs": [
        {
          "output_type": "display_data",
          "data": {
            "image/png": "[encoded data removed]",
            "text/plain": [
              "<Figure size 720x432 with 2 Axes>"
            ]
          },
          "metadata": {
            "needs_background": "light"
          }
        }
      ]
    },
    {
      "cell_type": "code",
      "metadata": {
        "colab": {
          "base_uri": "https://localhost:8080/",
          "height": 716
        },
        "id": "ECBFDb1enQ3b",
        "outputId": "af9129c1-799b-4d39-d726-72c4314a8609"
      },
      "source": [
        "fig = go.Figure(data =\n",
        "    go.Contour(\n",
        "        z=cnn_rnn_contour_core.Acc,\n",
        "        x=cnn_rnn_contour_core[\"NumOfModels\"], # horizontal axis\n",
        "        y=cnn_rnn_contour_core[\"CNN%\"], # vertical axis\n",
        "    colorscale='RdBu',\n",
        "    contours=dict(\n",
        "            start=0.85,\n",
        "            end=0.98,\n",
        "            size=0.005,\n",
        "        )))\n",
        "\n",
        "fig.update_layout(\n",
        "    autosize=False,\n",
        "    width=700,\n",
        "    height=700,\n",
        "    margin=dict(        l=50,        r=50,        b=100,        t=100,        pad=4    ),\n",
        "    paper_bgcolor=\"White\",\n",
        "   title=\"Ensemble Test Accuracy using CNN+RNN \",\n",
        "    xaxis_title=\"Total Number of Models\",\n",
        "    yaxis_title=\"% of CNN models\"\n",
        ")\n",
        "\n",
        "fig.show()\n"
      ],
      "execution_count": null,
      "outputs": [
        {
          "output_type": "display_data",
          "data": {
            "text/html": [
              "<html>\n",
              "<head><meta charset=\"utf-8\" /></head>\n",
              "<body>\n",
              "    <div>\n",
              "            <script src=\"https://cdnjs.cloudflare.com/ajax/libs/mathjax/2.7.5/MathJax.js?config=TeX-AMS-MML_SVG\"></script><script type=\"text/javascript\">if (window.MathJax) {MathJax.Hub.Config({SVG: {font: \"STIX-Web\"}});}</script>\n",
              "                <script type=\"text/javascript\">window.PlotlyConfig = {MathJaxConfig: 'local'};</script>\n",
              "        <script src=\"https://cdn.plot.ly/plotly-latest.min.js\"></script>    \n",
              "            <div id=\"6cd35d6d-bea2-416a-9f4d-15a6489b0c8e\" class=\"plotly-graph-div\" style=\"height:700px; width:700px;\"></div>\n",
              "            <script type=\"text/javascript\">\n",
              "                \n",
              "                    window.PLOTLYENV=window.PLOTLYENV || {};\n",
              "                    \n",
              "                if (document.getElementById(\"6cd35d6d-bea2-416a-9f4d-15a6489b0c8e\")) {\n",
              "                    Plotly.newPlot(\n",
              "                        '6cd35d6d-bea2-416a-9f4d-15a6489b0c8e',\n",
              "                        [{\"colorscale\": [[0.0, \"rgb(103,0,31)\"], [0.1, \"rgb(178,24,43)\"], [0.2, \"rgb(214,96,77)\"], [0.3, \"rgb(244,165,130)\"], [0.4, \"rgb(253,219,199)\"], [0.5, \"rgb(247,247,247)\"], [0.6, \"rgb(209,229,240)\"], [0.7, \"rgb(146,197,222)\"], [0.8, \"rgb(67,147,195)\"], [0.9, \"rgb(33,102,172)\"], [1.0, \"rgb(5,48,97)\"]], \"contours\": {\"end\": 0.98, \"size\": 0.005, \"start\": 0.85}, \"type\": \"contour\", \"x\": [2.0, 2.0, 2.0, 2.0, 2.0, 2.0, 2.0, 2.0, 2.0, 2.0, 2.0, 2.0, 2.0, 2.0, 2.0, 2.0, 2.0, 2.0, 2.0, 2.0, 2.0, 2.0, 2.0, 2.0, 2.0, 2.0, 2.0, 2.0, 2.0, 2.0, 2.0, 2.0, 2.0, 2.0, 2.0, 2.0, 2.0, 2.0, 2.0, 2.0, 2.0, 2.0, 2.0, 2.0, 2.0, 3.0, 3.0, 3.0, 3.0, 3.0, 3.0, 3.0, 3.0, 3.0, 3.0, 3.0, 3.0, 3.0, 3.0, 3.0, 3.0, 3.0, 3.0, 3.0, 3.0, 3.0, 3.0, 3.0, 3.0, 3.0, 3.0, 3.0, 3.0, 3.0, 3.0, 3.0, 3.0, 3.0, 3.0, 3.0, 3.0, 3.0, 3.0, 3.0, 3.0, 3.0, 3.0, 3.0, 3.0, 3.0, 3.0, 3.0, 3.0, 3.0, 3.0, 3.0, 3.0, 3.0, 3.0, 3.0, 3.0, 3.0, 3.0, 3.0, 3.0, 4.0, 4.0, 4.0, 4.0, 4.0, 4.0, 4.0, 4.0, 4.0, 4.0, 4.0, 4.0, 4.0, 4.0, 4.0, 4.0, 4.0, 4.0, 4.0, 4.0, 4.0, 4.0, 4.0, 4.0, 4.0, 4.0, 4.0, 4.0, 4.0, 4.0, 4.0, 4.0, 4.0, 4.0, 4.0, 4.0, 4.0, 4.0, 4.0, 4.0, 4.0, 4.0, 4.0, 4.0, 4.0, 4.0, 4.0, 4.0, 4.0, 4.0, 4.0, 4.0, 4.0, 4.0, 4.0, 4.0, 4.0, 4.0, 4.0, 4.0, 4.0, 4.0, 4.0, 4.0, 4.0, 4.0, 4.0, 4.0, 4.0, 4.0, 4.0, 4.0, 4.0, 4.0, 4.0, 5.0, 5.0, 5.0, 5.0, 5.0, 5.0, 5.0, 5.0, 5.0, 5.0, 5.0, 5.0, 5.0, 5.0, 5.0, 5.0, 5.0, 5.0, 5.0, 5.0, 5.0, 5.0, 5.0, 5.0, 5.0, 5.0, 5.0, 5.0, 5.0, 5.0, 5.0, 5.0, 5.0, 5.0, 5.0, 5.0, 5.0, 5.0, 5.0, 5.0, 5.0, 5.0, 5.0, 5.0, 5.0, 5.0, 5.0, 5.0, 5.0, 5.0, 5.0, 5.0, 5.0, 5.0, 5.0, 5.0, 5.0, 5.0, 5.0, 5.0, 5.0, 5.0, 5.0, 5.0, 5.0, 5.0, 5.0, 5.0, 5.0, 5.0, 5.0, 5.0, 5.0, 5.0, 5.0, 5.0, 5.0, 5.0, 5.0, 5.0, 5.0, 5.0, 5.0, 5.0, 5.0, 5.0, 5.0, 5.0, 5.0, 5.0, 6.0, 6.0, 6.0, 6.0, 6.0, 6.0, 6.0, 6.0, 6.0, 6.0, 6.0, 6.0, 6.0, 6.0, 6.0, 6.0, 6.0, 6.0, 6.0, 6.0, 6.0, 6.0, 6.0, 6.0, 6.0, 6.0, 6.0, 6.0, 6.0, 6.0, 6.0, 6.0, 6.0, 6.0, 6.0, 6.0, 6.0, 6.0, 6.0, 6.0, 6.0, 6.0, 6.0, 6.0, 6.0, 6.0, 6.0, 6.0, 6.0, 6.0, 6.0, 6.0, 6.0, 6.0, 6.0, 6.0, 6.0, 6.0, 6.0, 6.0, 6.0, 6.0, 6.0, 6.0, 6.0, 6.0, 6.0, 6.0, 6.0, 6.0, 6.0, 6.0, 6.0, 6.0, 6.0, 6.0, 6.0, 6.0, 6.0, 6.0, 6.0, 6.0, 6.0, 6.0, 6.0, 6.0, 6.0, 6.0, 6.0, 6.0, 6.0, 6.0, 6.0, 6.0, 6.0, 6.0, 6.0, 6.0, 6.0, 6.0, 6.0, 6.0, 6.0, 6.0, 6.0, 7.0, 7.0, 7.0, 7.0, 7.0, 7.0, 7.0, 7.0, 7.0, 7.0, 7.0, 7.0, 7.0, 7.0, 7.0, 7.0, 7.0, 7.0, 7.0, 7.0, 7.0, 7.0, 7.0, 7.0, 7.0, 7.0, 7.0, 7.0, 7.0, 7.0, 7.0, 7.0, 7.0, 7.0, 7.0, 7.0, 7.0, 7.0, 7.0, 7.0, 7.0, 7.0, 7.0, 7.0, 7.0, 7.0, 7.0, 7.0, 7.0, 7.0, 7.0, 7.0, 7.0, 7.0, 7.0, 7.0, 7.0, 7.0, 7.0, 7.0, 7.0, 7.0, 7.0, 7.0, 7.0, 7.0, 7.0, 7.0, 7.0, 7.0, 7.0, 7.0, 7.0, 7.0, 7.0, 7.0, 7.0, 7.0, 7.0, 7.0, 7.0, 7.0, 7.0, 7.0, 7.0, 7.0, 7.0, 7.0, 7.0, 7.0, 7.0, 7.0, 7.0, 7.0, 7.0, 7.0, 7.0, 7.0, 7.0, 7.0, 7.0, 7.0, 7.0, 7.0, 7.0, 7.0, 7.0, 7.0, 7.0, 7.0, 7.0, 7.0, 7.0, 7.0, 7.0, 7.0, 7.0, 7.0, 7.0, 7.0, 8.0, 8.0, 8.0, 8.0, 8.0, 8.0, 8.0, 8.0, 8.0, 8.0, 8.0, 8.0, 8.0, 8.0, 8.0, 8.0, 8.0, 8.0, 8.0, 8.0, 8.0, 8.0, 8.0, 8.0, 8.0, 8.0, 8.0, 8.0, 8.0, 8.0, 8.0, 8.0, 8.0, 8.0, 8.0, 8.0, 8.0, 8.0, 8.0, 8.0, 8.0, 8.0, 8.0, 8.0, 8.0, 8.0, 8.0, 8.0, 8.0, 8.0, 8.0, 8.0, 8.0, 8.0, 8.0, 8.0, 8.0, 8.0, 8.0, 8.0, 8.0, 8.0, 8.0, 8.0, 8.0, 8.0, 8.0, 8.0, 8.0, 8.0, 8.0, 8.0, 8.0, 8.0, 8.0, 8.0, 8.0, 8.0, 8.0, 8.0, 8.0, 8.0, 8.0, 8.0, 8.0, 8.0, 8.0, 8.0, 8.0, 8.0, 8.0, 8.0, 8.0, 8.0, 8.0, 8.0, 8.0, 8.0, 8.0, 8.0, 8.0, 8.0, 8.0, 8.0, 8.0, 8.0, 8.0, 8.0, 8.0, 8.0, 8.0, 8.0, 8.0, 8.0, 8.0, 8.0, 8.0, 8.0, 8.0, 8.0, 8.0, 8.0, 8.0, 8.0, 8.0, 8.0, 8.0, 8.0, 8.0, 8.0, 8.0, 8.0, 8.0, 8.0, 8.0, 9.0, 9.0, 9.0, 9.0, 9.0, 9.0, 9.0, 9.0, 9.0, 9.0, 9.0, 9.0, 9.0, 9.0, 9.0, 9.0, 9.0, 9.0, 9.0, 9.0, 9.0, 9.0, 9.0, 9.0, 9.0, 9.0, 9.0, 9.0, 9.0, 9.0, 9.0, 9.0, 9.0, 9.0, 9.0, 9.0, 9.0, 9.0, 9.0, 9.0, 9.0, 9.0, 9.0, 9.0, 9.0, 9.0, 9.0, 9.0, 9.0, 9.0, 9.0, 9.0, 9.0, 9.0, 9.0, 9.0, 9.0, 9.0, 9.0, 9.0, 9.0, 9.0, 9.0, 9.0, 9.0, 9.0, 9.0, 9.0, 9.0, 9.0, 9.0, 9.0, 9.0, 9.0, 9.0, 9.0, 9.0, 9.0, 9.0, 9.0, 9.0, 9.0, 9.0, 9.0, 9.0, 9.0, 9.0, 9.0, 9.0, 9.0, 9.0, 9.0, 9.0, 9.0, 9.0, 9.0, 9.0, 9.0, 9.0, 9.0, 9.0, 9.0, 9.0, 9.0, 9.0, 9.0, 9.0, 9.0, 9.0, 9.0, 9.0, 9.0, 9.0, 9.0, 9.0, 9.0, 9.0, 9.0, 9.0, 9.0, 9.0, 9.0, 9.0, 9.0, 9.0, 9.0, 9.0, 9.0, 9.0, 9.0, 9.0, 9.0, 9.0, 9.0, 9.0, 9.0, 9.0, 9.0, 9.0, 9.0, 9.0, 9.0, 9.0, 9.0, 9.0, 9.0, 9.0, 9.0, 9.0, 9.0, 10.0, 10.0, 10.0, 10.0, 10.0, 10.0, 10.0, 10.0, 10.0, 10.0, 10.0, 10.0, 10.0, 10.0, 10.0, 10.0, 10.0, 10.0, 10.0, 10.0, 10.0, 10.0, 10.0, 10.0, 10.0, 10.0, 10.0, 10.0, 10.0, 10.0, 10.0, 10.0, 10.0, 10.0, 10.0, 10.0, 10.0, 10.0, 10.0, 10.0, 10.0, 10.0, 10.0, 10.0, 10.0, 10.0, 10.0, 10.0, 10.0, 10.0, 10.0, 10.0, 10.0, 10.0, 10.0, 10.0, 10.0, 10.0, 10.0, 10.0, 10.0, 10.0, 10.0, 10.0, 10.0, 10.0, 10.0, 10.0, 10.0, 10.0, 10.0, 10.0, 10.0, 10.0, 10.0, 10.0, 10.0, 10.0, 10.0, 10.0, 10.0, 10.0, 10.0, 10.0, 10.0, 10.0, 10.0, 10.0, 10.0, 10.0, 10.0, 10.0, 10.0, 10.0, 10.0, 10.0, 10.0, 10.0, 10.0, 10.0, 10.0, 10.0, 10.0, 10.0, 10.0, 10.0, 10.0, 10.0, 10.0, 10.0, 10.0, 10.0, 10.0, 10.0, 10.0, 10.0, 10.0, 10.0, 10.0, 10.0, 10.0, 10.0, 10.0, 10.0, 10.0, 10.0, 10.0, 10.0, 10.0, 10.0, 10.0, 10.0, 10.0, 10.0, 10.0, 10.0, 10.0, 10.0, 10.0, 10.0, 10.0, 10.0, 10.0, 10.0, 10.0, 10.0, 10.0, 10.0, 10.0, 10.0, 10.0, 10.0, 10.0, 10.0, 10.0, 10.0, 10.0, 10.0, 10.0, 10.0, 10.0, 10.0, 10.0, 10.0, 10.0, 11.0, 11.0, 11.0, 11.0, 11.0, 11.0, 11.0, 11.0, 11.0, 11.0, 11.0, 11.0, 11.0, 11.0, 11.0, 11.0, 11.0, 11.0, 11.0, 11.0, 11.0, 11.0, 11.0, 11.0, 11.0, 11.0, 11.0, 11.0, 11.0, 11.0, 11.0, 11.0, 11.0, 11.0, 11.0, 11.0, 11.0, 11.0, 11.0, 11.0, 11.0, 11.0, 11.0, 11.0, 11.0, 11.0, 11.0, 11.0, 11.0, 11.0, 11.0, 11.0, 11.0, 11.0, 11.0, 11.0, 11.0, 11.0, 11.0, 11.0, 11.0, 11.0, 11.0, 11.0, 11.0, 11.0, 11.0, 11.0, 11.0, 11.0, 11.0, 11.0, 11.0, 11.0, 11.0, 11.0, 11.0, 11.0, 11.0, 11.0, 11.0, 11.0, 11.0, 11.0, 11.0, 11.0, 11.0, 11.0, 11.0, 11.0, 11.0, 11.0, 11.0, 11.0, 11.0, 11.0, 11.0, 11.0, 11.0, 11.0, 11.0, 11.0, 11.0, 11.0, 11.0, 11.0, 11.0, 11.0, 11.0, 11.0, 11.0, 11.0, 11.0, 11.0, 11.0, 11.0, 11.0, 11.0, 11.0, 11.0, 11.0, 11.0, 11.0, 11.0, 11.0, 11.0, 11.0, 11.0, 11.0, 11.0, 11.0, 11.0, 11.0, 11.0, 11.0, 11.0, 11.0, 11.0, 11.0, 11.0, 11.0, 11.0, 11.0, 11.0, 11.0, 11.0, 11.0, 11.0, 11.0, 11.0, 11.0, 11.0, 11.0, 11.0, 11.0, 11.0, 11.0, 11.0, 11.0, 11.0, 11.0, 11.0, 11.0, 11.0, 11.0, 11.0, 11.0, 11.0, 11.0, 11.0, 11.0, 11.0, 11.0, 11.0, 11.0, 11.0, 11.0, 11.0, 11.0, 11.0, 12.0, 12.0, 12.0, 12.0, 12.0, 12.0, 12.0, 12.0, 12.0, 12.0, 12.0, 12.0, 12.0, 12.0, 12.0, 12.0, 12.0, 12.0, 12.0, 12.0, 12.0, 12.0, 12.0, 12.0, 12.0, 12.0, 12.0, 12.0, 12.0, 12.0, 12.0, 12.0, 12.0, 12.0, 12.0, 12.0, 12.0, 12.0, 12.0, 12.0, 12.0, 12.0, 12.0, 12.0, 12.0, 12.0, 12.0, 12.0, 12.0, 12.0, 12.0, 12.0, 12.0, 12.0, 12.0, 12.0, 12.0, 12.0, 12.0, 12.0, 12.0, 12.0, 12.0, 12.0, 12.0, 12.0, 12.0, 12.0, 12.0, 12.0, 12.0, 12.0, 12.0, 12.0, 12.0, 12.0, 12.0, 12.0, 12.0, 12.0, 12.0, 12.0, 12.0, 12.0, 12.0, 12.0, 12.0, 12.0, 12.0, 12.0, 12.0, 12.0, 12.0, 12.0, 12.0, 12.0, 12.0, 12.0, 12.0, 12.0, 12.0, 12.0, 12.0, 12.0, 12.0, 12.0, 12.0, 12.0, 12.0, 12.0, 12.0, 12.0, 12.0, 12.0, 12.0, 12.0, 12.0, 12.0, 12.0, 12.0, 12.0, 12.0, 12.0, 12.0, 12.0, 12.0, 12.0, 12.0, 12.0, 12.0, 12.0, 12.0, 12.0, 12.0, 12.0, 12.0, 12.0, 12.0, 12.0, 12.0, 12.0, 12.0, 12.0, 12.0, 12.0, 12.0, 12.0, 12.0, 12.0, 12.0, 12.0, 12.0, 12.0, 12.0, 12.0, 12.0, 12.0, 12.0, 12.0, 12.0, 12.0, 12.0, 12.0, 12.0, 12.0, 12.0, 12.0, 12.0, 12.0, 12.0, 12.0, 12.0, 12.0, 12.0, 12.0, 12.0, 12.0, 12.0, 12.0, 12.0, 12.0, 12.0, 12.0, 12.0, 12.0, 12.0, 12.0, 12.0, 12.0, 12.0, 12.0, 12.0, 12.0, 12.0, 12.0], \"y\": [1.0, 0.5, 0.0, 1.0, 0.5, 0.0, 1.0, 0.5, 0.0, 1.0, 0.5, 0.0, 1.0, 0.5, 0.0, 1.0, 0.5, 0.0, 1.0, 0.5, 0.0, 1.0, 0.5, 0.0, 1.0, 0.5, 0.0, 1.0, 0.5, 0.0, 1.0, 0.5, 0.0, 1.0, 0.5, 0.0, 1.0, 0.5, 0.0, 1.0, 0.5, 0.0, 1.0, 0.5, 0.0, 1.0, 0.6666666666666666, 0.3333333333333333, 0.0, 1.0, 0.6666666666666666, 0.3333333333333333, 0.0, 1.0, 0.6666666666666666, 0.3333333333333333, 0.0, 1.0, 0.6666666666666666, 0.3333333333333333, 0.0, 1.0, 0.6666666666666666, 0.3333333333333333, 0.0, 1.0, 0.6666666666666666, 0.3333333333333333, 0.0, 1.0, 0.6666666666666666, 0.3333333333333333, 0.0, 1.0, 0.6666666666666666, 0.3333333333333333, 0.0, 1.0, 0.6666666666666666, 0.3333333333333333, 0.0, 1.0, 0.6666666666666666, 0.3333333333333333, 0.0, 1.0, 0.6666666666666666, 0.3333333333333333, 0.0, 1.0, 0.6666666666666666, 0.3333333333333333, 0.0, 1.0, 0.6666666666666666, 0.3333333333333333, 0.0, 1.0, 0.6666666666666666, 0.3333333333333333, 0.0, 1.0, 0.6666666666666666, 0.3333333333333333, 0.0, 1.0, 0.75, 0.5, 0.25, 0.0, 1.0, 0.75, 0.5, 0.25, 0.0, 1.0, 0.75, 0.5, 0.25, 0.0, 1.0, 0.75, 0.5, 0.25, 0.0, 1.0, 0.75, 0.5, 0.25, 0.0, 1.0, 0.75, 0.5, 0.25, 0.0, 1.0, 0.75, 0.5, 0.25, 0.0, 1.0, 0.75, 0.5, 0.25, 0.0, 1.0, 0.75, 0.5, 0.25, 0.0, 1.0, 0.75, 0.5, 0.25, 0.0, 1.0, 0.75, 0.5, 0.25, 0.0, 1.0, 0.75, 0.5, 0.25, 0.0, 1.0, 0.75, 0.5, 0.25, 0.0, 1.0, 0.75, 0.5, 0.25, 0.0, 1.0, 0.75, 0.5, 0.25, 0.0, 1.0, 0.8, 0.6, 0.4, 0.2, 0.0, 1.0, 0.8, 0.6, 0.4, 0.2, 0.0, 1.0, 0.8, 0.6, 0.4, 0.2, 0.0, 1.0, 0.8, 0.6, 0.4, 0.2, 0.0, 1.0, 0.8, 0.6, 0.4, 0.2, 0.0, 1.0, 0.8, 0.6, 0.4, 0.2, 0.0, 1.0, 0.8, 0.6, 0.4, 0.2, 0.0, 1.0, 0.8, 0.6, 0.4, 0.2, 0.0, 1.0, 0.8, 0.6, 0.4, 0.2, 0.0, 1.0, 0.8, 0.6, 0.4, 0.2, 0.0, 1.0, 0.8, 0.6, 0.4, 0.2, 0.0, 1.0, 0.8, 0.6, 0.4, 0.2, 0.0, 1.0, 0.8, 0.6, 0.4, 0.2, 0.0, 1.0, 0.8, 0.6, 0.4, 0.2, 0.0, 1.0, 0.8, 0.6, 0.4, 0.2, 0.0, 1.0, 0.8333333333333334, 0.6666666666666666, 0.5, 0.3333333333333333, 0.16666666666666666, 0.0, 1.0, 0.8333333333333334, 0.6666666666666666, 0.5, 0.3333333333333333, 0.16666666666666666, 0.0, 1.0, 0.8333333333333334, 0.6666666666666666, 0.5, 0.3333333333333333, 0.16666666666666666, 0.0, 1.0, 0.8333333333333334, 0.6666666666666666, 0.5, 0.3333333333333333, 0.16666666666666666, 0.0, 1.0, 0.8333333333333334, 0.6666666666666666, 0.5, 0.3333333333333333, 0.16666666666666666, 0.0, 1.0, 0.8333333333333334, 0.6666666666666666, 0.5, 0.3333333333333333, 0.16666666666666666, 0.0, 1.0, 0.8333333333333334, 0.6666666666666666, 0.5, 0.3333333333333333, 0.16666666666666666, 0.0, 1.0, 0.8333333333333334, 0.6666666666666666, 0.5, 0.3333333333333333, 0.16666666666666666, 0.0, 1.0, 0.8333333333333334, 0.6666666666666666, 0.5, 0.3333333333333333, 0.16666666666666666, 0.0, 1.0, 0.8333333333333334, 0.6666666666666666, 0.5, 0.3333333333333333, 0.16666666666666666, 0.0, 1.0, 0.8333333333333334, 0.6666666666666666, 0.5, 0.3333333333333333, 0.16666666666666666, 0.0, 1.0, 0.8333333333333334, 0.6666666666666666, 0.5, 0.3333333333333333, 0.16666666666666666, 0.0, 1.0, 0.8333333333333334, 0.6666666666666666, 0.5, 0.3333333333333333, 0.16666666666666666, 0.0, 1.0, 0.8333333333333334, 0.6666666666666666, 0.5, 0.3333333333333333, 0.16666666666666666, 0.0, 1.0, 0.8333333333333334, 0.6666666666666666, 0.5, 0.3333333333333333, 0.16666666666666666, 0.0, 1.0, 0.8571428571428571, 0.7142857142857143, 0.5714285714285714, 0.42857142857142855, 0.2857142857142857, 0.14285714285714285, 0.0, 1.0, 0.8571428571428571, 0.7142857142857143, 0.5714285714285714, 0.42857142857142855, 0.2857142857142857, 0.14285714285714285, 0.0, 1.0, 0.8571428571428571, 0.7142857142857143, 0.5714285714285714, 0.42857142857142855, 0.2857142857142857, 0.14285714285714285, 0.0, 1.0, 0.8571428571428571, 0.7142857142857143, 0.5714285714285714, 0.42857142857142855, 0.2857142857142857, 0.14285714285714285, 0.0, 1.0, 0.8571428571428571, 0.7142857142857143, 0.5714285714285714, 0.42857142857142855, 0.2857142857142857, 0.14285714285714285, 0.0, 1.0, 0.8571428571428571, 0.7142857142857143, 0.5714285714285714, 0.42857142857142855, 0.2857142857142857, 0.14285714285714285, 0.0, 1.0, 0.8571428571428571, 0.7142857142857143, 0.5714285714285714, 0.42857142857142855, 0.2857142857142857, 0.14285714285714285, 0.0, 1.0, 0.8571428571428571, 0.7142857142857143, 0.5714285714285714, 0.42857142857142855, 0.2857142857142857, 0.14285714285714285, 0.0, 1.0, 0.8571428571428571, 0.7142857142857143, 0.5714285714285714, 0.42857142857142855, 0.2857142857142857, 0.14285714285714285, 0.0, 1.0, 0.8571428571428571, 0.7142857142857143, 0.5714285714285714, 0.42857142857142855, 0.2857142857142857, 0.14285714285714285, 0.0, 1.0, 0.8571428571428571, 0.7142857142857143, 0.5714285714285714, 0.42857142857142855, 0.2857142857142857, 0.14285714285714285, 0.0, 1.0, 0.8571428571428571, 0.7142857142857143, 0.5714285714285714, 0.42857142857142855, 0.2857142857142857, 0.14285714285714285, 0.0, 1.0, 0.8571428571428571, 0.7142857142857143, 0.5714285714285714, 0.42857142857142855, 0.2857142857142857, 0.14285714285714285, 0.0, 1.0, 0.8571428571428571, 0.7142857142857143, 0.5714285714285714, 0.42857142857142855, 0.2857142857142857, 0.14285714285714285, 0.0, 1.0, 0.8571428571428571, 0.7142857142857143, 0.5714285714285714, 0.42857142857142855, 0.2857142857142857, 0.14285714285714285, 0.0, 1.0, 0.875, 0.75, 0.625, 0.5, 0.375, 0.25, 0.125, 0.0, 1.0, 0.875, 0.75, 0.625, 0.5, 0.375, 0.25, 0.125, 0.0, 1.0, 0.875, 0.75, 0.625, 0.5, 0.375, 0.25, 0.125, 0.0, 1.0, 0.875, 0.75, 0.625, 0.5, 0.375, 0.25, 0.125, 0.0, 1.0, 0.875, 0.75, 0.625, 0.5, 0.375, 0.25, 0.125, 0.0, 1.0, 0.875, 0.75, 0.625, 0.5, 0.375, 0.25, 0.125, 0.0, 1.0, 0.875, 0.75, 0.625, 0.5, 0.375, 0.25, 0.125, 0.0, 1.0, 0.875, 0.75, 0.625, 0.5, 0.375, 0.25, 0.125, 0.0, 1.0, 0.875, 0.75, 0.625, 0.5, 0.375, 0.25, 0.125, 0.0, 1.0, 0.875, 0.75, 0.625, 0.5, 0.375, 0.25, 0.125, 0.0, 1.0, 0.875, 0.75, 0.625, 0.5, 0.375, 0.25, 0.125, 0.0, 1.0, 0.875, 0.75, 0.625, 0.5, 0.375, 0.25, 0.125, 0.0, 1.0, 0.875, 0.75, 0.625, 0.5, 0.375, 0.25, 0.125, 0.0, 1.0, 0.875, 0.75, 0.625, 0.5, 0.375, 0.25, 0.125, 0.0, 1.0, 0.875, 0.75, 0.625, 0.5, 0.375, 0.25, 0.125, 0.0, 1.0, 0.8888888888888888, 0.7777777777777778, 0.6666666666666666, 0.5555555555555556, 0.4444444444444444, 0.3333333333333333, 0.2222222222222222, 0.1111111111111111, 0.0, 1.0, 0.8888888888888888, 0.7777777777777778, 0.6666666666666666, 0.5555555555555556, 0.4444444444444444, 0.3333333333333333, 0.2222222222222222, 0.1111111111111111, 0.0, 1.0, 0.8888888888888888, 0.7777777777777778, 0.6666666666666666, 0.5555555555555556, 0.4444444444444444, 0.3333333333333333, 0.2222222222222222, 0.1111111111111111, 0.0, 1.0, 0.8888888888888888, 0.7777777777777778, 0.6666666666666666, 0.5555555555555556, 0.4444444444444444, 0.3333333333333333, 0.2222222222222222, 0.1111111111111111, 0.0, 1.0, 0.8888888888888888, 0.7777777777777778, 0.6666666666666666, 0.5555555555555556, 0.4444444444444444, 0.3333333333333333, 0.2222222222222222, 0.1111111111111111, 0.0, 1.0, 0.8888888888888888, 0.7777777777777778, 0.6666666666666666, 0.5555555555555556, 0.4444444444444444, 0.3333333333333333, 0.2222222222222222, 0.1111111111111111, 0.0, 1.0, 0.8888888888888888, 0.7777777777777778, 0.6666666666666666, 0.5555555555555556, 0.4444444444444444, 0.3333333333333333, 0.2222222222222222, 0.1111111111111111, 0.0, 1.0, 0.8888888888888888, 0.7777777777777778, 0.6666666666666666, 0.5555555555555556, 0.4444444444444444, 0.3333333333333333, 0.2222222222222222, 0.1111111111111111, 0.0, 1.0, 0.8888888888888888, 0.7777777777777778, 0.6666666666666666, 0.5555555555555556, 0.4444444444444444, 0.3333333333333333, 0.2222222222222222, 0.1111111111111111, 0.0, 1.0, 0.8888888888888888, 0.7777777777777778, 0.6666666666666666, 0.5555555555555556, 0.4444444444444444, 0.3333333333333333, 0.2222222222222222, 0.1111111111111111, 0.0, 1.0, 0.8888888888888888, 0.7777777777777778, 0.6666666666666666, 0.5555555555555556, 0.4444444444444444, 0.3333333333333333, 0.2222222222222222, 0.1111111111111111, 0.0, 1.0, 0.8888888888888888, 0.7777777777777778, 0.6666666666666666, 0.5555555555555556, 0.4444444444444444, 0.3333333333333333, 0.2222222222222222, 0.1111111111111111, 0.0, 1.0, 0.8888888888888888, 0.7777777777777778, 0.6666666666666666, 0.5555555555555556, 0.4444444444444444, 0.3333333333333333, 0.2222222222222222, 0.1111111111111111, 0.0, 1.0, 0.8888888888888888, 0.7777777777777778, 0.6666666666666666, 0.5555555555555556, 0.4444444444444444, 0.3333333333333333, 0.2222222222222222, 0.1111111111111111, 0.0, 1.0, 0.8888888888888888, 0.7777777777777778, 0.6666666666666666, 0.5555555555555556, 0.4444444444444444, 0.3333333333333333, 0.2222222222222222, 0.1111111111111111, 0.0, 1.0, 0.9, 0.8, 0.7, 0.6, 0.5, 0.4, 0.3, 0.2, 0.1, 0.0, 1.0, 0.9, 0.8, 0.7, 0.6, 0.5, 0.4, 0.3, 0.2, 0.1, 0.0, 1.0, 0.9, 0.8, 0.7, 0.6, 0.5, 0.4, 0.3, 0.2, 0.1, 0.0, 1.0, 0.9, 0.8, 0.7, 0.6, 0.5, 0.4, 0.3, 0.2, 0.1, 0.0, 1.0, 0.9, 0.8, 0.7, 0.6, 0.5, 0.4, 0.3, 0.2, 0.1, 0.0, 1.0, 0.9, 0.8, 0.7, 0.6, 0.5, 0.4, 0.3, 0.2, 0.1, 0.0, 1.0, 0.9, 0.8, 0.7, 0.6, 0.5, 0.4, 0.3, 0.2, 0.1, 0.0, 1.0, 0.9, 0.8, 0.7, 0.6, 0.5, 0.4, 0.3, 0.2, 0.1, 0.0, 1.0, 0.9, 0.8, 0.7, 0.6, 0.5, 0.4, 0.3, 0.2, 0.1, 0.0, 1.0, 0.9, 0.8, 0.7, 0.6, 0.5, 0.4, 0.3, 0.2, 0.1, 0.0, 1.0, 0.9, 0.8, 0.7, 0.6, 0.5, 0.4, 0.3, 0.2, 0.1, 0.0, 1.0, 0.9, 0.8, 0.7, 0.6, 0.5, 0.4, 0.3, 0.2, 0.1, 0.0, 1.0, 0.9, 0.8, 0.7, 0.6, 0.5, 0.4, 0.3, 0.2, 0.1, 0.0, 1.0, 0.9, 0.8, 0.7, 0.6, 0.5, 0.4, 0.3, 0.2, 0.1, 0.0, 1.0, 0.9, 0.8, 0.7, 0.6, 0.5, 0.4, 0.3, 0.2, 0.1, 0.0, 1.0, 0.9090909090909091, 0.8181818181818182, 0.7272727272727273, 0.6363636363636364, 0.5454545454545454, 0.45454545454545453, 0.36363636363636365, 0.2727272727272727, 0.18181818181818182, 0.09090909090909091, 0.0, 1.0, 0.9090909090909091, 0.8181818181818182, 0.7272727272727273, 0.6363636363636364, 0.5454545454545454, 0.45454545454545453, 0.36363636363636365, 0.2727272727272727, 0.18181818181818182, 0.09090909090909091, 0.0, 1.0, 0.9090909090909091, 0.8181818181818182, 0.7272727272727273, 0.6363636363636364, 0.5454545454545454, 0.45454545454545453, 0.36363636363636365, 0.2727272727272727, 0.18181818181818182, 0.09090909090909091, 0.0, 1.0, 0.9090909090909091, 0.8181818181818182, 0.7272727272727273, 0.6363636363636364, 0.5454545454545454, 0.45454545454545453, 0.36363636363636365, 0.2727272727272727, 0.18181818181818182, 0.09090909090909091, 0.0, 1.0, 0.9090909090909091, 0.8181818181818182, 0.7272727272727273, 0.6363636363636364, 0.5454545454545454, 0.45454545454545453, 0.36363636363636365, 0.2727272727272727, 0.18181818181818182, 0.09090909090909091, 0.0, 1.0, 0.9090909090909091, 0.8181818181818182, 0.7272727272727273, 0.6363636363636364, 0.5454545454545454, 0.45454545454545453, 0.36363636363636365, 0.2727272727272727, 0.18181818181818182, 0.09090909090909091, 0.0, 1.0, 0.9090909090909091, 0.8181818181818182, 0.7272727272727273, 0.6363636363636364, 0.5454545454545454, 0.45454545454545453, 0.36363636363636365, 0.2727272727272727, 0.18181818181818182, 0.09090909090909091, 0.0, 1.0, 0.9090909090909091, 0.8181818181818182, 0.7272727272727273, 0.6363636363636364, 0.5454545454545454, 0.45454545454545453, 0.36363636363636365, 0.2727272727272727, 0.18181818181818182, 0.09090909090909091, 0.0, 1.0, 0.9090909090909091, 0.8181818181818182, 0.7272727272727273, 0.6363636363636364, 0.5454545454545454, 0.45454545454545453, 0.36363636363636365, 0.2727272727272727, 0.18181818181818182, 0.09090909090909091, 0.0, 1.0, 0.9090909090909091, 0.8181818181818182, 0.7272727272727273, 0.6363636363636364, 0.5454545454545454, 0.45454545454545453, 0.36363636363636365, 0.2727272727272727, 0.18181818181818182, 0.09090909090909091, 0.0, 1.0, 0.9090909090909091, 0.8181818181818182, 0.7272727272727273, 0.6363636363636364, 0.5454545454545454, 0.45454545454545453, 0.36363636363636365, 0.2727272727272727, 0.18181818181818182, 0.09090909090909091, 0.0, 1.0, 0.9090909090909091, 0.8181818181818182, 0.7272727272727273, 0.6363636363636364, 0.5454545454545454, 0.45454545454545453, 0.36363636363636365, 0.2727272727272727, 0.18181818181818182, 0.09090909090909091, 0.0, 1.0, 0.9090909090909091, 0.8181818181818182, 0.7272727272727273, 0.6363636363636364, 0.5454545454545454, 0.45454545454545453, 0.36363636363636365, 0.2727272727272727, 0.18181818181818182, 0.09090909090909091, 0.0, 1.0, 0.9090909090909091, 0.8181818181818182, 0.7272727272727273, 0.6363636363636364, 0.5454545454545454, 0.45454545454545453, 0.36363636363636365, 0.2727272727272727, 0.18181818181818182, 0.09090909090909091, 0.0, 1.0, 0.9090909090909091, 0.8181818181818182, 0.7272727272727273, 0.6363636363636364, 0.5454545454545454, 0.45454545454545453, 0.36363636363636365, 0.2727272727272727, 0.18181818181818182, 0.09090909090909091, 0.0, 1.0, 0.9166666666666666, 0.8333333333333334, 0.75, 0.6666666666666666, 0.5833333333333334, 0.5, 0.4166666666666667, 0.3333333333333333, 0.25, 0.16666666666666666, 0.08333333333333333, 0.0, 1.0, 0.9166666666666666, 0.8333333333333334, 0.75, 0.6666666666666666, 0.5833333333333334, 0.5, 0.4166666666666667, 0.3333333333333333, 0.25, 0.16666666666666666, 0.08333333333333333, 0.0, 1.0, 0.9166666666666666, 0.8333333333333334, 0.75, 0.6666666666666666, 0.5833333333333334, 0.5, 0.4166666666666667, 0.3333333333333333, 0.25, 0.16666666666666666, 0.08333333333333333, 0.0, 1.0, 0.9166666666666666, 0.8333333333333334, 0.75, 0.6666666666666666, 0.5833333333333334, 0.5, 0.4166666666666667, 0.3333333333333333, 0.25, 0.16666666666666666, 0.08333333333333333, 0.0, 1.0, 0.9166666666666666, 0.8333333333333334, 0.75, 0.6666666666666666, 0.5833333333333334, 0.5, 0.4166666666666667, 0.3333333333333333, 0.25, 0.16666666666666666, 0.08333333333333333, 0.0, 1.0, 0.9166666666666666, 0.8333333333333334, 0.75, 0.6666666666666666, 0.5833333333333334, 0.5, 0.4166666666666667, 0.3333333333333333, 0.25, 0.16666666666666666, 0.08333333333333333, 0.0, 1.0, 0.9166666666666666, 0.8333333333333334, 0.75, 0.6666666666666666, 0.5833333333333334, 0.5, 0.4166666666666667, 0.3333333333333333, 0.25, 0.16666666666666666, 0.08333333333333333, 0.0, 1.0, 0.9166666666666666, 0.8333333333333334, 0.75, 0.6666666666666666, 0.5833333333333334, 0.5, 0.4166666666666667, 0.3333333333333333, 0.25, 0.16666666666666666, 0.08333333333333333, 0.0, 1.0, 0.9166666666666666, 0.8333333333333334, 0.75, 0.6666666666666666, 0.5833333333333334, 0.5, 0.4166666666666667, 0.3333333333333333, 0.25, 0.16666666666666666, 0.08333333333333333, 0.0, 1.0, 0.9166666666666666, 0.8333333333333334, 0.75, 0.6666666666666666, 0.5833333333333334, 0.5, 0.4166666666666667, 0.3333333333333333, 0.25, 0.16666666666666666, 0.08333333333333333, 0.0, 1.0, 0.9166666666666666, 0.8333333333333334, 0.75, 0.6666666666666666, 0.5833333333333334, 0.5, 0.4166666666666667, 0.3333333333333333, 0.25, 0.16666666666666666, 0.08333333333333333, 0.0, 1.0, 0.9166666666666666, 0.8333333333333334, 0.75, 0.6666666666666666, 0.5833333333333334, 0.5, 0.4166666666666667, 0.3333333333333333, 0.25, 0.16666666666666666, 0.08333333333333333, 0.0, 1.0, 0.9166666666666666, 0.8333333333333334, 0.75, 0.6666666666666666, 0.5833333333333334, 0.5, 0.4166666666666667, 0.3333333333333333, 0.25, 0.16666666666666666, 0.08333333333333333, 0.0, 1.0, 0.9166666666666666, 0.8333333333333334, 0.75, 0.6666666666666666, 0.5833333333333334, 0.5, 0.4166666666666667, 0.3333333333333333, 0.25, 0.16666666666666666, 0.08333333333333333, 0.0, 1.0, 0.9166666666666666, 0.8333333333333334, 0.75, 0.6666666666666666, 0.5833333333333334, 0.5, 0.4166666666666667, 0.3333333333333333, 0.25, 0.16666666666666666, 0.08333333333333333, 0.0], \"z\": [0.9568764568764568, 0.9603729603729604, 0.9335664335664337, 0.9522144522144522, 0.9662004662004662, 0.9347319347319348, 0.9557109557109555, 0.9673659673659674, 0.9055944055944056, 0.9638694638694638, 0.9522144522144522, 0.8986013986013986, 0.9487179487179488, 0.9557109557109555, 0.9230769230769232, 0.958041958041958, 0.958041958041958, 0.9137529137529138, 0.9522144522144522, 0.958041958041958, 0.9055944055944056, 0.9557109557109555, 0.9557109557109555, 0.9312354312354312, 0.9487179487179488, 0.9615384615384616, 0.8671328671328671, 0.9545454545454546, 0.9452214452214452, 0.8636363636363636, 0.9533799533799534, 0.9615384615384616, 0.9230769230769232, 0.9638694638694638, 0.9452214452214452, 0.8100233100233101, 0.9475524475524476, 0.965034965034965, 0.8205128205128205, 0.9615384615384616, 0.9487179487179488, 0.9230769230769232, 0.9487179487179488, 0.9370629370629372, 0.8671328671328671, 0.9568764568764568, 0.9487179487179488, 0.9405594405594404, 0.9009324009324008, 0.9545454545454546, 0.951048951048951, 0.951048951048951, 0.8881118881118881, 0.9522144522144522, 0.9475524475524476, 0.9475524475524476, 0.9114219114219114, 0.9592074592074592, 0.9568764568764568, 0.9568764568764568, 0.9230769230769232, 0.9592074592074592, 0.9533799533799534, 0.9475524475524476, 0.8986013986013986, 0.958041958041958, 0.9603729603729604, 0.9289044289044288, 0.8916083916083916, 0.94988344988345, 0.9487179487179488, 0.9533799533799534, 0.8414918414918415, 0.958041958041958, 0.9603729603729604, 0.9463869463869464, 0.8857808857808858, 0.9522144522144522, 0.9592074592074592, 0.9673659673659674, 0.902097902097902, 0.94988344988345, 0.9615384615384616, 0.9463869463869464, 0.9254079254079254, 0.9592074592074592, 0.965034965034965, 0.9557109557109555, 0.93006993006993, 0.9533799533799534, 0.9592074592074592, 0.9487179487179488, 0.8857808857808858, 0.9557109557109555, 0.9545454545454546, 0.9160839160839158, 0.8916083916083916, 0.9568764568764568, 0.9662004662004662, 0.9277389277389276, 0.9160839160839158, 0.9545454545454546, 0.9627039627039627, 0.9475524475524476, 0.8997668997668997, 0.9568764568764568, 0.9603729603729604, 0.9463869463869464, 0.9522144522144522, 0.9324009324009324, 0.9615384615384616, 0.9638694638694638, 0.9673659673659674, 0.9417249417249416, 0.8787878787878788, 0.958041958041958, 0.9533799533799534, 0.9545454545454546, 0.944055944055944, 0.8846153846153846, 0.9557109557109555, 0.9592074592074592, 0.951048951048951, 0.9522144522144522, 0.9102564102564102, 0.9592074592074592, 0.9557109557109555, 0.9487179487179488, 0.935897435897436, 0.9184149184149184, 0.9522144522144522, 0.9627039627039627, 0.965034965034965, 0.9265734265734266, 0.93006993006993, 0.9662004662004662, 0.9673659673659674, 0.9557109557109555, 0.9487179487179488, 0.9184149184149184, 0.958041958041958, 0.9627039627039627, 0.9557109557109555, 0.9487179487179488, 0.9230769230769232, 0.9627039627039627, 0.9615384615384616, 0.9662004662004662, 0.93006993006993, 0.9172494172494172, 0.9545454545454546, 0.965034965034965, 0.9603729603729604, 0.9557109557109555, 0.9207459207459208, 0.9533799533799534, 0.9592074592074592, 0.9627039627039627, 0.9230769230769232, 0.9090909090909092, 0.9627039627039627, 0.9557109557109555, 0.9627039627039627, 0.9452214452214452, 0.9009324009324008, 0.9627039627039627, 0.9568764568764568, 0.9568764568764568, 0.9533799533799534, 0.9149184149184151, 0.9615384615384616, 0.9615384615384616, 0.951048951048951, 0.9428904428904428, 0.9312354312354312, 0.9568764568764568, 0.9603729603729604, 0.9463869463869464, 0.9522144522144522, 0.9090909090909092, 0.9592074592074592, 0.9568764568764568, 0.958041958041958, 0.9533799533799534, 0.9370629370629372, 0.907925407925408, 0.9627039627039627, 0.965034965034965, 0.9627039627039627, 0.9568764568764568, 0.9475524475524476, 0.9195804195804196, 0.958041958041958, 0.9603729603729604, 0.9627039627039627, 0.9603729603729604, 0.9370629370629372, 0.9195804195804196, 0.9603729603729604, 0.965034965034965, 0.9557109557109555, 0.965034965034965, 0.9405594405594404, 0.9312354312354312, 0.9615384615384616, 0.9568764568764568, 0.9533799533799534, 0.9533799533799534, 0.9277389277389276, 0.9347319347319348, 0.9638694638694638, 0.9638694638694638, 0.9557109557109555, 0.958041958041958, 0.9242424242424242, 0.9254079254079254, 0.965034965034965, 0.9568764568764568, 0.9627039627039627, 0.9568764568764568, 0.9452214452214452, 0.9172494172494172, 0.9638694638694638, 0.958041958041958, 0.9545454545454546, 0.9592074592074592, 0.9475524475524476, 0.9149184149184151, 0.9603729603729604, 0.965034965034965, 0.9603729603729604, 0.9592074592074592, 0.9417249417249416, 0.9370629370629372, 0.9533799533799534, 0.9592074592074592, 0.958041958041958, 0.9533799533799534, 0.9452214452214452, 0.9219114219114221, 0.9603729603729604, 0.9662004662004662, 0.9615384615384616, 0.958041958041958, 0.9475524475524476, 0.9242424242424242, 0.9615384615384616, 0.9638694638694638, 0.9638694638694638, 0.9673659673659674, 0.9254079254079254, 0.9242424242424242, 0.958041958041958, 0.9533799533799534, 0.9603729603729604, 0.9568764568764568, 0.951048951048951, 0.9125874125874126, 0.9673659673659674, 0.958041958041958, 0.9685314685314684, 0.9615384615384616, 0.9452214452214452, 0.93006993006993, 0.9638694638694638, 0.9568764568764568, 0.965034965034965, 0.9522144522144522, 0.935897435897436, 0.9137529137529138, 0.9627039627039627, 0.9592074592074592, 0.9638694638694638, 0.965034965034965, 0.9533799533799534, 0.9370629370629372, 0.9242424242424242, 0.9638694638694638, 0.9603729603729604, 0.958041958041958, 0.9662004662004662, 0.9533799533799534, 0.9428904428904428, 0.9277389277389276, 0.9545454545454546, 0.958041958041958, 0.9673659673659674, 0.9603729603729604, 0.94988344988345, 0.9475524475524476, 0.9324009324009324, 0.9638694638694638, 0.9696969696969696, 0.9603729603729604, 0.9731934731934732, 0.9638694638694638, 0.9487179487179488, 0.9265734265734266, 0.9557109557109555, 0.9557109557109555, 0.9638694638694638, 0.9673659673659674, 0.9545454545454546, 0.9405594405594404, 0.9289044289044288, 0.9557109557109555, 0.9557109557109555, 0.9696969696969696, 0.9638694638694638, 0.9487179487179488, 0.944055944055944, 0.9289044289044288, 0.9557109557109555, 0.9545454545454546, 0.9662004662004662, 0.9627039627039627, 0.9557109557109555, 0.9487179487179488, 0.9242424242424242, 0.958041958041958, 0.9592074592074592, 0.9592074592074592, 0.9662004662004662, 0.9615384615384616, 0.9393939393939394, 0.9324009324009324, 0.9603729603729604, 0.958041958041958, 0.9708624708624708, 0.9522144522144522, 0.9603729603729604, 0.9463869463869464, 0.9137529137529138, 0.9557109557109555, 0.9615384615384616, 0.9568764568764568, 0.958041958041958, 0.951048951048951, 0.9545454545454546, 0.9265734265734266, 0.9557109557109555, 0.9615384615384616, 0.9638694638694638, 0.9568764568764568, 0.9545454545454546, 0.9393939393939394, 0.9289044289044288, 0.965034965034965, 0.965034965034965, 0.9638694638694638, 0.9615384615384616, 0.9603729603729604, 0.9475524475524476, 0.9207459207459208, 0.9627039627039627, 0.9627039627039627, 0.9662004662004662, 0.958041958041958, 0.9557109557109555, 0.9347319347319348, 0.9207459207459208, 0.9615384615384616, 0.9685314685314684, 0.9557109557109555, 0.9627039627039627, 0.9545454545454546, 0.9393939393939394, 0.9312354312354312, 0.9627039627039627, 0.9662004662004662, 0.9603729603729604, 0.958041958041958, 0.9615384615384616, 0.9475524475524476, 0.8869463869463869, 0.9592074592074592, 0.9615384615384616, 0.9638694638694638, 0.9615384615384616, 0.958041958041958, 0.9568764568764568, 0.9312354312354312, 0.8986013986013986, 0.9592074592074592, 0.9592074592074592, 0.9638694638694638, 0.9603729603729604, 0.965034965034965, 0.9592074592074592, 0.9452214452214452, 0.9172494172494172, 0.958041958041958, 0.9627039627039627, 0.9662004662004662, 0.965034965034965, 0.9627039627039627, 0.9533799533799534, 0.9370629370629372, 0.9230769230769232, 0.958041958041958, 0.9638694638694638, 0.9615384615384616, 0.9685314685314684, 0.9696969696969696, 0.9463869463869464, 0.9393939393939394, 0.9160839160839158, 0.9533799533799534, 0.958041958041958, 0.958041958041958, 0.9638694638694638, 0.9731934731934732, 0.9592074592074592, 0.944055944055944, 0.9265734265734266, 0.9603729603729604, 0.9592074592074592, 0.9603729603729604, 0.965034965034965, 0.9662004662004662, 0.9393939393939394, 0.9335664335664337, 0.9184149184149184, 0.9557109557109555, 0.9603729603729604, 0.9557109557109555, 0.9638694638694638, 0.9568764568764568, 0.9545454545454546, 0.9463869463869464, 0.944055944055944, 0.9603729603729604, 0.9592074592074592, 0.9615384615384616, 0.9557109557109555, 0.9638694638694638, 0.9592074592074592, 0.9428904428904428, 0.9032634032634032, 0.9533799533799534, 0.965034965034965, 0.9662004662004662, 0.9603729603729604, 0.9696969696969696, 0.9475524475524476, 0.9417249417249416, 0.9219114219114221, 0.9603729603729604, 0.9603729603729604, 0.9696969696969696, 0.965034965034965, 0.965034965034965, 0.9522144522144522, 0.9522144522144522, 0.9184149184149184, 0.9557109557109555, 0.9603729603729604, 0.9545454545454546, 0.965034965034965, 0.958041958041958, 0.9615384615384616, 0.9312354312354312, 0.9184149184149184, 0.9673659673659674, 0.9615384615384616, 0.965034965034965, 0.9615384615384616, 0.9533799533799534, 0.9545454545454546, 0.9370629370629372, 0.9055944055944056, 0.9615384615384616, 0.9592074592074592, 0.965034965034965, 0.9685314685314684, 0.965034965034965, 0.9603729603729604, 0.9428904428904428, 0.9289044289044288, 0.9603729603729604, 0.9615384615384616, 0.9592074592074592, 0.9673659673659674, 0.9603729603729604, 0.9568764568764568, 0.9475524475524476, 0.9277389277389276, 0.958041958041958, 0.9627039627039627, 0.9662004662004662, 0.9592074592074592, 0.965034965034965, 0.9568764568764568, 0.9382284382284384, 0.9254079254079254, 0.958041958041958, 0.965034965034965, 0.958041958041958, 0.9627039627039627, 0.9557109557109555, 0.9627039627039627, 0.9557109557109555, 0.9522144522144522, 0.9149184149184151, 0.9627039627039627, 0.9662004662004662, 0.9568764568764568, 0.9638694638694638, 0.958041958041958, 0.9487179487179488, 0.9522144522144522, 0.9452214452214452, 0.9347319347319348, 0.9592074592074592, 0.9568764568764568, 0.9627039627039627, 0.9615384615384616, 0.9638694638694638, 0.958041958041958, 0.9557109557109555, 0.9522144522144522, 0.9265734265734266, 0.9603729603729604, 0.9568764568764568, 0.9627039627039627, 0.9708624708624708, 0.9708624708624708, 0.9545454545454546, 0.9545454545454546, 0.9324009324009324, 0.9254079254079254, 0.9533799533799534, 0.958041958041958, 0.9615384615384616, 0.9568764568764568, 0.9696969696969696, 0.965034965034965, 0.9603729603729604, 0.9475524475524476, 0.9382284382284384, 0.9592074592074592, 0.9603729603729604, 0.958041958041958, 0.9662004662004662, 0.958041958041958, 0.9627039627039627, 0.9557109557109555, 0.9370629370629372, 0.9277389277389276, 0.9568764568764568, 0.958041958041958, 0.965034965034965, 0.9627039627039627, 0.9603729603729604, 0.9557109557109555, 0.9557109557109555, 0.9347319347319348, 0.9265734265734266, 0.9533799533799534, 0.9638694638694638, 0.9568764568764568, 0.9662004662004662, 0.9662004662004662, 0.9627039627039627, 0.9557109557109555, 0.9428904428904428, 0.9265734265734266, 0.9545454545454546, 0.9638694638694638, 0.9603729603729604, 0.965034965034965, 0.965034965034965, 0.965034965034965, 0.9592074592074592, 0.9382284382284384, 0.9242424242424242, 0.9592074592074592, 0.9592074592074592, 0.9662004662004662, 0.9627039627039627, 0.9638694638694638, 0.965034965034965, 0.9557109557109555, 0.9393939393939394, 0.9335664335664337, 0.9592074592074592, 0.9592074592074592, 0.9662004662004662, 0.9627039627039627, 0.9603729603729604, 0.9557109557109555, 0.94988344988345, 0.9382284382284384, 0.9312354312354312, 0.9603729603729604, 0.9557109557109555, 0.9615384615384616, 0.9557109557109555, 0.9696969696969696, 0.9638694638694638, 0.9545454545454546, 0.9393939393939394, 0.9265734265734266, 0.9673659673659674, 0.9592074592074592, 0.9627039627039627, 0.9673659673659674, 0.9662004662004662, 0.9603729603729604, 0.94988344988345, 0.9428904428904428, 0.9207459207459208, 0.951048951048951, 0.9592074592074592, 0.9685314685314684, 0.9615384615384616, 0.9627039627039627, 0.965034965034965, 0.9592074592074592, 0.9393939393939394, 0.9230769230769232, 0.9568764568764568, 0.9592074592074592, 0.9603729603729604, 0.9673659673659674, 0.9720279720279721, 0.9662004662004662, 0.9463869463869464, 0.9452214452214452, 0.93006993006993, 0.9638694638694638, 0.9615384615384616, 0.9592074592074592, 0.9685314685314684, 0.9615384615384616, 0.9557109557109555, 0.9592074592074592, 0.9463869463869464, 0.9370629370629372, 0.9230769230769232, 0.9615384615384616, 0.9592074592074592, 0.9662004662004662, 0.965034965034965, 0.9662004662004662, 0.9627039627039627, 0.9533799533799534, 0.9487179487179488, 0.9417249417249416, 0.9254079254079254, 0.9557109557109555, 0.9627039627039627, 0.9638694638694638, 0.9568764568764568, 0.958041958041958, 0.965034965034965, 0.958041958041958, 0.9545454545454546, 0.935897435897436, 0.9335664335664337, 0.9603729603729604, 0.9568764568764568, 0.9615384615384616, 0.965034965034965, 0.9603729603729604, 0.9627039627039627, 0.9627039627039627, 0.9592074592074592, 0.9324009324009324, 0.9195804195804196, 0.958041958041958, 0.9627039627039627, 0.9627039627039627, 0.9662004662004662, 0.9568764568764568, 0.958041958041958, 0.9487179487179488, 0.94988344988345, 0.9312354312354312, 0.9312354312354312, 0.9592074592074592, 0.9673659673659674, 0.9568764568764568, 0.9662004662004662, 0.9662004662004662, 0.9638694638694638, 0.9522144522144522, 0.9393939393939394, 0.951048951048951, 0.9289044289044288, 0.9557109557109555, 0.9592074592074592, 0.9568764568764568, 0.9662004662004662, 0.9673659673659674, 0.9638694638694638, 0.9638694638694638, 0.9452214452214452, 0.9324009324009324, 0.9277389277389276, 0.9603729603729604, 0.9638694638694638, 0.9615384615384616, 0.965034965034965, 0.9568764568764568, 0.9557109557109555, 0.965034965034965, 0.9557109557109555, 0.9393939393939394, 0.9230769230769232, 0.9592074592074592, 0.9627039627039627, 0.9592074592074592, 0.9615384615384616, 0.9685314685314684, 0.9638694638694638, 0.9592074592074592, 0.9557109557109555, 0.9417249417249416, 0.93006993006993, 0.9545454545454546, 0.9603729603729604, 0.9533799533799534, 0.9662004662004662, 0.9592074592074592, 0.9627039627039627, 0.958041958041958, 0.94988344988345, 0.9370629370629372, 0.9277389277389276, 0.9603729603729604, 0.9545454545454546, 0.958041958041958, 0.9638694638694638, 0.9662004662004662, 0.965034965034965, 0.9592074592074592, 0.9463869463869464, 0.9452214452214452, 0.9230769230769232, 0.9615384615384616, 0.9557109557109555, 0.9638694638694638, 0.9627039627039627, 0.9615384615384616, 0.9638694638694638, 0.9615384615384616, 0.9545454545454546, 0.951048951048951, 0.9265734265734266, 0.9545454545454546, 0.9557109557109555, 0.9615384615384616, 0.9638694638694638, 0.9662004662004662, 0.9603729603729604, 0.9603729603729604, 0.9545454545454546, 0.9393939393939394, 0.9242424242424242, 0.9603729603729604, 0.958041958041958, 0.9673659673659674, 0.965034965034965, 0.9638694638694638, 0.9627039627039627, 0.9638694638694638, 0.958041958041958, 0.951048951048951, 0.9207459207459208, 0.958041958041958, 0.9627039627039627, 0.9592074592074592, 0.965034965034965, 0.9615384615384616, 0.9557109557109555, 0.9545454545454546, 0.9452214452214452, 0.9405594405594404, 0.9254079254079254, 0.9545454545454546, 0.9615384615384616, 0.9627039627039627, 0.9592074592074592, 0.9638694638694638, 0.9592074592074592, 0.9662004662004662, 0.9638694638694638, 0.951048951048951, 0.93006993006993, 0.9195804195804196, 0.9568764568764568, 0.9627039627039627, 0.9592074592074592, 0.9592074592074592, 0.9592074592074592, 0.965034965034965, 0.9592074592074592, 0.9615384615384616, 0.958041958041958, 0.9405594405594404, 0.9230769230769232, 0.9603729603729604, 0.9603729603729604, 0.965034965034965, 0.9627039627039627, 0.9615384615384616, 0.9627039627039627, 0.9685314685314684, 0.9568764568764568, 0.951048951048951, 0.93006993006993, 0.9324009324009324, 0.9603729603729604, 0.9673659673659674, 0.9557109557109555, 0.965034965034965, 0.9685314685314684, 0.9627039627039627, 0.9615384615384616, 0.9603729603729604, 0.958041958041958, 0.9312354312354312, 0.9242424242424242, 0.9615384615384616, 0.9603729603729604, 0.9615384615384616, 0.9685314685314684, 0.9696969696969696, 0.9638694638694638, 0.9615384615384616, 0.9522144522144522, 0.9463869463869464, 0.93006993006993, 0.9242424242424242, 0.9557109557109555, 0.9592074592074592, 0.9568764568764568, 0.9638694638694638, 0.9615384615384616, 0.9662004662004662, 0.9685314685314684, 0.958041958041958, 0.94988344988345, 0.9324009324009324, 0.9265734265734266, 0.9615384615384616, 0.9568764568764568, 0.9627039627039627, 0.9545454545454546, 0.9627039627039627, 0.9662004662004662, 0.9568764568764568, 0.958041958041958, 0.94988344988345, 0.9370629370629372, 0.9172494172494172, 0.9615384615384616, 0.9638694638694638, 0.9603729603729604, 0.958041958041958, 0.9557109557109555, 0.965034965034965, 0.9592074592074592, 0.9603729603729604, 0.9533799533799534, 0.9382284382284384, 0.9207459207459208, 0.9592074592074592, 0.9638694638694638, 0.9592074592074592, 0.9638694638694638, 0.9615384615384616, 0.965034965034965, 0.9638694638694638, 0.9627039627039627, 0.94988344988345, 0.935897435897436, 0.9289044289044288, 0.9568764568764568, 0.9615384615384616, 0.958041958041958, 0.9673659673659674, 0.9662004662004662, 0.9603729603729604, 0.9673659673659674, 0.9557109557109555, 0.94988344988345, 0.9428904428904428, 0.9219114219114221, 0.9615384615384616, 0.9557109557109555, 0.9638694638694638, 0.9662004662004662, 0.9592074592074592, 0.9615384615384616, 0.9685314685314684, 0.9545454545454546, 0.9475524475524476, 0.9347319347319348, 0.9219114219114221, 0.958041958041958, 0.9592074592074592, 0.9662004662004662, 0.9662004662004662, 0.9603729603729604, 0.9615384615384616, 0.9615384615384616, 0.958041958041958, 0.9533799533799534, 0.9417249417249416, 0.9184149184149184, 0.9615384615384616, 0.9627039627039627, 0.9592074592074592, 0.9592074592074592, 0.9638694638694638, 0.9696969696969696, 0.9638694638694638, 0.9545454545454546, 0.951048951048951, 0.9370629370629372, 0.9184149184149184, 0.9603729603729604, 0.9615384615384616, 0.9638694638694638, 0.9545454545454546, 0.9708624708624708, 0.9638694638694638, 0.9592074592074592, 0.9603729603729604, 0.9452214452214452, 0.9370629370629372, 0.9265734265734266, 0.9627039627039627, 0.9592074592074592, 0.9638694638694638, 0.9627039627039627, 0.9615384615384616, 0.9522144522144522, 0.9615384615384616, 0.9522144522144522, 0.944055944055944, 0.9417249417249416, 0.9242424242424242, 0.958041958041958, 0.9615384615384616, 0.9603729603729604, 0.965034965034965, 0.9627039627039627, 0.9627039627039627, 0.9615384615384616, 0.9533799533799534, 0.9615384615384616, 0.951048951048951, 0.9452214452214452, 0.9242424242424242, 0.9557109557109555, 0.9592074592074592, 0.965034965034965, 0.9603729603729604, 0.9673659673659674, 0.9627039627039627, 0.9568764568764568, 0.9627039627039627, 0.9463869463869464, 0.9463869463869464, 0.9382284382284384, 0.9242424242424242, 0.965034965034965, 0.9662004662004662, 0.9603729603729604, 0.9627039627039627, 0.9627039627039627, 0.9685314685314684, 0.9662004662004662, 0.965034965034965, 0.9592074592074592, 0.9475524475524476, 0.9277389277389276, 0.9289044289044288, 0.9557109557109555, 0.9603729603729604, 0.9627039627039627, 0.9638694638694638, 0.9603729603729604, 0.9743589743589745, 0.9638694638694638, 0.9592074592074592, 0.9603729603729604, 0.94988344988345, 0.9405594405594404, 0.9254079254079254, 0.9568764568764568, 0.9603729603729604, 0.9557109557109555, 0.9627039627039627, 0.9662004662004662, 0.9603729603729604, 0.9696969696969696, 0.9638694638694638, 0.9603729603729604, 0.9475524475524476, 0.9428904428904428, 0.9277389277389276, 0.9615384615384616, 0.9603729603729604, 0.9603729603729604, 0.9603729603729604, 0.9638694638694638, 0.9627039627039627, 0.9662004662004662, 0.9603729603729604, 0.958041958041958, 0.944055944055944, 0.9335664335664337, 0.9242424242424242, 0.9627039627039627, 0.9638694638694638, 0.965034965034965, 0.9592074592074592, 0.9673659673659674, 0.9603729603729604, 0.9638694638694638, 0.958041958041958, 0.9533799533799534, 0.951048951048951, 0.944055944055944, 0.9254079254079254, 0.9592074592074592, 0.9568764568764568, 0.9662004662004662, 0.9568764568764568, 0.9615384615384616, 0.9696969696969696, 0.9627039627039627, 0.9685314685314684, 0.9533799533799534, 0.9463869463869464, 0.93006993006993, 0.9242424242424242, 0.9638694638694638, 0.9627039627039627, 0.9627039627039627, 0.9603729603729604, 0.9638694638694638, 0.965034965034965, 0.9696969696969696, 0.9615384615384616, 0.9603729603729604, 0.9428904428904428, 0.9370629370629372, 0.9254079254079254, 0.9533799533799534, 0.9592074592074592, 0.9615384615384616, 0.9638694638694638, 0.965034965034965, 0.9673659673659674, 0.9662004662004662, 0.9603729603729604, 0.9568764568764568, 0.9522144522144522, 0.93006993006993, 0.9277389277389276, 0.9533799533799534, 0.9557109557109555, 0.9638694638694638, 0.9592074592074592, 0.9615384615384616, 0.9603729603729604, 0.9638694638694638, 0.94988344988345, 0.9568764568764568, 0.9533799533799534, 0.9324009324009324, 0.9277389277389276, 0.958041958041958, 0.9557109557109555, 0.958041958041958, 0.9627039627039627, 0.9673659673659674, 0.9627039627039627, 0.9568764568764568, 0.9673659673659674, 0.9545454545454546, 0.9545454545454546, 0.9417249417249416, 0.9242424242424242, 0.9568764568764568, 0.9615384615384616, 0.965034965034965, 0.9638694638694638, 0.965034965034965, 0.9603729603729604, 0.9662004662004662, 0.958041958041958, 0.9592074592074592, 0.9522144522144522, 0.9463869463869464, 0.9242424242424242, 0.9568764568764568, 0.9627039627039627, 0.9603729603729604, 0.9603729603729604, 0.9662004662004662, 0.9638694638694638, 0.9615384615384616, 0.965034965034965, 0.9533799533799534, 0.9487179487179488, 0.9347319347319348, 0.9289044289044288, 0.9568764568764568, 0.9615384615384616, 0.9696969696969696, 0.9615384615384616, 0.9627039627039627, 0.9638694638694638, 0.9615384615384616, 0.9638694638694638, 0.9603729603729604, 0.94988344988345, 0.9393939393939394, 0.9289044289044288, 0.9615384615384616, 0.9615384615384616, 0.9627039627039627, 0.9673659673659674, 0.9627039627039627, 0.9638694638694638, 0.9615384615384616, 0.9673659673659674, 0.9638694638694638, 0.9568764568764568, 0.9393939393939394, 0.9393939393939394, 0.9265734265734266, 0.9603729603729604, 0.9615384615384616, 0.9638694638694638, 0.9662004662004662, 0.9638694638694638, 0.9673659673659674, 0.9662004662004662, 0.9627039627039627, 0.958041958041958, 0.9533799533799534, 0.9463869463869464, 0.9324009324009324, 0.9265734265734266, 0.958041958041958, 0.9615384615384616, 0.9627039627039627, 0.9603729603729604, 0.9568764568764568, 0.9603729603729604, 0.9627039627039627, 0.9627039627039627, 0.9568764568764568, 0.958041958041958, 0.9545454545454546, 0.9335664335664337, 0.9265734265734266, 0.9615384615384616, 0.958041958041958, 0.9545454545454546, 0.9638694638694638, 0.9557109557109555, 0.9662004662004662, 0.9615384615384616, 0.9638694638694638, 0.9522144522144522, 0.9592074592074592, 0.9533799533799534, 0.9347319347319348, 0.9265734265734266, 0.9568764568764568, 0.9557109557109555, 0.9592074592074592, 0.9685314685314684, 0.965034965034965, 0.9662004662004662, 0.9662004662004662, 0.965034965034965, 0.9662004662004662, 0.9568764568764568, 0.94988344988345, 0.9393939393939394, 0.9265734265734266, 0.9627039627039627, 0.9615384615384616, 0.9603729603729604, 0.9685314685314684, 0.9627039627039627, 0.9638694638694638, 0.9673659673659674, 0.9568764568764568, 0.9568764568764568, 0.9627039627039627, 0.9463869463869464, 0.9324009324009324, 0.9265734265734266, 0.958041958041958, 0.9615384615384616, 0.9638694638694638, 0.9662004662004662, 0.9638694638694638, 0.965034965034965, 0.9662004662004662, 0.951048951048951, 0.958041958041958, 0.958041958041958, 0.9417249417249416, 0.9370629370629372, 0.9265734265734266, 0.9603729603729604, 0.9603729603729604, 0.9638694638694638, 0.9615384615384616, 0.9603729603729604, 0.9638694638694638, 0.9627039627039627, 0.9627039627039627, 0.9615384615384616, 0.9592074592074592, 0.9522144522144522, 0.9405594405594404, 0.9265734265734266, 0.9592074592074592, 0.958041958041958, 0.9533799533799534, 0.9627039627039627, 0.965034965034965, 0.9662004662004662, 0.965034965034965, 0.9568764568764568, 0.9615384615384616, 0.9545454545454546, 0.94988344988345, 0.935897435897436, 0.9265734265734266, 0.9603729603729604, 0.9615384615384616, 0.9662004662004662, 0.965034965034965, 0.9638694638694638, 0.965034965034965, 0.9685314685314684, 0.9638694638694638, 0.958041958041958, 0.958041958041958, 0.9452214452214452, 0.9347319347319348, 0.9265734265734266, 0.9592074592074592, 0.9627039627039627, 0.958041958041958, 0.9615384615384616, 0.965034965034965, 0.9615384615384616, 0.965034965034965, 0.9627039627039627, 0.9603729603729604, 0.9557109557109555, 0.9417249417249416, 0.9382284382284384, 0.9265734265734266, 0.9603729603729604, 0.9533799533799534, 0.965034965034965, 0.9638694638694638, 0.965034965034965, 0.9615384615384616, 0.9592074592074592, 0.9638694638694638, 0.9603729603729604, 0.9592074592074592, 0.9417249417249416, 0.9393939393939394, 0.9265734265734266, 0.9603729603729604, 0.9615384615384616, 0.9662004662004662, 0.9638694638694638, 0.9696969696969696, 0.9685314685314684, 0.958041958041958, 0.9627039627039627, 0.9627039627039627, 0.9603729603729604, 0.9452214452214452, 0.9393939393939394, 0.9265734265734266, 0.9568764568764568, 0.9627039627039627, 0.9603729603729604, 0.9685314685314684, 0.9673659673659674, 0.9662004662004662, 0.9638694638694638, 0.9603729603729604, 0.9592074592074592, 0.9638694638694638, 0.9428904428904428, 0.9335664335664337, 0.9265734265734266, 0.958041958041958, 0.9638694638694638, 0.9592074592074592, 0.9615384615384616, 0.9638694638694638, 0.9696969696969696, 0.9638694638694638, 0.958041958041958, 0.9615384615384616, 0.9533799533799534, 0.9463869463869464, 0.935897435897436, 0.9265734265734266]}],\n",
              "                        {\"autosize\": false, \"height\": 700, \"margin\": {\"b\": 100, \"l\": 50, \"pad\": 4, \"r\": 50, \"t\": 100}, \"paper_bgcolor\": \"White\", \"template\": {\"data\": {\"bar\": [{\"error_x\": {\"color\": \"#2a3f5f\"}, \"error_y\": {\"color\": \"#2a3f5f\"}, \"marker\": {\"line\": {\"color\": \"#E5ECF6\", \"width\": 0.5}}, \"type\": \"bar\"}], \"barpolar\": [{\"marker\": {\"line\": {\"color\": \"#E5ECF6\", \"width\": 0.5}}, \"type\": \"barpolar\"}], \"carpet\": [{\"aaxis\": {\"endlinecolor\": \"#2a3f5f\", \"gridcolor\": \"white\", \"linecolor\": \"white\", \"minorgridcolor\": \"white\", \"startlinecolor\": \"#2a3f5f\"}, \"baxis\": {\"endlinecolor\": \"#2a3f5f\", \"gridcolor\": \"white\", \"linecolor\": \"white\", \"minorgridcolor\": \"white\", \"startlinecolor\": \"#2a3f5f\"}, \"type\": \"carpet\"}], \"choropleth\": [{\"colorbar\": {\"outlinewidth\": 0, \"ticks\": \"\"}, \"type\": \"choropleth\"}], \"contour\": [{\"colorbar\": {\"outlinewidth\": 0, \"ticks\": \"\"}, \"colorscale\": [[0.0, \"#0d0887\"], [0.1111111111111111, \"#46039f\"], [0.2222222222222222, \"#7201a8\"], [0.3333333333333333, \"#9c179e\"], [0.4444444444444444, \"#bd3786\"], [0.5555555555555556, \"#d8576b\"], [0.6666666666666666, \"#ed7953\"], [0.7777777777777778, \"#fb9f3a\"], [0.8888888888888888, \"#fdca26\"], [1.0, \"#f0f921\"]], \"type\": \"contour\"}], \"contourcarpet\": [{\"colorbar\": {\"outlinewidth\": 0, \"ticks\": \"\"}, \"type\": \"contourcarpet\"}], \"heatmap\": [{\"colorbar\": {\"outlinewidth\": 0, \"ticks\": \"\"}, \"colorscale\": [[0.0, \"#0d0887\"], [0.1111111111111111, \"#46039f\"], [0.2222222222222222, \"#7201a8\"], [0.3333333333333333, \"#9c179e\"], [0.4444444444444444, \"#bd3786\"], [0.5555555555555556, \"#d8576b\"], [0.6666666666666666, \"#ed7953\"], [0.7777777777777778, \"#fb9f3a\"], [0.8888888888888888, \"#fdca26\"], [1.0, \"#f0f921\"]], \"type\": \"heatmap\"}], \"heatmapgl\": [{\"colorbar\": {\"outlinewidth\": 0, \"ticks\": \"\"}, \"colorscale\": [[0.0, \"#0d0887\"], [0.1111111111111111, \"#46039f\"], [0.2222222222222222, \"#7201a8\"], [0.3333333333333333, \"#9c179e\"], [0.4444444444444444, \"#bd3786\"], [0.5555555555555556, \"#d8576b\"], [0.6666666666666666, \"#ed7953\"], [0.7777777777777778, \"#fb9f3a\"], [0.8888888888888888, \"#fdca26\"], [1.0, \"#f0f921\"]], \"type\": \"heatmapgl\"}], \"histogram\": [{\"marker\": {\"colorbar\": {\"outlinewidth\": 0, \"ticks\": \"\"}}, \"type\": \"histogram\"}], \"histogram2d\": [{\"colorbar\": {\"outlinewidth\": 0, \"ticks\": \"\"}, \"colorscale\": [[0.0, \"#0d0887\"], [0.1111111111111111, \"#46039f\"], [0.2222222222222222, \"#7201a8\"], [0.3333333333333333, \"#9c179e\"], [0.4444444444444444, \"#bd3786\"], [0.5555555555555556, \"#d8576b\"], [0.6666666666666666, \"#ed7953\"], [0.7777777777777778, \"#fb9f3a\"], [0.8888888888888888, \"#fdca26\"], [1.0, \"#f0f921\"]], \"type\": \"histogram2d\"}], \"histogram2dcontour\": [{\"colorbar\": {\"outlinewidth\": 0, \"ticks\": \"\"}, \"colorscale\": [[0.0, \"#0d0887\"], [0.1111111111111111, \"#46039f\"], [0.2222222222222222, \"#7201a8\"], [0.3333333333333333, \"#9c179e\"], [0.4444444444444444, \"#bd3786\"], [0.5555555555555556, \"#d8576b\"], [0.6666666666666666, \"#ed7953\"], [0.7777777777777778, \"#fb9f3a\"], [0.8888888888888888, \"#fdca26\"], [1.0, \"#f0f921\"]], \"type\": \"histogram2dcontour\"}], \"mesh3d\": [{\"colorbar\": {\"outlinewidth\": 0, \"ticks\": \"\"}, \"type\": \"mesh3d\"}], \"parcoords\": [{\"line\": {\"colorbar\": {\"outlinewidth\": 0, \"ticks\": \"\"}}, \"type\": \"parcoords\"}], \"pie\": [{\"automargin\": true, \"type\": \"pie\"}], \"scatter\": [{\"marker\": {\"colorbar\": {\"outlinewidth\": 0, \"ticks\": \"\"}}, \"type\": \"scatter\"}], \"scatter3d\": [{\"line\": {\"colorbar\": {\"outlinewidth\": 0, \"ticks\": \"\"}}, \"marker\": {\"colorbar\": {\"outlinewidth\": 0, \"ticks\": \"\"}}, \"type\": \"scatter3d\"}], \"scattercarpet\": [{\"marker\": {\"colorbar\": {\"outlinewidth\": 0, \"ticks\": \"\"}}, \"type\": \"scattercarpet\"}], \"scattergeo\": [{\"marker\": {\"colorbar\": {\"outlinewidth\": 0, \"ticks\": \"\"}}, \"type\": \"scattergeo\"}], \"scattergl\": [{\"marker\": {\"colorbar\": {\"outlinewidth\": 0, \"ticks\": \"\"}}, \"type\": \"scattergl\"}], \"scattermapbox\": [{\"marker\": {\"colorbar\": {\"outlinewidth\": 0, \"ticks\": \"\"}}, \"type\": \"scattermapbox\"}], \"scatterpolar\": [{\"marker\": {\"colorbar\": {\"outlinewidth\": 0, \"ticks\": \"\"}}, \"type\": \"scatterpolar\"}], \"scatterpolargl\": [{\"marker\": {\"colorbar\": {\"outlinewidth\": 0, \"ticks\": \"\"}}, \"type\": \"scatterpolargl\"}], \"scatterternary\": [{\"marker\": {\"colorbar\": {\"outlinewidth\": 0, \"ticks\": \"\"}}, \"type\": \"scatterternary\"}], \"surface\": [{\"colorbar\": {\"outlinewidth\": 0, \"ticks\": \"\"}, \"colorscale\": [[0.0, \"#0d0887\"], [0.1111111111111111, \"#46039f\"], [0.2222222222222222, \"#7201a8\"], [0.3333333333333333, \"#9c179e\"], [0.4444444444444444, \"#bd3786\"], [0.5555555555555556, \"#d8576b\"], [0.6666666666666666, \"#ed7953\"], [0.7777777777777778, \"#fb9f3a\"], [0.8888888888888888, \"#fdca26\"], [1.0, \"#f0f921\"]], \"type\": \"surface\"}], \"table\": [{\"cells\": {\"fill\": {\"color\": \"#EBF0F8\"}, \"line\": {\"color\": \"white\"}}, \"header\": {\"fill\": {\"color\": \"#C8D4E3\"}, \"line\": {\"color\": \"white\"}}, \"type\": \"table\"}]}, \"layout\": {\"annotationdefaults\": {\"arrowcolor\": \"#2a3f5f\", \"arrowhead\": 0, \"arrowwidth\": 1}, \"coloraxis\": {\"colorbar\": {\"outlinewidth\": 0, \"ticks\": \"\"}}, \"colorscale\": {\"diverging\": [[0, \"#8e0152\"], [0.1, \"#c51b7d\"], [0.2, \"#de77ae\"], [0.3, \"#f1b6da\"], [0.4, \"#fde0ef\"], [0.5, \"#f7f7f7\"], [0.6, \"#e6f5d0\"], [0.7, \"#b8e186\"], [0.8, \"#7fbc41\"], [0.9, \"#4d9221\"], [1, \"#276419\"]], \"sequential\": [[0.0, \"#0d0887\"], [0.1111111111111111, \"#46039f\"], [0.2222222222222222, \"#7201a8\"], [0.3333333333333333, \"#9c179e\"], [0.4444444444444444, \"#bd3786\"], [0.5555555555555556, \"#d8576b\"], [0.6666666666666666, \"#ed7953\"], [0.7777777777777778, \"#fb9f3a\"], [0.8888888888888888, \"#fdca26\"], [1.0, \"#f0f921\"]], \"sequentialminus\": [[0.0, \"#0d0887\"], [0.1111111111111111, \"#46039f\"], [0.2222222222222222, \"#7201a8\"], [0.3333333333333333, \"#9c179e\"], [0.4444444444444444, \"#bd3786\"], [0.5555555555555556, \"#d8576b\"], [0.6666666666666666, \"#ed7953\"], [0.7777777777777778, \"#fb9f3a\"], [0.8888888888888888, \"#fdca26\"], [1.0, \"#f0f921\"]]}, \"colorway\": [\"#636efa\", \"#EF553B\", \"#00cc96\", \"#ab63fa\", \"#FFA15A\", \"#19d3f3\", \"#FF6692\", \"#B6E880\", \"#FF97FF\", \"#FECB52\"], \"font\": {\"color\": \"#2a3f5f\"}, \"geo\": {\"bgcolor\": \"white\", \"lakecolor\": \"white\", \"landcolor\": \"#E5ECF6\", \"showlakes\": true, \"showland\": true, \"subunitcolor\": \"white\"}, \"hoverlabel\": {\"align\": \"left\"}, \"hovermode\": \"closest\", \"mapbox\": {\"style\": \"light\"}, \"paper_bgcolor\": \"white\", \"plot_bgcolor\": \"#E5ECF6\", \"polar\": {\"angularaxis\": {\"gridcolor\": \"white\", \"linecolor\": \"white\", \"ticks\": \"\"}, \"bgcolor\": \"#E5ECF6\", \"radialaxis\": {\"gridcolor\": \"white\", \"linecolor\": \"white\", \"ticks\": \"\"}}, \"scene\": {\"xaxis\": {\"backgroundcolor\": \"#E5ECF6\", \"gridcolor\": \"white\", \"gridwidth\": 2, \"linecolor\": \"white\", \"showbackground\": true, \"ticks\": \"\", \"zerolinecolor\": \"white\"}, \"yaxis\": {\"backgroundcolor\": \"#E5ECF6\", \"gridcolor\": \"white\", \"gridwidth\": 2, \"linecolor\": \"white\", \"showbackground\": true, \"ticks\": \"\", \"zerolinecolor\": \"white\"}, \"zaxis\": {\"backgroundcolor\": \"#E5ECF6\", \"gridcolor\": \"white\", \"gridwidth\": 2, \"linecolor\": \"white\", \"showbackground\": true, \"ticks\": \"\", \"zerolinecolor\": \"white\"}}, \"shapedefaults\": {\"line\": {\"color\": \"#2a3f5f\"}}, \"ternary\": {\"aaxis\": {\"gridcolor\": \"white\", \"linecolor\": \"white\", \"ticks\": \"\"}, \"baxis\": {\"gridcolor\": \"white\", \"linecolor\": \"white\", \"ticks\": \"\"}, \"bgcolor\": \"#E5ECF6\", \"caxis\": {\"gridcolor\": \"white\", \"linecolor\": \"white\", \"ticks\": \"\"}}, \"title\": {\"x\": 0.05}, \"xaxis\": {\"automargin\": true, \"gridcolor\": \"white\", \"linecolor\": \"white\", \"ticks\": \"\", \"title\": {\"standoff\": 15}, \"zerolinecolor\": \"white\", \"zerolinewidth\": 2}, \"yaxis\": {\"automargin\": true, \"gridcolor\": \"white\", \"linecolor\": \"white\", \"ticks\": \"\", \"title\": {\"standoff\": 15}, \"zerolinecolor\": \"white\", \"zerolinewidth\": 2}}}, \"title\": {\"text\": \"Ensemble Test Accuracy using CNN+RNN \"}, \"width\": 700, \"xaxis\": {\"title\": {\"text\": \"Total Number of Models\"}}, \"yaxis\": {\"title\": {\"text\": \"% of CNN models\"}}},\n",
              "                        {\"responsive\": true}\n",
              "                    ).then(function(){\n",
              "                            \n",
              "var gd = document.getElementById('6cd35d6d-bea2-416a-9f4d-15a6489b0c8e');\n",
              "var x = new MutationObserver(function (mutations, observer) {{\n",
              "        var display = window.getComputedStyle(gd).display;\n",
              "        if (!display || display === 'none') {{\n",
              "            console.log([gd, 'removed!']);\n",
              "            Plotly.purge(gd);\n",
              "            observer.disconnect();\n",
              "        }}\n",
              "}});\n",
              "\n",
              "// Listen for the removal of the full notebook cells\n",
              "var notebookContainer = gd.closest('#notebook-container');\n",
              "if (notebookContainer) {{\n",
              "    x.observe(notebookContainer, {childList: true});\n",
              "}}\n",
              "\n",
              "// Listen for the clearing of the current output cell\n",
              "var outputEl = gd.closest('.output');\n",
              "if (outputEl) {{\n",
              "    x.observe(outputEl, {childList: true});\n",
              "}}\n",
              "\n",
              "                        })\n",
              "                };\n",
              "                \n",
              "            </script>\n",
              "        </div>\n",
              "</body>\n",
              "</html>"
            ]
          },
          "metadata": {}
        }
      ]
    },
    {
      "cell_type": "markdown",
      "metadata": {
        "id": "-nbwCVHSRRfM"
      },
      "source": [
        "# Parallel model with no GP and no collaborative but with different parallel RNN/CNN streams. The _best_ parallel fully integrated model."
      ]
    },
    {
      "cell_type": "markdown",
      "metadata": {
        "id": "-ntNI2qC_9Hm"
      },
      "source": [
        "function for basic parallel RNN"
      ]
    },
    {
      "cell_type": "code",
      "source": [
        "def basic_ParallelRNN_A(model_name, inshape, num_classes = 13, num_of_parallels = 2):\n",
        "\n",
        "  base_input = Input(shape=inshape, name='base_input')\n",
        "  # f1_output = Flatten(name='F1')(base_input)\n",
        "\n",
        "  d3rs = []\n",
        "  for pc in range(num_of_parallels):\n",
        "    lstm_one = Bidirectional \\\n",
        "        (GRU(256, return_sequences=True, kernel_initializer='RandomNormal', dropout= 0.5, recurrent_dropout = 0.5, recurrent_initializer='RandomNormal', bias_initializer='zero'))(base_input)\n",
        "    lstm_two = Bidirectional \\\n",
        "        (GRU(128, return_sequences=True, kernel_initializer='RandomNormal', dropout= 0.5, recurrent_dropout = 0.5, recurrent_initializer='RandomNormal', bias_initializer='zero'))(lstm_one)\n",
        "    attention = SeqWeightedAttention()(lstm_two)\n",
        "    attention = Flatten()(attention)\n",
        "    rnnoutput = Dense(256 ,kernel_initializer='RandomNormal', bias_initializer='zeros')(attention)\n",
        "    rnnoutput = BatchNormalization()(rnnoutput)\n",
        "    rnnoutput = GaussianNoise(1)(rnnoutput)\n",
        "    rnnoutput = Dropout(0.4)(rnnoutput)\n",
        "\n",
        "    # Dense Feed-forward\n",
        "    dense_one = Dense(128, kernel_initializer='RandomNormal', bias_initializer='zeros')(rnnoutput)\n",
        "    dense_one = LeakyReLU()(dense_one)\n",
        "    dense_one = Dropout(0.5)(dense_one)\n",
        "    dense_one = BatchNormalization()(dense_one)\n",
        "    dense_two = Dense(64, kernel_initializer='RandomNormal', bias_initializer='zeros', name = f'p{pc+1}_LDRNN')(dense_one)\n",
        "    dense_two = LeakyReLU()(dense_two)\n",
        "    dense_two = Dropout(0.4)(dense_two)\n",
        "\n",
        "    # d1_output = Dense(128, activation='relu', name = f'p{pc+1}_D1')(f1_output)\n",
        "    # d2_output = Dense(128, activation='relu', name = f'p{pc+1}_D2')(d1_output)\n",
        "    # d3r_output = Dense(48, activation='relu', kernel_regularizer=tf.keras.regularizers.l1(0.005), name = f'p{pc+1}_D3R')(d2_output)\n",
        "    d3rs.append(dense_two)\n",
        "\n",
        "  # merging_layer = tf.keras.layers.concatenate(d3rs)\n",
        "  concat1_output = Concatenate(name=\"CONCAT1\")(d3rs)\n",
        "  model_output = Dense(num_classes,  activation='softmax', name = 'SFTMX1')(concat1_output)\n",
        "  model = Model([base_input], model_output, name = model_name)\n",
        "\n",
        "  return model\n"
      ],
      "metadata": {
        "id": "FmBD4z4QIJGj"
      },
      "execution_count": null,
      "outputs": []
    },
    {
      "cell_type": "code",
      "metadata": {
        "id": "kXWOr1f4RQbd"
      },
      "source": [
        "# f\"ParallelCNN_A_{datetime.datetime.now():%Y%m%d%H%M%S}\", \n",
        "#                     X_new_train[0,:,:].shape, \n",
        "#                     X_new_train, Y_new_train,\n",
        "#                     save_max_epoch=False,\n",
        "#                     save_final=True,\n",
        "#                     patience_count = 35,\n",
        "#                     early_stopping_obs = 'accuracy',\n",
        "#                     log_history = True,\n",
        "#                     verbose_level = 1,                             \n",
        "#                     batch_size=512, \n",
        "#                     epochs=250, \n",
        "#                     class_weight=None, \n",
        "#                     validation_data=(X_val_1000e, Y_val_1000e)\n",
        "\n",
        "# model_name = f\"ParallelCNN_A_{datetime.datetime.now():%Y%m%d%H%M%S}\"\n",
        "# inshape =  X_new_train[0,:,:].shape\n",
        "# m = basic_ParallelCNN_A(model_name, inshape)\n",
        "# m.compile(loss=tf.keras.losses.CategoricalCrossentropy(), \n",
        "#               optimizer=tf.keras.optimizers.Adam(), \n",
        "#               metrics=[tf.keras.metrics.CategoricalAccuracy()])\n",
        "# m.fit(X_new_train, Y_new_train, verbose=1)\n"
      ],
      "execution_count": null,
      "outputs": []
    },
    {
      "cell_type": "markdown",
      "metadata": {
        "id": "CdiHdMZbAzHK"
      },
      "source": [
        "function for basic parallel CNN"
      ]
    },
    {
      "cell_type": "code",
      "metadata": {
        "id": "inikwtpIW4M3"
      },
      "source": [
        "def basic_ParallelCNN_A(model_name, inshape, num_classes = 13, num_of_parallels = 2):\n",
        "\n",
        "  # Input Layer\n",
        "  base_input = Input(shape=inshape, name='base_input')\n",
        "\n",
        "  to_merge = []\n",
        "  for pc in range(num_of_parallels):\n",
        "\n",
        "    c1 = Conv1D(256 ,10 ,padding='same' ,input_shape=inshape)(base_input)\n",
        "    b1 = BatchNormalization()(c1)\n",
        "    lr1 = LeakyReLU(alpha=0.5)(b1)\n",
        "    mxp1 = MaxPooling1D(2)(lr1)\n",
        "    gn1 = GaussianNoise(1)(mxp1)  \n",
        "    drp1 = Dropout(rate=0.5)(gn1)\n",
        "\n",
        "    c2 = Conv1D(256 ,10 ,padding='same')(drp1)\n",
        "    b2 = BatchNormalization()(c2)\n",
        "    lr2 = LeakyReLU(alpha=0.5)(b2)\n",
        "    mxp2 = MaxPooling1D(4)(lr2)\n",
        "    gn2 = GaussianNoise(1)(mxp2)  \n",
        "    drp2 = Dropout(rate=0.5)(gn2)\n",
        "    \n",
        "    c3 = Conv1D(256 ,10 ,padding='same')(drp2)\n",
        "    b3 = BatchNormalization()(c3)\n",
        "    lr3 = LeakyReLU(alpha=0.5)(b3)\n",
        "    mxp3 = MaxPooling1D(2)(lr3)\n",
        "    \n",
        "    c4 = Conv1D(256 ,10 ,padding='same')(mxp3)\n",
        "    b4 = BatchNormalization()(c4)\n",
        "    lr4 = LeakyReLU(alpha=0.5)(b4)\n",
        "    mxp4 = MaxPooling1D(4)(lr4)\n",
        "    gn4 = GaussianNoise(1)(mxp4)   \n",
        "    drp4 = Dropout(rate=0.5)(gn4)\n",
        "\n",
        "    c5 = Conv1D(256 ,10 ,padding='same')(drp4)\n",
        "    b5 = BatchNormalization()(c5)\n",
        "    lr5 = LeakyReLU(alpha=0.5)(b5)\n",
        "    mxp5 = MaxPooling1D(4)(lr5)\n",
        "    gn5 = GaussianNoise(1)(mxp5)  \n",
        "    drp5 = Dropout(rate=0.5)(gn5)\n",
        "    \n",
        "    f6 = Flatten()(drp5)\n",
        "\n",
        "    d7 = Dense(128)(f6)\n",
        "    b7 = BatchNormalization()(d7)\n",
        "    lr7 = LeakyReLU(alpha=0.5)(b7)\n",
        "\n",
        "    d8 = Dense(64, name = f'p{pc+1}_LDCNN')(lr7)\n",
        "    b8 = BatchNormalization()(d8)\n",
        "    lr8 = LeakyReLU(alpha=0.5, name = f'p{pc+1}_LlrCNN')(b8)\n",
        "\n",
        "    to_merge.append(lr8)\n",
        "\n",
        "  concat1_output = Concatenate(name=\"CONCAT1\")(to_merge)\n",
        "  model_output = Dense(num_classes,  activation='softmax', name = 'SFTMX1')(concat1_output)\n",
        "  model = Model(base_input, model_output, name = model_name)\n",
        "  return model\n"
      ],
      "execution_count": null,
      "outputs": []
    },
    {
      "cell_type": "markdown",
      "metadata": {
        "id": "PJEQRsKaA2fq"
      },
      "source": [
        "function for basic parallel 10 CNN + 10 RNN"
      ]
    },
    {
      "cell_type": "code",
      "metadata": {
        "id": "EFDcerJycgBz"
      },
      "source": [
        "def basic_ParallelCNNRNN_A(model_name, inshape, num_classes = 13, num_of_parallels = 2):\n",
        "\n",
        "  # Input Layer\n",
        "  base_input = Input(shape=inshape, name='base_input')\n",
        "\n",
        "  to_merge = []\n",
        "  for pc in range(int(num_of_parallels/2)):\n",
        "    c1 = Conv1D(256 ,10 ,padding='same' ,input_shape=inshape)(base_input)\n",
        "    b1 = BatchNormalization()(c1)\n",
        "    lr1 = LeakyReLU(alpha=0.5)(b1)\n",
        "    mxp1 = MaxPooling1D(2)(lr1)\n",
        "    gn1 = GaussianNoise(1)(mxp1)  \n",
        "    drp1 = Dropout(rate=0.5)(gn1)\n",
        "    c2 = Conv1D(256 ,10 ,padding='same')(drp1)\n",
        "    b2 = BatchNormalization()(c2)\n",
        "    lr2 = LeakyReLU(alpha=0.5)(b2)\n",
        "    mxp2 = MaxPooling1D(4)(lr2)\n",
        "    gn2 = GaussianNoise(1)(mxp2)  \n",
        "    drp2 = Dropout(rate=0.5)(gn2)\n",
        "    c3 = Conv1D(256 ,10 ,padding='same')(drp2)\n",
        "    b3 = BatchNormalization()(c3)\n",
        "    lr3 = LeakyReLU(alpha=0.5)(b3)\n",
        "    mxp3 = MaxPooling1D(2)(lr3)\n",
        "    c4 = Conv1D(256 ,10 ,padding='same')(mxp3)\n",
        "    b4 = BatchNormalization()(c4)\n",
        "    lr4 = LeakyReLU(alpha=0.5)(b4)\n",
        "    mxp4 = MaxPooling1D(4)(lr4)\n",
        "    gn4 = GaussianNoise(1)(mxp4)   \n",
        "    drp4 = Dropout(rate=0.5)(gn4)\n",
        "    c5 = Conv1D(256 ,10 ,padding='same')(drp4)\n",
        "    b5 = BatchNormalization()(c5)\n",
        "    lr5 = LeakyReLU(alpha=0.5)(b5)\n",
        "    mxp5 = MaxPooling1D(4)(lr5)\n",
        "    gn5 = GaussianNoise(1)(mxp5)  \n",
        "    drp5 = Dropout(rate=0.5)(gn5)\n",
        "    f6 = Flatten()(drp5)\n",
        "    d7 = Dense(128)(f6)\n",
        "    b7 = BatchNormalization()(d7)\n",
        "    lr7 = LeakyReLU(alpha=0.5)(b7)\n",
        "    d8 = Dense(64, name = f'p{pc+1}_LDCNN')(lr7)\n",
        "    b8 = BatchNormalization()(d8)\n",
        "    lr8 = LeakyReLU(alpha=0.5, name = f'p{pc+1}_LlrCNN')(b8)\n",
        "    to_merge.append(lr8)\n",
        "\n",
        "  # f1_output = Flatten(name='F1')(base_input)\n",
        "\n",
        "  for pc in range(int(num_of_parallels/2)):\n",
        "    lstm_one = Bidirectional \\\n",
        "        (GRU(256, return_sequences=True, kernel_initializer='RandomNormal', dropout= 0.5, recurrent_dropout = 0.5, recurrent_initializer='RandomNormal', bias_initializer='zero'))(base_input)\n",
        "    lstm_two = Bidirectional \\\n",
        "        (GRU(128, return_sequences=True, kernel_initializer='RandomNormal', dropout= 0.5, recurrent_dropout = 0.5, recurrent_initializer='RandomNormal', bias_initializer='zero'))(lstm_one)\n",
        "    attention = SeqWeightedAttention()(lstm_two)\n",
        "    attention = Flatten()(attention)\n",
        "    rnnoutput = Dense(256 ,kernel_initializer='RandomNormal', bias_initializer='zeros')(attention)\n",
        "    rnnoutput = BatchNormalization()(rnnoutput)\n",
        "    rnnoutput = GaussianNoise(1)(rnnoutput)\n",
        "    rnnoutput = Dropout(0.4)(rnnoutput)\n",
        "\n",
        "    # Dense Feed-forward\n",
        "    dense_one = Dense(128, kernel_initializer='RandomNormal', bias_initializer='zeros')(rnnoutput)\n",
        "    dense_one = LeakyReLU()(dense_one)\n",
        "    dense_one = Dropout(0.5)(dense_one)\n",
        "    dense_one = BatchNormalization()(dense_one)\n",
        "    dense_two = Dense(64, kernel_initializer='RandomNormal', bias_initializer='zeros', name = f'p{pc+1}_LDRNN')(dense_one)\n",
        "    dense_two = LeakyReLU()(dense_two)\n",
        "    dense_two = Dropout(0.4)(dense_two)\n",
        "\n",
        "    to_merge.append(dense_two)\n",
        "\n",
        "    # d1_output = Dense(128, activation='relu', name = f'p{pc+1}_D1_DNN')(f1_output)\n",
        "    # d2_output = Dense(128, activation='relu', name = f'p{pc+1}_D2_DNN')(d1_output)\n",
        "    # d3r_output = Dense(48, activation='relu', kernel_regularizer=tf.keras.regularizers.l1(0.005), name = f'p{pc+1}_D3R_DNN')(d2_output)\n",
        "    # to_merge.append(d3r_output)\n",
        "\n",
        "  concat1_output = Concatenate(name=\"CONCAT1\")(to_merge)\n",
        "  model_output = Dense(num_classes,  activation='softmax', name = 'SFTMX1')(concat1_output)\n",
        "  model = Model(base_input, model_output, name = model_name)\n",
        "  return model\n",
        "\n",
        "\n",
        "# X_train_1000e, Y_train_1000e, X_test_1000e, Y_test_1000e, X_val_1000e, Y_val_1000e = getE2eData13()\n",
        "# X_new_train = np.concatenate( (X_train_1000e, X_val_1000e), axis=0 )\n",
        "# Y_new_train = np.concatenate( (Y_train_1000e, Y_val_1000e), axis=0 )"
      ],
      "execution_count": null,
      "outputs": []
    },
    {
      "cell_type": "code",
      "source": [
        "X_new_train[0,:,:].shape\n",
        "X_val_1000e[0,:,:].shape"
      ],
      "metadata": {
        "colab": {
          "base_uri": "https://localhost:8080/"
        },
        "id": "Q5hGXS4BClaU",
        "outputId": "93a0ada2-435a-4f7b-fea4-949e48c28153"
      },
      "execution_count": null,
      "outputs": [
        {
          "output_type": "execute_result",
          "data": {
            "text/plain": [
              "(1000, 8)"
            ]
          },
          "metadata": {},
          "execution_count": 35
        }
      ]
    },
    {
      "cell_type": "code",
      "metadata": {
        "id": "m7W5a2D_9GsK"
      },
      "source": [
        "# parallel fuly integrated 20 CNN\n",
        "\n",
        "pcnn20, pcnn20h = compile_and_fit_model_basic( basic_ParallelCNN_A,  \n",
        "                    f\"ParallelCNN_A2_{datetime.datetime.now():%Y%m%d%H%M%S}\", \n",
        "                    X_new_train[0,:,:].shape, \n",
        "                    X_new_train, Y_new_train,\n",
        "                    save_max_epoch=True,\n",
        "                    save_final=True,\n",
        "                    patience_count = 10,\n",
        "                    early_stopping_obs = 'val_categorical_accuracy',\n",
        "                    log_history = True,\n",
        "                    verbose_level = 1,                             \n",
        "                    batch_size=64, \n",
        "                    epochs=250, \n",
        "                    class_weight=None, \n",
        "                    validation_data=(X_val_1000e, Y_val_1000e))\n",
        "\n",
        " \n",
        "\n"
      ],
      "execution_count": null,
      "outputs": []
    },
    {
      "cell_type": "code",
      "metadata": {
        "id": "qmOuqvetypnO"
      },
      "source": [
        " # parallel fuly integrated 2 RNN\n",
        "\n",
        " ## Not Runnable\n",
        "  \n",
        "pdnn20, pdnn20h = compile_and_fit_model_basic( basic_ParallelRNN_A,  \n",
        "                    f\"ParallelRNN_A2_{datetime.datetime.now():%Y%m%d%H%M%S}\", \n",
        "                    X_new_train[0,:,:].shape, \n",
        "                    X_new_train, Y_new_train,\n",
        "                    save_max_epoch=True,\n",
        "                    save_final=True,\n",
        "                    patience_count = 10,\n",
        "                    early_stopping_obs = 'val_categorical_accuracy',\n",
        "                    log_history = True,\n",
        "                    verbose_level = 1,                             \n",
        "                    batch_size=32, \n",
        "                    epochs=250, \n",
        "                    class_weight=None, \n",
        "                    validation_data=(X_val_1000e, Y_val_1000e))\n",
        "\n",
        "# /content/drive/MyDrive/data_papers/gpSVHN/model_finals/ParallelDNN_A_20211002170140_saved_model_after_fit/assets  # 88% validation"
      ],
      "execution_count": null,
      "outputs": []
    },
    {
      "cell_type": "code",
      "metadata": {
        "id": "K1bRQHOu9PjY",
        "colab": {
          "base_uri": "https://localhost:8080/"
        },
        "outputId": "c603ea2f-910f-4912-d257-f06dab7722ae"
      },
      "source": [
        "# parallel fuly integrated 1 RNN + 1 CNN\n",
        " \n",
        "pdcnn20, pdcnn20h = compile_and_fit_model_basic( basic_ParallelCNNRNN_A,  \n",
        "                    f\"ParallelCNNRNN_A2_{datetime.datetime.now():%Y%m%d%H%M%S}\", \n",
        "                    X_new_train[0,:,:].shape, \n",
        "                    X_new_train, Y_new_train,\n",
        "                    save_max_epoch=True,\n",
        "                    save_final=True,\n",
        "                    patience_count = 10,\n",
        "                    early_stopping_obs = 'val_categorical_accuracy',\n",
        "                    log_history = True,\n",
        "                    verbose_level = 1,                             \n",
        "                    batch_size=32, \n",
        "                    epochs=250, \n",
        "                    class_weight=None, \n",
        "                    validation_data=(X_val_1000e, Y_val_1000e))\n",
        "\n"
      ],
      "execution_count": null,
      "outputs": [
        {
          "output_type": "stream",
          "name": "stdout",
          "text": [
            "WARNING:tensorflow:Layer gru will not use cuDNN kernels since it doesn't meet the criteria. It will use a generic GPU kernel as fallback when running on GPU.\n",
            "WARNING:tensorflow:Layer gru will not use cuDNN kernels since it doesn't meet the criteria. It will use a generic GPU kernel as fallback when running on GPU.\n",
            "WARNING:tensorflow:Layer gru will not use cuDNN kernels since it doesn't meet the criteria. It will use a generic GPU kernel as fallback when running on GPU.\n",
            "WARNING:tensorflow:Layer gru_1 will not use cuDNN kernels since it doesn't meet the criteria. It will use a generic GPU kernel as fallback when running on GPU.\n",
            "WARNING:tensorflow:Layer gru_1 will not use cuDNN kernels since it doesn't meet the criteria. It will use a generic GPU kernel as fallback when running on GPU.\n",
            "WARNING:tensorflow:Layer gru_1 will not use cuDNN kernels since it doesn't meet the criteria. It will use a generic GPU kernel as fallback when running on GPU.\n",
            "Epoch 1/250\n",
            "242/242 [==============================] - ETA: 0s - loss: 2.0989 - categorical_accuracy: 0.2874 INFO:tensorflow:Assets written to: /content/drive/MyDrive/data_papers/test13/model_checkpoints/ParallelCNNRNN_A2_20211210221624_model_001_0.287/assets\n"
          ]
        },
        {
          "output_type": "stream",
          "name": "stderr",
          "text": [
            "WARNING:absl:<keras.layers.recurrent.GRUCell object at 0x7efa72435410> has the same name 'GRUCell' as a built-in Keras object. Consider renaming <class 'keras.layers.recurrent.GRUCell'> to avoid naming conflicts when loading with `tf.keras.models.load_model`. If renaming is not possible, pass the object in the `custom_objects` parameter of the load function.\n",
            "WARNING:absl:<keras.layers.recurrent.GRUCell object at 0x7efa724b0c10> has the same name 'GRUCell' as a built-in Keras object. Consider renaming <class 'keras.layers.recurrent.GRUCell'> to avoid naming conflicts when loading with `tf.keras.models.load_model`. If renaming is not possible, pass the object in the `custom_objects` parameter of the load function.\n",
            "WARNING:absl:<keras.layers.recurrent.GRUCell object at 0x7efa72291590> has the same name 'GRUCell' as a built-in Keras object. Consider renaming <class 'keras.layers.recurrent.GRUCell'> to avoid naming conflicts when loading with `tf.keras.models.load_model`. If renaming is not possible, pass the object in the `custom_objects` parameter of the load function.\n",
            "WARNING:absl:<keras.layers.recurrent.GRUCell object at 0x7efa72291d90> has the same name 'GRUCell' as a built-in Keras object. Consider renaming <class 'keras.layers.recurrent.GRUCell'> to avoid naming conflicts when loading with `tf.keras.models.load_model`. If renaming is not possible, pass the object in the `custom_objects` parameter of the load function.\n"
          ]
        },
        {
          "output_type": "stream",
          "name": "stdout",
          "text": [
            "\b\b\b\b\b\b\b\b\b\b\b\b\b\b\b\b\b\b\b\b\b\b\b\b\b\b\b\b\b\b\b\b\b\b\b\b\b\b\b\b\b\b\b\b\b\b\b\b\b\b\b\b\b\b\b\b\b\b\b\b\b\b\b\b\b\b\b\b\b\b\b\b\b\b\b\b\b\b\b\b\b\b\b\b\b\b\b\b\b\b\b\b\b\b\b\b\r242/242 [==============================] - 2849s 12s/step - loss: 2.0989 - categorical_accuracy: 0.2874 - val_loss: 3.3918 - val_categorical_accuracy: 0.1319\n",
            "Epoch 2/250\n",
            "242/242 [==============================] - ETA: 0s - loss: 1.4761 - categorical_accuracy: 0.4918 INFO:tensorflow:Assets written to: /content/drive/MyDrive/data_papers/test13/model_checkpoints/ParallelCNNRNN_A2_20211210221624_model_002_0.492/assets\n"
          ]
        },
        {
          "output_type": "stream",
          "name": "stderr",
          "text": [
            "INFO:tensorflow:Assets written to: /content/drive/MyDrive/data_papers/test13/model_checkpoints/ParallelCNNRNN_A2_20211210221624_model_002_0.492/assets\n",
            "WARNING:absl:<keras.layers.recurrent.GRUCell object at 0x7efa72435410> has the same name 'GRUCell' as a built-in Keras object. Consider renaming <class 'keras.layers.recurrent.GRUCell'> to avoid naming conflicts when loading with `tf.keras.models.load_model`. If renaming is not possible, pass the object in the `custom_objects` parameter of the load function.\n",
            "WARNING:absl:<keras.layers.recurrent.GRUCell object at 0x7efa724b0c10> has the same name 'GRUCell' as a built-in Keras object. Consider renaming <class 'keras.layers.recurrent.GRUCell'> to avoid naming conflicts when loading with `tf.keras.models.load_model`. If renaming is not possible, pass the object in the `custom_objects` parameter of the load function.\n",
            "WARNING:absl:<keras.layers.recurrent.GRUCell object at 0x7efa72291590> has the same name 'GRUCell' as a built-in Keras object. Consider renaming <class 'keras.layers.recurrent.GRUCell'> to avoid naming conflicts when loading with `tf.keras.models.load_model`. If renaming is not possible, pass the object in the `custom_objects` parameter of the load function.\n",
            "WARNING:absl:<keras.layers.recurrent.GRUCell object at 0x7efa72291d90> has the same name 'GRUCell' as a built-in Keras object. Consider renaming <class 'keras.layers.recurrent.GRUCell'> to avoid naming conflicts when loading with `tf.keras.models.load_model`. If renaming is not possible, pass the object in the `custom_objects` parameter of the load function.\n"
          ]
        },
        {
          "output_type": "stream",
          "name": "stdout",
          "text": [
            "\b\b\b\b\b\b\b\b\b\b\b\b\b\b\b\b\b\b\b\b\b\b\b\b\b\b\b\b\b\b\b\b\b\b\b\b\b\b\b\b\b\b\b\b\b\b\b\b\b\b\b\b\b\b\b\b\b\b\b\b\b\b\b\b\b\b\b\b\b\b\b\b\b\b\b\b\b\b\b\b\b\b\b\b\b\b\b\b\b\b\b\b\b\b\b\b\r242/242 [==============================] - 2838s 12s/step - loss: 1.4761 - categorical_accuracy: 0.4918 - val_loss: 1.1668 - val_categorical_accuracy: 0.6161\n",
            "Epoch 3/250\n",
            "242/242 [==============================] - ETA: 0s - loss: 1.1778 - categorical_accuracy: 0.6136 INFO:tensorflow:Assets written to: /content/drive/MyDrive/data_papers/test13/model_checkpoints/ParallelCNNRNN_A2_20211210221624_model_003_0.614/assets\n"
          ]
        },
        {
          "output_type": "stream",
          "name": "stderr",
          "text": [
            "INFO:tensorflow:Assets written to: /content/drive/MyDrive/data_papers/test13/model_checkpoints/ParallelCNNRNN_A2_20211210221624_model_003_0.614/assets\n",
            "WARNING:absl:<keras.layers.recurrent.GRUCell object at 0x7efa72435410> has the same name 'GRUCell' as a built-in Keras object. Consider renaming <class 'keras.layers.recurrent.GRUCell'> to avoid naming conflicts when loading with `tf.keras.models.load_model`. If renaming is not possible, pass the object in the `custom_objects` parameter of the load function.\n",
            "WARNING:absl:<keras.layers.recurrent.GRUCell object at 0x7efa724b0c10> has the same name 'GRUCell' as a built-in Keras object. Consider renaming <class 'keras.layers.recurrent.GRUCell'> to avoid naming conflicts when loading with `tf.keras.models.load_model`. If renaming is not possible, pass the object in the `custom_objects` parameter of the load function.\n",
            "WARNING:absl:<keras.layers.recurrent.GRUCell object at 0x7efa72291590> has the same name 'GRUCell' as a built-in Keras object. Consider renaming <class 'keras.layers.recurrent.GRUCell'> to avoid naming conflicts when loading with `tf.keras.models.load_model`. If renaming is not possible, pass the object in the `custom_objects` parameter of the load function.\n",
            "WARNING:absl:<keras.layers.recurrent.GRUCell object at 0x7efa72291d90> has the same name 'GRUCell' as a built-in Keras object. Consider renaming <class 'keras.layers.recurrent.GRUCell'> to avoid naming conflicts when loading with `tf.keras.models.load_model`. If renaming is not possible, pass the object in the `custom_objects` parameter of the load function.\n"
          ]
        },
        {
          "output_type": "stream",
          "name": "stdout",
          "text": [
            "\b\b\b\b\b\b\b\b\b\b\b\b\b\b\b\b\b\b\b\b\b\b\b\b\b\b\b\b\b\b\b\b\b\b\b\b\b\b\b\b\b\b\b\b\b\b\b\b\b\b\b\b\b\b\b\b\b\b\b\b\b\b\b\b\b\b\b\b\b\b\b\b\b\b\b\b\b\b\b\b\b\b\b\b\b\b\b\b\b\b\b\b\b\b\b\b\r242/242 [==============================] - 2901s 12s/step - loss: 1.1778 - categorical_accuracy: 0.6136 - val_loss: 0.9810 - val_categorical_accuracy: 0.6604\n",
            "Epoch 4/250\n",
            "242/242 [==============================] - 2785s 12s/step - loss: 0.9999 - categorical_accuracy: 0.6608 - val_loss: 0.9949 - val_categorical_accuracy: 0.6453\n",
            "Epoch 5/250\n",
            "242/242 [==============================] - ETA: 0s - loss: 0.8953 - categorical_accuracy: 0.6964 INFO:tensorflow:Assets written to: /content/drive/MyDrive/data_papers/test13/model_checkpoints/ParallelCNNRNN_A2_20211210221624_model_005_0.696/assets\n"
          ]
        },
        {
          "output_type": "stream",
          "name": "stderr",
          "text": [
            "INFO:tensorflow:Assets written to: /content/drive/MyDrive/data_papers/test13/model_checkpoints/ParallelCNNRNN_A2_20211210221624_model_005_0.696/assets\n",
            "WARNING:absl:<keras.layers.recurrent.GRUCell object at 0x7efa72435410> has the same name 'GRUCell' as a built-in Keras object. Consider renaming <class 'keras.layers.recurrent.GRUCell'> to avoid naming conflicts when loading with `tf.keras.models.load_model`. If renaming is not possible, pass the object in the `custom_objects` parameter of the load function.\n",
            "WARNING:absl:<keras.layers.recurrent.GRUCell object at 0x7efa724b0c10> has the same name 'GRUCell' as a built-in Keras object. Consider renaming <class 'keras.layers.recurrent.GRUCell'> to avoid naming conflicts when loading with `tf.keras.models.load_model`. If renaming is not possible, pass the object in the `custom_objects` parameter of the load function.\n",
            "WARNING:absl:<keras.layers.recurrent.GRUCell object at 0x7efa72291590> has the same name 'GRUCell' as a built-in Keras object. Consider renaming <class 'keras.layers.recurrent.GRUCell'> to avoid naming conflicts when loading with `tf.keras.models.load_model`. If renaming is not possible, pass the object in the `custom_objects` parameter of the load function.\n",
            "WARNING:absl:<keras.layers.recurrent.GRUCell object at 0x7efa72291d90> has the same name 'GRUCell' as a built-in Keras object. Consider renaming <class 'keras.layers.recurrent.GRUCell'> to avoid naming conflicts when loading with `tf.keras.models.load_model`. If renaming is not possible, pass the object in the `custom_objects` parameter of the load function.\n"
          ]
        },
        {
          "output_type": "stream",
          "name": "stdout",
          "text": [
            "\b\b\b\b\b\b\b\b\b\b\b\b\b\b\b\b\b\b\b\b\b\b\b\b\b\b\b\b\b\b\b\b\b\b\b\b\b\b\b\b\b\b\b\b\b\b\b\b\b\b\b\b\b\b\b\b\b\b\b\b\b\b\b\b\b\b\b\b\b\b\b\b\b\b\b\b\b\b\b\b\b\b\b\b\b\b\b\b\b\b\b\b\b\b\b\b\r242/242 [==============================] - 2755s 11s/step - loss: 0.8953 - categorical_accuracy: 0.6964 - val_loss: 0.7876 - val_categorical_accuracy: 0.7153\n",
            "Epoch 6/250\n",
            "242/242 [==============================] - 2718s 11s/step - loss: 0.9190 - categorical_accuracy: 0.6792 - val_loss: 1.0015 - val_categorical_accuracy: 0.6779\n",
            "Epoch 7/250\n",
            "242/242 [==============================] - ETA: 0s - loss: 0.8404 - categorical_accuracy: 0.7112 INFO:tensorflow:Assets written to: /content/drive/MyDrive/data_papers/test13/model_checkpoints/ParallelCNNRNN_A2_20211210221624_model_007_0.711/assets\n"
          ]
        },
        {
          "output_type": "stream",
          "name": "stderr",
          "text": [
            "INFO:tensorflow:Assets written to: /content/drive/MyDrive/data_papers/test13/model_checkpoints/ParallelCNNRNN_A2_20211210221624_model_007_0.711/assets\n",
            "WARNING:absl:<keras.layers.recurrent.GRUCell object at 0x7efa72435410> has the same name 'GRUCell' as a built-in Keras object. Consider renaming <class 'keras.layers.recurrent.GRUCell'> to avoid naming conflicts when loading with `tf.keras.models.load_model`. If renaming is not possible, pass the object in the `custom_objects` parameter of the load function.\n",
            "WARNING:absl:<keras.layers.recurrent.GRUCell object at 0x7efa724b0c10> has the same name 'GRUCell' as a built-in Keras object. Consider renaming <class 'keras.layers.recurrent.GRUCell'> to avoid naming conflicts when loading with `tf.keras.models.load_model`. If renaming is not possible, pass the object in the `custom_objects` parameter of the load function.\n",
            "WARNING:absl:<keras.layers.recurrent.GRUCell object at 0x7efa72291590> has the same name 'GRUCell' as a built-in Keras object. Consider renaming <class 'keras.layers.recurrent.GRUCell'> to avoid naming conflicts when loading with `tf.keras.models.load_model`. If renaming is not possible, pass the object in the `custom_objects` parameter of the load function.\n",
            "WARNING:absl:<keras.layers.recurrent.GRUCell object at 0x7efa72291d90> has the same name 'GRUCell' as a built-in Keras object. Consider renaming <class 'keras.layers.recurrent.GRUCell'> to avoid naming conflicts when loading with `tf.keras.models.load_model`. If renaming is not possible, pass the object in the `custom_objects` parameter of the load function.\n"
          ]
        },
        {
          "output_type": "stream",
          "name": "stdout",
          "text": [
            "\b\b\b\b\b\b\b\b\b\b\b\b\b\b\b\b\b\b\b\b\b\b\b\b\b\b\b\b\b\b\b\b\b\b\b\b\b\b\b\b\b\b\b\b\b\b\b\b\b\b\b\b\b\b\b\b\b\b\b\b\b\b\b\b\b\b\b\b\b\b\b\b\b\b\b\b\b\b\b\b\b\b\b\b\b\b\b\b\b\b\b\b\b\b\b\b\r242/242 [==============================] - 2819s 12s/step - loss: 0.8404 - categorical_accuracy: 0.7112 - val_loss: 0.5959 - val_categorical_accuracy: 0.7946\n",
            "Epoch 8/250\n",
            "242/242 [==============================] - ETA: 0s - loss: 0.7457 - categorical_accuracy: 0.7484 INFO:tensorflow:Assets written to: /content/drive/MyDrive/data_papers/test13/model_checkpoints/ParallelCNNRNN_A2_20211210221624_model_008_0.748/assets\n"
          ]
        },
        {
          "output_type": "stream",
          "name": "stderr",
          "text": [
            "INFO:tensorflow:Assets written to: /content/drive/MyDrive/data_papers/test13/model_checkpoints/ParallelCNNRNN_A2_20211210221624_model_008_0.748/assets\n",
            "WARNING:absl:<keras.layers.recurrent.GRUCell object at 0x7efa72435410> has the same name 'GRUCell' as a built-in Keras object. Consider renaming <class 'keras.layers.recurrent.GRUCell'> to avoid naming conflicts when loading with `tf.keras.models.load_model`. If renaming is not possible, pass the object in the `custom_objects` parameter of the load function.\n",
            "WARNING:absl:<keras.layers.recurrent.GRUCell object at 0x7efa724b0c10> has the same name 'GRUCell' as a built-in Keras object. Consider renaming <class 'keras.layers.recurrent.GRUCell'> to avoid naming conflicts when loading with `tf.keras.models.load_model`. If renaming is not possible, pass the object in the `custom_objects` parameter of the load function.\n",
            "WARNING:absl:<keras.layers.recurrent.GRUCell object at 0x7efa72291590> has the same name 'GRUCell' as a built-in Keras object. Consider renaming <class 'keras.layers.recurrent.GRUCell'> to avoid naming conflicts when loading with `tf.keras.models.load_model`. If renaming is not possible, pass the object in the `custom_objects` parameter of the load function.\n",
            "WARNING:absl:<keras.layers.recurrent.GRUCell object at 0x7efa72291d90> has the same name 'GRUCell' as a built-in Keras object. Consider renaming <class 'keras.layers.recurrent.GRUCell'> to avoid naming conflicts when loading with `tf.keras.models.load_model`. If renaming is not possible, pass the object in the `custom_objects` parameter of the load function.\n"
          ]
        },
        {
          "output_type": "stream",
          "name": "stdout",
          "text": [
            "\b\b\b\b\b\b\b\b\b\b\b\b\b\b\b\b\b\b\b\b\b\b\b\b\b\b\b\b\b\b\b\b\b\b\b\b\b\b\b\b\b\b\b\b\b\b\b\b\b\b\b\b\b\b\b\b\b\b\b\b\b\b\b\b\b\b\b\b\b\b\b\b\b\b\b\b\b\b\b\b\b\b\b\b\b\b\b\b\b\b\b\b\b\b\b\b\r242/242 [==============================] - 2749s 11s/step - loss: 0.7457 - categorical_accuracy: 0.7484 - val_loss: 0.5758 - val_categorical_accuracy: 0.8098\n",
            "Epoch 9/250\n",
            "242/242 [==============================] - ETA: 0s - loss: 0.6655 - categorical_accuracy: 0.7694 INFO:tensorflow:Assets written to: /content/drive/MyDrive/data_papers/test13/model_checkpoints/ParallelCNNRNN_A2_20211210221624_model_009_0.769/assets\n"
          ]
        },
        {
          "output_type": "stream",
          "name": "stderr",
          "text": [
            "INFO:tensorflow:Assets written to: /content/drive/MyDrive/data_papers/test13/model_checkpoints/ParallelCNNRNN_A2_20211210221624_model_009_0.769/assets\n",
            "WARNING:absl:<keras.layers.recurrent.GRUCell object at 0x7efa72435410> has the same name 'GRUCell' as a built-in Keras object. Consider renaming <class 'keras.layers.recurrent.GRUCell'> to avoid naming conflicts when loading with `tf.keras.models.load_model`. If renaming is not possible, pass the object in the `custom_objects` parameter of the load function.\n",
            "WARNING:absl:<keras.layers.recurrent.GRUCell object at 0x7efa724b0c10> has the same name 'GRUCell' as a built-in Keras object. Consider renaming <class 'keras.layers.recurrent.GRUCell'> to avoid naming conflicts when loading with `tf.keras.models.load_model`. If renaming is not possible, pass the object in the `custom_objects` parameter of the load function.\n",
            "WARNING:absl:<keras.layers.recurrent.GRUCell object at 0x7efa72291590> has the same name 'GRUCell' as a built-in Keras object. Consider renaming <class 'keras.layers.recurrent.GRUCell'> to avoid naming conflicts when loading with `tf.keras.models.load_model`. If renaming is not possible, pass the object in the `custom_objects` parameter of the load function.\n",
            "WARNING:absl:<keras.layers.recurrent.GRUCell object at 0x7efa72291d90> has the same name 'GRUCell' as a built-in Keras object. Consider renaming <class 'keras.layers.recurrent.GRUCell'> to avoid naming conflicts when loading with `tf.keras.models.load_model`. If renaming is not possible, pass the object in the `custom_objects` parameter of the load function.\n"
          ]
        },
        {
          "output_type": "stream",
          "name": "stdout",
          "text": [
            "\b\b\b\b\b\b\b\b\b\b\b\b\b\b\b\b\b\b\b\b\b\b\b\b\b\b\b\b\b\b\b\b\b\b\b\b\b\b\b\b\b\b\b\b\b\b\b\b\b\b\b\b\b\b\b\b\b\b\b\b\b\b\b\b\b\b\b\b\b\b\b\b\b\b\b\b\b\b\b\b\b\b\b\b\b\b\b\b\b\b\b\b\b\b\b\b\r242/242 [==============================] - 2868s 12s/step - loss: 0.6655 - categorical_accuracy: 0.7694 - val_loss: 0.5135 - val_categorical_accuracy: 0.8215\n",
            "Epoch 10/250\n",
            "242/242 [==============================] - ETA: 0s - loss: 0.6714 - categorical_accuracy: 0.7686 INFO:tensorflow:Assets written to: /content/drive/MyDrive/data_papers/test13/model_checkpoints/ParallelCNNRNN_A2_20211210221624_model_010_0.769/assets\n"
          ]
        },
        {
          "output_type": "stream",
          "name": "stderr",
          "text": [
            "INFO:tensorflow:Assets written to: /content/drive/MyDrive/data_papers/test13/model_checkpoints/ParallelCNNRNN_A2_20211210221624_model_010_0.769/assets\n",
            "WARNING:absl:<keras.layers.recurrent.GRUCell object at 0x7efa72435410> has the same name 'GRUCell' as a built-in Keras object. Consider renaming <class 'keras.layers.recurrent.GRUCell'> to avoid naming conflicts when loading with `tf.keras.models.load_model`. If renaming is not possible, pass the object in the `custom_objects` parameter of the load function.\n",
            "WARNING:absl:<keras.layers.recurrent.GRUCell object at 0x7efa724b0c10> has the same name 'GRUCell' as a built-in Keras object. Consider renaming <class 'keras.layers.recurrent.GRUCell'> to avoid naming conflicts when loading with `tf.keras.models.load_model`. If renaming is not possible, pass the object in the `custom_objects` parameter of the load function.\n",
            "WARNING:absl:<keras.layers.recurrent.GRUCell object at 0x7efa72291590> has the same name 'GRUCell' as a built-in Keras object. Consider renaming <class 'keras.layers.recurrent.GRUCell'> to avoid naming conflicts when loading with `tf.keras.models.load_model`. If renaming is not possible, pass the object in the `custom_objects` parameter of the load function.\n",
            "WARNING:absl:<keras.layers.recurrent.GRUCell object at 0x7efa72291d90> has the same name 'GRUCell' as a built-in Keras object. Consider renaming <class 'keras.layers.recurrent.GRUCell'> to avoid naming conflicts when loading with `tf.keras.models.load_model`. If renaming is not possible, pass the object in the `custom_objects` parameter of the load function.\n"
          ]
        },
        {
          "output_type": "stream",
          "name": "stdout",
          "text": [
            "\b\b\b\b\b\b\b\b\b\b\b\b\b\b\b\b\b\b\b\b\b\b\b\b\b\b\b\b\b\b\b\b\b\b\b\b\b\b\b\b\b\b\b\b\b\b\b\b\b\b\b\b\b\b\b\b\b\b\b\b\b\b\b\b\b\b\b\b\b\b\b\b\b\b\b\b\b\b\b\b\b\b\b\b\b\b\b\b\b\b\b\b\b\b\b\b\r242/242 [==============================] - 2929s 12s/step - loss: 0.6714 - categorical_accuracy: 0.7686 - val_loss: 0.4252 - val_categorical_accuracy: 0.8506\n",
            "Epoch 11/250\n",
            "242/242 [==============================] - ETA: 0s - loss: 0.6161 - categorical_accuracy: 0.7874 INFO:tensorflow:Assets written to: /content/drive/MyDrive/data_papers/test13/model_checkpoints/ParallelCNNRNN_A2_20211210221624_model_011_0.787/assets\n"
          ]
        },
        {
          "output_type": "stream",
          "name": "stderr",
          "text": [
            "INFO:tensorflow:Assets written to: /content/drive/MyDrive/data_papers/test13/model_checkpoints/ParallelCNNRNN_A2_20211210221624_model_011_0.787/assets\n",
            "WARNING:absl:<keras.layers.recurrent.GRUCell object at 0x7efa72435410> has the same name 'GRUCell' as a built-in Keras object. Consider renaming <class 'keras.layers.recurrent.GRUCell'> to avoid naming conflicts when loading with `tf.keras.models.load_model`. If renaming is not possible, pass the object in the `custom_objects` parameter of the load function.\n",
            "WARNING:absl:<keras.layers.recurrent.GRUCell object at 0x7efa724b0c10> has the same name 'GRUCell' as a built-in Keras object. Consider renaming <class 'keras.layers.recurrent.GRUCell'> to avoid naming conflicts when loading with `tf.keras.models.load_model`. If renaming is not possible, pass the object in the `custom_objects` parameter of the load function.\n",
            "WARNING:absl:<keras.layers.recurrent.GRUCell object at 0x7efa72291590> has the same name 'GRUCell' as a built-in Keras object. Consider renaming <class 'keras.layers.recurrent.GRUCell'> to avoid naming conflicts when loading with `tf.keras.models.load_model`. If renaming is not possible, pass the object in the `custom_objects` parameter of the load function.\n",
            "WARNING:absl:<keras.layers.recurrent.GRUCell object at 0x7efa72291d90> has the same name 'GRUCell' as a built-in Keras object. Consider renaming <class 'keras.layers.recurrent.GRUCell'> to avoid naming conflicts when loading with `tf.keras.models.load_model`. If renaming is not possible, pass the object in the `custom_objects` parameter of the load function.\n"
          ]
        },
        {
          "output_type": "stream",
          "name": "stdout",
          "text": [
            "\b\b\b\b\b\b\b\b\b\b\b\b\b\b\b\b\b\b\b\b\b\b\b\b\b\b\b\b\b\b\b\b\b\b\b\b\b\b\b\b\b\b\b\b\b\b\b\b\b\b\b\b\b\b\b\b\b\b\b\b\b\b\b\b\b\b\b\b\b\b\b\b\b\b\b\b\b\b\b\b\b\b\b\b\b\b\b\b\b\b\b\b\b\b\b\b\r242/242 [==============================] - 2971s 12s/step - loss: 0.6161 - categorical_accuracy: 0.7874 - val_loss: 0.3639 - val_categorical_accuracy: 0.8845\n",
            "Epoch 12/250\n",
            "242/242 [==============================] - 2980s 12s/step - loss: 0.6324 - categorical_accuracy: 0.7877 - val_loss: 0.4030 - val_categorical_accuracy: 0.8471\n",
            "Epoch 13/250\n",
            "242/242 [==============================] - 3020s 12s/step - loss: 0.5982 - categorical_accuracy: 0.7944 - val_loss: 0.3449 - val_categorical_accuracy: 0.8833\n",
            "Epoch 14/250\n",
            "242/242 [==============================] - ETA: 0s - loss: 0.5133 - categorical_accuracy: 0.8258 INFO:tensorflow:Assets written to: /content/drive/MyDrive/data_papers/test13/model_checkpoints/ParallelCNNRNN_A2_20211210221624_model_014_0.826/assets\n"
          ]
        },
        {
          "output_type": "stream",
          "name": "stderr",
          "text": [
            "INFO:tensorflow:Assets written to: /content/drive/MyDrive/data_papers/test13/model_checkpoints/ParallelCNNRNN_A2_20211210221624_model_014_0.826/assets\n",
            "WARNING:absl:<keras.layers.recurrent.GRUCell object at 0x7efa72435410> has the same name 'GRUCell' as a built-in Keras object. Consider renaming <class 'keras.layers.recurrent.GRUCell'> to avoid naming conflicts when loading with `tf.keras.models.load_model`. If renaming is not possible, pass the object in the `custom_objects` parameter of the load function.\n",
            "WARNING:absl:<keras.layers.recurrent.GRUCell object at 0x7efa724b0c10> has the same name 'GRUCell' as a built-in Keras object. Consider renaming <class 'keras.layers.recurrent.GRUCell'> to avoid naming conflicts when loading with `tf.keras.models.load_model`. If renaming is not possible, pass the object in the `custom_objects` parameter of the load function.\n",
            "WARNING:absl:<keras.layers.recurrent.GRUCell object at 0x7efa72291590> has the same name 'GRUCell' as a built-in Keras object. Consider renaming <class 'keras.layers.recurrent.GRUCell'> to avoid naming conflicts when loading with `tf.keras.models.load_model`. If renaming is not possible, pass the object in the `custom_objects` parameter of the load function.\n",
            "WARNING:absl:<keras.layers.recurrent.GRUCell object at 0x7efa72291d90> has the same name 'GRUCell' as a built-in Keras object. Consider renaming <class 'keras.layers.recurrent.GRUCell'> to avoid naming conflicts when loading with `tf.keras.models.load_model`. If renaming is not possible, pass the object in the `custom_objects` parameter of the load function.\n"
          ]
        },
        {
          "output_type": "stream",
          "name": "stdout",
          "text": [
            "\b\b\b\b\b\b\b\b\b\b\b\b\b\b\b\b\b\b\b\b\b\b\b\b\b\b\b\b\b\b\b\b\b\b\b\b\b\b\b\b\b\b\b\b\b\b\b\b\b\b\b\b\b\b\b\b\b\b\b\b\b\b\b\b\b\b\b\b\b\b\b\b\b\b\b\b\b\b\b\b\b\b\b\b\b\b\b\b\b\b\b\b\b\b\b\b\r242/242 [==============================] - 3014s 12s/step - loss: 0.5133 - categorical_accuracy: 0.8258 - val_loss: 0.3385 - val_categorical_accuracy: 0.8903\n",
            "Epoch 15/250\n",
            "242/242 [==============================] - ETA: 0s - loss: 0.4754 - categorical_accuracy: 0.8429 INFO:tensorflow:Assets written to: /content/drive/MyDrive/data_papers/test13/model_checkpoints/ParallelCNNRNN_A2_20211210221624_model_015_0.843/assets\n"
          ]
        },
        {
          "output_type": "stream",
          "name": "stderr",
          "text": [
            "INFO:tensorflow:Assets written to: /content/drive/MyDrive/data_papers/test13/model_checkpoints/ParallelCNNRNN_A2_20211210221624_model_015_0.843/assets\n",
            "WARNING:absl:<keras.layers.recurrent.GRUCell object at 0x7efa72435410> has the same name 'GRUCell' as a built-in Keras object. Consider renaming <class 'keras.layers.recurrent.GRUCell'> to avoid naming conflicts when loading with `tf.keras.models.load_model`. If renaming is not possible, pass the object in the `custom_objects` parameter of the load function.\n",
            "WARNING:absl:<keras.layers.recurrent.GRUCell object at 0x7efa724b0c10> has the same name 'GRUCell' as a built-in Keras object. Consider renaming <class 'keras.layers.recurrent.GRUCell'> to avoid naming conflicts when loading with `tf.keras.models.load_model`. If renaming is not possible, pass the object in the `custom_objects` parameter of the load function.\n",
            "WARNING:absl:<keras.layers.recurrent.GRUCell object at 0x7efa72291590> has the same name 'GRUCell' as a built-in Keras object. Consider renaming <class 'keras.layers.recurrent.GRUCell'> to avoid naming conflicts when loading with `tf.keras.models.load_model`. If renaming is not possible, pass the object in the `custom_objects` parameter of the load function.\n",
            "WARNING:absl:<keras.layers.recurrent.GRUCell object at 0x7efa72291d90> has the same name 'GRUCell' as a built-in Keras object. Consider renaming <class 'keras.layers.recurrent.GRUCell'> to avoid naming conflicts when loading with `tf.keras.models.load_model`. If renaming is not possible, pass the object in the `custom_objects` parameter of the load function.\n"
          ]
        },
        {
          "output_type": "stream",
          "name": "stdout",
          "text": [
            "\b\b\b\b\b\b\b\b\b\b\b\b\b\b\b\b\b\b\b\b\b\b\b\b\b\b\b\b\b\b\b\b\b\b\b\b\b\b\b\b\b\b\b\b\b\b\b\b\b\b\b\b\b\b\b\b\b\b\b\b\b\b\b\b\b\b\b\b\b\b\b\b\b\b\b\b\b\b\b\b\b\b\b\b\b\b\b\b\b\b\b\b\b\b\b\b\r242/242 [==============================] - 2997s 12s/step - loss: 0.4754 - categorical_accuracy: 0.8429 - val_loss: 0.3002 - val_categorical_accuracy: 0.8926\n",
            "Epoch 16/250\n",
            "242/242 [==============================] - ETA: 0s - loss: 0.4433 - categorical_accuracy: 0.8507 INFO:tensorflow:Assets written to: /content/drive/MyDrive/data_papers/test13/model_checkpoints/ParallelCNNRNN_A2_20211210221624_model_016_0.851/assets\n"
          ]
        },
        {
          "output_type": "stream",
          "name": "stderr",
          "text": [
            "INFO:tensorflow:Assets written to: /content/drive/MyDrive/data_papers/test13/model_checkpoints/ParallelCNNRNN_A2_20211210221624_model_016_0.851/assets\n",
            "WARNING:absl:<keras.layers.recurrent.GRUCell object at 0x7efa72435410> has the same name 'GRUCell' as a built-in Keras object. Consider renaming <class 'keras.layers.recurrent.GRUCell'> to avoid naming conflicts when loading with `tf.keras.models.load_model`. If renaming is not possible, pass the object in the `custom_objects` parameter of the load function.\n",
            "WARNING:absl:<keras.layers.recurrent.GRUCell object at 0x7efa724b0c10> has the same name 'GRUCell' as a built-in Keras object. Consider renaming <class 'keras.layers.recurrent.GRUCell'> to avoid naming conflicts when loading with `tf.keras.models.load_model`. If renaming is not possible, pass the object in the `custom_objects` parameter of the load function.\n",
            "WARNING:absl:<keras.layers.recurrent.GRUCell object at 0x7efa72291590> has the same name 'GRUCell' as a built-in Keras object. Consider renaming <class 'keras.layers.recurrent.GRUCell'> to avoid naming conflicts when loading with `tf.keras.models.load_model`. If renaming is not possible, pass the object in the `custom_objects` parameter of the load function.\n",
            "WARNING:absl:<keras.layers.recurrent.GRUCell object at 0x7efa72291d90> has the same name 'GRUCell' as a built-in Keras object. Consider renaming <class 'keras.layers.recurrent.GRUCell'> to avoid naming conflicts when loading with `tf.keras.models.load_model`. If renaming is not possible, pass the object in the `custom_objects` parameter of the load function.\n"
          ]
        },
        {
          "output_type": "stream",
          "name": "stdout",
          "text": [
            "\b\b\b\b\b\b\b\b\b\b\b\b\b\b\b\b\b\b\b\b\b\b\b\b\b\b\b\b\b\b\b\b\b\b\b\b\b\b\b\b\b\b\b\b\b\b\b\b\b\b\b\b\b\b\b\b\b\b\b\b\b\b\b\b\b\b\b\b\b\b\b\b\b\b\b\b\b\b\b\b\b\b\b\b\b\b\b\b\b\b\b\b\b\b\b\b\r242/242 [==============================] - 3021s 12s/step - loss: 0.4433 - categorical_accuracy: 0.8507 - val_loss: 0.2730 - val_categorical_accuracy: 0.8973\n",
            "Epoch 17/250\n",
            "242/242 [==============================] - ETA: 0s - loss: 0.4185 - categorical_accuracy: 0.8587 INFO:tensorflow:Assets written to: /content/drive/MyDrive/data_papers/test13/model_checkpoints/ParallelCNNRNN_A2_20211210221624_model_017_0.859/assets\n"
          ]
        },
        {
          "output_type": "stream",
          "name": "stderr",
          "text": [
            "INFO:tensorflow:Assets written to: /content/drive/MyDrive/data_papers/test13/model_checkpoints/ParallelCNNRNN_A2_20211210221624_model_017_0.859/assets\n",
            "WARNING:absl:<keras.layers.recurrent.GRUCell object at 0x7efa72435410> has the same name 'GRUCell' as a built-in Keras object. Consider renaming <class 'keras.layers.recurrent.GRUCell'> to avoid naming conflicts when loading with `tf.keras.models.load_model`. If renaming is not possible, pass the object in the `custom_objects` parameter of the load function.\n",
            "WARNING:absl:<keras.layers.recurrent.GRUCell object at 0x7efa724b0c10> has the same name 'GRUCell' as a built-in Keras object. Consider renaming <class 'keras.layers.recurrent.GRUCell'> to avoid naming conflicts when loading with `tf.keras.models.load_model`. If renaming is not possible, pass the object in the `custom_objects` parameter of the load function.\n",
            "WARNING:absl:<keras.layers.recurrent.GRUCell object at 0x7efa72291590> has the same name 'GRUCell' as a built-in Keras object. Consider renaming <class 'keras.layers.recurrent.GRUCell'> to avoid naming conflicts when loading with `tf.keras.models.load_model`. If renaming is not possible, pass the object in the `custom_objects` parameter of the load function.\n",
            "WARNING:absl:<keras.layers.recurrent.GRUCell object at 0x7efa72291d90> has the same name 'GRUCell' as a built-in Keras object. Consider renaming <class 'keras.layers.recurrent.GRUCell'> to avoid naming conflicts when loading with `tf.keras.models.load_model`. If renaming is not possible, pass the object in the `custom_objects` parameter of the load function.\n"
          ]
        },
        {
          "output_type": "stream",
          "name": "stdout",
          "text": [
            "\b\b\b\b\b\b\b\b\b\b\b\b\b\b\b\b\b\b\b\b\b\b\b\b\b\b\b\b\b\b\b\b\b\b\b\b\b\b\b\b\b\b\b\b\b\b\b\b\b\b\b\b\b\b\b\b\b\b\b\b\b\b\b\b\b\b\b\b\b\b\b\b\b\b\b\b\b\b\b\b\b\b\b\b\b\b\b\b\b\b\b\b\b\b\b\b\r242/242 [==============================] - 3027s 13s/step - loss: 0.4185 - categorical_accuracy: 0.8587 - val_loss: 0.1790 - val_categorical_accuracy: 0.9428\n",
            "Epoch 18/250\n",
            "242/242 [==============================] - 3010s 12s/step - loss: 0.4041 - categorical_accuracy: 0.8669 - val_loss: 0.1913 - val_categorical_accuracy: 0.9358\n",
            "Epoch 19/250\n",
            "242/242 [==============================] - 3009s 12s/step - loss: 0.3899 - categorical_accuracy: 0.8705 - val_loss: 0.1976 - val_categorical_accuracy: 0.9382\n",
            "Epoch 20/250\n",
            "242/242 [==============================] - ETA: 0s - loss: 0.3433 - categorical_accuracy: 0.8837 INFO:tensorflow:Assets written to: /content/drive/MyDrive/data_papers/test13/model_checkpoints/ParallelCNNRNN_A2_20211210221624_model_020_0.884/assets\n"
          ]
        },
        {
          "output_type": "stream",
          "name": "stderr",
          "text": [
            "INFO:tensorflow:Assets written to: /content/drive/MyDrive/data_papers/test13/model_checkpoints/ParallelCNNRNN_A2_20211210221624_model_020_0.884/assets\n",
            "WARNING:absl:<keras.layers.recurrent.GRUCell object at 0x7efa72435410> has the same name 'GRUCell' as a built-in Keras object. Consider renaming <class 'keras.layers.recurrent.GRUCell'> to avoid naming conflicts when loading with `tf.keras.models.load_model`. If renaming is not possible, pass the object in the `custom_objects` parameter of the load function.\n",
            "WARNING:absl:<keras.layers.recurrent.GRUCell object at 0x7efa724b0c10> has the same name 'GRUCell' as a built-in Keras object. Consider renaming <class 'keras.layers.recurrent.GRUCell'> to avoid naming conflicts when loading with `tf.keras.models.load_model`. If renaming is not possible, pass the object in the `custom_objects` parameter of the load function.\n",
            "WARNING:absl:<keras.layers.recurrent.GRUCell object at 0x7efa72291590> has the same name 'GRUCell' as a built-in Keras object. Consider renaming <class 'keras.layers.recurrent.GRUCell'> to avoid naming conflicts when loading with `tf.keras.models.load_model`. If renaming is not possible, pass the object in the `custom_objects` parameter of the load function.\n",
            "WARNING:absl:<keras.layers.recurrent.GRUCell object at 0x7efa72291d90> has the same name 'GRUCell' as a built-in Keras object. Consider renaming <class 'keras.layers.recurrent.GRUCell'> to avoid naming conflicts when loading with `tf.keras.models.load_model`. If renaming is not possible, pass the object in the `custom_objects` parameter of the load function.\n"
          ]
        },
        {
          "output_type": "stream",
          "name": "stdout",
          "text": [
            "\b\b\b\b\b\b\b\b\b\b\b\b\b\b\b\b\b\b\b\b\b\b\b\b\b\b\b\b\b\b\b\b\b\b\b\b\b\b\b\b\b\b\b\b\b\b\b\b\b\b\b\b\b\b\b\b\b\b\b\b\b\b\b\b\b\b\b\b\b\b\b\b\b\b\b\b\b\b\b\b\b\b\b\b\b\b\b\b\b\b\b\b\b\b\b\b\r242/242 [==============================] - 3023s 12s/step - loss: 0.3433 - categorical_accuracy: 0.8837 - val_loss: 0.1572 - val_categorical_accuracy: 0.9487\n",
            "Epoch 21/250\n",
            "242/242 [==============================] - ETA: 0s - loss: 0.3381 - categorical_accuracy: 0.8870 INFO:tensorflow:Assets written to: /content/drive/MyDrive/data_papers/test13/model_checkpoints/ParallelCNNRNN_A2_20211210221624_model_021_0.887/assets\n"
          ]
        },
        {
          "output_type": "stream",
          "name": "stderr",
          "text": [
            "INFO:tensorflow:Assets written to: /content/drive/MyDrive/data_papers/test13/model_checkpoints/ParallelCNNRNN_A2_20211210221624_model_021_0.887/assets\n",
            "WARNING:absl:<keras.layers.recurrent.GRUCell object at 0x7efa72435410> has the same name 'GRUCell' as a built-in Keras object. Consider renaming <class 'keras.layers.recurrent.GRUCell'> to avoid naming conflicts when loading with `tf.keras.models.load_model`. If renaming is not possible, pass the object in the `custom_objects` parameter of the load function.\n",
            "WARNING:absl:<keras.layers.recurrent.GRUCell object at 0x7efa724b0c10> has the same name 'GRUCell' as a built-in Keras object. Consider renaming <class 'keras.layers.recurrent.GRUCell'> to avoid naming conflicts when loading with `tf.keras.models.load_model`. If renaming is not possible, pass the object in the `custom_objects` parameter of the load function.\n",
            "WARNING:absl:<keras.layers.recurrent.GRUCell object at 0x7efa72291590> has the same name 'GRUCell' as a built-in Keras object. Consider renaming <class 'keras.layers.recurrent.GRUCell'> to avoid naming conflicts when loading with `tf.keras.models.load_model`. If renaming is not possible, pass the object in the `custom_objects` parameter of the load function.\n",
            "WARNING:absl:<keras.layers.recurrent.GRUCell object at 0x7efa72291d90> has the same name 'GRUCell' as a built-in Keras object. Consider renaming <class 'keras.layers.recurrent.GRUCell'> to avoid naming conflicts when loading with `tf.keras.models.load_model`. If renaming is not possible, pass the object in the `custom_objects` parameter of the load function.\n"
          ]
        },
        {
          "output_type": "stream",
          "name": "stdout",
          "text": [
            "\b\b\b\b\b\b\b\b\b\b\b\b\b\b\b\b\b\b\b\b\b\b\b\b\b\b\b\b\b\b\b\b\b\b\b\b\b\b\b\b\b\b\b\b\b\b\b\b\b\b\b\b\b\b\b\b\b\b\b\b\b\b\b\b\b\b\b\b\b\b\b\b\b\b\b\b\b\b\b\b\b\b\b\b\b\b\b\b\b\b\b\b\b\b\b\b\r242/242 [==============================] - 3065s 13s/step - loss: 0.3381 - categorical_accuracy: 0.8870 - val_loss: 0.1030 - val_categorical_accuracy: 0.9662\n",
            "Epoch 22/250\n",
            "242/242 [==============================] - ETA: 0s - loss: 0.3333 - categorical_accuracy: 0.8885 INFO:tensorflow:Assets written to: /content/drive/MyDrive/data_papers/test13/model_checkpoints/ParallelCNNRNN_A2_20211210221624_model_022_0.889/assets\n"
          ]
        },
        {
          "output_type": "stream",
          "name": "stderr",
          "text": [
            "INFO:tensorflow:Assets written to: /content/drive/MyDrive/data_papers/test13/model_checkpoints/ParallelCNNRNN_A2_20211210221624_model_022_0.889/assets\n",
            "WARNING:absl:<keras.layers.recurrent.GRUCell object at 0x7efa72435410> has the same name 'GRUCell' as a built-in Keras object. Consider renaming <class 'keras.layers.recurrent.GRUCell'> to avoid naming conflicts when loading with `tf.keras.models.load_model`. If renaming is not possible, pass the object in the `custom_objects` parameter of the load function.\n",
            "WARNING:absl:<keras.layers.recurrent.GRUCell object at 0x7efa724b0c10> has the same name 'GRUCell' as a built-in Keras object. Consider renaming <class 'keras.layers.recurrent.GRUCell'> to avoid naming conflicts when loading with `tf.keras.models.load_model`. If renaming is not possible, pass the object in the `custom_objects` parameter of the load function.\n",
            "WARNING:absl:<keras.layers.recurrent.GRUCell object at 0x7efa72291590> has the same name 'GRUCell' as a built-in Keras object. Consider renaming <class 'keras.layers.recurrent.GRUCell'> to avoid naming conflicts when loading with `tf.keras.models.load_model`. If renaming is not possible, pass the object in the `custom_objects` parameter of the load function.\n",
            "WARNING:absl:<keras.layers.recurrent.GRUCell object at 0x7efa72291d90> has the same name 'GRUCell' as a built-in Keras object. Consider renaming <class 'keras.layers.recurrent.GRUCell'> to avoid naming conflicts when loading with `tf.keras.models.load_model`. If renaming is not possible, pass the object in the `custom_objects` parameter of the load function.\n"
          ]
        },
        {
          "output_type": "stream",
          "name": "stdout",
          "text": [
            "\b\b\b\b\b\b\b\b\b\b\b\b\b\b\b\b\b\b\b\b\b\b\b\b\b\b\b\b\b\b\b\b\b\b\b\b\b\b\b\b\b\b\b\b\b\b\b\b\b\b\b\b\b\b\b\b\b\b\b\b\b\b\b\b\b\b\b\b\b\b\b\b\b\b\b\b\b\b\b\b\b\b\b\b\b\b\b\b\b\b\b\b\b\b\b\b\r242/242 [==============================] - 2972s 12s/step - loss: 0.3333 - categorical_accuracy: 0.8885 - val_loss: 0.0925 - val_categorical_accuracy: 0.9743\n",
            "Epoch 23/250\n",
            "242/242 [==============================] - ETA: 0s - loss: 0.3025 - categorical_accuracy: 0.8997 INFO:tensorflow:Assets written to: /content/drive/MyDrive/data_papers/test13/model_checkpoints/ParallelCNNRNN_A2_20211210221624_model_023_0.900/assets\n"
          ]
        },
        {
          "output_type": "stream",
          "name": "stderr",
          "text": [
            "INFO:tensorflow:Assets written to: /content/drive/MyDrive/data_papers/test13/model_checkpoints/ParallelCNNRNN_A2_20211210221624_model_023_0.900/assets\n",
            "WARNING:absl:<keras.layers.recurrent.GRUCell object at 0x7efa72435410> has the same name 'GRUCell' as a built-in Keras object. Consider renaming <class 'keras.layers.recurrent.GRUCell'> to avoid naming conflicts when loading with `tf.keras.models.load_model`. If renaming is not possible, pass the object in the `custom_objects` parameter of the load function.\n",
            "WARNING:absl:<keras.layers.recurrent.GRUCell object at 0x7efa724b0c10> has the same name 'GRUCell' as a built-in Keras object. Consider renaming <class 'keras.layers.recurrent.GRUCell'> to avoid naming conflicts when loading with `tf.keras.models.load_model`. If renaming is not possible, pass the object in the `custom_objects` parameter of the load function.\n",
            "WARNING:absl:<keras.layers.recurrent.GRUCell object at 0x7efa72291590> has the same name 'GRUCell' as a built-in Keras object. Consider renaming <class 'keras.layers.recurrent.GRUCell'> to avoid naming conflicts when loading with `tf.keras.models.load_model`. If renaming is not possible, pass the object in the `custom_objects` parameter of the load function.\n",
            "WARNING:absl:<keras.layers.recurrent.GRUCell object at 0x7efa72291d90> has the same name 'GRUCell' as a built-in Keras object. Consider renaming <class 'keras.layers.recurrent.GRUCell'> to avoid naming conflicts when loading with `tf.keras.models.load_model`. If renaming is not possible, pass the object in the `custom_objects` parameter of the load function.\n"
          ]
        },
        {
          "output_type": "stream",
          "name": "stdout",
          "text": [
            "\b\b\b\b\b\b\b\b\b\b\b\b\b\b\b\b\b\b\b\b\b\b\b\b\b\b\b\b\b\b\b\b\b\b\b\b\b\b\b\b\b\b\b\b\b\b\b\b\b\b\b\b\b\b\b\b\b\b\b\b\b\b\b\b\b\b\b\b\b\b\b\b\b\b\b\b\b\b\b\b\b\b\b\b\b\b\b\b\b\b\b\b\b\b\b\b\r242/242 [==============================] - 2970s 12s/step - loss: 0.3025 - categorical_accuracy: 0.8997 - val_loss: 0.0835 - val_categorical_accuracy: 0.9767\n",
            "Epoch 24/250\n",
            "242/242 [==============================] - 2931s 12s/step - loss: 0.3054 - categorical_accuracy: 0.8968 - val_loss: 0.1585 - val_categorical_accuracy: 0.9463\n",
            "Epoch 25/250\n",
            "242/242 [==============================] - 2936s 12s/step - loss: 0.3005 - categorical_accuracy: 0.8992 - val_loss: 0.0906 - val_categorical_accuracy: 0.9697\n",
            "Epoch 26/250\n",
            "242/242 [==============================] - 2939s 12s/step - loss: 0.2701 - categorical_accuracy: 0.9103 - val_loss: 0.0980 - val_categorical_accuracy: 0.9673\n",
            "Epoch 27/250\n",
            "242/242 [==============================] - ETA: 0s - loss: 0.2720 - categorical_accuracy: 0.9086 INFO:tensorflow:Assets written to: /content/drive/MyDrive/data_papers/test13/model_checkpoints/ParallelCNNRNN_A2_20211210221624_model_027_0.909/assets\n"
          ]
        },
        {
          "output_type": "stream",
          "name": "stderr",
          "text": [
            "INFO:tensorflow:Assets written to: /content/drive/MyDrive/data_papers/test13/model_checkpoints/ParallelCNNRNN_A2_20211210221624_model_027_0.909/assets\n",
            "WARNING:absl:<keras.layers.recurrent.GRUCell object at 0x7efa72435410> has the same name 'GRUCell' as a built-in Keras object. Consider renaming <class 'keras.layers.recurrent.GRUCell'> to avoid naming conflicts when loading with `tf.keras.models.load_model`. If renaming is not possible, pass the object in the `custom_objects` parameter of the load function.\n",
            "WARNING:absl:<keras.layers.recurrent.GRUCell object at 0x7efa724b0c10> has the same name 'GRUCell' as a built-in Keras object. Consider renaming <class 'keras.layers.recurrent.GRUCell'> to avoid naming conflicts when loading with `tf.keras.models.load_model`. If renaming is not possible, pass the object in the `custom_objects` parameter of the load function.\n",
            "WARNING:absl:<keras.layers.recurrent.GRUCell object at 0x7efa72291590> has the same name 'GRUCell' as a built-in Keras object. Consider renaming <class 'keras.layers.recurrent.GRUCell'> to avoid naming conflicts when loading with `tf.keras.models.load_model`. If renaming is not possible, pass the object in the `custom_objects` parameter of the load function.\n",
            "WARNING:absl:<keras.layers.recurrent.GRUCell object at 0x7efa72291d90> has the same name 'GRUCell' as a built-in Keras object. Consider renaming <class 'keras.layers.recurrent.GRUCell'> to avoid naming conflicts when loading with `tf.keras.models.load_model`. If renaming is not possible, pass the object in the `custom_objects` parameter of the load function.\n"
          ]
        },
        {
          "output_type": "stream",
          "name": "stdout",
          "text": [
            "\b\b\b\b\b\b\b\b\b\b\b\b\b\b\b\b\b\b\b\b\b\b\b\b\b\b\b\b\b\b\b\b\b\b\b\b\b\b\b\b\b\b\b\b\b\b\b\b\b\b\b\b\b\b\b\b\b\b\b\b\b\b\b\b\b\b\b\b\b\b\b\b\b\b\b\b\b\b\b\b\b\b\b\b\b\b\b\b\b\b\b\b\b\b\b\b\r242/242 [==============================] - 2933s 12s/step - loss: 0.2720 - categorical_accuracy: 0.9086 - val_loss: 0.0646 - val_categorical_accuracy: 0.9848\n",
            "Epoch 28/250\n",
            "242/242 [==============================] - 2872s 12s/step - loss: 0.2437 - categorical_accuracy: 0.9209 - val_loss: 0.0661 - val_categorical_accuracy: 0.9825\n",
            "Epoch 29/250\n",
            "242/242 [==============================] - 2896s 12s/step - loss: 0.2483 - categorical_accuracy: 0.9132 - val_loss: 0.0681 - val_categorical_accuracy: 0.9743\n",
            "Epoch 30/250\n",
            "114/242 [=============>................] - ETA: 25:28 - loss: 0.2256 - categorical_accuracy: 0.9309"
          ]
        }
      ]
    },
    {
      "cell_type": "code",
      "source": [
        "paper_name"
      ],
      "metadata": {
        "colab": {
          "base_uri": "https://localhost:8080/",
          "height": 36
        },
        "id": "piirpfNtAhBV",
        "outputId": "c1d69996-7e01-4785-8893-32a371a50950"
      },
      "execution_count": null,
      "outputs": [
        {
          "output_type": "execute_result",
          "data": {
            "application/vnd.google.colaboratory.intrinsic+json": {
              "type": "string"
            },
            "text/plain": [
              "'test13'"
            ]
          },
          "metadata": {},
          "execution_count": 38
        }
      ]
    },
    {
      "cell_type": "code",
      "metadata": {
        "id": "SRolnh9r_bcK",
        "colab": {
          "base_uri": "https://localhost:8080/"
        },
        "outputId": "7371a421-56e1-4fb3-e8ab-56d7d1198a45"
      },
      "source": [
        "\n",
        "stored_model_c1r1 = load_model(f\"/content/drive/MyDrive/data_papers/{paper_name}/model_checkpoints/ParallelCNNRNN_A2_20211210221624_model_027_0.909/\")\n",
        "\n",
        "pdcnn20, pdcnn20h = compile_and_fit_model_basic( stored_model_c1r1,  \n",
        "                    stored_model_c1r1.name, \n",
        "                    X_new_train[0,:,:].shape, \n",
        "                    X_new_train, Y_new_train,\n",
        "                    save_max_epoch=True,\n",
        "                    save_final=True,\n",
        "                    patience_count = 10,\n",
        "                    early_stopping_obs = 'val_categorical_accuracy',\n",
        "                    log_history = True,\n",
        "                    verbose_level = 1,                             \n",
        "                    batch_size=32, \n",
        "                    epochs=250, \n",
        "                    class_weight=None, \n",
        "                    validation_data=(X_val_1000e, Y_val_1000e))\n",
        "\n",
        "# plot_history(pdnn20h)\n",
        "# plot_history(pcnn20h)\n",
        "# plot_history(pdcnn20h)\n"
      ],
      "execution_count": null,
      "outputs": [
        {
          "output_type": "stream",
          "name": "stdout",
          "text": [
            "WARNING:tensorflow:Layer gru will not use cuDNN kernels since it doesn't meet the criteria. It will use a generic GPU kernel as fallback when running on GPU.\n",
            "WARNING:tensorflow:Layer gru will not use cuDNN kernels since it doesn't meet the criteria. It will use a generic GPU kernel as fallback when running on GPU.\n",
            "WARNING:tensorflow:Layer gru will not use cuDNN kernels since it doesn't meet the criteria. It will use a generic GPU kernel as fallback when running on GPU.\n",
            "WARNING:tensorflow:Layer gru_1 will not use cuDNN kernels since it doesn't meet the criteria. It will use a generic GPU kernel as fallback when running on GPU.\n",
            "WARNING:tensorflow:Layer gru_1 will not use cuDNN kernels since it doesn't meet the criteria. It will use a generic GPU kernel as fallback when running on GPU.\n",
            "WARNING:tensorflow:Layer gru_1 will not use cuDNN kernels since it doesn't meet the criteria. It will use a generic GPU kernel as fallback when running on GPU.\n",
            "Epoch 1/250\n",
            "242/242 [==============================] - ETA: 0s - loss: 0.2633 - categorical_accuracy: 0.9107 INFO:tensorflow:Assets written to: /content/drive/MyDrive/data_papers/test13/model_checkpoints/ParallelCNNRNN_A2_20211210221624_model_001_0.911/assets\n"
          ]
        },
        {
          "output_type": "stream",
          "name": "stderr",
          "text": [
            "WARNING:absl:<keras.layers.recurrent.GRUCell object at 0x7fd1a86fd810> has the same name 'GRUCell' as a built-in Keras object. Consider renaming <class 'keras.layers.recurrent.GRUCell'> to avoid naming conflicts when loading with `tf.keras.models.load_model`. If renaming is not possible, pass the object in the `custom_objects` parameter of the load function.\n",
            "WARNING:absl:<keras.layers.recurrent.GRUCell object at 0x7fd1ce11e650> has the same name 'GRUCell' as a built-in Keras object. Consider renaming <class 'keras.layers.recurrent.GRUCell'> to avoid naming conflicts when loading with `tf.keras.models.load_model`. If renaming is not possible, pass the object in the `custom_objects` parameter of the load function.\n",
            "WARNING:absl:<keras.layers.recurrent.GRUCell object at 0x7fd1a86efd90> has the same name 'GRUCell' as a built-in Keras object. Consider renaming <class 'keras.layers.recurrent.GRUCell'> to avoid naming conflicts when loading with `tf.keras.models.load_model`. If renaming is not possible, pass the object in the `custom_objects` parameter of the load function.\n",
            "WARNING:absl:<keras.layers.recurrent.GRUCell object at 0x7fd1a86f9790> has the same name 'GRUCell' as a built-in Keras object. Consider renaming <class 'keras.layers.recurrent.GRUCell'> to avoid naming conflicts when loading with `tf.keras.models.load_model`. If renaming is not possible, pass the object in the `custom_objects` parameter of the load function.\n"
          ]
        },
        {
          "output_type": "stream",
          "name": "stdout",
          "text": [
            "\b\b\b\b\b\b\b\b\b\b\b\b\b\b\b\b\b\b\b\b\b\b\b\b\b\b\b\b\b\b\b\b\b\b\b\b\b\b\b\b\b\b\b\b\b\b\b\b\b\b\b\b\b\b\b\b\b\b\b\b\b\b\b\b\b\b\b\b\b\b\b\b\b\b\b\b\b\b\b\b\b\b\b\b\b\b\b\b\b\b\b\b\b\b\b\b\r242/242 [==============================] - 3044s 12s/step - loss: 0.2633 - categorical_accuracy: 0.9107 - val_loss: 0.0524 - val_categorical_accuracy: 0.9872\n",
            "Epoch 2/250\n",
            "242/242 [==============================] - 3034s 13s/step - loss: 0.2546 - categorical_accuracy: 0.9148 - val_loss: 0.0710 - val_categorical_accuracy: 0.9732\n",
            "Epoch 3/250\n",
            "242/242 [==============================] - 3022s 12s/step - loss: 0.2418 - categorical_accuracy: 0.9204 - val_loss: 0.0455 - val_categorical_accuracy: 0.9860\n",
            "Epoch 4/250\n",
            "242/242 [==============================] - 3023s 12s/step - loss: 0.2190 - categorical_accuracy: 0.9285 - val_loss: 0.0497 - val_categorical_accuracy: 0.9860\n",
            "Epoch 5/250\n",
            "242/242 [==============================] - ETA: 0s - loss: 0.2045 - categorical_accuracy: 0.9321 INFO:tensorflow:Assets written to: /content/drive/MyDrive/data_papers/test13/model_checkpoints/ParallelCNNRNN_A2_20211210221624_model_005_0.932/assets\n"
          ]
        },
        {
          "output_type": "stream",
          "name": "stderr",
          "text": [
            "INFO:tensorflow:Assets written to: /content/drive/MyDrive/data_papers/test13/model_checkpoints/ParallelCNNRNN_A2_20211210221624_model_005_0.932/assets\n",
            "WARNING:absl:<keras.layers.recurrent.GRUCell object at 0x7fd1a86fd810> has the same name 'GRUCell' as a built-in Keras object. Consider renaming <class 'keras.layers.recurrent.GRUCell'> to avoid naming conflicts when loading with `tf.keras.models.load_model`. If renaming is not possible, pass the object in the `custom_objects` parameter of the load function.\n",
            "WARNING:absl:<keras.layers.recurrent.GRUCell object at 0x7fd1ce11e650> has the same name 'GRUCell' as a built-in Keras object. Consider renaming <class 'keras.layers.recurrent.GRUCell'> to avoid naming conflicts when loading with `tf.keras.models.load_model`. If renaming is not possible, pass the object in the `custom_objects` parameter of the load function.\n",
            "WARNING:absl:<keras.layers.recurrent.GRUCell object at 0x7fd1a86efd90> has the same name 'GRUCell' as a built-in Keras object. Consider renaming <class 'keras.layers.recurrent.GRUCell'> to avoid naming conflicts when loading with `tf.keras.models.load_model`. If renaming is not possible, pass the object in the `custom_objects` parameter of the load function.\n",
            "WARNING:absl:<keras.layers.recurrent.GRUCell object at 0x7fd1a86f9790> has the same name 'GRUCell' as a built-in Keras object. Consider renaming <class 'keras.layers.recurrent.GRUCell'> to avoid naming conflicts when loading with `tf.keras.models.load_model`. If renaming is not possible, pass the object in the `custom_objects` parameter of the load function.\n"
          ]
        },
        {
          "output_type": "stream",
          "name": "stdout",
          "text": [
            "\b\b\b\b\b\b\b\b\b\b\b\b\b\b\b\b\b\b\b\b\b\b\b\b\b\b\b\b\b\b\b\b\b\b\b\b\b\b\b\b\b\b\b\b\b\b\b\b\b\b\b\b\b\b\b\b\b\b\b\b\b\b\b\b\b\b\b\b\b\b\b\b\b\b\b\b\b\b\b\b\b\b\b\b\b\b\b\b\b\b\b\b\b\b\b\b\r242/242 [==============================] - 2987s 12s/step - loss: 0.2045 - categorical_accuracy: 0.9321 - val_loss: 0.0355 - val_categorical_accuracy: 0.9907\n",
            "Epoch 6/250\n",
            "242/242 [==============================] - 2916s 12s/step - loss: 0.2178 - categorical_accuracy: 0.9257 - val_loss: 0.0380 - val_categorical_accuracy: 0.9907\n",
            "Epoch 7/250\n",
            "242/242 [==============================] - 2915s 12s/step - loss: 0.2133 - categorical_accuracy: 0.9274 - val_loss: 0.0406 - val_categorical_accuracy: 0.9907\n",
            "Epoch 8/250\n",
            "242/242 [==============================] - ETA: 0s - loss: 0.1968 - categorical_accuracy: 0.9309 INFO:tensorflow:Assets written to: /content/drive/MyDrive/data_papers/test13/model_checkpoints/ParallelCNNRNN_A2_20211210221624_model_008_0.931/assets\n"
          ]
        },
        {
          "output_type": "stream",
          "name": "stderr",
          "text": [
            "INFO:tensorflow:Assets written to: /content/drive/MyDrive/data_papers/test13/model_checkpoints/ParallelCNNRNN_A2_20211210221624_model_008_0.931/assets\n",
            "WARNING:absl:<keras.layers.recurrent.GRUCell object at 0x7fd1a86fd810> has the same name 'GRUCell' as a built-in Keras object. Consider renaming <class 'keras.layers.recurrent.GRUCell'> to avoid naming conflicts when loading with `tf.keras.models.load_model`. If renaming is not possible, pass the object in the `custom_objects` parameter of the load function.\n",
            "WARNING:absl:<keras.layers.recurrent.GRUCell object at 0x7fd1ce11e650> has the same name 'GRUCell' as a built-in Keras object. Consider renaming <class 'keras.layers.recurrent.GRUCell'> to avoid naming conflicts when loading with `tf.keras.models.load_model`. If renaming is not possible, pass the object in the `custom_objects` parameter of the load function.\n",
            "WARNING:absl:<keras.layers.recurrent.GRUCell object at 0x7fd1a86efd90> has the same name 'GRUCell' as a built-in Keras object. Consider renaming <class 'keras.layers.recurrent.GRUCell'> to avoid naming conflicts when loading with `tf.keras.models.load_model`. If renaming is not possible, pass the object in the `custom_objects` parameter of the load function.\n",
            "WARNING:absl:<keras.layers.recurrent.GRUCell object at 0x7fd1a86f9790> has the same name 'GRUCell' as a built-in Keras object. Consider renaming <class 'keras.layers.recurrent.GRUCell'> to avoid naming conflicts when loading with `tf.keras.models.load_model`. If renaming is not possible, pass the object in the `custom_objects` parameter of the load function.\n"
          ]
        },
        {
          "output_type": "stream",
          "name": "stdout",
          "text": [
            "\b\b\b\b\b\b\b\b\b\b\b\b\b\b\b\b\b\b\b\b\b\b\b\b\b\b\b\b\b\b\b\b\b\b\b\b\b\b\b\b\b\b\b\b\b\b\b\b\b\b\b\b\b\b\b\b\b\b\b\b\b\b\b\b\b\b\b\b\b\b\b\b\b\b\b\b\b\b\b\b\b\b\b\b\b\b\b\b\b\b\b\b\b\b\b\b\r242/242 [==============================] - 2975s 12s/step - loss: 0.1968 - categorical_accuracy: 0.9309 - val_loss: 0.0258 - val_categorical_accuracy: 0.9918\n",
            "Epoch 9/250\n",
            "242/242 [==============================] - ETA: 0s - loss: 0.2076 - categorical_accuracy: 0.9340 INFO:tensorflow:Assets written to: /content/drive/MyDrive/data_papers/test13/model_checkpoints/ParallelCNNRNN_A2_20211210221624_model_009_0.934/assets\n"
          ]
        },
        {
          "output_type": "stream",
          "name": "stderr",
          "text": [
            "INFO:tensorflow:Assets written to: /content/drive/MyDrive/data_papers/test13/model_checkpoints/ParallelCNNRNN_A2_20211210221624_model_009_0.934/assets\n",
            "WARNING:absl:<keras.layers.recurrent.GRUCell object at 0x7fd1a86fd810> has the same name 'GRUCell' as a built-in Keras object. Consider renaming <class 'keras.layers.recurrent.GRUCell'> to avoid naming conflicts when loading with `tf.keras.models.load_model`. If renaming is not possible, pass the object in the `custom_objects` parameter of the load function.\n",
            "WARNING:absl:<keras.layers.recurrent.GRUCell object at 0x7fd1ce11e650> has the same name 'GRUCell' as a built-in Keras object. Consider renaming <class 'keras.layers.recurrent.GRUCell'> to avoid naming conflicts when loading with `tf.keras.models.load_model`. If renaming is not possible, pass the object in the `custom_objects` parameter of the load function.\n",
            "WARNING:absl:<keras.layers.recurrent.GRUCell object at 0x7fd1a86efd90> has the same name 'GRUCell' as a built-in Keras object. Consider renaming <class 'keras.layers.recurrent.GRUCell'> to avoid naming conflicts when loading with `tf.keras.models.load_model`. If renaming is not possible, pass the object in the `custom_objects` parameter of the load function.\n",
            "WARNING:absl:<keras.layers.recurrent.GRUCell object at 0x7fd1a86f9790> has the same name 'GRUCell' as a built-in Keras object. Consider renaming <class 'keras.layers.recurrent.GRUCell'> to avoid naming conflicts when loading with `tf.keras.models.load_model`. If renaming is not possible, pass the object in the `custom_objects` parameter of the load function.\n"
          ]
        },
        {
          "output_type": "stream",
          "name": "stdout",
          "text": [
            "\b\b\b\b\b\b\b\b\b\b\b\b\b\b\b\b\b\b\b\b\b\b\b\b\b\b\b\b\b\b\b\b\b\b\b\b\b\b\b\b\b\b\b\b\b\b\b\b\b\b\b\b\b\b\b\b\b\b\b\b\b\b\b\b\b\b\b\b\b\b\b\b\b\b\b\b\b\b\b\b\b\b\b\b\b\b\b\b\b\b\b\b\b\b\b\b\r242/242 [==============================] - 2964s 12s/step - loss: 0.2076 - categorical_accuracy: 0.9340 - val_loss: 0.0159 - val_categorical_accuracy: 0.9942\n",
            "Epoch 10/250\n",
            "242/242 [==============================] - 2934s 12s/step - loss: 0.1721 - categorical_accuracy: 0.9424 - val_loss: 0.0625 - val_categorical_accuracy: 0.9837\n",
            "Epoch 11/250\n",
            "242/242 [==============================] - ETA: 0s - loss: 0.1573 - categorical_accuracy: 0.9461 INFO:tensorflow:Assets written to: /content/drive/MyDrive/data_papers/test13/model_checkpoints/ParallelCNNRNN_A2_20211210221624_model_011_0.946/assets\n"
          ]
        },
        {
          "output_type": "stream",
          "name": "stderr",
          "text": [
            "INFO:tensorflow:Assets written to: /content/drive/MyDrive/data_papers/test13/model_checkpoints/ParallelCNNRNN_A2_20211210221624_model_011_0.946/assets\n",
            "WARNING:absl:<keras.layers.recurrent.GRUCell object at 0x7fd1a86fd810> has the same name 'GRUCell' as a built-in Keras object. Consider renaming <class 'keras.layers.recurrent.GRUCell'> to avoid naming conflicts when loading with `tf.keras.models.load_model`. If renaming is not possible, pass the object in the `custom_objects` parameter of the load function.\n",
            "WARNING:absl:<keras.layers.recurrent.GRUCell object at 0x7fd1ce11e650> has the same name 'GRUCell' as a built-in Keras object. Consider renaming <class 'keras.layers.recurrent.GRUCell'> to avoid naming conflicts when loading with `tf.keras.models.load_model`. If renaming is not possible, pass the object in the `custom_objects` parameter of the load function.\n",
            "WARNING:absl:<keras.layers.recurrent.GRUCell object at 0x7fd1a86efd90> has the same name 'GRUCell' as a built-in Keras object. Consider renaming <class 'keras.layers.recurrent.GRUCell'> to avoid naming conflicts when loading with `tf.keras.models.load_model`. If renaming is not possible, pass the object in the `custom_objects` parameter of the load function.\n",
            "WARNING:absl:<keras.layers.recurrent.GRUCell object at 0x7fd1a86f9790> has the same name 'GRUCell' as a built-in Keras object. Consider renaming <class 'keras.layers.recurrent.GRUCell'> to avoid naming conflicts when loading with `tf.keras.models.load_model`. If renaming is not possible, pass the object in the `custom_objects` parameter of the load function.\n"
          ]
        },
        {
          "output_type": "stream",
          "name": "stdout",
          "text": [
            "\b\b\b\b\b\b\b\b\b\b\b\b\b\b\b\b\b\b\b\b\b\b\b\b\b\b\b\b\b\b\b\b\b\b\b\b\b\b\b\b\b\b\b\b\b\b\b\b\b\b\b\b\b\b\b\b\b\b\b\b\b\b\b\b\b\b\b\b\b\b\b\b\b\b\b\b\b\b\b\b\b\b\b\b\b\b\b\b\b\b\b\b\b\b\b\b\r242/242 [==============================] - 2912s 12s/step - loss: 0.1573 - categorical_accuracy: 0.9461 - val_loss: 0.0103 - val_categorical_accuracy: 0.9988\n",
            "Epoch 12/250\n",
            "242/242 [==============================] - 2909s 12s/step - loss: 0.1607 - categorical_accuracy: 0.9436 - val_loss: 0.0132 - val_categorical_accuracy: 0.9953\n",
            "Epoch 13/250\n",
            "242/242 [==============================] - 2882s 12s/step - loss: 0.1542 - categorical_accuracy: 0.9474 - val_loss: 0.0129 - val_categorical_accuracy: 0.9977\n",
            "Epoch 14/250\n",
            "242/242 [==============================] - 2915s 12s/step - loss: 0.1638 - categorical_accuracy: 0.9462 - val_loss: 0.0704 - val_categorical_accuracy: 0.9767\n",
            "Epoch 15/250\n",
            "242/242 [==============================] - 2893s 12s/step - loss: 0.1482 - categorical_accuracy: 0.9496 - val_loss: 0.0144 - val_categorical_accuracy: 0.9942\n",
            "Epoch 16/250\n",
            "242/242 [==============================] - 2899s 12s/step - loss: 0.1333 - categorical_accuracy: 0.9546 - val_loss: 0.0092 - val_categorical_accuracy: 0.9953\n",
            "Epoch 17/250\n",
            "242/242 [==============================] - 2911s 12s/step - loss: 0.1312 - categorical_accuracy: 0.9564 - val_loss: 0.0227 - val_categorical_accuracy: 0.9918\n",
            "Epoch 18/250\n",
            "242/242 [==============================] - 2915s 12s/step - loss: 0.1593 - categorical_accuracy: 0.9462 - val_loss: 0.0105 - val_categorical_accuracy: 0.9953\n",
            "Epoch 19/250\n",
            "242/242 [==============================] - 2903s 12s/step - loss: 0.1497 - categorical_accuracy: 0.9482 - val_loss: 0.0232 - val_categorical_accuracy: 0.9953\n",
            "Epoch 20/250\n",
            "242/242 [==============================] - 2919s 12s/step - loss: 0.1435 - categorical_accuracy: 0.9507 - val_loss: 0.0143 - val_categorical_accuracy: 0.9965\n",
            "Epoch 21/250\n",
            "242/242 [==============================] - 2911s 12s/step - loss: 0.1160 - categorical_accuracy: 0.9618 - val_loss: 0.0045 - val_categorical_accuracy: 0.9988\n",
            "INFO:tensorflow:Assets written to: /content/drive/MyDrive/data_papers/test13/model_finals/ParallelCNNRNN_A2_20211210221624_saved_model_after_fit/assets\n"
          ]
        },
        {
          "output_type": "stream",
          "name": "stderr",
          "text": [
            "INFO:tensorflow:Assets written to: /content/drive/MyDrive/data_papers/test13/model_finals/ParallelCNNRNN_A2_20211210221624_saved_model_after_fit/assets\n",
            "WARNING:absl:<keras.layers.recurrent.GRUCell object at 0x7fd1a86fd810> has the same name 'GRUCell' as a built-in Keras object. Consider renaming <class 'keras.layers.recurrent.GRUCell'> to avoid naming conflicts when loading with `tf.keras.models.load_model`. If renaming is not possible, pass the object in the `custom_objects` parameter of the load function.\n",
            "WARNING:absl:<keras.layers.recurrent.GRUCell object at 0x7fd1ce11e650> has the same name 'GRUCell' as a built-in Keras object. Consider renaming <class 'keras.layers.recurrent.GRUCell'> to avoid naming conflicts when loading with `tf.keras.models.load_model`. If renaming is not possible, pass the object in the `custom_objects` parameter of the load function.\n",
            "WARNING:absl:<keras.layers.recurrent.GRUCell object at 0x7fd1a86efd90> has the same name 'GRUCell' as a built-in Keras object. Consider renaming <class 'keras.layers.recurrent.GRUCell'> to avoid naming conflicts when loading with `tf.keras.models.load_model`. If renaming is not possible, pass the object in the `custom_objects` parameter of the load function.\n",
            "WARNING:absl:<keras.layers.recurrent.GRUCell object at 0x7fd1a86f9790> has the same name 'GRUCell' as a built-in Keras object. Consider renaming <class 'keras.layers.recurrent.GRUCell'> to avoid naming conflicts when loading with `tf.keras.models.load_model`. If renaming is not possible, pass the object in the `custom_objects` parameter of the load function.\n"
          ]
        }
      ]
    },
    {
      "cell_type": "markdown",
      "metadata": {
        "id": "eDrWFkawP38Q"
      },
      "source": [
        " the summary results for the fully parallel models"
      ]
    },
    {
      "cell_type": "code",
      "metadata": {
        "id": "KWHWnbJj_2kH"
      },
      "source": [
        "\n",
        "# X_train_1000e, Y_train_1000e, X_test_1000e, Y_test_1000e, X_val_1000e, Y_val_1000e = getE2eData13()\n",
        "# X_new_train = np.concatenate( (X_train_1000e, X_val_1000e), axis=0 )\n",
        "# Y_new_train = np.concatenate( (Y_train_1000e, Y_val_1000e), axis=0 )\n",
        "\n",
        "x_input = X_test_1000e   \n",
        "y_input = Y_test_1000e\n",
        "\n",
        "models_to_use = [pdnn20, pcnn20, pdcnn20]\n",
        "model_predictions = [ np.array(model.predict(x_input), dtype='float64') for model in models_to_use]\n",
        "\n",
        "y_preds = [ np.apply_along_axis(np.argmax, 1, y_pred_model) for y_pred_model in model_predictions ] \n",
        "scores_pdnn20_pcnn20_pdcnn20 = [ pr_rc_f1_acc_from_supplied(y_pred, np.apply_along_axis(np.argmax, 1, y_input)) for y_pred in y_preds ]\n",
        "\n",
        "np.save(f\"/content/drive/MyDrive/data_papers/{paper_name}/summary_results/full_parallel_dnn20_cnn20_cnn10dnn10_wrs10_summary_{datetime.datetime.now():%Y%m%d%H%M%S}\", \n",
        "        np.array(scores_pdnn20_pcnn20_pdcnn20), \n",
        "        allow_pickle=True, \n",
        "        fix_imports=True)\n"
      ],
      "execution_count": null,
      "outputs": []
    },
    {
      "cell_type": "code",
      "metadata": {
        "id": "pE8Hb3aiWxjG"
      },
      "source": [
        "scores_pdnn20_pcnn20_pdcnn20"
      ],
      "execution_count": null,
      "outputs": []
    },
    {
      "cell_type": "markdown",
      "metadata": {
        "id": "bw8waDh-Qrd3"
      },
      "source": [
        "# Set up the models + features file lists for CNN/RNN splits for reuse test13"
      ]
    },
    {
      "cell_type": "code",
      "metadata": {
        "id": "8t3rPGnfQrd3"
      },
      "source": [
        "acceptable_string_grabs = [ \"CNN256_A_\", \"RNN_A_\"]\n",
        "not_check_model_string = [\"arallel\",\"Collab_\"]\n",
        "\n",
        "model_dirs = [  f\"/content/drive/MyDrive/data_papers/{paper_name}/model_finals/{dir_entry.name}\" \n",
        "                for dir_entry in os.scandir(f\"/content/drive/MyDrive/data_papers/{paper_name}/model_finals/\") \n",
        "                if os.path.isdir(dir_entry) and any(xs in dir_entry.name for xs in acceptable_string_grabs) ]\n",
        "rnn_model_dirs = [ s for s in model_dirs if \"RNN\" in s and all([ (not ncs in s) for ncs in not_check_model_string])] \n",
        "cnn_model_dirs = [ s for s in model_dirs if \"CNN256\" in s and all([ (not ncs in s) for ncs in not_check_model_string])] \n",
        "\n",
        "model_features_files = [  f\"/content/drive/MyDrive/data_papers/{paper_name}/model_features/{file_entry.name}\" \n",
        "                for file_entry in os.scandir(f\"/content/drive/MyDrive/data_papers/{paper_name}/model_features/\") \n",
        "                if os.path.isfile(file_entry) and any(xs in file_entry.name for xs in acceptable_string_grabs) ]\n",
        "\n",
        "rnn_features_files = [ s for s in model_features_files if \"RNN\" in s and all([ (not ncs in s) for ncs in not_check_model_string])] \n",
        "cnn_features_files = [ s for s in model_features_files if \"CNN256\" in s and all([ (not ncs in s) for ncs in not_check_model_string])] \n",
        "\n",
        "cnn_identifier = acceptable_string_grabs[0]\n",
        "rnn_identifier = acceptable_string_grabs[1]\n",
        "\n",
        "def avgfilter_ensemble_predictions(y_pred_ms, xtest):\n",
        "  y_preds_ens_prb = np.apply_along_axis(np.mean, 0, y_pred_ms)\n",
        "  y_preds_ens_idx = np.apply_along_axis(np.argmax, 1, y_preds_ens_prb) \n",
        "  # y_preds_ens_idx = y_preds_ens_idx + 1\n",
        "  return y_preds_ens_idx  \n",
        "\n",
        "\n"
      ],
      "execution_count": null,
      "outputs": []
    },
    {
      "cell_type": "markdown",
      "metadata": {
        "id": "1_Os-eyfeYfE"
      },
      "source": [
        "# Functions for collaborative learning (no GP) based on last dense and softmax layer features for DNN/CNN/WideResNet inputs"
      ]
    },
    {
      "cell_type": "markdown",
      "metadata": {
        "id": "bDIJ2mhv525M"
      },
      "source": [
        "A sequential model for DNN on collaborative features"
      ]
    },
    {
      "cell_type": "code",
      "metadata": {
        "id": "giePq9Q2189i"
      },
      "source": [
        "def model_combination_of_features(model_name, input_shape,num_classes=10):\n",
        "    model = Sequential([\n",
        "        tf.keras.Input(shape=input_shape),\n",
        "        BatchNormalization(),\n",
        "        Dense(256, kernel_initializer='RandomNormal', bias_initializer='zeros'),\n",
        "        LeakyReLU(),\n",
        "        Dropout(0.6),\n",
        "        Dense(128, kernel_initializer='RandomNormal', bias_initializer='zeros', kernel_regularizer = tf.keras.regularizers.l1(1e-3)),\n",
        "        LeakyReLU(),\n",
        "        Dropout(0.6),\n",
        "        Dense(32, kernel_initializer='RandomNormal', bias_initializer='zeros', kernel_regularizer = tf.keras.regularizers.l1(1e-2)),\n",
        "        LeakyReLU(),\n",
        "        Dropout(0.5),\n",
        "        Dense(num_classes, activation='softmax')\n",
        "    ], name=model_name)\n",
        "    return model\n",
        "\n",
        "\n",
        "def model_combination_of_features_with_flatten(model_name, input_shape,num_classes=10):\n",
        "    model = Sequential([\n",
        "        tf.keras.Input(shape=input_shape),\n",
        "        Flatten(),\n",
        "        BatchNormalization(),\n",
        "        Dense(256, kernel_initializer='RandomNormal', bias_initializer='zeros'),\n",
        "        LeakyReLU(),\n",
        "        Dropout(0.6),\n",
        "        Dense(128, kernel_initializer='RandomNormal', bias_initializer='zeros', kernel_regularizer = tf.keras.regularizers.l1(1e-3)),\n",
        "        LeakyReLU(),\n",
        "        Dropout(0.6),\n",
        "        Dense(32, kernel_initializer='RandomNormal', bias_initializer='zeros', kernel_regularizer = tf.keras.regularizers.l1(1e-2)),\n",
        "        LeakyReLU(),\n",
        "        Dropout(0.5),\n",
        "        Dense(num_classes, activation='softmax')\n",
        "    ], name=model_name)\n",
        "    return model    \n",
        "\n",
        "\n",
        "# X_trains_out.append(np.array(features_model.predict(X_train_combined), dtype='float64'))\n",
        "# X_train_new = np.concatenate(tuple(X_trains_out), axis=1)\n"
      ],
      "execution_count": null,
      "outputs": []
    },
    {
      "cell_type": "code",
      "metadata": {
        "id": "rV8G8UWixd_l"
      },
      "source": [
        "def get_features_from_multiple_models(feature_files, axis_to_concat = 1):\n",
        " \n",
        "  validation_features_to_load = [ff for ff in feature_files if \"Validation\" in ff and \"_X\" in ff ]\n",
        "  np_x_validation_collab = np.array([np.load(ff) for ff in validation_features_to_load])\n",
        "  np_x_validation_collab = np.concatenate(np_x_validation_collab, axis=axis_to_concat)\n",
        "\n",
        "  train_features_to_load = [ff.replace(\"Validation\", \"Train\") for ff in validation_features_to_load]\n",
        "  np_x_train_collab = np.array([np.load(ff) for ff in train_features_to_load])\n",
        "  np_x_train_collab = np.concatenate(np_x_train_collab, axis=axis_to_concat)\n",
        "\n",
        "  test_features_to_load = [ff.replace(\"Validation\", \"Test\") for ff in validation_features_to_load]\n",
        "  np_x_test_collab = np.array([np.load(ff) for ff in test_features_to_load])\n",
        "  np_x_test_collab = np.concatenate(np_x_test_collab, axis=axis_to_concat)\n",
        "\n",
        "  return np_x_validation_collab, np_x_train_collab, np_x_test_collab"
      ],
      "execution_count": null,
      "outputs": []
    },
    {
      "cell_type": "code",
      "metadata": {
        "id": "0PaQyNjIsR97"
      },
      "source": [
        "def get_features_for_layer(feature_files, layer_name, num_of_models, axis_to_concat = 1):\n",
        " \n",
        "  feature_files_used = [ff for ff in feature_files if \"Validation\" in ff and \"_X\" in ff and f\"{layer_name}_\" in ff ]\n",
        "  validation_features_to_load = sorted(random.sample(feature_files_used, min(num_of_models,len(feature_files_used)) ))\n",
        "  np_x_validation_collab = np.array([np.load(ff) for ff in validation_features_to_load])\n",
        "  np_x_validation_collab = np.concatenate(np_x_validation_collab, axis=axis_to_concat)\n",
        "\n",
        "  train_features_to_load = [ff.replace(\"Validation\", \"Train\") for ff in validation_features_to_load]\n",
        "  np_x_train_collab = np.array([np.load(ff) for ff in train_features_to_load])\n",
        "  np_x_train_collab = np.concatenate(np_x_train_collab, axis=axis_to_concat)\n",
        "\n",
        "  test_features_to_load = [ff.replace(\"Validation\", \"Test\") for ff in validation_features_to_load]\n",
        "  np_x_test_collab = np.array([np.load(ff) for ff in test_features_to_load])\n",
        "  np_x_test_collab = np.concatenate(np_x_test_collab, axis=axis_to_concat)\n",
        "\n",
        "  return np_x_validation_collab, np_x_train_collab, np_x_test_collab\n",
        "\n"
      ],
      "execution_count": null,
      "outputs": []
    },
    {
      "cell_type": "markdown",
      "metadata": {
        "id": "TXy-xmor32UY"
      },
      "source": [
        "# Data for Plot on Collaborative RNN softmax layers"
      ]
    },
    {
      "cell_type": "code",
      "metadata": {
        "id": "-Uk02GgJsT1x",
        "colab": {
          "base_uri": "https://localhost:8080/",
          "height": 227
        },
        "outputId": "74048bd9-b8a7-48f0-cfb5-8f17b860fb5b"
      },
      "source": [
        "# X_train_1000e, Y_train_1000e, X_test_1000e, Y_test_1000e, X_val_1000e, Y_val_1000e = getE2eData13()\n",
        "# X_new_train = np.concatenate( (X_train_1000e, X_val_1000e), axis=0 )\n",
        "# Y_new_train = np.concatenate( (Y_train_1000e, Y_val_1000e), axis=0 )\n",
        "\n",
        "collaborativeFullyC_softmax_data = None\n",
        "\n",
        "x_input = X_test_1000e\n",
        "y_input = Y_test_1000e"
      ],
      "execution_count": null,
      "outputs": [
        {
          "output_type": "error",
          "ename": "NameError",
          "evalue": "ignored",
          "traceback": [
            "\u001b[0;31m---------------------------------------------------------------------------\u001b[0m",
            "\u001b[0;31mNameError\u001b[0m                                 Traceback (most recent call last)",
            "\u001b[0;32m<ipython-input-45-4cf52ec3f889>\u001b[0m in \u001b[0;36m<module>\u001b[0;34m()\u001b[0m\n\u001b[1;32m      1\u001b[0m \u001b[0mcollaborativeFullyC_softmax_data\u001b[0m \u001b[0;34m=\u001b[0m \u001b[0;32mNone\u001b[0m\u001b[0;34m\u001b[0m\u001b[0;34m\u001b[0m\u001b[0m\n\u001b[1;32m      2\u001b[0m \u001b[0;34m\u001b[0m\u001b[0m\n\u001b[0;32m----> 3\u001b[0;31m \u001b[0mx_input\u001b[0m \u001b[0;34m=\u001b[0m \u001b[0mtest_data_grey\u001b[0m\u001b[0;34m\u001b[0m\u001b[0;34m\u001b[0m\u001b[0m\n\u001b[0m\u001b[1;32m      4\u001b[0m \u001b[0my_input\u001b[0m \u001b[0;34m=\u001b[0m \u001b[0mtest_targets\u001b[0m\u001b[0;34m\u001b[0m\u001b[0;34m\u001b[0m\u001b[0m\n",
            "\u001b[0;31mNameError\u001b[0m: name 'test_data_grey' is not defined"
          ]
        }
      ]
    },
    {
      "cell_type": "code",
      "metadata": {
        "id": "sAUaJo6XFvVI"
      },
      "source": [
        "# dnn_features_files_here = [ f for f in dnn_features_files if layer_name_sfmx_dnn in f]\n",
        "# dnn_features_files_here\n"
      ],
      "execution_count": null,
      "outputs": []
    },
    {
      "cell_type": "code",
      "metadata": {
        "colab": {
          "base_uri": "https://localhost:8080/"
        },
        "id": "lawIAx1L32UZ",
        "outputId": "5a6b0af3-ab24-4c5e-b5b3-f09bb2ab7f8a"
      },
      "source": [
        "# set up the data for the DNN collaborative\n",
        "\n",
        "import random\n",
        "import datetime\n",
        "\n",
        "num_of_repeats = 4\n",
        "num_of_models = [2,3,4,5,6,7,8,9,10,11,12] # [25,30,35,40,45,50]  #\n",
        "layer_name_sfmx_rnn = \"SFTMX1\"\n",
        "\n",
        "idxCount = 0 if collaborativeFullyC_softmax_data is None else len(collaborativeFullyC_softmax_data.index)\n",
        "for repc in range(num_of_repeats):\n",
        "  for mc in num_of_models:\n",
        "    model_name = f\"Collab_{layer_name_sfmx_rnn}_RNN_A_{datetime.datetime.now():%Y%m%d%H%M%S}\"\n",
        "    np_x_validation_collab_dnn_sftmx, np_y_train_collab_dnn_sftmx, np_x_test_collab_dnn_sftmx = get_features_for_layer(dnn_features_files, layer_name_sfmx_rnn, mc)\n",
        "    model_here, history_here = compile_and_fit_model_basic( model_combination_of_features,  \n",
        "                        model_name, \n",
        "                        np_y_train_collab_dnn_sftmx[0,:].shape, \n",
        "                        np_y_train_collab_dnn_sftmx, \n",
        "                        train_targets,\n",
        "                        save_max_epoch = False,\n",
        "                        save_final = True,\n",
        "                        patience_count = 35,\n",
        "                        early_stopping_obs = 'val_sparse_categorical_accuracy',\n",
        "                        log_history = True,\n",
        "                        verbose_level=0,                             \n",
        "                        batch_size=512, \n",
        "                        epochs=250, \n",
        "                        class_weight=None, \n",
        "                        validation_data=(np_x_validation_collab_dnn_sftmx, validation_targets))\n",
        "    del np_x_validation_collab_dnn_sftmx\n",
        "    del np_y_train_collab_dnn_sftmx\n",
        "    y_pred_model = model_here.predict(np_x_test_collab_dnn_sftmx)\n",
        "    del np_x_test_collab_dnn_sftmx\n",
        "    y_pred = np.apply_along_axis(np.argmax, 1, y_pred_model) \n",
        "    pr, rc, f1, acc = pr_rc_f1_acc_from_supplied(y_pred,test_targets)\n",
        "    print (mc, repc, pr, rc, f1, acc)\n",
        "    del model_here\n",
        "    del history_here\n",
        "    if collaborativeFullyC_softmax_data is None:\n",
        "      collaborativeFullyC_softmax_data = pd.DataFrame({\"Type\": \"DNN\", \n",
        "                                            \"Data\" : \"Test\",\n",
        "                                            \"NumOfModels\": mc, \n",
        "                                            \"RepC\": repc, \n",
        "                                            \"Pr\": pr,\n",
        "                                            \"Rc\": rc,\n",
        "                                            \"F1\": f1,\n",
        "                                            \"Acc\": acc,\n",
        "                                            }, index = [idxCount])\n",
        "    else:\n",
        "      collaborativeFullyC_softmax_data = pd.concat([collaborativeFullyC_softmax_data,\n",
        "                                         pd.DataFrame({\"Type\": \"DNN\", \n",
        "                                            \"Data\" : \"Test\",\n",
        "                                            \"NumOfModels\": mc, \n",
        "                                            \"RepC\": repc, \n",
        "                                            \"Pr\": pr,\n",
        "                                            \"Rc\": rc,\n",
        "                                            \"F1\": f1,\n",
        "                                            \"Acc\": acc\n",
        "                                            }, index = [idxCount])\n",
        "                                         ])\n",
        "    idxCount = idxCount + 1\n",
        "\n",
        "\n",
        "\n"
      ],
      "execution_count": null,
      "outputs": [
        {
          "output_type": "stream",
          "name": "stdout",
          "text": [
            "INFO:tensorflow:Assets written to: /content/drive/MyDrive/data_papers/gpSVHN/model_finals/Collab_SFTMX1_DNN_A_20211119172917_saved_model_after_fit/assets\n",
            "35 0 0.9080910790428673 0.9080333333333334 0.90787190583262 0.9080333333333334\n",
            "INFO:tensorflow:Assets written to: /content/drive/MyDrive/data_papers/gpSVHN/model_finals/Collab_SFTMX1_DNN_A_20211119173219_saved_model_after_fit/assets\n",
            "40 0 0.9086441224069615 0.9082666666666667 0.9082733330953933 0.9082666666666667\n",
            "INFO:tensorflow:Assets written to: /content/drive/MyDrive/data_papers/gpSVHN/model_finals/Collab_SFTMX1_DNN_A_20211119173502_saved_model_after_fit/assets\n",
            "50 0 0.910035334443602 0.9099 0.9098164173095517 0.9099\n",
            "INFO:tensorflow:Assets written to: /content/drive/MyDrive/data_papers/gpSVHN/model_finals/Collab_SFTMX1_DNN_A_20211119173648_saved_model_after_fit/assets\n",
            "35 1 0.9094727613757331 0.9095 0.909310117621141 0.9095\n",
            "INFO:tensorflow:Assets written to: /content/drive/MyDrive/data_papers/gpSVHN/model_finals/Collab_SFTMX1_DNN_A_20211119173816_saved_model_after_fit/assets\n",
            "40 1 0.909621883223174 0.9096333333333333 0.9094998720521755 0.9096333333333333\n",
            "INFO:tensorflow:Assets written to: /content/drive/MyDrive/data_papers/gpSVHN/model_finals/Collab_SFTMX1_DNN_A_20211119173931_saved_model_after_fit/assets\n",
            "50 1 0.9107925303961991 0.9108666666666667 0.9106894483794589 0.9108666666666667\n",
            "INFO:tensorflow:Assets written to: /content/drive/MyDrive/data_papers/gpSVHN/model_finals/Collab_SFTMX1_DNN_A_20211119174031_saved_model_after_fit/assets\n",
            "35 2 0.9081570484351007 0.9078666666666667 0.9077724136809627 0.9078666666666667\n",
            "INFO:tensorflow:Assets written to: /content/drive/MyDrive/data_papers/gpSVHN/model_finals/Collab_SFTMX1_DNN_A_20211119174145_saved_model_after_fit/assets\n",
            "40 2 0.9099754440459216 0.91 0.9098761684678701 0.91\n",
            "INFO:tensorflow:Assets written to: /content/drive/MyDrive/data_papers/gpSVHN/model_finals/Collab_SFTMX1_DNN_A_20211119174246_saved_model_after_fit/assets\n",
            "50 2 0.9105421637882251 0.9106333333333333 0.9104796511960463 0.9106333333333333\n",
            "INFO:tensorflow:Assets written to: /content/drive/MyDrive/data_papers/gpSVHN/model_finals/Collab_SFTMX1_DNN_A_20211119174343_saved_model_after_fit/assets\n",
            "35 3 0.9088390984541445 0.9088 0.9087364707288692 0.9088\n",
            "INFO:tensorflow:Assets written to: /content/drive/MyDrive/data_papers/gpSVHN/model_finals/Collab_SFTMX1_DNN_A_20211119174443_saved_model_after_fit/assets\n",
            "40 3 0.9096174841021637 0.9093333333333333 0.9093220571509875 0.9093333333333333\n",
            "INFO:tensorflow:Assets written to: /content/drive/MyDrive/data_papers/gpSVHN/model_finals/Collab_SFTMX1_DNN_A_20211119174538_saved_model_after_fit/assets\n",
            "50 3 0.9122808533078832 0.9122 0.9121056279623644 0.9122\n"
          ]
        }
      ]
    },
    {
      "cell_type": "code",
      "metadata": {
        "id": "0fkz6m8Ly2e3"
      },
      "source": [
        "collaborativeFullyC_softmax_data.to_csv(f\"/content/drive/MyDrive/data_papers/{paper_name}/summary_results/dnn_collab_test_results_{datetime.datetime.now():%Y%m%d%H%M%S}.csv\")\n",
        "\n"
      ],
      "execution_count": null,
      "outputs": []
    },
    {
      "cell_type": "code",
      "source": [
        ""
      ],
      "metadata": {
        "id": "kwWzCPhAREZr"
      },
      "execution_count": null,
      "outputs": []
    }
  ]
}