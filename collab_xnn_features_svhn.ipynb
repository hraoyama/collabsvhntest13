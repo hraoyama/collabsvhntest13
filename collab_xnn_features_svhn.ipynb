{
  "nbformat": 4,
  "nbformat_minor": 0,
  "metadata": {
    "accelerator": "GPU",
    "colab": {
      "name": "collab_xnn_features_svhn.ipynb",
      "provenance": [],
      "collapsed_sections": [
        "av22_gwc_hOd",
        "UrA1SY4CHTOS",
        "NUnTfSfY2pZK",
        "boCHy50O_Z-m",
        "WS7USmAlAZ_Q",
        "ib862JpbN7oI",
        "d4NWpQ7wAS1u",
        "N3pww0F8PDy4",
        "05H-E-Hb21S9",
        "7NfTm6C0efVR",
        "zarZ-ubirq5w",
        "Qr4uwylNzQl1",
        "nlcSr-vhOENw",
        "pVGqX79lZ3pw",
        "A-S9xzuliR8V",
        "-nbwCVHSRRfM",
        "1_Os-eyfeYfE",
        "7IhTGp4wUo7T",
        "mIJt0f9ZVIm5",
        "tgih_EEjVMdQ",
        "eDq_scmJVVLP",
        "YlyIJ3CCVmCq",
        "upPlyiuGnrbK",
        "DaQvakL4rU88",
        "TXy-xmor32UY",
        "uLw5jkNprylq",
        "Ul_SqJXjz_s9",
        "Zv4uI-Rf_P4R",
        "pfPdlux63Hqa",
        "qSwgurq54dx7",
        "nKZebazXuPRf",
        "sddcE82tOFDm",
        "FWDC54QRQhyy",
        "hx1fELMRQhyy",
        "io3MAwHuQhyz",
        "cxBmUlk5Qhy0",
        "4Z9SnOmMTKbj",
        "yHXkywirRpmM",
        "jh3gG7xCrTxM"
      ],
      "machine_shape": "hm"
    },
    "kernelspec": {
      "display_name": "Python 3",
      "name": "python3"
    },
    "language_info": {
      "name": "python"
    }
  },
  "cells": [
    {
      "cell_type": "markdown",
      "metadata": {
        "id": "av22_gwc_hOd"
      },
      "source": [
        "# Setup and install for SVHN"
      ]
    },
    {
      "cell_type": "code",
      "metadata": {
        "colab": {
          "base_uri": "https://localhost:8080/"
        },
        "id": "l247Lv_MYR8O",
        "outputId": "cf1428b7-2f8d-4095-84e3-0c5ea0edb4ac"
      },
      "source": [
        "from google.colab import drive\n",
        "drive.mount('/content/drive')"
      ],
      "execution_count": null,
      "outputs": [
        {
          "output_type": "stream",
          "name": "stdout",
          "text": [
            "Drive already mounted at /content/drive; to attempt to forcibly remount, call drive.mount(\"/content/drive\", force_remount=True).\n"
          ]
        }
      ]
    },
    {
      "cell_type": "code",
      "metadata": {
        "id": "yqquQY0B65AH"
      },
      "source": [
        "%pip install gpflow\n",
        "%pip install plotnine"
      ],
      "execution_count": null,
      "outputs": []
    },
    {
      "cell_type": "code",
      "metadata": {
        "id": "EfIU_eNp3Zio"
      },
      "source": [
        "from plotnine import *\n",
        "from plotnine.themes import *"
      ],
      "execution_count": null,
      "outputs": []
    },
    {
      "cell_type": "code",
      "metadata": {
        "id": "ZmUjYbArAuQT"
      },
      "source": [
        "import tensorflow as tf\n",
        "from scipy.io import loadmat\n",
        "import random\n",
        "import math\n",
        "import tensorflow_probability as tfp"
      ],
      "execution_count": null,
      "outputs": []
    },
    {
      "cell_type": "markdown",
      "metadata": {
        "id": "PieVKPfHHYQ6"
      },
      "source": [
        "_paper_name_ establishes the reusable name of the paper, it represents the directory under data_papers on the google drive"
      ]
    },
    {
      "cell_type": "code",
      "metadata": {
        "id": "BI4p7ZKb0Qz2"
      },
      "source": [
        "paper_name = \"gpSVHN\""
      ],
      "execution_count": null,
      "outputs": []
    },
    {
      "cell_type": "code",
      "metadata": {
        "id": "433z6V3T2rB2"
      },
      "source": [
        "import os, sys\n",
        "import errno\n",
        "\n",
        "# make a directory if it does not exist\n",
        "def make_dir_if_not_exist(used_path):\n",
        "    if not os.path.isdir(used_path):\n",
        "        try:\n",
        "            os.mkdir(used_path)\n",
        "        except OSError as exc:\n",
        "            if exc.errno != errno.EEXIST:\n",
        "                raise exc\n",
        "            else:\n",
        "                raise ValueError(f'{used_path} directoy cannot be created because its parent directory does not exist.')\n",
        "\n",
        "# make directories if they do not exist\n",
        "\n",
        "make_dir_if_not_exist(\"/content/drive/MyDrive/data_papers/\")\n",
        "make_dir_if_not_exist(f\"/content/drive/MyDrive/data_papers/{paper_name}\")\n",
        "make_dir_if_not_exist(f\"/content/drive/MyDrive/data_papers/{paper_name}/model_features/\")\n",
        "make_dir_if_not_exist(f\"/content/drive/MyDrive/data_papers/{paper_name}/model_checkpoints/\")\n",
        "make_dir_if_not_exist(f\"/content/drive/MyDrive/data_papers/{paper_name}/model_history/\")\n",
        "make_dir_if_not_exist(f\"/content/drive/MyDrive/data_papers/{paper_name}/model_finals/\")\n",
        "make_dir_if_not_exist(f\"/content/drive/MyDrive/data_papers/{paper_name}/gp_collab/\")\n",
        "make_dir_if_not_exist(f\"/content/drive/MyDrive/data_papers/{paper_name}/model_predictions/\")\n",
        "make_dir_if_not_exist(f\"/content/drive/MyDrive/data_papers/{paper_name}/model_ccs/\")\n",
        "make_dir_if_not_exist(f\"/content/drive/MyDrive/data_papers/{paper_name}/summary_results/\")\n",
        "make_dir_if_not_exist(f\"/content/drive/MyDrive/data_papers/{paper_name}/summary_results/temp/\")"
      ],
      "execution_count": null,
      "outputs": []
    },
    {
      "cell_type": "markdown",
      "metadata": {
        "id": "IufmBnPeB50P"
      },
      "source": [
        "\n",
        "This will use the [SVHN dataset](http://ufldl.stanford.edu/housenumbers/). This is an  image dataset of over 600,000 digit images in all, and is a harder dataset than MNIST as the numbers appear in the context of natural scene images. SVHN is obtained from house numbers in Google Street View images. \n",
        "\n",
        "* Y. Netzer, T. Wang, A. Coates, A. Bissacco, B. Wu and A. Y. Ng. \"Reading Digits in Natural Images with Unsupervised Feature Learning\". NIPS Workshop on Deep Learning and Unsupervised Feature Learning, 2011.\n",
        "\n",
        "[Here](https://github.com/aditya9211/SVHN-CNN/blob/master/svhn_model.ipynb) is a github project that uses the same data.\n",
        "\n"
      ]
    },
    {
      "cell_type": "code",
      "metadata": {
        "id": "0yCKQpti4HWJ"
      },
      "source": [
        "data_location = '/content/drive/MyDrive/mlpapers/GP_Collab_SVHN'"
      ],
      "execution_count": null,
      "outputs": []
    },
    {
      "cell_type": "code",
      "metadata": {
        "id": "M7--mKqbEhZZ"
      },
      "source": [
        "# Run this cell to load the dataset\n",
        "train = loadmat(f'{data_location}/train_32x32.mat')\n",
        "test = loadmat(f'{data_location}/test_32x32.mat')\n",
        "extra = loadmat(f'{data_location}/extra_32x32.mat')"
      ],
      "execution_count": null,
      "outputs": []
    },
    {
      "cell_type": "code",
      "metadata": {
        "id": "OBiOGiseZmQc"
      },
      "source": [
        "# we have  png files with house numbers for the extra as well, in case of other ideas\n",
        "# https://stackoverflow.com/questions/15612373/convert-image-png-to-matrix-and-then-to-1d-array\n"
      ],
      "execution_count": null,
      "outputs": []
    },
    {
      "cell_type": "code",
      "metadata": {
        "id": "OfOH52uQ0myu"
      },
      "source": [
        "# Set up the imports\n",
        "from sklearn.model_selection import train_test_split\n",
        "from tensorflow.keras.models import Sequential\n",
        "import matplotlib.pyplot as plt\n",
        "%matplotlib inline\n",
        "from tensorflow.keras import regularizers\n",
        "from tensorflow.keras.utils import to_categorical\n",
        "from tensorflow.keras.models import Sequential\n",
        "from tensorflow.keras.layers import Flatten, Dense, Conv2D, MaxPooling2D, BatchNormalization, Dropout, Concatenate, Add, Activation\n",
        "from tensorflow.keras.callbacks import EarlyStopping, ModelCheckpoint\n",
        "import pandas as pd\n",
        "import numpy as np\n",
        "\n",
        "import site\n",
        "import os\n",
        "import tensorflow as tf\n",
        "import pandas as pd\n",
        "import h5py as h5\n",
        "import matplotlib.pyplot as plt\n",
        "import errno\n",
        "import numpy as np\n",
        "import itertools\n",
        "import multiprocessing\n",
        "import json\n",
        "import datetime\n",
        "import random\n",
        "from collections import defaultdict\n",
        "from sklearn.model_selection import train_test_split\n",
        "\n",
        "from tensorflow.keras.models import Model, Sequential, load_model\n",
        "from tensorflow.keras.layers import Bidirectional\n",
        "from tensorflow.keras.layers import  Dense, Flatten, Activation, Dropout, Embedding, Conv1D, Conv2D, MaxPooling2D, MaxPooling1D, Concatenate, BatchNormalization, GaussianNoise, AveragePooling2D\n",
        "from tensorflow.keras.layers import LSTM, TimeDistributed, Permute, Reshape, Lambda, RepeatVector, Input, Multiply, SimpleRNN, GRU, LeakyReLU, Add\n",
        "from tensorflow.keras.regularizers import L2\n",
        "from tensorflow.keras.callbacks import ModelCheckpoint, TensorBoard\n",
        "from tensorflow.keras.utils import to_categorical\n",
        "from tensorflow.summary import create_file_writer\n",
        "\n",
        "pd.set_option('display.width', 400)\n",
        "pd.set_option('display.max_columns', 40)\n"
      ],
      "execution_count": null,
      "outputs": []
    },
    {
      "cell_type": "code",
      "metadata": {
        "colab": {
          "base_uri": "https://localhost:8080/"
        },
        "id": "YJ0GxmKnj56g",
        "outputId": "1d6ed974-0c32-4560-c326-9a0e7d0a3fec"
      },
      "source": [
        "print(np.unique(test['y'][:12000])) # just checking that there is no order to the test data\n",
        "print(train['X'].shape)\n",
        "print(test['X'].shape)\n",
        "print(extra['X'].shape)\n",
        "print(extra['y'].shape)"
      ],
      "execution_count": null,
      "outputs": [
        {
          "output_type": "stream",
          "name": "stdout",
          "text": [
            "[ 1  2  3  4  5  6  7  8  9 10]\n",
            "(32, 32, 3, 73257)\n",
            "(32, 32, 3, 26032)\n",
            "(32, 32, 3, 531131)\n",
            "(531131, 1)\n"
          ]
        }
      ]
    },
    {
      "cell_type": "markdown",
      "metadata": {
        "id": "s1B6X2mB0myt"
      },
      "source": [
        "## Inspect and Preprocess the dataset\n",
        "* Extract the training and testing images and labels separately from the train and test dictionaries loaded for you.\n",
        "* turn test into validation and slice some extra for test\n",
        "* Select a random sample of images and corresponding labels from the dataset (at least 10), and display them in a figure.\n",
        "* Convert the training and test images to grayscale by taking the average across all colour channels for each pixel.\n",
        "* Select a random sample of the grayscale images and corresponding labels from the dataset (at least 10), and display them in a figure.\n",
        "# Why greyscale?\n",
        "* So we get worse performance and have less discriminating features, allowing us to discern the impact of the GP on the features in _collaborative_ learning better.\n"
      ]
    },
    {
      "cell_type": "code",
      "metadata": {
        "id": "VXyZZbP_0myu"
      },
      "source": [
        "train_data = train['X']\n",
        "validation_data = test['X']\n",
        "test_data = extra['X'][:,:,:,:30000]\n",
        "train_targets = train['y']\n",
        "validation_targets = test['y']\n",
        "test_targets = extra['y'][:30000]"
      ],
      "execution_count": null,
      "outputs": []
    },
    {
      "cell_type": "code",
      "metadata": {
        "id": "YXfIEqzV0myv"
      },
      "source": [
        "def plot_images(images, nrows, ncols, cls_true, cls_pred=None):\n",
        "    fig, axes = plt.subplots(nrows, ncols, figsize=(16, 2*nrows))\n",
        "    for i, ax in enumerate(axes.flat): \n",
        "        # Pretty string with actual label\n",
        "        true_number = ''.join(str(x) for x in cls_true[i] if x != 10)\n",
        "        title = \"Label: {0}\".format(true_number)\n",
        "            \n",
        "        ax.imshow(images[:,:,:,i])\n",
        "        ax.set_title(title)   \n",
        "        ax.set_xticks([]); ax.set_yticks([])\n",
        "\n",
        "def plot_sample(num_sample=10):\n",
        "    idxs = sorted(random.sample(range(train_targets.shape[0]),num_sample))\n",
        "    plot_images(train_data[:,:,:,idxs],2,math.ceil(num_sample/2),train_targets[idxs])    \n",
        "    print(idxs)\n"
      ],
      "execution_count": null,
      "outputs": []
    },
    {
      "cell_type": "code",
      "metadata": {
        "colab": {
          "base_uri": "https://localhost:8080/"
        },
        "id": "QfkGWAj8D8-f",
        "outputId": "b8981e63-d249-4a04-836b-835c3c34bbe5"
      },
      "source": [
        "plot_sample(10)"
      ],
      "execution_count": null,
      "outputs": [
        {
          "output_type": "stream",
          "name": "stdout",
          "text": [
            "[9820, 22766, 33703, 36477, 38985, 41309, 54825, 60668, 61102, 63099]\n"
          ]
        },
        {
          "output_type": "display_data",
          "data": {
            "image/png": "[encoded data removed]",
            "text/plain": [
              "<Figure size 1152x288 with 10 Axes>"
            ]
          },
          "metadata": {}
        }
      ]
    },
    {
      "cell_type": "markdown",
      "metadata": {
        "id": "JtZNyab1GfBr"
      },
      "source": [
        "Convert the train, test and validation data to greyscale"
      ]
    },
    {
      "cell_type": "code",
      "metadata": {
        "colab": {
          "base_uri": "https://localhost:8080/"
        },
        "id": "0tE_Uv1R0myw",
        "outputId": "1c63a7df-8339-42e5-ad05-c7d0de584a14"
      },
      "source": [
        "train_data_grey = train_data.mean(axis=2)\n",
        "train_data_grey = np.expand_dims(train_data_grey,axis=2)\n",
        "train_data_grey = np.moveaxis(train_data_grey, 3, 0)\n",
        "\n",
        "test_data_grey = test_data.mean(axis=2)\n",
        "test_data_grey = np.expand_dims(test_data_grey,axis=2)\n",
        "test_data_grey = np.moveaxis(test_data_grey, 3, 0)\n",
        "\n",
        "validation_data_grey = validation_data.mean(axis=2)\n",
        "validation_data_grey = np.expand_dims(validation_data_grey,axis=2)\n",
        "validation_data_grey = np.moveaxis(validation_data_grey, 3, 0)\n",
        "\n",
        "print(train_data.shape)\n",
        "print(train_data_grey.shape)"
      ],
      "execution_count": null,
      "outputs": [
        {
          "output_type": "stream",
          "name": "stdout",
          "text": [
            "(32, 32, 3, 73257)\n",
            "(73257, 32, 32, 1)\n"
          ]
        }
      ]
    },
    {
      "cell_type": "markdown",
      "metadata": {
        "id": "5x_7ZufGGoAa"
      },
      "source": [
        "Set the 10th class to zero (represents '0' digit)"
      ]
    },
    {
      "cell_type": "code",
      "metadata": {
        "id": "fdN10zRS0myx"
      },
      "source": [
        "train_targets[train_targets == 10] = 0\n",
        "validation_targets[validation_targets == 10] = 0\n",
        "test_targets[test_targets == 10] = 0"
      ],
      "execution_count": null,
      "outputs": []
    },
    {
      "cell_type": "code",
      "metadata": {
        "id": "8dSQ_i-n0myx"
      },
      "source": [
        "def plot_images_grey(images, nrows, ncols, cls_true):\n",
        "    fig, axes = plt.subplots(nrows, ncols, figsize=(16, 2*nrows))\n",
        "    for i, ax in enumerate(axes.flat): \n",
        "        # Pretty string with actual label\n",
        "        true_number = ''.join(str(x) for x in cls_true[i] if x != 10)\n",
        "        title = \"Label: {0}\".format(true_number)\n",
        "        ax.imshow(images[i,:,:,0],cmap='gray', vmin=0, vmax=255)\n",
        "        ax.set_title(title)   \n",
        "        ax.set_xticks([]); ax.set_yticks([])\n",
        "\n",
        "def plot_sample_grey(num_sample=10):\n",
        "    idxs = sorted(random.sample(range(train_targets.shape[0]),num_sample))\n",
        "    plot_images_grey(train_data_grey[idxs,:,:,:],2,math.ceil(num_sample/2),train_targets[idxs])    \n",
        "    print(idxs)\n"
      ],
      "execution_count": null,
      "outputs": []
    },
    {
      "cell_type": "code",
      "metadata": {
        "colab": {
          "base_uri": "https://localhost:8080/"
        },
        "id": "YEtUCVGnEQLJ",
        "outputId": "f499855c-2273-4b60-dce5-b5bf77079b26"
      },
      "source": [
        "plot_sample_grey(10)"
      ],
      "execution_count": null,
      "outputs": [
        {
          "output_type": "stream",
          "name": "stdout",
          "text": [
            "[93, 2144, 5999, 6355, 10598, 13818, 20410, 33280, 42781, 61687]\n"
          ]
        },
        {
          "output_type": "display_data",
          "data": {
            "image/png": "[encoded data removed]",
            "text/plain": [
              "<Figure size 1152x288 with 10 Axes>"
            ]
          },
          "metadata": {}
        }
      ]
    },
    {
      "cell_type": "code",
      "metadata": {
        "id": "SA4FUPc8ke1I"
      },
      "source": [
        "# extracts the layer from a model using the name\n",
        "def get_layer_by_name(layers, name, return_first=True):\n",
        "    matching_named_layers = [l for l in layers if l.name == name]\n",
        "    if not matching_named_layers:\n",
        "        return None\n",
        "    return matching_named_layers[0] if return_first else matching_named_layers\n"
      ],
      "execution_count": null,
      "outputs": []
    },
    {
      "cell_type": "markdown",
      "metadata": {
        "id": "LM8K14_1HBws"
      },
      "source": [
        "Let us do a dumb sequential and see how far this can go  => 78% validation is the best.. + 85% test ?!"
      ]
    },
    {
      "cell_type": "code",
      "metadata": {
        "colab": {
          "base_uri": "https://localhost:8080/"
        },
        "id": "0juaJ1ELRdSA",
        "outputId": "36f2ba2d-bca1-4972-a81b-18d15cf2f440"
      },
      "source": [
        "# # let's do a dumb sequential and see how far this can go  => 78% validation is the best.. + 85% test ?!\n",
        "\n",
        "def get_model_seq(input_shape):\n",
        "    model = Sequential([\n",
        "                Flatten(name='F1',input_shape=input_shape),\n",
        "                Dense(128, activation='relu', \n",
        "                      name = 'D1'),\n",
        "                Dense(128, activation='relu', name = 'D2'),\n",
        "                Dense(48, activation='relu', kernel_regularizer=tf.keras.regularizers.l1(0.005), name = 'D4R'),                \n",
        "                Dense(10,  activation='softmax', name = 'SFTMX1')\n",
        "    ])    \n",
        "    return model\n",
        "\n",
        "model_seq = get_model_seq(train_data_grey[0,:,:,:].shape)\n",
        "\n",
        "# model_seq.compile(optimizer=tf.keras.optimizers.Adam(),\n",
        "#               loss=tf.keras.losses.SparseCategoricalCrossentropy(),\n",
        "#               metrics=[tf.keras.metrics.SparseCategoricalAccuracy()])\n",
        "\n",
        "# callbacks_seq = [ EarlyStopping(monitor='val_sparse_categorical_accuracy',\n",
        "#                            mode='max',\n",
        "#                            patience=60)\n",
        "#                 ]\n",
        "\n",
        "# history_seq = model_seq.fit(  train_data_grey, \n",
        "#                       train_targets,\n",
        "#                       epochs=500, \n",
        "#                       validation_data=(validation_data_grey, validation_targets),\n",
        "#                       callbacks=callbacks_seq,\n",
        "#                       batch_size=512)\n",
        "\n",
        "# plot_history(history_seq)\n",
        "# model_seq.evaluate(test_data_grey,test_targets)\n",
        "\n",
        "model_seq.summary()"
      ],
      "execution_count": null,
      "outputs": [
        {
          "output_type": "stream",
          "name": "stdout",
          "text": [
            "Model: \"sequential\"\n",
            "_________________________________________________________________\n",
            " Layer (type)                Output Shape              Param #   \n",
            "=================================================================\n",
            " F1 (Flatten)                (None, 1024)              0         \n",
            "                                                                 \n",
            " D1 (Dense)                  (None, 128)               131200    \n",
            "                                                                 \n",
            " D2 (Dense)                  (None, 128)               16512     \n",
            "                                                                 \n",
            " D4R (Dense)                 (None, 48)                6192      \n",
            "                                                                 \n",
            " SFTMX1 (Dense)              (None, 10)                490       \n",
            "                                                                 \n",
            "=================================================================\n",
            "Total params: 154,394\n",
            "Trainable params: 154,394\n",
            "Non-trainable params: 0\n",
            "_________________________________________________________________\n"
          ]
        }
      ]
    },
    {
      "cell_type": "code",
      "metadata": {
        "id": "6xqL0RbypQUF"
      },
      "source": [
        "# plotting utilities for the history of the fit\n",
        "def plot_history(history):\n",
        "    acc_keys = [k for k in history.history.keys() if 'accuracy' in k]\n",
        "    loss_keys = [k for k in history.history.keys() if not k in acc_keys]\n",
        "    for k, v in history.history.items():\n",
        "        if k in acc_keys:\n",
        "            plt.figure(1)\n",
        "            plt.plot(v)\n",
        "        else:\n",
        "            plt.figure(2)\n",
        "            plt.plot(v)\n",
        "    plt.figure(1)\n",
        "    plt.title('Accuracy vs. epochs')\n",
        "    plt.ylabel('Accuracy')\n",
        "    plt.xlabel('Epoch')\n",
        "    plt.legend(acc_keys, loc='lower right')\n",
        "    plt.figure(2)\n",
        "    plt.title('Loss vs. epochs')\n",
        "    plt.ylabel('Loss')\n",
        "    plt.xlabel('Epoch')\n",
        "    plt.legend(loss_keys, loc='upper right')\n",
        "    plt.show()\n",
        "\n",
        "def plot_history_df(history):\n",
        "    acc_keys = [k for k in history.columns.values if 'accuracy' in k]\n",
        "    loss_keys = [k for k in history.columns.values if not k in acc_keys and not k in ['epoch']]\n",
        "    for k, v in history.items():\n",
        "        if k in acc_keys:\n",
        "            plt.figure(1)\n",
        "            plt.plot(v)\n",
        "        if k in loss_keys:\n",
        "            plt.figure(2)\n",
        "            plt.plot(v)\n",
        "    plt.figure(1)\n",
        "    plt.title('Accuracy vs. epochs')\n",
        "    plt.ylabel('Accuracy')\n",
        "    plt.xlabel('Epoch')\n",
        "    plt.legend(acc_keys, loc='lower right')\n",
        "    plt.figure(2)\n",
        "    plt.title('Loss vs. epochs')\n",
        "    plt.ylabel('Loss')\n",
        "    plt.xlabel('Epoch')\n",
        "    plt.legend(loss_keys, loc='upper right')\n",
        "    plt.show()   \n"
      ],
      "execution_count": null,
      "outputs": []
    },
    {
      "cell_type": "markdown",
      "metadata": {
        "id": "oNo_peRzfXNP"
      },
      "source": [
        "A function that will take a model construction function (with _model_name_ and _input_shape_ arguments), train and fit it using the supplied data and callbacks. The _kwargs_ are supplied to the model fit function."
      ]
    },
    {
      "cell_type": "code",
      "metadata": {
        "id": "P_dqIA0noEoo"
      },
      "source": [
        "from tensorflow.keras.callbacks import CSVLogger\n",
        "import datetime\n",
        "\n",
        "def compile_and_fit_model_basic(  model_func,\n",
        "                                  model_name,\n",
        "                                  input_shape,\n",
        "                                  X_train,\n",
        "                                  Y_train,\n",
        "                                  save_max_epoch=True,\n",
        "                                  save_final=False,\n",
        "                                  patience_count = None,\n",
        "                                  early_stopping_obs = 'val_sparse_categorical_accuracy',\n",
        "                                  log_history = True,\n",
        "                                  verbose_level = 0,\n",
        "                                  **kwargs):\n",
        "    m = None\n",
        "    if isinstance(model_func, tf.keras.models.Model):\n",
        "        m = model_func\n",
        "        m._name = model_name\n",
        "    else:\n",
        "        m = model_func(model_name, input_shape)\n",
        "      \n",
        "    if 'validation_data' not in kwargs.keys() and 'val_' in early_stopping_obs:\n",
        "        early_stopping_obs = early_stopping_obs.replace('val_','')\n",
        "\n",
        "    callbacks_used = []\n",
        "    if save_max_epoch:\n",
        "        callbacks_used.append(ModelCheckpoint(f'/content/drive/MyDrive/data_papers/{paper_name}/model_checkpoints/{m.name}' + '_model_{epoch:03d}_{accuracy:0.3f}',\n",
        "                                              save_weights_only=False,\n",
        "                                              monitor = early_stopping_obs,\n",
        "                                              mode='max',\n",
        "                                              save_best_only=True))\n",
        "    if patience_count is not None:\n",
        "        callbacks_used.append(tf.keras.callbacks.EarlyStopping(monitor=early_stopping_obs, patience=patience_count))\n",
        "\n",
        "    if log_history:\n",
        "        callbacks_used.append(tf.keras.callbacks.CSVLogger(f\"/content/drive/MyDrive/data_papers/{paper_name}/model_history/history_log_{model_name}_{datetime.date.today().strftime('%Y%m%d')}.csv\", append=True))\n",
        "\n",
        "    m.compile(loss=tf.keras.losses.SparseCategoricalCrossentropy(), \n",
        "              optimizer=tf.keras.optimizers.Adam(), \n",
        "              metrics=[tf.keras.metrics.SparseCategoricalAccuracy()])\n",
        "    \n",
        "    history = m.fit(X_train, Y_train, callbacks=callbacks_used, verbose=verbose_level, **kwargs)\n",
        "    if save_final:\n",
        "        make_dir_if_not_exist(model_name)\n",
        "        m.save(f\"/content/drive/MyDrive/data_papers/{paper_name}/model_finals/{m.name}_saved_model_after_fit\")  # Save the model\n",
        "    return (m, history)"
      ],
      "execution_count": null,
      "outputs": []
    },
    {
      "cell_type": "markdown",
      "metadata": {
        "id": "J212e-sSgQEs"
      },
      "source": [
        "A function that given a model or model directory create a new model up to the _layer_name_, then write the features matching the supplied _X_ and _Y_ as numpy arrays to google drive."
      ]
    },
    {
      "cell_type": "code",
      "metadata": {
        "id": "DxMillEBxs5H"
      },
      "source": [
        "def write_features_from_models(\n",
        "        model_entry,\n",
        "        layer_name,\n",
        "        X_input, Y_input,\n",
        "        reverse_one_hot=False,\n",
        "        normalize_X_func=None,\n",
        "        dataset_id = \"NA\",\n",
        "        **kwargs):\n",
        "  \n",
        "    Y_new = None\n",
        "    X_new = None\n",
        "    if reverse_one_hot:\n",
        "        Y_new = np.apply_along_axis(np.argmax, 1, Y_input) + 1\n",
        "    else:\n",
        "        Y_new = Y_input.copy()\n",
        "\n",
        "    model_here = None\n",
        "    if isinstance(model_entry, tf.keras.models.Model):\n",
        "        model_here = model_entry\n",
        "        model_file_name = model_here.name\n",
        "    else:\n",
        "        model_here = tf.keras.models.load_model(model_entry,**kwargs) \n",
        "\n",
        "    features_model = Model(model_here.input,\n",
        "                            get_layer_by_name(model_here.layers, layer_name).output)\n",
        "    if normalize_X_func is None:\n",
        "        X_new = np.array(features_model.predict(X_input), dtype='float64')\n",
        "    else:\n",
        "        X_new = np.array(normalize_X_func(features_model.predict(X_input)), dtype='float64')\n",
        "\n",
        "    np.save(f\"/content/drive/MyDrive/data_papers/{paper_name}/model_features/{model_here.name}_features_{layer_name}_{dataset_id}_X\", X_new, \n",
        "               allow_pickle=True, \n",
        "               fix_imports=True)\n",
        "    np.save(f\"/content/drive/MyDrive/data_papers/{paper_name}/model_features/{model_here.name}_features_{layer_name}_{dataset_id}_Y\", Y_new, \n",
        "               allow_pickle=True, \n",
        "               fix_imports=True)"
      ],
      "execution_count": null,
      "outputs": []
    },
    {
      "cell_type": "markdown",
      "metadata": {
        "id": "t2O5XMTr2s5m"
      },
      "source": [
        "Some functions to get scores on the results"
      ]
    },
    {
      "cell_type": "code",
      "metadata": {
        "id": "bhPJFtuzujdC"
      },
      "source": [
        "from sklearn.model_selection import train_test_split\n",
        "from sklearn.metrics import confusion_matrix\n",
        "from sklearn.metrics import precision_recall_fscore_support, accuracy_score\n",
        "import re\n",
        "\n",
        "def get_confusion_matrix_classification(model, X, Y_true):\n",
        "    y_pred = model.predict(X)\n",
        "    y_true = np.apply_along_axis(np.argmax, 1, Y_true)\n",
        "    y_pred = np.apply_along_axis(np.argmax, 1, y_pred)\n",
        "    return (confusion_matrix(y_true, y_pred), y_pred, y_true)\n",
        "\n",
        "def construct_confusion_matrix(X, Y_true, Y_pred):\n",
        "    y_true = Y_true\n",
        "    y_pred = np.apply_along_axis(np.argmax, 1, Y_pred)\n",
        "    return (confusion_matrix(y_true, y_pred), y_pred, y_true)\n",
        "\n",
        "def pr_rc_f1_acc_from_supplied(y_pred, y_true):  \n",
        "    pr, rc, f1, _ = precision_recall_fscore_support(y_true, y_pred, average=\"weighted\")   \n",
        "    acc = accuracy_score(y_true, y_pred)\n",
        "    return pr, rc, f1, acc\n"
      ],
      "execution_count": null,
      "outputs": []
    },
    {
      "cell_type": "code",
      "metadata": {
        "id": "mVz_etHKO89T"
      },
      "source": [
        "import re\n",
        "import os\n",
        "\n",
        "def dir_has_file_with_regex(dir_name, regex_string):\n",
        "  filenames = [ f\"{dir_name}/{dir_entry.name}\" for dir_entry in os.scandir(dir_name) if os.path.isfile(f\"{dir_name}/{dir_entry.name}\") ]   \n",
        "  filenames = [ fn for fn in filenames if re.match(regex_string, fn, re.IGNORECASE) ]\n",
        "  return filenames\n",
        "\n"
      ],
      "execution_count": null,
      "outputs": []
    },
    {
      "cell_type": "code",
      "metadata": {
        "id": "PZU3TT6VZwLU"
      },
      "source": [
        "# dir_has_file_with_regex(\"/content/drive/MyDrive/data_papers/gpSVHN/model_features\", \"^.*DNN_A_.*D3R_Test_X.*\")"
      ],
      "execution_count": null,
      "outputs": []
    },
    {
      "cell_type": "markdown",
      "metadata": {
        "id": "UrA1SY4CHTOS"
      },
      "source": [
        "# A basic DNN to fit SVHN"
      ]
    },
    {
      "cell_type": "code",
      "metadata": {
        "id": "GHdJJrIbn3DR"
      },
      "source": [
        "def basic_DNNTemplate_A(model_name, inshape, num_classes = 10):\n",
        "\n",
        "  base_input = Input(shape=inshape, name='base_input')\n",
        "  f1_output = Flatten(name='F1')(base_input)\n",
        "  d1_output = Dense(128, activation='relu', name = 'D1')(f1_output)\n",
        "  d2_output = Dense(128, activation='relu', name = 'D2')(d1_output)\n",
        "  d3r_output = Dense(48, activation='relu', kernel_regularizer=tf.keras.regularizers.l1(0.005), name = 'D3R')(d2_output)\n",
        "  model_output = Dense(10,  activation='softmax', name = 'SFTMX1')(d3r_output)\n",
        "  model = Model(base_input, model_output, name = model_name)\n",
        "\n",
        "  return model"
      ],
      "execution_count": null,
      "outputs": []
    },
    {
      "cell_type": "code",
      "metadata": {
        "id": "TogBuHZwn8pl"
      },
      "source": [
        "train_data_grey[0,:,:,:].shape"
      ],
      "execution_count": null,
      "outputs": []
    },
    {
      "cell_type": "code",
      "metadata": {
        "id": "d7Q4E6VW3QaW"
      },
      "source": [
        "# # saving 100 DNNs\n",
        "for model_count in [i+1 for i in range(100)]:\n",
        "  m1, h1 = compile_and_fit_model_basic( basic_DNNTemplate_A,  \n",
        "                    f\"DNN_A_{str(model_count)}_{datetime.datetime.now():%Y%m%d%H%M%S}\", \n",
        "                    train_data_grey[0,:,:,:].shape, \n",
        "                    train_data_grey, train_targets,\n",
        "                    save_max_epoch=False,\n",
        "                    save_final=True,\n",
        "                    patience_count = 35,\n",
        "                    early_stopping_obs = 'val_sparse_categorical_accuracy',\n",
        "                    log_history = True,                             \n",
        "                    batch_size=512, \n",
        "                    epochs=250, \n",
        "                    class_weight=None, \n",
        "                    validation_data=(validation_data_grey, validation_targets))\n",
        "\n",
        "# # /content/drive/MyDrive/data_papers/gpSVHN/model_finals/DNN_A_6_20210923210545_saved_model_after_fit/assets\n",
        "# plot_history(h1)"
      ],
      "execution_count": null,
      "outputs": []
    },
    {
      "cell_type": "code",
      "metadata": {
        "id": "8tP4KtdkyPrM"
      },
      "source": [
        "# saving the features of 100 DNNs for the train data\n",
        "\n",
        "check_model_string = \"DNN_A_\"\n",
        "not_check_model_string = [\"arallel\",\"Collab_\"]\n",
        "for dir_entry in os.scandir(f\"/content/drive/MyDrive/data_papers/{paper_name}/model_finals/\"):\n",
        "  if os.path.isdir(dir_entry):\n",
        "    if check_model_string in str(dir_entry) and all([(not ncs in dir_entry.name) for ncs in not_check_model_string]):\n",
        "      # f\"/content/drive/MyDrive/data_papers/{paper_name}/model_features/{model_here.name}_features_{layer_name}_{dataset_id}_X\"\n",
        "      # f\"DNN_A_{str(model_count)}_{datetime.datetime.now():%Y%m%d%H%M%S}\"\n",
        "      if not dir_has_file_with_regex(f\"/content/drive/MyDrive/data_papers/{paper_name}/model_features\",f\".*{dir_entry.name.replace('_saved_model_after_fit','')}.*_features_D3R_Train.*$\"):\n",
        "        print(dir_entry.name)\n",
        "        write_features_from_models(\n",
        "          f\"/content/drive/MyDrive/data_papers/{paper_name}/model_finals/{dir_entry.name}\",\n",
        "          \"D3R\",\n",
        "          train_data_grey, train_targets,\n",
        "          reverse_one_hot=False,\n",
        "          normalize_X_func=None,\n",
        "          dataset_id=\"Train\")\n",
        "      if not dir_has_file_with_regex(f\"/content/drive/MyDrive/data_papers/{paper_name}/model_features\",f\".*{dir_entry.name.replace('_saved_model_after_fit','')}.*_features_SFTMX1_Train.*$\"):\n",
        "        print(dir_entry.name)\n",
        "        write_features_from_models(\n",
        "          f\"/content/drive/MyDrive/data_papers/{paper_name}/model_finals/{dir_entry.name}\",\n",
        "          \"SFTMX1\",\n",
        "          train_data_grey, train_targets,\n",
        "          reverse_one_hot=False,\n",
        "          normalize_X_func=None,\n",
        "          dataset_id=\"Train\")      "
      ],
      "execution_count": null,
      "outputs": []
    },
    {
      "cell_type": "code",
      "metadata": {
        "id": "DbyJqR9rbWlc"
      },
      "source": [
        "# dir_has_file_with_regex(f\"/content/drive/MyDrive/data_papers/{paper_name}/model_features\",f\".*{check_model_string}.*_features_D3R_Train.*$\")\n",
        "\n",
        "# check_model_string = \"DNN_A_\"\n",
        "# not_check_model_string = [\"arallel\",\"Collab_\"]\n",
        "# for dir_entry in os.scandir(f\"/content/drive/MyDrive/data_papers/{paper_name}/model_finals/\"):\n",
        "#   if os.path.isdir(dir_entry):\n",
        "#     if check_model_string in str(dir_entry) and all([(not ncs in dir_entry.name) for ncs in not_check_model_string]):\n",
        "#       print(dir_entry.name)\n",
        "#       print(dir_has_file_with_regex(f\"/content/drive/MyDrive/data_papers/{paper_name}/model_features\",f\".*{dir_entry.name.replace('_saved_model_after_fit','')}.*_features_D3R_Train.*$\"))\n",
        "#       break\n"
      ],
      "execution_count": null,
      "outputs": []
    },
    {
      "cell_type": "code",
      "metadata": {
        "id": "r_HsBg4cIfIa"
      },
      "source": [
        "# saving the features of 100 DNNs for the validation data\n",
        "check_model_string = \"DNN_A_\"\n",
        "not_check_model_string = [\"arallel\",\"Collab_\"]\n",
        "for dir_entry in os.scandir(f\"/content/drive/MyDrive/data_papers/{paper_name}/model_finals/\"):\n",
        "  if os.path.isdir(dir_entry):\n",
        "    if check_model_string in str(dir_entry) and all([(not ncs in dir_entry.name) for ncs in not_check_model_string]):\n",
        "      # f\"/content/drive/MyDrive/data_papers/{paper_name}/model_features/{model_here.name}_features_{layer_name}_{dataset_id}_X\"\n",
        "      if not dir_has_file_with_regex(f\"/content/drive/MyDrive/data_papers/{paper_name}/model_features\",f\".*{dir_entry.name.replace('_saved_model_after_fit','')}.*_features_D3R_Validation.*$\"):\n",
        "        print(dir_entry.name)\n",
        "        write_features_from_models(\n",
        "          f\"/content/drive/MyDrive/data_papers/{paper_name}/model_finals/{dir_entry.name}\",\n",
        "          \"D3R\",\n",
        "          validation_data_grey, validation_targets,\n",
        "          reverse_one_hot=False,\n",
        "          normalize_X_func=None,\n",
        "          dataset_id=\"Validation\")\n",
        "      if not dir_has_file_with_regex(f\"/content/drive/MyDrive/data_papers/{paper_name}/model_features\",f\".*{dir_entry.name.replace('_saved_model_after_fit','')}.*_features_SFTMX1_Validation.*$\"):\n",
        "        print(dir_entry.name)\n",
        "        write_features_from_models(\n",
        "          f\"/content/drive/MyDrive/data_papers/{paper_name}/model_finals/{dir_entry.name}\",\n",
        "          \"SFTMX1\",\n",
        "          validation_data_grey, validation_targets,\n",
        "          reverse_one_hot=False,\n",
        "          normalize_X_func=None,\n",
        "          dataset_id=\"Validation\")      "
      ],
      "execution_count": null,
      "outputs": []
    },
    {
      "cell_type": "code",
      "metadata": {
        "id": "t_NjgPWEIqXy"
      },
      "source": [
        "# saving the features of 100 DNNs for the test data\n",
        "check_model_string = \"DNN_A_\"\n",
        "not_check_model_string = [\"arallel\",\"Collab_\"]\n",
        "for dir_entry in os.scandir(f\"/content/drive/MyDrive/data_papers/{paper_name}/model_finals/\"):\n",
        "  if os.path.isdir(dir_entry):\n",
        "    if check_model_string in str(dir_entry) and all([(not ncs in dir_entry.name) for ncs in not_check_model_string]):\n",
        "      if not dir_has_file_with_regex(f\"/content/drive/MyDrive/data_papers/{paper_name}/model_features\",f\".*{dir_entry.name}.*_features_D3R_Test.*$\"):\n",
        "        print(dir_entry.name)\n",
        "        write_features_from_models(\n",
        "          f\"/content/drive/MyDrive/data_papers/{paper_name}/model_finals/{dir_entry.name}\",\n",
        "          \"D3R\",\n",
        "          test_data_grey, test_targets,\n",
        "          reverse_one_hot=False,\n",
        "          normalize_X_func=None,\n",
        "          dataset_id=\"Test\")\n",
        "      if not dir_has_file_with_regex(f\"/content/drive/MyDrive/data_papers/{paper_name}/model_features\",f\".*{dir_entry.name}.*_features_SFTMX1_Test.*$\"):\n",
        "        print(dir_entry.name)\n",
        "        write_features_from_models(\n",
        "          f\"/content/drive/MyDrive/data_papers/{paper_name}/model_finals/{dir_entry.name}\",\n",
        "          \"SFTMX1\",\n",
        "          test_data_grey, test_targets,\n",
        "          reverse_one_hot=False,\n",
        "          normalize_X_func=None,\n",
        "          dataset_id=\"Test\")      "
      ],
      "execution_count": null,
      "outputs": []
    },
    {
      "cell_type": "code",
      "metadata": {
        "id": "gnFbW-5mqeVl"
      },
      "source": [
        "# getting the scores for the individual 100 DNNs on the test data set\n",
        "scores_dnn_simple = []\n",
        "check_model_string = \"DNN_A_\"\n",
        "not_check_model_string = [\"arallel\",\"Collab_\"]\n",
        "for dir_entry in os.scandir(f\"/content/drive/MyDrive/data_papers/{paper_name}/model_finals/\"):\n",
        "  if os.path.isdir(dir_entry):\n",
        "    if check_model_string in str(dir_entry) and all([ (not ncs in dir_entry.name) for ncs in not_check_model_string]):\n",
        "      print(dir_entry.name)\n",
        "      model_here = tf.keras.models.load_model(f\"/content/drive/MyDrive/data_papers/{paper_name}/model_finals/{dir_entry.name}\")  \n",
        "      y_predict_here = np.array(model_here.predict(test_data_grey), dtype='float64')\n",
        "      y_predict_here = np.apply_along_axis(np.argmax, 1, y_predict_here)\n",
        "      scores_dnn_simple.append(pr_rc_f1_acc_from_supplied(y_predict_here, test_targets))\n",
        "\n",
        "np.save(f\"/content/drive/MyDrive/data_papers/{paper_name}/summary_results/individual_dnn_summary_{datetime.datetime.now():%Y%m%d%H%M%S}\", np.array(scores_dnn_simple), \n",
        "               allow_pickle=True, \n",
        "               fix_imports=True)\n",
        "\n"
      ],
      "execution_count": null,
      "outputs": []
    },
    {
      "cell_type": "markdown",
      "metadata": {
        "id": "NUnTfSfY2pZK"
      },
      "source": [
        "# A basic CNN to fit SVHN"
      ]
    },
    {
      "cell_type": "code",
      "metadata": {
        "id": "UjivSGDyT0xA"
      },
      "source": [
        "def basic_CNNTemplate_A(model_name, inshape, num_classes = 10):\n",
        "  # Input Layer\n",
        "  base_input = Input(shape=inshape, name='base_input')\n",
        "  # Convolutional Layer #1\n",
        "  c1_output = Conv2D(filters=32,kernel_size=[5, 5],padding=\"same\",activation=\"relu\", name=\"C1\")(base_input)\n",
        "\n",
        "  # Pooling Layer #1\n",
        "  mxp1_output = MaxPooling2D(pool_size=[2, 2], strides=2, name=\"MXP1\")(c1_output)\n",
        "  c2_output = Conv2D(filters=64,kernel_size=[5, 5],padding=\"same\",activation=\"relu\",name=\"C2\")(mxp1_output)\n",
        "    \n",
        "  #with tf.name_scope('Pool2 Layer'):\n",
        "  mxp2_output = MaxPooling2D(pool_size=[2, 2], strides=2, name=\"MXP2\")(c2_output)\n",
        "  f1_output = Flatten(name='F1')(mxp2_output)\n",
        "\n",
        "  # Dense Layer\n",
        "  d1_output = Dense(units=256, activation=\"relu\", name=\"D1\")(f1_output)\n",
        "  drp1_output = Dropout(rate=0.5, name=\"DRP1\")(d1_output)\n",
        "\n",
        "  model_output = Dense(num_classes,  activation='softmax', name = 'SFTMX1')(drp1_output)\n",
        "  model = Model(base_input, model_output, name = model_name)\n",
        "  return model\n"
      ],
      "execution_count": null,
      "outputs": []
    },
    {
      "cell_type": "code",
      "metadata": {
        "id": "GqC4AbkNH2ne"
      },
      "source": [
        "# # saving 100 CNNs\n",
        "for model_count in [i+1 for i in range(100)]:\n",
        "  m1, h1 = compile_and_fit_model_basic( basic_CNNTemplate_A,  \n",
        "                    f\"CNN_A_{str(model_count)}_{datetime.datetime.now():%Y%m%d%H%M%S}\", \n",
        "                    train_data_grey[0,:,:,:].shape, \n",
        "                    train_data_grey, train_targets,\n",
        "                    save_max_epoch=False,\n",
        "                    save_final=True,\n",
        "                    patience_count = 35,\n",
        "                    early_stopping_obs = 'val_sparse_categorical_accuracy',\n",
        "                    log_history = True,                             \n",
        "                    batch_size=512, \n",
        "                    epochs=250, \n",
        "                    class_weight=None, \n",
        "                    validation_data=(validation_data_grey, validation_targets))\n",
        "\n",
        "\n",
        "# # /content/drive/MyDrive/data_papers/gpSVHN/model_finals/DNN_A_6_20210923210545_saved_model_after_fit/assets\n",
        "# plot_history(h1)"
      ],
      "execution_count": null,
      "outputs": []
    },
    {
      "cell_type": "code",
      "metadata": {
        "id": "0rhK968KxRy3"
      },
      "source": [
        "# # saving the features of 100 CNNs for the training data\n",
        "\n",
        "check_model_string = \"CNN_A_\"\n",
        "not_check_model_string = [\"arallel\",\"Collab_\"]\n",
        "for dir_entry in os.scandir(f\"/content/drive/MyDrive/data_papers/{paper_name}/model_finals/\"):\n",
        "  if os.path.isdir(dir_entry):\n",
        "    if check_model_string in str(dir_entry) and all([ (not ncs in dir_entry.name) for ncs in not_check_model_string]):\n",
        "      if not dir_has_file_with_regex(f\"/content/drive/MyDrive/data_papers/{paper_name}/model_features\",f\".*{dir_entry.name.replace('_saved_model_after_fit','')}.*_features_DRP1_Train.*$\"):\n",
        "        print(dir_entry.name)\n",
        "        write_features_from_models(\n",
        "          f\"/content/drive/MyDrive/data_papers/{paper_name}/model_finals/{dir_entry.name}\",\n",
        "          \"DRP1\",\n",
        "          train_data_grey, train_targets,\n",
        "          reverse_one_hot=False,\n",
        "          normalize_X_func=None,\n",
        "          dataset_id=\"Train\")\n",
        "      if not dir_has_file_with_regex(f\"/content/drive/MyDrive/data_papers/{paper_name}/model_features\",f\".*{dir_entry.name.replace('_saved_model_after_fit','')}.*_features_SFTMX1_Train.*$\"):\n",
        "        print(dir_entry.name)\n",
        "        write_features_from_models(\n",
        "          f\"/content/drive/MyDrive/data_papers/{paper_name}/model_finals/{dir_entry.name}\",\n",
        "          \"SFTMX1\",\n",
        "          train_data_grey, train_targets,\n",
        "          reverse_one_hot=False,\n",
        "          normalize_X_func=None,\n",
        "          dataset_id=\"Train\")      "
      ],
      "execution_count": null,
      "outputs": []
    },
    {
      "cell_type": "code",
      "metadata": {
        "id": "kk8HZeqOI5IZ"
      },
      "source": [
        "# # saving the features of 100 CNNs for the Validation data\n",
        "\n",
        "# # /content/drive/MyDrive/data_papers/gpSVHN/model_finals/CNN_A_\n",
        "check_model_string = \"CNN_A_\"\n",
        "not_check_model_string = [\"arallel\",\"Collab_\"]\n",
        "for dir_entry in os.scandir(f\"/content/drive/MyDrive/data_papers/{paper_name}/model_finals/\"):\n",
        "  if os.path.isdir(dir_entry):\n",
        "    if check_model_string in str(dir_entry) and all([ (not ncs in dir_entry.name) for ncs in not_check_model_string]):\n",
        "      if not dir_has_file_with_regex(f\"/content/drive/MyDrive/data_papers/{paper_name}/model_features\",f\".*{dir_entry.name.replace('_saved_model_after_fit','')}.*_features_DRP1_Validation.*$\"):\n",
        "        print(dir_entry.name)\n",
        "        write_features_from_models(\n",
        "          f\"/content/drive/MyDrive/data_papers/{paper_name}/model_finals/{dir_entry.name}\",\n",
        "          \"DRP1\",\n",
        "          validation_data_grey, validation_targets,\n",
        "          reverse_one_hot=False,\n",
        "          normalize_X_func=None,\n",
        "          dataset_id=\"Validation\")\n",
        "      if not dir_has_file_with_regex(f\"/content/drive/MyDrive/data_papers/{paper_name}/model_features\",f\".*{dir_entry.name.replace('_saved_model_after_fit','')}.*_features_SFTMX1_Validation.*$\"):\n",
        "        print(dir_entry.name)\n",
        "        write_features_from_models(\n",
        "          f\"/content/drive/MyDrive/data_papers/{paper_name}/model_finals/{dir_entry.name}\",\n",
        "          \"SFTMX1\",\n",
        "          validation_data_grey, validation_targets,\n",
        "          reverse_one_hot=False,\n",
        "          normalize_X_func=None,\n",
        "          dataset_id=\"Validation\")      "
      ],
      "execution_count": null,
      "outputs": []
    },
    {
      "cell_type": "code",
      "metadata": {
        "id": "XIjoa4OnJAih"
      },
      "source": [
        "# # saving the features of 100 CNNs for the Test data\n",
        "\n",
        "# # /content/drive/MyDrive/data_papers/gpSVHN/model_finals/CNN_A_\n",
        "check_model_string = \"CNN_A_\"\n",
        "not_check_model_string = [\"arallel\",\"Collab_\"]\n",
        "for dir_entry in os.scandir(f\"/content/drive/MyDrive/data_papers/{paper_name}/model_finals/\"):\n",
        "  if os.path.isdir(dir_entry):\n",
        "    if check_model_string in str(dir_entry) and all([ (not ncs in dir_entry.name) for ncs in not_check_model_string]):\n",
        "      if not dir_has_file_with_regex(f\"/content/drive/MyDrive/data_papers/{paper_name}/model_features\",f\".*{dir_entry.name.replace('_saved_model_after_fit','')}.*_features_DRP1_Test.*$\"):\n",
        "        print(dir_entry.name)\n",
        "        write_features_from_models(\n",
        "          f\"/content/drive/MyDrive/data_papers/{paper_name}/model_finals/{dir_entry.name}\",\n",
        "          \"DRP1\",\n",
        "          test_data_grey, test_targets,\n",
        "          reverse_one_hot=False,\n",
        "          normalize_X_func=None,\n",
        "          dataset_id=\"Test\")\n",
        "      if not dir_has_file_with_regex(f\"/content/drive/MyDrive/data_papers/{paper_name}/model_features\",f\".*{dir_entry.name.replace('_saved_model_after_fit','')}.*_features_SFTMX1_Test.*$\"):\n",
        "        print(dir_entry.name)\n",
        "        write_features_from_models(\n",
        "          f\"/content/drive/MyDrive/data_papers/{paper_name}/model_finals/{dir_entry.name}\",\n",
        "          \"SFTMX1\",\n",
        "          test_data_grey, test_targets,\n",
        "          reverse_one_hot=False,\n",
        "          normalize_X_func=None,\n",
        "          dataset_id=\"Test\")      "
      ],
      "execution_count": null,
      "outputs": []
    },
    {
      "cell_type": "code",
      "metadata": {
        "id": "xZsCz3bYySRB"
      },
      "source": [
        "# getting the scores for the individual 100 CNNs on the test data set\n",
        "scores_cnn_simple = []\n",
        "check_model_string = \"CNN_A_\"\n",
        "not_check_model_string = [\"arallel\",\"Collab_\"]\n",
        "for dir_entry in os.scandir(f\"/content/drive/MyDrive/data_papers/{paper_name}/model_finals/\"):\n",
        "  if os.path.isdir(dir_entry):\n",
        "    if check_model_string in str(dir_entry) and all([ (not ncs in dir_entry.name) for ncs in not_check_model_string]):\n",
        "      print(dir_entry.name)\n",
        "      model_here = tf.keras.models.load_model(f\"/content/drive/MyDrive/data_papers/{paper_name}/model_finals/{dir_entry.name}\")  \n",
        "      y_predict_here = np.array(model_here.predict(test_data_grey), dtype='float64')\n",
        "      y_predict_here = np.apply_along_axis(np.argmax, 1, y_predict_here)\n",
        "      scores_cnn_simple.append(pr_rc_f1_acc_from_supplied(y_predict_here, test_targets))\n",
        "\n",
        "np.save(f\"/content/drive/MyDrive/data_papers/{paper_name}/summary_results/individual_cnn_summary_{datetime.datetime.now():%Y%m%d%H%M%S}\", np.array(scores_cnn_simple), \n",
        "               allow_pickle=True, \n",
        "               fix_imports=True)\n",
        "\n"
      ],
      "execution_count": null,
      "outputs": []
    },
    {
      "cell_type": "markdown",
      "metadata": {
        "id": "boCHy50O_Z-m"
      },
      "source": [
        "# ResNet50 fit SVHN grey"
      ]
    },
    {
      "cell_type": "code",
      "metadata": {
        "id": "zMFmsZHu_s9S"
      },
      "source": [
        "# from tensorflow.keras.applications.vgg16 import VGG16\n",
        "from tensorflow.keras.applications.vgg19 import VGG19\n",
        "from tensorflow.keras.applications import ResNet50\n",
        "from tensorflow.keras.models import Sequential\n",
        "from tensorflow.keras.layers import Dense, Flatten, GlobalAveragePooling2D, BatchNormalization\n"
      ],
      "execution_count": null,
      "outputs": []
    },
    {
      "cell_type": "code",
      "metadata": {
        "id": "0hG4HIud_Z-n"
      },
      "source": [
        "def basic_ResNet50Template_A(model_name, inshape, num_classes = 10):\n",
        "  model = Sequential(name=model_name)\n",
        "  model.add(ResNet50(include_top=True, pooling='avg', weights=None,input_shape=inshape, classes=num_classes))\n",
        "  model.compile(loss='sparse_categorical_crossentropy',\n",
        "                optimizer='adam',      \n",
        "                metrics=['acc'])\n",
        "  return(model)\n",
        "\n",
        "def basic_VGG19Template_A(model_name, inshape, num_classes = 10):\n",
        "  model = Sequential(name=model_name)\n",
        "  model.add(VGG19(include_top=True, pooling='avg', weights=None,input_shape=inshape, classes=num_classes))\n",
        "  model.compile(loss='sparse_categorical_crossentropy',\n",
        "                optimizer='adam',      \n",
        "                metrics=['acc'])\n",
        "  return(model)\n",
        "\n"
      ],
      "execution_count": null,
      "outputs": []
    },
    {
      "cell_type": "code",
      "metadata": {
        "id": "mlIRttQrBd_x"
      },
      "source": [
        "# # saving 100 RestNet50\n",
        "for model_count in [i+1 for i in range(40)]:\n",
        "  m1, h1 = compile_and_fit_model_basic( basic_ResNet50Template_A,  \n",
        "                    f\"RestNet50_A_{str(model_count)}_{datetime.datetime.now():%Y%m%d%H%M%S}\", \n",
        "                    train_data_grey[0,:,:,:].shape, \n",
        "                    train_data_grey, train_targets,\n",
        "                    save_max_epoch=False,\n",
        "                    save_final=True,\n",
        "                    patience_count = 35,\n",
        "                    early_stopping_obs = 'val_sparse_categorical_accuracy',\n",
        "                    log_history = True,                             \n",
        "                    batch_size=512, \n",
        "                    epochs=250, \n",
        "                    class_weight=None, \n",
        "                    verbose_level = 1,\n",
        "                    validation_data=(validation_data_grey, validation_targets))"
      ],
      "execution_count": null,
      "outputs": []
    },
    {
      "cell_type": "code",
      "metadata": {
        "id": "AUtudPCgMrN7"
      },
      "source": [
        "import tensorflow as tf\n",
        "from tensorflow.keras.utils import plot_model\n",
        "# plot_model(m1)\n"
      ],
      "execution_count": null,
      "outputs": []
    },
    {
      "cell_type": "code",
      "metadata": {
        "id": "mA5PSzi6NvjP"
      },
      "source": [
        "#  ResNets do NOT allow feature extractions!\n",
        "# model_entry = m1\n",
        "# X_input = train_data_grey.copy()\n",
        "# Y_input = train_targets.copy()\n",
        "# layer_name = \"resnet50\"\n",
        "# m1.input\n",
        "# get_layer_by_name(m1.layers, \"resnet50\").output\n",
        "# Model(m1.input, get_layer_by_name(m1.layers, layer_name).output)"
      ],
      "execution_count": null,
      "outputs": []
    },
    {
      "cell_type": "code",
      "metadata": {
        "id": "wXQ_hD5xP5yh"
      },
      "source": [
        "# getting the scores for the individual 40 ResNets on the test data set\n",
        "scores_resnets_simple = []\n",
        "check_model_string = \"RestNet50_A\"\n",
        "not_check_model_string = [\"arallel\",\"Collab_\"]\n",
        "for dir_entry in os.scandir(f\"/content/drive/MyDrive/data_papers/{paper_name}/model_finals/\"):\n",
        "  if os.path.isdir(dir_entry):\n",
        "    if check_model_string in str(dir_entry) and all([ (not ncs in dir_entry.name) for ncs in not_check_model_string]):\n",
        "      print(dir_entry.name)\n",
        "      model_here = tf.keras.models.load_model(f\"/content/drive/MyDrive/data_papers/{paper_name}/model_finals/{dir_entry.name}\")  \n",
        "      y_predict_here = np.array(model_here.predict(test_data_grey), dtype='float64')\n",
        "      y_predict_here = np.apply_along_axis(np.argmax, 1, y_predict_here)\n",
        "      scores_resnets_simple.append(pr_rc_f1_acc_from_supplied(y_predict_here, test_targets))\n",
        "\n",
        "np.save(f\"/content/drive/MyDrive/data_papers/{paper_name}/summary_results/individual_resnets_summary_{datetime.datetime.now():%Y%m%d%H%M%S}\", np.array(scores_resnets_simple), \n",
        "               allow_pickle=True, \n",
        "               fix_imports=True)"
      ],
      "execution_count": null,
      "outputs": []
    },
    {
      "cell_type": "markdown",
      "metadata": {
        "id": "WS7USmAlAZ_Q"
      },
      "source": [
        "# WideResNet fit SVHN grey"
      ]
    },
    {
      "cell_type": "code",
      "metadata": {
        "id": "FkC-qxwi5U1f"
      },
      "source": [
        "import uuid\n",
        "# uuid.uuid4()\n",
        "# str(uuid.uuid4()).split(\"-\")[0]"
      ],
      "execution_count": null,
      "outputs": []
    },
    {
      "cell_type": "code",
      "metadata": {
        "id": "kSq59Zr_AZBE"
      },
      "source": [
        "# https://github.com/asmith26/wide_resnets_keras\n",
        "\n",
        "# Wide residual network http://arxiv.org/abs/1605.07146\n",
        "def _wide_basic(n_input_plane, n_output_plane, stride, identifier, \n",
        "                channel_axis = -1,\n",
        "                weight_decay = 0.0005,\n",
        "                weight_init=\"he_normal\",\n",
        "                use_bias = False,\n",
        "                dropout_probability = 0.0\n",
        "                ):\n",
        "    def f(net):\n",
        "        # format of conv_params:\n",
        "        #               [ [nb_col=\"kernel width\", nb_row=\"kernel height\",\n",
        "        #               subsample=\"(stride_vertical,stride_horizontal)\",\n",
        "        #               border_mode=\"same\" or \"valid\"] ]\n",
        "        # B(3,3): orignal <<basic>> block\n",
        "        conv_params = [ [3,3,stride,\"same\"],\n",
        "                        [3,3,(1,1),\"same\"] ]\n",
        "        \n",
        "        n_bottleneck_plane = n_output_plane\n",
        "\n",
        "        # Residual block\n",
        "        for i, v in enumerate(conv_params):\n",
        "            if i == 0:\n",
        "                if n_input_plane != n_output_plane:\n",
        "                    net = BatchNormalization(axis=channel_axis, name=f\"BN{str(i)}_{identifier}_{uuid.uuid4()}\")(net)\n",
        "                    net = Activation(\"relu\")(net)\n",
        "                    convs = net\n",
        "                else:\n",
        "                    convs = BatchNormalization(axis=channel_axis, name=f\"BN{str(i)}_{identifier}_{uuid.uuid4()}\")(net)\n",
        "                    convs = Activation(\"relu\")(convs)\n",
        "                convs = Conv2D(n_bottleneck_plane, \n",
        "                               (v[0],v[1]),\n",
        "                                strides=v[2],\n",
        "                                padding=v[3],\n",
        "                                kernel_initializer=weight_init,\n",
        "                                kernel_regularizer=L2(weight_decay),\n",
        "                                use_bias=use_bias,\n",
        "                                name = f\"CONV0_{identifier}_{uuid.uuid4()}\")(convs)\n",
        "            else:\n",
        "                convs = BatchNormalization(axis=channel_axis, name=f\"BN{str(i)}_{identifier}_{uuid.uuid4()}\")(convs)\n",
        "                convs = Activation(\"relu\")(convs)\n",
        "                if dropout_probability > 0:\n",
        "                   convs = Dropout(dropout_probability, name=f\"DRP{str(i)}_{identifier}_{uuid.uuid4()}\")(convs)\n",
        "                convs = Conv2D(n_bottleneck_plane, \n",
        "                               (v[0],v[1]),\n",
        "                                strides=v[2],\n",
        "                                padding=v[3],\n",
        "                                kernel_initializer=weight_init,\n",
        "                                kernel_regularizer=L2(weight_decay),\n",
        "                                use_bias=use_bias,\n",
        "                                name=f\"CONV{str(i)}_{identifier}_{uuid.uuid4()}\")(convs)\n",
        "\n",
        "        # Shortcut Conntection: identity function or 1x1 convolutional\n",
        "        #  (depends on difference between input & output shape - this\n",
        "        #   corresponds to whether we are using the first block in each\n",
        "        #   group; see _layer() ).\n",
        "        if n_input_plane != n_output_plane:\n",
        "            shortcut = Conv2D(n_output_plane, \n",
        "                              (1,1),\n",
        "                              strides=stride,\n",
        "                              padding=\"same\",\n",
        "                              kernel_initializer=weight_init,\n",
        "                              kernel_regularizer=L2(weight_decay),\n",
        "                              use_bias=use_bias,\n",
        "                              name=f\"CONVSHORTCUT_{identifier}_{uuid.uuid4()}\")(net)\n",
        "        else:\n",
        "            shortcut = net\n",
        "\n",
        "        return Add()([convs, shortcut])\n",
        "    \n",
        "    return f\n",
        "\n",
        "\n",
        "# \"Stacking Residual Units on the same stage\"\n",
        "def _layer(block, n_input_plane, n_output_plane, count, stride):\n",
        "    def f(net):\n",
        "        net = block(n_input_plane, n_output_plane, stride)(net)\n",
        "        for i in range(2,int(count+1)):\n",
        "            net = block(n_output_plane, n_output_plane, stride=(1,1))(net)\n",
        "        return net\n",
        "    \n",
        "    return f\n"
      ],
      "execution_count": null,
      "outputs": []
    },
    {
      "cell_type": "markdown",
      "metadata": {
        "id": "n14_FVnPRzTA"
      },
      "source": [
        "This will be WRN-28-10 WideResNet"
      ]
    },
    {
      "cell_type": "code",
      "metadata": {
        "id": "2zWw-kt6RxYk"
      },
      "source": [
        "input_shape=train_data_grey[0,:,:,:].shape\n",
        "weight_decay = 0.0005\n",
        "weight_init=\"he_normal\"\n",
        "use_bias = False\n",
        "k = 10\n",
        "depth = 28             \n",
        "n = (depth - 4) / 6\n",
        "dropout_probability = 0.0\n",
        "# batch_size = 128      \n",
        "# nb_epochs = 200\n",
        "channel_axis = -1\n",
        "\n",
        "num_wrn_models = 10\n",
        "no_classes=10\n",
        "import functools"
      ],
      "execution_count": null,
      "outputs": []
    },
    {
      "cell_type": "code",
      "metadata": {
        "id": "QuHzXzVpVkmd"
      },
      "source": [
        "# set up 40 WRN-28-10 models \n",
        "model_wrns = []\n",
        "\n",
        "for i in range(num_wrn_models):\n",
        "  inputs_wrn = Input(shape=input_shape,name=f\"M{str(i)}_INPUT\")\n",
        "  n_stages=[16, 16*k, 32*k, 64*k]\n",
        "  conv1_wrn = Conv2D(16, \n",
        "                  (3, 3), \n",
        "                  strides=1,\n",
        "                  padding=\"same\",\n",
        "                  kernel_initializer=weight_init,\n",
        "                  kernel_regularizer=L2(weight_decay),\n",
        "                  use_bias=use_bias,\n",
        "                  name=\"C1BLOCK\")(inputs_wrn) # \"One conv at the beginning (spatial size: 32x32)\"\n",
        "  # Add wide residual blocks\n",
        "  block_fn = _wide_basic\n",
        "  conv2_wrn = _layer(functools.partial(block_fn,identifier=f\"C2BLOCK\"), n_input_plane=n_stages[0], n_output_plane=n_stages[1], count=n, stride=(1,1))(conv1_wrn)# \"Stage 1 (spatial size: 32x32)\"\n",
        "  conv3_wrn = _layer(functools.partial(block_fn,identifier=f\"C3BLOCK\"), n_input_plane=n_stages[1], n_output_plane=n_stages[2], count=n, stride=(2,2))(conv2_wrn)# \"Stage 2 (spatial size: 16x16)\"\n",
        "  conv4_wrn = _layer(functools.partial(block_fn,identifier=f\"C4BLOCK\"), n_input_plane=n_stages[2], n_output_plane=n_stages[3], count=n, stride=(2,2))(conv3_wrn)# \"Stage 3 (spatial size: 8x8)\"\n",
        "\n",
        "  batch_norm_wrn = BatchNormalization(axis=channel_axis,name=f\"M{str(i)}_BN\")(conv4_wrn)\n",
        "  relu_wrn = Activation(\"relu\")(batch_norm_wrn)\n",
        "                                          \n",
        "  # Classifier block\n",
        "  pool_wrn = AveragePooling2D(pool_size=(8, 8), strides=(1, 1), padding=\"same\", name=f\"CLASSIFIER_AVPL\")(relu_wrn)\n",
        "  flatten_wrn = Flatten(name=f\"CLASSIFIER_FL\")(pool_wrn)\n",
        "  predictions_wrn = Dense(units=no_classes, kernel_initializer=weight_init, use_bias=use_bias,\n",
        "                      kernel_regularizer=L2(weight_decay), activation=\"softmax\", name=\"CLASSIFIER_D1\")(flatten_wrn)\n",
        "  model_wrn = Model(inputs=inputs_wrn, outputs=predictions_wrn)\n",
        "  model_wrns.append(model_wrn)\n",
        "\n"
      ],
      "execution_count": null,
      "outputs": []
    },
    {
      "cell_type": "code",
      "metadata": {
        "id": "Lq0CzhUGVIg_"
      },
      "source": [
        "for model_count in [i for i in range(len(model_wrns))]:\n",
        "  mwrn, hwrn = compile_and_fit_model_basic(  model_wrns[model_count], \n",
        "                                           f\"WideResNet28-10_ID{str(uuid.uuid4()).split('-')[0]}_{str(model_count+11)}_{datetime.datetime.now():%Y%m%d%H%M%S}\",\n",
        "                                          train_data_grey[0,:,:,:].shape,\n",
        "                                          train_data_grey,\n",
        "                                          train_targets,\n",
        "                                          save_max_epoch=False,\n",
        "                                          save_final=True,\n",
        "                                          patience_count = 35,\n",
        "                                          early_stopping_obs = 'val_sparse_categorical_accuracy',\n",
        "                                          log_history = True,\n",
        "                                          verbose_level = 1,\n",
        "                                          batch_size=256, \n",
        "                                          epochs=250, \n",
        "                                          class_weight=None,\n",
        "                                          validation_data=(validation_data_grey, validation_targets))\n"
      ],
      "execution_count": null,
      "outputs": []
    },
    {
      "cell_type": "code",
      "metadata": {
        "id": "brTi7688Dx78"
      },
      "source": [
        "# # saving the features of WideResNets for the training data\n",
        "\n",
        "check_model_string = \"WideResNet28-10_\"\n",
        "not_check_model_string = [\"arallel\",\"Collab_\"]\n",
        "\n",
        "acceptable_chunk = 5000\n",
        "idxs_for_train = np.unique(list(range(0,train_data_grey.shape[0],acceptable_chunk)) + [train_data_grey.shape[0]]).tolist()\n",
        "\n",
        "for dir_entry in os.scandir(f\"/content/drive/MyDrive/data_papers/{paper_name}/model_finals/\"):\n",
        "  if os.path.isdir(dir_entry):\n",
        "    if check_model_string in str(dir_entry) and all([ (not ncs in dir_entry.name) for ncs in not_check_model_string]):\n",
        "      for i in range(len(idxs_for_train[:-1])):\n",
        "        print(f\"{dir_entry.name}_{idxs_for_train[i]}-{idxs_for_train[i+1]}\")\n",
        "        write_features_from_models(\n",
        "          f\"/content/drive/MyDrive/data_papers/{paper_name}/model_finals/{dir_entry.name}\",\n",
        "          \"CLASSIFIER_FL\",\n",
        "          train_data_grey[idxs_for_train[i]:idxs_for_train[i+1],:,:,:], train_targets[idxs_for_train[i]:idxs_for_train[i+1],:],\n",
        "          reverse_one_hot=False,\n",
        "          normalize_X_func=None,\n",
        "          dataset_id=f\"Train{str(i)}_{idxs_for_train[i]}-{idxs_for_train[i+1]}\")\n",
        "        write_features_from_models(\n",
        "          f\"/content/drive/MyDrive/data_papers/{paper_name}/model_finals/{dir_entry.name}\",\n",
        "          \"CLASSIFIER_D1\",\n",
        "          train_data_grey[idxs_for_train[i]:idxs_for_train[i+1],:,:,:], train_targets[idxs_for_train[i]:idxs_for_train[i+1],:],\n",
        "          reverse_one_hot=False,\n",
        "          normalize_X_func=None,\n",
        "          dataset_id=f\"Train{str(i)}_{idxs_for_train[i]}-{idxs_for_train[i+1]}\")\n",
        "        "
      ],
      "execution_count": null,
      "outputs": []
    },
    {
      "cell_type": "code",
      "metadata": {
        "id": "PzPD9hg1vTTk"
      },
      "source": [
        "\n",
        "# # saving the features of WideResNets for the Validation data  \n",
        "\n",
        "check_model_string = \"WideResNet28-10_\"\n",
        "not_check_model_string = [\"arallel\",\"Collab_\"]\n",
        "\n",
        "acceptable_chunk = 5000\n",
        "idxs_for_validation = np.unique(list(range(0,validation_data_grey.shape[0],acceptable_chunk)) + [validation_data_grey.shape[0]]).tolist()\n",
        "\n",
        "for dir_entry in os.scandir(f\"/content/drive/MyDrive/data_papers/{paper_name}/model_finals/\"):\n",
        "  if os.path.isdir(dir_entry):\n",
        "    if check_model_string in str(dir_entry) and all([ (not ncs in dir_entry.name) for ncs in not_check_model_string]):\n",
        "      for i in range(len(idxs_for_validation[:-1])):\n",
        "        print(f\"{dir_entry.name}__{idxs_for_validation[i]}-{idxs_for_validation[i+1]}\")\n",
        "        write_features_from_models(\n",
        "          f\"/content/drive/MyDrive/data_papers/{paper_name}/model_finals/{dir_entry.name}\",\n",
        "          \"CLASSIFIER_FL\",\n",
        "          validation_data_grey[idxs_for_validation[i]:idxs_for_validation[i+1],:,:,:], validation_targets[idxs_for_validation[i]:idxs_for_validation[i+1],:],\n",
        "          reverse_one_hot=False,\n",
        "          normalize_X_func=None,\n",
        "          dataset_id=f\"Validation{str(i)}_{idxs_for_validation[i]}-{idxs_for_validation[i+1]}\")     \n",
        "        write_features_from_models(\n",
        "          f\"/content/drive/MyDrive/data_papers/{paper_name}/model_finals/{dir_entry.name}\",\n",
        "          \"CLASSIFIER_D1\",\n",
        "          validation_data_grey[idxs_for_validation[i]:idxs_for_validation[i+1],:,:,:], validation_targets[idxs_for_validation[i]:idxs_for_validation[i+1],:],\n",
        "          reverse_one_hot=False,\n",
        "          normalize_X_func=None,\n",
        "          dataset_id=f\"Validation{str(i)}_{idxs_for_validation[i]}-{idxs_for_validation[i+1]}\")     \n",
        "      "
      ],
      "execution_count": null,
      "outputs": []
    },
    {
      "cell_type": "code",
      "metadata": {
        "id": "quehv3Q9fDC8",
        "colab": {
          "base_uri": "https://localhost:8080/"
        },
        "outputId": "b71d8425-3f6d-4ba6-b78e-b82b9a30b1ee"
      },
      "source": [
        "gpus = tf.config.experimental.list_physical_devices('GPU') \n",
        "# for gpu in gpus: \n",
        "#   tf.config.experimental.set_memory_growth(gpu, True)\n",
        "gpus"
      ],
      "execution_count": null,
      "outputs": [
        {
          "output_type": "execute_result",
          "data": {
            "text/plain": [
              "[PhysicalDevice(name='/physical_device:GPU:0', device_type='GPU')]"
            ]
          },
          "metadata": {},
          "execution_count": 31
        }
      ]
    },
    {
      "cell_type": "code",
      "metadata": {
        "colab": {
          "background_save": true
        },
        "id": "T3g_gaA1S2iP"
      },
      "source": [
        "\n",
        "# # saving the features of WideResNets for the Test data  \n",
        "\n",
        "check_model_string = \"WideResNet28-10_\"\n",
        "not_check_model_string = [\"arallel\",\"Collab_\"] \n",
        "\n",
        "acceptable_chunk = 5000\n",
        "idxs_for_test = np.unique(list(range(0,test_data_grey.shape[0],acceptable_chunk)) + [test_data_grey.shape[0]]).tolist()\n",
        "\n",
        "for dir_entry in os.scandir(f\"/content/drive/MyDrive/data_papers/{paper_name}/model_finals/\"):\n",
        "  if os.path.isdir(dir_entry):\n",
        "    if check_model_string in str(dir_entry) and all([ (not ncs in dir_entry.name) for ncs in not_check_model_string]):\n",
        "      for i in range(len(idxs_for_test[:-1])):\n",
        "      # # saving the features of WideResNets for the Test data      \n",
        "        print(f\"{dir_entry.name}__{idxs_for_test[i]}-{idxs_for_test[i+1]}\")\n",
        "        write_features_from_models(\n",
        "          f\"/content/drive/MyDrive/data_papers/{paper_name}/model_finals/{dir_entry.name}\",\n",
        "          \"CLASSIFIER_FL\",\n",
        "          test_data_grey[idxs_for_test[i]:idxs_for_test[i+1],:,:,:], test_targets[idxs_for_test[i]:idxs_for_test[i+1],:],\n",
        "          reverse_one_hot=False,\n",
        "          normalize_X_func=None,\n",
        "          dataset_id=f\"TestBatch{str(i)}_{idxs_for_test[i]}-{idxs_for_test[i+1]}\")      \n",
        "        write_features_from_models(\n",
        "          f\"/content/drive/MyDrive/data_papers/{paper_name}/model_finals/{dir_entry.name}\",\n",
        "          \"CLASSIFIER_D1\",\n",
        "          test_data_grey[idxs_for_test[i]:idxs_for_test[i+1],:,:,:], test_targets[idxs_for_test[i]:idxs_for_test[i+1],:],\n",
        "          reverse_one_hot=False,\n",
        "          normalize_X_func=None,\n",
        "          dataset_id=f\"TestBatch{str(i)}_{idxs_for_test[i]}-{idxs_for_test[i+1]}\")              "
      ],
      "execution_count": null,
      "outputs": []
    },
    {
      "cell_type": "code",
      "metadata": {
        "colab": {
          "base_uri": "https://localhost:8080/"
        },
        "id": "9TxCYEyUEnem",
        "outputId": "ee48818c-d0aa-4515-9922-706dde9e863b"
      },
      "source": [
        "# getting the scores for the individual WideResNets on the test data set\n",
        "scores_wideresnets_simple = []\n",
        "check_model_string = \"WideResNet28-10_\"\n",
        "not_check_model_string = [\"arallel\",\"Collab_\"]\n",
        "for dir_entry in os.scandir(f\"/content/drive/MyDrive/data_papers/{paper_name}/model_finals/\"):\n",
        "  if os.path.isdir(dir_entry):\n",
        "    if check_model_string in str(dir_entry) and all([ (not ncs in dir_entry.name) for ncs in not_check_model_string]):\n",
        "      print(dir_entry.name)\n",
        "      model_here = tf.keras.models.load_model(f\"/content/drive/MyDrive/data_papers/{paper_name}/model_finals/{dir_entry.name}\")  \n",
        "      y_predict_here = np.array(model_here.predict(test_data_grey), dtype='float64')\n",
        "      y_predict_here = np.apply_along_axis(np.argmax, 1, y_predict_here)\n",
        "      print(pr_rc_f1_acc_from_supplied(y_predict_here, test_targets))\n",
        "      scores_wideresnets_simple.append(pr_rc_f1_acc_from_supplied(y_predict_here, test_targets))\n",
        "\n",
        "np.save(f\"/content/drive/MyDrive/data_papers/{paper_name}/summary_results/individual_WideResNet2810_summary_{datetime.datetime.now():%Y%m%d%H%M%S}\", np.array(scores_wideresnets_simple), \n",
        "               allow_pickle=True, \n",
        "               fix_imports=True)"
      ],
      "execution_count": null,
      "outputs": [
        {
          "name": "stdout",
          "output_type": "stream",
          "text": [
            "WideResNet28-10_ID71928613_1_20211014230300_saved_model_after_fit\n",
            "(0.9426668585503046, 0.9334333333333333, 0.9345350349420433, 0.9334333333333333)\n",
            "WideResNet28-10_ID294f3208_1_20211015004120_saved_model_after_fit\n",
            "(0.9670566130500473, 0.9665, 0.9665407049683383, 0.9665)\n",
            "WideResNet28-10_IDe984f9ca_2_20211015035259_saved_model_after_fit\n",
            "(0.9651505915218214, 0.9643666666666667, 0.9644065171070627, 0.9643666666666667)\n",
            "WideResNet28-10_ID4cec947d_3_20211015065514_saved_model_after_fit\n",
            "(0.9657519482052561, 0.9652666666666667, 0.9653032462704305, 0.9652666666666667)\n",
            "WideResNet28-10_ID97463b53_4_20211015104216_saved_model_after_fit\n",
            "(0.9532269145937123, 0.9491666666666667, 0.9496713027989148, 0.9491666666666667)\n",
            "WideResNet28-10_ID0cd6adde_5_20211015144418_saved_model_after_fit\n",
            "(0.9586881574112619, 0.9571666666666667, 0.9573273069552365, 0.9571666666666667)\n",
            "WideResNet28-10_IDdc182e41_7_20211016062521_saved_model_after_fit\n",
            "(0.9620292807039906, 0.9611, 0.9612027694527754, 0.9611)\n",
            "WideResNet28-10_IDe1fdfe44_8_20211016112241_saved_model_after_fit\n",
            "(0.9585426094020093, 0.9572, 0.957227466680005, 0.9572)\n",
            "WideResNet28-10_IDc517630b_9_20211016152541_saved_model_after_fit\n",
            "(0.9597199260955123, 0.958, 0.9580696597289866, 0.958)\n",
            "WideResNet28-10_ID393ddffb_10_20211016184954_saved_model_after_fit\n",
            "(0.9622094659938204, 0.9614, 0.9613425628729247, 0.9614)\n"
          ]
        }
      ]
    },
    {
      "cell_type": "code",
      "metadata": {
        "id": "vu9-in9HfWZc"
      },
      "source": [
        "# print(test_data_grey.shape)\n",
        "# print(test_targets.shape)\n",
        "# a=np.unique(list(range(0,test_data_grey.shape[0],5000)) + [test_data_grey.shape[0]]).tolist()\n",
        "# print(a)\n",
        "# a[:-1]"
      ],
      "execution_count": null,
      "outputs": []
    },
    {
      "cell_type": "markdown",
      "metadata": {
        "id": "ib862JpbN7oI"
      },
      "source": [
        "# Save the validation results for all the DNN, CNN, ResNet50, WideResnets to see whether it can be used for 'selecting' models"
      ]
    },
    {
      "cell_type": "code",
      "metadata": {
        "id": "_09nA-cDONBT"
      },
      "source": [
        "import pandas as pd\n",
        "\n",
        "def get_validation_acc_from_history_file(f1):\n",
        "  pd1 = pd.read_csv(f1)\n",
        "  return pd1[pd1.epoch==max(pd1.epoch)].val_sparse_categorical_accuracy.iloc[0]\n"
      ],
      "execution_count": null,
      "outputs": []
    },
    {
      "cell_type": "code",
      "metadata": {
        "id": "rqG47BAEONen"
      },
      "source": [
        "all_histories = os.listdir(f\"/content/drive/MyDrive/data_papers/{paper_name}/model_history\")\n",
        "\n",
        "all_dnn_histories = [f for f in all_histories if \"DNN_\" in f and \"arallel\" not in f and \"ollab\" not in f]\n",
        "all_cnn_histories = [f for f in all_histories if \"CNN_\" in f and \"arallel\" not in f and \"ollab\" not in f]\n",
        "all_resnet50_histories = [f for f in all_histories if \"RestNet50\" in f and \"arallel\" not in f and \"ollab\" not in f]\n",
        "all_WideResNet_histories = [f for f in all_histories if \"WideResNet\" in f and \"arallel\" not in f and \"ollab\" not in f]\n"
      ],
      "execution_count": null,
      "outputs": []
    },
    {
      "cell_type": "code",
      "metadata": {
        "id": "7yHc2JWiiFpL"
      },
      "source": [
        "dnn_val_accs = pd.DataFrame( { \"Type\": \"DNN\", \"File\": all_dnn_histories, \"ValAcc\" : [ get_validation_acc_from_history_file(f\"/content/drive/MyDrive/data_papers/{paper_name}/model_history/{f}\") for f in all_dnn_histories  ] } )\n",
        "cnn_val_accs = pd.DataFrame( { \"Type\": \"CNN\", \"File\": all_cnn_histories, \"ValAcc\" : [ get_validation_acc_from_history_file(f\"/content/drive/MyDrive/data_papers/{paper_name}/model_history/{f}\") for f in all_cnn_histories  ] } )\n",
        "resnet50_val_accs = pd.DataFrame( { \"Type\": \"ResNet50\", \"File\": all_resnet50_histories, \"ValAcc\" : [ get_validation_acc_from_history_file(f\"/content/drive/MyDrive/data_papers/{paper_name}/model_history/{f}\") for f in all_resnet50_histories  ] } )\n",
        "wideResNet_val_accs = pd.DataFrame( { \"Type\": \"WideResNet\", \"File\": all_WideResNet_histories, \"ValAcc\" : [ get_validation_acc_from_history_file(f\"/content/drive/MyDrive/data_papers/{paper_name}/model_history/{f}\") for f in all_WideResNet_histories  ] } )\n",
        "\n"
      ],
      "execution_count": null,
      "outputs": []
    },
    {
      "cell_type": "code",
      "metadata": {
        "id": "feXi7f-Zq4vz"
      },
      "source": [
        "import datetime\n",
        "val_accs_base_models = pd.concat([dnn_val_accs, cnn_val_accs, resnet50_val_accs, wideResNet_val_accs])\n",
        "val_accs_base_models.to_csv(f\"/content/drive/MyDrive/data_papers/{paper_name}/model_ccs/validation_accs_base_{datetime.datetime.now():%Y%m%d%H%M%S}.csv\", index=False)"
      ],
      "execution_count": null,
      "outputs": []
    },
    {
      "cell_type": "markdown",
      "metadata": {
        "id": "d4NWpQ7wAS1u"
      },
      "source": [
        "# Set up ensembles of 20 DNN, 20 CNN or 10 CNN/10 DNN to predict (randomly assembled from the 100 before)"
      ]
    },
    {
      "cell_type": "code",
      "metadata": {
        "id": "iIL2mp4cmkT0"
      },
      "source": [
        "num_of_repeats = 20\n",
        "num_of_models = 20\n",
        "\n",
        "x_input = test_data_grey\n",
        "y_input = test_targets\n",
        "\n",
        "# create traditional ensemble of 20 DNNs \n",
        "scores_dnn20 = []\n",
        "for repc in range(num_of_repeats):\n",
        "  dnn_models_to_use = [ tf.keras.models.load_model(mfile) for mfile in sorted(random.sample(dnn_model_dirs, num_of_models))]\n",
        "  dnn_model_predictions = [ model.predict(x_input) for model in dnn_models_to_use]\n",
        "  y_ens_preds = avgfilter_ensemble_predictions(dnn_model_predictions, x_input)\n",
        "  scores_dnn20.append(pr_rc_f1_acc_from_supplied(y_ens_preds,y_input))\n",
        "\n",
        "# create traditional ensemble of 20 CNNs \n",
        "scores_cnn20 = []\n",
        "for repc in range(num_of_repeats):\n",
        "  cnn_models_to_use = [ tf.keras.models.load_model(mfile) for mfile in sorted(random.sample(cnn_model_dirs, num_of_models))]\n",
        "  cnn_model_predictions = [ model.predict(x_input) for model in cnn_models_to_use]\n",
        "  y_ens_preds = avgfilter_ensemble_predictions(cnn_model_predictions, x_input)\n",
        "  scores_cnn20.append(pr_rc_f1_acc_from_supplied(y_ens_preds,y_input))\n",
        "\n",
        "\n"
      ],
      "execution_count": null,
      "outputs": []
    },
    {
      "cell_type": "code",
      "metadata": {
        "id": "FROXYexX_CcB"
      },
      "source": [
        "num_of_repeats = 20\n",
        "num_of_models = 20\n",
        "\n",
        "x_input = test_data_grey\n",
        "y_input = test_targets\n",
        "\n",
        "# create traditional ensemble of 10 CNNs and 10 DNNs\n",
        "scores_cnn10dnn10 = []\n",
        "for repc in range(num_of_repeats):\n",
        "  cnn_models_to_use = [ tf.keras.models.load_model(mfile) for mfile in sorted(random.sample(cnn_model_dirs, int(num_of_models/2)))]\n",
        "  cnn_model_predictions = [ model.predict(x_input) for model in cnn_models_to_use]\n",
        "  dnn_models_to_use = [ tf.keras.models.load_model(mfile) for mfile in sorted(random.sample(dnn_model_dirs, int(num_of_models/2)))]\n",
        "  models_to_use = cnn_models_to_use\n",
        "  models_to_use.extend(dnn_models_to_use)\n",
        "  model_predictions = [ model.predict(x_input) for model in models_to_use]\n",
        "  y_ens_preds = avgfilter_ensemble_predictions(model_predictions, x_input)\n",
        "  scores_cnn10dnn10.append(pr_rc_f1_acc_from_supplied(y_ens_preds,y_input))\n",
        "\n"
      ],
      "execution_count": null,
      "outputs": []
    },
    {
      "cell_type": "markdown",
      "metadata": {
        "id": "zVqJ8RVFV5pn"
      },
      "source": [
        "Save the score results of the ensembles"
      ]
    },
    {
      "cell_type": "code",
      "metadata": {
        "id": "DNE4dpF_V5pn"
      },
      "source": [
        "np.save(f\"/content/drive/MyDrive/data_papers/{paper_name}/summary_results/traditional_ensemble_dnn20_summary_{datetime.datetime.now():%Y%m%d%H%M%S}\", np.array(scores_dnn20), \n",
        "               allow_pickle=True, \n",
        "               fix_imports=True)\n",
        "np.save(f\"/content/drive/MyDrive/data_papers/{paper_name}/summary_results/traditional_ensemble_cnn20_summary_{datetime.datetime.now():%Y%m%d%H%M%S}\", np.array(scores_cnn20), \n",
        "               allow_pickle=True, \n",
        "               fix_imports=True)\n",
        "np.save(f\"/content/drive/MyDrive/data_papers/{paper_name}/summary_results/traditional_ensemble_cnn10dnn10_summary_{datetime.datetime.now():%Y%m%d%H%M%S}\", np.array(scores_cnn10dnn10), \n",
        "               allow_pickle=True, \n",
        "               fix_imports=True)\n",
        "\n"
      ],
      "execution_count": null,
      "outputs": []
    },
    {
      "cell_type": "markdown",
      "metadata": {
        "id": "N3pww0F8PDy4"
      },
      "source": [
        "# Set up ensembles of 20 ResNets50 (randomly assembled from the 40 before) and 10 WideResNets"
      ]
    },
    {
      "cell_type": "code",
      "metadata": {
        "id": "VctHsz0EPDy4",
        "colab": {
          "base_uri": "https://localhost:8080/"
        },
        "outputId": "fd90bb68-e0c4-445c-8808-5bf5416df378"
      },
      "source": [
        "num_of_repeats = 10\n",
        "num_of_models = 20\n",
        "\n",
        "x_input = test_data_grey\n",
        "y_input = test_targets\n",
        "\n",
        "# create traditional ensemble of 20 resnets \n",
        "scores_resnets = []\n",
        "for repc in range(num_of_repeats):\n",
        "  print(repc)\n",
        "  resnets_models_to_use = [ tf.keras.models.load_model(mfile) for mfile in sorted(random.sample(resnets_model_dirs, num_of_models))]\n",
        "  resnets_model_predictions = [ model.predict(x_input) for model in resnets_models_to_use]\n",
        "  y_ens_preds = avgfilter_ensemble_predictions(resnets_model_predictions, x_input)\n",
        "  scores_resnets.append(pr_rc_f1_acc_from_supplied(y_ens_preds,y_input))\n",
        "  del resnets_models_to_use\n",
        "  del resnets_model_predictions\n",
        "  del y_ens_preds\n",
        "\n",
        "\n",
        "# create a traditional ensemble of 10 wideresnets \n",
        "scores_wideresnets = []\n",
        "for repc in range(1):\n",
        "  print(repc)\n",
        "  wideresnets_models_to_use = [ tf.keras.models.load_model(mfile) for mfile in sorted(random.sample(wideresnets_model_dirs, 10))]\n",
        "  wideresnets_model_predictions = [ model.predict(x_input) for model in wideresnets_models_to_use]\n",
        "  y_ens_preds = avgfilter_ensemble_predictions(wideresnets_model_predictions, x_input)\n",
        "  scores_wideresnets.append(pr_rc_f1_acc_from_supplied(y_ens_preds,y_input))\n",
        "\n",
        "\n"
      ],
      "execution_count": null,
      "outputs": [
        {
          "output_type": "stream",
          "name": "stdout",
          "text": [
            "0\n",
            "1\n",
            "2\n",
            "3\n",
            "4\n",
            "5\n",
            "6\n",
            "7\n",
            "8\n",
            "9\n",
            "0\n"
          ]
        }
      ]
    },
    {
      "cell_type": "markdown",
      "metadata": {
        "id": "0VkkQpmnAdAE"
      },
      "source": [
        "Save the score results of the ensembles resnets and wideResNets"
      ]
    },
    {
      "cell_type": "code",
      "metadata": {
        "id": "oC7uHy83spxp"
      },
      "source": [
        "np.save(f\"/content/drive/MyDrive/data_papers/{paper_name}/summary_results/traditional_ensemble_resnets_summary_{datetime.datetime.now():%Y%m%d%H%M%S}\", np.array(scores_resnets), \n",
        "               allow_pickle=True, \n",
        "               fix_imports=True)\n",
        "np.save(f\"/content/drive/MyDrive/data_papers/{paper_name}/summary_results/traditional_ensemble_wideresnet28-10_summary_{datetime.datetime.now():%Y%m%d%H%M%S}\", np.array(scores_wideresnets), \n",
        "               allow_pickle=True, \n",
        "               fix_imports=True)\n",
        "\n"
      ],
      "execution_count": null,
      "outputs": []
    },
    {
      "cell_type": "markdown",
      "metadata": {
        "id": "05H-E-Hb21S9"
      },
      "source": [
        "# Set up the models + features file lists for CNN/DNN/ResNet50/WideResNet28-10 splits for reuse SVHN"
      ]
    },
    {
      "cell_type": "code",
      "metadata": {
        "id": "Ll_pxppktl28"
      },
      "source": [
        "acceptable_string_grabs = [ \"CNN_A_\", \"DNN_A_\", \"RestNet50_A_\", \"WideResNet28-10_ID\"]\n",
        "not_check_model_string = [\"arallel\",\"Collab_\"]\n",
        "\n",
        "model_dirs = [  f\"/content/drive/MyDrive/data_papers/{paper_name}/model_finals/{dir_entry.name}\" \n",
        "                for dir_entry in os.scandir(f\"/content/drive/MyDrive/data_papers/{paper_name}/model_finals/\") \n",
        "                if os.path.isdir(dir_entry) and any(xs in dir_entry.name for xs in acceptable_string_grabs) ]\n",
        "dnn_model_dirs = [ s for s in model_dirs if \"DNN\" in s and all([ (not ncs in s) for ncs in not_check_model_string])] \n",
        "cnn_model_dirs = [ s for s in model_dirs if \"CNN\" in s and all([ (not ncs in s) for ncs in not_check_model_string])] \n",
        "resnets_model_dirs = [ s for s in model_dirs if \"RestNet50\" in s and all([ (not ncs in s) for ncs in not_check_model_string])] \n",
        "wideresnets_model_dirs = [ s for s in model_dirs if \"WideResNet\" in s and all([ (not ncs in s) for ncs in not_check_model_string])] \n",
        "\n",
        "model_features_files = [  f\"/content/drive/MyDrive/data_papers/{paper_name}/model_features/{file_entry.name}\" \n",
        "                for file_entry in os.scandir(f\"/content/drive/MyDrive/data_papers/{paper_name}/model_features/\") \n",
        "                if os.path.isfile(file_entry) and any(xs in file_entry.name for xs in acceptable_string_grabs) ]\n",
        "\n",
        "dnn_features_files = [ s for s in model_features_files if \"DNN\" in s and all([ (not ncs in s) for ncs in not_check_model_string])] \n",
        "cnn_features_files = [ s for s in model_features_files if \"CNN\" in s and all([ (not ncs in s) for ncs in not_check_model_string])] \n",
        "resnets_features_files = [ s for s in model_features_files if \"RestNet50\" in s and all([ (not ncs in s) for ncs in not_check_model_string])] \n",
        "wideresnets_features_files = [ s for s in model_features_files if \"WideResNet\" in s and all([ (not ncs in s) for ncs in not_check_model_string])] \n",
        "\n",
        "dnn_identifier = acceptable_string_grabs[1]\n",
        "# dnn_layer_name = \"DRP1\"\n",
        "\n",
        "cnn_identifier = acceptable_string_grabs[0]\n",
        "# cnn_layer_name = \"D3R\"\n",
        "\n",
        "wideresnet_identifier = acceptable_string_grabs[3]\n",
        "# wideresnet_layer_name = \"CLASSIFIER_FL\"\n",
        "\n",
        "\n",
        "def avgfilter_ensemble_predictions(y_pred_ms, xtest):\n",
        "  y_preds_ens_prb = np.apply_along_axis(np.mean, 0, y_pred_ms)\n",
        "  y_preds_ens_idx = np.apply_along_axis(np.argmax, 1, y_preds_ens_prb) \n",
        "  # y_preds_ens_idx = y_preds_ens_idx + 1\n",
        "  return y_preds_ens_idx  \n",
        "\n",
        "\n"
      ],
      "execution_count": null,
      "outputs": []
    },
    {
      "cell_type": "markdown",
      "metadata": {
        "id": "7NfTm6C0efVR"
      },
      "source": [
        "# Set up data for ensemble plot collection"
      ]
    },
    {
      "cell_type": "code",
      "metadata": {
        "id": "0N1xIkYzeOqW"
      },
      "source": [
        "# set up the data\n",
        "ensemble_test_results = None"
      ],
      "execution_count": null,
      "outputs": []
    },
    {
      "cell_type": "code",
      "metadata": {
        "id": "vlEnnUKUYQsU"
      },
      "source": [
        "x_input = test_data_grey\n",
        "y_input = test_targets\n",
        "\n",
        "num_of_repeats = 10\n",
        "num_of_models = [3,4,7,8,13,16,19]\n",
        "# [1,2,5,10,12,15,18,20]\n",
        "\n",
        "# resnet_model_predicted_values =  dict(zip(resnets_model_dirs,[ resnet_loaded_models[model].predict(x_input) for model in resnets_model_dirs]))\n",
        "# dnn_model_predicted_values =  dict(zip(dnn_model_dirs,[ dnn_loaded_models[model].predict(x_input) for model in dnn_model_dirs]))"
      ],
      "execution_count": null,
      "outputs": []
    },
    {
      "cell_type": "code",
      "metadata": {
        "colab": {
          "base_uri": "https://localhost:8080/"
        },
        "id": "pLSgKRgSmPGz",
        "outputId": "c963c91d-59d7-416e-b21a-364f1c7b4262"
      },
      "source": [
        "from psutil import virtual_memory\n",
        "ram_gb = virtual_memory().total / 1e9\n",
        "print('Your runtime has {:.1f} gigabytes of available RAM\\n'.format(ram_gb))\n",
        "\n",
        "if ram_gb < 20:\n",
        "  print('Not using a high-RAM runtime')\n",
        "else:\n",
        "  print('You are using a high-RAM runtime!')"
      ],
      "execution_count": null,
      "outputs": [
        {
          "output_type": "stream",
          "name": "stdout",
          "text": [
            "Your runtime has 54.8 gigabytes of available RAM\n",
            "\n",
            "You are using a high-RAM runtime!\n"
          ]
        }
      ]
    },
    {
      "cell_type": "markdown",
      "metadata": {
        "id": "zarZ-ubirq5w"
      },
      "source": [
        "# Data for plot of #DNN in ensemble "
      ]
    },
    {
      "cell_type": "code",
      "metadata": {
        "id": "KY_OZVbUvt1p"
      },
      "source": [
        "\n",
        "dnn_loaded_models = dict(zip(dnn_model_dirs,[ tf.keras.models.load_model(mfile) for mfile in dnn_model_dirs]))\n",
        "\n"
      ],
      "execution_count": null,
      "outputs": []
    },
    {
      "cell_type": "code",
      "metadata": {
        "id": "iTD7m-7DJ9iu"
      },
      "source": [
        "# from numba import jit, prange\n",
        "# @jit(nopython=True, parallel=True)\n",
        "# def parallel_sum(A):\n",
        "#     sum = 0.0\n",
        "#     for i in prange(A.shape[0]):\n",
        "#         sum += A[i]\n",
        "#     return sum"
      ],
      "execution_count": null,
      "outputs": []
    },
    {
      "cell_type": "code",
      "metadata": {
        "id": "UFsdTnB3PEHI",
        "colab": {
          "base_uri": "https://localhost:8080/"
        },
        "outputId": "0a0ffa76-6903-459a-cf35-ba4ee0d53598"
      },
      "source": [
        "x_input = test_data_grey\n",
        "y_input = test_targets\n",
        "\n",
        "num_of_repeats = 4\n",
        "num_of_models = [22,25,30,35,40]  # [2,3,4,6,7,8,9,11,12,13,14,16,19]\n",
        "\n",
        "idxCount = 0 if ensemble_test_results is None else len(ensemble_test_results.index)\n",
        "for mc in num_of_models:\n",
        "  for repc in range(num_of_repeats):\n",
        "    selected_model_names = sorted(random.sample(dnn_model_dirs, min(len(dnn_model_dirs),mc)))\n",
        "    dnn_models_to_use = [ dnn_loaded_models[mn] for mn in selected_model_names ]\n",
        "    dnn_model_predictions = [ model.predict(x_input) for model in dnn_models_to_use ]\n",
        "    y_ens_preds = avgfilter_ensemble_predictions(dnn_model_predictions, x_input)\n",
        "    pr, rc, f1, acc = pr_rc_f1_acc_from_supplied(y_ens_preds,y_input)\n",
        "    print (mc, repc, pr, rc, f1, acc)\n",
        "    if ensemble_test_results is None:\n",
        "      ensemble_test_results = pd.DataFrame({\"Type\": \"DNN\", \n",
        "                                            \"Data\" : \"Test\",\n",
        "                                            \"NumOfModels\": len(selected_model_names), \n",
        "                                            \"RepC\": repc, \n",
        "                                            \"Pr\": pr,\n",
        "                                            \"Rc\": rc,\n",
        "                                            \"F1\": f1,\n",
        "                                            \"Acc\": acc,\n",
        "                                            \"ModelNames\": \"XOX\".join([ \"_\".join(zz.split(\"DNN_A_\")[1].split(\"_\")[:2]) for zz in selected_model_names])\n",
        "                                            }, index = [idxCount])\n",
        "    else:\n",
        "      ensemble_test_results = pd.concat([ensemble_test_results,\n",
        "                                         pd.DataFrame({\"Type\": \"DNN\", \n",
        "                                            \"Data\" : \"Test\",\n",
        "                                            \"NumOfModels\": len(selected_model_names), \n",
        "                                            \"RepC\": repc, \n",
        "                                            \"Pr\": pr,\n",
        "                                            \"Rc\": rc,\n",
        "                                            \"F1\": f1,\n",
        "                                            \"Acc\": acc,\n",
        "                                            \"ModelNames\": \"XOX\".join([ \"_\".join(zz.split(\"DNN_A_\")[1].split(\"_\")[:2]) for zz in selected_model_names])\n",
        "                                            }, index = [idxCount])\n",
        "                                         ])\n",
        "    idxCount = idxCount + 1\n",
        "    del dnn_models_to_use\n",
        "    del dnn_model_predictions\n",
        "    del y_ens_preds\n",
        "\n",
        "\n"
      ],
      "execution_count": null,
      "outputs": [
        {
          "output_type": "stream",
          "name": "stdout",
          "text": [
            "22 0 0.907185827323009 0.9071666666666667 0.9069175053858919 0.9071666666666667\n",
            "22 1 0.9035684298878377 0.9033666666666667 0.9030433900007178 0.9033666666666667\n",
            "22 2 0.9043616705746507 0.9043666666666667 0.9041205105364496 0.9043666666666667\n",
            "22 3 0.9049258529481432 0.9048333333333334 0.9045486121448404 0.9048333333333334\n",
            "25 0 0.903134378134428 0.9029333333333334 0.9026271590898753 0.9029333333333334\n",
            "25 1 0.9041357733869517 0.9041333333333333 0.9039033389175095 0.9041333333333333\n",
            "25 2 0.9013340765532645 0.9013666666666666 0.901141043240011 0.9013666666666666\n",
            "25 3 0.9025395993172997 0.9021333333333333 0.9017956422199606 0.9021333333333333\n",
            "30 0 0.9052880111020203 0.9053333333333333 0.9050807275989926 0.9053333333333333\n",
            "30 1 0.9041306724646202 0.9040666666666667 0.9038352616056512 0.9040666666666667\n",
            "30 2 0.9030878395006522 0.9029 0.9026558410660419 0.9029\n",
            "30 3 0.906949469131889 0.9068 0.9065272400678072 0.9068\n",
            "35 0 0.9044873073386465 0.9043666666666667 0.9040960133914729 0.9043666666666667\n",
            "35 1 0.9048927128747436 0.9049 0.9046070149368954 0.9049\n",
            "35 2 0.9047042596894337 0.9046666666666666 0.9044290584387212 0.9046666666666666\n",
            "35 3 0.9045770247464617 0.9044666666666666 0.9042225268852945 0.9044666666666666\n",
            "40 0 0.9049104629550699 0.9047 0.9043932705595651 0.9047\n",
            "40 1 0.9056064439386605 0.9055333333333333 0.9053263833017143 0.9055333333333333\n",
            "40 2 0.9037895413766067 0.9036666666666666 0.9033965887982321 0.9036666666666666\n",
            "40 3 0.9033572344564892 0.9032666666666667 0.9030433588776479 0.9032666666666667\n"
          ]
        }
      ]
    },
    {
      "cell_type": "code",
      "metadata": {
        "id": "lfyPSdOghY4j"
      },
      "source": [
        "ensemble_test_results.to_csv(f\"/content/drive/MyDrive/data_papers/{paper_name}/summary_results/ensemble_test_results_{datetime.datetime.now():%Y%m%d%H%M%S}.csv\")"
      ],
      "execution_count": null,
      "outputs": []
    },
    {
      "cell_type": "markdown",
      "metadata": {
        "id": "Qr4uwylNzQl1"
      },
      "source": [
        "# Data for plot of #CNN in ensemble "
      ]
    },
    {
      "cell_type": "code",
      "metadata": {
        "id": "VRWdcBVizQl2"
      },
      "source": [
        "\n",
        "# preload all the models\n",
        "# resnet_loaded_models = dict(zip(resnets_model_dirs,[ tf.keras.models.load_model(mfile) for mfile in resnets_model_dirs]))\n",
        "# dnn_loaded_models = dict(zip(dnn_model_dirs,[ tf.keras.models.load_model(mfile) for mfile in dnn_model_dirs]))\n",
        "cnn_loaded_models = dict(zip(cnn_model_dirs,[ tf.keras.models.load_model(mfile) for mfile in cnn_model_dirs]))\n",
        "# wideresnet_loaded_models = dict(zip(wideresnets_model_dirs,[ tf.keras.models.load_model(mfile) for mfile in wideresnets_model_dirs]))\n"
      ],
      "execution_count": null,
      "outputs": []
    },
    {
      "cell_type": "code",
      "metadata": {
        "id": "MR3GuoTdzqGc"
      },
      "source": [
        "# for CNN we try to memoize the predictions... ?\n",
        "# cnn_model_predictions = [ cnn_loaded_models[mn].predict(x_input) for mn in list(cnn_loaded_models.keys()) ]"
      ],
      "execution_count": null,
      "outputs": []
    },
    {
      "cell_type": "code",
      "metadata": {
        "id": "WCDDvCaczQl2"
      },
      "source": [
        "# from numba import jit, prange\n",
        "# @jit(nopython=True, parallel=True)\n",
        "# def parallel_sum(A):\n",
        "#     sum = 0.0\n",
        "#     for i in prange(A.shape[0]):\n",
        "#         sum += A[i]\n",
        "#     return sum"
      ],
      "execution_count": null,
      "outputs": []
    },
    {
      "cell_type": "code",
      "metadata": {
        "id": "lPhanQJWzQl2"
      },
      "source": [
        "# num_of_models = [16,20]\n",
        "\n",
        "x_input = test_data_grey\n",
        "y_input = test_targets\n",
        "\n",
        "num_of_repeats = 4\n",
        "num_of_models = [22,25,30,35,40] # [2,3,4,6,7,8,9,11,12,13,14,16,19]\n",
        "\n",
        "idxCount = 0 if ensemble_test_results is None else len(ensemble_test_results.index)\n",
        "for mc in num_of_models:\n",
        "  for repc in range(num_of_repeats):\n",
        "    selected_model_names = sorted(random.sample(cnn_model_dirs, min(len(cnn_model_dirs),mc)))\n",
        "    cnn_models_to_use = [ cnn_loaded_models[mn] for mn in selected_model_names ]\n",
        "    cnn_model_predictions = [ model.predict(x_input) for model in cnn_models_to_use ]\n",
        "    y_ens_preds = avgfilter_ensemble_predictions(cnn_model_predictions, x_input)\n",
        "    pr, rc, f1, acc = pr_rc_f1_acc_from_supplied(y_ens_preds,y_input)\n",
        "    print (mc, repc, pr, rc, f1, acc)\n",
        "    if ensemble_test_results is None:\n",
        "      ensemble_test_results = pd.DataFrame({\"Type\": \"CNN\", \n",
        "                                            \"Data\" : \"Test\",\n",
        "                                            \"NumOfModels\": len(selected_model_names), \n",
        "                                            \"RepC\": repc, \n",
        "                                            \"Pr\": pr,\n",
        "                                            \"Rc\": rc,\n",
        "                                            \"F1\": f1,\n",
        "                                            \"Acc\": acc,\n",
        "                                            \"ModelNames\": \"XOX\".join([ \"_\".join(zz.split(\"CNN_A_\")[1].split(\"_\")[:2]) for zz in selected_model_names])\n",
        "                                            }, index = [idxCount])\n",
        "    else:\n",
        "      ensemble_test_results = pd.concat([ensemble_test_results,\n",
        "                                         pd.DataFrame({\"Type\": \"CNN\", \n",
        "                                            \"Data\" : \"Test\",\n",
        "                                            \"NumOfModels\": len(selected_model_names), \n",
        "                                            \"RepC\": repc, \n",
        "                                            \"Pr\": pr,\n",
        "                                            \"Rc\": rc,\n",
        "                                            \"F1\": f1,\n",
        "                                            \"Acc\": acc,\n",
        "                                            \"ModelNames\": \"XOX\".join([ \"_\".join(zz.split(\"CNN_A_\")[1].split(\"_\")[:2]) for zz in selected_model_names])\n",
        "                                            }, index = [idxCount])\n",
        "                                         ])\n",
        "    idxCount = idxCount + 1\n",
        "    del cnn_models_to_use\n",
        "    del cnn_model_predictions\n",
        "    del y_ens_preds\n",
        "\n",
        "\n"
      ],
      "execution_count": null,
      "outputs": []
    },
    {
      "cell_type": "code",
      "metadata": {
        "id": "mqinAog5zQl2"
      },
      "source": [
        "ensemble_test_results.to_csv(f\"/content/drive/MyDrive/data_papers/{paper_name}/summary_results/cnn_ensemble_test_results_{datetime.datetime.now():%Y%m%d%H%M%S}.csv\")\n"
      ],
      "execution_count": null,
      "outputs": []
    },
    {
      "cell_type": "markdown",
      "metadata": {
        "id": "nlcSr-vhOENw"
      },
      "source": [
        "# Data for plot of #ResNets in ensemble "
      ]
    },
    {
      "cell_type": "code",
      "metadata": {
        "id": "0sIHDYSOOENw"
      },
      "source": [
        "\n",
        "# preload all the models\n",
        "resnet_loaded_models = dict(zip(resnets_model_dirs,[ tf.keras.models.load_model(mfile) for mfile in resnets_model_dirs]))\n",
        "# dnn_loaded_models = dict(zip(dnn_model_dirs,[ tf.keras.models.load_model(mfile) for mfile in dnn_model_dirs]))\n",
        "# cnn_loaded_models = dict(zip(cnn_model_dirs,[ tf.keras.models.load_model(mfile) for mfile in cnn_model_dirs]))\n",
        "# wideresnet_loaded_models = dict(zip(wideresnets_model_dirs,[ tf.keras.models.load_model(mfile) for mfile in wideresnets_model_dirs]))\n"
      ],
      "execution_count": null,
      "outputs": []
    },
    {
      "cell_type": "code",
      "metadata": {
        "id": "X7C96YxfOENw"
      },
      "source": [
        "x_input = test_data_grey\n",
        "y_input = test_targets\n",
        "\n",
        "num_of_repeats = 4\n",
        "num_of_models = [22,25,30,35,39]  # [1,2,5,10,12,15,18,20] \n",
        "# [3,4,7,8,13,16,19]\n",
        "# [1,2,5,10,12,15,18,20]\n",
        "del cnn_loaded_models"
      ],
      "execution_count": null,
      "outputs": []
    },
    {
      "cell_type": "code",
      "metadata": {
        "id": "y-Sv3xjyXv7W"
      },
      "source": [
        "# del resnet_model_predictions"
      ],
      "execution_count": null,
      "outputs": []
    },
    {
      "cell_type": "code",
      "metadata": {
        "id": "J0TWDQcWOENw"
      },
      "source": [
        "# for ResNets we try to memoize the predictions... ?\n",
        "resnet_model_predictions = dict(zip(resnets_model_dirs, [ resnet_loaded_models[mn].predict(x_input) for mn in resnets_model_dirs ]))\n"
      ],
      "execution_count": null,
      "outputs": []
    },
    {
      "cell_type": "code",
      "metadata": {
        "colab": {
          "base_uri": "https://localhost:8080/"
        },
        "id": "AW3AdzcXOENx",
        "outputId": "d7679364-927e-4b8e-b91c-d38753c7184f"
      },
      "source": [
        "\n",
        "idxCount = 0 if ensemble_test_results is None else len(ensemble_test_results.index)\n",
        "for mc in num_of_models:\n",
        "  for repc in range(num_of_repeats):\n",
        "    selected_model_names = sorted(random.sample(resnets_model_dirs, min(len(resnets_model_dirs),mc)))\n",
        "    # resnet_models_to_use = [ resnet_loaded_models[mn] for mn in selected_model_names ]\n",
        "    resnet_model_predictions_here = [ resnet_model_predictions[mn] for mn in selected_model_names ]\n",
        "    y_ens_preds = avgfilter_ensemble_predictions(resnet_model_predictions_here, x_input)\n",
        "    pr, rc, f1, acc = pr_rc_f1_acc_from_supplied(y_ens_preds,y_input)\n",
        "    print (mc, repc, pr, rc, f1, acc)\n",
        "    if ensemble_test_results is None:\n",
        "      ensemble_test_results = pd.DataFrame({\"Type\": \"ResNet50\", \n",
        "                                            \"Data\" : \"Test\",\n",
        "                                            \"NumOfModels\": len(selected_model_names), \n",
        "                                            \"RepC\": repc, \n",
        "                                            \"Pr\": pr,\n",
        "                                            \"Rc\": rc,\n",
        "                                            \"F1\": f1,\n",
        "                                            \"Acc\": acc,\n",
        "                                            \"ModelNames\": \"XOX\".join([ \"_\".join(zz.split(\"RestNet50_A_\")[1].split(\"_\")[:2]) for zz in selected_model_names])\n",
        "                                            }, index = [idxCount])\n",
        "    else:\n",
        "      ensemble_test_results = pd.concat([ensemble_test_results,\n",
        "                                         pd.DataFrame({\"Type\": \"ResNet50\", \n",
        "                                            \"Data\" : \"Test\",\n",
        "                                            \"NumOfModels\": len(selected_model_names), \n",
        "                                            \"RepC\": repc, \n",
        "                                            \"Pr\": pr,\n",
        "                                            \"Rc\": rc,\n",
        "                                            \"F1\": f1,\n",
        "                                            \"Acc\": acc,\n",
        "                                            \"ModelNames\": \"XOX\".join([ \"_\".join(zz.split(\"RestNet50_A_\")[1].split(\"_\")[:2]) for zz in selected_model_names])\n",
        "                                            }, index = [idxCount])\n",
        "                                         ])\n",
        "    idxCount = idxCount + 1\n",
        "    # del resnet_models_to_use\n",
        "    del resnet_model_predictions_here\n",
        "    del y_ens_preds\n",
        "\n",
        "\n"
      ],
      "execution_count": null,
      "outputs": [
        {
          "output_type": "stream",
          "name": "stdout",
          "text": [
            "22 0 0.97242284514671 0.9724 0.9723862266542896 0.9724\n",
            "22 1 0.9733398762713347 0.9733 0.9732908248478703 0.9733\n",
            "22 2 0.9736039443569211 0.9735666666666667 0.9735600248272787 0.9735666666666667\n",
            "22 3 0.9730991670619988 0.9730666666666666 0.973056085518644 0.9730666666666666\n",
            "25 0 0.9723826752124256 0.9723333333333334 0.9723221241663095 0.9723333333333334\n",
            "25 1 0.9731103665162195 0.9730666666666666 0.97305641476317 0.9730666666666666\n",
            "25 2 0.9733473183810764 0.9733 0.9732930377504183 0.9733\n",
            "25 3 0.9732957164758799 0.9732666666666666 0.9732540333680668 0.9732666666666666\n",
            "30 0 0.9734784505394926 0.9734333333333334 0.9734244946099342 0.9734333333333334\n",
            "30 1 0.9729554502919043 0.9729 0.9728932552344828 0.9729\n",
            "30 2 0.9735414807019784 0.9735 0.9734921549017214 0.9735\n",
            "30 3 0.973772018814995 0.9737333333333333 0.9737241008618399 0.9737333333333333\n",
            "35 0 0.9728686689935112 0.9728333333333333 0.9728214690927943 0.9728333333333333\n",
            "35 1 0.9737014963407563 0.9736666666666667 0.9736574445135904 0.9736666666666667\n",
            "35 2 0.9736641503184272 0.9736333333333334 0.9736219742993306 0.9736333333333334\n",
            "35 3 0.9732645882553079 0.9732333333333333 0.9732231212243341 0.9732333333333333\n",
            "39 0 0.9735006538111984 0.9734666666666667 0.9734556789600778 0.9734666666666667\n",
            "39 1 0.9735006538111984 0.9734666666666667 0.9734556789600778 0.9734666666666667\n",
            "39 2 0.9735006538111984 0.9734666666666667 0.9734556789600778 0.9734666666666667\n",
            "39 3 0.9735006538111984 0.9734666666666667 0.9734556789600778 0.9734666666666667\n"
          ]
        }
      ]
    },
    {
      "cell_type": "code",
      "metadata": {
        "id": "68ex5xdfOENx"
      },
      "source": [
        "ensemble_test_results.to_csv(f\"/content/drive/MyDrive/data_papers/{paper_name}/summary_results/resnet_ensemble_test_results_{datetime.datetime.now():%Y%m%d%H%M%S}.csv\")\n"
      ],
      "execution_count": null,
      "outputs": []
    },
    {
      "cell_type": "markdown",
      "metadata": {
        "id": "pVGqX79lZ3pw"
      },
      "source": [
        "# Data for plot of #WideResNets in ensemble "
      ]
    },
    {
      "cell_type": "code",
      "metadata": {
        "id": "753xmge4Z3pw"
      },
      "source": [
        "\n",
        "# preload all the models\n",
        "# resnet_loaded_models = dict(zip(resnets_model_dirs,[ tf.keras.models.load_model(mfile) for mfile in resnets_model_dirs]))\n",
        "# dnn_loaded_models = dict(zip(dnn_model_dirs,[ tf.keras.models.load_model(mfile) for mfile in dnn_model_dirs]))\n",
        "# cnn_loaded_models = dict(zip(cnn_model_dirs,[ tf.keras.models.load_model(mfile) for mfile in cnn_model_dirs]))\n",
        "wideresnets_loaded_models = dict(zip(wideresnets_model_dirs,[ tf.keras.models.load_model(mfile) for mfile in wideresnets_model_dirs]))\n"
      ],
      "execution_count": null,
      "outputs": []
    },
    {
      "cell_type": "code",
      "metadata": {
        "id": "IdoovBqTZ3pw"
      },
      "source": [
        "x_input = test_data_grey\n",
        "y_input = test_targets\n",
        "\n",
        "num_of_repeats = 10\n",
        "num_of_models = [1,2,3,4,5,6,7,8,9,10] \n",
        "# [3,4,7,8,13,16,19]\n",
        "# [1,2,5,10,12,15,18,20]\n",
        "# del resnet_loaded_models\n",
        "# del resnet_model_predictions"
      ],
      "execution_count": null,
      "outputs": []
    },
    {
      "cell_type": "code",
      "metadata": {
        "id": "V5-jUpgRZ3pw"
      },
      "source": [
        "# for WideResNet we try to memoize the predictions... ?\n",
        "wideresnets_model_predictions = dict(zip(wideresnets_model_dirs, [ wideresnet_loaded_models[mn].predict(x_input) for mn in wideresnets_model_dirs ]))"
      ],
      "execution_count": null,
      "outputs": []
    },
    {
      "cell_type": "code",
      "metadata": {
        "id": "TKQun312Z3pw"
      },
      "source": [
        "\n",
        "idxCount = 0 if ensemble_test_results is None else len(ensemble_test_results.index)\n",
        "for mc in num_of_models:\n",
        "  for repc in range(num_of_repeats):\n",
        "    selected_model_names = sorted(random.sample(wideresnets_model_dirs, min(len(wideresnets_model_dirs),mc)))\n",
        "    # resnet_models_to_use = [ resnet_loaded_models[mn] for mn in selected_model_names ]\n",
        "    wideresnet_model_predictions_here = [ wideresnets_model_predictions[mn] for mn in selected_model_names ]\n",
        "    y_ens_preds = avgfilter_ensemble_predictions(wideresnet_model_predictions_here, x_input)\n",
        "    pr, rc, f1, acc = pr_rc_f1_acc_from_supplied(y_ens_preds,y_input)\n",
        "    print (mc, repc, pr, rc, f1, acc)\n",
        "    if ensemble_test_results is None:\n",
        "      ensemble_test_results = pd.DataFrame({\"Type\": \"WideResNet\", \n",
        "                                            \"Data\" : \"Test\",\n",
        "                                            \"NumOfModels\": len(selected_model_names), \n",
        "                                            \"RepC\": repc, \n",
        "                                            \"Pr\": pr,\n",
        "                                            \"Rc\": rc,\n",
        "                                            \"F1\": f1,\n",
        "                                            \"Acc\": acc,\n",
        "                                            \"ModelNames\": \"XOX\".join([ \"_\".join(zz.split(\"WideResNet28-10_\")[1].split(\"_\")[:3]) for zz in selected_model_names])\n",
        "                                            }, index = [idxCount])\n",
        "    else:\n",
        "      ensemble_test_results = pd.concat([ensemble_test_results,\n",
        "                                         pd.DataFrame({\"Type\": \"WideResNet\", \n",
        "                                            \"Data\" : \"Test\",\n",
        "                                            \"NumOfModels\": len(selected_model_names), \n",
        "                                            \"RepC\": repc, \n",
        "                                            \"Pr\": pr,\n",
        "                                            \"Rc\": rc,\n",
        "                                            \"F1\": f1,\n",
        "                                            \"Acc\": acc,\n",
        "                                            \"ModelNames\": \"XOX\".join([ \"_\".join(zz.split(\"WideResNet28-10_\")[1].split(\"_\")[:3]) for zz in selected_model_names])\n",
        "                                            }, index = [idxCount])\n",
        "                                         ])\n",
        "    idxCount = idxCount + 1\n",
        "    # del resnet_models_to_use\n",
        "    del wideresnet_model_predictions_here\n",
        "    del y_ens_preds\n",
        "\n",
        "\n"
      ],
      "execution_count": null,
      "outputs": []
    },
    {
      "cell_type": "code",
      "metadata": {
        "id": "uquPC-rGZ3px"
      },
      "source": [
        "ensemble_test_results.to_csv(f\"/content/drive/MyDrive/data_papers/{paper_name}/summary_results/wideresnet_ensemble_test_results_{datetime.datetime.now():%Y%m%d%H%M%S}.csv\")\n",
        "\n"
      ],
      "execution_count": null,
      "outputs": []
    },
    {
      "cell_type": "markdown",
      "metadata": {
        "id": "5YEfUSsWG6bm"
      },
      "source": [
        "# Data for Contour Plot on Mixed CNN/WideResNet ensemble"
      ]
    },
    {
      "cell_type": "code",
      "metadata": {
        "id": "IuYJjSlHHT9Y"
      },
      "source": [
        "wideresnets_loaded_models = dict(zip(wideresnets_model_dirs,[ tf.keras.models.load_model(mfile) for mfile in wideresnets_model_dirs]))\n",
        "cnn_loaded_models = dict(zip(cnn_model_dirs,[ tf.keras.models.load_model(mfile) for mfile in cnn_model_dirs]))\n"
      ],
      "execution_count": null,
      "outputs": []
    },
    {
      "cell_type": "code",
      "metadata": {
        "id": "Fpy7lzitHiJ9"
      },
      "source": [
        "x_input = test_data_grey\n",
        "y_input = test_targets\n",
        "\n",
        "num_of_repeats = 10\n",
        "num_of_models = [2,3,4,5,6,7,8,9,10,11,12] \n"
      ],
      "execution_count": null,
      "outputs": []
    },
    {
      "cell_type": "code",
      "metadata": {
        "id": "_-U8hTmpHiJ9"
      },
      "source": [
        "# for WideResNet we try to memoize the predictions... ?\n",
        "wideresnets_model_predictions = [ wideresnets_loaded_models[mn].predict(x_input) for mn in wideresnets_model_dirs ]\n"
      ],
      "execution_count": null,
      "outputs": []
    },
    {
      "cell_type": "code",
      "metadata": {
        "id": "c_gCb_W0-1UK"
      },
      "source": [
        "cnn_model_predictions = [ cnn_loaded_models[mn].predict(x_input) for mn in list(cnn_loaded_models.keys()) ]"
      ],
      "execution_count": null,
      "outputs": []
    },
    {
      "cell_type": "code",
      "metadata": {
        "id": "xSZg_DX5bz43"
      },
      "source": [
        "# wideresnets_model_dirs"
      ],
      "execution_count": null,
      "outputs": []
    },
    {
      "cell_type": "code",
      "metadata": {
        "id": "RFU-Ro3xG6bn"
      },
      "source": [
        "# set up the combinations we are going to try\n",
        "# len(wideresnets_features_files)\n",
        "cnn_wideresnet_ensemble_contour_data = None"
      ],
      "execution_count": null,
      "outputs": []
    },
    {
      "cell_type": "code",
      "metadata": {
        "id": "1Lfkuj2vHz0B"
      },
      "source": [
        "idxCount = 0 if cnn_wideresnet_ensemble_contour_data is None else len(cnn_wideresnet_ensemble_contour_data.index)\n",
        "for mc in num_of_models:\n",
        "  for repc in range(num_of_repeats):\n",
        "    for num_of_wrn in range(mc+1):\n",
        "      num_of_cnn = mc - num_of_wrn\n",
        "\n",
        "      ensemble_model_predictions_here = []\n",
        "      if num_of_cnn > 0:\n",
        "        ensemble_model_predictions_here.extend(random.sample(cnn_model_predictions, min(num_of_cnn,len(cnn_model_predictions)) ))\n",
        "      if num_of_wrn > 0:\n",
        "        ensemble_model_predictions_here.extend(random.sample(wideresnets_model_predictions, min(num_of_wrn,len(wideresnets_model_predictions)) ))\n",
        "\n",
        "      y_ens_preds = avgfilter_ensemble_predictions(ensemble_model_predictions_here, x_input)\n",
        "      pr, rc, f1, acc = pr_rc_f1_acc_from_supplied(y_ens_preds,y_input)\n",
        "      print (mc, num_of_cnn, repc, pr, rc, f1, acc)\n",
        "      if cnn_wideresnet_ensemble_contour_data is None:\n",
        "        cnn_wideresnet_ensemble_contour_data = pd.DataFrame({\"TypeA\": \"CNN\", \n",
        "                                                             \"TypeB\": \"WideResNet\", \n",
        "                                                              \"Data\" : \"Test\",\n",
        "                                                             \"Layer\" : \"Ensemble\",\n",
        "                                                    \"NumOfA\": num_of_cnn, \n",
        "                                                    \"NumOfB\": num_of_wrn, \n",
        "                                                    \"RepC\": repc, \n",
        "                                                    \"Pr\": pr,\n",
        "                                                    \"Rc\": rc,\n",
        "                                                    \"F1\": f1,\n",
        "                                                    \"Acc\": acc\n",
        "                                              }, index = [idxCount])\n",
        "      else:\n",
        "        cnn_wideresnet_ensemble_contour_data = pd.concat([cnn_wideresnet_ensemble_contour_data,\n",
        "                                                          pd.DataFrame({\"TypeA\": \"CNN\", \n",
        "                                                                        \"TypeB\": \"WideResNet\", \n",
        "                                                                        \"Data\" : \"Test\",\n",
        "                                                                        \"Layer\" : \"Ensemble\",\n",
        "                                                                        \"NumOfA\": num_of_cnn, \n",
        "                                                                        \"NumOfB\": num_of_wrn, \n",
        "                                                                        \"RepC\": repc, \n",
        "                                                                        \"Pr\": pr,\n",
        "                                                                        \"Rc\": rc,\n",
        "                                                                        \"F1\": f1,\n",
        "                                                                        \"Acc\": acc\n",
        "                                                                        }, index = [idxCount])])\n",
        "      idxCount = idxCount + 1\n",
        "      # del resnet_models_to_use\n",
        "      del ensemble_model_predictions_here\n",
        "      del y_ens_preds\n",
        "\n"
      ],
      "execution_count": null,
      "outputs": []
    },
    {
      "cell_type": "code",
      "metadata": {
        "id": "nP3uqLTL9M2v"
      },
      "source": [
        "cnn_wideresnet_ensemble_contour_data.to_csv(f\"/content/drive/MyDrive/data_papers/{paper_name}/summary_results/cnn_wideresnet_ensemble_contour_data_{datetime.datetime.now():%Y%m%d%H%M%S}.csv\")\n",
        "\n"
      ],
      "execution_count": null,
      "outputs": []
    },
    {
      "cell_type": "markdown",
      "metadata": {
        "id": "A-S9xzuliR8V"
      },
      "source": [
        "# Experiment with CCA on the DNN/CNN models for selection into ensemble/collab\n",
        "### Could also be used to initialize an integrated fully parallel model of DNN/CNN"
      ]
    },
    {
      "cell_type": "code",
      "metadata": {
        "id": "-3KbvY6ymSJ0"
      },
      "source": [
        "def get_input_features(X_data, m1, m2, m1_layer_name = \"leaky_re_lu_6\", m2_layer_name = \"dropout_7\"):\n",
        "  extractor_m1 = Model(inputs=m1.inputs, outputs=m1.get_layer(m1_layer_name).output)\n",
        "  features_m1 = extractor_m1.predict(X_data)\n",
        "  extractor_m2 = Model(inputs=m2.inputs, outputs=m2.get_layer(m2_layer_name).output)\n",
        "  features_m2 = extractor_m2.predict(X_data)\n",
        "  return tf.concat([features_m1,features_m2])"
      ],
      "execution_count": null,
      "outputs": []
    },
    {
      "cell_type": "code",
      "metadata": {
        "id": "PkKwplFLVsA1"
      },
      "source": [
        "from sklearn.preprocessing import StandardScaler\n",
        "from sklearn.cross_decomposition import CCA\n",
        "from sklearn.decomposition import PCA\n",
        "pd.set_option('display.max_colwidth', None)"
      ],
      "execution_count": null,
      "outputs": []
    },
    {
      "cell_type": "code",
      "metadata": {
        "id": "j4oXd_mnmTck"
      },
      "source": [
        "available_dnn_feature_layers = list(set([ x.split(\"_Validation\")[0].split(\"_features_\")[1].split(\"_\")[0] for x in dnn_features_files if \"_X\" in x ]))\n",
        "available_cnn_feature_layers = list(set([ x.split(\"_Validation\")[0].split(\"_features_\")[1].split(\"_\")[0] for x in cnn_features_files if \"_X\" in x ]))\n"
      ],
      "execution_count": null,
      "outputs": []
    },
    {
      "cell_type": "code",
      "metadata": {
        "id": "w0od2KkxnyM3"
      },
      "source": [
        "def get_cca1_pca1_from_file_names(f1,f2):\n",
        "  f1t = np.load(f1)\n",
        "  f2t = np.load(f2)  \n",
        "  scaler1 = StandardScaler()\n",
        "  scaler2 = StandardScaler()\n",
        "\n",
        "  scaler1.fit(f1t)\n",
        "  scaler2.fit(f2t)\n",
        "\n",
        "  f1tt = scaler1.transform(f1t)\n",
        "  f2tt = scaler2.transform(f2t)\n",
        "\n",
        "  pca_f1 = PCA(n_components=1)\n",
        "  pca_f1.fit(f1tt)\n",
        "  pca_f2 = PCA(n_components=1)\n",
        "  pca_f2.fit(f2tt)\n",
        "\n",
        "  ca = CCA()\n",
        "  ca.fit(f1tt, f2tt)\n",
        "  f1tt_c, f2tt_c = ca.transform(f1tt, f2tt)\n",
        "\n",
        "  f1_l = np.apply_along_axis(lambda x: np.dot(pca_f1.components_,np.expand_dims(x, axis=1)),1,f1tt)\n",
        "  f2_l = np.apply_along_axis(lambda x: np.dot(pca_f2.components_,np.expand_dims(x, axis=1)),1,f2tt)\n",
        "  \n",
        "  return (np.corrcoef(f1tt_c[:,0],f2tt_c[:,0])[0,1] , np.corrcoef(f1_l[:,0,0],f2_l[:,0,0])[0,1])\n"
      ],
      "execution_count": null,
      "outputs": []
    },
    {
      "cell_type": "markdown",
      "metadata": {
        "id": "8GvmAzHIp7te"
      },
      "source": [
        "### Create an empty summary DataFrame"
      ]
    },
    {
      "cell_type": "code",
      "metadata": {
        "id": "jBsx6oAbp-Bf"
      },
      "source": [
        "cframe = pd.DataFrame(columns=[\"f1\",\"f2\",\"CCA1\",\"PCA1\",\"Type\",\"Layer\"])\n",
        "\n",
        "for dnn_layer in available_dnn_feature_layers:\n",
        "  all_relevant_feature_files =  [ f for f in dnn_features_files if \"_Validation\" in f and \"_features_\" in f and \"_X\" in f and dnn_layer in f]\n",
        "  for xfile in all_relevant_feature_files:\n",
        "    cframe = pd.concat([cframe,pd.DataFrame({\"f1\":[xfile]*len(all_relevant_feature_files), \"f2\": all_relevant_feature_files, \"CCA1\": np.nan, \"PCA1\": np.nan, \"Type\": \"DNN\", \"Layer\": dnn_layer  })])      \n",
        "\n",
        "for cnn_layer in available_cnn_feature_layers:\n",
        "  all_relevant_feature_files =  [ f for f in cnn_features_files if \"_Validation\" in f and \"_features_\" in f and \"_X\" in f and cnn_layer in f]\n",
        "  for xfile in all_relevant_feature_files:\n",
        "    cframe = pd.concat([cframe,pd.DataFrame({\"f1\":[xfile]*len(all_relevant_feature_files), \"f2\": all_relevant_feature_files, \"CCA1\": np.nan, \"PCA1\": np.nan, \"Type\": \"CNN\", \"Layer\": cnn_layer  })])      \n",
        "\n",
        "cframe = cframe.drop_duplicates()\n",
        "cframe.loc[ (cframe.f1==cframe.f2), [\"CCA1\",\"PCA1\"]] = [1.0,1.0]\n",
        "\n",
        "# causes a double log in corr matrix\n",
        "\n"
      ],
      "execution_count": null,
      "outputs": []
    },
    {
      "cell_type": "code",
      "metadata": {
        "id": "e96k_d6dqynr"
      },
      "source": [
        "import datetime \n",
        "\n",
        "import warnings\n",
        "warnings.filterwarnings(\"ignore\")\n",
        "\n",
        "for dnn_layer in available_dnn_feature_layers:\n",
        "  all_relevant_feature_files =  [ f for f in dnn_features_files if \"_Validation\" in f and \"_features_\" in f and \"_X\" in f and dnn_layer in f]\n",
        "  for xfileCount, xfile in enumerate(all_relevant_feature_files):\n",
        "    for yfile in all_relevant_feature_files:\n",
        "      if xfile != yfile:\n",
        "        if np.isnan(cframe.loc[(cframe.f1==xfile) & (cframe.f2 == yfile),\"CCA1\"].iloc[0]):          \n",
        "          cca1_val, pca1_val = get_cca1_pca1_from_file_names(xfile, yfile)          \n",
        "          cframe.loc[ (cframe.f1==xfile) & (cframe.f2 == yfile), [\"CCA1\",\"PCA1\"] ] = [ cca1_val, pca1_val ] \n",
        "          cframe.loc[ (cframe.f1==yfile) & (cframe.f2 == xfile),[\"CCA1\",\"PCA1\"] ] = [ cca1_val, pca1_val ] \n",
        "    print(f\"DNN {xfileCount}/{len(all_relevant_feature_files)} {dnn_layer}\")\n",
        "\n",
        "\n",
        "cframe.to_csv(f\"/content/drive/MyDrive/data_papers/{paper_name}/model_ccs/dnn_Validation_temp_ccs_{datetime.datetime.now():%Y%m%d%H%M%S}.csv\",index=False)\n",
        "\n",
        "\n",
        "for cnn_layer in available_cnn_feature_layers:\n",
        "  all_relevant_feature_files =  [ f for f in cnn_features_files if \"_Validation\" in f and \"_features_\" in f and \"_X\" in f and cnn_layer in f]\n",
        "  for xfileCount, xfile in enumerate(all_relevant_feature_files):\n",
        "    for yfile in all_relevant_feature_files:\n",
        "      if xfile != yfile:\n",
        "        if np.isnan(cframe.loc[(cframe.f1==xfile) & (cframe.f2 == yfile),\"CCA1\"].iloc[0]):          \n",
        "          cca1_val, pca1_val = get_cca1_pca1_from_file_names(xfile, yfile)          \n",
        "          cframe.loc[ (cframe.f1==xfile) & (cframe.f2 == yfile), [\"CCA1\",\"PCA1\"] ] = [ cca1_val, pca1_val ] \n",
        "          cframe.loc[ (cframe.f1==yfile) & (cframe.f2 == xfile),[\"CCA1\",\"PCA1\"] ] = [ cca1_val, pca1_val ] \n",
        "    print(f\"CNN {xfileCount}/{len(all_relevant_feature_files)} {cnn_layer}\")\n",
        "\n",
        "\n",
        "cframe.to_csv(f\"/content/drive/MyDrive/data_papers/{paper_name}/model_ccs/cnn_Validation_ccs_{datetime.datetime.now():%Y%m%d%H%M%S}.csv\",index=False)\n",
        "\n",
        "\n",
        "warnings.resetwarnings()"
      ],
      "execution_count": null,
      "outputs": []
    },
    {
      "cell_type": "markdown",
      "metadata": {
        "id": "kIiJPc3OqE-V"
      },
      "source": [
        "### Select the most distant DNN/CNN validation that still make some sense"
      ]
    },
    {
      "cell_type": "code",
      "metadata": {
        "id": "2Lfl0MK_UdlL"
      },
      "source": [
        "# cframe.loc[cframe.CCA1==1.0][\"f1\"]\n",
        "\n",
        "import os,sys\n",
        "import numpy as np\n",
        "import pandas as pd\n",
        "\n",
        "dnn_distresults = pd.read_csv(f\"/content/drive/MyDrive/data_papers/{paper_name}/model_ccs/dnn_Validation_ccs_20211115040852.csv\")\n",
        "cnn_distresults = pd.read_csv(f\"/content/drive/MyDrive/data_papers/{paper_name}/model_ccs/cnn_Validation_ccs_20211115184258.csv\")\n",
        "\n",
        "dnn_distresults = dnn_distresults[dnn_distresults.Type==\"DNN\"]\n",
        "# individual_dnns = np.load(f\"/content/drive/MyDrive/data_papers/{paper_name}/summary_results/individual_dnn_summary_20211014152626.npy\")\n",
        "# individual_cnns = np.load(f\"/content/drive/MyDrive/data_papers/{paper_name}/summary_results/individual_cnn_summary_20211014152108.npy\")\n"
      ],
      "execution_count": null,
      "outputs": []
    },
    {
      "cell_type": "code",
      "metadata": {
        "id": "H1HIOBeUz-SL"
      },
      "source": [
        "# cnn_distresults.sort_values(\"CCA1\")\n",
        "# cnn_distresults[cnn_distresults.Layer == \"SFTMX1\"].sort_values(\"PCA1\")\n",
        "# cnn_distresults[cnn_distresults.Layer == \"SFTMX1\"].sort_values(\"CCA1\")[0:40]\n",
        "# dnn_distresults[dnn_distresults.Layer == \"SFTMX1\"].sort_values(\"CCA1\")\n",
        "\n",
        "cnn_avg_cca = cnn_distresults.groupby([\"Type\",\"Layer\",\"f1\"])[\"CCA1\"].mean().reset_index()\n",
        "dnn_avg_cca = dnn_distresults.groupby([\"Type\",\"Layer\",\"f1\"])[\"CCA1\"].mean().reset_index()\n",
        "cnn_avg_cca = cnn_avg_cca.sort_values('CCA1')\n",
        "dnn_avg_cca = pd.concat([dnn_avg_cca[dnn_avg_cca.CCA1 > 0.45].sort_values('CCA1'), dnn_avg_cca[dnn_avg_cca.CCA1 <= 0.45]])\n"
      ],
      "execution_count": null,
      "outputs": []
    },
    {
      "cell_type": "code",
      "metadata": {
        "id": "BWR5WCGCgJ5_"
      },
      "source": [
        "cnn_avg_pca = cnn_distresults.groupby([\"Type\",\"Layer\",\"f1\"])[\"PCA1\"].apply(lambda x: np.mean(np.abs(x))).reset_index()\n",
        "dnn_avg_pca = dnn_distresults.groupby([\"Type\",\"Layer\",\"f1\"])[\"PCA1\"].apply(lambda x: np.mean(np.abs(x))).reset_index()\n"
      ],
      "execution_count": null,
      "outputs": []
    },
    {
      "cell_type": "code",
      "metadata": {
        "id": "mCP0hSiL1NR2"
      },
      "source": [
        "# ggplot(dnn_avg_pca) + geom_density(aes('PCA1'))\n",
        "# ggplot(dnn_avg_cca) + geom_density(aes('CCA1'))\n",
        "# ggplot(cnn_avg_cca) + geom_density(aes('CCA1'))\n",
        "\n",
        "\n",
        "\n",
        "# start going through it pairwise"
      ],
      "execution_count": null,
      "outputs": []
    },
    {
      "cell_type": "markdown",
      "metadata": {
        "id": "-nbwCVHSRRfM"
      },
      "source": [
        "# Parallel model with no GP and no collaborative but with different parallel DNN/CNN/WideResnet streams. The _best_ parallel fully integrated model."
      ]
    },
    {
      "cell_type": "markdown",
      "metadata": {
        "id": "-ntNI2qC_9Hm"
      },
      "source": [
        "function for basic parallel 20 DNN"
      ]
    },
    {
      "cell_type": "code",
      "metadata": {
        "id": "kXWOr1f4RQbd"
      },
      "source": [
        "def basic_ParallelDNN_A(model_name, inshape, num_classes = 10, num_of_parallels = 20):\n",
        "\n",
        "  base_input = Input(shape=inshape, name='base_input')\n",
        "  f1_output = Flatten(name='F1')(base_input)\n",
        "\n",
        "  d3rs = []\n",
        "  for pc in range(num_of_parallels):\n",
        "    d1_output = Dense(128, activation='relu', name = f'p{pc+1}_D1')(f1_output)\n",
        "    d2_output = Dense(128, activation='relu', name = f'p{pc+1}_D2')(d1_output)\n",
        "    d3r_output = Dense(48, activation='relu', kernel_regularizer=tf.keras.regularizers.l1(0.005), name = f'p{pc+1}_D3R')(d2_output)\n",
        "    d3rs.append(d3r_output)\n",
        "\n",
        "  # merging_layer = tf.keras.layers.concatenate(d3rs)\n",
        "  concat1_output = Concatenate(name=\"CONCAT1\")(d3rs)\n",
        "  model_output = Dense(num_classes,  activation='softmax', name = 'SFTMX1')(concat1_output)\n",
        "  model = Model(base_input, model_output, name = model_name)\n",
        "\n",
        "  return model"
      ],
      "execution_count": null,
      "outputs": []
    },
    {
      "cell_type": "markdown",
      "metadata": {
        "id": "CdiHdMZbAzHK"
      },
      "source": [
        "function for basic parallel 20 CNN"
      ]
    },
    {
      "cell_type": "code",
      "metadata": {
        "id": "inikwtpIW4M3"
      },
      "source": [
        "def basic_ParallelCNN_A(model_name, inshape, num_classes = 10, num_of_parallels = 20):\n",
        "\n",
        "  # Input Layer\n",
        "  base_input = Input(shape=inshape, name='base_input')\n",
        "\n",
        "  drp1s = []\n",
        "  for pc in range(num_of_parallels):\n",
        "    c1_output = Conv2D(filters=32,kernel_size=[5, 5],padding=\"same\",activation=\"relu\", name=f\"p{pc+1}_C1\")(base_input)\n",
        "    mxp1_output = MaxPooling2D(pool_size=[2, 2], strides=2, name=f\"p{pc+1}_MXP1\")(c1_output)\n",
        "    c2_output = Conv2D(filters=64,kernel_size=[5, 5],padding=\"same\",activation=\"relu\",name=f\"p{pc+1}_C2\")(mxp1_output)\n",
        "    mxp2_output = MaxPooling2D(pool_size=[2, 2], strides=2, name=f\"p{pc+1}_MXP2\")(c2_output)\n",
        "    f1_output = Flatten(name=f\"p{pc+1}_F1\")(mxp2_output)\n",
        "    d1_output = Dense(units=256, activation=\"relu\", name=f\"p{pc+1}_D1\")(f1_output)\n",
        "    drp1_output = Dropout(rate=0.5, name=f\"p{pc+1}_DRP1\")(d1_output)\n",
        "    drp1s.append(drp1_output)\n",
        "\n",
        "  concat1_output = Concatenate(name=\"CONCAT1\")(drp1s)\n",
        "  model_output = Dense(num_classes,  activation='softmax', name = 'SFTMX1')(concat1_output)\n",
        "  model = Model(base_input, model_output, name = model_name)\n",
        "  return model\n"
      ],
      "execution_count": null,
      "outputs": []
    },
    {
      "cell_type": "markdown",
      "metadata": {
        "id": "PJEQRsKaA2fq"
      },
      "source": [
        "function for basic parallel 10 CNN + 10 DNN"
      ]
    },
    {
      "cell_type": "code",
      "metadata": {
        "id": "EFDcerJycgBz"
      },
      "source": [
        "def basic_ParallelCNNDNN_A(model_name, inshape, num_classes = 10, num_of_parallels = 20):\n",
        "\n",
        "  # Input Layer\n",
        "  base_input = Input(shape=inshape, name='base_input')\n",
        "\n",
        "  to_merge = []\n",
        "  for pc in range(int(num_of_parallels/2)):\n",
        "    c1_output = Conv2D(filters=32,kernel_size=[5, 5],padding=\"same\",activation=\"relu\", name=f\"p{pc+1}_C1_CNN\")(base_input)\n",
        "    mxp1_output = MaxPooling2D(pool_size=[2, 2], strides=2, name=f\"p{pc+1}_MXP1_CNN\")(c1_output)\n",
        "    c2_output = Conv2D(filters=64,kernel_size=[5, 5],padding=\"same\",activation=\"relu\",name=f\"p{pc+1}_C2_CNN\")(mxp1_output)\n",
        "    mxp2_output = MaxPooling2D(pool_size=[2, 2], strides=2, name=f\"p{pc+1}_MXP2_CNN\")(c2_output)\n",
        "    f1_output = Flatten(name=f\"p{pc+1}_F1_CNN\")(mxp2_output)\n",
        "    d1_output = Dense(units=256, activation=\"relu\", name=f\"p{pc+1}_D1_CNN\")(f1_output)\n",
        "    drp1_output = Dropout(rate=0.5, name=f\"p{pc+1}_DRP1_CNN\")(d1_output)\n",
        "    to_merge.append(drp1_output)\n",
        "\n",
        "  for pc in range(int(num_of_parallels/2)):\n",
        "    d1_output = Dense(128, activation='relu', name = f'p{pc+1}_D1_DNN')(f1_output)\n",
        "    d2_output = Dense(128, activation='relu', name = f'p{pc+1}_D2_DNN')(d1_output)\n",
        "    d3r_output = Dense(48, activation='relu', kernel_regularizer=tf.keras.regularizers.l1(0.005), name = f'p{pc+1}_D3R_DNN')(d2_output)\n",
        "    to_merge.append(d3r_output)\n",
        "\n",
        "  concat1_output = Concatenate(name=\"CONCAT1\")(to_merge)\n",
        "  model_output = Dense(num_classes,  activation='softmax', name = 'SFTMX1')(concat1_output)\n",
        "  model = Model(base_input, model_output, name = model_name)\n",
        "  return model\n"
      ],
      "execution_count": null,
      "outputs": []
    },
    {
      "cell_type": "markdown",
      "metadata": {
        "id": "Gg49OZj4Htvb"
      },
      "source": [
        "function for basic parallel 10 WideResnet"
      ]
    },
    {
      "cell_type": "code",
      "metadata": {
        "id": "HitZBCmym3Tp"
      },
      "source": [
        "# input_shape=train_data_grey[0,:,:,:].shape\n",
        "import functools\n",
        "\n",
        "def basic_ParallelWideResNet2810_A(model_name, inshape, num_classes = 10, num_of_parallels = 10,\n",
        "                                   weight_decay = 0.0005, weight_init=\"he_normal\",\n",
        "                                   depth=28, k = 10, dropout_probability = 0.0, channel_axis = -1,\n",
        "                                   use_bias = False):\n",
        "\n",
        "  # Input Layer\n",
        "  base_input = Input(shape=inshape, name='base_input')\n",
        "\n",
        "  n = (depth - 4) / 6\n",
        "\n",
        "  to_merge = []\n",
        "  for pc in range(num_of_parallels):\n",
        "    # inputs_wrn = Input(shape=input_shape,name=f\"P{str(pc)}_INPUT\")\n",
        "    n_stages=[16, 16*k, 32*k, 64*k]\n",
        "    conv1_wrn = Conv2D(16, \n",
        "                    (3, 3), \n",
        "                    strides=1,\n",
        "                    padding=\"same\",\n",
        "                    kernel_initializer=weight_init,\n",
        "                    kernel_regularizer=L2(weight_decay),\n",
        "                    use_bias=use_bias,\n",
        "                    name=f\"P{str(pc)}_C1BLOCK\")(base_input) # \"One conv at the beginning (spatial size: 32x32)\"\n",
        "    # Add wide residual blocks\n",
        "    block_fn = _wide_basic\n",
        "    conv2_wrn = _layer(functools.partial(block_fn,\n",
        "                                         identifier=f\"P{str(pc)}_C2BLOCK\",\n",
        "                                          channel_axis = channel_axis,\n",
        "                                          weight_decay = weight_decay,\n",
        "                                          weight_init= weight_init,\n",
        "                                          use_bias = use_bias,\n",
        "                                          dropout_probability = dropout_probability\n",
        "                                         ), \n",
        "                                         n_input_plane=n_stages[0], n_output_plane=n_stages[1], count=n, stride=(1,1)\n",
        "                       )(conv1_wrn)# \"Stage 1 (spatial size: 32x32)\"\n",
        "    conv3_wrn = _layer(functools.partial(block_fn,identifier=f\"P{str(pc)}_C3BLOCK\",\n",
        "                                          channel_axis = channel_axis,\n",
        "                                          weight_decay = weight_decay,\n",
        "                                          weight_init= weight_init,\n",
        "                                          use_bias = use_bias,\n",
        "                                          dropout_probability = dropout_probability\n",
        "                                         ), n_input_plane=n_stages[1], n_output_plane=n_stages[2], count=n, stride=(2,2)\n",
        "                       )(conv2_wrn)# \"Stage 2 (spatial size: 16x16)\"\n",
        "    conv4_wrn = _layer(functools.partial(block_fn,identifier=f\"P{str(pc)}_C4BLOCK\",\n",
        "                                          channel_axis = channel_axis,\n",
        "                                          weight_decay = weight_decay,\n",
        "                                          weight_init= weight_init,\n",
        "                                          use_bias = use_bias,\n",
        "                                          dropout_probability = dropout_probability\n",
        "                                         ), n_input_plane=n_stages[2], n_output_plane=n_stages[3], count=n, stride=(2,2)\n",
        "                       )(conv3_wrn)# \"Stage 3 (spatial size: 8x8)\"\n",
        "\n",
        "    batch_norm_wrn = BatchNormalization(axis=channel_axis,name=f\"P{str(pc)}_BN\")(conv4_wrn)\n",
        "    relu_wrn = Activation(\"relu\")(batch_norm_wrn)\n",
        "                                            \n",
        "    # Classifier block\n",
        "    pool_wrn = AveragePooling2D(pool_size=(8, 8), strides=(1, 1), padding=\"same\", name=f\"P{str(pc)}_CLASSIFIER_AVPL\")(relu_wrn)\n",
        "    flatten_wrn = Flatten(name=f\"P{str(pc)}_CLASSIFIER_FL\")(pool_wrn)\n",
        "\n",
        "    to_merge.append(flatten_wrn)\n",
        "\n",
        "    # predictions_wrn = Dense(units=no_classes, kernel_initializer=weight_init, use_bias=use_bias,\n",
        "    #                     kernel_regularizer=L2(weight_decay), activation=\"softmax\", name=\"P{str(pc)}_CLASSIFIER_D1\")(flatten_wrn)\n",
        "    # model_wrn = Model(inputs=inputs_wrn, outputs=predictions_wrn)\n",
        "\n",
        "  concat1_output = Concatenate(name=\"CONCAT1\")(to_merge)\n",
        "  model_output = Dense(num_classes,  activation='softmax', name = 'SFTMX1')(concat1_output)\n",
        "  model = Model(base_input, model_output, name = model_name)\n",
        "\n",
        "  return model\n",
        "\n"
      ],
      "execution_count": null,
      "outputs": []
    },
    {
      "cell_type": "code",
      "metadata": {
        "id": "qmOuqvetypnO"
      },
      "source": [
        " # parallel fuly integrated 20 DNN\n",
        " \n",
        " pdnn20, pdnn20h = compile_and_fit_model_basic( basic_ParallelDNN_A,  \n",
        "                    f\"ParallelDNN_A_{datetime.datetime.now():%Y%m%d%H%M%S}\", \n",
        "                    train_data_grey[0,:,:,:].shape, \n",
        "                    train_data_grey, train_targets,\n",
        "                    save_max_epoch=False,\n",
        "                    save_final=True,\n",
        "                    patience_count = 35,\n",
        "                    early_stopping_obs = 'val_sparse_categorical_accuracy',\n",
        "                    log_history = True,\n",
        "                    verbose_level = 1,                             \n",
        "                    batch_size=512, \n",
        "                    epochs=250, \n",
        "                    class_weight=None, \n",
        "                    validation_data=(validation_data_grey, validation_targets))\n",
        "\n",
        "# /content/drive/MyDrive/data_papers/gpSVHN/model_finals/ParallelDNN_A_20211002170140_saved_model_after_fit/assets  # 88% validation"
      ],
      "execution_count": null,
      "outputs": []
    },
    {
      "cell_type": "code",
      "metadata": {
        "id": "m7W5a2D_9GsK"
      },
      "source": [
        "# parallel fuly integrated 20 CNN\n",
        "\n",
        "pcnn20, pcnn20h = compile_and_fit_model_basic( basic_ParallelCNN_A,  \n",
        "                    f\"ParallelCNN_A_{datetime.datetime.now():%Y%m%d%H%M%S}\", \n",
        "                    train_data_grey[0,:,:,:].shape, \n",
        "                    train_data_grey, train_targets,\n",
        "                    save_max_epoch=False,\n",
        "                    save_final=True,\n",
        "                    patience_count = 35,\n",
        "                    early_stopping_obs = 'val_sparse_categorical_accuracy',\n",
        "                    log_history = True,\n",
        "                    verbose_level = 1,                             \n",
        "                    batch_size=512, \n",
        "                    epochs=250, \n",
        "                    class_weight=None, \n",
        "                    validation_data=(validation_data_grey, validation_targets))\n",
        "\n",
        " \n",
        "\n"
      ],
      "execution_count": null,
      "outputs": []
    },
    {
      "cell_type": "code",
      "metadata": {
        "id": "K1bRQHOu9PjY"
      },
      "source": [
        "# parallel fuly integrated 10 DNN + 10 CNN\n",
        " \n",
        "pdcnn20, pdcnn20h = compile_and_fit_model_basic( basic_ParallelCNNDNN_A,  \n",
        "                    f\"ParallelCNNDNN_A_{datetime.datetime.now():%Y%m%d%H%M%S}\", \n",
        "                    train_data_grey[0,:,:,:].shape, \n",
        "                    train_data_grey, train_targets,\n",
        "                    save_max_epoch=False,\n",
        "                    save_final=True,\n",
        "                    patience_count = 35,\n",
        "                    early_stopping_obs = 'val_sparse_categorical_accuracy',\n",
        "                    log_history = True,\n",
        "                    verbose_level = 1,                             \n",
        "                    batch_size=512, \n",
        "                    epochs=250, \n",
        "                    class_weight=None, \n",
        "                    validation_data=(validation_data_grey, validation_targets))\n",
        "\n"
      ],
      "execution_count": null,
      "outputs": []
    },
    {
      "cell_type": "code",
      "metadata": {
        "id": "KSTlw2v-7RDr"
      },
      "source": [
        "# parallel fuly integrated 10 WideResNet \n",
        "# does not work!!! OOM\n",
        "# pwrs10, pwrs10h = compile_and_fit_model_basic( basic_ParallelWideResNet2810_A,  \n",
        "#                     f\"ParallelWideResNet_A_{datetime.datetime.now():%Y%m%d%H%M%S}\", \n",
        "#                     train_data_grey[0,:,:,:].shape, \n",
        "#                     train_data_grey, train_targets,\n",
        "#                     save_max_epoch=False,\n",
        "#                     save_final=True,\n",
        "#                     patience_count = 35,\n",
        "#                     early_stopping_obs = 'val_sparse_categorical_accuracy',\n",
        "#                     log_history = True,\n",
        "#                     verbose_level = 1,                             \n",
        "#                     batch_size=512, \n",
        "#                     epochs=250, \n",
        "#                     class_weight=None, \n",
        "#                     validation_data=(validation_data_grey, validation_targets))"
      ],
      "execution_count": null,
      "outputs": []
    },
    {
      "cell_type": "code",
      "metadata": {
        "id": "SRolnh9r_bcK"
      },
      "source": [
        "plot_history(pdnn20h)\n",
        "plot_history(pcnn20h)\n",
        "plot_history(pdcnn20h)\n",
        "plot_history(pwrs10h)"
      ],
      "execution_count": null,
      "outputs": []
    },
    {
      "cell_type": "markdown",
      "metadata": {
        "id": "eDrWFkawP38Q"
      },
      "source": [
        " the summary results for the fully parallel models"
      ]
    },
    {
      "cell_type": "code",
      "metadata": {
        "id": "KWHWnbJj_2kH"
      },
      "source": [
        "x_input = test_data_grey\n",
        "y_input = test_targets\n",
        "\n",
        "models_to_use = [pdnn20, pcnn20, pdcnn20, pwrs10]\n",
        "model_predictions = [ model.predict(x_input) for model in models_to_use]\n",
        "\n",
        "y_preds = [ np.apply_along_axis(np.argmax, 1, y_pred_model) for y_pred_model in model_predictions ] \n",
        "scores_pdnn20_pcnn20_pdcnn20 = [ pr_rc_f1_acc_from_supplied(y_pred,y_input) for y_pred in y_preds ]\n",
        "\n",
        "np.save(f\"/content/drive/MyDrive/data_papers/{paper_name}/summary_results/full_parallel_dnn20_cnn20_cnn10dnn10_wrs10_summary_{datetime.datetime.now():%Y%m%d%H%M%S}\", \n",
        "        np.array(scores_pdnn20_pcnn20_pdcnn20), \n",
        "        allow_pickle=True, \n",
        "        fix_imports=True)\n"
      ],
      "execution_count": null,
      "outputs": []
    },
    {
      "cell_type": "code",
      "metadata": {
        "id": "pE8Hb3aiWxjG"
      },
      "source": [
        "scores_pdnn20_pcnn20_pdcnn20"
      ],
      "execution_count": null,
      "outputs": []
    },
    {
      "cell_type": "markdown",
      "metadata": {
        "id": "1_Os-eyfeYfE"
      },
      "source": [
        "# Functions for collaborative learning (no GP) based on last dense and softmax layer features for DNN/CNN/WideResNet inputs"
      ]
    },
    {
      "cell_type": "markdown",
      "metadata": {
        "id": "bDIJ2mhv525M"
      },
      "source": [
        "A sequential model for DNN on collaborative features"
      ]
    },
    {
      "cell_type": "code",
      "metadata": {
        "id": "giePq9Q2189i"
      },
      "source": [
        "def model_combination_of_features(model_name, input_shape,num_classes=10):\n",
        "    model = Sequential([\n",
        "        tf.keras.Input(shape=input_shape),\n",
        "        BatchNormalization(),\n",
        "        Dense(256, kernel_initializer='RandomNormal', bias_initializer='zeros'),\n",
        "        LeakyReLU(),\n",
        "        Dropout(0.6),\n",
        "        Dense(128, kernel_initializer='RandomNormal', bias_initializer='zeros', kernel_regularizer = tf.keras.regularizers.l1(1e-3)),\n",
        "        LeakyReLU(),\n",
        "        Dropout(0.6),\n",
        "        Dense(32, kernel_initializer='RandomNormal', bias_initializer='zeros', kernel_regularizer = tf.keras.regularizers.l1(1e-2)),\n",
        "        LeakyReLU(),\n",
        "        Dropout(0.5),\n",
        "        Dense(num_classes, activation='softmax')\n",
        "    ], name=model_name)\n",
        "    return model\n",
        "\n",
        "\n",
        "def model_combination_of_features_with_flatten(model_name, input_shape,num_classes=10):\n",
        "    model = Sequential([\n",
        "        tf.keras.Input(shape=input_shape),\n",
        "        Flatten(),\n",
        "        BatchNormalization(),\n",
        "        Dense(256, kernel_initializer='RandomNormal', bias_initializer='zeros'),\n",
        "        LeakyReLU(),\n",
        "        Dropout(0.6),\n",
        "        Dense(128, kernel_initializer='RandomNormal', bias_initializer='zeros', kernel_regularizer = tf.keras.regularizers.l1(1e-3)),\n",
        "        LeakyReLU(),\n",
        "        Dropout(0.6),\n",
        "        Dense(32, kernel_initializer='RandomNormal', bias_initializer='zeros', kernel_regularizer = tf.keras.regularizers.l1(1e-2)),\n",
        "        LeakyReLU(),\n",
        "        Dropout(0.5),\n",
        "        Dense(num_classes, activation='softmax')\n",
        "    ], name=model_name)\n",
        "    return model    \n",
        "\n",
        "\n",
        "# X_trains_out.append(np.array(features_model.predict(X_train_combined), dtype='float64'))\n",
        "# X_train_new = np.concatenate(tuple(X_trains_out), axis=1)\n"
      ],
      "execution_count": null,
      "outputs": []
    },
    {
      "cell_type": "code",
      "metadata": {
        "id": "rV8G8UWixd_l"
      },
      "source": [
        "def get_features_from_multiple_models(feature_files, axis_to_concat = 1):\n",
        " \n",
        "  validation_features_to_load = [ff for ff in feature_files if \"Validation\" in ff and \"_X\" in ff ]\n",
        "  np_x_validation_collab = np.array([np.load(ff) for ff in validation_features_to_load])\n",
        "  np_x_validation_collab = np.concatenate(np_x_validation_collab, axis=axis_to_concat)\n",
        "\n",
        "  train_features_to_load = [ff.replace(\"Validation\", \"Train\") for ff in validation_features_to_load]\n",
        "  np_x_train_collab = np.array([np.load(ff) for ff in train_features_to_load])\n",
        "  np_x_train_collab = np.concatenate(np_x_train_collab, axis=axis_to_concat)\n",
        "\n",
        "  test_features_to_load = [ff.replace(\"Validation\", \"Test\") for ff in validation_features_to_load]\n",
        "  np_x_test_collab = np.array([np.load(ff) for ff in test_features_to_load])\n",
        "  np_x_test_collab = np.concatenate(np_x_test_collab, axis=axis_to_concat)\n",
        "\n",
        "  return np_x_validation_collab, np_x_train_collab, np_x_test_collab"
      ],
      "execution_count": null,
      "outputs": []
    },
    {
      "cell_type": "code",
      "metadata": {
        "id": "0PaQyNjIsR97"
      },
      "source": [
        "def get_features_for_layer(feature_files, layer_name, num_of_models, axis_to_concat = 1):\n",
        " \n",
        "  feature_files_used = [ff for ff in feature_files if \"Validation\" in ff and \"_X\" in ff and f\"{layer_name}_\" in ff ]\n",
        "  validation_features_to_load = sorted(random.sample(feature_files_used, min(num_of_models,len(feature_files_used)) ))\n",
        "  np_x_validation_collab = np.array([np.load(ff) for ff in validation_features_to_load])\n",
        "  np_x_validation_collab = np.concatenate(np_x_validation_collab, axis=axis_to_concat)\n",
        "\n",
        "  train_features_to_load = [ff.replace(\"Validation\", \"Train\") for ff in validation_features_to_load]\n",
        "  np_x_train_collab = np.array([np.load(ff) for ff in train_features_to_load])\n",
        "  np_x_train_collab = np.concatenate(np_x_train_collab, axis=axis_to_concat)\n",
        "\n",
        "  test_features_to_load = [ff.replace(\"Validation\", \"Test\") for ff in validation_features_to_load]\n",
        "  np_x_test_collab = np.array([np.load(ff) for ff in test_features_to_load])\n",
        "  np_x_test_collab = np.concatenate(np_x_test_collab, axis=axis_to_concat)\n",
        "\n",
        "  return np_x_validation_collab, np_x_train_collab, np_x_test_collab\n",
        "\n"
      ],
      "execution_count": null,
      "outputs": []
    },
    {
      "cell_type": "markdown",
      "metadata": {
        "id": "7IhTGp4wUo7T"
      },
      "source": [
        "# Collaborative learning on DNN models based on last dense and softmax layer features"
      ]
    },
    {
      "cell_type": "markdown",
      "metadata": {
        "id": "YqPlplwbEhW2"
      },
      "source": [
        "Do a collaborative layer on 20 DNN on features of penultimate layer"
      ]
    },
    {
      "cell_type": "code",
      "metadata": {
        "id": "fvMFC5GHoFM3"
      },
      "source": [
        "# set up the data for the DNN collaborative\n",
        "\n",
        "# dnn_features_files\n",
        "# cnn_features_files\n",
        "\n",
        "import random\n",
        "import datetime\n",
        "\n",
        "num_of_models = 20\n",
        "layer_name_penultimate_dnn = \"D3R\"\n",
        "\n",
        "np_x_validation_collab_dnn_penultimate, np_y_train_collab_dnn_penultimate, np_x_test_collab_dnn_penultimate = get_features_for_layer(dnn_features_files, layer_name_penultimate_dnn, num_of_models)\n",
        "\n",
        "fcd1, fcdh1 = compile_and_fit_model_basic( model_combination_of_features,  \n",
        "                    f\"Collab_{layer_name_penultimate_dnn}_DNN_A_{datetime.datetime.now():%Y%m%d%H%M%S}\", \n",
        "                    np_y_train_collab_dnn_penultimate[0,:].shape, \n",
        "                    np_y_train_collab_dnn_penultimate, \n",
        "                    train_targets,\n",
        "                    save_max_epoch=False,\n",
        "                    save_final=True,\n",
        "                    patience_count = 35,\n",
        "                    early_stopping_obs = 'val_sparse_categorical_accuracy',\n",
        "                    log_history = True,\n",
        "                    verbose_level=1,                             \n",
        "                    batch_size=512, \n",
        "                    epochs=250, \n",
        "                    class_weight=None, \n",
        "                    validation_data=(np_x_validation_collab_dnn_penultimate, validation_targets))\n",
        "                    # validation_data=(test_data_grey, test_targets))\n"
      ],
      "execution_count": null,
      "outputs": []
    },
    {
      "cell_type": "markdown",
      "metadata": {
        "id": "DU7j_6cWhxVC"
      },
      "source": [
        "Do a collaborative layer on 20 DNN on features of softmax layer"
      ]
    },
    {
      "cell_type": "code",
      "metadata": {
        "id": "ue64ByTEhxVD"
      },
      "source": [
        "# set up the data for the DNN collaborative\n",
        "\n",
        "import random\n",
        "\n",
        "num_of_models = 20\n",
        "layer_name_sfmx_dnn = \"SFTMX1\"\n",
        "\n",
        "np_x_validation_collab_dnn_sftmx, np_y_train_collab_dnn_sftmx, np_x_test_collab_dnn_sftmx = get_features_for_layer(dnn_features_files, layer_name_sfmx_dnn, num_of_models)\n",
        "\n",
        "fcd2, fcdh2 = compile_and_fit_model_basic( model_combination_of_features,  \n",
        "                    f\"Collab_{layer_name_sfmx_dnn}_DNN_A_{datetime.datetime.now():%Y%m%d%H%M%S}\", \n",
        "                    np_y_train_collab_dnn_sftmx[0,:].shape, \n",
        "                    np_y_train_collab_dnn_sftmx, \n",
        "                    train_targets,\n",
        "                    save_max_epoch=False,\n",
        "                    save_final=True,\n",
        "                    patience_count = 35,\n",
        "                    early_stopping_obs = 'val_sparse_categorical_accuracy',\n",
        "                    log_history = True,\n",
        "                    verbose_level=1,                             \n",
        "                    batch_size=512, \n",
        "                    epochs=250, \n",
        "                    class_weight=None, \n",
        "                    validation_data=(np_x_validation_collab_dnn_sftmx, validation_targets))\n"
      ],
      "execution_count": null,
      "outputs": []
    },
    {
      "cell_type": "markdown",
      "metadata": {
        "id": "mIJt0f9ZVIm5"
      },
      "source": [
        "# Collaborative learning on CNN models based on last dense and softmax layer features"
      ]
    },
    {
      "cell_type": "markdown",
      "metadata": {
        "id": "-orJHkR41Kql"
      },
      "source": [
        "Do a collaborative layer on 20 CNN of features of penultimate layer"
      ]
    },
    {
      "cell_type": "code",
      "metadata": {
        "id": "uOE0m4YR1Kqq"
      },
      "source": [
        "# set up the data for the CNN collaborative\n",
        "\n",
        "# dnn_features_files\n",
        "# cnn_features_files\n",
        "\n",
        "import random\n",
        "\n",
        "num_of_models = 20\n",
        "layer_name_penultimate_cnn = \"DRP1\"\n",
        "\n",
        "np_x_validation_collab_cnn_penultimate, np_y_train_collab_cnn_penultimate, np_x_test_collab_cnn_penultimate = get_features_for_layer(cnn_features_files, layer_name_penultimate_cnn, num_of_models)\n",
        "\n",
        "fcc1, fcch1 = compile_and_fit_model_basic( model_combination_of_features,  \n",
        "                    f\"Collab_{layer_name_penultimate_cnn}_CNN_A_{datetime.datetime.now():%Y%m%d%H%M%S}\", \n",
        "                    np_y_train_collab_cnn_penultimate[0,:].shape, \n",
        "                    np_y_train_collab_cnn_penultimate, \n",
        "                    train_targets,\n",
        "                    save_max_epoch=False,\n",
        "                    save_final=True,\n",
        "                    patience_count = 35,\n",
        "                    early_stopping_obs = 'val_sparse_categorical_accuracy',\n",
        "                    log_history = True,\n",
        "                    verbose_level=1,                             \n",
        "                    batch_size=512, \n",
        "                    epochs=250, \n",
        "                    class_weight=None, \n",
        "                    validation_data=(np_x_validation_collab_cnn_penultimate, validation_targets))"
      ],
      "execution_count": null,
      "outputs": []
    },
    {
      "cell_type": "markdown",
      "metadata": {
        "id": "MEetGroZmRtA"
      },
      "source": [
        "Do a collaborative layer on 20 CNN of features of softmax layer"
      ]
    },
    {
      "cell_type": "code",
      "metadata": {
        "id": "tIPxhqdImRtA"
      },
      "source": [
        "# set up the data for the CNN collaborative\n",
        "\n",
        "# dnn_features_files\n",
        "# cnn_features_files\n",
        "\n",
        "import random\n",
        "\n",
        "num_of_models = 20\n",
        "layer_name_sftmx_cnn = \"SFTMX1\"\n",
        "\n",
        "np_x_validation_collab_cnn_sftmx, np_y_train_collab_cnn_sftmx, np_x_test_collab_cnn_sftmx =  get_features_for_layer(cnn_features_files, layer_name_sftmx_cnn, num_of_models)\n",
        "\n",
        "fcc2, fcch2 = compile_and_fit_model_basic( model_combination_of_features,  \n",
        "                    f\"Collab_{layer_name_sftmx_cnn}_CNN_A_{datetime.datetime.now():%Y%m%d%H%M%S}\", \n",
        "                    np_y_train_collab_cnn_sftmx[0,:].shape, \n",
        "                    np_y_train_collab_cnn_sftmx, \n",
        "                    train_targets,\n",
        "                    save_max_epoch=False,\n",
        "                    save_final=True,\n",
        "                    patience_count = 35,\n",
        "                    early_stopping_obs = 'val_sparse_categorical_accuracy',\n",
        "                    log_history = True,\n",
        "                    verbose_level=1,                             \n",
        "                    batch_size=512, \n",
        "                    epochs=250, \n",
        "                    class_weight=None, \n",
        "                    validation_data=(np_x_validation_collab_cnn_sftmx, validation_targets))\n"
      ],
      "execution_count": null,
      "outputs": []
    },
    {
      "cell_type": "markdown",
      "metadata": {
        "id": "tgih_EEjVMdQ"
      },
      "source": [
        "# Collaborative learning on CNN & DNN models based on last dense and softmax layer features"
      ]
    },
    {
      "cell_type": "markdown",
      "metadata": {
        "id": "mwv8LJSc2Jyh"
      },
      "source": [
        "Do a collaborative layer on 10 CNN and 10 DNN on features of the penultimate layer\n"
      ]
    },
    {
      "cell_type": "code",
      "metadata": {
        "id": "updulQYF2Jyh"
      },
      "source": [
        "# set up the data for the CNN+DNN collaborative on last dense layer\n",
        "\n",
        "import random\n",
        "\n",
        "num_of_models = 20\n",
        "\n",
        "layer_name_penultimate_dnn = \"D3R\"\n",
        "layer_name_penultimate_cnn = \"DRP1\"\n",
        "\n",
        "validation_features_to_load_cnn = sorted(random.sample([ff for ff in cnn_features_files if \"Validation_X.npy\" in ff and f\"_{layer_name_penultimate_cnn}_\" in ff], int(num_of_models/2)))\n",
        "validation_features_to_load_dnn  = sorted(random.sample([ff for ff in dnn_features_files if \"Validation_X.npy\" in ff and f\"_{layer_name_penultimate_dnn}_\" in ff], int(num_of_models/2)))\n",
        "\n",
        "validation_features_cnn = np.array([np.load(ff) for ff in validation_features_to_load_cnn ])\n",
        "validation_features_dnn = np.array([np.load(ff) for ff in validation_features_to_load_dnn ])\n",
        "np_x_validation_collab_cdnn = np.concatenate([validation_features_cnn,validation_features_dnn], axis=2)\n",
        "\n",
        "train_features_to_load_cnn = [ff.replace(\"Validation\", \"Train\") for ff in validation_features_to_load_cnn]\n",
        "train_features_to_load_dnn = [ff.replace(\"Validation\", \"Train\") for ff in validation_features_to_load_dnn]\n",
        "train_features_cnn = np.array([np.load(ff) for ff in train_features_to_load_cnn ])\n",
        "train_features_dnn = np.array([np.load(ff) for ff in train_features_to_load_dnn ])\n",
        "np_x_train_collab_cdnn = np.concatenate([train_features_cnn,train_features_dnn], axis=2)\n",
        "\n",
        "test_features_to_load_cnn = [ff.replace(\"Validation\", \"Test\") for ff in validation_features_to_load_cnn]\n",
        "test_features_to_load_dnn = [ff.replace(\"Validation\", \"Test\") for ff in validation_features_to_load_dnn]\n",
        "test_features_cnn = np.array([np.load(ff) for ff in test_features_to_load_cnn ])\n",
        "test_features_dnn = np.array([np.load(ff) for ff in test_features_to_load_dnn ])\n",
        "np_x_test_collab_cdnn_penultimate = np.concatenate([test_features_cnn,test_features_dnn], axis=2)\n",
        "\n",
        "\n",
        "np_x_train_collab_cdnn = np.swapaxes(np_x_train_collab_cdnn, 0,1)\n",
        "np_x_validation_collab_cdnn = np.swapaxes(np_x_validation_collab_cdnn, 0,1)\n",
        "np_x_test_collab_cdnn_penultimate = np.swapaxes(np_x_test_collab_cdnn_penultimate, 0,1)\n"
      ],
      "execution_count": null,
      "outputs": []
    },
    {
      "cell_type": "code",
      "metadata": {
        "id": "7mbiopJ_2Jyi"
      },
      "source": [
        "layer_name = \"DRP1_D3R\"\n",
        "\n",
        "fccd1, fccdh1 = compile_and_fit_model_basic( model_combination_of_features_with_flatten,  \n",
        "                    f\"Collab_{layer_name}_DCNN_A_{datetime.datetime.now():%Y%m%d%H%M%S}\", \n",
        "                    np_x_train_collab_cdnn[0,:].shape, \n",
        "                    np_x_train_collab_cdnn, \n",
        "                    train_targets,\n",
        "                    save_max_epoch=False,\n",
        "                    save_final=True,\n",
        "                    patience_count = 35,\n",
        "                    early_stopping_obs = 'val_sparse_categorical_accuracy',\n",
        "                    log_history = True,\n",
        "                    verbose_level=1,                             \n",
        "                    batch_size=512, \n",
        "                    epochs=250, \n",
        "                    class_weight=None, \n",
        "                    validation_data=(np_x_validation_collab_cdnn, validation_targets))\n"
      ],
      "execution_count": null,
      "outputs": []
    },
    {
      "cell_type": "markdown",
      "metadata": {
        "id": "rqlhpJSF932v"
      },
      "source": [
        "Do a collaborative layer on 10 CNN and 10 DNN on features of the softmax layer\n"
      ]
    },
    {
      "cell_type": "code",
      "metadata": {
        "id": "7PeDS353932v"
      },
      "source": [
        "# set up the data for the CNN+DNN collaborative on softmax layer\n",
        "\n",
        "import random\n",
        "\n",
        "num_of_models = 20\n",
        "\n",
        "layer_name_sftmx_dnn = \"SFTMX1\"\n",
        "layer_name_sftmx_cnn = \"SFTMX1\"\n",
        "\n",
        "validation_features_to_load_cnn = sorted(random.sample([ff for ff in cnn_features_files if \"Validation_X.npy\" in ff and f\"_{layer_name_sftmx_dnn}_\" in ff], int(num_of_models/2)))\n",
        "validation_features_to_load_dnn  = sorted(random.sample([ff for ff in dnn_features_files if \"Validation_X.npy\" in ff and f\"_{layer_name_sftmx_cnn}_\" in ff], int(num_of_models/2)))\n",
        "\n",
        "validation_features_cnn = np.array([np.load(ff) for ff in validation_features_to_load_cnn ])\n",
        "validation_features_dnn = np.array([np.load(ff) for ff in validation_features_to_load_dnn ])\n",
        "np_x_validation_collab_cdnn = np.concatenate([validation_features_cnn,validation_features_dnn], axis=2)\n",
        "\n",
        "train_features_to_load_cnn = [ff.replace(\"Validation\", \"Train\") for ff in validation_features_to_load_cnn]\n",
        "train_features_to_load_dnn = [ff.replace(\"Validation\", \"Train\") for ff in validation_features_to_load_dnn]\n",
        "train_features_cnn = np.array([np.load(ff) for ff in train_features_to_load_cnn ])\n",
        "train_features_dnn = np.array([np.load(ff) for ff in train_features_to_load_dnn ])\n",
        "np_x_train_collab_cdnn = np.concatenate([train_features_cnn,train_features_dnn], axis=2)\n",
        "\n",
        "test_features_to_load_cnn = [ff.replace(\"Validation\", \"Test\") for ff in validation_features_to_load_cnn]\n",
        "test_features_to_load_dnn = [ff.replace(\"Validation\", \"Test\") for ff in validation_features_to_load_dnn]\n",
        "test_features_cnn = np.array([np.load(ff) for ff in test_features_to_load_cnn ])\n",
        "test_features_dnn = np.array([np.load(ff) for ff in test_features_to_load_dnn ])\n",
        "np_x_test_collab_cdnn_sftmx = np.concatenate([test_features_cnn,test_features_dnn], axis=2)\n",
        "\n",
        "\n",
        "np_x_train_collab_cdnn = np.swapaxes(np_x_train_collab_cdnn, 0,1)\n",
        "np_x_validation_collab_cdnn = np.swapaxes(np_x_validation_collab_cdnn, 0,1)\n",
        "np_x_test_collab_cdnn_sftmx = np.swapaxes(np_x_test_collab_cdnn_sftmx, 0,1)\n"
      ],
      "execution_count": null,
      "outputs": []
    },
    {
      "cell_type": "code",
      "metadata": {
        "id": "ZzSY-SuN932w"
      },
      "source": [
        "layer_name = \"SFTMX1_SFTMX1\"\n",
        "\n",
        "fccd2, fccdh2 = compile_and_fit_model_basic( model_combination_of_features_with_flatten,  \n",
        "                    f\"Collab_{layer_name}_DCNN_A_{datetime.datetime.now():%Y%m%d%H%M%S}\", \n",
        "                    np_x_train_collab_cdnn[0,:].shape, \n",
        "                    np_x_train_collab_cdnn, \n",
        "                    train_targets,\n",
        "                    save_max_epoch=False,\n",
        "                    save_final=True,\n",
        "                    patience_count = 35,\n",
        "                    early_stopping_obs = 'val_sparse_categorical_accuracy',\n",
        "                    log_history = True,\n",
        "                    verbose_level=1,                             \n",
        "                    batch_size=512, \n",
        "                    epochs=250, \n",
        "                    class_weight=None, \n",
        "                    validation_data=(np_x_validation_collab_cdnn, validation_targets))\n"
      ],
      "execution_count": null,
      "outputs": []
    },
    {
      "cell_type": "markdown",
      "metadata": {
        "id": "eDq_scmJVVLP"
      },
      "source": [
        "# Collaborative learning on WideResNet models based on last dense (not possible) and softmax layer features"
      ]
    },
    {
      "cell_type": "markdown",
      "metadata": {
        "id": "K7EjdLpd2sXO"
      },
      "source": [
        "Do a collaborative layer on 10 WideResNet28-10 penultimate layer features\n",
        "\n",
        "Not possible to run because of memory constraints "
      ]
    },
    {
      "cell_type": "code",
      "metadata": {
        "id": "A10At6zo1iNq"
      },
      "source": [
        ""
      ],
      "execution_count": null,
      "outputs": []
    },
    {
      "cell_type": "markdown",
      "metadata": {
        "id": "5NX-FaO4OmYX"
      },
      "source": [
        "Do a collaborative layer on 10 WideResNet28-10 softmax layer features\n"
      ]
    },
    {
      "cell_type": "code",
      "metadata": {
        "id": "-JhGM1AFPobp"
      },
      "source": [
        "import random\n",
        "import re\n",
        "\n",
        "def get_base_patterns_for_validation(features_files, layer_name = \"CLASSIFIER_D1\", model_type = \"WideResNet\"):\n",
        "  base_patterns_for_validations = []\n",
        "  for ff in [ s for s in features_files if \"Validation\" in s]:\n",
        "    validation_search = re.search(f'^.*({model_type}.*_ID.*features_{layer_name}_Validation)[0-9]+.*$', ff, re.IGNORECASE)\n",
        "    if validation_search:\n",
        "        base_patterns_for_validations.append(validation_search.group(1))\n",
        "\n",
        "  base_patterns_for_validations = sorted(list(set(base_patterns_for_validations)))\n",
        "  return base_patterns_for_validations\n",
        "\n"
      ],
      "execution_count": null,
      "outputs": []
    },
    {
      "cell_type": "code",
      "metadata": {
        "id": "LBpPvn3SS8MW"
      },
      "source": [
        "def get_features_for_layer_using_subbatches(feature_files, layer_name, num_of_models, model_type=\"WideResNet\", axis_to_concat = 1):\n",
        " \n",
        "  feature_files_used = [ff for ff in feature_files if \"Validation\" in ff and \"_X\" in ff and f\"_{layer_name}_\" in ff ]\n",
        "  \n",
        "  # base_patterns_for_validations = []\n",
        "  # for ff in [ s for s in feature_files_used ]:\n",
        "  #   validation_search = re.search(f'^.*(_ID.*features_{layer_name}_Validation)[0-9]+.*$', ff, re.IGNORECASE)\n",
        "  #   if validation_search:\n",
        "  #       base_patterns_for_validations.append(validation_search.group(1))\n",
        "  # base_patterns_for_validations = sorted(list(set(base_patterns_for_validations)))\n",
        "\n",
        "  base_patterns_for_validations = get_base_patterns_for_validation(feature_files_used, layer_name, model_type)\n",
        "  base_patterns_for_validations = sorted(random.sample(base_patterns_for_validations, min(num_of_models,len(base_patterns_for_validations)) ))\n",
        "\n",
        "  np_x_validation_collab = None\n",
        "  for base_val_str in base_patterns_for_validations:\n",
        "      validation_batch_files = sorted([ ff for ff in feature_files_used if base_val_str in ff])\n",
        "      np_x_validation_collab_batch = np.array([np.load(ff) for ff in validation_batch_files])\n",
        "      np_x_validation_collab_batch = np.concatenate(np_x_validation_collab_batch, axis=0)\n",
        "      if np_x_validation_collab is None:\n",
        "        np_x_validation_collab = np_x_validation_collab_batch.copy()\n",
        "      else:\n",
        "        np_x_validation_collab = np.concatenate([np_x_validation_collab, np_x_validation_collab_batch], axis=axis_to_concat)\n",
        "  \n",
        "  np_x_test_collab = None\n",
        "  for base_val_str in [ ff.replace(\"Validation\",\"Test\") for ff in base_patterns_for_validations]:\n",
        "      test_batch_files = dir_has_file_with_regex(f\"/content/drive/MyDrive/data_papers/{paper_name}/model_features\",f\".*{base_val_str}.*_X.*$\")\n",
        "      np_x_test_collab_batch = np.array([np.load(ff) for ff in test_batch_files])\n",
        "      np_x_test_collab_batch = np.concatenate(np_x_test_collab_batch, axis=0)\n",
        "      if np_x_test_collab is None:\n",
        "        np_x_test_collab = np_x_test_collab_batch.copy()\n",
        "      else:\n",
        "        np_x_test_collab = np.concatenate([np_x_test_collab, np_x_test_collab_batch], axis=axis_to_concat)\n",
        "\n",
        "  np_x_train_collab = None\n",
        "  for base_val_str in [ ff.replace(\"Validation\",\"Train\") for ff in base_patterns_for_validations]:\n",
        "      train_batch_files = dir_has_file_with_regex(f\"/content/drive/MyDrive/data_papers/{paper_name}/model_features\",f\".*{base_val_str}.*_X.*$\")\n",
        "      np_x_train_collab_batch = np.array([np.load(ff) for ff in train_batch_files])\n",
        "      np_x_train_collab_batch = np.concatenate(np_x_train_collab_batch, axis=0)\n",
        "      if np_x_train_collab is None:\n",
        "        np_x_train_collab = np_x_train_collab_batch.copy()\n",
        "      else:\n",
        "        np_x_train_collab = np.concatenate([np_x_train_collab, np_x_train_collab_batch], axis=axis_to_concat)\n",
        "\n",
        "  return np_x_validation_collab, np_x_train_collab, np_x_test_collab"
      ],
      "execution_count": null,
      "outputs": []
    },
    {
      "cell_type": "code",
      "metadata": {
        "id": "nTpZ0n_PK6XR"
      },
      "source": [
        "import random\n",
        "import re\n",
        "\n",
        "num_of_models = 10\n",
        "layer_name = \"CLASSIFIER_D1\"\n",
        "model_type = \"WideResNet\"\n",
        "\n",
        "np_x_validation_collab_wideresnets, np_x_train_collab_wideresnets, np_x_test_collab_wideresnets =  get_features_for_layer_using_subbatches(wideresnets_features_files,layer_name,num_of_models,model_type )\n",
        "\n",
        "wrsftmx, wrsftmxh = compile_and_fit_model_basic( model_combination_of_features,  \n",
        "                    f\"Collab_{layer_name}_WideResnet28-10_A_{datetime.datetime.now():%Y%m%d%H%M%S}\", \n",
        "                    np_x_train_collab_wideresnets[0,:].shape, \n",
        "                    np_x_train_collab_wideresnets, \n",
        "                    train_targets,\n",
        "                    save_max_epoch=False,\n",
        "                    save_final=True,\n",
        "                    patience_count = 35,\n",
        "                    early_stopping_obs = 'val_sparse_categorical_accuracy',\n",
        "                    log_history = True,\n",
        "                    verbose_level=1,                             \n",
        "                    batch_size=512, \n",
        "                    epochs=250, \n",
        "                    class_weight=None, \n",
        "                    validation_data=(np_x_validation_collab_wideresnets, validation_targets))\n",
        "\n"
      ],
      "execution_count": null,
      "outputs": []
    },
    {
      "cell_type": "markdown",
      "metadata": {
        "id": "YlyIJ3CCVmCq"
      },
      "source": [
        "# Collaborative learning on WideResNet, CNN & DNN models based on softmax layer features"
      ]
    },
    {
      "cell_type": "markdown",
      "metadata": {
        "id": "WX8Z0L0QyUQb"
      },
      "source": [
        "Do a collaborative layer on 1 DNN and 4 CNN, 5 WideResNets on features of the softmax layer\n"
      ]
    },
    {
      "cell_type": "code",
      "metadata": {
        "colab": {
          "base_uri": "https://localhost:8080/"
        },
        "id": "PlbJZSX9yUQb",
        "outputId": "23204289-08cb-411e-a339-5404a579253b"
      },
      "source": [
        "# set up the data for the WideResnet+CNN+DNN collaborative on softmax layer\n",
        "\n",
        "import random\n",
        "\n",
        "num_of_models_dnn = 1\n",
        "num_of_models_cnn = 4\n",
        "num_of_models_wideresnets = 5\n",
        "\n",
        "layer_name_sftmx_dnn = \"SFTMX1\"\n",
        "layer_name_sftmx_cnn = \"SFTMX1\"\n",
        "layer_name_sftmx_wideresnets = \"CLASSIFIER_D1\"\n",
        "\n",
        "np_x_validation_collab_dnn, np_x_train_collab_dnn, np_x_test_collab_dnn = get_features_for_layer(dnn_features_files,layer_name_sftmx_dnn,num_of_models_dnn)\n",
        "np_x_validation_collab_cnn, np_x_train_collab_cnn, np_x_test_collab_cnn = get_features_for_layer(cnn_features_files,layer_name_sftmx_cnn,num_of_models_cnn)\n",
        "np_x_validation_collab_wideresnets, np_x_train_collab_wideresnets, np_x_test_collab_wideresnets = get_features_for_layer_using_subbatches(wideresnets_features_files,layer_name_sftmx_wideresnets,num_of_models_wideresnets,model_type=\"WideResNet\")\n",
        "\n",
        "\n",
        "np_x_train_collab_wrcdnn = np.concatenate([np_x_train_collab_dnn,np_x_train_collab_cnn,np_x_train_collab_wideresnets], axis=1)\n",
        "np_x_validation_collab_wrcdnn = np.concatenate([np_x_validation_collab_dnn,np_x_validation_collab_cnn,np_x_validation_collab_wideresnets], axis=1)\n",
        "np_x_test_collab_wrcdnn = np.concatenate([np_x_test_collab_dnn,np_x_test_collab_cnn,np_x_test_collab_wideresnets], axis=1)\n"
      ],
      "execution_count": null,
      "outputs": [
        {
          "output_type": "stream",
          "name": "stderr",
          "text": [
            "/usr/local/lib/python3.7/dist-packages/ipykernel_launcher.py:18: VisibleDeprecationWarning: Creating an ndarray from ragged nested sequences (which is a list-or-tuple of lists-or-tuples-or ndarrays with different lengths or shapes) is deprecated. If you meant to do this, you must specify 'dtype=object' when creating the ndarray\n",
            "/usr/local/lib/python3.7/dist-packages/ipykernel_launcher.py:38: VisibleDeprecationWarning: Creating an ndarray from ragged nested sequences (which is a list-or-tuple of lists-or-tuples-or ndarrays with different lengths or shapes) is deprecated. If you meant to do this, you must specify 'dtype=object' when creating the ndarray\n"
          ]
        }
      ]
    },
    {
      "cell_type": "code",
      "metadata": {
        "id": "1aX3tTiDyUQc"
      },
      "source": [
        "layer_name = \"SFTMX1_SFTMX1_CLASSIFIER_D1\"\n",
        "\n",
        "wrsdcnnsftmx, wrsdcnnsftmxh = compile_and_fit_model_basic( model_combination_of_features_with_flatten,  \n",
        "                    f\"Collab_{layer_name}_DCNNWRNTS_A_{datetime.datetime.now():%Y%m%d%H%M%S}\", \n",
        "                    np_x_train_collab_wrcdnn[0,:].shape, \n",
        "                    np_x_train_collab_wrcdnn, \n",
        "                    train_targets,\n",
        "                    save_max_epoch=False,\n",
        "                    save_final=True,\n",
        "                    patience_count = 35,\n",
        "                    early_stopping_obs = 'val_sparse_categorical_accuracy',\n",
        "                    log_history = True,\n",
        "                    verbose_level=1,                             \n",
        "                    batch_size=512, \n",
        "                    epochs=250, \n",
        "                    class_weight=None, \n",
        "                    validation_data=(np_x_validation_collab_wrcdnn, validation_targets))\n"
      ],
      "execution_count": null,
      "outputs": []
    },
    {
      "cell_type": "markdown",
      "metadata": {
        "id": "Hj3nBkOG0gzh"
      },
      "source": [
        "Do a collaborative layer on 2 DNN and 8 CNN, 10 WideResNets on features of the softmax layer\n"
      ]
    },
    {
      "cell_type": "code",
      "metadata": {
        "colab": {
          "base_uri": "https://localhost:8080/"
        },
        "id": "nVTtEzUn0gzh",
        "outputId": "847b56fa-e0d7-4360-b4fc-75cff6302463"
      },
      "source": [
        "# set up the data for the WideResnet+CNN+DNN collaborative on softmax layer\n",
        "\n",
        "import random\n",
        "\n",
        "num_of_models_dnn = 2\n",
        "num_of_models_cnn = 8\n",
        "num_of_models_wideresnets = 10\n",
        "\n",
        "layer_name_sftmx_dnn = \"SFTMX1\"\n",
        "layer_name_sftmx_cnn = \"SFTMX1\"\n",
        "layer_name_sftmx_wideresnets = \"CLASSIFIER_D1\"\n",
        "\n",
        "np_x_validation_collab_dnn, np_x_train_collab_dnn, np_x_test_collab_dnn = get_features_for_layer(dnn_features_files,layer_name_sftmx_dnn,num_of_models_dnn)\n",
        "np_x_validation_collab_cnn, np_x_train_collab_cnn, np_x_test_collab_cnn = get_features_for_layer(cnn_features_files,layer_name_sftmx_cnn,num_of_models_cnn)\n",
        "np_x_validation_collab_wideresnets, np_x_train_collab_wideresnets, np_x_test_collab_wideresnets = get_features_for_layer_using_subbatches(wideresnets_features_files,layer_name_sftmx_wideresnets,num_of_models_wideresnets,model_type=\"WideResNet\")\n",
        "\n",
        "\n",
        "np_x_train_collab_wrcdnn = np.concatenate([np_x_train_collab_dnn,np_x_train_collab_cnn,np_x_train_collab_wideresnets], axis=1)\n",
        "np_x_validation_collab_wrcdnn = np.concatenate([np_x_validation_collab_dnn,np_x_validation_collab_cnn,np_x_validation_collab_wideresnets], axis=1)\n",
        "np_x_test_collab_wrcdnn2 = np.concatenate([np_x_test_collab_dnn,np_x_test_collab_cnn,np_x_test_collab_wideresnets], axis=1)\n"
      ],
      "execution_count": null,
      "outputs": [
        {
          "output_type": "stream",
          "name": "stderr",
          "text": [
            "/usr/local/lib/python3.7/dist-packages/ipykernel_launcher.py:18: VisibleDeprecationWarning: Creating an ndarray from ragged nested sequences (which is a list-or-tuple of lists-or-tuples-or ndarrays with different lengths or shapes) is deprecated. If you meant to do this, you must specify 'dtype=object' when creating the ndarray\n",
            "/usr/local/lib/python3.7/dist-packages/ipykernel_launcher.py:38: VisibleDeprecationWarning: Creating an ndarray from ragged nested sequences (which is a list-or-tuple of lists-or-tuples-or ndarrays with different lengths or shapes) is deprecated. If you meant to do this, you must specify 'dtype=object' when creating the ndarray\n"
          ]
        }
      ]
    },
    {
      "cell_type": "code",
      "metadata": {
        "id": "sB1THFzz0gzh"
      },
      "source": [
        "layer_name = \"SFTMX1_SFTMX1_CLASSIFIER_D1\"\n",
        "\n",
        "wrsdcnnsftmx2, wrsdcnnsftmxh2 = compile_and_fit_model_basic( model_combination_of_features_with_flatten,  \n",
        "                    f\"Collab_{layer_name}_DCNNWRNTS_A_{datetime.datetime.now():%Y%m%d%H%M%S}\", \n",
        "                    np_x_train_collab_wrcdnn[0,:].shape, \n",
        "                    np_x_train_collab_wrcdnn, \n",
        "                    train_targets,\n",
        "                    save_max_epoch=False,\n",
        "                    save_final=True,\n",
        "                    patience_count = 35,\n",
        "                    early_stopping_obs = 'val_sparse_categorical_accuracy',\n",
        "                    log_history = True,\n",
        "                    verbose_level=1,                             \n",
        "                    batch_size=512, \n",
        "                    epochs=250, \n",
        "                    class_weight=None, \n",
        "                    validation_data=(np_x_validation_collab_wrcdnn, validation_targets))\n"
      ],
      "execution_count": null,
      "outputs": []
    },
    {
      "cell_type": "markdown",
      "metadata": {
        "id": "FIWn1BVd_y3F"
      },
      "source": [
        "Do a collaborative layer on 5 CNN, 5 WideResNets on features of the softmax layer\n"
      ]
    },
    {
      "cell_type": "code",
      "metadata": {
        "colab": {
          "base_uri": "https://localhost:8080/"
        },
        "id": "CuPo4NEK_y3G",
        "outputId": "86551dca-cbc0-4a0f-cbeb-e51e5ccaea75"
      },
      "source": [
        "# set up the data for the WideResnet+CNN+DNN collaborative on softmax layer\n",
        "\n",
        "import random\n",
        "\n",
        "num_of_models_cnn = 5\n",
        "num_of_models_wideresnets = 5\n",
        "\n",
        "layer_name_sftmx_cnn = \"SFTMX1\"\n",
        "layer_name_sftmx_wideresnets = \"CLASSIFIER_D1\"\n",
        "\n",
        "np_x_validation_collab_cnn, np_x_train_collab_cnn, np_x_test_collab_cnn = get_features_for_layer(cnn_features_files,layer_name_sftmx_cnn,num_of_models_cnn)\n",
        "np_x_validation_collab_wideresnets, np_x_train_collab_wideresnets, np_x_test_collab_wideresnets = get_features_for_layer_using_subbatches(wideresnets_features_files,layer_name_sftmx_wideresnets,num_of_models_wideresnets,model_type=\"WideResNet\")\n",
        "\n",
        "np_x_train_collab_wrcnn = np.concatenate([np_x_train_collab_cnn,np_x_train_collab_wideresnets], axis=1)\n",
        "np_x_validation_collab_wrcnn = np.concatenate([np_x_validation_collab_cnn,np_x_validation_collab_wideresnets], axis=1)\n",
        "np_x_test_collab_wrcnn = np.concatenate([np_x_test_collab_cnn,np_x_test_collab_wideresnets], axis=1)\n"
      ],
      "execution_count": null,
      "outputs": [
        {
          "output_type": "stream",
          "name": "stderr",
          "text": [
            "/usr/local/lib/python3.7/dist-packages/ipykernel_launcher.py:18: VisibleDeprecationWarning: Creating an ndarray from ragged nested sequences (which is a list-or-tuple of lists-or-tuples-or ndarrays with different lengths or shapes) is deprecated. If you meant to do this, you must specify 'dtype=object' when creating the ndarray\n",
            "/usr/local/lib/python3.7/dist-packages/ipykernel_launcher.py:38: VisibleDeprecationWarning: Creating an ndarray from ragged nested sequences (which is a list-or-tuple of lists-or-tuples-or ndarrays with different lengths or shapes) is deprecated. If you meant to do this, you must specify 'dtype=object' when creating the ndarray\n"
          ]
        }
      ]
    },
    {
      "cell_type": "code",
      "metadata": {
        "id": "HE2FGKUv_y3G"
      },
      "source": [
        "layer_name = \"SFTMX1_CLASSIFIER_D1\"\n",
        "\n",
        "wrscnnsftmx, wrscnnsftmxh = compile_and_fit_model_basic( model_combination_of_features_with_flatten,  \n",
        "                    f\"Collab_{layer_name}_CNNWRNTS_A_{datetime.datetime.now():%Y%m%d%H%M%S}\", \n",
        "                    np_x_train_collab_wrcnn[0,:].shape, \n",
        "                    np_x_train_collab_wrcnn, \n",
        "                    train_targets,\n",
        "                    save_max_epoch=False,\n",
        "                    save_final=True,\n",
        "                    patience_count = 35,\n",
        "                    early_stopping_obs = 'val_sparse_categorical_accuracy',\n",
        "                    log_history = True,\n",
        "                    verbose_level=1,                             \n",
        "                    batch_size=512, \n",
        "                    epochs=250, \n",
        "                    class_weight=None, \n",
        "                    validation_data=(np_x_validation_collab_wrcnn, validation_targets))\n"
      ],
      "execution_count": null,
      "outputs": []
    },
    {
      "cell_type": "markdown",
      "metadata": {
        "id": "upPlyiuGnrbK"
      },
      "source": [
        "# A summary results for all collaborative models on the last layer features (DNN 20, CNN 20, CNN10/DNN10, WideResnet, CNN/DNN/WideReset, CNN/WideResNet) using a DNN to collaborate"
      ]
    },
    {
      "cell_type": "code",
      "metadata": {
        "id": "TBpiSG03piyX"
      },
      "source": [
        "models_to_use_collab_dnnf = [fcd1, fcd2, fcc1, fcc2, fccd1, fccd2, wrsftmx, wrsdcnnsftmx, wrsdcnnsftmx2, wrscnnsftmx]\n",
        "model_predictions_collab_dnnf = [ fcd1.predict(np_x_test_collab_dnn_penultimate), \n",
        "                                  fcd2.predict(np_x_test_collab_dnn_sftmx), \n",
        "                                  fcc1.predict(np_x_test_collab_cnn_penultimate), \n",
        "                                  fcc2.predict(np_x_test_collab_cnn_sftmx), \n",
        "                                  fccd1.predict(np_x_test_collab_cdnn_penultimate),\n",
        "                                  fccd2.predict(np_x_test_collab_cdnn_sftmx),\n",
        "                                  wrsftmx.predict(np_x_test_collab_wideresnets),\n",
        "                                  wrsdcnnsftmx.predict(np_x_test_collab_wrcdnn),\n",
        "                                  wrsdcnnsftmx2.predict(np_x_test_collab_wrcdnn2),\n",
        "                                 wrscnnsftmx.predict(np_x_test_collab_wrcnn)]\n",
        "\n",
        "y_preds_collab_dnnf = [ np.apply_along_axis(np.argmax, 1, y_pred_model) for y_pred_model in model_predictions_collab_dnnf ] \n",
        "scores_fCollabdnnDNN20_fCollabdnnCNN20_fCollabdnnCNN10DNN10 = [ pr_rc_f1_acc_from_supplied(y_pred,test_targets) for y_pred in y_preds_collab_dnnf ]\n",
        "\n",
        "np.save(f\"/content/drive/MyDrive/data_papers/{paper_name}/summary_results/feature_collabUsingDnn_dnn20_cnn20_cnn10dnn10_wideresnet2810_wrs5cnn4dnn1_wrs10cnn8dnn2_wrs5cnn5_summary_{datetime.datetime.now():%Y%m%d%H%M%S}\", \n",
        "        np.array(scores_fCollabdnnDNN20_fCollabdnnCNN20_fCollabdnnCNN10DNN10), \n",
        "        allow_pickle=True, \n",
        "        fix_imports=True)"
      ],
      "execution_count": null,
      "outputs": []
    },
    {
      "cell_type": "code",
      "metadata": {
        "colab": {
          "base_uri": "https://localhost:8080/"
        },
        "id": "S91-VXhYXqYE",
        "outputId": "9a1ddf5b-074b-48fc-aaf3-228806956e1a"
      },
      "source": [
        "scores_fCollabdnnDNN20_fCollabdnnCNN20_fCollabdnnCNN10DNN10"
      ],
      "execution_count": null,
      "outputs": [
        {
          "output_type": "execute_result",
          "data": {
            "text/plain": [
              "[(0.9051928281154161,\n",
              "  0.9050666666666667,\n",
              "  0.9049378507448034,\n",
              "  0.9050666666666667),\n",
              " (0.9090486108348298, 0.909, 0.9088983000587209, 0.909),\n",
              " (0.9671091024111882,\n",
              "  0.9670333333333333,\n",
              "  0.9670155075372199,\n",
              "  0.9670333333333333),\n",
              " (0.9652028701611121,\n",
              "  0.9650666666666666,\n",
              "  0.9650499235530063,\n",
              "  0.9650666666666666),\n",
              " (0.9633682248252233, 0.9633, 0.9632594153706333, 0.9633),\n",
              " (0.9641486037176014,\n",
              "  0.9640666666666666,\n",
              "  0.9640560701955829,\n",
              "  0.9640666666666666),\n",
              " (0.983553190192694,\n",
              "  0.9835333333333334,\n",
              "  0.9835359101918536,\n",
              "  0.9835333333333334),\n",
              " (0.9735667504021412, 0.9735, 0.9735001853174081, 0.9735),\n",
              " (0.9773149557175388,\n",
              "  0.9772666666666666,\n",
              "  0.9772692504244578,\n",
              "  0.9772666666666666),\n",
              " (0.9746903433120206,\n",
              "  0.9746333333333334,\n",
              "  0.9746349939298563,\n",
              "  0.9746333333333334)]"
            ]
          },
          "metadata": {},
          "execution_count": 67
        }
      ]
    },
    {
      "cell_type": "code",
      "metadata": {
        "id": "dR603zQv3p5-"
      },
      "source": [
        ""
      ],
      "execution_count": null,
      "outputs": []
    },
    {
      "cell_type": "markdown",
      "metadata": {
        "id": "DaQvakL4rU88"
      },
      "source": [
        "# Load CCA/PCA Data for Collaborative CNN/DNN models"
      ]
    },
    {
      "cell_type": "code",
      "metadata": {
        "id": "_SAYfptJrN-V"
      },
      "source": [
        "# cframe.loc[cframe.CCA1==1.0][\"f1\"]\n",
        "\n",
        "import os,sys\n",
        "import numpy as np\n",
        "import pandas as pd\n",
        "\n",
        "dnn_distresults = pd.read_csv(f\"/content/drive/MyDrive/data_papers/{paper_name}/model_ccs/dnn_Validation_ccs_20211115040852.csv\")\n",
        "cnn_distresults = pd.read_csv(f\"/content/drive/MyDrive/data_papers/{paper_name}/model_ccs/cnn_Validation_ccs_20211115184258.csv\")\n",
        "\n",
        "dnn_distresults = dnn_distresults[dnn_distresults.Type==\"DNN\"]\n",
        "# individual_dnns = np.load(f\"/content/drive/MyDrive/data_papers/{paper_name}/summary_results/individual_dnn_summary_20211014152626.npy\")\n",
        "# individual_cnns = np.load(f\"/content/drive/MyDrive/data_papers/{paper_name}/summary_results/individual_cnn_summary_20211014152108.npy\")\n"
      ],
      "execution_count": null,
      "outputs": []
    },
    {
      "cell_type": "code",
      "metadata": {
        "id": "3m5dSqo9rN-V"
      },
      "source": [
        "# cnn_distresults.sort_values(\"CCA1\")\n",
        "# cnn_distresults[cnn_distresults.Layer == \"SFTMX1\"].sort_values(\"PCA1\")\n",
        "# cnn_distresults[cnn_distresults.Layer == \"SFTMX1\"].sort_values(\"CCA1\")[0:40]\n",
        "# dnn_distresults[dnn_distresults.Layer == \"SFTMX1\"].sort_values(\"CCA1\")\n",
        "\n",
        "cnn_avg_cca = cnn_distresults.groupby([\"Type\",\"Layer\",\"f1\"])[\"CCA1\"].mean().reset_index()\n",
        "dnn_avg_cca = dnn_distresults.groupby([\"Type\",\"Layer\",\"f1\"])[\"CCA1\"].mean().reset_index()\n",
        "cnn_avg_cca = cnn_avg_cca.sort_values('CCA1')\n",
        "dnn_avg_cca = pd.concat([dnn_avg_cca[dnn_avg_cca.CCA1 > 0.45].sort_values('CCA1'), dnn_avg_cca[dnn_avg_cca.CCA1 <= 0.45]])\n"
      ],
      "execution_count": null,
      "outputs": []
    },
    {
      "cell_type": "code",
      "metadata": {
        "id": "L5iV3Im5rN-V"
      },
      "source": [
        "cnn_avg_pca = cnn_distresults.groupby([\"Type\",\"Layer\",\"f1\"])[\"PCA1\"].apply(lambda x: np.mean(np.abs(x))).reset_index()\n",
        "dnn_avg_pca = dnn_distresults.groupby([\"Type\",\"Layer\",\"f1\"])[\"PCA1\"].apply(lambda x: np.mean(np.abs(x))).reset_index()\n"
      ],
      "execution_count": null,
      "outputs": []
    },
    {
      "cell_type": "markdown",
      "metadata": {
        "id": "TXy-xmor32UY"
      },
      "source": [
        "# Data for Plot on Collaborative DNN softmax layers"
      ]
    },
    {
      "cell_type": "code",
      "metadata": {
        "id": "-Uk02GgJsT1x"
      },
      "source": [
        "collaborativeFullyC_softmax_data = None\n",
        "\n",
        "x_input = test_data_grey\n",
        "y_input = test_targets"
      ],
      "execution_count": null,
      "outputs": []
    },
    {
      "cell_type": "code",
      "metadata": {
        "id": "sAUaJo6XFvVI"
      },
      "source": [
        "# dnn_features_files_here = [ f for f in dnn_features_files if layer_name_sfmx_dnn in f]\n",
        "# dnn_features_files_here\n"
      ],
      "execution_count": null,
      "outputs": []
    },
    {
      "cell_type": "code",
      "metadata": {
        "colab": {
          "base_uri": "https://localhost:8080/"
        },
        "id": "lawIAx1L32UZ",
        "outputId": "5a6b0af3-ab24-4c5e-b5b3-f09bb2ab7f8a"
      },
      "source": [
        "# set up the data for the DNN collaborative\n",
        "\n",
        "import random\n",
        "import datetime\n",
        "\n",
        "num_of_repeats = 4\n",
        "num_of_models = [25,30,35,40,45,50]  #[2,3,4,5,6,8,10,12,14,16,18,20]\n",
        "layer_name_sfmx_dnn = \"SFTMX1\"\n",
        "\n",
        "idxCount = 0 if collaborativeFullyC_softmax_data is None else len(collaborativeFullyC_softmax_data.index)\n",
        "for repc in range(num_of_repeats):\n",
        "  for mc in num_of_models:\n",
        "    model_name = f\"Collab_{layer_name_sfmx_dnn}_DNN_A_{datetime.datetime.now():%Y%m%d%H%M%S}\"\n",
        "    np_x_validation_collab_dnn_sftmx, np_y_train_collab_dnn_sftmx, np_x_test_collab_dnn_sftmx = get_features_for_layer(dnn_features_files, layer_name_sfmx_dnn, mc)\n",
        "    model_here, history_here = compile_and_fit_model_basic( model_combination_of_features,  \n",
        "                        model_name, \n",
        "                        np_y_train_collab_dnn_sftmx[0,:].shape, \n",
        "                        np_y_train_collab_dnn_sftmx, \n",
        "                        train_targets,\n",
        "                        save_max_epoch = False,\n",
        "                        save_final = True,\n",
        "                        patience_count = 35,\n",
        "                        early_stopping_obs = 'val_sparse_categorical_accuracy',\n",
        "                        log_history = True,\n",
        "                        verbose_level=0,                             \n",
        "                        batch_size=512, \n",
        "                        epochs=250, \n",
        "                        class_weight=None, \n",
        "                        validation_data=(np_x_validation_collab_dnn_sftmx, validation_targets))\n",
        "    del np_x_validation_collab_dnn_sftmx\n",
        "    del np_y_train_collab_dnn_sftmx\n",
        "    y_pred_model = model_here.predict(np_x_test_collab_dnn_sftmx)\n",
        "    del np_x_test_collab_dnn_sftmx\n",
        "    y_pred = np.apply_along_axis(np.argmax, 1, y_pred_model) \n",
        "    pr, rc, f1, acc = pr_rc_f1_acc_from_supplied(y_pred,test_targets)\n",
        "    print (mc, repc, pr, rc, f1, acc)\n",
        "    del model_here\n",
        "    del history_here\n",
        "    if collaborativeFullyC_softmax_data is None:\n",
        "      collaborativeFullyC_softmax_data = pd.DataFrame({\"Type\": \"DNN\", \n",
        "                                            \"Data\" : \"Test\",\n",
        "                                            \"NumOfModels\": mc, \n",
        "                                            \"RepC\": repc, \n",
        "                                            \"Pr\": pr,\n",
        "                                            \"Rc\": rc,\n",
        "                                            \"F1\": f1,\n",
        "                                            \"Acc\": acc,\n",
        "                                            }, index = [idxCount])\n",
        "    else:\n",
        "      collaborativeFullyC_softmax_data = pd.concat([collaborativeFullyC_softmax_data,\n",
        "                                         pd.DataFrame({\"Type\": \"DNN\", \n",
        "                                            \"Data\" : \"Test\",\n",
        "                                            \"NumOfModels\": mc, \n",
        "                                            \"RepC\": repc, \n",
        "                                            \"Pr\": pr,\n",
        "                                            \"Rc\": rc,\n",
        "                                            \"F1\": f1,\n",
        "                                            \"Acc\": acc\n",
        "                                            }, index = [idxCount])\n",
        "                                         ])\n",
        "    idxCount = idxCount + 1\n",
        "\n",
        "\n",
        "\n"
      ],
      "execution_count": null,
      "outputs": [
        {
          "output_type": "stream",
          "name": "stdout",
          "text": [
            "INFO:tensorflow:Assets written to: /content/drive/MyDrive/data_papers/gpSVHN/model_finals/Collab_SFTMX1_DNN_A_20211119172917_saved_model_after_fit/assets\n",
            "35 0 0.9080910790428673 0.9080333333333334 0.90787190583262 0.9080333333333334\n",
            "INFO:tensorflow:Assets written to: /content/drive/MyDrive/data_papers/gpSVHN/model_finals/Collab_SFTMX1_DNN_A_20211119173219_saved_model_after_fit/assets\n",
            "40 0 0.9086441224069615 0.9082666666666667 0.9082733330953933 0.9082666666666667\n",
            "INFO:tensorflow:Assets written to: /content/drive/MyDrive/data_papers/gpSVHN/model_finals/Collab_SFTMX1_DNN_A_20211119173502_saved_model_after_fit/assets\n",
            "50 0 0.910035334443602 0.9099 0.9098164173095517 0.9099\n",
            "INFO:tensorflow:Assets written to: /content/drive/MyDrive/data_papers/gpSVHN/model_finals/Collab_SFTMX1_DNN_A_20211119173648_saved_model_after_fit/assets\n",
            "35 1 0.9094727613757331 0.9095 0.909310117621141 0.9095\n",
            "INFO:tensorflow:Assets written to: /content/drive/MyDrive/data_papers/gpSVHN/model_finals/Collab_SFTMX1_DNN_A_20211119173816_saved_model_after_fit/assets\n",
            "40 1 0.909621883223174 0.9096333333333333 0.9094998720521755 0.9096333333333333\n",
            "INFO:tensorflow:Assets written to: /content/drive/MyDrive/data_papers/gpSVHN/model_finals/Collab_SFTMX1_DNN_A_20211119173931_saved_model_after_fit/assets\n",
            "50 1 0.9107925303961991 0.9108666666666667 0.9106894483794589 0.9108666666666667\n",
            "INFO:tensorflow:Assets written to: /content/drive/MyDrive/data_papers/gpSVHN/model_finals/Collab_SFTMX1_DNN_A_20211119174031_saved_model_after_fit/assets\n",
            "35 2 0.9081570484351007 0.9078666666666667 0.9077724136809627 0.9078666666666667\n",
            "INFO:tensorflow:Assets written to: /content/drive/MyDrive/data_papers/gpSVHN/model_finals/Collab_SFTMX1_DNN_A_20211119174145_saved_model_after_fit/assets\n",
            "40 2 0.9099754440459216 0.91 0.9098761684678701 0.91\n",
            "INFO:tensorflow:Assets written to: /content/drive/MyDrive/data_papers/gpSVHN/model_finals/Collab_SFTMX1_DNN_A_20211119174246_saved_model_after_fit/assets\n",
            "50 2 0.9105421637882251 0.9106333333333333 0.9104796511960463 0.9106333333333333\n",
            "INFO:tensorflow:Assets written to: /content/drive/MyDrive/data_papers/gpSVHN/model_finals/Collab_SFTMX1_DNN_A_20211119174343_saved_model_after_fit/assets\n",
            "35 3 0.9088390984541445 0.9088 0.9087364707288692 0.9088\n",
            "INFO:tensorflow:Assets written to: /content/drive/MyDrive/data_papers/gpSVHN/model_finals/Collab_SFTMX1_DNN_A_20211119174443_saved_model_after_fit/assets\n",
            "40 3 0.9096174841021637 0.9093333333333333 0.9093220571509875 0.9093333333333333\n",
            "INFO:tensorflow:Assets written to: /content/drive/MyDrive/data_papers/gpSVHN/model_finals/Collab_SFTMX1_DNN_A_20211119174538_saved_model_after_fit/assets\n",
            "50 3 0.9122808533078832 0.9122 0.9121056279623644 0.9122\n"
          ]
        }
      ]
    },
    {
      "cell_type": "code",
      "metadata": {
        "id": "0fkz6m8Ly2e3"
      },
      "source": [
        "collaborativeFullyC_softmax_data.to_csv(f\"/content/drive/MyDrive/data_papers/{paper_name}/summary_results/dnn_collab_test_results_{datetime.datetime.now():%Y%m%d%H%M%S}.csv\")\n",
        "\n"
      ],
      "execution_count": null,
      "outputs": []
    },
    {
      "cell_type": "code",
      "metadata": {
        "colab": {
          "base_uri": "https://localhost:8080/",
          "height": 414
        },
        "id": "fh84XOFV4ZZp",
        "outputId": "40e81594-5d9d-4b26-dd17-5e3be3655b9e"
      },
      "source": [
        "dnn_avg_cca"
      ],
      "execution_count": null,
      "outputs": [
        {
          "output_type": "execute_result",
          "data": {
            "text/html": [
              "<div>\n",
              "<style scoped>\n",
              "    .dataframe tbody tr th:only-of-type {\n",
              "        vertical-align: middle;\n",
              "    }\n",
              "\n",
              "    .dataframe tbody tr th {\n",
              "        vertical-align: top;\n",
              "    }\n",
              "\n",
              "    .dataframe thead th {\n",
              "        text-align: right;\n",
              "    }\n",
              "</style>\n",
              "<table border=\"1\" class=\"dataframe\">\n",
              "  <thead>\n",
              "    <tr style=\"text-align: right;\">\n",
              "      <th></th>\n",
              "      <th>Type</th>\n",
              "      <th>Layer</th>\n",
              "      <th>f1</th>\n",
              "      <th>CCA1</th>\n",
              "    </tr>\n",
              "  </thead>\n",
              "  <tbody>\n",
              "    <tr>\n",
              "      <th>133</th>\n",
              "      <td>DNN</td>\n",
              "      <td>SFTMX1</td>\n",
              "      <td>/content/drive/MyDrive/data_papers/gpSVHN/model_features/DNN_A_3_20211002235817_features_SFTMX1_Validation_X.npy</td>\n",
              "      <td>0.775111</td>\n",
              "    </tr>\n",
              "    <tr>\n",
              "      <th>179</th>\n",
              "      <td>DNN</td>\n",
              "      <td>SFTMX1</td>\n",
              "      <td>/content/drive/MyDrive/data_papers/gpSVHN/model_features/DNN_A_81_20211003013951_features_SFTMX1_Validation_X.npy</td>\n",
              "      <td>0.778604</td>\n",
              "    </tr>\n",
              "    <tr>\n",
              "      <th>150</th>\n",
              "      <td>DNN</td>\n",
              "      <td>SFTMX1</td>\n",
              "      <td>/content/drive/MyDrive/data_papers/gpSVHN/model_features/DNN_A_55_20211003010650_features_SFTMX1_Validation_X.npy</td>\n",
              "      <td>0.802806</td>\n",
              "    </tr>\n",
              "    <tr>\n",
              "      <th>104</th>\n",
              "      <td>DNN</td>\n",
              "      <td>SFTMX1</td>\n",
              "      <td>/content/drive/MyDrive/data_papers/gpSVHN/model_features/DNN_A_13_20211003001057_features_SFTMX1_Validation_X.npy</td>\n",
              "      <td>0.803798</td>\n",
              "    </tr>\n",
              "    <tr>\n",
              "      <th>147</th>\n",
              "      <td>DNN</td>\n",
              "      <td>SFTMX1</td>\n",
              "      <td>/content/drive/MyDrive/data_papers/gpSVHN/model_features/DNN_A_52_20211003010408_features_SFTMX1_Validation_X.npy</td>\n",
              "      <td>0.805144</td>\n",
              "    </tr>\n",
              "    <tr>\n",
              "      <th>...</th>\n",
              "      <td>...</td>\n",
              "      <td>...</td>\n",
              "      <td>...</td>\n",
              "      <td>...</td>\n",
              "    </tr>\n",
              "    <tr>\n",
              "      <th>134</th>\n",
              "      <td>DNN</td>\n",
              "      <td>SFTMX1</td>\n",
              "      <td>/content/drive/MyDrive/data_papers/gpSVHN/model_features/DNN_A_40_20211003004626_features_SFTMX1_Validation_X.npy</td>\n",
              "      <td>0.067125</td>\n",
              "    </tr>\n",
              "    <tr>\n",
              "      <th>139</th>\n",
              "      <td>DNN</td>\n",
              "      <td>SFTMX1</td>\n",
              "      <td>/content/drive/MyDrive/data_papers/gpSVHN/model_features/DNN_A_45_20211003005229_features_SFTMX1_Validation_X.npy</td>\n",
              "      <td>0.044857</td>\n",
              "    </tr>\n",
              "    <tr>\n",
              "      <th>149</th>\n",
              "      <td>DNN</td>\n",
              "      <td>SFTMX1</td>\n",
              "      <td>/content/drive/MyDrive/data_papers/gpSVHN/model_features/DNN_A_54_20211003010623_features_SFTMX1_Validation_X.npy</td>\n",
              "      <td>0.054460</td>\n",
              "    </tr>\n",
              "    <tr>\n",
              "      <th>195</th>\n",
              "      <td>DNN</td>\n",
              "      <td>SFTMX1</td>\n",
              "      <td>/content/drive/MyDrive/data_papers/gpSVHN/model_features/DNN_A_96_20211003015928_features_SFTMX1_Validation_X.npy</td>\n",
              "      <td>0.091694</td>\n",
              "    </tr>\n",
              "    <tr>\n",
              "      <th>198</th>\n",
              "      <td>DNN</td>\n",
              "      <td>SFTMX1</td>\n",
              "      <td>/content/drive/MyDrive/data_papers/gpSVHN/model_features/DNN_A_99_20211003020209_features_SFTMX1_Validation_X.npy</td>\n",
              "      <td>0.047674</td>\n",
              "    </tr>\n",
              "  </tbody>\n",
              "</table>\n",
              "<p>200 rows × 4 columns</p>\n",
              "</div>"
            ],
            "text/plain": [
              "    Type   Layer                                                                                                                 f1      CCA1\n",
              "133  DNN  SFTMX1   /content/drive/MyDrive/data_papers/gpSVHN/model_features/DNN_A_3_20211002235817_features_SFTMX1_Validation_X.npy  0.775111\n",
              "179  DNN  SFTMX1  /content/drive/MyDrive/data_papers/gpSVHN/model_features/DNN_A_81_20211003013951_features_SFTMX1_Validation_X.npy  0.778604\n",
              "150  DNN  SFTMX1  /content/drive/MyDrive/data_papers/gpSVHN/model_features/DNN_A_55_20211003010650_features_SFTMX1_Validation_X.npy  0.802806\n",
              "104  DNN  SFTMX1  /content/drive/MyDrive/data_papers/gpSVHN/model_features/DNN_A_13_20211003001057_features_SFTMX1_Validation_X.npy  0.803798\n",
              "147  DNN  SFTMX1  /content/drive/MyDrive/data_papers/gpSVHN/model_features/DNN_A_52_20211003010408_features_SFTMX1_Validation_X.npy  0.805144\n",
              "..   ...     ...                                                                                                                ...       ...\n",
              "134  DNN  SFTMX1  /content/drive/MyDrive/data_papers/gpSVHN/model_features/DNN_A_40_20211003004626_features_SFTMX1_Validation_X.npy  0.067125\n",
              "139  DNN  SFTMX1  /content/drive/MyDrive/data_papers/gpSVHN/model_features/DNN_A_45_20211003005229_features_SFTMX1_Validation_X.npy  0.044857\n",
              "149  DNN  SFTMX1  /content/drive/MyDrive/data_papers/gpSVHN/model_features/DNN_A_54_20211003010623_features_SFTMX1_Validation_X.npy  0.054460\n",
              "195  DNN  SFTMX1  /content/drive/MyDrive/data_papers/gpSVHN/model_features/DNN_A_96_20211003015928_features_SFTMX1_Validation_X.npy  0.091694\n",
              "198  DNN  SFTMX1  /content/drive/MyDrive/data_papers/gpSVHN/model_features/DNN_A_99_20211003020209_features_SFTMX1_Validation_X.npy  0.047674\n",
              "\n",
              "[200 rows x 4 columns]"
            ]
          },
          "metadata": {},
          "execution_count": 126
        }
      ]
    },
    {
      "cell_type": "markdown",
      "metadata": {
        "id": "uLw5jkNprylq"
      },
      "source": [
        "# Data for Plot on Collaborative DNN softmax layers using CCA/PCA "
      ]
    },
    {
      "cell_type": "code",
      "metadata": {
        "id": "WYAa6Bd5ro78"
      },
      "source": [
        "collaborativeFullyC_softmax_using_CCA_data = None\n",
        "\n",
        "x_input = test_data_grey\n",
        "y_input = test_targets"
      ],
      "execution_count": null,
      "outputs": []
    },
    {
      "cell_type": "code",
      "metadata": {
        "id": "WBr8MZZqtcVy"
      },
      "source": [
        "# [f for f in dnn_features_files if \"DNN_A_3_20211002235817_features_SFTMX1\" in f]"
      ],
      "execution_count": null,
      "outputs": []
    },
    {
      "cell_type": "code",
      "metadata": {
        "colab": {
          "base_uri": "https://localhost:8080/"
        },
        "id": "dVitC_n-ro78",
        "outputId": "42a343ec-8ebd-4dc7-82a4-4bda7eb70aa5"
      },
      "source": [
        "# set up the data for the DNN collaborative on the softmax using the CCA data\n",
        "\n",
        "import random\n",
        "import datetime\n",
        "\n",
        "num_of_repeats = 1\n",
        "num_of_models = [2,3,4,5,6,8,10,12,14,16,18,20,25,30,35,40,45,50] \n",
        "layer_name_sfmx_dnn = \"SFTMX1\"\n",
        "\n",
        "idxCount = 0 if collaborativeFullyC_softmax_using_CCA_data is None else len(collaborativeFullyC_softmax_using_CCA_data.index)\n",
        "for repc in range(num_of_repeats):\n",
        "  for mc in num_of_models:\n",
        "    model_name = f\"Collab_{layer_name_sfmx_dnn}_DNNCCA_A_{datetime.datetime.now():%Y%m%d%H%M%S}\"\n",
        "    \n",
        "    val_files_used = dnn_avg_cca.loc[(dnn_avg_cca.Layer==layer_name_sfmx_dnn) & (dnn_avg_cca.Type==\"DNN\"),\"f1\"].head(mc)\n",
        "    matches_required = [ vf.split(\"model_features/\")[1].split(\"_Validation\")[0] for vf in val_files_used  ] \n",
        "    feature_files_considered = [ ff for ff in dnn_features_files if any([mu in ff for mu in matches_required]) ]\n",
        "    np_x_validation_collab_dnn_sftmx, np_y_train_collab_dnn_sftmx, np_x_test_collab_dnn_sftmx = get_features_from_multiple_models(feature_files_considered)\n",
        "\n",
        "    model_here, history_here = compile_and_fit_model_basic( model_combination_of_features,  \n",
        "                        model_name, \n",
        "                        np_y_train_collab_dnn_sftmx[0,:].shape, \n",
        "                        np_y_train_collab_dnn_sftmx, \n",
        "                        train_targets,\n",
        "                        save_max_epoch = False,\n",
        "                        save_final = True,\n",
        "                        patience_count = 35,\n",
        "                        early_stopping_obs = 'val_sparse_categorical_accuracy',\n",
        "                        log_history = True,\n",
        "                        verbose_level=0,                             \n",
        "                        batch_size=512, \n",
        "                        epochs=250, \n",
        "                        class_weight=None, \n",
        "                        validation_data=(np_x_validation_collab_dnn_sftmx, validation_targets))\n",
        "    del np_x_validation_collab_dnn_sftmx\n",
        "    del np_y_train_collab_dnn_sftmx\n",
        "    y_pred_model = model_here.predict(np_x_test_collab_dnn_sftmx)\n",
        "    del np_x_test_collab_dnn_sftmx\n",
        "    y_pred = np.apply_along_axis(np.argmax, 1, y_pred_model) \n",
        "    pr, rc, f1, acc = pr_rc_f1_acc_from_supplied(y_pred,test_targets)\n",
        "    print (mc, repc, pr, rc, f1, acc)\n",
        "    del model_here\n",
        "    del history_here\n",
        "    if collaborativeFullyC_softmax_using_CCA_data is None:\n",
        "      collaborativeFullyC_softmax_using_CCA_data = pd.DataFrame({\"Type\": \"DNN\", \n",
        "                                            \"Data\" : \"Test\",\n",
        "                                            \"NumOfModels\": mc, \n",
        "                                            \"RepC\": repc, \n",
        "                                            \"Pr\": pr,\n",
        "                                            \"Rc\": rc,\n",
        "                                            \"F1\": f1,\n",
        "                                            \"Acc\": acc,\n",
        "                                            \"Xtra\" : \"CCAmin\"\n",
        "                                            }, index = [idxCount])\n",
        "    else:\n",
        "      collaborativeFullyC_softmax_using_CCA_data = pd.concat([collaborativeFullyC_softmax_using_CCA_data,\n",
        "                                         pd.DataFrame({\"Type\": \"DNN\", \n",
        "                                            \"Data\" : \"Test\",\n",
        "                                            \"NumOfModels\": mc, \n",
        "                                            \"RepC\": repc, \n",
        "                                            \"Pr\": pr,\n",
        "                                            \"Rc\": rc,\n",
        "                                            \"F1\": f1,\n",
        "                                            \"Acc\": acc,\n",
        "                                            \"Xtra\" : \"CCAmin\"\n",
        "                                            }, index = [idxCount])\n",
        "                                         ])\n",
        "    idxCount = idxCount + 1\n",
        "    collaborativeFullyC_softmax_using_CCA_data.to_csv(f\"/content/drive/MyDrive/data_papers/{paper_name}/summary_results/temp/dnn_temp_Collab_ccaorder_sftmx_test_results_{datetime.datetime.now():%Y%m%d%H%M%S}.csv\")\n",
        "\n",
        "\n"
      ],
      "execution_count": null,
      "outputs": [
        {
          "output_type": "stream",
          "name": "stdout",
          "text": [
            "INFO:tensorflow:Assets written to: /content/drive/MyDrive/data_papers/gpSVHN/model_finals/Collab_SFTMX1_DNNCCA_A_20211122231456_saved_model_after_fit/assets\n",
            "2 0 0.8633348691149905 0.8634 0.863197184291237 0.8634\n",
            "INFO:tensorflow:Assets written to: /content/drive/MyDrive/data_papers/gpSVHN/model_finals/Collab_SFTMX1_DNNCCA_A_20211122231614_saved_model_after_fit/assets\n",
            "3 0 0.8775537285332526 0.8773666666666666 0.8772639635044347 0.8773666666666666\n",
            "INFO:tensorflow:Assets written to: /content/drive/MyDrive/data_papers/gpSVHN/model_finals/Collab_SFTMX1_DNNCCA_A_20211122231646_saved_model_after_fit/assets\n",
            "4 0 0.8873733417326491 0.8874333333333333 0.887204309339679 0.8874333333333333\n",
            "INFO:tensorflow:Assets written to: /content/drive/MyDrive/data_papers/gpSVHN/model_finals/Collab_SFTMX1_DNNCCA_A_20211122231731_saved_model_after_fit/assets\n",
            "5 0 0.8896590953934891 0.8895333333333333 0.8893183214323579 0.8895333333333333\n",
            "INFO:tensorflow:Assets written to: /content/drive/MyDrive/data_papers/gpSVHN/model_finals/Collab_SFTMX1_DNNCCA_A_20211122231821_saved_model_after_fit/assets\n",
            "6 0 0.8905795085280022 0.8907333333333334 0.8905334765684687 0.8907333333333334\n",
            "INFO:tensorflow:Assets written to: /content/drive/MyDrive/data_papers/gpSVHN/model_finals/Collab_SFTMX1_DNNCCA_A_20211122231857_saved_model_after_fit/assets\n",
            "8 0 0.8958346418982587 0.8959 0.8957518150031881 0.8959\n",
            "INFO:tensorflow:Assets written to: /content/drive/MyDrive/data_papers/gpSVHN/model_finals/Collab_SFTMX1_DNNCCA_A_20211122231942_saved_model_after_fit/assets\n",
            "10 0 0.8999052991383747 0.8999 0.899702683525585 0.8999\n",
            "INFO:tensorflow:Assets written to: /content/drive/MyDrive/data_papers/gpSVHN/model_finals/Collab_SFTMX1_DNNCCA_A_20211122232048_saved_model_after_fit/assets\n",
            "12 0 0.903008064020499 0.9025666666666666 0.9025589925709921 0.9025666666666666\n",
            "INFO:tensorflow:Assets written to: /content/drive/MyDrive/data_papers/gpSVHN/model_finals/Collab_SFTMX1_DNNCCA_A_20211122232128_saved_model_after_fit/assets\n",
            "14 0 0.9041767686674392 0.9041666666666667 0.9039737671137648 0.9041666666666667\n",
            "INFO:tensorflow:Assets written to: /content/drive/MyDrive/data_papers/gpSVHN/model_finals/Collab_SFTMX1_DNNCCA_A_20211122232242_saved_model_after_fit/assets\n",
            "16 0 0.9063344060402536 0.9061333333333333 0.905940706143174 0.9061333333333333\n",
            "INFO:tensorflow:Assets written to: /content/drive/MyDrive/data_papers/gpSVHN/model_finals/Collab_SFTMX1_DNNCCA_A_20211122232353_saved_model_after_fit/assets\n",
            "18 0 0.9074517976041352 0.9072666666666667 0.9071274961943857 0.9072666666666667\n",
            "INFO:tensorflow:Assets written to: /content/drive/MyDrive/data_papers/gpSVHN/model_finals/Collab_SFTMX1_DNNCCA_A_20211122232503_saved_model_after_fit/assets\n",
            "20 0 0.9072246872168945 0.9072 0.9069804459488965 0.9072\n",
            "INFO:tensorflow:Assets written to: /content/drive/MyDrive/data_papers/gpSVHN/model_finals/Collab_SFTMX1_DNNCCA_A_20211122232613_saved_model_after_fit/assets\n",
            "25 0 0.9081121527636987 0.9079 0.9077425761610597 0.9079\n",
            "INFO:tensorflow:Assets written to: /content/drive/MyDrive/data_papers/gpSVHN/model_finals/Collab_SFTMX1_DNNCCA_A_20211122232724_saved_model_after_fit/assets\n",
            "30 0 0.9078181240681537 0.9075666666666666 0.9074346354407935 0.9075666666666666\n",
            "INFO:tensorflow:Assets written to: /content/drive/MyDrive/data_papers/gpSVHN/model_finals/Collab_SFTMX1_DNNCCA_A_20211122232826_saved_model_after_fit/assets\n",
            "35 0 0.9091156242233671 0.9091333333333333 0.9089995101735875 0.9091333333333333\n",
            "INFO:tensorflow:Assets written to: /content/drive/MyDrive/data_papers/gpSVHN/model_finals/Collab_SFTMX1_DNNCCA_A_20211122232946_saved_model_after_fit/assets\n",
            "40 0 0.9103995061319023 0.9104333333333333 0.9103182618771517 0.9104333333333333\n",
            "INFO:tensorflow:Assets written to: /content/drive/MyDrive/data_papers/gpSVHN/model_finals/Collab_SFTMX1_DNNCCA_A_20211122233057_saved_model_after_fit/assets\n",
            "45 0 0.9087758957728844 0.9082666666666667 0.9082618883396271 0.9082666666666667\n",
            "INFO:tensorflow:Assets written to: /content/drive/MyDrive/data_papers/gpSVHN/model_finals/Collab_SFTMX1_DNNCCA_A_20211122233205_saved_model_after_fit/assets\n",
            "50 0 0.9108432130356101 0.9107 0.910708552924295 0.9107\n"
          ]
        }
      ]
    },
    {
      "cell_type": "code",
      "metadata": {
        "id": "hEyQeXSLro79"
      },
      "source": [
        "collaborativeFullyC_softmax_using_CCA_data.to_csv(f\"/content/drive/MyDrive/data_papers/{paper_name}/summary_results/dnn_collab_ccaorder_sftmx_test_results_{datetime.datetime.now():%Y%m%d%H%M%S}.csv\")\n",
        "\n"
      ],
      "execution_count": null,
      "outputs": []
    },
    {
      "cell_type": "markdown",
      "metadata": {
        "id": "Ul_SqJXjz_s9"
      },
      "source": [
        "# Data for Plot on Collaborative CNN softmax layers"
      ]
    },
    {
      "cell_type": "code",
      "metadata": {
        "id": "pdqqNRyFz_s9"
      },
      "source": [
        "# carry this over from DNN if possible (so keep commented out)\n",
        "## collaborativeFullyC_softmax_data = None"
      ],
      "execution_count": null,
      "outputs": []
    },
    {
      "cell_type": "code",
      "metadata": {
        "colab": {
          "base_uri": "https://localhost:8080/"
        },
        "id": "BhDBg50vz_s9",
        "outputId": "9ab52aa2-112f-4746-ff08-71b6f1342a42"
      },
      "source": [
        "# set up the data for the CNN collaborative\n",
        "\n",
        "import random\n",
        "import datetime\n",
        "\n",
        "num_of_repeats = 4\n",
        "num_of_models = [22,25,30,35,40,50]  # [2,3,4,5,6,8,10,12,14,16,18,20]\n",
        "layer_name_sfmx_cnn = \"SFTMX1\"\n",
        "\n",
        "# layer_name_sftmx_cnn = \"SFTMX1\"\n",
        "# layer_name_sftmx_wideresnets = \"CLASSIFIER_D1\"\n",
        "\n",
        "idxCount = 0 if collaborativeFullyC_softmax_data is None else len(collaborativeFullyC_softmax_data.index)\n",
        "for repc in range(num_of_repeats):\n",
        "  for mc in num_of_models:\n",
        "    model_name = f\"Collab_{layer_name_sfmx_cnn}_CNN_A_{datetime.datetime.now():%Y%m%d%H%M%S}\"\n",
        "    np_x_validation_collab_cnn_sftmx, np_y_train_collab_cnn_sftmx, np_x_test_collab_cnn_sftmx = get_features_for_layer(cnn_features_files, layer_name_sfmx_cnn, mc)\n",
        "    model_here, history_here = compile_and_fit_model_basic( model_combination_of_features,  \n",
        "                        model_name, \n",
        "                        np_y_train_collab_cnn_sftmx[0,:].shape, \n",
        "                        np_y_train_collab_cnn_sftmx, \n",
        "                        train_targets,\n",
        "                        save_max_epoch = False,\n",
        "                        save_final = True,\n",
        "                        patience_count = 35,\n",
        "                        early_stopping_obs = 'val_sparse_categorical_accuracy',\n",
        "                        log_history = True,\n",
        "                        verbose_level=0,                             \n",
        "                        batch_size=512, \n",
        "                        epochs=250, \n",
        "                        class_weight=None, \n",
        "                        validation_data=(np_x_validation_collab_cnn_sftmx, validation_targets))\n",
        "    del np_x_validation_collab_cnn_sftmx\n",
        "    del np_y_train_collab_cnn_sftmx\n",
        "    y_pred_model = model_here.predict(np_x_test_collab_cnn_sftmx)\n",
        "    del np_x_test_collab_cnn_sftmx\n",
        "    y_pred = np.apply_along_axis(np.argmax, 1, y_pred_model) \n",
        "    pr, rc, f1, acc = pr_rc_f1_acc_from_supplied(y_pred,test_targets)\n",
        "    print (mc, repc, pr, rc, f1, acc)\n",
        "    del model_here\n",
        "    del history_here\n",
        "    if collaborativeFullyC_softmax_data is None:\n",
        "      collaborativeFullyC_softmax_data = pd.DataFrame({\"Type\": \"CNN\", \n",
        "                                            \"Data\" : \"Test\",\n",
        "                                            \"NumOfModels\": mc, \n",
        "                                            \"RepC\": repc, \n",
        "                                            \"Pr\": pr,\n",
        "                                            \"Rc\": rc,\n",
        "                                            \"F1\": f1,\n",
        "                                            \"Acc\": acc,\n",
        "                                            }, index = [idxCount])\n",
        "    else:\n",
        "      collaborativeFullyC_softmax_data = pd.concat([collaborativeFullyC_softmax_data,\n",
        "                                         pd.DataFrame({\"Type\": \"CNN\", \n",
        "                                            \"Data\" : \"Test\",\n",
        "                                            \"NumOfModels\": mc, \n",
        "                                            \"RepC\": repc, \n",
        "                                            \"Pr\": pr,\n",
        "                                            \"Rc\": rc,\n",
        "                                            \"F1\": f1,\n",
        "                                            \"Acc\": acc\n",
        "                                            }, index = [idxCount])\n",
        "                                         ])\n",
        "    idxCount = idxCount + 1\n",
        "\n",
        "\n",
        "\n"
      ],
      "execution_count": null,
      "outputs": [
        {
          "output_type": "stream",
          "name": "stdout",
          "text": [
            "INFO:tensorflow:Assets written to: /content/drive/MyDrive/data_papers/gpSVHN/model_finals/Collab_SFTMX1_CNN_A_20211119174636_saved_model_after_fit/assets\n",
            "22 0 0.9660474448008166 0.9659666666666666 0.9659461295862567 0.9659666666666666\n",
            "INFO:tensorflow:Assets written to: /content/drive/MyDrive/data_papers/gpSVHN/model_finals/Collab_SFTMX1_CNN_A_20211119174816_saved_model_after_fit/assets\n",
            "25 0 0.96577277106326 0.9656333333333333 0.9656068599767321 0.9656333333333333\n",
            "INFO:tensorflow:Assets written to: /content/drive/MyDrive/data_papers/gpSVHN/model_finals/Collab_SFTMX1_CNN_A_20211119174945_saved_model_after_fit/assets\n",
            "30 0 0.9667104810002016 0.9666333333333333 0.9666123132681674 0.9666333333333333\n",
            "INFO:tensorflow:Assets written to: /content/drive/MyDrive/data_papers/gpSVHN/model_finals/Collab_SFTMX1_CNN_A_20211119175109_saved_model_after_fit/assets\n",
            "35 0 0.967242977187077 0.9671666666666666 0.9671511863521277 0.9671666666666666\n",
            "INFO:tensorflow:Assets written to: /content/drive/MyDrive/data_papers/gpSVHN/model_finals/Collab_SFTMX1_CNN_A_20211119175235_saved_model_after_fit/assets\n",
            "40 0 0.9671971166465012 0.9671333333333333 0.9671060920036855 0.9671333333333333\n",
            "INFO:tensorflow:Assets written to: /content/drive/MyDrive/data_papers/gpSVHN/model_finals/Collab_SFTMX1_CNN_A_20211119175344_saved_model_after_fit/assets\n",
            "50 0 0.9673700712963226 0.9673 0.9672867007270787 0.9673\n",
            "INFO:tensorflow:Assets written to: /content/drive/MyDrive/data_papers/gpSVHN/model_finals/Collab_SFTMX1_CNN_A_20211119175421_saved_model_after_fit/assets\n",
            "22 1 0.9659215295895333 0.9658333333333333 0.965817248147533 0.9658333333333333\n",
            "INFO:tensorflow:Assets written to: /content/drive/MyDrive/data_papers/gpSVHN/model_finals/Collab_SFTMX1_CNN_A_20211119175456_saved_model_after_fit/assets\n",
            "25 1 0.9656419832366 0.9655333333333334 0.9655185431275414 0.9655333333333334\n",
            "INFO:tensorflow:Assets written to: /content/drive/MyDrive/data_papers/gpSVHN/model_finals/Collab_SFTMX1_CNN_A_20211119175549_saved_model_after_fit/assets\n",
            "30 1 0.9669009355500787 0.9667666666666667 0.9667542326642539 0.9667666666666667\n",
            "INFO:tensorflow:Assets written to: /content/drive/MyDrive/data_papers/gpSVHN/model_finals/Collab_SFTMX1_CNN_A_20211119175621_saved_model_after_fit/assets\n",
            "35 1 0.9667827276323638 0.9667 0.9666790318216355 0.9667\n",
            "INFO:tensorflow:Assets written to: /content/drive/MyDrive/data_papers/gpSVHN/model_finals/Collab_SFTMX1_CNN_A_20211119175705_saved_model_after_fit/assets\n",
            "40 1 0.966603999881198 0.9664 0.9663829356263121 0.9664\n",
            "INFO:tensorflow:Assets written to: /content/drive/MyDrive/data_papers/gpSVHN/model_finals/Collab_SFTMX1_CNN_A_20211119175808_saved_model_after_fit/assets\n",
            "50 1 0.9672108550412103 0.9671333333333333 0.9671173944034934 0.9671333333333333\n",
            "INFO:tensorflow:Assets written to: /content/drive/MyDrive/data_papers/gpSVHN/model_finals/Collab_SFTMX1_CNN_A_20211119175850_saved_model_after_fit/assets\n",
            "22 2 0.9663312717267765 0.9662333333333334 0.9662171752041044 0.9662333333333334\n",
            "INFO:tensorflow:Assets written to: /content/drive/MyDrive/data_papers/gpSVHN/model_finals/Collab_SFTMX1_CNN_A_20211119175943_saved_model_after_fit/assets\n",
            "25 2 0.9660307121199284 0.9659 0.965888145020275 0.9659\n",
            "INFO:tensorflow:Assets written to: /content/drive/MyDrive/data_papers/gpSVHN/model_finals/Collab_SFTMX1_CNN_A_20211119180031_saved_model_after_fit/assets\n",
            "30 2 0.9663713918515989 0.9663 0.966282883947031 0.9663\n",
            "INFO:tensorflow:Assets written to: /content/drive/MyDrive/data_papers/gpSVHN/model_finals/Collab_SFTMX1_CNN_A_20211119180100_saved_model_after_fit/assets\n",
            "35 2 0.9662996376992636 0.9662 0.9661723134801916 0.9662\n",
            "INFO:tensorflow:Assets written to: /content/drive/MyDrive/data_papers/gpSVHN/model_finals/Collab_SFTMX1_CNN_A_20211119180132_saved_model_after_fit/assets\n",
            "40 2 0.9664666880711932 0.9664 0.966379743753428 0.9664\n",
            "INFO:tensorflow:Assets written to: /content/drive/MyDrive/data_papers/gpSVHN/model_finals/Collab_SFTMX1_CNN_A_20211119180208_saved_model_after_fit/assets\n",
            "50 2 0.966436532793891 0.9663 0.9662842707697886 0.9663\n",
            "INFO:tensorflow:Assets written to: /content/drive/MyDrive/data_papers/gpSVHN/model_finals/Collab_SFTMX1_CNN_A_20211119180254_saved_model_after_fit/assets\n",
            "22 3 0.9661826068198965 0.9661 0.9660819396428169 0.9661\n",
            "INFO:tensorflow:Assets written to: /content/drive/MyDrive/data_papers/gpSVHN/model_finals/Collab_SFTMX1_CNN_A_20211119180327_saved_model_after_fit/assets\n",
            "25 3 0.9659706665569469 0.9658 0.9657898790298025 0.9658\n",
            "INFO:tensorflow:Assets written to: /content/drive/MyDrive/data_papers/gpSVHN/model_finals/Collab_SFTMX1_CNN_A_20211119180353_saved_model_after_fit/assets\n",
            "30 3 0.9668292531601347 0.9667333333333333 0.9667235566675535 0.9667333333333333\n",
            "INFO:tensorflow:Assets written to: /content/drive/MyDrive/data_papers/gpSVHN/model_finals/Collab_SFTMX1_CNN_A_20211119180419_saved_model_after_fit/assets\n",
            "35 3 0.9668457610230446 0.9667666666666667 0.9667522693591359 0.9667666666666667\n",
            "INFO:tensorflow:Assets written to: /content/drive/MyDrive/data_papers/gpSVHN/model_finals/Collab_SFTMX1_CNN_A_20211119180500_saved_model_after_fit/assets\n",
            "40 3 0.9667137645563463 0.9666333333333333 0.9666109094570665 0.9666333333333333\n",
            "INFO:tensorflow:Assets written to: /content/drive/MyDrive/data_papers/gpSVHN/model_finals/Collab_SFTMX1_CNN_A_20211119180543_saved_model_after_fit/assets\n",
            "50 3 0.967613656239045 0.9675333333333334 0.9675130210642481 0.9675333333333334\n"
          ]
        }
      ]
    },
    {
      "cell_type": "code",
      "metadata": {
        "id": "Xl-IjQYV2-3Q"
      },
      "source": [
        "collaborativeFullyC_softmax_data.to_csv(f\"/content/drive/MyDrive/data_papers/{paper_name}/summary_results/cnn_collab_test_results_{datetime.datetime.now():%Y%m%d%H%M%S}.csv\")\n"
      ],
      "execution_count": null,
      "outputs": []
    },
    {
      "cell_type": "markdown",
      "metadata": {
        "id": "Zv4uI-Rf_P4R"
      },
      "source": [
        "# Data for Plot on Collaborative CNN softmax layers using CCA/PCA "
      ]
    },
    {
      "cell_type": "code",
      "metadata": {
        "id": "QthquvcK_P4R"
      },
      "source": [
        "collaborativeCNN_softmax_using_CCA_data = None\n",
        "\n",
        "x_input = test_data_grey\n",
        "y_input = test_targets"
      ],
      "execution_count": null,
      "outputs": []
    },
    {
      "cell_type": "code",
      "metadata": {
        "id": "ESk9xrs1_P4R"
      },
      "source": [
        "# [f for f in dnn_features_files if \"DNN_A_3_20211002235817_features_SFTMX1\" in f]"
      ],
      "execution_count": null,
      "outputs": []
    },
    {
      "cell_type": "code",
      "metadata": {
        "colab": {
          "base_uri": "https://localhost:8080/"
        },
        "id": "itBFK4Kk_P4R",
        "outputId": "e4f58140-4ac2-47be-c559-aa1e4e7c2987"
      },
      "source": [
        "# set up the data for the DNN collaborative on the softmax using the CCA data\n",
        "\n",
        "import random\n",
        "import datetime\n",
        "\n",
        "num_of_repeats = 1\n",
        "num_of_models = [2,3,4,5,6,8,10,12,14,16,18,20,25,30,35,40] \n",
        "layer_name_sfmx_cnn = \"SFTMX1\"\n",
        "\n",
        "idxCount = 0 if collaborativeCNN_softmax_using_CCA_data is None else len(collaborativeCNN_softmax_using_CCA_data.index)\n",
        "for repc in range(num_of_repeats):\n",
        "  for mc in num_of_models:\n",
        "    model_name = f\"Collab_{layer_name_sfmx_cnn}_CNNCCA_A_{datetime.datetime.now():%Y%m%d%H%M%S}\"\n",
        "    \n",
        "    val_files_used = cnn_avg_cca.loc[(cnn_avg_cca.Layer==layer_name_sfmx_cnn) & (cnn_avg_cca.Type==\"CNN\"),\"f1\"].head(mc)\n",
        "    matches_required = [ vf.split(\"model_features/\")[1].split(\"_Validation\")[0] for vf in val_files_used  ] \n",
        "    feature_files_considered = [ ff for ff in cnn_features_files if any([mu in ff for mu in matches_required]) ]\n",
        "    np_x_validation_collab_cnn_sftmx, np_y_train_collab_cnn_sftmx, np_x_test_collab_cnn_sftmx = get_features_from_multiple_models(feature_files_considered)\n",
        "\n",
        "    model_here, history_here = compile_and_fit_model_basic( model_combination_of_features,  \n",
        "                        model_name, \n",
        "                        np_y_train_collab_cnn_sftmx[0,:].shape, \n",
        "                        np_y_train_collab_cnn_sftmx, \n",
        "                        train_targets,\n",
        "                        save_max_epoch = False,\n",
        "                        save_final = True,\n",
        "                        patience_count = 35,\n",
        "                        early_stopping_obs = 'val_sparse_categorical_accuracy',\n",
        "                        log_history = True,\n",
        "                        verbose_level=0,                             \n",
        "                        batch_size=512, \n",
        "                        epochs=250, \n",
        "                        class_weight=None, \n",
        "                        validation_data=(np_x_validation_collab_cnn_sftmx, validation_targets))\n",
        "    del np_x_validation_collab_cnn_sftmx\n",
        "    del np_y_train_collab_cnn_sftmx\n",
        "    y_pred_model = model_here.predict(np_x_test_collab_cnn_sftmx)\n",
        "    del np_x_test_collab_cnn_sftmx\n",
        "    y_pred = np.apply_along_axis(np.argmax, 1, y_pred_model) \n",
        "    pr, rc, f1, acc = pr_rc_f1_acc_from_supplied(y_pred,test_targets)\n",
        "    print (mc, repc, pr, rc, f1, acc)\n",
        "    del model_here\n",
        "    del history_here\n",
        "    if collaborativeCNN_softmax_using_CCA_data is None:\n",
        "      collaborativeCNN_softmax_using_CCA_data = pd.DataFrame({\"Type\": \"CNN\", \n",
        "                                            \"Data\" : \"Test\",\n",
        "                                            \"NumOfModels\": mc, \n",
        "                                            \"RepC\": repc, \n",
        "                                            \"Pr\": pr,\n",
        "                                            \"Rc\": rc,\n",
        "                                            \"F1\": f1,\n",
        "                                            \"Acc\": acc,\n",
        "                                            \"Xtra\" : \"CCAmin\"\n",
        "                                            }, index = [idxCount])\n",
        "    else:\n",
        "      collaborativeCNN_softmax_using_CCA_data = pd.concat([collaborativeCNN_softmax_using_CCA_data,\n",
        "                                         pd.DataFrame({\"Type\": \"CNN\", \n",
        "                                            \"Data\" : \"Test\",\n",
        "                                            \"NumOfModels\": mc, \n",
        "                                            \"RepC\": repc, \n",
        "                                            \"Pr\": pr,\n",
        "                                            \"Rc\": rc,\n",
        "                                            \"F1\": f1,\n",
        "                                            \"Acc\": acc,\n",
        "                                            \"Xtra\" : \"CCAmin\"\n",
        "                                            }, index = [idxCount])\n",
        "                                         ])\n",
        "    idxCount = idxCount + 1\n",
        "    collaborativeCNN_softmax_using_CCA_data.to_csv(f\"/content/drive/MyDrive/data_papers/{paper_name}/summary_results/temp/cnn_temp_Collab_ccaorder_sftmx_test_results_{datetime.datetime.now():%Y%m%d%H%M%S}.csv\")\n",
        "\n",
        "\n"
      ],
      "execution_count": null,
      "outputs": [
        {
          "output_type": "stream",
          "name": "stdout",
          "text": [
            "INFO:tensorflow:Assets written to: /content/drive/MyDrive/data_papers/gpSVHN/model_finals/Collab_SFTMX1_CNNCCA_A_20211122234847_saved_model_after_fit/assets\n",
            "2 0 0.9481910259839976 0.9481666666666667 0.9480906545140284 0.9481666666666667\n",
            "INFO:tensorflow:Assets written to: /content/drive/MyDrive/data_papers/gpSVHN/model_finals/Collab_SFTMX1_CNNCCA_A_20211122234914_saved_model_after_fit/assets\n",
            "3 0 0.9566794661167913 0.9566 0.9565479677170629 0.9566\n",
            "INFO:tensorflow:Assets written to: /content/drive/MyDrive/data_papers/gpSVHN/model_finals/Collab_SFTMX1_CNNCCA_A_20211122234946_saved_model_after_fit/assets\n",
            "4 0 0.9580238612798352 0.9579666666666666 0.9579179498653994 0.9579666666666666\n",
            "INFO:tensorflow:Assets written to: /content/drive/MyDrive/data_papers/gpSVHN/model_finals/Collab_SFTMX1_CNNCCA_A_20211122235020_saved_model_after_fit/assets\n",
            "5 0 0.9591764652541193 0.9590666666666666 0.9590386558010238 0.9590666666666666\n",
            "INFO:tensorflow:Assets written to: /content/drive/MyDrive/data_papers/gpSVHN/model_finals/Collab_SFTMX1_CNNCCA_A_20211122235051_saved_model_after_fit/assets\n",
            "6 0 0.9603647666084612 0.9603 0.9602663770882512 0.9603\n",
            "INFO:tensorflow:Assets written to: /content/drive/MyDrive/data_papers/gpSVHN/model_finals/Collab_SFTMX1_CNNCCA_A_20211122235150_saved_model_after_fit/assets\n",
            "8 0 0.9630694202784886 0.9629333333333333 0.9629085953750252 0.9629333333333333\n",
            "INFO:tensorflow:Assets written to: /content/drive/MyDrive/data_papers/gpSVHN/model_finals/Collab_SFTMX1_CNNCCA_A_20211122235226_saved_model_after_fit/assets\n",
            "10 0 0.9637678246315938 0.9637 0.9636682505366381 0.9637\n",
            "INFO:tensorflow:Assets written to: /content/drive/MyDrive/data_papers/gpSVHN/model_finals/Collab_SFTMX1_CNNCCA_A_20211122235304_saved_model_after_fit/assets\n",
            "12 0 0.9646468748472248 0.9646 0.9645730660497852 0.9646\n",
            "INFO:tensorflow:Assets written to: /content/drive/MyDrive/data_papers/gpSVHN/model_finals/Collab_SFTMX1_CNNCCA_A_20211122235336_saved_model_after_fit/assets\n",
            "14 0 0.9647552085992424 0.9646333333333333 0.9646145445807449 0.9646333333333333\n",
            "INFO:tensorflow:Assets written to: /content/drive/MyDrive/data_papers/gpSVHN/model_finals/Collab_SFTMX1_CNNCCA_A_20211122235415_saved_model_after_fit/assets\n",
            "16 0 0.9657651300287089 0.9656666666666667 0.9656488904506796 0.9656666666666667\n",
            "INFO:tensorflow:Assets written to: /content/drive/MyDrive/data_papers/gpSVHN/model_finals/Collab_SFTMX1_CNNCCA_A_20211122235446_saved_model_after_fit/assets\n",
            "18 0 0.9650591948891225 0.9649666666666666 0.9649487671640367 0.9649666666666666\n",
            "INFO:tensorflow:Assets written to: /content/drive/MyDrive/data_papers/gpSVHN/model_finals/Collab_SFTMX1_CNNCCA_A_20211122235547_saved_model_after_fit/assets\n",
            "20 0 0.9660460708893033 0.9659333333333333 0.9659242364325626 0.9659333333333333\n",
            "INFO:tensorflow:Assets written to: /content/drive/MyDrive/data_papers/gpSVHN/model_finals/Collab_SFTMX1_CNNCCA_A_20211122235645_saved_model_after_fit/assets\n",
            "25 0 0.9658915218864833 0.9658 0.9657794533715235 0.9658\n",
            "INFO:tensorflow:Assets written to: /content/drive/MyDrive/data_papers/gpSVHN/model_finals/Collab_SFTMX1_CNNCCA_A_20211122235728_saved_model_after_fit/assets\n",
            "30 0 0.9663575553094638 0.9662666666666667 0.9662563945091632 0.9662666666666667\n",
            "INFO:tensorflow:Assets written to: /content/drive/MyDrive/data_papers/gpSVHN/model_finals/Collab_SFTMX1_CNNCCA_A_20211122235809_saved_model_after_fit/assets\n",
            "35 0 0.9666264765323551 0.9665333333333334 0.9665156043698946 0.9665333333333334\n",
            "INFO:tensorflow:Assets written to: /content/drive/MyDrive/data_papers/gpSVHN/model_finals/Collab_SFTMX1_CNNCCA_A_20211122235858_saved_model_after_fit/assets\n",
            "40 0 0.9659006336330402 0.9657333333333333 0.9657293907577015 0.9657333333333333\n"
          ]
        }
      ]
    },
    {
      "cell_type": "code",
      "metadata": {
        "id": "b7WJ_0_M_P4S"
      },
      "source": [
        "collaborativeCNN_softmax_using_CCA_data.to_csv(f\"/content/drive/MyDrive/data_papers/{paper_name}/summary_results/cnn_collab_ccaorder_sftmx_test_results_{datetime.datetime.now():%Y%m%d%H%M%S}.csv\")\n",
        "\n"
      ],
      "execution_count": null,
      "outputs": []
    },
    {
      "cell_type": "markdown",
      "metadata": {
        "id": "pfPdlux63Hqa"
      },
      "source": [
        "# Data for Plot on Collaborative WideResNet softmax layers"
      ]
    },
    {
      "cell_type": "code",
      "metadata": {
        "id": "BaKSB7u93Hqa"
      },
      "source": [
        "# carry this over from DNN/CNN if possible (so keep commented out)\n",
        "## collaborativeFullyC_softmax_data = None\n",
        "\n",
        "# wideresnets_features_files\n",
        "# cnn_features_files\n"
      ],
      "execution_count": null,
      "outputs": []
    },
    {
      "cell_type": "code",
      "metadata": {
        "id": "RrUkssLPG2yb"
      },
      "source": [
        "import random\n",
        "import re\n",
        "\n",
        "def get_base_patterns_for_validation(features_files, layer_name = \"CLASSIFIER_D1\", model_type = \"WideResNet\"):\n",
        "  base_patterns_for_validations = []\n",
        "  for ff in [ s for s in features_files if \"Validation\" in s]:\n",
        "    validation_search = re.search(f'^.*({model_type}.*_ID.*features_{layer_name}_Validation)[0-9]+.*$', ff, re.IGNORECASE)\n",
        "    if validation_search:\n",
        "        base_patterns_for_validations.append(validation_search.group(1))\n",
        "\n",
        "  base_patterns_for_validations = sorted(list(set(base_patterns_for_validations)))\n",
        "  return base_patterns_for_validations\n",
        "\n"
      ],
      "execution_count": null,
      "outputs": []
    },
    {
      "cell_type": "code",
      "metadata": {
        "id": "_lRcoa4qG2yc"
      },
      "source": [
        "def get_features_for_layer_using_subbatches(feature_files, layer_name, num_of_models, model_type=\"WideResNet\", axis_to_concat = 1):\n",
        " \n",
        "  feature_files_used = [ff for ff in feature_files if \"Validation\" in ff and \"_X\" in ff and f\"_{layer_name}_\" in ff ]\n",
        "  \n",
        "  # base_patterns_for_validations = []\n",
        "  # for ff in [ s for s in feature_files_used ]:\n",
        "  #   validation_search = re.search(f'^.*(_ID.*features_{layer_name}_Validation)[0-9]+.*$', ff, re.IGNORECASE)\n",
        "  #   if validation_search:\n",
        "  #       base_patterns_for_validations.append(validation_search.group(1))\n",
        "  # base_patterns_for_validations = sorted(list(set(base_patterns_for_validations)))\n",
        "\n",
        "  base_patterns_for_validations = get_base_patterns_for_validation(feature_files_used, layer_name, model_type)\n",
        "  base_patterns_for_validations = sorted(random.sample(base_patterns_for_validations, min(num_of_models,len(base_patterns_for_validations)) ))\n",
        "\n",
        "  np_x_validation_collab = None\n",
        "  for base_val_str in base_patterns_for_validations:\n",
        "      validation_batch_files = sorted([ ff for ff in feature_files_used if base_val_str in ff])\n",
        "      np_x_validation_collab_batch = np.array([np.load(ff) for ff in validation_batch_files])\n",
        "      np_x_validation_collab_batch = np.concatenate(np_x_validation_collab_batch, axis=0)\n",
        "      if np_x_validation_collab is None:\n",
        "        np_x_validation_collab = np_x_validation_collab_batch.copy()\n",
        "      else:\n",
        "        np_x_validation_collab = np.concatenate([np_x_validation_collab, np_x_validation_collab_batch], axis=axis_to_concat)\n",
        "  \n",
        "  np_x_test_collab = None\n",
        "  for base_val_str in [ ff.replace(\"Validation\",\"Test\") for ff in base_patterns_for_validations]:\n",
        "      test_batch_files = dir_has_file_with_regex(f\"/content/drive/MyDrive/data_papers/{paper_name}/model_features\",f\".*{base_val_str}.*_X.*$\")\n",
        "      np_x_test_collab_batch = np.array([np.load(ff) for ff in test_batch_files])\n",
        "      np_x_test_collab_batch = np.concatenate(np_x_test_collab_batch, axis=0)\n",
        "      if np_x_test_collab is None:\n",
        "        np_x_test_collab = np_x_test_collab_batch.copy()\n",
        "      else:\n",
        "        np_x_test_collab = np.concatenate([np_x_test_collab, np_x_test_collab_batch], axis=axis_to_concat)\n",
        "\n",
        "  np_x_train_collab = None\n",
        "  for base_val_str in [ ff.replace(\"Validation\",\"Train\") for ff in base_patterns_for_validations]:\n",
        "      train_batch_files = dir_has_file_with_regex(f\"/content/drive/MyDrive/data_papers/{paper_name}/model_features\",f\".*{base_val_str}.*_X.*$\")\n",
        "      np_x_train_collab_batch = np.array([np.load(ff) for ff in train_batch_files])\n",
        "      np_x_train_collab_batch = np.concatenate(np_x_train_collab_batch, axis=0)\n",
        "      if np_x_train_collab is None:\n",
        "        np_x_train_collab = np_x_train_collab_batch.copy()\n",
        "      else:\n",
        "        np_x_train_collab = np.concatenate([np_x_train_collab, np_x_train_collab_batch], axis=axis_to_concat)\n",
        "\n",
        "  return np_x_validation_collab, np_x_train_collab, np_x_test_collab"
      ],
      "execution_count": null,
      "outputs": []
    },
    {
      "cell_type": "code",
      "metadata": {
        "id": "mgc3WW_Y3Hqa"
      },
      "source": [
        "# set up the data for the WideResNet collaborative\n",
        "\n",
        "import random\n",
        "import datetime\n",
        "\n",
        "num_of_repeats = 4\n",
        "num_of_models = [1,2,3,4,5,6,7,8,9,10]\n",
        "layer_name_sftmx_wideresnets = \"CLASSIFIER_D1\"\n",
        "model_type = \"WideResNet\"\n",
        "\n",
        "idxCount = 0 if collaborativeFullyC_softmax_data is None else len(collaborativeFullyC_softmax_data.index)\n",
        "for repc in range(num_of_repeats):\n",
        "  for mc in num_of_models:\n",
        "    model_name = f\"Collab_{layer_name_sftmx_wideresnets}_WideResNet_A_{datetime.datetime.now():%Y%m%d%H%M%S}\"\n",
        "    np_x_validation_collab_wideresnets_sftmx, np_y_train_collab_wideresnets_sftmx, np_x_test_collab_wideresnets_sftmx = get_features_for_layer_using_subbatches(wideresnets_features_files,layer_name_sftmx_wideresnets,mc,model_type )\n",
        "    model_here, history_here = compile_and_fit_model_basic( model_combination_of_features,  \n",
        "                        model_name, \n",
        "                        np_y_train_collab_wideresnets_sftmx[0,:].shape, \n",
        "                        np_y_train_collab_wideresnets_sftmx, \n",
        "                        train_targets,\n",
        "                        save_max_epoch = False,\n",
        "                        save_final = True,\n",
        "                        patience_count = 35,\n",
        "                        early_stopping_obs = 'val_sparse_categorical_accuracy',\n",
        "                        log_history = True,\n",
        "                        verbose_level=0,                             \n",
        "                        batch_size=512, \n",
        "                        epochs=250, \n",
        "                        class_weight=None, \n",
        "                        validation_data=(np_x_validation_collab_wideresnets_sftmx, validation_targets))\n",
        "    del np_x_validation_collab_wideresnets_sftmx\n",
        "    del np_y_train_collab_wideresnets_sftmx\n",
        "    y_pred_model = model_here.predict(np_x_test_collab_wideresnets_sftmx)\n",
        "    del np_x_test_collab_wideresnets_sftmx\n",
        "    y_pred = np.apply_along_axis(np.argmax, 1, y_pred_model) \n",
        "    pr, rc, f1, acc = pr_rc_f1_acc_from_supplied(y_pred,test_targets)\n",
        "    print (mc, repc, pr, rc, f1, acc)\n",
        "    del model_here\n",
        "    del history_here\n",
        "    if collaborativeFullyC_softmax_data is None:\n",
        "      collaborativeFullyC_softmax_data = pd.DataFrame({\"Type\": \"WideResNet\", \n",
        "                                            \"Data\" : \"Test\",\n",
        "                                            \"NumOfModels\": mc, \n",
        "                                            \"RepC\": repc, \n",
        "                                            \"Pr\": pr,\n",
        "                                            \"Rc\": rc,\n",
        "                                            \"F1\": f1,\n",
        "                                            \"Acc\": acc,\n",
        "                                            }, index = [idxCount])\n",
        "    else:\n",
        "      collaborativeFullyC_softmax_data = pd.concat([collaborativeFullyC_softmax_data,\n",
        "                                         pd.DataFrame({\"Type\": \"WideResNet\", \n",
        "                                            \"Data\" : \"Test\",\n",
        "                                            \"NumOfModels\": mc, \n",
        "                                            \"RepC\": repc, \n",
        "                                            \"Pr\": pr,\n",
        "                                            \"Rc\": rc,\n",
        "                                            \"F1\": f1,\n",
        "                                            \"Acc\": acc\n",
        "                                            }, index = [idxCount])\n",
        "                                         ])\n",
        "    idxCount = idxCount + 1\n",
        "\n",
        "\n",
        "# np_x_validation_collab_wideresnets, np_x_train_collab_wideresnets, np_x_test_collab_wideresnets =  get_features_for_layer_using_subbatches(wideresnets_features_files,layer_name,num_of_models,model_type )\n",
        "# wrsftmx, wrsftmxh = compile_and_fit_model_basic( model_combination_of_features,  \n",
        "#                     f\"Collab_{layer_name}_WideResnet28-10_A_{datetime.datetime.now():%Y%m%d%H%M%S}\", \n",
        "#                     np_x_train_collab_wideresnets[0,:].shape, \n",
        "#                     np_x_train_collab_wideresnets, \n",
        "#                     train_targets,\n",
        "#                     save_max_epoch=False,\n",
        "#                     save_final=True,\n",
        "#                     patience_count = 35,\n",
        "#                     early_stopping_obs = 'val_sparse_categorical_accuracy',\n",
        "#                     log_history = True,\n",
        "#                     verbose_level=1,                             \n",
        "#                     batch_size=512, \n",
        "#                     epochs=250, \n",
        "#                     class_weight=None, \n",
        "#                     validation_data=(np_x_validation_collab_wideresnets, validation_targets))\n",
        "\n"
      ],
      "execution_count": null,
      "outputs": []
    },
    {
      "cell_type": "code",
      "metadata": {
        "id": "-pu-2cp23Hqb"
      },
      "source": [
        "collaborativeFullyC_softmax_data.to_csv(f\"/content/drive/MyDrive/data_papers/{paper_name}/summary_results/wideresnet_collab_test_results_{datetime.datetime.now():%Y%m%d%H%M%S}.csv\")\n"
      ],
      "execution_count": null,
      "outputs": []
    },
    {
      "cell_type": "markdown",
      "metadata": {
        "id": "qSwgurq54dx7"
      },
      "source": [
        "# Data for Contour Plot on Collaborative CNN/WideResNet softmax layers"
      ]
    },
    {
      "cell_type": "code",
      "metadata": {
        "id": "bnWPbCsx4dx8"
      },
      "source": [
        "import random\n",
        "import re\n",
        "\n",
        "def get_base_patterns_for_validation(features_files, layer_name = \"CLASSIFIER_D1\", model_type = \"WideResNet\"):\n",
        "  base_patterns_for_validations = []\n",
        "  for ff in [ s for s in features_files if \"Validation\" in s]:\n",
        "    validation_search = re.search(f'^.*({model_type}.*_ID.*features_{layer_name}_Validation)[0-9]+.*$', ff, re.IGNORECASE)\n",
        "    if validation_search:\n",
        "        base_patterns_for_validations.append(validation_search.group(1))\n",
        "\n",
        "  base_patterns_for_validations = sorted(list(set(base_patterns_for_validations)))\n",
        "  return base_patterns_for_validations\n",
        "\n"
      ],
      "execution_count": null,
      "outputs": []
    },
    {
      "cell_type": "code",
      "metadata": {
        "id": "ibzvZiTJ4dx8"
      },
      "source": [
        "def get_features_for_layer_using_subbatches(feature_files, layer_name, num_of_models, model_type=\"WideResNet\", axis_to_concat = 1):\n",
        " \n",
        "  feature_files_used = [ff for ff in feature_files if \"Validation\" in ff and \"_X\" in ff and f\"_{layer_name}_\" in ff ]\n",
        "  \n",
        "  # base_patterns_for_validations = []\n",
        "  # for ff in [ s for s in feature_files_used ]:\n",
        "  #   validation_search = re.search(f'^.*(_ID.*features_{layer_name}_Validation)[0-9]+.*$', ff, re.IGNORECASE)\n",
        "  #   if validation_search:\n",
        "  #       base_patterns_for_validations.append(validation_search.group(1))\n",
        "  # base_patterns_for_validations = sorted(list(set(base_patterns_for_validations)))\n",
        "\n",
        "  base_patterns_for_validations = get_base_patterns_for_validation(feature_files_used, layer_name, model_type)\n",
        "  base_patterns_for_validations = sorted(random.sample(base_patterns_for_validations, min(num_of_models,len(base_patterns_for_validations)) ))\n",
        "\n",
        "  np_x_validation_collab = None\n",
        "  for base_val_str in base_patterns_for_validations:\n",
        "      validation_batch_files = sorted([ ff for ff in feature_files_used if base_val_str in ff])\n",
        "      np_x_validation_collab_batch = np.array([np.load(ff) for ff in validation_batch_files])\n",
        "      np_x_validation_collab_batch = np.concatenate(np_x_validation_collab_batch, axis=0)\n",
        "      if np_x_validation_collab is None:\n",
        "        np_x_validation_collab = np_x_validation_collab_batch.copy()\n",
        "      else:\n",
        "        np_x_validation_collab = np.concatenate([np_x_validation_collab, np_x_validation_collab_batch], axis=axis_to_concat)\n",
        "  \n",
        "  np_x_test_collab = None\n",
        "  for base_val_str in [ ff.replace(\"Validation\",\"Test\") for ff in base_patterns_for_validations]:\n",
        "      test_batch_files = dir_has_file_with_regex(f\"/content/drive/MyDrive/data_papers/{paper_name}/model_features\",f\".*{base_val_str}.*_X.*$\")\n",
        "      np_x_test_collab_batch = np.array([np.load(ff) for ff in test_batch_files])\n",
        "      np_x_test_collab_batch = np.concatenate(np_x_test_collab_batch, axis=0)\n",
        "      if np_x_test_collab is None:\n",
        "        np_x_test_collab = np_x_test_collab_batch.copy()\n",
        "      else:\n",
        "        np_x_test_collab = np.concatenate([np_x_test_collab, np_x_test_collab_batch], axis=axis_to_concat)\n",
        "\n",
        "  np_x_train_collab = None\n",
        "  for base_val_str in [ ff.replace(\"Validation\",\"Train\") for ff in base_patterns_for_validations]:\n",
        "      train_batch_files = dir_has_file_with_regex(f\"/content/drive/MyDrive/data_papers/{paper_name}/model_features\",f\".*{base_val_str}.*_X.*$\")\n",
        "      np_x_train_collab_batch = np.array([np.load(ff) for ff in train_batch_files])\n",
        "      np_x_train_collab_batch = np.concatenate(np_x_train_collab_batch, axis=0)\n",
        "      if np_x_train_collab is None:\n",
        "        np_x_train_collab = np_x_train_collab_batch.copy()\n",
        "      else:\n",
        "        np_x_train_collab = np.concatenate([np_x_train_collab, np_x_train_collab_batch], axis=axis_to_concat)\n",
        "\n",
        "  return np_x_validation_collab, np_x_train_collab, np_x_test_collab\n",
        "\n",
        "  "
      ],
      "execution_count": null,
      "outputs": []
    },
    {
      "cell_type": "code",
      "metadata": {
        "id": "HF7tZpgXioib"
      },
      "source": [
        "# set up the combinations we are going to try\n",
        "# len(wideresnets_features_files)\n",
        "\n",
        "cnn_wideresnet_contour_data = None"
      ],
      "execution_count": null,
      "outputs": []
    },
    {
      "cell_type": "code",
      "metadata": {
        "id": "AeM917nGy0Gd"
      },
      "source": [
        "cnn_features_files"
      ],
      "execution_count": null,
      "outputs": []
    },
    {
      "cell_type": "code",
      "metadata": {
        "id": "dNlenvgshmJG"
      },
      "source": [
        "# set up the data for the WideResnet+CNN collaborative on softmax layer\n",
        "import random\n",
        "layer_name_sftmx_cnn = \"SFTMX1\"\n",
        "layer_name_sftmx_wideresnets = \"CLASSIFIER_D1\"\n",
        "total_num_components = [2,3,4,5,6,7,8,9,10]\n",
        "num_of_repeats = 3\n",
        "\n",
        "idxCount = 0 if cnn_wideresnet_contour_data is None else len(cnn_wideresnet_contour_data.index)\n",
        "\n",
        "for repc in range(num_of_repeats):\n",
        "  for component_count in total_num_components:\n",
        "    for num_of_models_cnn in range(component_count+1):\n",
        "      num_of_models_wideresnets = component_count - num_of_models_cnn\n",
        "\n",
        "      np_x_validation_collab_cnn, np_x_train_collab_cnn, np_x_test_collab_cnn = (None,None,None)\n",
        "      np_x_validation_collab_wideresnets, np_x_train_collab_wideresnets, np_x_test_collab_wideresnets = (None,None,None)\n",
        "      np_x_validation_collab_wrcdnn, np_x_train_collab_wrcdnn, np_x_test_collab_wrcdnn = (None, None, None)\n",
        "\n",
        "      if num_of_models_cnn > 0:\n",
        "        np_x_validation_collab_cnn, np_x_train_collab_cnn, np_x_test_collab_cnn = get_features_for_layer(cnn_features_files,layer_name_sftmx_cnn,num_of_models_cnn)\n",
        "\n",
        "      if num_of_models_wideresnets > 0:\n",
        "        np_x_validation_collab_wideresnets, np_x_train_collab_wideresnets, np_x_test_collab_wideresnets = get_features_for_layer_using_subbatches(wideresnets_features_files,layer_name_sftmx_wideresnets,num_of_models_wideresnets,model_type=\"WideResNet\")\n",
        "      \n",
        "      if num_of_models_cnn > 0 and num_of_models_wideresnets > 0:        \n",
        "        np_x_train_collab_wrcdnn = np.concatenate([np_x_train_collab_cnn,np_x_train_collab_wideresnets], axis=1)\n",
        "        np_x_validation_collab_wrcdnn = np.concatenate([np_x_validation_collab_cnn,np_x_validation_collab_wideresnets], axis=1)\n",
        "        np_x_test_collab_wrcdnn = np.concatenate([np_x_test_collab_cnn,np_x_test_collab_wideresnets], axis=1)\n",
        "      else: \n",
        "        if num_of_models_cnn == 0:\n",
        "          np_x_train_collab_wrcdnn = np_x_train_collab_wideresnets\n",
        "          np_x_validation_collab_wrcdnn = np_x_validation_collab_wideresnets\n",
        "          np_x_test_collab_wrcdnn = np_x_test_collab_wideresnets\n",
        "        if num_of_models_wideresnets == 0:\n",
        "          np_x_train_collab_wrcdnn = np_x_train_collab_cnn\n",
        "          np_x_validation_collab_wrcdnn = np_x_validation_collab_cnn\n",
        "          np_x_test_collab_wrcdnn = np_x_test_collab_cnn\n",
        "      \n",
        "      layer_name = f\"{layer_name_sftmx_cnn}_{layer_name_sftmx_wideresnets}_{str(num_of_models_cnn)}-{str(num_of_models_wideresnets)}\"\n",
        "      model_here, history_here = compile_and_fit_model_basic( model_combination_of_features_with_flatten,  \n",
        "                          f\"Collab_{layer_name}_CNNWRNTS_A_{datetime.datetime.now():%Y%m%d%H%M%S}\", \n",
        "                          np_x_train_collab_wrcdnn[0,:].shape, \n",
        "                          np_x_train_collab_wrcdnn, \n",
        "                          train_targets,\n",
        "                          save_max_epoch=False,\n",
        "                          save_final=True,\n",
        "                          patience_count = 35,\n",
        "                          early_stopping_obs = 'val_sparse_categorical_accuracy',\n",
        "                          log_history = True,\n",
        "                          verbose_level=0,                             \n",
        "                          batch_size=512, \n",
        "                          epochs=250, \n",
        "                          class_weight=None, \n",
        "                          validation_data=(np_x_validation_collab_wrcdnn, validation_targets))\n",
        "      del np_x_train_collab_wrcdnn\n",
        "      del np_x_validation_collab_wrcdnn\n",
        "      del np_x_validation_collab_cnn\n",
        "      del np_x_train_collab_cnn\n",
        "      del np_x_validation_collab_wideresnets\n",
        "      del np_x_train_collab_wideresnets\n",
        "      \n",
        "      y_pred_model = model_here.predict(np_x_test_collab_wrcdnn)\n",
        "      del np_x_test_collab_cnn\n",
        "      del np_x_test_collab_wideresnets\n",
        "      del np_x_test_collab_wrcdnn\n",
        "\n",
        "      y_pred = np.apply_along_axis(np.argmax, 1, y_pred_model) \n",
        "      pr, rc, f1, acc = pr_rc_f1_acc_from_supplied(y_pred,test_targets)\n",
        "      print (num_of_models_cnn, repc, pr, rc, f1, acc)\n",
        "      del model_here\n",
        "      del history_here\n",
        "      if cnn_wideresnet_contour_data is None:\n",
        "        cnn_wideresnet_contour_data = pd.DataFrame({\"TypeA\": \"CNN\", \n",
        "                                                    \"TypeB\": \"WideResNet\", \n",
        "                                                    \"Data\" : \"Test\",\n",
        "                                                    \"NumOfA\": num_of_models_cnn, \n",
        "                                                    \"NumOfB\": num_of_models_wideresnets, \n",
        "                                                    \"RepC\": repc, \n",
        "                                                    \"Pr\": pr,\n",
        "                                                    \"Rc\": rc,\n",
        "                                                    \"F1\": f1,\n",
        "                                                    \"Acc\": acc,\n",
        "                                                    }, index = [idxCount])\n",
        "      else:\n",
        "        cnn_wideresnet_contour_data = pd.concat([cnn_wideresnet_contour_data,\n",
        "                                          pd.DataFrame({\"TypeA\": \"CNN\", \n",
        "                                              \"TypeB\": \"WideResNet\", \n",
        "                                              \"Data\" : \"Test\",\n",
        "                                              \"NumOfA\": num_of_models_cnn, \n",
        "                                              \"NumOfB\": num_of_models_wideresnets, \n",
        "                                              \"RepC\": repc, \n",
        "                                              \"Pr\": pr,\n",
        "                                              \"Rc\": rc,\n",
        "                                              \"F1\": f1,\n",
        "                                              \"Acc\": acc\n",
        "                                              }, index = [idxCount])\n",
        "                                          ])\n",
        "      idxCount = idxCount + 1\n",
        "    cnn_wideresnet_contour_data.to_csv(f\"/content/drive/MyDrive/data_papers/{paper_name}/summary_results/cnn_wideresnet_tempcontour_data_{datetime.datetime.now():%Y%m%d%H%M%S}.csv\")\n",
        "    \n"
      ],
      "execution_count": null,
      "outputs": []
    },
    {
      "cell_type": "code",
      "metadata": {
        "id": "_TsMTDnt4dx8"
      },
      "source": [
        "cnn_wideresnet_contour_data.to_csv(f\"/content/drive/MyDrive/data_papers/{paper_name}/summary_results/cnn_wideresnet_contour_data_{datetime.datetime.now():%Y%m%d%H%M%S}.csv\")\n"
      ],
      "execution_count": null,
      "outputs": []
    },
    {
      "cell_type": "markdown",
      "metadata": {
        "id": "nKZebazXuPRf"
      },
      "source": [
        "# Data for Contour Plot on Collaborative CNN/DNN softmax layers"
      ]
    },
    {
      "cell_type": "code",
      "metadata": {
        "id": "rUFA68nKuPRf"
      },
      "source": [
        "import random\n",
        "import re\n",
        "\n",
        "def get_base_patterns_for_validation(features_files, layer_name = \"CLASSIFIER_D1\", model_type = \"WideResNet\"):\n",
        "  base_patterns_for_validations = []\n",
        "  for ff in [ s for s in features_files if \"Validation\" in s]:\n",
        "    validation_search = re.search(f'^.*({model_type}.*_ID.*features_{layer_name}_Validation)[0-9]+.*$', ff, re.IGNORECASE)\n",
        "    if validation_search:\n",
        "        base_patterns_for_validations.append(validation_search.group(1))\n",
        "\n",
        "  base_patterns_for_validations = sorted(list(set(base_patterns_for_validations)))\n",
        "  return base_patterns_for_validations\n",
        "\n"
      ],
      "execution_count": null,
      "outputs": []
    },
    {
      "cell_type": "code",
      "metadata": {
        "id": "-nmVKaDguPRf"
      },
      "source": [
        "# set up the combinations we are going to try\n",
        "# len(wideresnets_features_files)\n",
        "cnn_dnn_contour_data = None"
      ],
      "execution_count": null,
      "outputs": []
    },
    {
      "cell_type": "code",
      "metadata": {
        "colab": {
          "base_uri": "https://localhost:8080/"
        },
        "id": "iWjI91pDuPRf",
        "outputId": "779b59da-1e4b-400d-ceb0-243e1a56f703"
      },
      "source": [
        "# set up the data for the WideResnet+CNN collaborative on softmax layer\n",
        "import random\n",
        "layer_name_sftmx_cnn = \"SFTMX1\"\n",
        "layer_name_sftmx_dnn = \"SFTMX1\"\n",
        "total_num_components = [2,4,6,8,10,12,14,16,18,20,24,28,32,36,38,40]\n",
        "num_of_repeats = 3\n",
        "\n",
        "idxCount = 0 if cnn_dnn_contour_data is None else len(cnn_dnn_contour_data.index)\n",
        "\n",
        "for repc in range(num_of_repeats):\n",
        "  for component_count in total_num_components:\n",
        "    for num_of_models_cnn in range(component_count+1):\n",
        "      num_of_models_dnn = component_count - num_of_models_cnn\n",
        "\n",
        "      np_x_validation_collab_cnn, np_x_train_collab_cnn, np_x_test_collab_cnn = (None,None,None)\n",
        "      np_x_validation_collab_dnn, np_x_train_collab_dnn, np_x_test_collab_dnn = (None,None,None)\n",
        "      np_x_validation_collab_wrcdnn, np_x_train_collab_wrcdnn, np_x_test_collab_wrcdnn = (None, None, None)\n",
        "\n",
        "      if num_of_models_cnn > 0:\n",
        "        np_x_validation_collab_cnn, np_x_train_collab_cnn, np_x_test_collab_cnn = get_features_for_layer(cnn_features_files,layer_name_sftmx_cnn,num_of_models_cnn)\n",
        "\n",
        "      if num_of_models_dnn > 0:\n",
        "        np_x_validation_collab_dnn, np_x_train_collab_dnn, np_x_test_collab_dnn = get_features_for_layer(dnn_features_files,layer_name_sftmx_dnn,num_of_models_dnn)\n",
        "      \n",
        "      if num_of_models_cnn > 0 and num_of_models_dnn > 0:        \n",
        "        np_x_train_collab_wrcdnn = np.concatenate([np_x_train_collab_cnn,np_x_train_collab_dnn], axis=1)\n",
        "        np_x_validation_collab_wrcdnn = np.concatenate([np_x_validation_collab_cnn,np_x_validation_collab_dnn], axis=1)\n",
        "        np_x_test_collab_wrcdnn = np.concatenate([np_x_test_collab_cnn,np_x_test_collab_dnn], axis=1)\n",
        "      else: \n",
        "        if num_of_models_cnn == 0:\n",
        "          np_x_train_collab_wrcdnn = np_x_train_collab_dnn\n",
        "          np_x_validation_collab_wrcdnn = np_x_validation_collab_dnn\n",
        "          np_x_test_collab_wrcdnn = np_x_test_collab_dnn\n",
        "        if num_of_models_dnn == 0:\n",
        "          np_x_train_collab_wrcdnn = np_x_train_collab_cnn\n",
        "          np_x_validation_collab_wrcdnn = np_x_validation_collab_cnn\n",
        "          np_x_test_collab_wrcdnn = np_x_test_collab_cnn\n",
        "      \n",
        "      layer_name = f\"{layer_name_sftmx_cnn}_{layer_name_sftmx_dnn}_{str(num_of_models_cnn)}-{str(num_of_models_dnn)}\"\n",
        "      model_here, history_here = compile_and_fit_model_basic( model_combination_of_features_with_flatten,  \n",
        "                          f\"Collab_{layer_name}_CNNDNN_A_{datetime.datetime.now():%Y%m%d%H%M%S}\", \n",
        "                          np_x_train_collab_wrcdnn[0,:].shape, \n",
        "                          np_x_train_collab_wrcdnn, \n",
        "                          train_targets,\n",
        "                          save_max_epoch=False,\n",
        "                          save_final=True,\n",
        "                          patience_count = 35,\n",
        "                          early_stopping_obs = 'val_sparse_categorical_accuracy',\n",
        "                          log_history = True,\n",
        "                          verbose_level=0,                             \n",
        "                          batch_size=512, \n",
        "                          epochs=250, \n",
        "                          class_weight=None, \n",
        "                          validation_data=(np_x_validation_collab_wrcdnn, validation_targets))\n",
        "      del np_x_train_collab_wrcdnn\n",
        "      del np_x_validation_collab_wrcdnn\n",
        "      del np_x_validation_collab_cnn\n",
        "      del np_x_train_collab_cnn\n",
        "      del np_x_validation_collab_dnn\n",
        "      del np_x_train_collab_dnn\n",
        "      \n",
        "      y_pred_model = model_here.predict(np_x_test_collab_wrcdnn)\n",
        "      del np_x_test_collab_cnn\n",
        "      del np_x_test_collab_dnn\n",
        "      del np_x_test_collab_wrcdnn\n",
        "\n",
        "      y_pred = np.apply_along_axis(np.argmax, 1, y_pred_model) \n",
        "      pr, rc, f1, acc = pr_rc_f1_acc_from_supplied(y_pred,test_targets)\n",
        "      print (num_of_models_cnn, repc, pr, rc, f1, acc)\n",
        "      del model_here\n",
        "      del history_here\n",
        "      if cnn_dnn_contour_data is None:\n",
        "        cnn_dnn_contour_data = pd.DataFrame({\"TypeA\": \"CNN\", \n",
        "                                                    \"TypeB\": \"DNN\", \n",
        "                                                    \"Data\" : \"Test\",\n",
        "                                                    \"NumOfA\": num_of_models_cnn, \n",
        "                                                    \"NumOfB\": num_of_models_dnn, \n",
        "                                                    \"RepC\": repc, \n",
        "                                                    \"Pr\": pr,\n",
        "                                                    \"Rc\": rc,\n",
        "                                                    \"F1\": f1,\n",
        "                                                    \"Acc\": acc,\n",
        "                                                    }, index = [idxCount])\n",
        "      else:\n",
        "        cnn_dnn_contour_data = pd.concat([cnn_dnn_contour_data,\n",
        "                                          pd.DataFrame({\"TypeA\": \"CNN\", \n",
        "                                              \"TypeB\": \"DNN\", \n",
        "                                              \"Data\" : \"Test\",\n",
        "                                              \"NumOfA\": num_of_models_cnn, \n",
        "                                              \"NumOfB\": num_of_models_dnn, \n",
        "                                              \"RepC\": repc, \n",
        "                                              \"Pr\": pr,\n",
        "                                              \"Rc\": rc,\n",
        "                                              \"F1\": f1,\n",
        "                                              \"Acc\": acc\n",
        "                                              }, index = [idxCount])\n",
        "                                          ])\n",
        "      idxCount = idxCount + 1\n",
        "    \n"
      ],
      "execution_count": null,
      "outputs": [
        {
          "output_type": "stream",
          "name": "stdout",
          "text": [
            "INFO:tensorflow:Assets written to: /content/drive/MyDrive/data_papers/gpSVHN/model_finals/Collab_SFTMX1_SFTMX1_0-2_CNNDNN_A_20211120234753_saved_model_after_fit/assets\n",
            "0 0 0.8903585749108075 0.8901 0.890103769491181 0.8901\n",
            "INFO:tensorflow:Assets written to: /content/drive/MyDrive/data_papers/gpSVHN/model_finals/Collab_SFTMX1_SFTMX1_1-1_CNNDNN_A_20211120234836_saved_model_after_fit/assets\n",
            "1 0 0.9369891565401922 0.9369666666666666 0.9369011981387005 0.9369666666666666\n",
            "INFO:tensorflow:Assets written to: /content/drive/MyDrive/data_papers/gpSVHN/model_finals/Collab_SFTMX1_SFTMX1_2-0_CNNDNN_A_20211120234910_saved_model_after_fit/assets\n",
            "2 0 0.9495941633235173 0.9495666666666667 0.9495294849197793 0.9495666666666667\n",
            "INFO:tensorflow:Assets written to: /content/drive/MyDrive/data_papers/gpSVHN/model_finals/Collab_SFTMX1_SFTMX1_0-4_CNNDNN_A_20211120234953_saved_model_after_fit/assets\n",
            "0 0 0.8951554793094769 0.8949333333333334 0.8948930691000889 0.8949333333333334\n",
            "INFO:tensorflow:Assets written to: /content/drive/MyDrive/data_papers/gpSVHN/model_finals/Collab_SFTMX1_SFTMX1_1-3_CNNDNN_A_20211120235024_saved_model_after_fit/assets\n",
            "1 0 0.9432014412744305 0.9431333333333334 0.9430805512417042 0.9431333333333334\n",
            "INFO:tensorflow:Assets written to: /content/drive/MyDrive/data_papers/gpSVHN/model_finals/Collab_SFTMX1_SFTMX1_2-2_CNNDNN_A_20211120235054_saved_model_after_fit/assets\n",
            "2 0 0.9510982223564092 0.9510666666666666 0.9510490904544151 0.9510666666666666\n",
            "INFO:tensorflow:Assets written to: /content/drive/MyDrive/data_papers/gpSVHN/model_finals/Collab_SFTMX1_SFTMX1_3-1_CNNDNN_A_20211120235122_saved_model_after_fit/assets\n",
            "3 0 0.9570648285990365 0.957 0.9569837270306281 0.957\n",
            "INFO:tensorflow:Assets written to: /content/drive/MyDrive/data_papers/gpSVHN/model_finals/Collab_SFTMX1_SFTMX1_4-0_CNNDNN_A_20211120235151_saved_model_after_fit/assets\n",
            "4 0 0.9592101046887574 0.9591333333333333 0.9591111484056661 0.9591333333333333\n",
            "INFO:tensorflow:Assets written to: /content/drive/MyDrive/data_papers/gpSVHN/model_finals/Collab_SFTMX1_SFTMX1_0-6_CNNDNN_A_20211120235242_saved_model_after_fit/assets\n",
            "0 0 0.9000131553965339 0.8996333333333333 0.8994829137092787 0.8996333333333333\n",
            "INFO:tensorflow:Assets written to: /content/drive/MyDrive/data_papers/gpSVHN/model_finals/Collab_SFTMX1_SFTMX1_1-5_CNNDNN_A_20211120235331_saved_model_after_fit/assets\n",
            "1 0 0.9420184664269635 0.9419666666666666 0.9419437290393373 0.9419666666666666\n",
            "INFO:tensorflow:Assets written to: /content/drive/MyDrive/data_papers/gpSVHN/model_finals/Collab_SFTMX1_SFTMX1_2-4_CNNDNN_A_20211120235401_saved_model_after_fit/assets\n",
            "2 0 0.9506266280070366 0.9506 0.9505568212299329 0.9506\n",
            "INFO:tensorflow:Assets written to: /content/drive/MyDrive/data_papers/gpSVHN/model_finals/Collab_SFTMX1_SFTMX1_3-3_CNNDNN_A_20211120235436_saved_model_after_fit/assets\n",
            "3 0 0.9552933104968026 0.9551666666666667 0.9551549514648477 0.9551666666666667\n",
            "INFO:tensorflow:Assets written to: /content/drive/MyDrive/data_papers/gpSVHN/model_finals/Collab_SFTMX1_SFTMX1_4-2_CNNDNN_A_20211120235507_saved_model_after_fit/assets\n",
            "4 0 0.9604105777570734 0.9604 0.9603571270092236 0.9604\n",
            "INFO:tensorflow:Assets written to: /content/drive/MyDrive/data_papers/gpSVHN/model_finals/Collab_SFTMX1_SFTMX1_5-1_CNNDNN_A_20211120235544_saved_model_after_fit/assets\n",
            "5 0 0.9601609938464494 0.9601 0.960069919120126 0.9601\n",
            "INFO:tensorflow:Assets written to: /content/drive/MyDrive/data_papers/gpSVHN/model_finals/Collab_SFTMX1_SFTMX1_6-0_CNNDNN_A_20211120235617_saved_model_after_fit/assets\n",
            "6 0 0.9619358935500977 0.9618666666666666 0.9618292816803299 0.9618666666666666\n",
            "INFO:tensorflow:Assets written to: /content/drive/MyDrive/data_papers/gpSVHN/model_finals/Collab_SFTMX1_SFTMX1_0-8_CNNDNN_A_20211120235705_saved_model_after_fit/assets\n",
            "0 0 0.9000545090333897 0.9000333333333334 0.899907855575607 0.9000333333333334\n",
            "INFO:tensorflow:Assets written to: /content/drive/MyDrive/data_papers/gpSVHN/model_finals/Collab_SFTMX1_SFTMX1_1-7_CNNDNN_A_20211120235750_saved_model_after_fit/assets\n",
            "1 0 0.9412059913698999 0.9411 0.9410193192353842 0.9411\n",
            "INFO:tensorflow:Assets written to: /content/drive/MyDrive/data_papers/gpSVHN/model_finals/Collab_SFTMX1_SFTMX1_2-6_CNNDNN_A_20211120235822_saved_model_after_fit/assets\n",
            "2 0 0.9501831583278746 0.9501 0.9500706106342384 0.9501\n",
            "INFO:tensorflow:Assets written to: /content/drive/MyDrive/data_papers/gpSVHN/model_finals/Collab_SFTMX1_SFTMX1_3-5_CNNDNN_A_20211120235901_saved_model_after_fit/assets\n",
            "3 0 0.9579535589485944 0.9579666666666666 0.9579356260704229 0.9579666666666666\n",
            "INFO:tensorflow:Assets written to: /content/drive/MyDrive/data_papers/gpSVHN/model_finals/Collab_SFTMX1_SFTMX1_4-4_CNNDNN_A_20211120235933_saved_model_after_fit/assets\n",
            "4 0 0.9589275628032087 0.9588666666666666 0.958835984457868 0.9588666666666666\n",
            "INFO:tensorflow:Assets written to: /content/drive/MyDrive/data_papers/gpSVHN/model_finals/Collab_SFTMX1_SFTMX1_5-3_CNNDNN_A_20211121000009_saved_model_after_fit/assets\n",
            "5 0 0.9587383899082034 0.9586666666666667 0.9586438424766485 0.9586666666666667\n",
            "INFO:tensorflow:Assets written to: /content/drive/MyDrive/data_papers/gpSVHN/model_finals/Collab_SFTMX1_SFTMX1_6-2_CNNDNN_A_20211121000048_saved_model_after_fit/assets\n",
            "6 0 0.9614235931298187 0.9613333333333334 0.961314143240052 0.9613333333333334\n",
            "INFO:tensorflow:Assets written to: /content/drive/MyDrive/data_papers/gpSVHN/model_finals/Collab_SFTMX1_SFTMX1_7-1_CNNDNN_A_20211121000122_saved_model_after_fit/assets\n",
            "7 0 0.9618773848508161 0.9617333333333333 0.9617090053494959 0.9617333333333333\n",
            "INFO:tensorflow:Assets written to: /content/drive/MyDrive/data_papers/gpSVHN/model_finals/Collab_SFTMX1_SFTMX1_8-0_CNNDNN_A_20211121000149_saved_model_after_fit/assets\n",
            "8 0 0.9633768390253686 0.9633 0.9632775808050407 0.9633\n",
            "INFO:tensorflow:Assets written to: /content/drive/MyDrive/data_papers/gpSVHN/model_finals/Collab_SFTMX1_SFTMX1_0-10_CNNDNN_A_20211121000245_saved_model_after_fit/assets\n",
            "0 0 0.8989412202299142 0.8986666666666666 0.898543854160893 0.8986666666666666\n",
            "INFO:tensorflow:Assets written to: /content/drive/MyDrive/data_papers/gpSVHN/model_finals/Collab_SFTMX1_SFTMX1_1-9_CNNDNN_A_20211121000336_saved_model_after_fit/assets\n",
            "1 0 0.9416044729540043 0.9415 0.9414538067481344 0.9415\n",
            "INFO:tensorflow:Assets written to: /content/drive/MyDrive/data_papers/gpSVHN/model_finals/Collab_SFTMX1_SFTMX1_2-8_CNNDNN_A_20211121000413_saved_model_after_fit/assets\n",
            "2 0 0.9509929169743055 0.9509666666666666 0.9509441801401047 0.9509666666666666\n",
            "INFO:tensorflow:Assets written to: /content/drive/MyDrive/data_papers/gpSVHN/model_finals/Collab_SFTMX1_SFTMX1_3-7_CNNDNN_A_20211121000457_saved_model_after_fit/assets\n",
            "3 0 0.9558632814490293 0.9557 0.9556796874628849 0.9557\n",
            "INFO:tensorflow:Assets written to: /content/drive/MyDrive/data_papers/gpSVHN/model_finals/Collab_SFTMX1_SFTMX1_4-6_CNNDNN_A_20211121000537_saved_model_after_fit/assets\n",
            "4 0 0.9587261039224743 0.9586333333333333 0.958605375574967 0.9586333333333333\n",
            "INFO:tensorflow:Assets written to: /content/drive/MyDrive/data_papers/gpSVHN/model_finals/Collab_SFTMX1_SFTMX1_5-5_CNNDNN_A_20211121000618_saved_model_after_fit/assets\n",
            "5 0 0.961520805204251 0.9614333333333334 0.9614157806127849 0.9614333333333334\n",
            "INFO:tensorflow:Assets written to: /content/drive/MyDrive/data_papers/gpSVHN/model_finals/Collab_SFTMX1_SFTMX1_6-4_CNNDNN_A_20211121000649_saved_model_after_fit/assets\n",
            "6 0 0.9610715612109362 0.9609 0.9608656675669391 0.9609\n",
            "INFO:tensorflow:Assets written to: /content/drive/MyDrive/data_papers/gpSVHN/model_finals/Collab_SFTMX1_SFTMX1_7-3_CNNDNN_A_20211121000726_saved_model_after_fit/assets\n",
            "7 0 0.9626170845880723 0.9626 0.9625723097988301 0.9626\n",
            "INFO:tensorflow:Assets written to: /content/drive/MyDrive/data_papers/gpSVHN/model_finals/Collab_SFTMX1_SFTMX1_8-2_CNNDNN_A_20211121000813_saved_model_after_fit/assets\n",
            "8 0 0.9628784418937975 0.9627 0.9626694826381814 0.9627\n",
            "INFO:tensorflow:Assets written to: /content/drive/MyDrive/data_papers/gpSVHN/model_finals/Collab_SFTMX1_SFTMX1_9-1_CNNDNN_A_20211121000841_saved_model_after_fit/assets\n",
            "9 0 0.9632627175134864 0.9632 0.9631837628399006 0.9632\n",
            "INFO:tensorflow:Assets written to: /content/drive/MyDrive/data_papers/gpSVHN/model_finals/Collab_SFTMX1_SFTMX1_10-0_CNNDNN_A_20211121000917_saved_model_after_fit/assets\n",
            "10 0 0.9638857918110413 0.9638 0.9637767257151535 0.9638\n",
            "INFO:tensorflow:Assets written to: /content/drive/MyDrive/data_papers/gpSVHN/model_finals/Collab_SFTMX1_SFTMX1_0-12_CNNDNN_A_20211121000947_saved_model_after_fit/assets\n",
            "0 0 0.9011485753188282 0.901 0.9008729977828182 0.901\n",
            "INFO:tensorflow:Assets written to: /content/drive/MyDrive/data_papers/gpSVHN/model_finals/Collab_SFTMX1_SFTMX1_1-11_CNNDNN_A_20211121001059_saved_model_after_fit/assets\n",
            "1 0 0.9458030054293726 0.9457333333333333 0.9456892254327094 0.9457333333333333\n",
            "INFO:tensorflow:Assets written to: /content/drive/MyDrive/data_papers/gpSVHN/model_finals/Collab_SFTMX1_SFTMX1_2-10_CNNDNN_A_20211121001134_saved_model_after_fit/assets\n",
            "2 0 0.9518231690479494 0.9517666666666666 0.9517285784222171 0.9517666666666666\n",
            "INFO:tensorflow:Assets written to: /content/drive/MyDrive/data_papers/gpSVHN/model_finals/Collab_SFTMX1_SFTMX1_3-9_CNNDNN_A_20211121001201_saved_model_after_fit/assets\n",
            "3 0 0.9556353715222138 0.9556 0.9555656190364177 0.9556\n",
            "INFO:tensorflow:Assets written to: /content/drive/MyDrive/data_papers/gpSVHN/model_finals/Collab_SFTMX1_SFTMX1_4-8_CNNDNN_A_20211121001236_saved_model_after_fit/assets\n",
            "4 0 0.9596375533964799 0.9595666666666667 0.9595450802461584 0.9595666666666667\n",
            "INFO:tensorflow:Assets written to: /content/drive/MyDrive/data_papers/gpSVHN/model_finals/Collab_SFTMX1_SFTMX1_5-7_CNNDNN_A_20211121001314_saved_model_after_fit/assets\n",
            "5 0 0.9609209666435613 0.9607666666666667 0.960747794766011 0.9607666666666667\n",
            "INFO:tensorflow:Assets written to: /content/drive/MyDrive/data_papers/gpSVHN/model_finals/Collab_SFTMX1_SFTMX1_6-6_CNNDNN_A_20211121001418_saved_model_after_fit/assets\n",
            "6 0 0.9617131856850432 0.9616 0.9615776948459447 0.9616\n",
            "INFO:tensorflow:Assets written to: /content/drive/MyDrive/data_papers/gpSVHN/model_finals/Collab_SFTMX1_SFTMX1_7-5_CNNDNN_A_20211121001450_saved_model_after_fit/assets\n",
            "7 0 0.962105316519981 0.9620666666666666 0.9620497154665513 0.9620666666666666\n",
            "INFO:tensorflow:Assets written to: /content/drive/MyDrive/data_papers/gpSVHN/model_finals/Collab_SFTMX1_SFTMX1_8-4_CNNDNN_A_20211121001516_saved_model_after_fit/assets\n",
            "8 0 0.9625934948173398 0.9625 0.9624853939477565 0.9625\n",
            "INFO:tensorflow:Assets written to: /content/drive/MyDrive/data_papers/gpSVHN/model_finals/Collab_SFTMX1_SFTMX1_9-3_CNNDNN_A_20211121001538_saved_model_after_fit/assets\n",
            "9 0 0.9625953365623359 0.9625 0.9624740667748717 0.9625\n",
            "INFO:tensorflow:Assets written to: /content/drive/MyDrive/data_papers/gpSVHN/model_finals/Collab_SFTMX1_SFTMX1_10-2_CNNDNN_A_20211121001604_saved_model_after_fit/assets\n",
            "10 0 0.9643598580828715 0.9642666666666667 0.9642464311306317 0.9642666666666667\n",
            "INFO:tensorflow:Assets written to: /content/drive/MyDrive/data_papers/gpSVHN/model_finals/Collab_SFTMX1_SFTMX1_11-1_CNNDNN_A_20211121001634_saved_model_after_fit/assets\n",
            "11 0 0.9648424414397192 0.9647333333333333 0.964703863123736 0.9647333333333333\n",
            "INFO:tensorflow:Assets written to: /content/drive/MyDrive/data_papers/gpSVHN/model_finals/Collab_SFTMX1_SFTMX1_12-0_CNNDNN_A_20211121001659_saved_model_after_fit/assets\n",
            "12 0 0.9650210340169151 0.9649666666666666 0.9649390148017378 0.9649666666666666\n",
            "INFO:tensorflow:Assets written to: /content/drive/MyDrive/data_papers/gpSVHN/model_finals/Collab_SFTMX1_SFTMX1_0-14_CNNDNN_A_20211121001744_saved_model_after_fit/assets\n",
            "0 0 0.9047532636272245 0.9048 0.9045973058410129 0.9048\n",
            "INFO:tensorflow:Assets written to: /content/drive/MyDrive/data_papers/gpSVHN/model_finals/Collab_SFTMX1_SFTMX1_1-13_CNNDNN_A_20211121001829_saved_model_after_fit/assets\n",
            "1 0 0.9439922465590941 0.9439666666666666 0.9439050186944045 0.9439666666666666\n",
            "INFO:tensorflow:Assets written to: /content/drive/MyDrive/data_papers/gpSVHN/model_finals/Collab_SFTMX1_SFTMX1_2-12_CNNDNN_A_20211121001900_saved_model_after_fit/assets\n",
            "2 0 0.9481516943362943 0.9481333333333334 0.9481041641947808 0.9481333333333334\n",
            "INFO:tensorflow:Assets written to: /content/drive/MyDrive/data_papers/gpSVHN/model_finals/Collab_SFTMX1_SFTMX1_3-11_CNNDNN_A_20211121001924_saved_model_after_fit/assets\n",
            "3 0 0.9549796336125355 0.9549333333333333 0.9549032596429836 0.9549333333333333\n",
            "INFO:tensorflow:Assets written to: /content/drive/MyDrive/data_papers/gpSVHN/model_finals/Collab_SFTMX1_SFTMX1_4-10_CNNDNN_A_20211121001957_saved_model_after_fit/assets\n",
            "4 0 0.9584886031156563 0.9584333333333334 0.9584002171640473 0.9584333333333334\n",
            "INFO:tensorflow:Assets written to: /content/drive/MyDrive/data_papers/gpSVHN/model_finals/Collab_SFTMX1_SFTMX1_5-9_CNNDNN_A_20211121002051_saved_model_after_fit/assets\n",
            "5 0 0.9596188974729213 0.9594666666666667 0.9594517925250887 0.9594666666666667\n",
            "INFO:tensorflow:Assets written to: /content/drive/MyDrive/data_papers/gpSVHN/model_finals/Collab_SFTMX1_SFTMX1_6-8_CNNDNN_A_20211121002129_saved_model_after_fit/assets\n",
            "6 0 0.9615164946622742 0.9614333333333334 0.9614216724631053 0.9614333333333334\n",
            "INFO:tensorflow:Assets written to: /content/drive/MyDrive/data_papers/gpSVHN/model_finals/Collab_SFTMX1_SFTMX1_7-7_CNNDNN_A_20211121002203_saved_model_after_fit/assets\n",
            "7 0 0.9623361176061737 0.9623 0.9622796922995632 0.9623\n",
            "INFO:tensorflow:Assets written to: /content/drive/MyDrive/data_papers/gpSVHN/model_finals/Collab_SFTMX1_SFTMX1_8-6_CNNDNN_A_20211121002251_saved_model_after_fit/assets\n",
            "8 0 0.9629390096127379 0.9628 0.96279163964269 0.9628\n",
            "INFO:tensorflow:Assets written to: /content/drive/MyDrive/data_papers/gpSVHN/model_finals/Collab_SFTMX1_SFTMX1_9-5_CNNDNN_A_20211121002318_saved_model_after_fit/assets\n",
            "9 0 0.9630583094395992 0.9629666666666666 0.9629479512619714 0.9629666666666666\n",
            "INFO:tensorflow:Assets written to: /content/drive/MyDrive/data_papers/gpSVHN/model_finals/Collab_SFTMX1_SFTMX1_10-4_CNNDNN_A_20211121002404_saved_model_after_fit/assets\n",
            "10 0 0.9631754729163026 0.9631 0.9630783454485652 0.9631\n",
            "INFO:tensorflow:Assets written to: /content/drive/MyDrive/data_papers/gpSVHN/model_finals/Collab_SFTMX1_SFTMX1_11-3_CNNDNN_A_20211121002432_saved_model_after_fit/assets\n",
            "11 0 0.9644157405909821 0.9643 0.9642799402300637 0.9643\n",
            "INFO:tensorflow:Assets written to: /content/drive/MyDrive/data_papers/gpSVHN/model_finals/Collab_SFTMX1_SFTMX1_12-2_CNNDNN_A_20211121002543_saved_model_after_fit/assets\n",
            "12 0 0.9646452400031371 0.9646 0.9645839060904403 0.9646\n",
            "INFO:tensorflow:Assets written to: /content/drive/MyDrive/data_papers/gpSVHN/model_finals/Collab_SFTMX1_SFTMX1_13-1_CNNDNN_A_20211121002643_saved_model_after_fit/assets\n",
            "13 0 0.9649240807002666 0.9648666666666667 0.9648487633313435 0.9648666666666667\n",
            "INFO:tensorflow:Assets written to: /content/drive/MyDrive/data_papers/gpSVHN/model_finals/Collab_SFTMX1_SFTMX1_14-0_CNNDNN_A_20211121002717_saved_model_after_fit/assets\n",
            "14 0 0.9647548666558479 0.9646666666666667 0.9646387746901224 0.9646666666666667\n",
            "INFO:tensorflow:Assets written to: /content/drive/MyDrive/data_papers/gpSVHN/model_finals/Collab_SFTMX1_SFTMX1_0-16_CNNDNN_A_20211121002801_saved_model_after_fit/assets\n",
            "0 0 0.9055390681589299 0.9051666666666667 0.905000553226245 0.9051666666666667\n",
            "INFO:tensorflow:Assets written to: /content/drive/MyDrive/data_papers/gpSVHN/model_finals/Collab_SFTMX1_SFTMX1_1-15_CNNDNN_A_20211121002851_saved_model_after_fit/assets\n",
            "1 0 0.9425672052461737 0.9425 0.9424436153157055 0.9425\n",
            "INFO:tensorflow:Assets written to: /content/drive/MyDrive/data_papers/gpSVHN/model_finals/Collab_SFTMX1_SFTMX1_2-14_CNNDNN_A_20211121002912_saved_model_after_fit/assets\n",
            "2 0 0.9496503450539922 0.9494666666666667 0.9494351374343583 0.9494666666666667\n",
            "INFO:tensorflow:Assets written to: /content/drive/MyDrive/data_papers/gpSVHN/model_finals/Collab_SFTMX1_SFTMX1_3-13_CNNDNN_A_20211121002943_saved_model_after_fit/assets\n",
            "3 0 0.9582130986739245 0.9581 0.9580967156610515 0.9581\n",
            "INFO:tensorflow:Assets written to: /content/drive/MyDrive/data_papers/gpSVHN/model_finals/Collab_SFTMX1_SFTMX1_4-12_CNNDNN_A_20211121003016_saved_model_after_fit/assets\n",
            "4 0 0.9586042180355513 0.9585333333333333 0.9585168441716652 0.9585333333333333\n",
            "INFO:tensorflow:Assets written to: /content/drive/MyDrive/data_papers/gpSVHN/model_finals/Collab_SFTMX1_SFTMX1_5-11_CNNDNN_A_20211121003049_saved_model_after_fit/assets\n",
            "5 0 0.9582677088213771 0.9580333333333333 0.9580291023169378 0.9580333333333333\n",
            "INFO:tensorflow:Assets written to: /content/drive/MyDrive/data_papers/gpSVHN/model_finals/Collab_SFTMX1_SFTMX1_6-10_CNNDNN_A_20211121003126_saved_model_after_fit/assets\n",
            "6 0 0.9605390093753281 0.9604666666666667 0.9604446272376579 0.9604666666666667\n",
            "INFO:tensorflow:Assets written to: /content/drive/MyDrive/data_papers/gpSVHN/model_finals/Collab_SFTMX1_SFTMX1_7-9_CNNDNN_A_20211121003157_saved_model_after_fit/assets\n",
            "7 0 0.9629259684117628 0.9629 0.9628853767656941 0.9629\n",
            "INFO:tensorflow:Assets written to: /content/drive/MyDrive/data_papers/gpSVHN/model_finals/Collab_SFTMX1_SFTMX1_8-8_CNNDNN_A_20211121003231_saved_model_after_fit/assets\n",
            "8 0 0.9638290369682021 0.9637333333333333 0.9637129325767559 0.9637333333333333\n",
            "INFO:tensorflow:Assets written to: /content/drive/MyDrive/data_papers/gpSVHN/model_finals/Collab_SFTMX1_SFTMX1_9-7_CNNDNN_A_20211121003313_saved_model_after_fit/assets\n",
            "9 0 0.9628524329736371 0.9627 0.9626748007554331 0.9627\n",
            "INFO:tensorflow:Assets written to: /content/drive/MyDrive/data_papers/gpSVHN/model_finals/Collab_SFTMX1_SFTMX1_10-6_CNNDNN_A_20211121003409_saved_model_after_fit/assets\n",
            "10 0 0.9636568713113859 0.9636 0.9635757696704472 0.9636\n",
            "INFO:tensorflow:Assets written to: /content/drive/MyDrive/data_papers/gpSVHN/model_finals/Collab_SFTMX1_SFTMX1_11-5_CNNDNN_A_20211121003448_saved_model_after_fit/assets\n",
            "11 0 0.9640163227565561 0.9639333333333333 0.9639148945897088 0.9639333333333333\n",
            "INFO:tensorflow:Assets written to: /content/drive/MyDrive/data_papers/gpSVHN/model_finals/Collab_SFTMX1_SFTMX1_12-4_CNNDNN_A_20211121003551_saved_model_after_fit/assets\n",
            "12 0 0.963543213096497 0.9634666666666667 0.9634453518044458 0.9634666666666667\n",
            "INFO:tensorflow:Assets written to: /content/drive/MyDrive/data_papers/gpSVHN/model_finals/Collab_SFTMX1_SFTMX1_13-3_CNNDNN_A_20211121003630_saved_model_after_fit/assets\n",
            "13 0 0.9649910187653736 0.9649 0.9648818950414142 0.9649\n",
            "INFO:tensorflow:Assets written to: /content/drive/MyDrive/data_papers/gpSVHN/model_finals/Collab_SFTMX1_SFTMX1_14-2_CNNDNN_A_20211121003654_saved_model_after_fit/assets\n",
            "14 0 0.9648513096329917 0.9647666666666667 0.9647532223854203 0.9647666666666667\n",
            "INFO:tensorflow:Assets written to: /content/drive/MyDrive/data_papers/gpSVHN/model_finals/Collab_SFTMX1_SFTMX1_15-1_CNNDNN_A_20211121003723_saved_model_after_fit/assets\n",
            "15 0 0.9654519296902382 0.9653666666666667 0.9653438453319533 0.9653666666666667\n",
            "INFO:tensorflow:Assets written to: /content/drive/MyDrive/data_papers/gpSVHN/model_finals/Collab_SFTMX1_SFTMX1_16-0_CNNDNN_A_20211121003756_saved_model_after_fit/assets\n",
            "16 0 0.9665343770318076 0.9664333333333334 0.9664141354637726 0.9664333333333334\n",
            "INFO:tensorflow:Assets written to: /content/drive/MyDrive/data_papers/gpSVHN/model_finals/Collab_SFTMX1_SFTMX1_0-18_CNNDNN_A_20211121003845_saved_model_after_fit/assets\n",
            "0 0 0.9043841628789937 0.9039666666666667 0.9038172906815853 0.9039666666666667\n",
            "INFO:tensorflow:Assets written to: /content/drive/MyDrive/data_papers/gpSVHN/model_finals/Collab_SFTMX1_SFTMX1_1-17_CNNDNN_A_20211121003942_saved_model_after_fit/assets\n",
            "1 0 0.9458493034772008 0.9458333333333333 0.9457934523753763 0.9458333333333333\n",
            "INFO:tensorflow:Assets written to: /content/drive/MyDrive/data_papers/gpSVHN/model_finals/Collab_SFTMX1_SFTMX1_2-16_CNNDNN_A_20211121004003_saved_model_after_fit/assets\n",
            "2 0 0.9508767856469131 0.9508 0.9507690919997611 0.9508\n",
            "INFO:tensorflow:Assets written to: /content/drive/MyDrive/data_papers/gpSVHN/model_finals/Collab_SFTMX1_SFTMX1_3-15_CNNDNN_A_20211121004028_saved_model_after_fit/assets\n",
            "3 0 0.9550204384664532 0.955 0.9549709105376717 0.955\n",
            "INFO:tensorflow:Assets written to: /content/drive/MyDrive/data_papers/gpSVHN/model_finals/Collab_SFTMX1_SFTMX1_4-14_CNNDNN_A_20211121004057_saved_model_after_fit/assets\n",
            "4 0 0.9604222771256277 0.9603666666666667 0.9603474426472728 0.9603666666666667\n",
            "INFO:tensorflow:Assets written to: /content/drive/MyDrive/data_papers/gpSVHN/model_finals/Collab_SFTMX1_SFTMX1_5-13_CNNDNN_A_20211121004132_saved_model_after_fit/assets\n",
            "5 0 0.9600210922378324 0.9599666666666666 0.9599289597943071 0.9599666666666666\n",
            "INFO:tensorflow:Assets written to: /content/drive/MyDrive/data_papers/gpSVHN/model_finals/Collab_SFTMX1_SFTMX1_6-12_CNNDNN_A_20211121004209_saved_model_after_fit/assets\n",
            "6 0 0.9620124267992738 0.9619666666666666 0.9619485693938683 0.9619666666666666\n",
            "INFO:tensorflow:Assets written to: /content/drive/MyDrive/data_papers/gpSVHN/model_finals/Collab_SFTMX1_SFTMX1_7-11_CNNDNN_A_20211121004248_saved_model_after_fit/assets\n",
            "7 0 0.9636271225652842 0.9635 0.9634748802488153 0.9635\n",
            "INFO:tensorflow:Assets written to: /content/drive/MyDrive/data_papers/gpSVHN/model_finals/Collab_SFTMX1_SFTMX1_8-10_CNNDNN_A_20211121004328_saved_model_after_fit/assets\n",
            "8 0 0.96301585059193 0.9629333333333333 0.9629053260994599 0.9629333333333333\n",
            "INFO:tensorflow:Assets written to: /content/drive/MyDrive/data_papers/gpSVHN/model_finals/Collab_SFTMX1_SFTMX1_9-9_CNNDNN_A_20211121004355_saved_model_after_fit/assets\n",
            "9 0 0.9636669667845296 0.9636 0.9635784753620059 0.9636\n",
            "INFO:tensorflow:Assets written to: /content/drive/MyDrive/data_papers/gpSVHN/model_finals/Collab_SFTMX1_SFTMX1_10-8_CNNDNN_A_20211121004452_saved_model_after_fit/assets\n",
            "10 0 0.9643593916222579 0.9643333333333334 0.9643158527668799 0.9643333333333334\n",
            "INFO:tensorflow:Assets written to: /content/drive/MyDrive/data_papers/gpSVHN/model_finals/Collab_SFTMX1_SFTMX1_11-7_CNNDNN_A_20211121004546_saved_model_after_fit/assets\n",
            "11 0 0.9644927184000084 0.9643666666666667 0.9643442744694293 0.9643666666666667\n",
            "INFO:tensorflow:Assets written to: /content/drive/MyDrive/data_papers/gpSVHN/model_finals/Collab_SFTMX1_SFTMX1_12-6_CNNDNN_A_20211121004635_saved_model_after_fit/assets\n",
            "12 0 0.9645136109254234 0.9644 0.9643852925199466 0.9644\n",
            "INFO:tensorflow:Assets written to: /content/drive/MyDrive/data_papers/gpSVHN/model_finals/Collab_SFTMX1_SFTMX1_13-5_CNNDNN_A_20211121004658_saved_model_after_fit/assets\n",
            "13 0 0.9643212256170028 0.9642 0.9641826550742796 0.9642\n",
            "INFO:tensorflow:Assets written to: /content/drive/MyDrive/data_papers/gpSVHN/model_finals/Collab_SFTMX1_SFTMX1_14-4_CNNDNN_A_20211121004819_saved_model_after_fit/assets\n",
            "14 0 0.9650117084470261 0.9648666666666667 0.9648362686505213 0.9648666666666667\n",
            "INFO:tensorflow:Assets written to: /content/drive/MyDrive/data_papers/gpSVHN/model_finals/Collab_SFTMX1_SFTMX1_15-3_CNNDNN_A_20211121004914_saved_model_after_fit/assets\n",
            "15 0 0.9650273269412158 0.9649666666666666 0.9649398219723967 0.9649666666666666\n",
            "INFO:tensorflow:Assets written to: /content/drive/MyDrive/data_papers/gpSVHN/model_finals/Collab_SFTMX1_SFTMX1_16-2_CNNDNN_A_20211121004956_saved_model_after_fit/assets\n",
            "16 0 0.9661895300736977 0.9661 0.96608111320491 0.9661\n",
            "INFO:tensorflow:Assets written to: /content/drive/MyDrive/data_papers/gpSVHN/model_finals/Collab_SFTMX1_SFTMX1_17-1_CNNDNN_A_20211121005029_saved_model_after_fit/assets\n",
            "17 0 0.9670097859576225 0.9669333333333333 0.966919105840596 0.9669333333333333\n",
            "INFO:tensorflow:Assets written to: /content/drive/MyDrive/data_papers/gpSVHN/model_finals/Collab_SFTMX1_SFTMX1_18-0_CNNDNN_A_20211121005056_saved_model_after_fit/assets\n",
            "18 0 0.9661636801867282 0.9660666666666666 0.966051365807741 0.9660666666666666\n",
            "INFO:tensorflow:Assets written to: /content/drive/MyDrive/data_papers/gpSVHN/model_finals/Collab_SFTMX1_SFTMX1_0-20_CNNDNN_A_20211121005117_saved_model_after_fit/assets\n",
            "0 0 0.9078823325073385 0.9077333333333333 0.9076297451060711 0.9077333333333333\n",
            "INFO:tensorflow:Assets written to: /content/drive/MyDrive/data_papers/gpSVHN/model_finals/Collab_SFTMX1_SFTMX1_1-19_CNNDNN_A_20211121005202_saved_model_after_fit/assets\n",
            "1 0 0.943582060862698 0.9435333333333333 0.9434961066462603 0.9435333333333333\n",
            "INFO:tensorflow:Assets written to: /content/drive/MyDrive/data_papers/gpSVHN/model_finals/Collab_SFTMX1_SFTMX1_2-18_CNNDNN_A_20211121005225_saved_model_after_fit/assets\n",
            "2 0 0.9522618519655875 0.9521333333333334 0.9521205260866775 0.9521333333333334\n",
            "INFO:tensorflow:Assets written to: /content/drive/MyDrive/data_papers/gpSVHN/model_finals/Collab_SFTMX1_SFTMX1_3-17_CNNDNN_A_20211121005257_saved_model_after_fit/assets\n",
            "3 0 0.957626041685651 0.9575 0.9574748820860824 0.9575\n",
            "INFO:tensorflow:Assets written to: /content/drive/MyDrive/data_papers/gpSVHN/model_finals/Collab_SFTMX1_SFTMX1_4-16_CNNDNN_A_20211121005343_saved_model_after_fit/assets\n",
            "4 0 0.9578585714579182 0.9578666666666666 0.9578325340887043 0.9578666666666666\n",
            "INFO:tensorflow:Assets written to: /content/drive/MyDrive/data_papers/gpSVHN/model_finals/Collab_SFTMX1_SFTMX1_5-15_CNNDNN_A_20211121005413_saved_model_after_fit/assets\n",
            "5 0 0.9601694191899158 0.9601333333333333 0.9601099176021338 0.9601333333333333\n",
            "INFO:tensorflow:Assets written to: /content/drive/MyDrive/data_papers/gpSVHN/model_finals/Collab_SFTMX1_SFTMX1_6-14_CNNDNN_A_20211121005448_saved_model_after_fit/assets\n",
            "6 0 0.9615942699606302 0.9615333333333334 0.9615023653042004 0.9615333333333334\n",
            "INFO:tensorflow:Assets written to: /content/drive/MyDrive/data_papers/gpSVHN/model_finals/Collab_SFTMX1_SFTMX1_7-13_CNNDNN_A_20211121005521_saved_model_after_fit/assets\n",
            "7 0 0.9631690869143573 0.9631333333333333 0.9631111843109136 0.9631333333333333\n",
            "INFO:tensorflow:Assets written to: /content/drive/MyDrive/data_papers/gpSVHN/model_finals/Collab_SFTMX1_SFTMX1_8-12_CNNDNN_A_20211121005555_saved_model_after_fit/assets\n",
            "8 0 0.9634128075149537 0.9633666666666667 0.9633423770630105 0.9633666666666667\n",
            "INFO:tensorflow:Assets written to: /content/drive/MyDrive/data_papers/gpSVHN/model_finals/Collab_SFTMX1_SFTMX1_9-11_CNNDNN_A_20211121005636_saved_model_after_fit/assets\n",
            "9 0 0.9629099001017242 0.9628666666666666 0.962849740260853 0.9628666666666666\n",
            "INFO:tensorflow:Assets written to: /content/drive/MyDrive/data_papers/gpSVHN/model_finals/Collab_SFTMX1_SFTMX1_10-10_CNNDNN_A_20211121005724_saved_model_after_fit/assets\n",
            "10 0 0.9633640211241569 0.9632666666666667 0.9632408268572934 0.9632666666666667\n",
            "INFO:tensorflow:Assets written to: /content/drive/MyDrive/data_papers/gpSVHN/model_finals/Collab_SFTMX1_SFTMX1_11-9_CNNDNN_A_20211121005812_saved_model_after_fit/assets\n",
            "11 0 0.9644528778636393 0.9643666666666667 0.9643486403569754 0.9643666666666667\n",
            "INFO:tensorflow:Assets written to: /content/drive/MyDrive/data_papers/gpSVHN/model_finals/Collab_SFTMX1_SFTMX1_12-8_CNNDNN_A_20211121005851_saved_model_after_fit/assets\n",
            "12 0 0.9644198875026375 0.9643333333333334 0.9643171497687956 0.9643333333333334\n",
            "INFO:tensorflow:Assets written to: /content/drive/MyDrive/data_papers/gpSVHN/model_finals/Collab_SFTMX1_SFTMX1_13-7_CNNDNN_A_20211121005942_saved_model_after_fit/assets\n",
            "13 0 0.9649531959991963 0.9648666666666667 0.9648440250189191 0.9648666666666667\n",
            "INFO:tensorflow:Assets written to: /content/drive/MyDrive/data_papers/gpSVHN/model_finals/Collab_SFTMX1_SFTMX1_14-6_CNNDNN_A_20211121010048_saved_model_after_fit/assets\n",
            "14 0 0.9643694490310861 0.9642333333333334 0.9642198505920917 0.9642333333333334\n",
            "INFO:tensorflow:Assets written to: /content/drive/MyDrive/data_papers/gpSVHN/model_finals/Collab_SFTMX1_SFTMX1_15-5_CNNDNN_A_20211121010118_saved_model_after_fit/assets\n",
            "15 0 0.9652091617558972 0.9651 0.9650866066743129 0.9651\n",
            "INFO:tensorflow:Assets written to: /content/drive/MyDrive/data_papers/gpSVHN/model_finals/Collab_SFTMX1_SFTMX1_16-4_CNNDNN_A_20211121010221_saved_model_after_fit/assets\n",
            "16 0 0.9665521434072799 0.9665 0.9664817144675382 0.9665\n",
            "INFO:tensorflow:Assets written to: /content/drive/MyDrive/data_papers/gpSVHN/model_finals/Collab_SFTMX1_SFTMX1_17-3_CNNDNN_A_20211121010250_saved_model_after_fit/assets\n",
            "17 0 0.9649410084303073 0.9648333333333333 0.9648216899752057 0.9648333333333333\n",
            "INFO:tensorflow:Assets written to: /content/drive/MyDrive/data_papers/gpSVHN/model_finals/Collab_SFTMX1_SFTMX1_18-2_CNNDNN_A_20211121010332_saved_model_after_fit/assets\n",
            "18 0 0.965165876589243 0.9651 0.9650907989028727 0.9651\n",
            "INFO:tensorflow:Assets written to: /content/drive/MyDrive/data_papers/gpSVHN/model_finals/Collab_SFTMX1_SFTMX1_19-1_CNNDNN_A_20211121010403_saved_model_after_fit/assets\n",
            "19 0 0.9654556522067034 0.9653666666666667 0.9653515897842275 0.9653666666666667\n",
            "INFO:tensorflow:Assets written to: /content/drive/MyDrive/data_papers/gpSVHN/model_finals/Collab_SFTMX1_SFTMX1_20-0_CNNDNN_A_20211121010445_saved_model_after_fit/assets\n",
            "20 0 0.9666316276119633 0.9665666666666667 0.9665520076390621 0.9665666666666667\n",
            "INFO:tensorflow:Assets written to: /content/drive/MyDrive/data_papers/gpSVHN/model_finals/Collab_SFTMX1_SFTMX1_0-24_CNNDNN_A_20211121010506_saved_model_after_fit/assets\n",
            "0 0 0.9083754980127932 0.9083 0.9082213509033902 0.9083\n",
            "INFO:tensorflow:Assets written to: /content/drive/MyDrive/data_papers/gpSVHN/model_finals/Collab_SFTMX1_SFTMX1_1-23_CNNDNN_A_20211121010556_saved_model_after_fit/assets\n",
            "1 0 0.9438008438719656 0.9437666666666666 0.9436883904249573 0.9437666666666666\n",
            "INFO:tensorflow:Assets written to: /content/drive/MyDrive/data_papers/gpSVHN/model_finals/Collab_SFTMX1_SFTMX1_2-22_CNNDNN_A_20211121010619_saved_model_after_fit/assets\n",
            "2 0 0.9489586885651138 0.9489 0.9488549744586026 0.9489\n",
            "INFO:tensorflow:Assets written to: /content/drive/MyDrive/data_papers/gpSVHN/model_finals/Collab_SFTMX1_SFTMX1_3-21_CNNDNN_A_20211121010652_saved_model_after_fit/assets\n",
            "3 0 0.9570714235107516 0.9570666666666666 0.9570517963285854 0.9570666666666666\n",
            "INFO:tensorflow:Assets written to: /content/drive/MyDrive/data_papers/gpSVHN/model_finals/Collab_SFTMX1_SFTMX1_4-20_CNNDNN_A_20211121010727_saved_model_after_fit/assets\n",
            "4 0 0.9599195812315047 0.9598666666666666 0.9598302169080754 0.9598666666666666\n",
            "INFO:tensorflow:Assets written to: /content/drive/MyDrive/data_papers/gpSVHN/model_finals/Collab_SFTMX1_SFTMX1_5-19_CNNDNN_A_20211121010802_saved_model_after_fit/assets\n",
            "5 0 0.9613321692186493 0.9611666666666666 0.9611486701236763 0.9611666666666666\n",
            "INFO:tensorflow:Assets written to: /content/drive/MyDrive/data_papers/gpSVHN/model_finals/Collab_SFTMX1_SFTMX1_6-18_CNNDNN_A_20211121010854_saved_model_after_fit/assets\n",
            "6 0 0.9606290279715156 0.9604666666666667 0.9604363776497933 0.9604666666666667\n",
            "INFO:tensorflow:Assets written to: /content/drive/MyDrive/data_papers/gpSVHN/model_finals/Collab_SFTMX1_SFTMX1_7-17_CNNDNN_A_20211121010927_saved_model_after_fit/assets\n",
            "7 0 0.9627895373560543 0.9626666666666667 0.9626590379602855 0.9626666666666667\n",
            "INFO:tensorflow:Assets written to: /content/drive/MyDrive/data_papers/gpSVHN/model_finals/Collab_SFTMX1_SFTMX1_8-16_CNNDNN_A_20211121011015_saved_model_after_fit/assets\n",
            "8 0 0.9634059045686579 0.9633333333333334 0.9633247441762675 0.9633333333333334\n",
            "INFO:tensorflow:Assets written to: /content/drive/MyDrive/data_papers/gpSVHN/model_finals/Collab_SFTMX1_SFTMX1_9-15_CNNDNN_A_20211121011059_saved_model_after_fit/assets\n",
            "9 0 0.9643876443147056 0.9643 0.9642923628214013 0.9643\n",
            "INFO:tensorflow:Assets written to: /content/drive/MyDrive/data_papers/gpSVHN/model_finals/Collab_SFTMX1_SFTMX1_10-14_CNNDNN_A_20211121011155_saved_model_after_fit/assets\n",
            "10 0 0.9646148355198705 0.9645333333333334 0.9645229472060283 0.9645333333333334\n",
            "INFO:tensorflow:Assets written to: /content/drive/MyDrive/data_papers/gpSVHN/model_finals/Collab_SFTMX1_SFTMX1_11-13_CNNDNN_A_20211121011240_saved_model_after_fit/assets\n",
            "11 0 0.9635229154238875 0.9634 0.9633921105476176 0.9634\n",
            "INFO:tensorflow:Assets written to: /content/drive/MyDrive/data_papers/gpSVHN/model_finals/Collab_SFTMX1_SFTMX1_12-12_CNNDNN_A_20211121011325_saved_model_after_fit/assets\n",
            "12 0 0.964159894820016 0.9640666666666666 0.9640398671798414 0.9640666666666666\n",
            "INFO:tensorflow:Assets written to: /content/drive/MyDrive/data_papers/gpSVHN/model_finals/Collab_SFTMX1_SFTMX1_13-11_CNNDNN_A_20211121011403_saved_model_after_fit/assets\n",
            "13 0 0.9646500968005138 0.9645666666666667 0.9645538705789397 0.9645666666666667\n",
            "INFO:tensorflow:Assets written to: /content/drive/MyDrive/data_papers/gpSVHN/model_finals/Collab_SFTMX1_SFTMX1_14-10_CNNDNN_A_20211121011445_saved_model_after_fit/assets\n",
            "14 0 0.9645550287797906 0.9644666666666667 0.9644499348156909 0.9644666666666667\n",
            "INFO:tensorflow:Assets written to: /content/drive/MyDrive/data_papers/gpSVHN/model_finals/Collab_SFTMX1_SFTMX1_15-9_CNNDNN_A_20211121011517_saved_model_after_fit/assets\n",
            "15 0 0.9645083332081851 0.9644333333333334 0.9644178977777711 0.9644333333333334\n",
            "INFO:tensorflow:Assets written to: /content/drive/MyDrive/data_papers/gpSVHN/model_finals/Collab_SFTMX1_SFTMX1_16-8_CNNDNN_A_20211121011608_saved_model_after_fit/assets\n",
            "16 0 0.9649570203940679 0.9649 0.9648795538001832 0.9649\n",
            "INFO:tensorflow:Assets written to: /content/drive/MyDrive/data_papers/gpSVHN/model_finals/Collab_SFTMX1_SFTMX1_17-7_CNNDNN_A_20211121011640_saved_model_after_fit/assets\n",
            "17 0 0.9651905761324351 0.9651 0.9650778535770709 0.9651\n",
            "INFO:tensorflow:Assets written to: /content/drive/MyDrive/data_papers/gpSVHN/model_finals/Collab_SFTMX1_SFTMX1_18-6_CNNDNN_A_20211121011736_saved_model_after_fit/assets\n",
            "18 0 0.9651904011436785 0.9651 0.9650815817998851 0.9651\n",
            "INFO:tensorflow:Assets written to: /content/drive/MyDrive/data_papers/gpSVHN/model_finals/Collab_SFTMX1_SFTMX1_19-5_CNNDNN_A_20211121011826_saved_model_after_fit/assets\n",
            "19 0 0.9656336848712226 0.9655333333333334 0.9655195928863908 0.9655333333333334\n",
            "INFO:tensorflow:Assets written to: /content/drive/MyDrive/data_papers/gpSVHN/model_finals/Collab_SFTMX1_SFTMX1_20-4_CNNDNN_A_20211121011853_saved_model_after_fit/assets\n",
            "20 0 0.9654248754246592 0.9653333333333334 0.9653068586372405 0.9653333333333334\n",
            "INFO:tensorflow:Assets written to: /content/drive/MyDrive/data_papers/gpSVHN/model_finals/Collab_SFTMX1_SFTMX1_21-3_CNNDNN_A_20211121011946_saved_model_after_fit/assets\n",
            "21 0 0.9656722787722375 0.9656333333333333 0.9656103700872364 0.9656333333333333\n",
            "INFO:tensorflow:Assets written to: /content/drive/MyDrive/data_papers/gpSVHN/model_finals/Collab_SFTMX1_SFTMX1_22-2_CNNDNN_A_20211121012016_saved_model_after_fit/assets\n",
            "22 0 0.9661488776703017 0.9660333333333333 0.966013898570864 0.9660333333333333\n",
            "INFO:tensorflow:Assets written to: /content/drive/MyDrive/data_papers/gpSVHN/model_finals/Collab_SFTMX1_SFTMX1_23-1_CNNDNN_A_20211121012042_saved_model_after_fit/assets\n",
            "23 0 0.9662249578621994 0.9661666666666666 0.9661515358218034 0.9661666666666666\n",
            "INFO:tensorflow:Assets written to: /content/drive/MyDrive/data_papers/gpSVHN/model_finals/Collab_SFTMX1_SFTMX1_24-0_CNNDNN_A_20211121012130_saved_model_after_fit/assets\n",
            "24 0 0.9661741442029207 0.9661333333333333 0.9661036381957143 0.9661333333333333\n",
            "INFO:tensorflow:Assets written to: /content/drive/MyDrive/data_papers/gpSVHN/model_finals/Collab_SFTMX1_SFTMX1_0-28_CNNDNN_A_20211121012201_saved_model_after_fit/assets\n",
            "0 0 0.9046590174075735 0.9044666666666666 0.9043262047465478 0.9044666666666666\n",
            "INFO:tensorflow:Assets written to: /content/drive/MyDrive/data_papers/gpSVHN/model_finals/Collab_SFTMX1_SFTMX1_1-27_CNNDNN_A_20211121012249_saved_model_after_fit/assets\n",
            "1 0 0.9440613596907591 0.9439666666666666 0.9438989232850484 0.9439666666666666\n",
            "INFO:tensorflow:Assets written to: /content/drive/MyDrive/data_papers/gpSVHN/model_finals/Collab_SFTMX1_SFTMX1_2-26_CNNDNN_A_20211121012313_saved_model_after_fit/assets\n",
            "2 0 0.9517532227687202 0.9516666666666667 0.9516670783491978 0.9516666666666667\n",
            "INFO:tensorflow:Assets written to: /content/drive/MyDrive/data_papers/gpSVHN/model_finals/Collab_SFTMX1_SFTMX1_3-25_CNNDNN_A_20211121012344_saved_model_after_fit/assets\n",
            "3 0 0.9559471401286072 0.9559 0.9558544376893525 0.9559\n",
            "INFO:tensorflow:Assets written to: /content/drive/MyDrive/data_papers/gpSVHN/model_finals/Collab_SFTMX1_SFTMX1_4-24_CNNDNN_A_20211121012414_saved_model_after_fit/assets\n",
            "4 0 0.9589373594046912 0.9588666666666666 0.9588310817258502 0.9588666666666666\n",
            "INFO:tensorflow:Assets written to: /content/drive/MyDrive/data_papers/gpSVHN/model_finals/Collab_SFTMX1_SFTMX1_5-23_CNNDNN_A_20211121012446_saved_model_after_fit/assets\n",
            "5 0 0.961217967153855 0.9611333333333333 0.961110653235378 0.9611333333333333\n",
            "INFO:tensorflow:Assets written to: /content/drive/MyDrive/data_papers/gpSVHN/model_finals/Collab_SFTMX1_SFTMX1_6-22_CNNDNN_A_20211121012534_saved_model_after_fit/assets\n",
            "6 0 0.9619203947002231 0.9618666666666666 0.9618527629140954 0.9618666666666666\n",
            "INFO:tensorflow:Assets written to: /content/drive/MyDrive/data_papers/gpSVHN/model_finals/Collab_SFTMX1_SFTMX1_7-21_CNNDNN_A_20211121012634_saved_model_after_fit/assets\n",
            "7 0 0.962996796534413 0.9629333333333333 0.9629199997722991 0.9629333333333333\n",
            "INFO:tensorflow:Assets written to: /content/drive/MyDrive/data_papers/gpSVHN/model_finals/Collab_SFTMX1_SFTMX1_8-20_CNNDNN_A_20211121012706_saved_model_after_fit/assets\n",
            "8 0 0.9640356804108563 0.9639666666666666 0.9639394193062853 0.9639666666666666\n",
            "INFO:tensorflow:Assets written to: /content/drive/MyDrive/data_papers/gpSVHN/model_finals/Collab_SFTMX1_SFTMX1_9-19_CNNDNN_A_20211121012743_saved_model_after_fit/assets\n",
            "9 0 0.9638547272025941 0.9637333333333333 0.9637151010629935 0.9637333333333333\n",
            "INFO:tensorflow:Assets written to: /content/drive/MyDrive/data_papers/gpSVHN/model_finals/Collab_SFTMX1_SFTMX1_10-18_CNNDNN_A_20211121012814_saved_model_after_fit/assets\n",
            "10 0 0.9644119640104614 0.9643666666666667 0.9643529274007876 0.9643666666666667\n",
            "INFO:tensorflow:Assets written to: /content/drive/MyDrive/data_papers/gpSVHN/model_finals/Collab_SFTMX1_SFTMX1_11-17_CNNDNN_A_20211121012857_saved_model_after_fit/assets\n",
            "11 0 0.9645571865362894 0.9644666666666667 0.964450440210156 0.9644666666666667\n",
            "INFO:tensorflow:Assets written to: /content/drive/MyDrive/data_papers/gpSVHN/model_finals/Collab_SFTMX1_SFTMX1_12-16_CNNDNN_A_20211121013006_saved_model_after_fit/assets\n",
            "12 0 0.9641294925444738 0.964 0.9639790895037957 0.964\n",
            "INFO:tensorflow:Assets written to: /content/drive/MyDrive/data_papers/gpSVHN/model_finals/Collab_SFTMX1_SFTMX1_13-15_CNNDNN_A_20211121013046_saved_model_after_fit/assets\n",
            "13 0 0.9644734527211107 0.9644 0.9643775250902962 0.9644\n",
            "INFO:tensorflow:Assets written to: /content/drive/MyDrive/data_papers/gpSVHN/model_finals/Collab_SFTMX1_SFTMX1_14-14_CNNDNN_A_20211121013116_saved_model_after_fit/assets\n",
            "14 0 0.9660701253377275 0.9660333333333333 0.9660067234780118 0.9660333333333333\n",
            "INFO:tensorflow:Assets written to: /content/drive/MyDrive/data_papers/gpSVHN/model_finals/Collab_SFTMX1_SFTMX1_15-13_CNNDNN_A_20211121013154_saved_model_after_fit/assets\n",
            "15 0 0.9649899885421287 0.9648666666666667 0.9648538581242073 0.9648666666666667\n",
            "INFO:tensorflow:Assets written to: /content/drive/MyDrive/data_papers/gpSVHN/model_finals/Collab_SFTMX1_SFTMX1_16-12_CNNDNN_A_20211121013251_saved_model_after_fit/assets\n",
            "16 0 0.9652643016962825 0.9651666666666666 0.9651369888603276 0.9651666666666666\n",
            "INFO:tensorflow:Assets written to: /content/drive/MyDrive/data_papers/gpSVHN/model_finals/Collab_SFTMX1_SFTMX1_17-11_CNNDNN_A_20211121013419_saved_model_after_fit/assets\n",
            "17 0 0.9657362467660114 0.9656 0.9655860495620907 0.9656\n",
            "INFO:tensorflow:Assets written to: /content/drive/MyDrive/data_papers/gpSVHN/model_finals/Collab_SFTMX1_SFTMX1_18-10_CNNDNN_A_20211121013458_saved_model_after_fit/assets\n",
            "18 0 0.9649595234506797 0.9649 0.964878594682637 0.9649\n",
            "INFO:tensorflow:Assets written to: /content/drive/MyDrive/data_papers/gpSVHN/model_finals/Collab_SFTMX1_SFTMX1_19-9_CNNDNN_A_20211121013536_saved_model_after_fit/assets\n",
            "19 0 0.9658458320118755 0.9657666666666667 0.9657425992271352 0.9657666666666667\n",
            "INFO:tensorflow:Assets written to: /content/drive/MyDrive/data_papers/gpSVHN/model_finals/Collab_SFTMX1_SFTMX1_20-8_CNNDNN_A_20211121013614_saved_model_after_fit/assets\n",
            "20 0 0.9655753458591247 0.9655 0.9654830096128091 0.9655\n",
            "INFO:tensorflow:Assets written to: /content/drive/MyDrive/data_papers/gpSVHN/model_finals/Collab_SFTMX1_SFTMX1_21-7_CNNDNN_A_20211121013648_saved_model_after_fit/assets\n",
            "21 0 0.9660052568766891 0.9659 0.9658814819697408 0.9659\n",
            "INFO:tensorflow:Assets written to: /content/drive/MyDrive/data_papers/gpSVHN/model_finals/Collab_SFTMX1_SFTMX1_22-6_CNNDNN_A_20211121013711_saved_model_after_fit/assets\n",
            "22 0 0.9649020668514439 0.9648 0.964785587129107 0.9648\n",
            "INFO:tensorflow:Assets written to: /content/drive/MyDrive/data_papers/gpSVHN/model_finals/Collab_SFTMX1_SFTMX1_23-5_CNNDNN_A_20211121013805_saved_model_after_fit/assets\n",
            "23 0 0.9665387324550415 0.9664 0.9663913150125014 0.9664\n",
            "INFO:tensorflow:Assets written to: /content/drive/MyDrive/data_papers/gpSVHN/model_finals/Collab_SFTMX1_SFTMX1_24-4_CNNDNN_A_20211121013847_saved_model_after_fit/assets\n",
            "24 0 0.9656784537496392 0.9656333333333333 0.9656084804813628 0.9656333333333333\n",
            "INFO:tensorflow:Assets written to: /content/drive/MyDrive/data_papers/gpSVHN/model_finals/Collab_SFTMX1_SFTMX1_25-3_CNNDNN_A_20211121013928_saved_model_after_fit/assets\n",
            "25 0 0.9670057446647092 0.9669 0.9668822303526338 0.9669\n",
            "INFO:tensorflow:Assets written to: /content/drive/MyDrive/data_papers/gpSVHN/model_finals/Collab_SFTMX1_SFTMX1_26-2_CNNDNN_A_20211121014011_saved_model_after_fit/assets\n",
            "26 0 0.9656092607518137 0.9655333333333334 0.9655056423800558 0.9655333333333334\n",
            "INFO:tensorflow:Assets written to: /content/drive/MyDrive/data_papers/gpSVHN/model_finals/Collab_SFTMX1_SFTMX1_27-1_CNNDNN_A_20211121014040_saved_model_after_fit/assets\n",
            "27 0 0.966176232065448 0.9660666666666666 0.9660470809323272 0.9660666666666666\n",
            "INFO:tensorflow:Assets written to: /content/drive/MyDrive/data_papers/gpSVHN/model_finals/Collab_SFTMX1_SFTMX1_28-0_CNNDNN_A_20211121014107_saved_model_after_fit/assets\n",
            "28 0 0.9660569215640499 0.9659666666666666 0.9659431400568028 0.9659666666666666\n",
            "INFO:tensorflow:Assets written to: /content/drive/MyDrive/data_papers/gpSVHN/model_finals/Collab_SFTMX1_SFTMX1_0-32_CNNDNN_A_20211121014137_saved_model_after_fit/assets\n",
            "0 0 0.909952230295977 0.9097 0.909608866020656 0.9097\n",
            "INFO:tensorflow:Assets written to: /content/drive/MyDrive/data_papers/gpSVHN/model_finals/Collab_SFTMX1_SFTMX1_1-31_CNNDNN_A_20211121014242_saved_model_after_fit/assets\n",
            "1 0 0.9421802638083449 0.9419333333333333 0.9418855344159269 0.9419333333333333\n",
            "INFO:tensorflow:Assets written to: /content/drive/MyDrive/data_papers/gpSVHN/model_finals/Collab_SFTMX1_SFTMX1_2-30_CNNDNN_A_20211121014304_saved_model_after_fit/assets\n",
            "2 0 0.949233428448121 0.9491 0.9490696578696346 0.9491\n",
            "INFO:tensorflow:Assets written to: /content/drive/MyDrive/data_papers/gpSVHN/model_finals/Collab_SFTMX1_SFTMX1_3-29_CNNDNN_A_20211121014331_saved_model_after_fit/assets\n",
            "3 0 0.9554557519320636 0.9554 0.9553723116886421 0.9554\n",
            "INFO:tensorflow:Assets written to: /content/drive/MyDrive/data_papers/gpSVHN/model_finals/Collab_SFTMX1_SFTMX1_4-28_CNNDNN_A_20211121014400_saved_model_after_fit/assets\n",
            "4 0 0.9603110879919775 0.9602333333333334 0.9602128710572405 0.9602333333333334\n",
            "INFO:tensorflow:Assets written to: /content/drive/MyDrive/data_papers/gpSVHN/model_finals/Collab_SFTMX1_SFTMX1_5-27_CNNDNN_A_20211121014440_saved_model_after_fit/assets\n",
            "5 0 0.9597180159076519 0.9596 0.9595752578375993 0.9596\n",
            "INFO:tensorflow:Assets written to: /content/drive/MyDrive/data_papers/gpSVHN/model_finals/Collab_SFTMX1_SFTMX1_6-26_CNNDNN_A_20211121014523_saved_model_after_fit/assets\n",
            "6 0 0.9612913217352779 0.9611666666666666 0.9611324271142331 0.9611666666666666\n",
            "INFO:tensorflow:Assets written to: /content/drive/MyDrive/data_papers/gpSVHN/model_finals/Collab_SFTMX1_SFTMX1_7-25_CNNDNN_A_20211121014609_saved_model_after_fit/assets\n",
            "7 0 0.9620957360366968 0.9619333333333333 0.9619208167495126 0.9619333333333333\n",
            "INFO:tensorflow:Assets written to: /content/drive/MyDrive/data_papers/gpSVHN/model_finals/Collab_SFTMX1_SFTMX1_8-24_CNNDNN_A_20211121014701_saved_model_after_fit/assets\n",
            "8 0 0.9624213866814137 0.9623333333333334 0.9623248355729287 0.9623333333333334\n",
            "INFO:tensorflow:Assets written to: /content/drive/MyDrive/data_papers/gpSVHN/model_finals/Collab_SFTMX1_SFTMX1_9-23_CNNDNN_A_20211121014818_saved_model_after_fit/assets\n",
            "9 0 0.9632236368265371 0.9631 0.9630758866173507 0.9631\n",
            "INFO:tensorflow:Assets written to: /content/drive/MyDrive/data_papers/gpSVHN/model_finals/Collab_SFTMX1_SFTMX1_10-22_CNNDNN_A_20211121014909_saved_model_after_fit/assets\n",
            "10 0 0.9644122166104563 0.9643333333333334 0.964310854023649 0.9643333333333334\n",
            "INFO:tensorflow:Assets written to: /content/drive/MyDrive/data_papers/gpSVHN/model_finals/Collab_SFTMX1_SFTMX1_11-21_CNNDNN_A_20211121014950_saved_model_after_fit/assets\n",
            "11 0 0.9633511740153056 0.9632666666666667 0.9632509240156211 0.9632666666666667\n",
            "INFO:tensorflow:Assets written to: /content/drive/MyDrive/data_papers/gpSVHN/model_finals/Collab_SFTMX1_SFTMX1_12-20_CNNDNN_A_20211121015027_saved_model_after_fit/assets\n",
            "12 0 0.964039782964899 0.9639333333333333 0.9639065992346052 0.9639333333333333\n",
            "INFO:tensorflow:Assets written to: /content/drive/MyDrive/data_papers/gpSVHN/model_finals/Collab_SFTMX1_SFTMX1_13-19_CNNDNN_A_20211121015141_saved_model_after_fit/assets\n",
            "13 0 0.9654866681269866 0.9654333333333334 0.9654133860555364 0.9654333333333334\n",
            "INFO:tensorflow:Assets written to: /content/drive/MyDrive/data_papers/gpSVHN/model_finals/Collab_SFTMX1_SFTMX1_14-18_CNNDNN_A_20211121015244_saved_model_after_fit/assets\n",
            "14 0 0.9653114130404141 0.9651666666666666 0.9651652823432455 0.9651666666666666\n",
            "INFO:tensorflow:Assets written to: /content/drive/MyDrive/data_papers/gpSVHN/model_finals/Collab_SFTMX1_SFTMX1_15-17_CNNDNN_A_20211121015328_saved_model_after_fit/assets\n",
            "15 0 0.964153406073675 0.9640333333333333 0.9640152298096994 0.9640333333333333\n",
            "INFO:tensorflow:Assets written to: /content/drive/MyDrive/data_papers/gpSVHN/model_finals/Collab_SFTMX1_SFTMX1_16-16_CNNDNN_A_20211121015417_saved_model_after_fit/assets\n",
            "16 0 0.965196165032819 0.9651333333333333 0.9651071395874562 0.9651333333333333\n",
            "INFO:tensorflow:Assets written to: /content/drive/MyDrive/data_papers/gpSVHN/model_finals/Collab_SFTMX1_SFTMX1_17-15_CNNDNN_A_20211121015510_saved_model_after_fit/assets\n",
            "17 0 0.964986673731107 0.9649 0.9648875876304808 0.9649\n",
            "INFO:tensorflow:Assets written to: /content/drive/MyDrive/data_papers/gpSVHN/model_finals/Collab_SFTMX1_SFTMX1_18-14_CNNDNN_A_20211121015601_saved_model_after_fit/assets\n",
            "18 0 0.9653448904914336 0.9652333333333334 0.9652158480497396 0.9652333333333334\n",
            "INFO:tensorflow:Assets written to: /content/drive/MyDrive/data_papers/gpSVHN/model_finals/Collab_SFTMX1_SFTMX1_19-13_CNNDNN_A_20211121015652_saved_model_after_fit/assets\n",
            "19 0 0.965877809948734 0.9658 0.9657760754151049 0.9658\n",
            "INFO:tensorflow:Assets written to: /content/drive/MyDrive/data_papers/gpSVHN/model_finals/Collab_SFTMX1_SFTMX1_20-12_CNNDNN_A_20211121015801_saved_model_after_fit/assets\n",
            "20 0 0.9653105349364661 0.9652333333333334 0.9652206091045117 0.9652333333333334\n",
            "INFO:tensorflow:Assets written to: /content/drive/MyDrive/data_papers/gpSVHN/model_finals/Collab_SFTMX1_SFTMX1_21-11_CNNDNN_A_20211121015831_saved_model_after_fit/assets\n",
            "21 0 0.9651066520552658 0.9649666666666666 0.9649558525023971 0.9649666666666666\n",
            "INFO:tensorflow:Assets written to: /content/drive/MyDrive/data_papers/gpSVHN/model_finals/Collab_SFTMX1_SFTMX1_22-10_CNNDNN_A_20211121015919_saved_model_after_fit/assets\n",
            "22 0 0.9660110439043567 0.9659 0.9658844309767244 0.9659\n",
            "INFO:tensorflow:Assets written to: /content/drive/MyDrive/data_papers/gpSVHN/model_finals/Collab_SFTMX1_SFTMX1_23-9_CNNDNN_A_20211121015958_saved_model_after_fit/assets\n",
            "23 0 0.9659582269753878 0.9659 0.9658807960996927 0.9659\n",
            "INFO:tensorflow:Assets written to: /content/drive/MyDrive/data_papers/gpSVHN/model_finals/Collab_SFTMX1_SFTMX1_24-8_CNNDNN_A_20211121020040_saved_model_after_fit/assets\n",
            "24 0 0.9655264688553723 0.9653666666666667 0.9653446408357829 0.9653666666666667\n",
            "INFO:tensorflow:Assets written to: /content/drive/MyDrive/data_papers/gpSVHN/model_finals/Collab_SFTMX1_SFTMX1_25-7_CNNDNN_A_20211121020115_saved_model_after_fit/assets\n",
            "25 0 0.9660900797821268 0.9659333333333333 0.9659287647888687 0.9659333333333333\n",
            "INFO:tensorflow:Assets written to: /content/drive/MyDrive/data_papers/gpSVHN/model_finals/Collab_SFTMX1_SFTMX1_26-6_CNNDNN_A_20211121020218_saved_model_after_fit/assets\n",
            "26 0 0.9663170513330958 0.9662333333333334 0.966215427967035 0.9662333333333334\n",
            "INFO:tensorflow:Assets written to: /content/drive/MyDrive/data_papers/gpSVHN/model_finals/Collab_SFTMX1_SFTMX1_27-5_CNNDNN_A_20211121020308_saved_model_after_fit/assets\n",
            "27 0 0.9667886935466026 0.9667333333333333 0.9667073642069984 0.9667333333333333\n",
            "INFO:tensorflow:Assets written to: /content/drive/MyDrive/data_papers/gpSVHN/model_finals/Collab_SFTMX1_SFTMX1_28-4_CNNDNN_A_20211121020336_saved_model_after_fit/assets\n",
            "28 0 0.9663589336395202 0.9662666666666667 0.966251264376785 0.9662666666666667\n",
            "INFO:tensorflow:Assets written to: /content/drive/MyDrive/data_papers/gpSVHN/model_finals/Collab_SFTMX1_SFTMX1_29-3_CNNDNN_A_20211121020417_saved_model_after_fit/assets\n",
            "29 0 0.9665127410436067 0.9664333333333334 0.9664096696583749 0.9664333333333334\n",
            "INFO:tensorflow:Assets written to: /content/drive/MyDrive/data_papers/gpSVHN/model_finals/Collab_SFTMX1_SFTMX1_30-2_CNNDNN_A_20211121020450_saved_model_after_fit/assets\n",
            "30 0 0.9662481791858637 0.9661333333333333 0.9661043384122173 0.9661333333333333\n",
            "INFO:tensorflow:Assets written to: /content/drive/MyDrive/data_papers/gpSVHN/model_finals/Collab_SFTMX1_SFTMX1_31-1_CNNDNN_A_20211121020517_saved_model_after_fit/assets\n",
            "31 0 0.9664527066140943 0.9663333333333334 0.9663201725233859 0.9663333333333334\n",
            "INFO:tensorflow:Assets written to: /content/drive/MyDrive/data_papers/gpSVHN/model_finals/Collab_SFTMX1_SFTMX1_32-0_CNNDNN_A_20211121020552_saved_model_after_fit/assets\n",
            "32 0 0.9668023884790813 0.9667 0.9666850775229727 0.9667\n",
            "INFO:tensorflow:Assets written to: /content/drive/MyDrive/data_papers/gpSVHN/model_finals/Collab_SFTMX1_SFTMX1_0-36_CNNDNN_A_20211121020614_saved_model_after_fit/assets\n",
            "0 0 0.9105102950067838 0.9104 0.9103596994128733 0.9104\n",
            "INFO:tensorflow:Assets written to: /content/drive/MyDrive/data_papers/gpSVHN/model_finals/Collab_SFTMX1_SFTMX1_1-35_CNNDNN_A_20211121020702_saved_model_after_fit/assets\n",
            "1 0 0.9443398625838284 0.9442666666666667 0.9442082180736653 0.9442666666666667\n",
            "INFO:tensorflow:Assets written to: /content/drive/MyDrive/data_papers/gpSVHN/model_finals/Collab_SFTMX1_SFTMX1_2-34_CNNDNN_A_20211121020726_saved_model_after_fit/assets\n",
            "2 0 0.9486094946140698 0.9485333333333333 0.9485088643348423 0.9485333333333333\n",
            "INFO:tensorflow:Assets written to: /content/drive/MyDrive/data_papers/gpSVHN/model_finals/Collab_SFTMX1_SFTMX1_3-33_CNNDNN_A_20211121020752_saved_model_after_fit/assets\n",
            "3 0 0.9572122254446389 0.9570333333333333 0.9570410223981143 0.9570333333333333\n",
            "INFO:tensorflow:Assets written to: /content/drive/MyDrive/data_papers/gpSVHN/model_finals/Collab_SFTMX1_SFTMX1_4-32_CNNDNN_A_20211121020821_saved_model_after_fit/assets\n",
            "4 0 0.9592912102011598 0.9591666666666666 0.9591537151954993 0.9591666666666666\n",
            "INFO:tensorflow:Assets written to: /content/drive/MyDrive/data_papers/gpSVHN/model_finals/Collab_SFTMX1_SFTMX1_5-31_CNNDNN_A_20211121020901_saved_model_after_fit/assets\n",
            "5 0 0.9619495674258021 0.9619 0.9618867975223062 0.9619\n",
            "INFO:tensorflow:Assets written to: /content/drive/MyDrive/data_papers/gpSVHN/model_finals/Collab_SFTMX1_SFTMX1_6-30_CNNDNN_A_20211121020930_saved_model_after_fit/assets\n",
            "6 0 0.9617615325752304 0.9616333333333333 0.961618192983132 0.9616333333333333\n",
            "INFO:tensorflow:Assets written to: /content/drive/MyDrive/data_papers/gpSVHN/model_finals/Collab_SFTMX1_SFTMX1_7-29_CNNDNN_A_20211121020959_saved_model_after_fit/assets\n",
            "7 0 0.9629033207027744 0.9627333333333333 0.9627170612522796 0.9627333333333333\n",
            "INFO:tensorflow:Assets written to: /content/drive/MyDrive/data_papers/gpSVHN/model_finals/Collab_SFTMX1_SFTMX1_8-28_CNNDNN_A_20211121021043_saved_model_after_fit/assets\n",
            "8 0 0.9634542059307307 0.9634 0.9633769723016521 0.9634\n",
            "INFO:tensorflow:Assets written to: /content/drive/MyDrive/data_papers/gpSVHN/model_finals/Collab_SFTMX1_SFTMX1_9-27_CNNDNN_A_20211121021144_saved_model_after_fit/assets\n",
            "9 0 0.9635364785290778 0.9634666666666667 0.963443035845298 0.9634666666666667\n",
            "INFO:tensorflow:Assets written to: /content/drive/MyDrive/data_papers/gpSVHN/model_finals/Collab_SFTMX1_SFTMX1_10-26_CNNDNN_A_20211121021218_saved_model_after_fit/assets\n",
            "10 0 0.9634204027717912 0.9632666666666667 0.9632484103962592 0.9632666666666667\n",
            "INFO:tensorflow:Assets written to: /content/drive/MyDrive/data_papers/gpSVHN/model_finals/Collab_SFTMX1_SFTMX1_11-25_CNNDNN_A_20211121021308_saved_model_after_fit/assets\n",
            "11 0 0.9642895570518965 0.9642333333333334 0.9642152491455289 0.9642333333333334\n",
            "INFO:tensorflow:Assets written to: /content/drive/MyDrive/data_papers/gpSVHN/model_finals/Collab_SFTMX1_SFTMX1_12-24_CNNDNN_A_20211121021400_saved_model_after_fit/assets\n",
            "12 0 0.9647132760651361 0.9645666666666667 0.9645538766391316 0.9645666666666667\n",
            "INFO:tensorflow:Assets written to: /content/drive/MyDrive/data_papers/gpSVHN/model_finals/Collab_SFTMX1_SFTMX1_13-23_CNNDNN_A_20211121021446_saved_model_after_fit/assets\n",
            "13 0 0.9640318503079702 0.9638333333333333 0.9638213862835977 0.9638333333333333\n",
            "INFO:tensorflow:Assets written to: /content/drive/MyDrive/data_papers/gpSVHN/model_finals/Collab_SFTMX1_SFTMX1_14-22_CNNDNN_A_20211121021527_saved_model_after_fit/assets\n",
            "14 0 0.9653296700171903 0.9652 0.9651852377070125 0.9652\n",
            "INFO:tensorflow:Assets written to: /content/drive/MyDrive/data_papers/gpSVHN/model_finals/Collab_SFTMX1_SFTMX1_15-21_CNNDNN_A_20211121021623_saved_model_after_fit/assets\n",
            "15 0 0.9650481165530821 0.9649666666666666 0.9649391090027954 0.9649666666666666\n",
            "INFO:tensorflow:Assets written to: /content/drive/MyDrive/data_papers/gpSVHN/model_finals/Collab_SFTMX1_SFTMX1_16-20_CNNDNN_A_20211121021730_saved_model_after_fit/assets\n",
            "16 0 0.9654189932542523 0.9653333333333334 0.9653194130309483 0.9653333333333334\n",
            "INFO:tensorflow:Assets written to: /content/drive/MyDrive/data_papers/gpSVHN/model_finals/Collab_SFTMX1_SFTMX1_17-19_CNNDNN_A_20211121021825_saved_model_after_fit/assets\n",
            "17 0 0.9654961058662638 0.9654333333333334 0.9654139437350613 0.9654333333333334\n",
            "INFO:tensorflow:Assets written to: /content/drive/MyDrive/data_papers/gpSVHN/model_finals/Collab_SFTMX1_SFTMX1_18-18_CNNDNN_A_20211121021914_saved_model_after_fit/assets\n",
            "18 0 0.964870630592532 0.9648333333333333 0.9648104422022964 0.9648333333333333\n",
            "INFO:tensorflow:Assets written to: /content/drive/MyDrive/data_papers/gpSVHN/model_finals/Collab_SFTMX1_SFTMX1_19-17_CNNDNN_A_20211121022012_saved_model_after_fit/assets\n",
            "19 0 0.9656637621730124 0.9655666666666667 0.9655495405453386 0.9655666666666667\n",
            "INFO:tensorflow:Assets written to: /content/drive/MyDrive/data_papers/gpSVHN/model_finals/Collab_SFTMX1_SFTMX1_20-16_CNNDNN_A_20211121022107_saved_model_after_fit/assets\n",
            "20 0 0.9653400208890687 0.9652333333333334 0.9652282762924879 0.9652333333333334\n",
            "INFO:tensorflow:Assets written to: /content/drive/MyDrive/data_papers/gpSVHN/model_finals/Collab_SFTMX1_SFTMX1_21-15_CNNDNN_A_20211121022153_saved_model_after_fit/assets\n",
            "21 0 0.9655822282546372 0.9655 0.9654807807777502 0.9655\n",
            "INFO:tensorflow:Assets written to: /content/drive/MyDrive/data_papers/gpSVHN/model_finals/Collab_SFTMX1_SFTMX1_22-14_CNNDNN_A_20211121022236_saved_model_after_fit/assets\n",
            "22 0 0.9668614793894047 0.9668 0.966776334856853 0.9668\n",
            "INFO:tensorflow:Assets written to: /content/drive/MyDrive/data_papers/gpSVHN/model_finals/Collab_SFTMX1_SFTMX1_23-13_CNNDNN_A_20211121022326_saved_model_after_fit/assets\n",
            "23 0 0.9663256023185541 0.9662333333333334 0.9662263423231117 0.9662333333333334\n",
            "INFO:tensorflow:Assets written to: /content/drive/MyDrive/data_papers/gpSVHN/model_finals/Collab_SFTMX1_SFTMX1_24-12_CNNDNN_A_20211121022415_saved_model_after_fit/assets\n",
            "24 0 0.9660229508413676 0.9659333333333333 0.9659213059576285 0.9659333333333333\n",
            "INFO:tensorflow:Assets written to: /content/drive/MyDrive/data_papers/gpSVHN/model_finals/Collab_SFTMX1_SFTMX1_25-11_CNNDNN_A_20211121022507_saved_model_after_fit/assets\n",
            "25 0 0.9661810274183394 0.9661333333333333 0.9661046546636377 0.9661333333333333\n",
            "INFO:tensorflow:Assets written to: /content/drive/MyDrive/data_papers/gpSVHN/model_finals/Collab_SFTMX1_SFTMX1_26-10_CNNDNN_A_20211121022549_saved_model_after_fit/assets\n",
            "26 0 0.9664004463862761 0.9663 0.9662913864575657 0.9663\n",
            "INFO:tensorflow:Assets written to: /content/drive/MyDrive/data_papers/gpSVHN/model_finals/Collab_SFTMX1_SFTMX1_27-9_CNNDNN_A_20211121022642_saved_model_after_fit/assets\n",
            "27 0 0.9662015101062341 0.9660666666666666 0.9660502773952365 0.9660666666666666\n",
            "INFO:tensorflow:Assets written to: /content/drive/MyDrive/data_papers/gpSVHN/model_finals/Collab_SFTMX1_SFTMX1_28-8_CNNDNN_A_20211121022717_saved_model_after_fit/assets\n",
            "28 0 0.9655936694635529 0.9655 0.9654879460768325 0.9655\n",
            "INFO:tensorflow:Assets written to: /content/drive/MyDrive/data_papers/gpSVHN/model_finals/Collab_SFTMX1_SFTMX1_29-7_CNNDNN_A_20211121022752_saved_model_after_fit/assets\n",
            "29 0 0.9657263538816879 0.9655666666666667 0.9655582206603398 0.9655666666666667\n",
            "INFO:tensorflow:Assets written to: /content/drive/MyDrive/data_papers/gpSVHN/model_finals/Collab_SFTMX1_SFTMX1_30-6_CNNDNN_A_20211121022840_saved_model_after_fit/assets\n",
            "30 0 0.9661967437343166 0.9661 0.9660841390628513 0.9661\n",
            "INFO:tensorflow:Assets written to: /content/drive/MyDrive/data_papers/gpSVHN/model_finals/Collab_SFTMX1_SFTMX1_31-5_CNNDNN_A_20211121022923_saved_model_after_fit/assets\n",
            "31 0 0.9669439672611554 0.9669 0.9668718692341873 0.9669\n",
            "INFO:tensorflow:Assets written to: /content/drive/MyDrive/data_papers/gpSVHN/model_finals/Collab_SFTMX1_SFTMX1_32-4_CNNDNN_A_20211121023007_saved_model_after_fit/assets\n",
            "32 0 0.9663478436731449 0.9662333333333334 0.9662163762908138 0.9662333333333334\n",
            "INFO:tensorflow:Assets written to: /content/drive/MyDrive/data_papers/gpSVHN/model_finals/Collab_SFTMX1_SFTMX1_33-3_CNNDNN_A_20211121023047_saved_model_after_fit/assets\n",
            "33 0 0.9665488026912822 0.9665 0.966479732394066 0.9665\n",
            "INFO:tensorflow:Assets written to: /content/drive/MyDrive/data_papers/gpSVHN/model_finals/Collab_SFTMX1_SFTMX1_34-2_CNNDNN_A_20211121023120_saved_model_after_fit/assets\n",
            "34 0 0.966677955222633 0.9665666666666667 0.9665459502764369 0.9665666666666667\n",
            "INFO:tensorflow:Assets written to: /content/drive/MyDrive/data_papers/gpSVHN/model_finals/Collab_SFTMX1_SFTMX1_35-1_CNNDNN_A_20211121023144_saved_model_after_fit/assets\n",
            "35 0 0.9674780725735778 0.9674 0.9673757066631461 0.9674\n",
            "INFO:tensorflow:Assets written to: /content/drive/MyDrive/data_papers/gpSVHN/model_finals/Collab_SFTMX1_SFTMX1_36-0_CNNDNN_A_20211121023211_saved_model_after_fit/assets\n",
            "36 0 0.9666571495864805 0.9665333333333334 0.9665163364730802 0.9665333333333334\n",
            "INFO:tensorflow:Assets written to: /content/drive/MyDrive/data_papers/gpSVHN/model_finals/Collab_SFTMX1_SFTMX1_0-38_CNNDNN_A_20211121023250_saved_model_after_fit/assets\n",
            "0 0 0.9079432147431734 0.9077 0.9074964425092925 0.9077\n",
            "INFO:tensorflow:Assets written to: /content/drive/MyDrive/data_papers/gpSVHN/model_finals/Collab_SFTMX1_SFTMX1_1-37_CNNDNN_A_20211121023347_saved_model_after_fit/assets\n",
            "1 0 0.944855688228635 0.9448 0.9447342013402261 0.9448\n",
            "INFO:tensorflow:Assets written to: /content/drive/MyDrive/data_papers/gpSVHN/model_finals/Collab_SFTMX1_SFTMX1_2-36_CNNDNN_A_20211121023411_saved_model_after_fit/assets\n",
            "2 0 0.9520469402227875 0.952 0.9519626288961281 0.952\n",
            "INFO:tensorflow:Assets written to: /content/drive/MyDrive/data_papers/gpSVHN/model_finals/Collab_SFTMX1_SFTMX1_3-35_CNNDNN_A_20211121023456_saved_model_after_fit/assets\n",
            "3 0 0.955457026108046 0.9554 0.9553873365039088 0.9554\n",
            "INFO:tensorflow:Assets written to: /content/drive/MyDrive/data_papers/gpSVHN/model_finals/Collab_SFTMX1_SFTMX1_4-34_CNNDNN_A_20211121023532_saved_model_after_fit/assets\n",
            "4 0 0.9591480155446624 0.9591333333333333 0.9590914051310702 0.9591333333333333\n",
            "INFO:tensorflow:Assets written to: /content/drive/MyDrive/data_papers/gpSVHN/model_finals/Collab_SFTMX1_SFTMX1_5-33_CNNDNN_A_20211121023619_saved_model_after_fit/assets\n",
            "5 0 0.9608057834330727 0.9607666666666667 0.9607445431981501 0.9607666666666667\n",
            "INFO:tensorflow:Assets written to: /content/drive/MyDrive/data_papers/gpSVHN/model_finals/Collab_SFTMX1_SFTMX1_6-32_CNNDNN_A_20211121023703_saved_model_after_fit/assets\n",
            "6 0 0.9624481083291389 0.9623333333333334 0.9623212125101875 0.9623333333333334\n",
            "INFO:tensorflow:Assets written to: /content/drive/MyDrive/data_papers/gpSVHN/model_finals/Collab_SFTMX1_SFTMX1_7-31_CNNDNN_A_20211121023755_saved_model_after_fit/assets\n",
            "7 0 0.9628023339531635 0.9627666666666667 0.9627359134709146 0.9627666666666667\n",
            "INFO:tensorflow:Assets written to: /content/drive/MyDrive/data_papers/gpSVHN/model_finals/Collab_SFTMX1_SFTMX1_8-30_CNNDNN_A_20211121023845_saved_model_after_fit/assets\n",
            "8 0 0.9630597240200328 0.9629666666666666 0.9629410207360158 0.9629666666666666\n",
            "INFO:tensorflow:Assets written to: /content/drive/MyDrive/data_papers/gpSVHN/model_finals/Collab_SFTMX1_SFTMX1_9-29_CNNDNN_A_20211121024000_saved_model_after_fit/assets\n",
            "9 0 0.9644655450437157 0.9643333333333334 0.9643170603207962 0.9643333333333334\n",
            "INFO:tensorflow:Assets written to: /content/drive/MyDrive/data_papers/gpSVHN/model_finals/Collab_SFTMX1_SFTMX1_10-28_CNNDNN_A_20211121024052_saved_model_after_fit/assets\n",
            "10 0 0.964095131956741 0.9640333333333333 0.9640152391772406 0.9640333333333333\n",
            "INFO:tensorflow:Assets written to: /content/drive/MyDrive/data_papers/gpSVHN/model_finals/Collab_SFTMX1_SFTMX1_11-27_CNNDNN_A_20211121024132_saved_model_after_fit/assets\n",
            "11 0 0.9638771278282121 0.9638333333333333 0.9638092722869065 0.9638333333333333\n",
            "INFO:tensorflow:Assets written to: /content/drive/MyDrive/data_papers/gpSVHN/model_finals/Collab_SFTMX1_SFTMX1_12-26_CNNDNN_A_20211121024227_saved_model_after_fit/assets\n",
            "12 0 0.9640451044580489 0.9639333333333333 0.9639016329691248 0.9639333333333333\n",
            "INFO:tensorflow:Assets written to: /content/drive/MyDrive/data_papers/gpSVHN/model_finals/Collab_SFTMX1_SFTMX1_13-25_CNNDNN_A_20211121024343_saved_model_after_fit/assets\n",
            "13 0 0.9647045201093302 0.9646666666666667 0.964652413100572 0.9646666666666667\n",
            "INFO:tensorflow:Assets written to: /content/drive/MyDrive/data_papers/gpSVHN/model_finals/Collab_SFTMX1_SFTMX1_14-24_CNNDNN_A_20211121024453_saved_model_after_fit/assets\n",
            "14 0 0.9651150720597312 0.9650666666666666 0.9650531149173762 0.9650666666666666\n",
            "INFO:tensorflow:Assets written to: /content/drive/MyDrive/data_papers/gpSVHN/model_finals/Collab_SFTMX1_SFTMX1_15-23_CNNDNN_A_20211121024601_saved_model_after_fit/assets\n",
            "15 0 0.9650301260674683 0.9649333333333333 0.9649179479561505 0.9649333333333333\n",
            "INFO:tensorflow:Assets written to: /content/drive/MyDrive/data_papers/gpSVHN/model_finals/Collab_SFTMX1_SFTMX1_16-22_CNNDNN_A_20211121024655_saved_model_after_fit/assets\n",
            "16 0 0.9649630678656683 0.9648666666666667 0.9648504883904653 0.9648666666666667\n",
            "INFO:tensorflow:Assets written to: /content/drive/MyDrive/data_papers/gpSVHN/model_finals/Collab_SFTMX1_SFTMX1_17-21_CNNDNN_A_20211121024745_saved_model_after_fit/assets\n",
            "17 0 0.9658409095859127 0.9657666666666667 0.9657451836534274 0.9657666666666667\n",
            "INFO:tensorflow:Assets written to: /content/drive/MyDrive/data_papers/gpSVHN/model_finals/Collab_SFTMX1_SFTMX1_18-20_CNNDNN_A_20211121024835_saved_model_after_fit/assets\n",
            "18 0 0.9660551884170401 0.9659666666666666 0.9659501969123133 0.9659666666666666\n",
            "INFO:tensorflow:Assets written to: /content/drive/MyDrive/data_papers/gpSVHN/model_finals/Collab_SFTMX1_SFTMX1_19-19_CNNDNN_A_20211121024916_saved_model_after_fit/assets\n",
            "19 0 0.9654819736566304 0.9654 0.9653829384879606 0.9654\n",
            "INFO:tensorflow:Assets written to: /content/drive/MyDrive/data_papers/gpSVHN/model_finals/Collab_SFTMX1_SFTMX1_20-18_CNNDNN_A_20211121025010_saved_model_after_fit/assets\n",
            "20 0 0.9661357507367374 0.9660333333333333 0.9660148909550776 0.9660333333333333\n",
            "INFO:tensorflow:Assets written to: /content/drive/MyDrive/data_papers/gpSVHN/model_finals/Collab_SFTMX1_SFTMX1_21-17_CNNDNN_A_20211121025108_saved_model_after_fit/assets\n",
            "21 0 0.9658634810496233 0.9657666666666667 0.9657590951558948 0.9657666666666667\n",
            "INFO:tensorflow:Assets written to: /content/drive/MyDrive/data_papers/gpSVHN/model_finals/Collab_SFTMX1_SFTMX1_22-16_CNNDNN_A_20211121025206_saved_model_after_fit/assets\n",
            "22 0 0.9656293575276476 0.9655333333333334 0.965515545982252 0.9655333333333334\n",
            "INFO:tensorflow:Assets written to: /content/drive/MyDrive/data_papers/gpSVHN/model_finals/Collab_SFTMX1_SFTMX1_23-15_CNNDNN_A_20211121025316_saved_model_after_fit/assets\n",
            "23 0 0.9657441608909955 0.9656666666666667 0.9656493078249803 0.9656666666666667\n",
            "INFO:tensorflow:Assets written to: /content/drive/MyDrive/data_papers/gpSVHN/model_finals/Collab_SFTMX1_SFTMX1_24-14_CNNDNN_A_20211121025433_saved_model_after_fit/assets\n",
            "24 0 0.9653594506774823 0.9653 0.9652844193037946 0.9653\n",
            "INFO:tensorflow:Assets written to: /content/drive/MyDrive/data_papers/gpSVHN/model_finals/Collab_SFTMX1_SFTMX1_25-13_CNNDNN_A_20211121025506_saved_model_after_fit/assets\n",
            "25 0 0.9661830719798027 0.9661333333333333 0.9661228439338819 0.9661333333333333\n",
            "INFO:tensorflow:Assets written to: /content/drive/MyDrive/data_papers/gpSVHN/model_finals/Collab_SFTMX1_SFTMX1_26-12_CNNDNN_A_20211121025559_saved_model_after_fit/assets\n",
            "26 0 0.965807717351107 0.9657333333333333 0.9657094403892588 0.9657333333333333\n",
            "INFO:tensorflow:Assets written to: /content/drive/MyDrive/data_papers/gpSVHN/model_finals/Collab_SFTMX1_SFTMX1_27-11_CNNDNN_A_20211121025656_saved_model_after_fit/assets\n",
            "27 0 0.965685679813141 0.9655666666666667 0.9655475302979907 0.9655666666666667\n",
            "INFO:tensorflow:Assets written to: /content/drive/MyDrive/data_papers/gpSVHN/model_finals/Collab_SFTMX1_SFTMX1_28-10_CNNDNN_A_20211121025802_saved_model_after_fit/assets\n",
            "28 0 0.9657395596913808 0.9656 0.9655954224406134 0.9656\n",
            "INFO:tensorflow:Assets written to: /content/drive/MyDrive/data_papers/gpSVHN/model_finals/Collab_SFTMX1_SFTMX1_29-9_CNNDNN_A_20211121025851_saved_model_after_fit/assets\n",
            "29 0 0.9654636307158827 0.9653666666666667 0.9653442665758855 0.9653666666666667\n",
            "INFO:tensorflow:Assets written to: /content/drive/MyDrive/data_papers/gpSVHN/model_finals/Collab_SFTMX1_SFTMX1_30-8_CNNDNN_A_20211121030004_saved_model_after_fit/assets\n",
            "30 0 0.9667675997068887 0.9667 0.9666853147428176 0.9667\n",
            "INFO:tensorflow:Assets written to: /content/drive/MyDrive/data_papers/gpSVHN/model_finals/Collab_SFTMX1_SFTMX1_31-7_CNNDNN_A_20211121030103_saved_model_after_fit/assets\n",
            "31 0 0.9659705915389104 0.9658666666666667 0.965847869856325 0.9658666666666667\n",
            "INFO:tensorflow:Assets written to: /content/drive/MyDrive/data_papers/gpSVHN/model_finals/Collab_SFTMX1_SFTMX1_32-6_CNNDNN_A_20211121030158_saved_model_after_fit/assets\n",
            "32 0 0.9665347375681631 0.9664333333333334 0.9664248591469505 0.9664333333333334\n",
            "INFO:tensorflow:Assets written to: /content/drive/MyDrive/data_papers/gpSVHN/model_finals/Collab_SFTMX1_SFTMX1_33-5_CNNDNN_A_20211121030231_saved_model_after_fit/assets\n",
            "33 0 0.966728959126575 0.9666333333333333 0.9666213794307763 0.9666333333333333\n",
            "INFO:tensorflow:Assets written to: /content/drive/MyDrive/data_papers/gpSVHN/model_finals/Collab_SFTMX1_SFTMX1_34-4_CNNDNN_A_20211121030335_saved_model_after_fit/assets\n",
            "34 0 0.9664517362965012 0.9663666666666667 0.9663418575557527 0.9663666666666667\n",
            "INFO:tensorflow:Assets written to: /content/drive/MyDrive/data_papers/gpSVHN/model_finals/Collab_SFTMX1_SFTMX1_35-3_CNNDNN_A_20211121030403_saved_model_after_fit/assets\n",
            "35 0 0.9656360959926826 0.9655333333333334 0.9655215260926154 0.9655333333333334\n",
            "INFO:tensorflow:Assets written to: /content/drive/MyDrive/data_papers/gpSVHN/model_finals/Collab_SFTMX1_SFTMX1_36-2_CNNDNN_A_20211121030429_saved_model_after_fit/assets\n",
            "36 0 0.9660147393434813 0.9659333333333333 0.9659165927866634 0.9659333333333333\n",
            "INFO:tensorflow:Assets written to: /content/drive/MyDrive/data_papers/gpSVHN/model_finals/Collab_SFTMX1_SFTMX1_37-1_CNNDNN_A_20211121030510_saved_model_after_fit/assets\n",
            "37 0 0.9666286171083853 0.9665333333333334 0.9665252234670004 0.9665333333333334\n",
            "INFO:tensorflow:Assets written to: /content/drive/MyDrive/data_papers/gpSVHN/model_finals/Collab_SFTMX1_SFTMX1_38-0_CNNDNN_A_20211121030619_saved_model_after_fit/assets\n",
            "38 0 0.9669479601756644 0.9668666666666667 0.966844874710079 0.9668666666666667\n",
            "INFO:tensorflow:Assets written to: /content/drive/MyDrive/data_papers/gpSVHN/model_finals/Collab_SFTMX1_SFTMX1_0-40_CNNDNN_A_20211121030648_saved_model_after_fit/assets\n",
            "0 0 0.9072848550616469 0.9071666666666667 0.907138060114953 0.9071666666666667\n",
            "INFO:tensorflow:Assets written to: /content/drive/MyDrive/data_papers/gpSVHN/model_finals/Collab_SFTMX1_SFTMX1_1-39_CNNDNN_A_20211121030729_saved_model_after_fit/assets\n",
            "1 0 0.9447249798617492 0.9446666666666667 0.9445929332267027 0.9446666666666667\n",
            "INFO:tensorflow:Assets written to: /content/drive/MyDrive/data_papers/gpSVHN/model_finals/Collab_SFTMX1_SFTMX1_2-38_CNNDNN_A_20211121030752_saved_model_after_fit/assets\n",
            "2 0 0.9502696977141243 0.9502666666666667 0.9502114757378839 0.9502666666666667\n",
            "INFO:tensorflow:Assets written to: /content/drive/MyDrive/data_papers/gpSVHN/model_finals/Collab_SFTMX1_SFTMX1_3-37_CNNDNN_A_20211121030821_saved_model_after_fit/assets\n",
            "3 0 0.9576487839670996 0.9575666666666667 0.9575418793800041 0.9575666666666667\n",
            "INFO:tensorflow:Assets written to: /content/drive/MyDrive/data_papers/gpSVHN/model_finals/Collab_SFTMX1_SFTMX1_4-36_CNNDNN_A_20211121030853_saved_model_after_fit/assets\n",
            "4 0 0.957266002152712 0.9572 0.9571739766596223 0.9572\n",
            "INFO:tensorflow:Assets written to: /content/drive/MyDrive/data_papers/gpSVHN/model_finals/Collab_SFTMX1_SFTMX1_5-35_CNNDNN_A_20211121030932_saved_model_after_fit/assets\n",
            "5 0 0.9602273832921748 0.9602 0.9601756518942718 0.9602\n",
            "INFO:tensorflow:Assets written to: /content/drive/MyDrive/data_papers/gpSVHN/model_finals/Collab_SFTMX1_SFTMX1_6-34_CNNDNN_A_20211121031036_saved_model_after_fit/assets\n",
            "6 0 0.9603008940550838 0.9602666666666667 0.9602517866343604 0.9602666666666667\n",
            "INFO:tensorflow:Assets written to: /content/drive/MyDrive/data_papers/gpSVHN/model_finals/Collab_SFTMX1_SFTMX1_7-33_CNNDNN_A_20211121031131_saved_model_after_fit/assets\n",
            "7 0 0.9624257753085469 0.9623333333333334 0.962308747365059 0.9623333333333334\n",
            "INFO:tensorflow:Assets written to: /content/drive/MyDrive/data_papers/gpSVHN/model_finals/Collab_SFTMX1_SFTMX1_8-32_CNNDNN_A_20211121031227_saved_model_after_fit/assets\n",
            "8 0 0.9629148639771269 0.9629 0.9628729909585957 0.9629\n",
            "INFO:tensorflow:Assets written to: /content/drive/MyDrive/data_papers/gpSVHN/model_finals/Collab_SFTMX1_SFTMX1_9-31_CNNDNN_A_20211121031310_saved_model_after_fit/assets\n",
            "9 0 0.9639935657584783 0.9638666666666666 0.9638497049127439 0.9638666666666666\n",
            "INFO:tensorflow:Assets written to: /content/drive/MyDrive/data_papers/gpSVHN/model_finals/Collab_SFTMX1_SFTMX1_10-30_CNNDNN_A_20211121031356_saved_model_after_fit/assets\n",
            "10 0 0.9643504783287375 0.9642333333333334 0.9642075668899586 0.9642333333333334\n",
            "INFO:tensorflow:Assets written to: /content/drive/MyDrive/data_papers/gpSVHN/model_finals/Collab_SFTMX1_SFTMX1_11-29_CNNDNN_A_20211121031445_saved_model_after_fit/assets\n",
            "11 0 0.9651942537401342 0.9651666666666666 0.9651360301176325 0.9651666666666666\n",
            "INFO:tensorflow:Assets written to: /content/drive/MyDrive/data_papers/gpSVHN/model_finals/Collab_SFTMX1_SFTMX1_12-28_CNNDNN_A_20211121031549_saved_model_after_fit/assets\n",
            "12 0 0.9641159140000881 0.9641 0.9640723378944265 0.9641\n",
            "INFO:tensorflow:Assets written to: /content/drive/MyDrive/data_papers/gpSVHN/model_finals/Collab_SFTMX1_SFTMX1_13-27_CNNDNN_A_20211121031619_saved_model_after_fit/assets\n",
            "13 0 0.9634983075695301 0.9634 0.9633675360818705 0.9634\n",
            "INFO:tensorflow:Assets written to: /content/drive/MyDrive/data_papers/gpSVHN/model_finals/Collab_SFTMX1_SFTMX1_14-26_CNNDNN_A_20211121031719_saved_model_after_fit/assets\n",
            "14 0 0.9649942898739399 0.9649 0.9648832957138809 0.9649\n",
            "INFO:tensorflow:Assets written to: /content/drive/MyDrive/data_papers/gpSVHN/model_finals/Collab_SFTMX1_SFTMX1_15-25_CNNDNN_A_20211121031816_saved_model_after_fit/assets\n",
            "15 0 0.9652750155671692 0.9652333333333334 0.96520908692147 0.9652333333333334\n",
            "INFO:tensorflow:Assets written to: /content/drive/MyDrive/data_papers/gpSVHN/model_finals/Collab_SFTMX1_SFTMX1_16-24_CNNDNN_A_20211121031927_saved_model_after_fit/assets\n",
            "16 0 0.9657291178088415 0.9656333333333333 0.9656066204471014 0.9656333333333333\n",
            "INFO:tensorflow:Assets written to: /content/drive/MyDrive/data_papers/gpSVHN/model_finals/Collab_SFTMX1_SFTMX1_17-23_CNNDNN_A_20211121032037_saved_model_after_fit/assets\n",
            "17 0 0.9652445070016358 0.9651333333333333 0.9651184549522839 0.9651333333333333\n",
            "INFO:tensorflow:Assets written to: /content/drive/MyDrive/data_papers/gpSVHN/model_finals/Collab_SFTMX1_SFTMX1_18-22_CNNDNN_A_20211121032122_saved_model_after_fit/assets\n",
            "18 0 0.965157282838098 0.965 0.9649980707145707 0.965\n",
            "INFO:tensorflow:Assets written to: /content/drive/MyDrive/data_papers/gpSVHN/model_finals/Collab_SFTMX1_SFTMX1_19-21_CNNDNN_A_20211121032208_saved_model_after_fit/assets\n",
            "19 0 0.9661001329765428 0.966 0.9659885680428192 0.966\n",
            "INFO:tensorflow:Assets written to: /content/drive/MyDrive/data_papers/gpSVHN/model_finals/Collab_SFTMX1_SFTMX1_20-20_CNNDNN_A_20211121032307_saved_model_after_fit/assets\n",
            "20 0 0.9659273131137962 0.9658666666666667 0.9658421685875952 0.9658666666666667\n",
            "INFO:tensorflow:Assets written to: /content/drive/MyDrive/data_papers/gpSVHN/model_finals/Collab_SFTMX1_SFTMX1_21-19_CNNDNN_A_20211121032402_saved_model_after_fit/assets\n",
            "21 0 0.9661943857711767 0.9661666666666666 0.9661446959585701 0.9661666666666666\n",
            "INFO:tensorflow:Assets written to: /content/drive/MyDrive/data_papers/gpSVHN/model_finals/Collab_SFTMX1_SFTMX1_22-18_CNNDNN_A_20211121032458_saved_model_after_fit/assets\n",
            "22 0 0.9651770897187586 0.9651 0.9650777337623464 0.9651\n",
            "INFO:tensorflow:Assets written to: /content/drive/MyDrive/data_papers/gpSVHN/model_finals/Collab_SFTMX1_SFTMX1_23-17_CNNDNN_A_20211121032537_saved_model_after_fit/assets\n",
            "23 0 0.9661498278747392 0.9660666666666666 0.9660413709256981 0.9660666666666666\n",
            "INFO:tensorflow:Assets written to: /content/drive/MyDrive/data_papers/gpSVHN/model_finals/Collab_SFTMX1_SFTMX1_24-16_CNNDNN_A_20211121032643_saved_model_after_fit/assets\n",
            "24 0 0.9667738115474702 0.9667 0.9666892384727903 0.9667\n",
            "INFO:tensorflow:Assets written to: /content/drive/MyDrive/data_papers/gpSVHN/model_finals/Collab_SFTMX1_SFTMX1_25-15_CNNDNN_A_20211121032749_saved_model_after_fit/assets\n",
            "25 0 0.966422843027414 0.9663 0.9662814030919935 0.9663\n",
            "INFO:tensorflow:Assets written to: /content/drive/MyDrive/data_papers/gpSVHN/model_finals/Collab_SFTMX1_SFTMX1_26-14_CNNDNN_A_20211121032847_saved_model_after_fit/assets\n",
            "26 0 0.9660092038263591 0.9659666666666666 0.9659538764767215 0.9659666666666666\n",
            "INFO:tensorflow:Assets written to: /content/drive/MyDrive/data_papers/gpSVHN/model_finals/Collab_SFTMX1_SFTMX1_27-13_CNNDNN_A_20211121032941_saved_model_after_fit/assets\n",
            "27 0 0.9651444871464309 0.9650333333333333 0.9650107329470226 0.9650333333333333\n",
            "INFO:tensorflow:Assets written to: /content/drive/MyDrive/data_papers/gpSVHN/model_finals/Collab_SFTMX1_SFTMX1_28-12_CNNDNN_A_20211121033022_saved_model_after_fit/assets\n",
            "28 0 0.9664291366656136 0.9663333333333334 0.9663235080567778 0.9663333333333334\n",
            "INFO:tensorflow:Assets written to: /content/drive/MyDrive/data_papers/gpSVHN/model_finals/Collab_SFTMX1_SFTMX1_29-11_CNNDNN_A_20211121033101_saved_model_after_fit/assets\n",
            "29 0 0.9667109958474128 0.9666 0.9665891796320987 0.9666\n",
            "INFO:tensorflow:Assets written to: /content/drive/MyDrive/data_papers/gpSVHN/model_finals/Collab_SFTMX1_SFTMX1_30-10_CNNDNN_A_20211121033136_saved_model_after_fit/assets\n",
            "30 0 0.966342022216154 0.9662666666666667 0.9662461135888334 0.9662666666666667\n",
            "INFO:tensorflow:Assets written to: /content/drive/MyDrive/data_papers/gpSVHN/model_finals/Collab_SFTMX1_SFTMX1_31-9_CNNDNN_A_20211121033208_saved_model_after_fit/assets\n",
            "31 0 0.9666259519348085 0.9665333333333334 0.9665150581731685 0.9665333333333334\n",
            "INFO:tensorflow:Assets written to: /content/drive/MyDrive/data_papers/gpSVHN/model_finals/Collab_SFTMX1_SFTMX1_32-8_CNNDNN_A_20211121033311_saved_model_after_fit/assets\n",
            "32 0 0.966633827194716 0.9665666666666667 0.9665511974752894 0.9665666666666667\n",
            "INFO:tensorflow:Assets written to: /content/drive/MyDrive/data_papers/gpSVHN/model_finals/Collab_SFTMX1_SFTMX1_33-7_CNNDNN_A_20211121033351_saved_model_after_fit/assets\n",
            "33 0 0.9657487649244823 0.9656 0.9655855348463868 0.9656\n",
            "INFO:tensorflow:Assets written to: /content/drive/MyDrive/data_papers/gpSVHN/model_finals/Collab_SFTMX1_SFTMX1_34-6_CNNDNN_A_20211121033422_saved_model_after_fit/assets\n",
            "34 0 0.9669264288529945 0.9668333333333333 0.9668169056923533 0.9668333333333333\n",
            "INFO:tensorflow:Assets written to: /content/drive/MyDrive/data_papers/gpSVHN/model_finals/Collab_SFTMX1_SFTMX1_35-5_CNNDNN_A_20211121033515_saved_model_after_fit/assets\n",
            "35 0 0.966881747714718 0.9667666666666667 0.9667588830576246 0.9667666666666667\n",
            "INFO:tensorflow:Assets written to: /content/drive/MyDrive/data_papers/gpSVHN/model_finals/Collab_SFTMX1_SFTMX1_36-4_CNNDNN_A_20211121033548_saved_model_after_fit/assets\n",
            "36 0 0.9663039123293744 0.9662333333333334 0.9662182999687909 0.9662333333333334\n",
            "INFO:tensorflow:Assets written to: /content/drive/MyDrive/data_papers/gpSVHN/model_finals/Collab_SFTMX1_SFTMX1_37-3_CNNDNN_A_20211121033615_saved_model_after_fit/assets\n",
            "37 0 0.966960387988366 0.9668666666666667 0.9668435023735903 0.9668666666666667\n",
            "INFO:tensorflow:Assets written to: /content/drive/MyDrive/data_papers/gpSVHN/model_finals/Collab_SFTMX1_SFTMX1_38-2_CNNDNN_A_20211121033646_saved_model_after_fit/assets\n",
            "38 0 0.9670073923350841 0.9669333333333333 0.9669153583039302 0.9669333333333333\n",
            "INFO:tensorflow:Assets written to: /content/drive/MyDrive/data_papers/gpSVHN/model_finals/Collab_SFTMX1_SFTMX1_39-1_CNNDNN_A_20211121033745_saved_model_after_fit/assets\n",
            "39 0 0.9667712648115662 0.9666666666666667 0.9666499738569169 0.9666666666666667\n",
            "INFO:tensorflow:Assets written to: /content/drive/MyDrive/data_papers/gpSVHN/model_finals/Collab_SFTMX1_SFTMX1_40-0_CNNDNN_A_20211121033810_saved_model_after_fit/assets\n",
            "40 0 0.9667896664147725 0.9667333333333333 0.9667064632800092 0.9667333333333333\n",
            "INFO:tensorflow:Assets written to: /content/drive/MyDrive/data_papers/gpSVHN/model_finals/Collab_SFTMX1_SFTMX1_0-2_CNNDNN_A_20211121033832_saved_model_after_fit/assets\n",
            "0 1 0.8599309419911897 0.8596333333333334 0.859543497601853 0.8596333333333334\n",
            "INFO:tensorflow:Assets written to: /content/drive/MyDrive/data_papers/gpSVHN/model_finals/Collab_SFTMX1_SFTMX1_1-1_CNNDNN_A_20211121033907_saved_model_after_fit/assets\n",
            "1 1 0.9433158726291728 0.9431 0.9430553771763421 0.9431\n",
            "INFO:tensorflow:Assets written to: /content/drive/MyDrive/data_papers/gpSVHN/model_finals/Collab_SFTMX1_SFTMX1_2-0_CNNDNN_A_20211121033939_saved_model_after_fit/assets\n",
            "2 1 0.950828385815469 0.9507666666666666 0.9507469351819964 0.9507666666666666\n",
            "INFO:tensorflow:Assets written to: /content/drive/MyDrive/data_papers/gpSVHN/model_finals/Collab_SFTMX1_SFTMX1_0-4_CNNDNN_A_20211121034008_saved_model_after_fit/assets\n",
            "0 1 0.8900308898518219 0.8895333333333333 0.8892604240141062 0.8895333333333333\n",
            "INFO:tensorflow:Assets written to: /content/drive/MyDrive/data_papers/gpSVHN/model_finals/Collab_SFTMX1_SFTMX1_1-3_CNNDNN_A_20211121034043_saved_model_after_fit/assets\n",
            "1 1 0.9415011771550057 0.9414333333333333 0.9413896171320921 0.9414333333333333\n",
            "INFO:tensorflow:Assets written to: /content/drive/MyDrive/data_papers/gpSVHN/model_finals/Collab_SFTMX1_SFTMX1_2-2_CNNDNN_A_20211121034103_saved_model_after_fit/assets\n",
            "2 1 0.9518529866378614 0.9518 0.9517606749766813 0.9518\n",
            "INFO:tensorflow:Assets written to: /content/drive/MyDrive/data_papers/gpSVHN/model_finals/Collab_SFTMX1_SFTMX1_3-1_CNNDNN_A_20211121034124_saved_model_after_fit/assets\n",
            "3 1 0.9560014204555433 0.9558666666666666 0.9558345871792902 0.9558666666666666\n",
            "INFO:tensorflow:Assets written to: /content/drive/MyDrive/data_papers/gpSVHN/model_finals/Collab_SFTMX1_SFTMX1_4-0_CNNDNN_A_20211121034145_saved_model_after_fit/assets\n",
            "4 1 0.9581381315745644 0.9580333333333333 0.9580120603230218 0.9580333333333333\n",
            "INFO:tensorflow:Assets written to: /content/drive/MyDrive/data_papers/gpSVHN/model_finals/Collab_SFTMX1_SFTMX1_0-6_CNNDNN_A_20211121034205_saved_model_after_fit/assets\n",
            "0 1 0.9016189860315497 0.9016333333333333 0.9014343112782385 0.9016333333333333\n",
            "INFO:tensorflow:Assets written to: /content/drive/MyDrive/data_papers/gpSVHN/model_finals/Collab_SFTMX1_SFTMX1_1-5_CNNDNN_A_20211121034256_saved_model_after_fit/assets\n",
            "1 1 0.9420004890028439 0.9419 0.9417978218290566 0.9419\n",
            "INFO:tensorflow:Assets written to: /content/drive/MyDrive/data_papers/gpSVHN/model_finals/Collab_SFTMX1_SFTMX1_2-4_CNNDNN_A_20211121034316_saved_model_after_fit/assets\n",
            "2 1 0.9535716985996181 0.9534666666666667 0.9534331981829256 0.9534666666666667\n",
            "INFO:tensorflow:Assets written to: /content/drive/MyDrive/data_papers/gpSVHN/model_finals/Collab_SFTMX1_SFTMX1_3-3_CNNDNN_A_20211121034345_saved_model_after_fit/assets\n",
            "3 1 0.9570943379336408 0.9570666666666666 0.9570320269039969 0.9570666666666666\n",
            "INFO:tensorflow:Assets written to: /content/drive/MyDrive/data_papers/gpSVHN/model_finals/Collab_SFTMX1_SFTMX1_4-2_CNNDNN_A_20211121034416_saved_model_after_fit/assets\n",
            "4 1 0.9584068403649789 0.9582666666666667 0.9582618568923159 0.9582666666666667\n",
            "INFO:tensorflow:Assets written to: /content/drive/MyDrive/data_papers/gpSVHN/model_finals/Collab_SFTMX1_SFTMX1_5-1_CNNDNN_A_20211121034442_saved_model_after_fit/assets\n",
            "5 1 0.9611970006705457 0.9611 0.9610738906984118 0.9611\n",
            "INFO:tensorflow:Assets written to: /content/drive/MyDrive/data_papers/gpSVHN/model_finals/Collab_SFTMX1_SFTMX1_6-0_CNNDNN_A_20211121034512_saved_model_after_fit/assets\n",
            "6 1 0.9623727455614838 0.9623 0.9622820538090802 0.9623\n",
            "INFO:tensorflow:Assets written to: /content/drive/MyDrive/data_papers/gpSVHN/model_finals/Collab_SFTMX1_SFTMX1_0-8_CNNDNN_A_20211121034536_saved_model_after_fit/assets\n",
            "0 1 0.8971066088483127 0.8971333333333333 0.8969750015366076 0.8971333333333333\n",
            "INFO:tensorflow:Assets written to: /content/drive/MyDrive/data_papers/gpSVHN/model_finals/Collab_SFTMX1_SFTMX1_1-7_CNNDNN_A_20211121034640_saved_model_after_fit/assets\n",
            "1 1 0.9457242426754945 0.9456333333333333 0.9455865120605785 0.9456333333333333\n",
            "INFO:tensorflow:Assets written to: /content/drive/MyDrive/data_papers/gpSVHN/model_finals/Collab_SFTMX1_SFTMX1_2-6_CNNDNN_A_20211121034702_saved_model_after_fit/assets\n",
            "2 1 0.9500769806957364 0.95 0.9499749802919047 0.95\n",
            "INFO:tensorflow:Assets written to: /content/drive/MyDrive/data_papers/gpSVHN/model_finals/Collab_SFTMX1_SFTMX1_3-5_CNNDNN_A_20211121034728_saved_model_after_fit/assets\n",
            "3 1 0.9594864798155032 0.9594 0.9593795767819068 0.9594\n",
            "INFO:tensorflow:Assets written to: /content/drive/MyDrive/data_papers/gpSVHN/model_finals/Collab_SFTMX1_SFTMX1_4-4_CNNDNN_A_20211121034812_saved_model_after_fit/assets\n",
            "4 1 0.9578091620774777 0.9577333333333333 0.9576974249464938 0.9577333333333333\n",
            "INFO:tensorflow:Assets written to: /content/drive/MyDrive/data_papers/gpSVHN/model_finals/Collab_SFTMX1_SFTMX1_5-3_CNNDNN_A_20211121034838_saved_model_after_fit/assets\n",
            "5 1 0.9607005475578938 0.9606333333333333 0.9606044987320072 0.9606333333333333\n",
            "INFO:tensorflow:Assets written to: /content/drive/MyDrive/data_papers/gpSVHN/model_finals/Collab_SFTMX1_SFTMX1_6-2_CNNDNN_A_20211121034913_saved_model_after_fit/assets\n",
            "6 1 0.9623342423781234 0.9622333333333334 0.9622261879593248 0.9622333333333334\n",
            "INFO:tensorflow:Assets written to: /content/drive/MyDrive/data_papers/gpSVHN/model_finals/Collab_SFTMX1_SFTMX1_7-1_CNNDNN_A_20211121034942_saved_model_after_fit/assets\n",
            "7 1 0.9632672642374465 0.9632333333333334 0.9632028273211747 0.9632333333333334\n",
            "INFO:tensorflow:Assets written to: /content/drive/MyDrive/data_papers/gpSVHN/model_finals/Collab_SFTMX1_SFTMX1_8-0_CNNDNN_A_20211121035008_saved_model_after_fit/assets\n",
            "8 1 0.9625487470147133 0.9625 0.9624719786528915 0.9625\n",
            "INFO:tensorflow:Assets written to: /content/drive/MyDrive/data_papers/gpSVHN/model_finals/Collab_SFTMX1_SFTMX1_0-10_CNNDNN_A_20211121035030_saved_model_after_fit/assets\n",
            "0 1 0.9046608681637183 0.9044333333333333 0.9043598413169834 0.9044333333333333\n",
            "INFO:tensorflow:Assets written to: /content/drive/MyDrive/data_papers/gpSVHN/model_finals/Collab_SFTMX1_SFTMX1_1-9_CNNDNN_A_20211121035110_saved_model_after_fit/assets\n",
            "1 1 0.9403471931687719 0.9403 0.9401864417096847 0.9403\n",
            "INFO:tensorflow:Assets written to: /content/drive/MyDrive/data_papers/gpSVHN/model_finals/Collab_SFTMX1_SFTMX1_2-8_CNNDNN_A_20211121035131_saved_model_after_fit/assets\n",
            "2 1 0.9496691629757188 0.9496333333333333 0.9496212048565155 0.9496333333333333\n",
            "INFO:tensorflow:Assets written to: /content/drive/MyDrive/data_papers/gpSVHN/model_finals/Collab_SFTMX1_SFTMX1_3-7_CNNDNN_A_20211121035155_saved_model_after_fit/assets\n",
            "3 1 0.9571580605721779 0.9571 0.9570815582046356 0.9571\n",
            "INFO:tensorflow:Assets written to: /content/drive/MyDrive/data_papers/gpSVHN/model_finals/Collab_SFTMX1_SFTMX1_4-6_CNNDNN_A_20211121035228_saved_model_after_fit/assets\n",
            "4 1 0.9592925645564319 0.9592666666666667 0.9592309027269055 0.9592666666666667\n",
            "INFO:tensorflow:Assets written to: /content/drive/MyDrive/data_papers/gpSVHN/model_finals/Collab_SFTMX1_SFTMX1_5-5_CNNDNN_A_20211121035305_saved_model_after_fit/assets\n",
            "5 1 0.9609621183316299 0.9609666666666666 0.9609403035426186 0.9609666666666666\n",
            "INFO:tensorflow:Assets written to: /content/drive/MyDrive/data_papers/gpSVHN/model_finals/Collab_SFTMX1_SFTMX1_6-4_CNNDNN_A_20211121035343_saved_model_after_fit/assets\n",
            "6 1 0.9628049848022873 0.9627 0.9626818513790925 0.9627\n",
            "INFO:tensorflow:Assets written to: /content/drive/MyDrive/data_papers/gpSVHN/model_finals/Collab_SFTMX1_SFTMX1_7-3_CNNDNN_A_20211121035412_saved_model_after_fit/assets\n",
            "7 1 0.9621763208516184 0.9621 0.9620762332970126 0.9621\n",
            "INFO:tensorflow:Assets written to: /content/drive/MyDrive/data_papers/gpSVHN/model_finals/Collab_SFTMX1_SFTMX1_8-2_CNNDNN_A_20211121035449_saved_model_after_fit/assets\n",
            "8 1 0.9624691282033153 0.9624 0.9623845466612646 0.9624\n",
            "INFO:tensorflow:Assets written to: /content/drive/MyDrive/data_papers/gpSVHN/model_finals/Collab_SFTMX1_SFTMX1_9-1_CNNDNN_A_20211121035518_saved_model_after_fit/assets\n",
            "9 1 0.9637497454779751 0.9636666666666667 0.96365159621465 0.9636666666666667\n",
            "INFO:tensorflow:Assets written to: /content/drive/MyDrive/data_papers/gpSVHN/model_finals/Collab_SFTMX1_SFTMX1_10-0_CNNDNN_A_20211121035542_saved_model_after_fit/assets\n",
            "10 1 0.964188467266502 0.9640333333333333 0.9640016216989094 0.9640333333333333\n",
            "INFO:tensorflow:Assets written to: /content/drive/MyDrive/data_papers/gpSVHN/model_finals/Collab_SFTMX1_SFTMX1_0-12_CNNDNN_A_20211121035613_saved_model_after_fit/assets\n",
            "0 1 0.9036135826385309 0.9034 0.90339735958291 0.9034\n",
            "INFO:tensorflow:Assets written to: /content/drive/MyDrive/data_papers/gpSVHN/model_finals/Collab_SFTMX1_SFTMX1_1-11_CNNDNN_A_20211121035633_saved_model_after_fit/assets\n",
            "1 1 0.9450322453102107 0.9449666666666666 0.9448952901536642 0.9449666666666666\n",
            "INFO:tensorflow:Assets written to: /content/drive/MyDrive/data_papers/gpSVHN/model_finals/Collab_SFTMX1_SFTMX1_2-10_CNNDNN_A_20211121035655_saved_model_after_fit/assets\n",
            "2 1 0.9520196277801964 0.9519333333333333 0.951911530571244 0.9519333333333333\n",
            "INFO:tensorflow:Assets written to: /content/drive/MyDrive/data_papers/gpSVHN/model_finals/Collab_SFTMX1_SFTMX1_3-9_CNNDNN_A_20211121035719_saved_model_after_fit/assets\n",
            "3 1 0.9573799082704858 0.9573333333333334 0.957288598172032 0.9573333333333334\n",
            "INFO:tensorflow:Assets written to: /content/drive/MyDrive/data_papers/gpSVHN/model_finals/Collab_SFTMX1_SFTMX1_4-8_CNNDNN_A_20211121035746_saved_model_after_fit/assets\n",
            "4 1 0.9590717948607799 0.9590333333333333 0.958998389605407 0.9590333333333333\n",
            "INFO:tensorflow:Assets written to: /content/drive/MyDrive/data_papers/gpSVHN/model_finals/Collab_SFTMX1_SFTMX1_5-7_CNNDNN_A_20211121035818_saved_model_after_fit/assets\n",
            "5 1 0.9605107209531577 0.9604666666666667 0.960437084960949 0.9604666666666667\n",
            "INFO:tensorflow:Assets written to: /content/drive/MyDrive/data_papers/gpSVHN/model_finals/Collab_SFTMX1_SFTMX1_6-6_CNNDNN_A_20211121035900_saved_model_after_fit/assets\n",
            "6 1 0.9624741175448632 0.9623666666666667 0.9623331148188528 0.9623666666666667\n",
            "INFO:tensorflow:Assets written to: /content/drive/MyDrive/data_papers/gpSVHN/model_finals/Collab_SFTMX1_SFTMX1_7-5_CNNDNN_A_20211121035941_saved_model_after_fit/assets\n",
            "7 1 0.9627021437661438 0.9626666666666667 0.9626468997491063 0.9626666666666667\n",
            "INFO:tensorflow:Assets written to: /content/drive/MyDrive/data_papers/gpSVHN/model_finals/Collab_SFTMX1_SFTMX1_8-4_CNNDNN_A_20211121040004_saved_model_after_fit/assets\n",
            "8 1 0.9632716660132752 0.9632333333333334 0.9632048962256563 0.9632333333333334\n",
            "INFO:tensorflow:Assets written to: /content/drive/MyDrive/data_papers/gpSVHN/model_finals/Collab_SFTMX1_SFTMX1_9-3_CNNDNN_A_20211121040044_saved_model_after_fit/assets\n",
            "9 1 0.9635016392383907 0.9634 0.9633830992719697 0.9634\n",
            "INFO:tensorflow:Assets written to: /content/drive/MyDrive/data_papers/gpSVHN/model_finals/Collab_SFTMX1_SFTMX1_10-2_CNNDNN_A_20211121040127_saved_model_after_fit/assets\n",
            "10 1 0.9641783578379718 0.9641333333333333 0.9641194838996027 0.9641333333333333\n",
            "INFO:tensorflow:Assets written to: /content/drive/MyDrive/data_papers/gpSVHN/model_finals/Collab_SFTMX1_SFTMX1_11-1_CNNDNN_A_20211121040209_saved_model_after_fit/assets\n",
            "11 1 0.964683260737994 0.9646333333333333 0.9646090879907636 0.9646333333333333\n",
            "INFO:tensorflow:Assets written to: /content/drive/MyDrive/data_papers/gpSVHN/model_finals/Collab_SFTMX1_SFTMX1_12-0_CNNDNN_A_20211121040255_saved_model_after_fit/assets\n",
            "12 1 0.9638095573603592 0.9637333333333333 0.9637104213777762 0.9637333333333333\n",
            "INFO:tensorflow:Assets written to: /content/drive/MyDrive/data_papers/gpSVHN/model_finals/Collab_SFTMX1_SFTMX1_0-14_CNNDNN_A_20211121040341_saved_model_after_fit/assets\n",
            "0 1 0.9065134611977843 0.9064 0.9062575809049622 0.9064\n",
            "INFO:tensorflow:Assets written to: /content/drive/MyDrive/data_papers/gpSVHN/model_finals/Collab_SFTMX1_SFTMX1_1-13_CNNDNN_A_20211121040402_saved_model_after_fit/assets\n",
            "1 1 0.9369477391196005 0.9368666666666666 0.9367571199413849 0.9368666666666666\n",
            "INFO:tensorflow:Assets written to: /content/drive/MyDrive/data_papers/gpSVHN/model_finals/Collab_SFTMX1_SFTMX1_2-12_CNNDNN_A_20211121040424_saved_model_after_fit/assets\n",
            "2 1 0.948636975045402 0.9486 0.9485714821809648 0.9486\n",
            "INFO:tensorflow:Assets written to: /content/drive/MyDrive/data_papers/gpSVHN/model_finals/Collab_SFTMX1_SFTMX1_3-11_CNNDNN_A_20211121040447_saved_model_after_fit/assets\n",
            "3 1 0.9539471605032579 0.9539333333333333 0.9538982458567916 0.9539333333333333\n",
            "INFO:tensorflow:Assets written to: /content/drive/MyDrive/data_papers/gpSVHN/model_finals/Collab_SFTMX1_SFTMX1_4-10_CNNDNN_A_20211121040516_saved_model_after_fit/assets\n",
            "4 1 0.9587542201125974 0.9586333333333333 0.9586113529470364 0.9586333333333333\n",
            "INFO:tensorflow:Assets written to: /content/drive/MyDrive/data_papers/gpSVHN/model_finals/Collab_SFTMX1_SFTMX1_5-9_CNNDNN_A_20211121040545_saved_model_after_fit/assets\n",
            "5 1 0.9598433700715827 0.9597666666666667 0.9597272750575871 0.9597666666666667\n",
            "INFO:tensorflow:Assets written to: /content/drive/MyDrive/data_papers/gpSVHN/model_finals/Collab_SFTMX1_SFTMX1_6-8_CNNDNN_A_20211121040622_saved_model_after_fit/assets\n",
            "6 1 0.9619030467755822 0.9618333333333333 0.9618128127153137 0.9618333333333333\n",
            "INFO:tensorflow:Assets written to: /content/drive/MyDrive/data_papers/gpSVHN/model_finals/Collab_SFTMX1_SFTMX1_7-7_CNNDNN_A_20211121040654_saved_model_after_fit/assets\n",
            "7 1 0.9641818701491962 0.9641 0.9640876528597153 0.9641\n",
            "INFO:tensorflow:Assets written to: /content/drive/MyDrive/data_papers/gpSVHN/model_finals/Collab_SFTMX1_SFTMX1_8-6_CNNDNN_A_20211121040744_saved_model_after_fit/assets\n",
            "8 1 0.963287739169097 0.9631666666666666 0.9631431710779875 0.9631666666666666\n",
            "INFO:tensorflow:Assets written to: /content/drive/MyDrive/data_papers/gpSVHN/model_finals/Collab_SFTMX1_SFTMX1_9-5_CNNDNN_A_20211121040837_saved_model_after_fit/assets\n",
            "9 1 0.9639279045083677 0.9638333333333333 0.9638142524695384 0.9638333333333333\n",
            "INFO:tensorflow:Assets written to: /content/drive/MyDrive/data_papers/gpSVHN/model_finals/Collab_SFTMX1_SFTMX1_10-4_CNNDNN_A_20211121040912_saved_model_after_fit/assets\n",
            "10 1 0.96392837585875 0.9638666666666666 0.963843275103193 0.9638666666666666\n",
            "INFO:tensorflow:Assets written to: /content/drive/MyDrive/data_papers/gpSVHN/model_finals/Collab_SFTMX1_SFTMX1_11-3_CNNDNN_A_20211121040951_saved_model_after_fit/assets\n",
            "11 1 0.9629392829479347 0.9628333333333333 0.9628191604342543 0.9628333333333333\n",
            "INFO:tensorflow:Assets written to: /content/drive/MyDrive/data_papers/gpSVHN/model_finals/Collab_SFTMX1_SFTMX1_12-2_CNNDNN_A_20211121041036_saved_model_after_fit/assets\n",
            "12 1 0.9651546089497688 0.9651333333333333 0.9651025869386498 0.9651333333333333\n",
            "INFO:tensorflow:Assets written to: /content/drive/MyDrive/data_papers/gpSVHN/model_finals/Collab_SFTMX1_SFTMX1_13-1_CNNDNN_A_20211121041059_saved_model_after_fit/assets\n",
            "13 1 0.9630897349814243 0.963 0.9629630475374361 0.963\n",
            "INFO:tensorflow:Assets written to: /content/drive/MyDrive/data_papers/gpSVHN/model_finals/Collab_SFTMX1_SFTMX1_14-0_CNNDNN_A_20211121041141_saved_model_after_fit/assets\n",
            "14 1 0.9649568408578175 0.9649 0.9648781148075236 0.9649\n",
            "INFO:tensorflow:Assets written to: /content/drive/MyDrive/data_papers/gpSVHN/model_finals/Collab_SFTMX1_SFTMX1_0-16_CNNDNN_A_20211121041217_saved_model_after_fit/assets\n",
            "0 1 0.9066871549481352 0.9066666666666666 0.9065114174754927 0.9066666666666666\n",
            "INFO:tensorflow:Assets written to: /content/drive/MyDrive/data_papers/gpSVHN/model_finals/Collab_SFTMX1_SFTMX1_1-15_CNNDNN_A_20211121041321_saved_model_after_fit/assets\n",
            "1 1 0.9421066203360727 0.9420666666666667 0.9420159897395338 0.9420666666666667\n",
            "INFO:tensorflow:Assets written to: /content/drive/MyDrive/data_papers/gpSVHN/model_finals/Collab_SFTMX1_SFTMX1_2-14_CNNDNN_A_20211121041343_saved_model_after_fit/assets\n",
            "2 1 0.952085601161693 0.9521 0.9520823661159578 0.9521\n",
            "INFO:tensorflow:Assets written to: /content/drive/MyDrive/data_papers/gpSVHN/model_finals/Collab_SFTMX1_SFTMX1_3-13_CNNDNN_A_20211121041413_saved_model_after_fit/assets\n",
            "3 1 0.9562372909287576 0.9561333333333333 0.956110081610841 0.9561333333333333\n",
            "INFO:tensorflow:Assets written to: /content/drive/MyDrive/data_papers/gpSVHN/model_finals/Collab_SFTMX1_SFTMX1_4-12_CNNDNN_A_20211121041445_saved_model_after_fit/assets\n",
            "4 1 0.9602828411297051 0.9601666666666666 0.9601496527397146 0.9601666666666666\n",
            "INFO:tensorflow:Assets written to: /content/drive/MyDrive/data_papers/gpSVHN/model_finals/Collab_SFTMX1_SFTMX1_5-11_CNNDNN_A_20211121041511_saved_model_after_fit/assets\n",
            "5 1 0.9599279323590614 0.9598666666666666 0.9598389970029103 0.9598666666666666\n",
            "INFO:tensorflow:Assets written to: /content/drive/MyDrive/data_papers/gpSVHN/model_finals/Collab_SFTMX1_SFTMX1_6-10_CNNDNN_A_20211121041541_saved_model_after_fit/assets\n",
            "6 1 0.9605130882521498 0.9604666666666667 0.9604398318337611 0.9604666666666667\n",
            "INFO:tensorflow:Assets written to: /content/drive/MyDrive/data_papers/gpSVHN/model_finals/Collab_SFTMX1_SFTMX1_7-9_CNNDNN_A_20211121041611_saved_model_after_fit/assets\n",
            "7 1 0.9626427001106433 0.9625666666666667 0.9625498527055124 0.9625666666666667\n",
            "INFO:tensorflow:Assets written to: /content/drive/MyDrive/data_papers/gpSVHN/model_finals/Collab_SFTMX1_SFTMX1_8-8_CNNDNN_A_20211121041708_saved_model_after_fit/assets\n",
            "8 1 0.9617192318887697 0.9615666666666667 0.9615519110295732 0.9615666666666667\n",
            "INFO:tensorflow:Assets written to: /content/drive/MyDrive/data_papers/gpSVHN/model_finals/Collab_SFTMX1_SFTMX1_9-7_CNNDNN_A_20211121041739_saved_model_after_fit/assets\n",
            "9 1 0.965348937154637 0.9653 0.9652891876133994 0.9653\n",
            "INFO:tensorflow:Assets written to: /content/drive/MyDrive/data_papers/gpSVHN/model_finals/Collab_SFTMX1_SFTMX1_10-6_CNNDNN_A_20211121041813_saved_model_after_fit/assets\n",
            "10 1 0.9644912932466488 0.9644 0.9643776345019913 0.9644\n",
            "INFO:tensorflow:Assets written to: /content/drive/MyDrive/data_papers/gpSVHN/model_finals/Collab_SFTMX1_SFTMX1_11-5_CNNDNN_A_20211121041846_saved_model_after_fit/assets\n",
            "11 1 0.9637638129519999 0.9636666666666667 0.96366067637911 0.9636666666666667\n",
            "INFO:tensorflow:Assets written to: /content/drive/MyDrive/data_papers/gpSVHN/model_finals/Collab_SFTMX1_SFTMX1_12-4_CNNDNN_A_20211121041943_saved_model_after_fit/assets\n",
            "12 1 0.9648157079467651 0.9646666666666667 0.9646635450375634 0.9646666666666667\n",
            "INFO:tensorflow:Assets written to: /content/drive/MyDrive/data_papers/gpSVHN/model_finals/Collab_SFTMX1_SFTMX1_13-3_CNNDNN_A_20211121042022_saved_model_after_fit/assets\n",
            "13 1 0.9645502239587935 0.9644333333333334 0.9644234585974794 0.9644333333333334\n",
            "INFO:tensorflow:Assets written to: /content/drive/MyDrive/data_papers/gpSVHN/model_finals/Collab_SFTMX1_SFTMX1_14-2_CNNDNN_A_20211121042050_saved_model_after_fit/assets\n",
            "14 1 0.965424015772173 0.9653666666666667 0.9653412208078195 0.9653666666666667\n",
            "INFO:tensorflow:Assets written to: /content/drive/MyDrive/data_papers/gpSVHN/model_finals/Collab_SFTMX1_SFTMX1_15-1_CNNDNN_A_20211121042142_saved_model_after_fit/assets\n",
            "15 1 0.966207578783838 0.9661333333333333 0.9661159405052161 0.9661333333333333\n",
            "INFO:tensorflow:Assets written to: /content/drive/MyDrive/data_papers/gpSVHN/model_finals/Collab_SFTMX1_SFTMX1_16-0_CNNDNN_A_20211121042204_saved_model_after_fit/assets\n",
            "16 1 0.9655581283570703 0.9654666666666667 0.9654655464105812 0.9654666666666667\n",
            "INFO:tensorflow:Assets written to: /content/drive/MyDrive/data_papers/gpSVHN/model_finals/Collab_SFTMX1_SFTMX1_0-18_CNNDNN_A_20211121042244_saved_model_after_fit/assets\n",
            "0 1 0.9061966082648119 0.9060666666666667 0.9058677504677557 0.9060666666666667\n",
            "INFO:tensorflow:Assets written to: /content/drive/MyDrive/data_papers/gpSVHN/model_finals/Collab_SFTMX1_SFTMX1_1-17_CNNDNN_A_20211121042309_saved_model_after_fit/assets\n",
            "1 1 0.9438031445171918 0.9437 0.9436673775388308 0.9437\n",
            "INFO:tensorflow:Assets written to: /content/drive/MyDrive/data_papers/gpSVHN/model_finals/Collab_SFTMX1_SFTMX1_2-16_CNNDNN_A_20211121042330_saved_model_after_fit/assets\n",
            "2 1 0.9531468311940857 0.9531333333333334 0.9531097377101515 0.9531333333333334\n",
            "INFO:tensorflow:Assets written to: /content/drive/MyDrive/data_papers/gpSVHN/model_finals/Collab_SFTMX1_SFTMX1_3-15_CNNDNN_A_20211121042356_saved_model_after_fit/assets\n",
            "3 1 0.9570927182972206 0.9570333333333333 0.9570005718048123 0.9570333333333333\n",
            "INFO:tensorflow:Assets written to: /content/drive/MyDrive/data_papers/gpSVHN/model_finals/Collab_SFTMX1_SFTMX1_4-14_CNNDNN_A_20211121042425_saved_model_after_fit/assets\n",
            "4 1 0.9585033234601701 0.9584666666666667 0.9584361697675249 0.9584666666666667\n",
            "INFO:tensorflow:Assets written to: /content/drive/MyDrive/data_papers/gpSVHN/model_finals/Collab_SFTMX1_SFTMX1_5-13_CNNDNN_A_20211121042515_saved_model_after_fit/assets\n",
            "5 1 0.959182820879972 0.9591 0.959069020855218 0.9591\n",
            "INFO:tensorflow:Assets written to: /content/drive/MyDrive/data_papers/gpSVHN/model_finals/Collab_SFTMX1_SFTMX1_6-12_CNNDNN_A_20211121042556_saved_model_after_fit/assets\n",
            "6 1 0.9613692501528364 0.9612666666666667 0.9612466216131453 0.9612666666666667\n",
            "INFO:tensorflow:Assets written to: /content/drive/MyDrive/data_papers/gpSVHN/model_finals/Collab_SFTMX1_SFTMX1_7-11_CNNDNN_A_20211121042633_saved_model_after_fit/assets\n",
            "7 1 0.9629427004446105 0.9628666666666666 0.9628540904981341 0.9628666666666666\n",
            "INFO:tensorflow:Assets written to: /content/drive/MyDrive/data_papers/gpSVHN/model_finals/Collab_SFTMX1_SFTMX1_8-10_CNNDNN_A_20211121042717_saved_model_after_fit/assets\n",
            "8 1 0.9646797363668845 0.9646 0.9645782235131969 0.9646\n",
            "INFO:tensorflow:Assets written to: /content/drive/MyDrive/data_papers/gpSVHN/model_finals/Collab_SFTMX1_SFTMX1_9-9_CNNDNN_A_20211121042807_saved_model_after_fit/assets\n",
            "9 1 0.9640624629668706 0.964 0.9639910110472302 0.964\n",
            "INFO:tensorflow:Assets written to: /content/drive/MyDrive/data_papers/gpSVHN/model_finals/Collab_SFTMX1_SFTMX1_10-8_CNNDNN_A_20211121042851_saved_model_after_fit/assets\n",
            "10 1 0.9624813180614374 0.9623666666666667 0.9623402984692521 0.9623666666666667\n",
            "INFO:tensorflow:Assets written to: /content/drive/MyDrive/data_papers/gpSVHN/model_finals/Collab_SFTMX1_SFTMX1_11-7_CNNDNN_A_20211121042934_saved_model_after_fit/assets\n",
            "11 1 0.9638813187655164 0.9637333333333333 0.9637156345577665 0.9637333333333333\n",
            "INFO:tensorflow:Assets written to: /content/drive/MyDrive/data_papers/gpSVHN/model_finals/Collab_SFTMX1_SFTMX1_12-6_CNNDNN_A_20211121043006_saved_model_after_fit/assets\n",
            "12 1 0.9639268650284623 0.9638333333333333 0.963817284878092 0.9638333333333333\n",
            "INFO:tensorflow:Assets written to: /content/drive/MyDrive/data_papers/gpSVHN/model_finals/Collab_SFTMX1_SFTMX1_13-5_CNNDNN_A_20211121043038_saved_model_after_fit/assets\n",
            "13 1 0.9645349359473331 0.9643666666666667 0.9643587447306246 0.9643666666666667\n",
            "INFO:tensorflow:Assets written to: /content/drive/MyDrive/data_papers/gpSVHN/model_finals/Collab_SFTMX1_SFTMX1_14-4_CNNDNN_A_20211121043118_saved_model_after_fit/assets\n",
            "14 1 0.9644905390627235 0.9644 0.9643829576336447 0.9644\n",
            "INFO:tensorflow:Assets written to: /content/drive/MyDrive/data_papers/gpSVHN/model_finals/Collab_SFTMX1_SFTMX1_15-3_CNNDNN_A_20211121043146_saved_model_after_fit/assets\n",
            "15 1 0.9651563437126396 0.965 0.964987332175694 0.965\n",
            "INFO:tensorflow:Assets written to: /content/drive/MyDrive/data_papers/gpSVHN/model_finals/Collab_SFTMX1_SFTMX1_16-2_CNNDNN_A_20211121043219_saved_model_after_fit/assets\n",
            "16 1 0.9651348423824222 0.9650666666666666 0.9650446191377482 0.9650666666666666\n",
            "INFO:tensorflow:Assets written to: /content/drive/MyDrive/data_papers/gpSVHN/model_finals/Collab_SFTMX1_SFTMX1_17-1_CNNDNN_A_20211121043254_saved_model_after_fit/assets\n",
            "17 1 0.9654188798146106 0.9653333333333334 0.9653147601400024 0.9653333333333334\n",
            "INFO:tensorflow:Assets written to: /content/drive/MyDrive/data_papers/gpSVHN/model_finals/Collab_SFTMX1_SFTMX1_18-0_CNNDNN_A_20211121043319_saved_model_after_fit/assets\n",
            "18 1 0.9652531932366842 0.9651333333333333 0.9651156749734224 0.9651333333333333\n",
            "INFO:tensorflow:Assets written to: /content/drive/MyDrive/data_papers/gpSVHN/model_finals/Collab_SFTMX1_SFTMX1_0-20_CNNDNN_A_20211121043343_saved_model_after_fit/assets\n",
            "0 1 0.9070001487090055 0.9069 0.9068389351891911 0.9069\n",
            "INFO:tensorflow:Assets written to: /content/drive/MyDrive/data_papers/gpSVHN/model_finals/Collab_SFTMX1_SFTMX1_1-19_CNNDNN_A_20211121043430_saved_model_after_fit/assets\n",
            "1 1 0.9396413259893042 0.9393666666666667 0.9392809589324344 0.9393666666666667\n",
            "INFO:tensorflow:Assets written to: /content/drive/MyDrive/data_papers/gpSVHN/model_finals/Collab_SFTMX1_SFTMX1_2-18_CNNDNN_A_20211121043451_saved_model_after_fit/assets\n",
            "2 1 0.9541581793554419 0.9541333333333334 0.9541012970400693 0.9541333333333334\n",
            "INFO:tensorflow:Assets written to: /content/drive/MyDrive/data_papers/gpSVHN/model_finals/Collab_SFTMX1_SFTMX1_3-17_CNNDNN_A_20211121043521_saved_model_after_fit/assets\n",
            "3 1 0.9575159662004664 0.9573666666666667 0.957359375829832 0.9573666666666667\n",
            "INFO:tensorflow:Assets written to: /content/drive/MyDrive/data_papers/gpSVHN/model_finals/Collab_SFTMX1_SFTMX1_4-16_CNNDNN_A_20211121043559_saved_model_after_fit/assets\n",
            "4 1 0.959156497435666 0.9590666666666666 0.959039143192584 0.9590666666666666\n",
            "INFO:tensorflow:Assets written to: /content/drive/MyDrive/data_papers/gpSVHN/model_finals/Collab_SFTMX1_SFTMX1_5-15_CNNDNN_A_20211121043635_saved_model_after_fit/assets\n",
            "5 1 0.9623718267129933 0.9623 0.9622888648003964 0.9623\n",
            "INFO:tensorflow:Assets written to: /content/drive/MyDrive/data_papers/gpSVHN/model_finals/Collab_SFTMX1_SFTMX1_6-14_CNNDNN_A_20211121043730_saved_model_after_fit/assets\n",
            "6 1 0.9615718168417939 0.9614666666666667 0.9614383432002748 0.9614666666666667\n",
            "INFO:tensorflow:Assets written to: /content/drive/MyDrive/data_papers/gpSVHN/model_finals/Collab_SFTMX1_SFTMX1_7-13_CNNDNN_A_20211121043804_saved_model_after_fit/assets\n",
            "7 1 0.9617956156915785 0.9617666666666667 0.9617416641488618 0.9617666666666667\n",
            "INFO:tensorflow:Assets written to: /content/drive/MyDrive/data_papers/gpSVHN/model_finals/Collab_SFTMX1_SFTMX1_8-12_CNNDNN_A_20211121043915_saved_model_after_fit/assets\n",
            "8 1 0.9635405970913009 0.9635 0.9634804419989459 0.9635\n",
            "INFO:tensorflow:Assets written to: /content/drive/MyDrive/data_papers/gpSVHN/model_finals/Collab_SFTMX1_SFTMX1_9-11_CNNDNN_A_20211121044004_saved_model_after_fit/assets\n",
            "9 1 0.9626669194097108 0.9626 0.9625677688736555 0.9626\n",
            "INFO:tensorflow:Assets written to: /content/drive/MyDrive/data_papers/gpSVHN/model_finals/Collab_SFTMX1_SFTMX1_10-10_CNNDNN_A_20211121044042_saved_model_after_fit/assets\n",
            "10 1 0.9632117980551752 0.9630666666666666 0.9630523448594615 0.9630666666666666\n",
            "INFO:tensorflow:Assets written to: /content/drive/MyDrive/data_papers/gpSVHN/model_finals/Collab_SFTMX1_SFTMX1_11-9_CNNDNN_A_20211121044127_saved_model_after_fit/assets\n",
            "11 1 0.9641868832072155 0.9641 0.9640689572711265 0.9641\n",
            "INFO:tensorflow:Assets written to: /content/drive/MyDrive/data_papers/gpSVHN/model_finals/Collab_SFTMX1_SFTMX1_12-8_CNNDNN_A_20211121044214_saved_model_after_fit/assets\n",
            "12 1 0.964843753998386 0.9647 0.9646813948588039 0.9647\n",
            "INFO:tensorflow:Assets written to: /content/drive/MyDrive/data_papers/gpSVHN/model_finals/Collab_SFTMX1_SFTMX1_13-7_CNNDNN_A_20211121044259_saved_model_after_fit/assets\n",
            "13 1 0.9646342648437882 0.9645333333333334 0.9645223977525094 0.9645333333333334\n",
            "INFO:tensorflow:Assets written to: /content/drive/MyDrive/data_papers/gpSVHN/model_finals/Collab_SFTMX1_SFTMX1_14-6_CNNDNN_A_20211121044356_saved_model_after_fit/assets\n",
            "14 1 0.9650239877682176 0.9649666666666666 0.9649500486936715 0.9649666666666666\n",
            "INFO:tensorflow:Assets written to: /content/drive/MyDrive/data_papers/gpSVHN/model_finals/Collab_SFTMX1_SFTMX1_15-5_CNNDNN_A_20211121044425_saved_model_after_fit/assets\n",
            "15 1 0.9643796150131188 0.9642666666666667 0.9642436385291968 0.9642666666666667\n",
            "INFO:tensorflow:Assets written to: /content/drive/MyDrive/data_papers/gpSVHN/model_finals/Collab_SFTMX1_SFTMX1_16-4_CNNDNN_A_20211121044501_saved_model_after_fit/assets\n",
            "16 1 0.9655060558278888 0.9654 0.9653887994751812 0.9654\n",
            "INFO:tensorflow:Assets written to: /content/drive/MyDrive/data_papers/gpSVHN/model_finals/Collab_SFTMX1_SFTMX1_17-3_CNNDNN_A_20211121044538_saved_model_after_fit/assets\n",
            "17 1 0.9644562374232944 0.9643333333333334 0.9643204753903316 0.9643333333333334\n",
            "INFO:tensorflow:Assets written to: /content/drive/MyDrive/data_papers/gpSVHN/model_finals/Collab_SFTMX1_SFTMX1_18-2_CNNDNN_A_20211121044613_saved_model_after_fit/assets\n",
            "18 1 0.9653478200900925 0.9652 0.965170255550252 0.9652\n",
            "INFO:tensorflow:Assets written to: /content/drive/MyDrive/data_papers/gpSVHN/model_finals/Collab_SFTMX1_SFTMX1_19-1_CNNDNN_A_20211121044635_saved_model_after_fit/assets\n",
            "19 1 0.9662746530124654 0.9662333333333334 0.9662222872036358 0.9662333333333334\n",
            "INFO:tensorflow:Assets written to: /content/drive/MyDrive/data_papers/gpSVHN/model_finals/Collab_SFTMX1_SFTMX1_20-0_CNNDNN_A_20211121044707_saved_model_after_fit/assets\n",
            "20 1 0.9659205404637491 0.9657333333333333 0.9657159827824076 0.9657333333333333\n",
            "INFO:tensorflow:Assets written to: /content/drive/MyDrive/data_papers/gpSVHN/model_finals/Collab_SFTMX1_SFTMX1_0-24_CNNDNN_A_20211121044738_saved_model_after_fit/assets\n",
            "0 1 0.9067543043367778 0.9068666666666667 0.9067255969081647 0.9068666666666667\n",
            "INFO:tensorflow:Assets written to: /content/drive/MyDrive/data_papers/gpSVHN/model_finals/Collab_SFTMX1_SFTMX1_1-23_CNNDNN_A_20211121044813_saved_model_after_fit/assets\n",
            "1 1 0.9442498556157486 0.9441666666666667 0.9441092409511482 0.9441666666666667\n",
            "INFO:tensorflow:Assets written to: /content/drive/MyDrive/data_papers/gpSVHN/model_finals/Collab_SFTMX1_SFTMX1_2-22_CNNDNN_A_20211121044836_saved_model_after_fit/assets\n",
            "2 1 0.9524278575621901 0.9523333333333334 0.952319920309008 0.9523333333333334\n",
            "INFO:tensorflow:Assets written to: /content/drive/MyDrive/data_papers/gpSVHN/model_finals/Collab_SFTMX1_SFTMX1_3-21_CNNDNN_A_20211121044859_saved_model_after_fit/assets\n",
            "3 1 0.9566878269834838 0.9565666666666667 0.9565483912944631 0.9565666666666667\n",
            "INFO:tensorflow:Assets written to: /content/drive/MyDrive/data_papers/gpSVHN/model_finals/Collab_SFTMX1_SFTMX1_4-20_CNNDNN_A_20211121044925_saved_model_after_fit/assets\n",
            "4 1 0.9599122468422747 0.9598333333333333 0.9597963293111959 0.9598333333333333\n",
            "INFO:tensorflow:Assets written to: /content/drive/MyDrive/data_papers/gpSVHN/model_finals/Collab_SFTMX1_SFTMX1_5-19_CNNDNN_A_20211121045012_saved_model_after_fit/assets\n",
            "5 1 0.9583804912468743 0.9583333333333334 0.9582981788752895 0.9583333333333334\n",
            "INFO:tensorflow:Assets written to: /content/drive/MyDrive/data_papers/gpSVHN/model_finals/Collab_SFTMX1_SFTMX1_6-18_CNNDNN_A_20211121045110_saved_model_after_fit/assets\n",
            "6 1 0.9619247861736154 0.9618333333333333 0.9618131767203328 0.9618333333333333\n",
            "INFO:tensorflow:Assets written to: /content/drive/MyDrive/data_papers/gpSVHN/model_finals/Collab_SFTMX1_SFTMX1_7-17_CNNDNN_A_20211121045152_saved_model_after_fit/assets\n",
            "7 1 0.9624999511420049 0.9624333333333334 0.9624138457489995 0.9624333333333334\n",
            "INFO:tensorflow:Assets written to: /content/drive/MyDrive/data_papers/gpSVHN/model_finals/Collab_SFTMX1_SFTMX1_8-16_CNNDNN_A_20211121045229_saved_model_after_fit/assets\n",
            "8 1 0.9644324390673396 0.9643333333333334 0.9643121227459274 0.9643333333333334\n",
            "INFO:tensorflow:Assets written to: /content/drive/MyDrive/data_papers/gpSVHN/model_finals/Collab_SFTMX1_SFTMX1_9-15_CNNDNN_A_20211121045319_saved_model_after_fit/assets\n",
            "9 1 0.9634050346731925 0.9633333333333334 0.963316174573134 0.9633333333333334\n",
            "INFO:tensorflow:Assets written to: /content/drive/MyDrive/data_papers/gpSVHN/model_finals/Collab_SFTMX1_SFTMX1_10-14_CNNDNN_A_20211121045419_saved_model_after_fit/assets\n",
            "10 1 0.9643674324438902 0.9642666666666667 0.964259721426376 0.9642666666666667\n",
            "INFO:tensorflow:Assets written to: /content/drive/MyDrive/data_papers/gpSVHN/model_finals/Collab_SFTMX1_SFTMX1_11-13_CNNDNN_A_20211121045518_saved_model_after_fit/assets\n",
            "11 1 0.9644134597976812 0.9643666666666667 0.9643439186978486 0.9643666666666667\n",
            "INFO:tensorflow:Assets written to: /content/drive/MyDrive/data_papers/gpSVHN/model_finals/Collab_SFTMX1_SFTMX1_12-12_CNNDNN_A_20211121045608_saved_model_after_fit/assets\n",
            "12 1 0.9645438919881016 0.9644333333333334 0.9644082647990051 0.9644333333333334\n",
            "INFO:tensorflow:Assets written to: /content/drive/MyDrive/data_papers/gpSVHN/model_finals/Collab_SFTMX1_SFTMX1_13-11_CNNDNN_A_20211121045657_saved_model_after_fit/assets\n",
            "13 1 0.9643158145523378 0.9642333333333334 0.9642162083212437 0.9642333333333334\n",
            "INFO:tensorflow:Assets written to: /content/drive/MyDrive/data_papers/gpSVHN/model_finals/Collab_SFTMX1_SFTMX1_14-10_CNNDNN_A_20211121045733_saved_model_after_fit/assets\n",
            "14 1 0.9651688517384758 0.9651 0.9650703413105877 0.9651\n",
            "INFO:tensorflow:Assets written to: /content/drive/MyDrive/data_papers/gpSVHN/model_finals/Collab_SFTMX1_SFTMX1_15-9_CNNDNN_A_20211121045814_saved_model_after_fit/assets\n",
            "15 1 0.9655730265966144 0.9654666666666667 0.9654441200469724 0.9654666666666667\n",
            "INFO:tensorflow:Assets written to: /content/drive/MyDrive/data_papers/gpSVHN/model_finals/Collab_SFTMX1_SFTMX1_16-8_CNNDNN_A_20211121045908_saved_model_after_fit/assets\n",
            "16 1 0.9651699252156762 0.9650666666666666 0.965036278693862 0.9650666666666666\n",
            "INFO:tensorflow:Assets written to: /content/drive/MyDrive/data_papers/gpSVHN/model_finals/Collab_SFTMX1_SFTMX1_17-7_CNNDNN_A_20211121050005_saved_model_after_fit/assets\n",
            "17 1 0.9648164983841668 0.9647 0.964675967733005 0.9647\n",
            "INFO:tensorflow:Assets written to: /content/drive/MyDrive/data_papers/gpSVHN/model_finals/Collab_SFTMX1_SFTMX1_18-6_CNNDNN_A_20211121050057_saved_model_after_fit/assets\n",
            "18 1 0.9660403187949792 0.966 0.965974892151106 0.966\n",
            "INFO:tensorflow:Assets written to: /content/drive/MyDrive/data_papers/gpSVHN/model_finals/Collab_SFTMX1_SFTMX1_19-5_CNNDNN_A_20211121050145_saved_model_after_fit/assets\n",
            "19 1 0.9659378476426074 0.9658333333333333 0.9658165375781405 0.9658333333333333\n",
            "INFO:tensorflow:Assets written to: /content/drive/MyDrive/data_papers/gpSVHN/model_finals/Collab_SFTMX1_SFTMX1_20-4_CNNDNN_A_20211121050225_saved_model_after_fit/assets\n",
            "20 1 0.9658560716352108 0.9658 0.9657739358479973 0.9658\n",
            "INFO:tensorflow:Assets written to: /content/drive/MyDrive/data_papers/gpSVHN/model_finals/Collab_SFTMX1_SFTMX1_21-3_CNNDNN_A_20211121050259_saved_model_after_fit/assets\n",
            "21 1 0.9659593041676864 0.9658666666666667 0.9658503278891938 0.9658666666666667\n",
            "INFO:tensorflow:Assets written to: /content/drive/MyDrive/data_papers/gpSVHN/model_finals/Collab_SFTMX1_SFTMX1_22-2_CNNDNN_A_20211121050323_saved_model_after_fit/assets\n",
            "22 1 0.9656162035928569 0.9655333333333334 0.9655229838734722 0.9655333333333334\n",
            "INFO:tensorflow:Assets written to: /content/drive/MyDrive/data_papers/gpSVHN/model_finals/Collab_SFTMX1_SFTMX1_23-1_CNNDNN_A_20211121050402_saved_model_after_fit/assets\n",
            "23 1 0.9653407024496508 0.9652666666666667 0.9652480737620587 0.9652666666666667\n",
            "INFO:tensorflow:Assets written to: /content/drive/MyDrive/data_papers/gpSVHN/model_finals/Collab_SFTMX1_SFTMX1_24-0_CNNDNN_A_20211121050435_saved_model_after_fit/assets\n",
            "24 1 0.9655707153834217 0.9654333333333334 0.9654162902249366 0.9654333333333334\n",
            "INFO:tensorflow:Assets written to: /content/drive/MyDrive/data_papers/gpSVHN/model_finals/Collab_SFTMX1_SFTMX1_0-28_CNNDNN_A_20211121050516_saved_model_after_fit/assets\n",
            "0 1 0.9099323425050464 0.9098333333333334 0.9097200315112697 0.9098333333333334\n",
            "INFO:tensorflow:Assets written to: /content/drive/MyDrive/data_papers/gpSVHN/model_finals/Collab_SFTMX1_SFTMX1_1-27_CNNDNN_A_20211121050555_saved_model_after_fit/assets\n",
            "1 1 0.9456963684892852 0.9456 0.9455524007604038 0.9456\n",
            "INFO:tensorflow:Assets written to: /content/drive/MyDrive/data_papers/gpSVHN/model_finals/Collab_SFTMX1_SFTMX1_2-26_CNNDNN_A_20211121050619_saved_model_after_fit/assets\n",
            "2 1 0.952868546959052 0.9527666666666667 0.9527689389936015 0.9527666666666667\n",
            "INFO:tensorflow:Assets written to: /content/drive/MyDrive/data_papers/gpSVHN/model_finals/Collab_SFTMX1_SFTMX1_3-25_CNNDNN_A_20211121050647_saved_model_after_fit/assets\n",
            "3 1 0.9575775301266689 0.9575333333333333 0.9575226718098329 0.9575333333333333\n",
            "INFO:tensorflow:Assets written to: /content/drive/MyDrive/data_papers/gpSVHN/model_finals/Collab_SFTMX1_SFTMX1_4-24_CNNDNN_A_20211121050723_saved_model_after_fit/assets\n",
            "4 1 0.9592043422815679 0.9591333333333333 0.9591131270238401 0.9591333333333333\n",
            "INFO:tensorflow:Assets written to: /content/drive/MyDrive/data_papers/gpSVHN/model_finals/Collab_SFTMX1_SFTMX1_5-23_CNNDNN_A_20211121050800_saved_model_after_fit/assets\n",
            "5 1 0.9611588957743279 0.9611 0.9610650965211001 0.9611\n",
            "INFO:tensorflow:Assets written to: /content/drive/MyDrive/data_papers/gpSVHN/model_finals/Collab_SFTMX1_SFTMX1_6-22_CNNDNN_A_20211121050845_saved_model_after_fit/assets\n",
            "6 1 0.961217026189295 0.9611666666666666 0.9611376458740638 0.9611666666666666\n",
            "INFO:tensorflow:Assets written to: /content/drive/MyDrive/data_papers/gpSVHN/model_finals/Collab_SFTMX1_SFTMX1_7-21_CNNDNN_A_20211121050931_saved_model_after_fit/assets\n",
            "7 1 0.9620769689566425 0.962 0.9619887474493258 0.962\n",
            "INFO:tensorflow:Assets written to: /content/drive/MyDrive/data_papers/gpSVHN/model_finals/Collab_SFTMX1_SFTMX1_8-20_CNNDNN_A_20211121051015_saved_model_after_fit/assets\n",
            "8 1 0.9620997611651417 0.9620666666666666 0.9620486079672974 0.9620666666666666\n",
            "INFO:tensorflow:Assets written to: /content/drive/MyDrive/data_papers/gpSVHN/model_finals/Collab_SFTMX1_SFTMX1_9-19_CNNDNN_A_20211121051101_saved_model_after_fit/assets\n",
            "9 1 0.9641069509413541 0.9640666666666666 0.9640562508177573 0.9640666666666666\n",
            "INFO:tensorflow:Assets written to: /content/drive/MyDrive/data_papers/gpSVHN/model_finals/Collab_SFTMX1_SFTMX1_10-18_CNNDNN_A_20211121051142_saved_model_after_fit/assets\n",
            "10 1 0.9634336594315858 0.9633666666666667 0.9633453226443845 0.9633666666666667\n",
            "INFO:tensorflow:Assets written to: /content/drive/MyDrive/data_papers/gpSVHN/model_finals/Collab_SFTMX1_SFTMX1_11-17_CNNDNN_A_20211121051229_saved_model_after_fit/assets\n",
            "11 1 0.9650930409334302 0.965 0.9649911984894726 0.965\n",
            "INFO:tensorflow:Assets written to: /content/drive/MyDrive/data_papers/gpSVHN/model_finals/Collab_SFTMX1_SFTMX1_12-16_CNNDNN_A_20211121051314_saved_model_after_fit/assets\n",
            "12 1 0.964619232063914 0.9645 0.9644874315367631 0.9645\n",
            "INFO:tensorflow:Assets written to: /content/drive/MyDrive/data_papers/gpSVHN/model_finals/Collab_SFTMX1_SFTMX1_13-15_CNNDNN_A_20211121051344_saved_model_after_fit/assets\n",
            "13 1 0.9645170249862274 0.9643666666666667 0.9643538887541732 0.9643666666666667\n",
            "INFO:tensorflow:Assets written to: /content/drive/MyDrive/data_papers/gpSVHN/model_finals/Collab_SFTMX1_SFTMX1_14-14_CNNDNN_A_20211121051437_saved_model_after_fit/assets\n",
            "14 1 0.9647583002750977 0.9647333333333333 0.9647193937593438 0.9647333333333333\n",
            "INFO:tensorflow:Assets written to: /content/drive/MyDrive/data_papers/gpSVHN/model_finals/Collab_SFTMX1_SFTMX1_15-13_CNNDNN_A_20211121051528_saved_model_after_fit/assets\n",
            "15 1 0.965220552477877 0.9651333333333333 0.9651136386011739 0.9651333333333333\n",
            "INFO:tensorflow:Assets written to: /content/drive/MyDrive/data_papers/gpSVHN/model_finals/Collab_SFTMX1_SFTMX1_16-12_CNNDNN_A_20211121051617_saved_model_after_fit/assets\n",
            "16 1 0.964758641041065 0.9646333333333333 0.9646206475369756 0.9646333333333333\n",
            "INFO:tensorflow:Assets written to: /content/drive/MyDrive/data_papers/gpSVHN/model_finals/Collab_SFTMX1_SFTMX1_17-11_CNNDNN_A_20211121051706_saved_model_after_fit/assets\n",
            "17 1 0.9665287784669199 0.9664666666666667 0.9664523957474818 0.9664666666666667\n",
            "INFO:tensorflow:Assets written to: /content/drive/MyDrive/data_papers/gpSVHN/model_finals/Collab_SFTMX1_SFTMX1_18-10_CNNDNN_A_20211121051743_saved_model_after_fit/assets\n",
            "18 1 0.9656801449213538 0.9656 0.9655788063431104 0.9656\n",
            "INFO:tensorflow:Assets written to: /content/drive/MyDrive/data_papers/gpSVHN/model_finals/Collab_SFTMX1_SFTMX1_19-9_CNNDNN_A_20211121051846_saved_model_after_fit/assets\n",
            "19 1 0.9657203149987548 0.9656333333333333 0.9656219230144819 0.9656333333333333\n",
            "INFO:tensorflow:Assets written to: /content/drive/MyDrive/data_papers/gpSVHN/model_finals/Collab_SFTMX1_SFTMX1_20-8_CNNDNN_A_20211121051950_saved_model_after_fit/assets\n",
            "20 1 0.9659801922737179 0.9659 0.9658795953872007 0.9659\n",
            "INFO:tensorflow:Assets written to: /content/drive/MyDrive/data_papers/gpSVHN/model_finals/Collab_SFTMX1_SFTMX1_21-7_CNNDNN_A_20211121052025_saved_model_after_fit/assets\n",
            "21 1 0.9656957505264017 0.9656 0.9655881538618071 0.9656\n",
            "INFO:tensorflow:Assets written to: /content/drive/MyDrive/data_papers/gpSVHN/model_finals/Collab_SFTMX1_SFTMX1_22-6_CNNDNN_A_20211121052055_saved_model_after_fit/assets\n",
            "22 1 0.9661812243825727 0.9661 0.9660808786508593 0.9661\n",
            "INFO:tensorflow:Assets written to: /content/drive/MyDrive/data_papers/gpSVHN/model_finals/Collab_SFTMX1_SFTMX1_23-5_CNNDNN_A_20211121052135_saved_model_after_fit/assets\n",
            "23 1 0.966306316004079 0.9662 0.9661868571327827 0.9662\n",
            "INFO:tensorflow:Assets written to: /content/drive/MyDrive/data_papers/gpSVHN/model_finals/Collab_SFTMX1_SFTMX1_24-4_CNNDNN_A_20211121052214_saved_model_after_fit/assets\n",
            "24 1 0.9659793046319871 0.9658666666666667 0.9658545638864562 0.9658666666666667\n",
            "INFO:tensorflow:Assets written to: /content/drive/MyDrive/data_papers/gpSVHN/model_finals/Collab_SFTMX1_SFTMX1_25-3_CNNDNN_A_20211121052309_saved_model_after_fit/assets\n",
            "25 1 0.9662032506763741 0.9661333333333333 0.9661107704264594 0.9661333333333333\n",
            "INFO:tensorflow:Assets written to: /content/drive/MyDrive/data_papers/gpSVHN/model_finals/Collab_SFTMX1_SFTMX1_26-2_CNNDNN_A_20211121052401_saved_model_after_fit/assets\n",
            "26 1 0.9667452662608211 0.9666333333333333 0.9666141453721369 0.9666333333333333\n",
            "INFO:tensorflow:Assets written to: /content/drive/MyDrive/data_papers/gpSVHN/model_finals/Collab_SFTMX1_SFTMX1_27-1_CNNDNN_A_20211121052442_saved_model_after_fit/assets\n",
            "27 1 0.9656629722879877 0.9655666666666667 0.9655481931650721 0.9655666666666667\n",
            "INFO:tensorflow:Assets written to: /content/drive/MyDrive/data_papers/gpSVHN/model_finals/Collab_SFTMX1_SFTMX1_28-0_CNNDNN_A_20211121052505_saved_model_after_fit/assets\n",
            "28 1 0.9660303070796264 0.9659333333333333 0.9659194250255664 0.9659333333333333\n",
            "INFO:tensorflow:Assets written to: /content/drive/MyDrive/data_papers/gpSVHN/model_finals/Collab_SFTMX1_SFTMX1_0-32_CNNDNN_A_20211121052538_saved_model_after_fit/assets\n",
            "0 1 0.9088057799892116 0.9087333333333333 0.9086113587831428 0.9087333333333333\n",
            "INFO:tensorflow:Assets written to: /content/drive/MyDrive/data_papers/gpSVHN/model_finals/Collab_SFTMX1_SFTMX1_1-31_CNNDNN_A_20211121052613_saved_model_after_fit/assets\n",
            "1 1 0.9414373017393043 0.9413 0.941245254556938 0.9413\n",
            "INFO:tensorflow:Assets written to: /content/drive/MyDrive/data_papers/gpSVHN/model_finals/Collab_SFTMX1_SFTMX1_2-30_CNNDNN_A_20211121052636_saved_model_after_fit/assets\n",
            "2 1 0.9505614310489399 0.9505 0.950490773104444 0.9505\n",
            "INFO:tensorflow:Assets written to: /content/drive/MyDrive/data_papers/gpSVHN/model_finals/Collab_SFTMX1_SFTMX1_3-29_CNNDNN_A_20211121052704_saved_model_after_fit/assets\n",
            "3 1 0.9566019531682877 0.9565 0.9564833034951823 0.9565\n",
            "INFO:tensorflow:Assets written to: /content/drive/MyDrive/data_papers/gpSVHN/model_finals/Collab_SFTMX1_SFTMX1_4-28_CNNDNN_A_20211121052747_saved_model_after_fit/assets\n",
            "4 1 0.9579638693634859 0.9578666666666666 0.9578336191754165 0.9578666666666666\n",
            "INFO:tensorflow:Assets written to: /content/drive/MyDrive/data_papers/gpSVHN/model_finals/Collab_SFTMX1_SFTMX1_5-27_CNNDNN_A_20211121052825_saved_model_after_fit/assets\n",
            "5 1 0.9586973187766116 0.9586 0.9585558534926606 0.9586\n",
            "INFO:tensorflow:Assets written to: /content/drive/MyDrive/data_papers/gpSVHN/model_finals/Collab_SFTMX1_SFTMX1_6-26_CNNDNN_A_20211121052901_saved_model_after_fit/assets\n",
            "6 1 0.9611793535652562 0.9611333333333333 0.9611184409026384 0.9611333333333333\n",
            "INFO:tensorflow:Assets written to: /content/drive/MyDrive/data_papers/gpSVHN/model_finals/Collab_SFTMX1_SFTMX1_7-25_CNNDNN_A_20211121052953_saved_model_after_fit/assets\n",
            "7 1 0.9615831841569885 0.9614 0.9613838184280782 0.9614\n",
            "INFO:tensorflow:Assets written to: /content/drive/MyDrive/data_papers/gpSVHN/model_finals/Collab_SFTMX1_SFTMX1_8-24_CNNDNN_A_20211121053034_saved_model_after_fit/assets\n",
            "8 1 0.9632079799447953 0.9631 0.9630768645423224 0.9631\n",
            "INFO:tensorflow:Assets written to: /content/drive/MyDrive/data_papers/gpSVHN/model_finals/Collab_SFTMX1_SFTMX1_9-23_CNNDNN_A_20211121053110_saved_model_after_fit/assets\n",
            "9 1 0.9638565041584934 0.9638333333333333 0.9638103219591648 0.9638333333333333\n",
            "INFO:tensorflow:Assets written to: /content/drive/MyDrive/data_papers/gpSVHN/model_finals/Collab_SFTMX1_SFTMX1_10-22_CNNDNN_A_20211121053149_saved_model_after_fit/assets\n",
            "10 1 0.9638670534997635 0.9637666666666667 0.9637553820821058 0.9637666666666667\n",
            "INFO:tensorflow:Assets written to: /content/drive/MyDrive/data_papers/gpSVHN/model_finals/Collab_SFTMX1_SFTMX1_11-21_CNNDNN_A_20211121053248_saved_model_after_fit/assets\n",
            "11 1 0.9645041838016901 0.9644333333333334 0.9644183908485203 0.9644333333333334\n",
            "INFO:tensorflow:Assets written to: /content/drive/MyDrive/data_papers/gpSVHN/model_finals/Collab_SFTMX1_SFTMX1_12-20_CNNDNN_A_20211121053344_saved_model_after_fit/assets\n",
            "12 1 0.9650308193193975 0.9649 0.964891006522463 0.9649\n",
            "INFO:tensorflow:Assets written to: /content/drive/MyDrive/data_papers/gpSVHN/model_finals/Collab_SFTMX1_SFTMX1_13-19_CNNDNN_A_20211121053427_saved_model_after_fit/assets\n",
            "13 1 0.9646942834112548 0.9646333333333333 0.9646228041692532 0.9646333333333333\n",
            "INFO:tensorflow:Assets written to: /content/drive/MyDrive/data_papers/gpSVHN/model_finals/Collab_SFTMX1_SFTMX1_14-18_CNNDNN_A_20211121053542_saved_model_after_fit/assets\n",
            "14 1 0.9650327633062353 0.9649333333333333 0.9649095714057199 0.9649333333333333\n",
            "INFO:tensorflow:Assets written to: /content/drive/MyDrive/data_papers/gpSVHN/model_finals/Collab_SFTMX1_SFTMX1_15-17_CNNDNN_A_20211121053629_saved_model_after_fit/assets\n",
            "15 1 0.9654870804822535 0.9653666666666667 0.9653515902782958 0.9653666666666667\n",
            "INFO:tensorflow:Assets written to: /content/drive/MyDrive/data_papers/gpSVHN/model_finals/Collab_SFTMX1_SFTMX1_16-16_CNNDNN_A_20211121053716_saved_model_after_fit/assets\n",
            "16 1 0.965045362881041 0.9649666666666666 0.9649497605533898 0.9649666666666666\n",
            "INFO:tensorflow:Assets written to: /content/drive/MyDrive/data_papers/gpSVHN/model_finals/Collab_SFTMX1_SFTMX1_17-15_CNNDNN_A_20211121053806_saved_model_after_fit/assets\n",
            "17 1 0.9655981517893707 0.9655333333333334 0.9655198946682657 0.9655333333333334\n",
            "INFO:tensorflow:Assets written to: /content/drive/MyDrive/data_papers/gpSVHN/model_finals/Collab_SFTMX1_SFTMX1_18-14_CNNDNN_A_20211121053912_saved_model_after_fit/assets\n",
            "18 1 0.9651526714515232 0.9651 0.9650688551530925 0.9651\n",
            "INFO:tensorflow:Assets written to: /content/drive/MyDrive/data_papers/gpSVHN/model_finals/Collab_SFTMX1_SFTMX1_19-13_CNNDNN_A_20211121054000_saved_model_after_fit/assets\n",
            "19 1 0.9656250595902371 0.9655666666666667 0.9655472850524266 0.9655666666666667\n",
            "INFO:tensorflow:Assets written to: /content/drive/MyDrive/data_papers/gpSVHN/model_finals/Collab_SFTMX1_SFTMX1_20-12_CNNDNN_A_20211121054043_saved_model_after_fit/assets\n",
            "20 1 0.9660865247682442 0.9659666666666666 0.9659509703933609 0.9659666666666666\n",
            "INFO:tensorflow:Assets written to: /content/drive/MyDrive/data_papers/gpSVHN/model_finals/Collab_SFTMX1_SFTMX1_21-11_CNNDNN_A_20211121054133_saved_model_after_fit/assets\n",
            "21 1 0.9655866892199126 0.9655333333333334 0.9655122200614614 0.9655333333333334\n",
            "INFO:tensorflow:Assets written to: /content/drive/MyDrive/data_papers/gpSVHN/model_finals/Collab_SFTMX1_SFTMX1_22-10_CNNDNN_A_20211121054212_saved_model_after_fit/assets\n",
            "22 1 0.9661053470465134 0.966 0.9659920252799508 0.966\n",
            "INFO:tensorflow:Assets written to: /content/drive/MyDrive/data_papers/gpSVHN/model_finals/Collab_SFTMX1_SFTMX1_23-9_CNNDNN_A_20211121054245_saved_model_after_fit/assets\n",
            "23 1 0.9657922449945711 0.9657 0.9656863935230812 0.9657\n",
            "INFO:tensorflow:Assets written to: /content/drive/MyDrive/data_papers/gpSVHN/model_finals/Collab_SFTMX1_SFTMX1_24-8_CNNDNN_A_20211121054327_saved_model_after_fit/assets\n",
            "24 1 0.9659688081131359 0.9659333333333333 0.9659141659274049 0.9659333333333333\n",
            "INFO:tensorflow:Assets written to: /content/drive/MyDrive/data_papers/gpSVHN/model_finals/Collab_SFTMX1_SFTMX1_25-7_CNNDNN_A_20211121054410_saved_model_after_fit/assets\n",
            "25 1 0.966869982539485 0.9667666666666667 0.9667506144725698 0.9667666666666667\n",
            "INFO:tensorflow:Assets written to: /content/drive/MyDrive/data_papers/gpSVHN/model_finals/Collab_SFTMX1_SFTMX1_26-6_CNNDNN_A_20211121054439_saved_model_after_fit/assets\n",
            "26 1 0.96598526204511 0.9659 0.9658810110166985 0.9659\n",
            "INFO:tensorflow:Assets written to: /content/drive/MyDrive/data_papers/gpSVHN/model_finals/Collab_SFTMX1_SFTMX1_27-5_CNNDNN_A_20211121054526_saved_model_after_fit/assets\n",
            "27 1 0.9658583886371938 0.9657666666666667 0.9657423652034458 0.9657666666666667\n",
            "INFO:tensorflow:Assets written to: /content/drive/MyDrive/data_papers/gpSVHN/model_finals/Collab_SFTMX1_SFTMX1_28-4_CNNDNN_A_20211121054553_saved_model_after_fit/assets\n",
            "28 1 0.9664377066148626 0.9663666666666667 0.9663449904084046 0.9663666666666667\n",
            "INFO:tensorflow:Assets written to: /content/drive/MyDrive/data_papers/gpSVHN/model_finals/Collab_SFTMX1_SFTMX1_29-3_CNNDNN_A_20211121054633_saved_model_after_fit/assets\n",
            "29 1 0.9663990884849613 0.9663333333333334 0.9663097683341911 0.9663333333333334\n",
            "INFO:tensorflow:Assets written to: /content/drive/MyDrive/data_papers/gpSVHN/model_finals/Collab_SFTMX1_SFTMX1_30-2_CNNDNN_A_20211121054707_saved_model_after_fit/assets\n",
            "30 1 0.9669023942700765 0.9668333333333333 0.9668233593914223 0.9668333333333333\n",
            "INFO:tensorflow:Assets written to: /content/drive/MyDrive/data_papers/gpSVHN/model_finals/Collab_SFTMX1_SFTMX1_31-1_CNNDNN_A_20211121054746_saved_model_after_fit/assets\n",
            "31 1 0.966864342400857 0.9668 0.966766581631406 0.9668\n",
            "INFO:tensorflow:Assets written to: /content/drive/MyDrive/data_papers/gpSVHN/model_finals/Collab_SFTMX1_SFTMX1_32-0_CNNDNN_A_20211121054828_saved_model_after_fit/assets\n",
            "32 1 0.9673432711972996 0.9673 0.9672874135795969 0.9673\n",
            "INFO:tensorflow:Assets written to: /content/drive/MyDrive/data_papers/gpSVHN/model_finals/Collab_SFTMX1_SFTMX1_0-36_CNNDNN_A_20211121054857_saved_model_after_fit/assets\n",
            "0 1 0.9079497229210105 0.9080666666666667 0.9078667760134438 0.9080666666666667\n",
            "INFO:tensorflow:Assets written to: /content/drive/MyDrive/data_papers/gpSVHN/model_finals/Collab_SFTMX1_SFTMX1_1-35_CNNDNN_A_20211121054937_saved_model_after_fit/assets\n",
            "1 1 0.9439428540691308 0.9439 0.9438444150003501 0.9439\n",
            "INFO:tensorflow:Assets written to: /content/drive/MyDrive/data_papers/gpSVHN/model_finals/Collab_SFTMX1_SFTMX1_2-34_CNNDNN_A_20211121055002_saved_model_after_fit/assets\n",
            "2 1 0.9527625443345908 0.9527333333333333 0.9526979057510528 0.9527333333333333\n",
            "INFO:tensorflow:Assets written to: /content/drive/MyDrive/data_papers/gpSVHN/model_finals/Collab_SFTMX1_SFTMX1_3-33_CNNDNN_A_20211121055037_saved_model_after_fit/assets\n",
            "3 1 0.9566835970931036 0.9566 0.9565797831561235 0.9566\n",
            "INFO:tensorflow:Assets written to: /content/drive/MyDrive/data_papers/gpSVHN/model_finals/Collab_SFTMX1_SFTMX1_4-32_CNNDNN_A_20211121055105_saved_model_after_fit/assets\n",
            "4 1 0.9588289838772399 0.9588 0.9587800076791168 0.9588\n",
            "INFO:tensorflow:Assets written to: /content/drive/MyDrive/data_papers/gpSVHN/model_finals/Collab_SFTMX1_SFTMX1_5-31_CNNDNN_A_20211121055137_saved_model_after_fit/assets\n",
            "5 1 0.9609952519591606 0.9609666666666666 0.9609384383204961 0.9609666666666666\n",
            "INFO:tensorflow:Assets written to: /content/drive/MyDrive/data_papers/gpSVHN/model_finals/Collab_SFTMX1_SFTMX1_6-30_CNNDNN_A_20211121055222_saved_model_after_fit/assets\n",
            "6 1 0.9630373651126497 0.9629333333333333 0.9629131064203618 0.9629333333333333\n",
            "INFO:tensorflow:Assets written to: /content/drive/MyDrive/data_papers/gpSVHN/model_finals/Collab_SFTMX1_SFTMX1_7-29_CNNDNN_A_20211121055259_saved_model_after_fit/assets\n",
            "7 1 0.9621557264915209 0.9621 0.9620727015727668 0.9621\n",
            "INFO:tensorflow:Assets written to: /content/drive/MyDrive/data_papers/gpSVHN/model_finals/Collab_SFTMX1_SFTMX1_8-28_CNNDNN_A_20211121055402_saved_model_after_fit/assets\n",
            "8 1 0.962023644060851 0.9619333333333333 0.9619025818426216 0.9619333333333333\n",
            "INFO:tensorflow:Assets written to: /content/drive/MyDrive/data_papers/gpSVHN/model_finals/Collab_SFTMX1_SFTMX1_9-27_CNNDNN_A_20211121055450_saved_model_after_fit/assets\n",
            "9 1 0.9633679894688967 0.9632666666666667 0.9632394751977955 0.9632666666666667\n",
            "INFO:tensorflow:Assets written to: /content/drive/MyDrive/data_papers/gpSVHN/model_finals/Collab_SFTMX1_SFTMX1_10-26_CNNDNN_A_20211121055542_saved_model_after_fit/assets\n",
            "10 1 0.9638945751867505 0.9638 0.9637854576461898 0.9638\n",
            "INFO:tensorflow:Assets written to: /content/drive/MyDrive/data_papers/gpSVHN/model_finals/Collab_SFTMX1_SFTMX1_11-25_CNNDNN_A_20211121055637_saved_model_after_fit/assets\n",
            "11 1 0.9638114624861651 0.9637333333333333 0.9637071007471328 0.9637333333333333\n",
            "INFO:tensorflow:Assets written to: /content/drive/MyDrive/data_papers/gpSVHN/model_finals/Collab_SFTMX1_SFTMX1_12-24_CNNDNN_A_20211121055723_saved_model_after_fit/assets\n",
            "12 1 0.9643794661354564 0.9642333333333334 0.9642282462271141 0.9642333333333334\n",
            "INFO:tensorflow:Assets written to: /content/drive/MyDrive/data_papers/gpSVHN/model_finals/Collab_SFTMX1_SFTMX1_13-23_CNNDNN_A_20211121055806_saved_model_after_fit/assets\n",
            "13 1 0.9645534405261067 0.9643666666666667 0.964352552605533 0.9643666666666667\n",
            "INFO:tensorflow:Assets written to: /content/drive/MyDrive/data_papers/gpSVHN/model_finals/Collab_SFTMX1_SFTMX1_14-22_CNNDNN_A_20211121055847_saved_model_after_fit/assets\n",
            "14 1 0.9652221788966595 0.9650666666666666 0.9650489494824994 0.9650666666666666\n",
            "INFO:tensorflow:Assets written to: /content/drive/MyDrive/data_papers/gpSVHN/model_finals/Collab_SFTMX1_SFTMX1_15-21_CNNDNN_A_20211121055959_saved_model_after_fit/assets\n",
            "15 1 0.9653057086910579 0.9652333333333334 0.9652125112857295 0.9652333333333334\n",
            "INFO:tensorflow:Assets written to: /content/drive/MyDrive/data_papers/gpSVHN/model_finals/Collab_SFTMX1_SFTMX1_16-20_CNNDNN_A_20211121060055_saved_model_after_fit/assets\n",
            "16 1 0.9649150560488692 0.9648333333333333 0.9648225282803553 0.9648333333333333\n",
            "INFO:tensorflow:Assets written to: /content/drive/MyDrive/data_papers/gpSVHN/model_finals/Collab_SFTMX1_SFTMX1_17-19_CNNDNN_A_20211121060152_saved_model_after_fit/assets\n",
            "17 1 0.9652643302171472 0.9650666666666666 0.9650583452126893 0.9650666666666666\n",
            "INFO:tensorflow:Assets written to: /content/drive/MyDrive/data_papers/gpSVHN/model_finals/Collab_SFTMX1_SFTMX1_18-18_CNNDNN_A_20211121060250_saved_model_after_fit/assets\n",
            "18 1 0.9656415418059073 0.9655666666666667 0.9655490254919934 0.9655666666666667\n",
            "INFO:tensorflow:Assets written to: /content/drive/MyDrive/data_papers/gpSVHN/model_finals/Collab_SFTMX1_SFTMX1_19-17_CNNDNN_A_20211121060342_saved_model_after_fit/assets\n",
            "19 1 0.9654804775435128 0.9654 0.96538492680001 0.9654\n",
            "INFO:tensorflow:Assets written to: /content/drive/MyDrive/data_papers/gpSVHN/model_finals/Collab_SFTMX1_SFTMX1_20-16_CNNDNN_A_20211121060435_saved_model_after_fit/assets\n",
            "20 1 0.9665147727509288 0.9664666666666667 0.9664416090411578 0.9664666666666667\n",
            "INFO:tensorflow:Assets written to: /content/drive/MyDrive/data_papers/gpSVHN/model_finals/Collab_SFTMX1_SFTMX1_21-15_CNNDNN_A_20211121060546_saved_model_after_fit/assets\n",
            "21 1 0.9651158154530923 0.9650333333333333 0.9649988224486119 0.9650333333333333\n",
            "INFO:tensorflow:Assets written to: /content/drive/MyDrive/data_papers/gpSVHN/model_finals/Collab_SFTMX1_SFTMX1_22-14_CNNDNN_A_20211121060654_saved_model_after_fit/assets\n",
            "22 1 0.9660547563193003 0.9659333333333333 0.9659221089334528 0.9659333333333333\n",
            "INFO:tensorflow:Assets written to: /content/drive/MyDrive/data_papers/gpSVHN/model_finals/Collab_SFTMX1_SFTMX1_23-13_CNNDNN_A_20211121060739_saved_model_after_fit/assets\n",
            "23 1 0.9649458746443975 0.9647666666666667 0.9647678912390429 0.9647666666666667\n",
            "INFO:tensorflow:Assets written to: /content/drive/MyDrive/data_papers/gpSVHN/model_finals/Collab_SFTMX1_SFTMX1_24-12_CNNDNN_A_20211121060841_saved_model_after_fit/assets\n",
            "24 1 0.966060559651871 0.966 0.9659818278134907 0.966\n",
            "INFO:tensorflow:Assets written to: /content/drive/MyDrive/data_papers/gpSVHN/model_finals/Collab_SFTMX1_SFTMX1_25-11_CNNDNN_A_20211121060925_saved_model_after_fit/assets\n",
            "25 1 0.965927579707843 0.9658333333333333 0.965810836071383 0.9658333333333333\n",
            "INFO:tensorflow:Assets written to: /content/drive/MyDrive/data_papers/gpSVHN/model_finals/Collab_SFTMX1_SFTMX1_26-10_CNNDNN_A_20211121061022_saved_model_after_fit/assets\n",
            "26 1 0.9658367193604369 0.9657666666666667 0.9657562043581054 0.9657666666666667\n",
            "INFO:tensorflow:Assets written to: /content/drive/MyDrive/data_papers/gpSVHN/model_finals/Collab_SFTMX1_SFTMX1_27-9_CNNDNN_A_20211121061111_saved_model_after_fit/assets\n",
            "27 1 0.9657708722656116 0.9656666666666667 0.9656465139536005 0.9656666666666667\n",
            "INFO:tensorflow:Assets written to: /content/drive/MyDrive/data_papers/gpSVHN/model_finals/Collab_SFTMX1_SFTMX1_28-8_CNNDNN_A_20211121061145_saved_model_after_fit/assets\n",
            "28 1 0.966239089647856 0.9662 0.9661838097690774 0.9662\n",
            "INFO:tensorflow:Assets written to: /content/drive/MyDrive/data_papers/gpSVHN/model_finals/Collab_SFTMX1_SFTMX1_29-7_CNNDNN_A_20211121061216_saved_model_after_fit/assets\n",
            "29 1 0.9663735788245206 0.9662666666666667 0.9662528658430006 0.9662666666666667\n",
            "INFO:tensorflow:Assets written to: /content/drive/MyDrive/data_papers/gpSVHN/model_finals/Collab_SFTMX1_SFTMX1_30-6_CNNDNN_A_20211121061256_saved_model_after_fit/assets\n",
            "30 1 0.9670537488542216 0.9669666666666666 0.9669567537753201 0.9669666666666666\n",
            "INFO:tensorflow:Assets written to: /content/drive/MyDrive/data_papers/gpSVHN/model_finals/Collab_SFTMX1_SFTMX1_31-5_CNNDNN_A_20211121061327_saved_model_after_fit/assets\n",
            "31 1 0.9664142237326376 0.9663333333333334 0.9663146695775624 0.9663333333333334\n",
            "INFO:tensorflow:Assets written to: /content/drive/MyDrive/data_papers/gpSVHN/model_finals/Collab_SFTMX1_SFTMX1_32-4_CNNDNN_A_20211121061411_saved_model_after_fit/assets\n",
            "32 1 0.9672561657702632 0.9671666666666666 0.967151408981069 0.9671666666666666\n",
            "INFO:tensorflow:Assets written to: /content/drive/MyDrive/data_papers/gpSVHN/model_finals/Collab_SFTMX1_SFTMX1_33-3_CNNDNN_A_20211121061504_saved_model_after_fit/assets\n",
            "33 1 0.9666377624938312 0.9665666666666667 0.9665443745231747 0.9665666666666667\n",
            "INFO:tensorflow:Assets written to: /content/drive/MyDrive/data_papers/gpSVHN/model_finals/Collab_SFTMX1_SFTMX1_34-2_CNNDNN_A_20211121061538_saved_model_after_fit/assets\n",
            "34 1 0.966521511668623 0.9664666666666667 0.966438860299153 0.9664666666666667\n",
            "INFO:tensorflow:Assets written to: /content/drive/MyDrive/data_papers/gpSVHN/model_finals/Collab_SFTMX1_SFTMX1_35-1_CNNDNN_A_20211121061630_saved_model_after_fit/assets\n",
            "35 1 0.9660191639121043 0.9659666666666666 0.9659496240311846 0.9659666666666666\n",
            "INFO:tensorflow:Assets written to: /content/drive/MyDrive/data_papers/gpSVHN/model_finals/Collab_SFTMX1_SFTMX1_36-0_CNNDNN_A_20211121061705_saved_model_after_fit/assets\n",
            "36 1 0.967394858520681 0.9673 0.9672874106185191 0.9673\n",
            "INFO:tensorflow:Assets written to: /content/drive/MyDrive/data_papers/gpSVHN/model_finals/Collab_SFTMX1_SFTMX1_0-38_CNNDNN_A_20211121061750_saved_model_after_fit/assets\n",
            "0 1 0.9078424609477428 0.9078333333333334 0.9077112034227512 0.9078333333333334\n",
            "INFO:tensorflow:Assets written to: /content/drive/MyDrive/data_papers/gpSVHN/model_finals/Collab_SFTMX1_SFTMX1_1-37_CNNDNN_A_20211121061837_saved_model_after_fit/assets\n",
            "1 1 0.9429632447814053 0.9428333333333333 0.9427595906750031 0.9428333333333333\n",
            "INFO:tensorflow:Assets written to: /content/drive/MyDrive/data_papers/gpSVHN/model_finals/Collab_SFTMX1_SFTMX1_2-36_CNNDNN_A_20211121061901_saved_model_after_fit/assets\n",
            "2 1 0.949875172206909 0.9498 0.9498017858895559 0.9498\n",
            "INFO:tensorflow:Assets written to: /content/drive/MyDrive/data_papers/gpSVHN/model_finals/Collab_SFTMX1_SFTMX1_3-35_CNNDNN_A_20211121061930_saved_model_after_fit/assets\n",
            "3 1 0.9558252188232648 0.9557 0.9556872882399371 0.9557\n",
            "INFO:tensorflow:Assets written to: /content/drive/MyDrive/data_papers/gpSVHN/model_finals/Collab_SFTMX1_SFTMX1_4-34_CNNDNN_A_20211121062003_saved_model_after_fit/assets\n",
            "4 1 0.9590715567064804 0.9590333333333333 0.9590041541926326 0.9590333333333333\n",
            "INFO:tensorflow:Assets written to: /content/drive/MyDrive/data_papers/gpSVHN/model_finals/Collab_SFTMX1_SFTMX1_5-33_CNNDNN_A_20211121062055_saved_model_after_fit/assets\n",
            "5 1 0.961671877572508 0.9616333333333333 0.9616175896663148 0.9616333333333333\n",
            "INFO:tensorflow:Assets written to: /content/drive/MyDrive/data_papers/gpSVHN/model_finals/Collab_SFTMX1_SFTMX1_6-32_CNNDNN_A_20211121062134_saved_model_after_fit/assets\n",
            "6 1 0.9616907215703654 0.9616 0.9615786450570069 0.9616\n",
            "INFO:tensorflow:Assets written to: /content/drive/MyDrive/data_papers/gpSVHN/model_finals/Collab_SFTMX1_SFTMX1_7-31_CNNDNN_A_20211121062210_saved_model_after_fit/assets\n",
            "7 1 0.9623774255267887 0.9623333333333334 0.9623143567405968 0.9623333333333334\n",
            "INFO:tensorflow:Assets written to: /content/drive/MyDrive/data_papers/gpSVHN/model_finals/Collab_SFTMX1_SFTMX1_8-30_CNNDNN_A_20211121062301_saved_model_after_fit/assets\n",
            "8 1 0.9638555464445002 0.9638 0.9637770265573719 0.9638\n",
            "INFO:tensorflow:Assets written to: /content/drive/MyDrive/data_papers/gpSVHN/model_finals/Collab_SFTMX1_SFTMX1_9-29_CNNDNN_A_20211121062355_saved_model_after_fit/assets\n",
            "9 1 0.9634920034484831 0.9634666666666667 0.9634368024158474 0.9634666666666667\n",
            "INFO:tensorflow:Assets written to: /content/drive/MyDrive/data_papers/gpSVHN/model_finals/Collab_SFTMX1_SFTMX1_10-28_CNNDNN_A_20211121062449_saved_model_after_fit/assets\n",
            "10 1 0.963807135386324 0.9637 0.9636838927171119 0.9637\n",
            "INFO:tensorflow:Assets written to: /content/drive/MyDrive/data_papers/gpSVHN/model_finals/Collab_SFTMX1_SFTMX1_11-27_CNNDNN_A_20211121062550_saved_model_after_fit/assets\n",
            "11 1 0.9647558441204457 0.9647 0.9646791629479335 0.9647\n",
            "INFO:tensorflow:Assets written to: /content/drive/MyDrive/data_papers/gpSVHN/model_finals/Collab_SFTMX1_SFTMX1_12-26_CNNDNN_A_20211121062649_saved_model_after_fit/assets\n",
            "12 1 0.9638668245894512 0.9637666666666667 0.9637405215355463 0.9637666666666667\n",
            "INFO:tensorflow:Assets written to: /content/drive/MyDrive/data_papers/gpSVHN/model_finals/Collab_SFTMX1_SFTMX1_13-25_CNNDNN_A_20211121062746_saved_model_after_fit/assets\n",
            "13 1 0.9650781254204367 0.9649666666666666 0.9649514566059809 0.9649666666666666\n",
            "INFO:tensorflow:Assets written to: /content/drive/MyDrive/data_papers/gpSVHN/model_finals/Collab_SFTMX1_SFTMX1_14-24_CNNDNN_A_20211121062851_saved_model_after_fit/assets\n",
            "14 1 0.9642158880640734 0.9641333333333333 0.9641066006310325 0.9641333333333333\n",
            "INFO:tensorflow:Assets written to: /content/drive/MyDrive/data_papers/gpSVHN/model_finals/Collab_SFTMX1_SFTMX1_15-23_CNNDNN_A_20211121062943_saved_model_after_fit/assets\n",
            "15 1 0.9655757329163234 0.9655 0.965492873053035 0.9655\n",
            "INFO:tensorflow:Assets written to: /content/drive/MyDrive/data_papers/gpSVHN/model_finals/Collab_SFTMX1_SFTMX1_16-22_CNNDNN_A_20211121063120_saved_model_after_fit/assets\n",
            "16 1 0.9659578045891953 0.9658 0.9657966062398131 0.9658\n",
            "INFO:tensorflow:Assets written to: /content/drive/MyDrive/data_papers/gpSVHN/model_finals/Collab_SFTMX1_SFTMX1_17-21_CNNDNN_A_20211121063209_saved_model_after_fit/assets\n",
            "17 1 0.9648105528197037 0.9647333333333333 0.9647202098644401 0.9647333333333333\n",
            "INFO:tensorflow:Assets written to: /content/drive/MyDrive/data_papers/gpSVHN/model_finals/Collab_SFTMX1_SFTMX1_18-20_CNNDNN_A_20211121063244_saved_model_after_fit/assets\n",
            "18 1 0.9655958458483324 0.9655 0.9654848780858245 0.9655\n",
            "INFO:tensorflow:Assets written to: /content/drive/MyDrive/data_papers/gpSVHN/model_finals/Collab_SFTMX1_SFTMX1_19-19_CNNDNN_A_20211121063314_saved_model_after_fit/assets\n",
            "19 1 0.9653479046228988 0.9652333333333334 0.965207032031622 0.9652333333333334\n",
            "INFO:tensorflow:Assets written to: /content/drive/MyDrive/data_papers/gpSVHN/model_finals/Collab_SFTMX1_SFTMX1_20-18_CNNDNN_A_20211121063344_saved_model_after_fit/assets\n",
            "20 1 0.9644656011548569 0.9643 0.9643009933675051 0.9643\n",
            "INFO:tensorflow:Assets written to: /content/drive/MyDrive/data_papers/gpSVHN/model_finals/Collab_SFTMX1_SFTMX1_21-17_CNNDNN_A_20211121063428_saved_model_after_fit/assets\n",
            "21 1 0.9658752631612405 0.9657666666666667 0.9657483414768506 0.9657666666666667\n",
            "INFO:tensorflow:Assets written to: /content/drive/MyDrive/data_papers/gpSVHN/model_finals/Collab_SFTMX1_SFTMX1_22-16_CNNDNN_A_20211121063533_saved_model_after_fit/assets\n",
            "22 1 0.9652987808553808 0.9652 0.9651795143921085 0.9652\n",
            "INFO:tensorflow:Assets written to: /content/drive/MyDrive/data_papers/gpSVHN/model_finals/Collab_SFTMX1_SFTMX1_23-15_CNNDNN_A_20211121063611_saved_model_after_fit/assets\n",
            "23 1 0.9655662054620184 0.9654333333333334 0.9654164727482933 0.9654333333333334\n",
            "INFO:tensorflow:Assets written to: /content/drive/MyDrive/data_papers/gpSVHN/model_finals/Collab_SFTMX1_SFTMX1_24-14_CNNDNN_A_20211121063645_saved_model_after_fit/assets\n",
            "24 1 0.9663410994727357 0.9662 0.9661880522739331 0.9662\n",
            "INFO:tensorflow:Assets written to: /content/drive/MyDrive/data_papers/gpSVHN/model_finals/Collab_SFTMX1_SFTMX1_25-13_CNNDNN_A_20211121063733_saved_model_after_fit/assets\n",
            "25 1 0.9656191840919632 0.9655 0.9654804145757476 0.9655\n",
            "INFO:tensorflow:Assets written to: /content/drive/MyDrive/data_papers/gpSVHN/model_finals/Collab_SFTMX1_SFTMX1_26-12_CNNDNN_A_20211121063808_saved_model_after_fit/assets\n",
            "26 1 0.9661441961968188 0.9660666666666666 0.9660427050299413 0.9660666666666666\n",
            "INFO:tensorflow:Assets written to: /content/drive/MyDrive/data_papers/gpSVHN/model_finals/Collab_SFTMX1_SFTMX1_27-11_CNNDNN_A_20211121063850_saved_model_after_fit/assets\n",
            "27 1 0.9660937410670893 0.9660333333333333 0.9660117290497479 0.9660333333333333\n",
            "INFO:tensorflow:Assets written to: /content/drive/MyDrive/data_papers/gpSVHN/model_finals/Collab_SFTMX1_SFTMX1_28-10_CNNDNN_A_20211121063939_saved_model_after_fit/assets\n",
            "28 1 0.9663086330740087 0.9662 0.9661862022356797 0.9662\n",
            "INFO:tensorflow:Assets written to: /content/drive/MyDrive/data_papers/gpSVHN/model_finals/Collab_SFTMX1_SFTMX1_29-9_CNNDNN_A_20211121064008_saved_model_after_fit/assets\n",
            "29 1 0.9665858844335088 0.9665666666666667 0.9665465836267919 0.9665666666666667\n",
            "INFO:tensorflow:Assets written to: /content/drive/MyDrive/data_papers/gpSVHN/model_finals/Collab_SFTMX1_SFTMX1_30-8_CNNDNN_A_20211121064037_saved_model_after_fit/assets\n",
            "30 1 0.9666960004421578 0.9665666666666667 0.966553629593115 0.9665666666666667\n",
            "INFO:tensorflow:Assets written to: /content/drive/MyDrive/data_papers/gpSVHN/model_finals/Collab_SFTMX1_SFTMX1_31-7_CNNDNN_A_20211121064127_saved_model_after_fit/assets\n",
            "31 1 0.9657848903592053 0.9656666666666667 0.9656509386734115 0.9656666666666667\n",
            "INFO:tensorflow:Assets written to: /content/drive/MyDrive/data_papers/gpSVHN/model_finals/Collab_SFTMX1_SFTMX1_32-6_CNNDNN_A_20211121064229_saved_model_after_fit/assets\n",
            "32 1 0.9669380043992698 0.9668666666666667 0.9668478318879515 0.9668666666666667\n",
            "INFO:tensorflow:Assets written to: /content/drive/MyDrive/data_papers/gpSVHN/model_finals/Collab_SFTMX1_SFTMX1_33-5_CNNDNN_A_20211121064336_saved_model_after_fit/assets\n",
            "33 1 0.9663826395373745 0.9663333333333334 0.9663087847480792 0.9663333333333334\n",
            "INFO:tensorflow:Assets written to: /content/drive/MyDrive/data_papers/gpSVHN/model_finals/Collab_SFTMX1_SFTMX1_34-4_CNNDNN_A_20211121064410_saved_model_after_fit/assets\n",
            "34 1 0.9669460445716591 0.9668666666666667 0.9668478964547476 0.9668666666666667\n",
            "INFO:tensorflow:Assets written to: /content/drive/MyDrive/data_papers/gpSVHN/model_finals/Collab_SFTMX1_SFTMX1_35-3_CNNDNN_A_20211121064452_saved_model_after_fit/assets\n",
            "35 1 0.9665743402936892 0.9665 0.9664823452685735 0.9665\n",
            "INFO:tensorflow:Assets written to: /content/drive/MyDrive/data_papers/gpSVHN/model_finals/Collab_SFTMX1_SFTMX1_36-2_CNNDNN_A_20211121064526_saved_model_after_fit/assets\n",
            "36 1 0.9662278971151672 0.9661 0.9660828181110203 0.9661\n",
            "INFO:tensorflow:Assets written to: /content/drive/MyDrive/data_papers/gpSVHN/model_finals/Collab_SFTMX1_SFTMX1_37-1_CNNDNN_A_20211121064556_saved_model_after_fit/assets\n",
            "37 1 0.9669309100036361 0.9668333333333333 0.9668143581393487 0.9668333333333333\n",
            "INFO:tensorflow:Assets written to: /content/drive/MyDrive/data_papers/gpSVHN/model_finals/Collab_SFTMX1_SFTMX1_38-0_CNNDNN_A_20211121064701_saved_model_after_fit/assets\n",
            "38 1 0.966785995131178 0.9666666666666667 0.9666518429796287 0.9666666666666667\n",
            "INFO:tensorflow:Assets written to: /content/drive/MyDrive/data_papers/gpSVHN/model_finals/Collab_SFTMX1_SFTMX1_0-40_CNNDNN_A_20211121064731_saved_model_after_fit/assets\n",
            "0 1 0.9094587256252087 0.9093666666666667 0.9093447006726177 0.9093666666666667\n",
            "INFO:tensorflow:Assets written to: /content/drive/MyDrive/data_papers/gpSVHN/model_finals/Collab_SFTMX1_SFTMX1_1-39_CNNDNN_A_20211121064817_saved_model_after_fit/assets\n",
            "1 1 0.9448465004449198 0.9447333333333333 0.9446887712089777 0.9447333333333333\n",
            "INFO:tensorflow:Assets written to: /content/drive/MyDrive/data_papers/gpSVHN/model_finals/Collab_SFTMX1_SFTMX1_2-38_CNNDNN_A_20211121064841_saved_model_after_fit/assets\n",
            "2 1 0.951717525748555 0.9516333333333333 0.9515749169026911 0.9516333333333333\n",
            "INFO:tensorflow:Assets written to: /content/drive/MyDrive/data_papers/gpSVHN/model_finals/Collab_SFTMX1_SFTMX1_3-37_CNNDNN_A_20211121064910_saved_model_after_fit/assets\n",
            "3 1 0.9567009534238148 0.9565666666666667 0.9565569981712864 0.9565666666666667\n",
            "INFO:tensorflow:Assets written to: /content/drive/MyDrive/data_papers/gpSVHN/model_finals/Collab_SFTMX1_SFTMX1_4-36_CNNDNN_A_20211121064948_saved_model_after_fit/assets\n",
            "4 1 0.9596373990810292 0.9595666666666667 0.959538400828146 0.9595666666666667\n",
            "INFO:tensorflow:Assets written to: /content/drive/MyDrive/data_papers/gpSVHN/model_finals/Collab_SFTMX1_SFTMX1_5-35_CNNDNN_A_20211121065036_saved_model_after_fit/assets\n",
            "5 1 0.9623023033398438 0.9622666666666667 0.9622322014569528 0.9622666666666667\n",
            "INFO:tensorflow:Assets written to: /content/drive/MyDrive/data_papers/gpSVHN/model_finals/Collab_SFTMX1_SFTMX1_6-34_CNNDNN_A_20211121065112_saved_model_after_fit/assets\n",
            "6 1 0.96212310361834 0.9620666666666666 0.9620436108886875 0.9620666666666666\n",
            "INFO:tensorflow:Assets written to: /content/drive/MyDrive/data_papers/gpSVHN/model_finals/Collab_SFTMX1_SFTMX1_7-33_CNNDNN_A_20211121065143_saved_model_after_fit/assets\n",
            "7 1 0.9624934172020112 0.9624333333333334 0.9623976248887944 0.9624333333333334\n",
            "INFO:tensorflow:Assets written to: /content/drive/MyDrive/data_papers/gpSVHN/model_finals/Collab_SFTMX1_SFTMX1_8-32_CNNDNN_A_20211121065231_saved_model_after_fit/assets\n",
            "8 1 0.9632877340690725 0.9632333333333334 0.9631997106641468 0.9632333333333334\n",
            "INFO:tensorflow:Assets written to: /content/drive/MyDrive/data_papers/gpSVHN/model_finals/Collab_SFTMX1_SFTMX1_9-31_CNNDNN_A_20211121065324_saved_model_after_fit/assets\n",
            "9 1 0.9642291582156396 0.9641666666666666 0.9641366627943879 0.9641666666666666\n",
            "INFO:tensorflow:Assets written to: /content/drive/MyDrive/data_papers/gpSVHN/model_finals/Collab_SFTMX1_SFTMX1_10-30_CNNDNN_A_20211121065430_saved_model_after_fit/assets\n",
            "10 1 0.9628816534533846 0.9628333333333333 0.9628007457444265 0.9628333333333333\n",
            "INFO:tensorflow:Assets written to: /content/drive/MyDrive/data_papers/gpSVHN/model_finals/Collab_SFTMX1_SFTMX1_11-29_CNNDNN_A_20211121065514_saved_model_after_fit/assets\n",
            "11 1 0.9642568080525533 0.9641333333333333 0.9641169030941534 0.9641333333333333\n",
            "INFO:tensorflow:Assets written to: /content/drive/MyDrive/data_papers/gpSVHN/model_finals/Collab_SFTMX1_SFTMX1_12-28_CNNDNN_A_20211121065601_saved_model_after_fit/assets\n",
            "12 1 0.9647805055838682 0.9647333333333333 0.964695926842305 0.9647333333333333\n",
            "INFO:tensorflow:Assets written to: /content/drive/MyDrive/data_papers/gpSVHN/model_finals/Collab_SFTMX1_SFTMX1_13-27_CNNDNN_A_20211121065704_saved_model_after_fit/assets\n",
            "13 1 0.9642575558517725 0.9641333333333333 0.964110745005677 0.9641333333333333\n",
            "INFO:tensorflow:Assets written to: /content/drive/MyDrive/data_papers/gpSVHN/model_finals/Collab_SFTMX1_SFTMX1_14-26_CNNDNN_A_20211121065753_saved_model_after_fit/assets\n",
            "14 1 0.9641761286816578 0.9640333333333333 0.96401755086396 0.9640333333333333\n",
            "INFO:tensorflow:Assets written to: /content/drive/MyDrive/data_papers/gpSVHN/model_finals/Collab_SFTMX1_SFTMX1_15-25_CNNDNN_A_20211121065838_saved_model_after_fit/assets\n",
            "15 1 0.964780048516514 0.9647 0.9646799178315695 0.9647\n",
            "INFO:tensorflow:Assets written to: /content/drive/MyDrive/data_papers/gpSVHN/model_finals/Collab_SFTMX1_SFTMX1_16-24_CNNDNN_A_20211121065932_saved_model_after_fit/assets\n",
            "16 1 0.9651865051217969 0.9651 0.9650828144275523 0.9651\n",
            "INFO:tensorflow:Assets written to: /content/drive/MyDrive/data_papers/gpSVHN/model_finals/Collab_SFTMX1_SFTMX1_17-23_CNNDNN_A_20211121070017_saved_model_after_fit/assets\n",
            "17 1 0.9662428623705983 0.9661666666666666 0.966150245069149 0.9661666666666666\n",
            "INFO:tensorflow:Assets written to: /content/drive/MyDrive/data_papers/gpSVHN/model_finals/Collab_SFTMX1_SFTMX1_18-22_CNNDNN_A_20211121070155_saved_model_after_fit/assets\n",
            "18 1 0.9652404662320384 0.9651 0.9650771360786699 0.9651\n",
            "INFO:tensorflow:Assets written to: /content/drive/MyDrive/data_papers/gpSVHN/model_finals/Collab_SFTMX1_SFTMX1_19-21_CNNDNN_A_20211121070227_saved_model_after_fit/assets\n",
            "19 1 0.9653899388776311 0.9652666666666667 0.9652529812986045 0.9652666666666667\n",
            "INFO:tensorflow:Assets written to: /content/drive/MyDrive/data_papers/gpSVHN/model_finals/Collab_SFTMX1_SFTMX1_20-20_CNNDNN_A_20211121070350_saved_model_after_fit/assets\n",
            "20 1 0.9648690166346922 0.9647666666666667 0.964745543082827 0.9647666666666667\n",
            "INFO:tensorflow:Assets written to: /content/drive/MyDrive/data_papers/gpSVHN/model_finals/Collab_SFTMX1_SFTMX1_21-19_CNNDNN_A_20211121070444_saved_model_after_fit/assets\n",
            "21 1 0.9656559893542653 0.9655333333333334 0.9655084329217162 0.9655333333333334\n",
            "INFO:tensorflow:Assets written to: /content/drive/MyDrive/data_papers/gpSVHN/model_finals/Collab_SFTMX1_SFTMX1_22-18_CNNDNN_A_20211121070525_saved_model_after_fit/assets\n",
            "22 1 0.9659321439741253 0.9658333333333333 0.96582369703487 0.9658333333333333\n",
            "INFO:tensorflow:Assets written to: /content/drive/MyDrive/data_papers/gpSVHN/model_finals/Collab_SFTMX1_SFTMX1_23-17_CNNDNN_A_20211121070606_saved_model_after_fit/assets\n",
            "23 1 0.9658348264263702 0.9657333333333333 0.9657111735265991 0.9657333333333333\n",
            "INFO:tensorflow:Assets written to: /content/drive/MyDrive/data_papers/gpSVHN/model_finals/Collab_SFTMX1_SFTMX1_24-16_CNNDNN_A_20211121070701_saved_model_after_fit/assets\n",
            "24 1 0.9658726181683913 0.9657333333333333 0.9657223415668488 0.9657333333333333\n",
            "INFO:tensorflow:Assets written to: /content/drive/MyDrive/data_papers/gpSVHN/model_finals/Collab_SFTMX1_SFTMX1_25-15_CNNDNN_A_20211121070805_saved_model_after_fit/assets\n",
            "25 1 0.9654770890120928 0.9653666666666667 0.9653577181440901 0.9653666666666667\n",
            "INFO:tensorflow:Assets written to: /content/drive/MyDrive/data_papers/gpSVHN/model_finals/Collab_SFTMX1_SFTMX1_26-14_CNNDNN_A_20211121070852_saved_model_after_fit/assets\n",
            "26 1 0.966066993957456 0.9659333333333333 0.9659236048528559 0.9659333333333333\n",
            "INFO:tensorflow:Assets written to: /content/drive/MyDrive/data_papers/gpSVHN/model_finals/Collab_SFTMX1_SFTMX1_27-13_CNNDNN_A_20211121070940_saved_model_after_fit/assets\n",
            "27 1 0.9666284447352976 0.9665666666666667 0.966541786215918 0.9665666666666667\n",
            "INFO:tensorflow:Assets written to: /content/drive/MyDrive/data_papers/gpSVHN/model_finals/Collab_SFTMX1_SFTMX1_28-12_CNNDNN_A_20211121071024_saved_model_after_fit/assets\n",
            "28 1 0.9665435169121519 0.9664333333333334 0.9664195550680369 0.9664333333333334\n",
            "INFO:tensorflow:Assets written to: /content/drive/MyDrive/data_papers/gpSVHN/model_finals/Collab_SFTMX1_SFTMX1_29-11_CNNDNN_A_20211121071102_saved_model_after_fit/assets\n",
            "29 1 0.9660791314088765 0.9659666666666666 0.9659483266344956 0.9659666666666666\n",
            "INFO:tensorflow:Assets written to: /content/drive/MyDrive/data_papers/gpSVHN/model_finals/Collab_SFTMX1_SFTMX1_30-10_CNNDNN_A_20211121071135_saved_model_after_fit/assets\n",
            "30 1 0.9669245141110111 0.9668333333333333 0.9668212649015687 0.9668333333333333\n",
            "INFO:tensorflow:Assets written to: /content/drive/MyDrive/data_papers/gpSVHN/model_finals/Collab_SFTMX1_SFTMX1_31-9_CNNDNN_A_20211121071225_saved_model_after_fit/assets\n",
            "31 1 0.967036900756566 0.9669 0.9668865537671218 0.9669\n",
            "INFO:tensorflow:Assets written to: /content/drive/MyDrive/data_papers/gpSVHN/model_finals/Collab_SFTMX1_SFTMX1_32-8_CNNDNN_A_20211121071304_saved_model_after_fit/assets\n",
            "32 1 0.9664226250705593 0.9663666666666667 0.9663421508638984 0.9663666666666667\n",
            "INFO:tensorflow:Assets written to: /content/drive/MyDrive/data_papers/gpSVHN/model_finals/Collab_SFTMX1_SFTMX1_33-7_CNNDNN_A_20211121071333_saved_model_after_fit/assets\n",
            "33 1 0.9656194349090537 0.9655 0.9654956655403958 0.9655\n",
            "INFO:tensorflow:Assets written to: /content/drive/MyDrive/data_papers/gpSVHN/model_finals/Collab_SFTMX1_SFTMX1_34-6_CNNDNN_A_20211121071422_saved_model_after_fit/assets\n",
            "34 1 0.9659415379280761 0.9658 0.9657754383223096 0.9658\n",
            "INFO:tensorflow:Assets written to: /content/drive/MyDrive/data_papers/gpSVHN/model_finals/Collab_SFTMX1_SFTMX1_35-5_CNNDNN_A_20211121071504_saved_model_after_fit/assets\n",
            "35 1 0.9658772423282084 0.9657666666666667 0.9657478005737685 0.9657666666666667\n",
            "INFO:tensorflow:Assets written to: /content/drive/MyDrive/data_papers/gpSVHN/model_finals/Collab_SFTMX1_SFTMX1_36-4_CNNDNN_A_20211121071556_saved_model_after_fit/assets\n",
            "36 1 0.9667510395840837 0.9666666666666667 0.9666475907154745 0.9666666666666667\n",
            "INFO:tensorflow:Assets written to: /content/drive/MyDrive/data_papers/gpSVHN/model_finals/Collab_SFTMX1_SFTMX1_37-3_CNNDNN_A_20211121071629_saved_model_after_fit/assets\n",
            "37 1 0.9657507439164784 0.9656333333333333 0.96562372498408 0.9656333333333333\n",
            "INFO:tensorflow:Assets written to: /content/drive/MyDrive/data_papers/gpSVHN/model_finals/Collab_SFTMX1_SFTMX1_38-2_CNNDNN_A_20211121071732_saved_model_after_fit/assets\n",
            "38 1 0.9666390221915705 0.9666 0.9665788236254889 0.9666\n",
            "INFO:tensorflow:Assets written to: /content/drive/MyDrive/data_papers/gpSVHN/model_finals/Collab_SFTMX1_SFTMX1_39-1_CNNDNN_A_20211121071824_saved_model_after_fit/assets\n",
            "39 1 0.9665350134235892 0.9664333333333334 0.9664190117519968 0.9664333333333334\n",
            "INFO:tensorflow:Assets written to: /content/drive/MyDrive/data_papers/gpSVHN/model_finals/Collab_SFTMX1_SFTMX1_40-0_CNNDNN_A_20211121071857_saved_model_after_fit/assets\n",
            "40 1 0.9668144212259931 0.9667666666666667 0.9667531527557368 0.9667666666666667\n",
            "INFO:tensorflow:Assets written to: /content/drive/MyDrive/data_papers/gpSVHN/model_finals/Collab_SFTMX1_SFTMX1_0-2_CNNDNN_A_20211121071937_saved_model_after_fit/assets\n",
            "0 2 0.8848475955932938 0.8848666666666667 0.8847169966057752 0.8848666666666667\n",
            "INFO:tensorflow:Assets written to: /content/drive/MyDrive/data_papers/gpSVHN/model_finals/Collab_SFTMX1_SFTMX1_1-1_CNNDNN_A_20211121072007_saved_model_after_fit/assets\n",
            "1 2 0.9438975711471167 0.9439 0.9438215498015143 0.9439\n",
            "INFO:tensorflow:Assets written to: /content/drive/MyDrive/data_papers/gpSVHN/model_finals/Collab_SFTMX1_SFTMX1_2-0_CNNDNN_A_20211121072027_saved_model_after_fit/assets\n",
            "2 2 0.9509685352174011 0.9507333333333333 0.9507119654449563 0.9507333333333333\n",
            "INFO:tensorflow:Assets written to: /content/drive/MyDrive/data_papers/gpSVHN/model_finals/Collab_SFTMX1_SFTMX1_0-4_CNNDNN_A_20211121072047_saved_model_after_fit/assets\n",
            "0 2 0.8989829214804734 0.8990666666666667 0.898957705649911 0.8990666666666667\n",
            "INFO:tensorflow:Assets written to: /content/drive/MyDrive/data_papers/gpSVHN/model_finals/Collab_SFTMX1_SFTMX1_1-3_CNNDNN_A_20211121072125_saved_model_after_fit/assets\n",
            "1 2 0.940197202226444 0.9401333333333334 0.9400250279797616 0.9401333333333334\n",
            "INFO:tensorflow:Assets written to: /content/drive/MyDrive/data_papers/gpSVHN/model_finals/Collab_SFTMX1_SFTMX1_2-2_CNNDNN_A_20211121072145_saved_model_after_fit/assets\n",
            "2 2 0.9504781914733254 0.9503 0.9502656780511731 0.9503\n",
            "INFO:tensorflow:Assets written to: /content/drive/MyDrive/data_papers/gpSVHN/model_finals/Collab_SFTMX1_SFTMX1_3-1_CNNDNN_A_20211121072221_saved_model_after_fit/assets\n",
            "3 2 0.955462095756155 0.9553666666666667 0.9553314331241909 0.9553666666666667\n",
            "INFO:tensorflow:Assets written to: /content/drive/MyDrive/data_papers/gpSVHN/model_finals/Collab_SFTMX1_SFTMX1_4-0_CNNDNN_A_20211121072250_saved_model_after_fit/assets\n",
            "4 2 0.9588446566120806 0.9588 0.958774543547472 0.9588\n",
            "INFO:tensorflow:Assets written to: /content/drive/MyDrive/data_papers/gpSVHN/model_finals/Collab_SFTMX1_SFTMX1_0-6_CNNDNN_A_20211121072315_saved_model_after_fit/assets\n",
            "0 2 0.900149280799947 0.8998666666666667 0.8997404712453316 0.8998666666666667\n",
            "INFO:tensorflow:Assets written to: /content/drive/MyDrive/data_papers/gpSVHN/model_finals/Collab_SFTMX1_SFTMX1_1-5_CNNDNN_A_20211121072421_saved_model_after_fit/assets\n",
            "1 2 0.9445013644432133 0.9444 0.9443412368203264 0.9444\n",
            "INFO:tensorflow:Assets written to: /content/drive/MyDrive/data_papers/gpSVHN/model_finals/Collab_SFTMX1_SFTMX1_2-4_CNNDNN_A_20211121072442_saved_model_after_fit/assets\n",
            "2 2 0.952618426520556 0.9526333333333333 0.9526011424738384 0.9526333333333333\n",
            "INFO:tensorflow:Assets written to: /content/drive/MyDrive/data_papers/gpSVHN/model_finals/Collab_SFTMX1_SFTMX1_3-3_CNNDNN_A_20211121072506_saved_model_after_fit/assets\n",
            "3 2 0.9547523488696064 0.9547333333333333 0.9546901392764687 0.9547333333333333\n",
            "INFO:tensorflow:Assets written to: /content/drive/MyDrive/data_papers/gpSVHN/model_finals/Collab_SFTMX1_SFTMX1_4-2_CNNDNN_A_20211121072528_saved_model_after_fit/assets\n",
            "4 2 0.9606075182416371 0.9605333333333334 0.9605122246342245 0.9605333333333334\n",
            "INFO:tensorflow:Assets written to: /content/drive/MyDrive/data_papers/gpSVHN/model_finals/Collab_SFTMX1_SFTMX1_5-1_CNNDNN_A_20211121072552_saved_model_after_fit/assets\n",
            "5 2 0.9613796979699706 0.9613333333333334 0.9613059420111405 0.9613333333333334\n",
            "INFO:tensorflow:Assets written to: /content/drive/MyDrive/data_papers/gpSVHN/model_finals/Collab_SFTMX1_SFTMX1_6-0_CNNDNN_A_20211121072617_saved_model_after_fit/assets\n",
            "6 2 0.9627831004796596 0.9627666666666667 0.9627390374758151 0.9627666666666667\n",
            "INFO:tensorflow:Assets written to: /content/drive/MyDrive/data_papers/gpSVHN/model_finals/Collab_SFTMX1_SFTMX1_0-8_CNNDNN_A_20211121072638_saved_model_after_fit/assets\n",
            "0 2 0.8954753977124656 0.8945666666666666 0.894543613955058 0.8945666666666666\n",
            "INFO:tensorflow:Assets written to: /content/drive/MyDrive/data_papers/gpSVHN/model_finals/Collab_SFTMX1_SFTMX1_1-7_CNNDNN_A_20211121072732_saved_model_after_fit/assets\n",
            "1 2 0.9453869282435305 0.9453666666666667 0.9452834672532646 0.9453666666666667\n",
            "INFO:tensorflow:Assets written to: /content/drive/MyDrive/data_papers/gpSVHN/model_finals/Collab_SFTMX1_SFTMX1_2-6_CNNDNN_A_20211121072753_saved_model_after_fit/assets\n",
            "2 2 0.9496016950993067 0.9495333333333333 0.9494917706184712 0.9495333333333333\n",
            "INFO:tensorflow:Assets written to: /content/drive/MyDrive/data_papers/gpSVHN/model_finals/Collab_SFTMX1_SFTMX1_3-5_CNNDNN_A_20211121072816_saved_model_after_fit/assets\n",
            "3 2 0.956348531913336 0.9562333333333334 0.9562077242978986 0.9562333333333334\n",
            "INFO:tensorflow:Assets written to: /content/drive/MyDrive/data_papers/gpSVHN/model_finals/Collab_SFTMX1_SFTMX1_4-4_CNNDNN_A_20211121072851_saved_model_after_fit/assets\n",
            "4 2 0.9602822168276409 0.9601666666666666 0.9601531131224272 0.9601666666666666\n",
            "INFO:tensorflow:Assets written to: /content/drive/MyDrive/data_papers/gpSVHN/model_finals/Collab_SFTMX1_SFTMX1_5-3_CNNDNN_A_20211121072930_saved_model_after_fit/assets\n",
            "5 2 0.9587789406413956 0.9587333333333333 0.9586920736824464 0.9587333333333333\n",
            "INFO:tensorflow:Assets written to: /content/drive/MyDrive/data_papers/gpSVHN/model_finals/Collab_SFTMX1_SFTMX1_6-2_CNNDNN_A_20211121072955_saved_model_after_fit/assets\n",
            "6 2 0.9626512717381129 0.9625666666666667 0.9625462183529531 0.9625666666666667\n",
            "INFO:tensorflow:Assets written to: /content/drive/MyDrive/data_papers/gpSVHN/model_finals/Collab_SFTMX1_SFTMX1_7-1_CNNDNN_A_20211121073031_saved_model_after_fit/assets\n",
            "7 2 0.962516428087256 0.9624333333333334 0.9624060848025696 0.9624333333333334\n",
            "INFO:tensorflow:Assets written to: /content/drive/MyDrive/data_papers/gpSVHN/model_finals/Collab_SFTMX1_SFTMX1_8-0_CNNDNN_A_20211121073101_saved_model_after_fit/assets\n",
            "8 2 0.96295716170743 0.9628666666666666 0.9628520348729736 0.9628666666666666\n",
            "INFO:tensorflow:Assets written to: /content/drive/MyDrive/data_papers/gpSVHN/model_finals/Collab_SFTMX1_SFTMX1_0-10_CNNDNN_A_20211121073128_saved_model_after_fit/assets\n",
            "0 2 0.904854843866918 0.9046 0.9045264612961439 0.9046\n",
            "INFO:tensorflow:Assets written to: /content/drive/MyDrive/data_papers/gpSVHN/model_finals/Collab_SFTMX1_SFTMX1_1-9_CNNDNN_A_20211121073149_saved_model_after_fit/assets\n",
            "1 2 0.9464105819435467 0.9462666666666667 0.9462341040610616 0.9462666666666667\n",
            "INFO:tensorflow:Assets written to: /content/drive/MyDrive/data_papers/gpSVHN/model_finals/Collab_SFTMX1_SFTMX1_2-8_CNNDNN_A_20211121073210_saved_model_after_fit/assets\n",
            "2 2 0.9521747646755173 0.9520666666666666 0.9520453133857564 0.9520666666666666\n",
            "INFO:tensorflow:Assets written to: /content/drive/MyDrive/data_papers/gpSVHN/model_finals/Collab_SFTMX1_SFTMX1_3-7_CNNDNN_A_20211121073239_saved_model_after_fit/assets\n",
            "3 2 0.9563631594181373 0.9563 0.95625271105737 0.9563\n",
            "INFO:tensorflow:Assets written to: /content/drive/MyDrive/data_papers/gpSVHN/model_finals/Collab_SFTMX1_SFTMX1_4-6_CNNDNN_A_20211121073316_saved_model_after_fit/assets\n",
            "4 2 0.9594584476467692 0.9593666666666667 0.9593616057602544 0.9593666666666667\n",
            "INFO:tensorflow:Assets written to: /content/drive/MyDrive/data_papers/gpSVHN/model_finals/Collab_SFTMX1_SFTMX1_5-5_CNNDNN_A_20211121073349_saved_model_after_fit/assets\n",
            "5 2 0.9611243927734793 0.961 0.9609830762795191 0.961\n",
            "INFO:tensorflow:Assets written to: /content/drive/MyDrive/data_papers/gpSVHN/model_finals/Collab_SFTMX1_SFTMX1_6-4_CNNDNN_A_20211121073434_saved_model_after_fit/assets\n",
            "6 2 0.9592954373105256 0.9592333333333334 0.9592218983892439 0.9592333333333334\n",
            "INFO:tensorflow:Assets written to: /content/drive/MyDrive/data_papers/gpSVHN/model_finals/Collab_SFTMX1_SFTMX1_7-3_CNNDNN_A_20211121073512_saved_model_after_fit/assets\n",
            "7 2 0.9633007387649944 0.9632666666666667 0.963242500301429 0.9632666666666667\n",
            "INFO:tensorflow:Assets written to: /content/drive/MyDrive/data_papers/gpSVHN/model_finals/Collab_SFTMX1_SFTMX1_8-2_CNNDNN_A_20211121073550_saved_model_after_fit/assets\n",
            "8 2 0.9633005481680608 0.9631333333333333 0.9631222239301734 0.9631333333333333\n",
            "INFO:tensorflow:Assets written to: /content/drive/MyDrive/data_papers/gpSVHN/model_finals/Collab_SFTMX1_SFTMX1_9-1_CNNDNN_A_20211121073633_saved_model_after_fit/assets\n",
            "9 2 0.9641490488869282 0.9640333333333333 0.9640274213557789 0.9640333333333333\n",
            "INFO:tensorflow:Assets written to: /content/drive/MyDrive/data_papers/gpSVHN/model_finals/Collab_SFTMX1_SFTMX1_10-0_CNNDNN_A_20211121073701_saved_model_after_fit/assets\n",
            "10 2 0.9648422991170538 0.9647666666666667 0.9647495145842643 0.9647666666666667\n",
            "INFO:tensorflow:Assets written to: /content/drive/MyDrive/data_papers/gpSVHN/model_finals/Collab_SFTMX1_SFTMX1_0-12_CNNDNN_A_20211121073724_saved_model_after_fit/assets\n",
            "0 2 0.904085933871393 0.9038 0.9035674962435315 0.9038\n",
            "INFO:tensorflow:Assets written to: /content/drive/MyDrive/data_papers/gpSVHN/model_finals/Collab_SFTMX1_SFTMX1_1-11_CNNDNN_A_20211121073805_saved_model_after_fit/assets\n",
            "1 2 0.9412752804697849 0.9412 0.9411579344267329 0.9412\n",
            "INFO:tensorflow:Assets written to: /content/drive/MyDrive/data_papers/gpSVHN/model_finals/Collab_SFTMX1_SFTMX1_2-10_CNNDNN_A_20211121073826_saved_model_after_fit/assets\n",
            "2 2 0.9512725000812076 0.9512333333333334 0.9511892198809162 0.9512333333333334\n",
            "INFO:tensorflow:Assets written to: /content/drive/MyDrive/data_papers/gpSVHN/model_finals/Collab_SFTMX1_SFTMX1_3-9_CNNDNN_A_20211121073849_saved_model_after_fit/assets\n",
            "3 2 0.9568354462646906 0.9568 0.9567852824047122 0.9568\n",
            "INFO:tensorflow:Assets written to: /content/drive/MyDrive/data_papers/gpSVHN/model_finals/Collab_SFTMX1_SFTMX1_4-8_CNNDNN_A_20211121073927_saved_model_after_fit/assets\n",
            "4 2 0.9594492737408309 0.9594333333333334 0.9593970676980197 0.9594333333333334\n",
            "INFO:tensorflow:Assets written to: /content/drive/MyDrive/data_papers/gpSVHN/model_finals/Collab_SFTMX1_SFTMX1_5-7_CNNDNN_A_20211121073951_saved_model_after_fit/assets\n",
            "5 2 0.9606296269215758 0.9605666666666667 0.9605348702562246 0.9605666666666667\n",
            "INFO:tensorflow:Assets written to: /content/drive/MyDrive/data_papers/gpSVHN/model_finals/Collab_SFTMX1_SFTMX1_6-6_CNNDNN_A_20211121074027_saved_model_after_fit/assets\n",
            "6 2 0.9620014623550533 0.9619 0.9618851480584947 0.9619\n",
            "INFO:tensorflow:Assets written to: /content/drive/MyDrive/data_papers/gpSVHN/model_finals/Collab_SFTMX1_SFTMX1_7-5_CNNDNN_A_20211121074121_saved_model_after_fit/assets\n",
            "7 2 0.962008636372524 0.9619666666666666 0.9619459580730207 0.9619666666666666\n",
            "INFO:tensorflow:Assets written to: /content/drive/MyDrive/data_papers/gpSVHN/model_finals/Collab_SFTMX1_SFTMX1_8-4_CNNDNN_A_20211121074203_saved_model_after_fit/assets\n",
            "8 2 0.9629193936863458 0.9628666666666666 0.9628431957412912 0.9628666666666666\n",
            "INFO:tensorflow:Assets written to: /content/drive/MyDrive/data_papers/gpSVHN/model_finals/Collab_SFTMX1_SFTMX1_9-3_CNNDNN_A_20211121074252_saved_model_after_fit/assets\n",
            "9 2 0.9646795524663095 0.9646 0.9645847950299841 0.9646\n",
            "INFO:tensorflow:Assets written to: /content/drive/MyDrive/data_papers/gpSVHN/model_finals/Collab_SFTMX1_SFTMX1_10-2_CNNDNN_A_20211121074315_saved_model_after_fit/assets\n",
            "10 2 0.9643582671869292 0.9642666666666667 0.9642449345990687 0.9642666666666667\n",
            "INFO:tensorflow:Assets written to: /content/drive/MyDrive/data_papers/gpSVHN/model_finals/Collab_SFTMX1_SFTMX1_11-1_CNNDNN_A_20211121074401_saved_model_after_fit/assets\n",
            "11 2 0.9644973291112174 0.9644 0.96439859285016 0.9644\n",
            "INFO:tensorflow:Assets written to: /content/drive/MyDrive/data_papers/gpSVHN/model_finals/Collab_SFTMX1_SFTMX1_12-0_CNNDNN_A_20211121074429_saved_model_after_fit/assets\n",
            "12 2 0.9656218836078782 0.9654666666666667 0.9654607061994972 0.9654666666666667\n",
            "INFO:tensorflow:Assets written to: /content/drive/MyDrive/data_papers/gpSVHN/model_finals/Collab_SFTMX1_SFTMX1_0-14_CNNDNN_A_20211121074450_saved_model_after_fit/assets\n",
            "0 2 0.9051972379416642 0.905 0.9049992987860837 0.905\n",
            "INFO:tensorflow:Assets written to: /content/drive/MyDrive/data_papers/gpSVHN/model_finals/Collab_SFTMX1_SFTMX1_1-13_CNNDNN_A_20211121074528_saved_model_after_fit/assets\n",
            "1 2 0.9458968834219792 0.9458333333333333 0.9457875584846915 0.9458333333333333\n",
            "INFO:tensorflow:Assets written to: /content/drive/MyDrive/data_papers/gpSVHN/model_finals/Collab_SFTMX1_SFTMX1_2-12_CNNDNN_A_20211121074550_saved_model_after_fit/assets\n",
            "2 2 0.9496699162145399 0.9496333333333333 0.9496047811072478 0.9496333333333333\n",
            "INFO:tensorflow:Assets written to: /content/drive/MyDrive/data_papers/gpSVHN/model_finals/Collab_SFTMX1_SFTMX1_3-11_CNNDNN_A_20211121074612_saved_model_after_fit/assets\n",
            "3 2 0.9566022631607676 0.9565 0.9564726323135111 0.9565\n",
            "INFO:tensorflow:Assets written to: /content/drive/MyDrive/data_papers/gpSVHN/model_finals/Collab_SFTMX1_SFTMX1_4-10_CNNDNN_A_20211121074640_saved_model_after_fit/assets\n",
            "4 2 0.9578149165529692 0.9577666666666667 0.9577358631336604 0.9577666666666667\n",
            "INFO:tensorflow:Assets written to: /content/drive/MyDrive/data_papers/gpSVHN/model_finals/Collab_SFTMX1_SFTMX1_5-9_CNNDNN_A_20211121074705_saved_model_after_fit/assets\n",
            "5 2 0.9611568763795779 0.9611 0.9610772389773062 0.9611\n",
            "INFO:tensorflow:Assets written to: /content/drive/MyDrive/data_papers/gpSVHN/model_finals/Collab_SFTMX1_SFTMX1_6-8_CNNDNN_A_20211121074738_saved_model_after_fit/assets\n",
            "6 2 0.9612729531024755 0.9612 0.9611731893471152 0.9612\n",
            "INFO:tensorflow:Assets written to: /content/drive/MyDrive/data_papers/gpSVHN/model_finals/Collab_SFTMX1_SFTMX1_7-7_CNNDNN_A_20211121074819_saved_model_after_fit/assets\n",
            "7 2 0.9613327449331536 0.9612 0.9611779925487792 0.9612\n",
            "INFO:tensorflow:Assets written to: /content/drive/MyDrive/data_papers/gpSVHN/model_finals/Collab_SFTMX1_SFTMX1_8-6_CNNDNN_A_20211121074901_saved_model_after_fit/assets\n",
            "8 2 0.9626396323791226 0.9625666666666667 0.9625408860847584 0.9625666666666667\n",
            "INFO:tensorflow:Assets written to: /content/drive/MyDrive/data_papers/gpSVHN/model_finals/Collab_SFTMX1_SFTMX1_9-5_CNNDNN_A_20211121074947_saved_model_after_fit/assets\n",
            "9 2 0.96192522184358 0.9617666666666667 0.9617438482325128 0.9617666666666667\n",
            "INFO:tensorflow:Assets written to: /content/drive/MyDrive/data_papers/gpSVHN/model_finals/Collab_SFTMX1_SFTMX1_10-4_CNNDNN_A_20211121075023_saved_model_after_fit/assets\n",
            "10 2 0.9631527664051748 0.9631 0.9630739842500439 0.9631\n",
            "INFO:tensorflow:Assets written to: /content/drive/MyDrive/data_papers/gpSVHN/model_finals/Collab_SFTMX1_SFTMX1_11-3_CNNDNN_A_20211121075115_saved_model_after_fit/assets\n",
            "11 2 0.9650254630759425 0.9649333333333333 0.9649095151719165 0.9649333333333333\n",
            "INFO:tensorflow:Assets written to: /content/drive/MyDrive/data_papers/gpSVHN/model_finals/Collab_SFTMX1_SFTMX1_12-2_CNNDNN_A_20211121075156_saved_model_after_fit/assets\n",
            "12 2 0.964672763716286 0.9646 0.9645843077329441 0.9646\n",
            "INFO:tensorflow:Assets written to: /content/drive/MyDrive/data_papers/gpSVHN/model_finals/Collab_SFTMX1_SFTMX1_13-1_CNNDNN_A_20211121075228_saved_model_after_fit/assets\n",
            "13 2 0.9651271742316738 0.9650333333333333 0.9650175532144905 0.9650333333333333\n",
            "INFO:tensorflow:Assets written to: /content/drive/MyDrive/data_papers/gpSVHN/model_finals/Collab_SFTMX1_SFTMX1_14-0_CNNDNN_A_20211121075255_saved_model_after_fit/assets\n",
            "14 2 0.9648388459147504 0.9647666666666667 0.9647492116502479 0.9647666666666667\n",
            "INFO:tensorflow:Assets written to: /content/drive/MyDrive/data_papers/gpSVHN/model_finals/Collab_SFTMX1_SFTMX1_0-16_CNNDNN_A_20211121075325_saved_model_after_fit/assets\n",
            "0 2 0.9065291345998104 0.9065 0.9063579215482102 0.9065\n",
            "INFO:tensorflow:Assets written to: /content/drive/MyDrive/data_papers/gpSVHN/model_finals/Collab_SFTMX1_SFTMX1_1-15_CNNDNN_A_20211121075414_saved_model_after_fit/assets\n",
            "1 2 0.9424533788182542 0.9423666666666667 0.9423096222262363 0.9423666666666667\n",
            "INFO:tensorflow:Assets written to: /content/drive/MyDrive/data_papers/gpSVHN/model_finals/Collab_SFTMX1_SFTMX1_2-14_CNNDNN_A_20211121075438_saved_model_after_fit/assets\n",
            "2 2 0.9542170520734453 0.9541666666666667 0.9541492190812362 0.9541666666666667\n",
            "INFO:tensorflow:Assets written to: /content/drive/MyDrive/data_papers/gpSVHN/model_finals/Collab_SFTMX1_SFTMX1_3-13_CNNDNN_A_20211121075506_saved_model_after_fit/assets\n",
            "3 2 0.9576621973698701 0.9576 0.9575689962858747 0.9576\n",
            "INFO:tensorflow:Assets written to: /content/drive/MyDrive/data_papers/gpSVHN/model_finals/Collab_SFTMX1_SFTMX1_4-12_CNNDNN_A_20211121075545_saved_model_after_fit/assets\n",
            "4 2 0.9595743398331228 0.9595666666666667 0.9595379867759765 0.9595666666666667\n",
            "INFO:tensorflow:Assets written to: /content/drive/MyDrive/data_papers/gpSVHN/model_finals/Collab_SFTMX1_SFTMX1_5-11_CNNDNN_A_20211121075618_saved_model_after_fit/assets\n",
            "5 2 0.9610721418455188 0.961 0.9609834970863228 0.961\n",
            "INFO:tensorflow:Assets written to: /content/drive/MyDrive/data_papers/gpSVHN/model_finals/Collab_SFTMX1_SFTMX1_6-10_CNNDNN_A_20211121075708_saved_model_after_fit/assets\n",
            "6 2 0.9612800357771808 0.9612 0.9611649384990475 0.9612\n",
            "INFO:tensorflow:Assets written to: /content/drive/MyDrive/data_papers/gpSVHN/model_finals/Collab_SFTMX1_SFTMX1_7-9_CNNDNN_A_20211121075744_saved_model_after_fit/assets\n",
            "7 2 0.9632519508874935 0.9631666666666666 0.9631361519990315 0.9631666666666666\n",
            "INFO:tensorflow:Assets written to: /content/drive/MyDrive/data_papers/gpSVHN/model_finals/Collab_SFTMX1_SFTMX1_8-8_CNNDNN_A_20211121075832_saved_model_after_fit/assets\n",
            "8 2 0.9625393226890353 0.9624 0.9623944731135198 0.9624\n",
            "INFO:tensorflow:Assets written to: /content/drive/MyDrive/data_papers/gpSVHN/model_finals/Collab_SFTMX1_SFTMX1_9-7_CNNDNN_A_20211121075918_saved_model_after_fit/assets\n",
            "9 2 0.962578428389058 0.9624333333333334 0.9624153486710749 0.9624333333333334\n",
            "INFO:tensorflow:Assets written to: /content/drive/MyDrive/data_papers/gpSVHN/model_finals/Collab_SFTMX1_SFTMX1_10-6_CNNDNN_A_20211121080009_saved_model_after_fit/assets\n",
            "10 2 0.9635011116078227 0.9634333333333334 0.963419271436744 0.9634333333333334\n",
            "INFO:tensorflow:Assets written to: /content/drive/MyDrive/data_papers/gpSVHN/model_finals/Collab_SFTMX1_SFTMX1_11-5_CNNDNN_A_20211121080039_saved_model_after_fit/assets\n",
            "11 2 0.9647157416879483 0.9646 0.964585398264548 0.9646\n",
            "INFO:tensorflow:Assets written to: /content/drive/MyDrive/data_papers/gpSVHN/model_finals/Collab_SFTMX1_SFTMX1_12-4_CNNDNN_A_20211121080119_saved_model_after_fit/assets\n",
            "12 2 0.9649779273040311 0.9648333333333333 0.9648306507286775 0.9648333333333333\n",
            "INFO:tensorflow:Assets written to: /content/drive/MyDrive/data_papers/gpSVHN/model_finals/Collab_SFTMX1_SFTMX1_13-3_CNNDNN_A_20211121080152_saved_model_after_fit/assets\n",
            "13 2 0.9647453662414778 0.9646333333333333 0.9646108054697118 0.9646333333333333\n",
            "INFO:tensorflow:Assets written to: /content/drive/MyDrive/data_papers/gpSVHN/model_finals/Collab_SFTMX1_SFTMX1_14-2_CNNDNN_A_20211121080217_saved_model_after_fit/assets\n",
            "14 2 0.9644438029334851 0.9643 0.964279922547275 0.9643\n",
            "INFO:tensorflow:Assets written to: /content/drive/MyDrive/data_papers/gpSVHN/model_finals/Collab_SFTMX1_SFTMX1_15-1_CNNDNN_A_20211121080249_saved_model_after_fit/assets\n",
            "15 2 0.9648225575601409 0.9647333333333333 0.9647094409817939 0.9647333333333333\n",
            "INFO:tensorflow:Assets written to: /content/drive/MyDrive/data_papers/gpSVHN/model_finals/Collab_SFTMX1_SFTMX1_16-0_CNNDNN_A_20211121080323_saved_model_after_fit/assets\n",
            "16 2 0.9655086191122573 0.9654 0.9653815314079386 0.9654\n",
            "INFO:tensorflow:Assets written to: /content/drive/MyDrive/data_papers/gpSVHN/model_finals/Collab_SFTMX1_SFTMX1_0-18_CNNDNN_A_20211121080349_saved_model_after_fit/assets\n",
            "0 2 0.907257610576997 0.9067666666666667 0.9066812471026516 0.9067666666666667\n",
            "INFO:tensorflow:Assets written to: /content/drive/MyDrive/data_papers/gpSVHN/model_finals/Collab_SFTMX1_SFTMX1_1-17_CNNDNN_A_20211121080447_saved_model_after_fit/assets\n",
            "1 2 0.9446729860701046 0.9446333333333333 0.9445744337735634 0.9446333333333333\n",
            "INFO:tensorflow:Assets written to: /content/drive/MyDrive/data_papers/gpSVHN/model_finals/Collab_SFTMX1_SFTMX1_2-16_CNNDNN_A_20211121080509_saved_model_after_fit/assets\n",
            "2 2 0.950085126356611 0.95 0.9499703210601692 0.95\n",
            "INFO:tensorflow:Assets written to: /content/drive/MyDrive/data_papers/gpSVHN/model_finals/Collab_SFTMX1_SFTMX1_3-15_CNNDNN_A_20211121080533_saved_model_after_fit/assets\n",
            "3 2 0.9570192990564053 0.957 0.9569623157594798 0.957\n",
            "INFO:tensorflow:Assets written to: /content/drive/MyDrive/data_papers/gpSVHN/model_finals/Collab_SFTMX1_SFTMX1_4-14_CNNDNN_A_20211121080559_saved_model_after_fit/assets\n",
            "4 2 0.9573414897937179 0.9572333333333334 0.9572089496004403 0.9572333333333334\n",
            "INFO:tensorflow:Assets written to: /content/drive/MyDrive/data_papers/gpSVHN/model_finals/Collab_SFTMX1_SFTMX1_5-13_CNNDNN_A_20211121080629_saved_model_after_fit/assets\n",
            "5 2 0.9600142170099331 0.9599666666666666 0.9599304117659876 0.9599666666666666\n",
            "INFO:tensorflow:Assets written to: /content/drive/MyDrive/data_papers/gpSVHN/model_finals/Collab_SFTMX1_SFTMX1_6-12_CNNDNN_A_20211121080705_saved_model_after_fit/assets\n",
            "6 2 0.9625007750238006 0.9624333333333334 0.9624102276927361 0.9624333333333334\n",
            "INFO:tensorflow:Assets written to: /content/drive/MyDrive/data_papers/gpSVHN/model_finals/Collab_SFTMX1_SFTMX1_7-11_CNNDNN_A_20211121080800_saved_model_after_fit/assets\n",
            "7 2 0.9624688385105954 0.9624 0.9623848107629027 0.9624\n",
            "INFO:tensorflow:Assets written to: /content/drive/MyDrive/data_papers/gpSVHN/model_finals/Collab_SFTMX1_SFTMX1_8-10_CNNDNN_A_20211121080847_saved_model_after_fit/assets\n",
            "8 2 0.9638978805810434 0.9638333333333333 0.9638019308090543 0.9638333333333333\n",
            "INFO:tensorflow:Assets written to: /content/drive/MyDrive/data_papers/gpSVHN/model_finals/Collab_SFTMX1_SFTMX1_9-9_CNNDNN_A_20211121080929_saved_model_after_fit/assets\n",
            "9 2 0.9632823550853036 0.9632 0.9631839615651551 0.9632\n",
            "INFO:tensorflow:Assets written to: /content/drive/MyDrive/data_papers/gpSVHN/model_finals/Collab_SFTMX1_SFTMX1_10-8_CNNDNN_A_20211121081021_saved_model_after_fit/assets\n",
            "10 2 0.963992102498006 0.9638333333333333 0.96381324698161 0.9638333333333333\n",
            "INFO:tensorflow:Assets written to: /content/drive/MyDrive/data_papers/gpSVHN/model_finals/Collab_SFTMX1_SFTMX1_11-7_CNNDNN_A_20211121081110_saved_model_after_fit/assets\n",
            "11 2 0.9642961406367178 0.9642 0.9641807939762761 0.9642\n",
            "INFO:tensorflow:Assets written to: /content/drive/MyDrive/data_papers/gpSVHN/model_finals/Collab_SFTMX1_SFTMX1_12-6_CNNDNN_A_20211121081202_saved_model_after_fit/assets\n",
            "12 2 0.9647549226737212 0.9647 0.9646831476106523 0.9647\n",
            "INFO:tensorflow:Assets written to: /content/drive/MyDrive/data_papers/gpSVHN/model_finals/Collab_SFTMX1_SFTMX1_13-5_CNNDNN_A_20211121081306_saved_model_after_fit/assets\n",
            "13 2 0.9643986089026736 0.9642333333333334 0.9642141607422329 0.9642333333333334\n",
            "INFO:tensorflow:Assets written to: /content/drive/MyDrive/data_papers/gpSVHN/model_finals/Collab_SFTMX1_SFTMX1_14-4_CNNDNN_A_20211121081331_saved_model_after_fit/assets\n",
            "14 2 0.9653862297748661 0.9652666666666667 0.9652487739060645 0.9652666666666667\n",
            "INFO:tensorflow:Assets written to: /content/drive/MyDrive/data_papers/gpSVHN/model_finals/Collab_SFTMX1_SFTMX1_15-3_CNNDNN_A_20211121081434_saved_model_after_fit/assets\n",
            "15 2 0.9645230007569991 0.9644 0.9643792451739838 0.9644\n",
            "INFO:tensorflow:Assets written to: /content/drive/MyDrive/data_papers/gpSVHN/model_finals/Collab_SFTMX1_SFTMX1_16-2_CNNDNN_A_20211121081510_saved_model_after_fit/assets\n",
            "16 2 0.9651221694216184 0.9650333333333333 0.9650171420388173 0.9650333333333333\n",
            "INFO:tensorflow:Assets written to: /content/drive/MyDrive/data_papers/gpSVHN/model_finals/Collab_SFTMX1_SFTMX1_17-1_CNNDNN_A_20211121081536_saved_model_after_fit/assets\n",
            "17 2 0.9649961105005104 0.9649 0.9648776723362731 0.9649\n",
            "INFO:tensorflow:Assets written to: /content/drive/MyDrive/data_papers/gpSVHN/model_finals/Collab_SFTMX1_SFTMX1_18-0_CNNDNN_A_20211121081557_saved_model_after_fit/assets\n",
            "18 2 0.9660003270618708 0.9659 0.9658772072637412 0.9659\n",
            "INFO:tensorflow:Assets written to: /content/drive/MyDrive/data_papers/gpSVHN/model_finals/Collab_SFTMX1_SFTMX1_0-20_CNNDNN_A_20211121081620_saved_model_after_fit/assets\n",
            "0 2 0.9054693354651613 0.9055333333333333 0.9054076989679368 0.9055333333333333\n",
            "INFO:tensorflow:Assets written to: /content/drive/MyDrive/data_papers/gpSVHN/model_finals/Collab_SFTMX1_SFTMX1_1-19_CNNDNN_A_20211121081747_saved_model_after_fit/assets\n",
            "1 2 0.9406930668678255 0.9406666666666667 0.9405926075423634 0.9406666666666667\n",
            "INFO:tensorflow:Assets written to: /content/drive/MyDrive/data_papers/gpSVHN/model_finals/Collab_SFTMX1_SFTMX1_2-18_CNNDNN_A_20211121081810_saved_model_after_fit/assets\n",
            "2 2 0.9520156478101643 0.9518 0.9517779713820034 0.9518\n",
            "INFO:tensorflow:Assets written to: /content/drive/MyDrive/data_papers/gpSVHN/model_finals/Collab_SFTMX1_SFTMX1_3-17_CNNDNN_A_20211121081836_saved_model_after_fit/assets\n",
            "3 2 0.9563975366377366 0.9563666666666667 0.9563274766386822 0.9563666666666667\n",
            "INFO:tensorflow:Assets written to: /content/drive/MyDrive/data_papers/gpSVHN/model_finals/Collab_SFTMX1_SFTMX1_4-16_CNNDNN_A_20211121081908_saved_model_after_fit/assets\n",
            "4 2 0.9583415617932123 0.9582333333333334 0.9582219520277218 0.9582333333333334\n",
            "INFO:tensorflow:Assets written to: /content/drive/MyDrive/data_papers/gpSVHN/model_finals/Collab_SFTMX1_SFTMX1_5-15_CNNDNN_A_20211121081951_saved_model_after_fit/assets\n",
            "5 2 0.9616189494687231 0.9615666666666667 0.9615393796905258 0.9615666666666667\n",
            "INFO:tensorflow:Assets written to: /content/drive/MyDrive/data_papers/gpSVHN/model_finals/Collab_SFTMX1_SFTMX1_6-14_CNNDNN_A_20211121082037_saved_model_after_fit/assets\n",
            "6 2 0.9617651542169432 0.9616 0.9615867020635693 0.9616\n",
            "INFO:tensorflow:Assets written to: /content/drive/MyDrive/data_papers/gpSVHN/model_finals/Collab_SFTMX1_SFTMX1_7-13_CNNDNN_A_20211121082134_saved_model_after_fit/assets\n",
            "7 2 0.9620039065697915 0.9619 0.9618775791425478 0.9619\n",
            "INFO:tensorflow:Assets written to: /content/drive/MyDrive/data_papers/gpSVHN/model_finals/Collab_SFTMX1_SFTMX1_8-12_CNNDNN_A_20211121082216_saved_model_after_fit/assets\n",
            "8 2 0.9634114557126223 0.9633 0.9632854354252158 0.9633\n",
            "INFO:tensorflow:Assets written to: /content/drive/MyDrive/data_papers/gpSVHN/model_finals/Collab_SFTMX1_SFTMX1_9-11_CNNDNN_A_20211121082304_saved_model_after_fit/assets\n",
            "9 2 0.9639290299282918 0.9639 0.9638655019067479 0.9639\n",
            "INFO:tensorflow:Assets written to: /content/drive/MyDrive/data_papers/gpSVHN/model_finals/Collab_SFTMX1_SFTMX1_10-10_CNNDNN_A_20211121082420_saved_model_after_fit/assets\n",
            "10 2 0.9644373858641105 0.9643333333333334 0.9643156670296585 0.9643333333333334\n",
            "INFO:tensorflow:Assets written to: /content/drive/MyDrive/data_papers/gpSVHN/model_finals/Collab_SFTMX1_SFTMX1_11-9_CNNDNN_A_20211121082452_saved_model_after_fit/assets\n",
            "11 2 0.9639167809350573 0.9637333333333333 0.963722772506289 0.9637333333333333\n",
            "INFO:tensorflow:Assets written to: /content/drive/MyDrive/data_papers/gpSVHN/model_finals/Collab_SFTMX1_SFTMX1_12-8_CNNDNN_A_20211121082531_saved_model_after_fit/assets\n",
            "12 2 0.9655118703816498 0.9654 0.9653844437658926 0.9654\n",
            "INFO:tensorflow:Assets written to: /content/drive/MyDrive/data_papers/gpSVHN/model_finals/Collab_SFTMX1_SFTMX1_13-7_CNNDNN_A_20211121082605_saved_model_after_fit/assets\n",
            "13 2 0.964959518390406 0.9648666666666667 0.9648523385183723 0.9648666666666667\n",
            "INFO:tensorflow:Assets written to: /content/drive/MyDrive/data_papers/gpSVHN/model_finals/Collab_SFTMX1_SFTMX1_14-6_CNNDNN_A_20211121082708_saved_model_after_fit/assets\n",
            "14 2 0.9649034501955458 0.9647666666666667 0.9647623684303024 0.9647666666666667\n",
            "INFO:tensorflow:Assets written to: /content/drive/MyDrive/data_papers/gpSVHN/model_finals/Collab_SFTMX1_SFTMX1_15-5_CNNDNN_A_20211121082754_saved_model_after_fit/assets\n",
            "15 2 0.9652124211949865 0.9651 0.9650746736262182 0.9651\n",
            "INFO:tensorflow:Assets written to: /content/drive/MyDrive/data_papers/gpSVHN/model_finals/Collab_SFTMX1_SFTMX1_16-4_CNNDNN_A_20211121082830_saved_model_after_fit/assets\n",
            "16 2 0.9658101403381553 0.9657 0.9656795684961618 0.9657\n",
            "INFO:tensorflow:Assets written to: /content/drive/MyDrive/data_papers/gpSVHN/model_finals/Collab_SFTMX1_SFTMX1_17-3_CNNDNN_A_20211121082915_saved_model_after_fit/assets\n",
            "17 2 0.965674528858953 0.9655666666666667 0.9655525280099364 0.9655666666666667\n",
            "INFO:tensorflow:Assets written to: /content/drive/MyDrive/data_papers/gpSVHN/model_finals/Collab_SFTMX1_SFTMX1_18-2_CNNDNN_A_20211121082942_saved_model_after_fit/assets\n",
            "18 2 0.9642846123405603 0.9641333333333333 0.9641110045708433 0.9641333333333333\n",
            "INFO:tensorflow:Assets written to: /content/drive/MyDrive/data_papers/gpSVHN/model_finals/Collab_SFTMX1_SFTMX1_19-1_CNNDNN_A_20211121083016_saved_model_after_fit/assets\n",
            "19 2 0.9657194651791235 0.9656666666666667 0.9656455797511222 0.9656666666666667\n",
            "INFO:tensorflow:Assets written to: /content/drive/MyDrive/data_papers/gpSVHN/model_finals/Collab_SFTMX1_SFTMX1_20-0_CNNDNN_A_20211121083044_saved_model_after_fit/assets\n",
            "20 2 0.9653990189202578 0.9653666666666667 0.9653431997403784 0.9653666666666667\n",
            "INFO:tensorflow:Assets written to: /content/drive/MyDrive/data_papers/gpSVHN/model_finals/Collab_SFTMX1_SFTMX1_0-24_CNNDNN_A_20211121083117_saved_model_after_fit/assets\n",
            "0 2 0.9083933576223301 0.9084333333333333 0.9083042307523354 0.9084333333333333\n",
            "INFO:tensorflow:Assets written to: /content/drive/MyDrive/data_papers/gpSVHN/model_finals/Collab_SFTMX1_SFTMX1_1-23_CNNDNN_A_20211121083208_saved_model_after_fit/assets\n",
            "1 2 0.9414756940890571 0.9413666666666667 0.9412879015346626 0.9413666666666667\n",
            "INFO:tensorflow:Assets written to: /content/drive/MyDrive/data_papers/gpSVHN/model_finals/Collab_SFTMX1_SFTMX1_2-22_CNNDNN_A_20211121083230_saved_model_after_fit/assets\n",
            "2 2 0.952046698760077 0.9520333333333333 0.9519900365830715 0.9520333333333333\n",
            "INFO:tensorflow:Assets written to: /content/drive/MyDrive/data_papers/gpSVHN/model_finals/Collab_SFTMX1_SFTMX1_3-21_CNNDNN_A_20211121083259_saved_model_after_fit/assets\n",
            "3 2 0.954467857765746 0.9544333333333334 0.9543805967532465 0.9544333333333334\n",
            "INFO:tensorflow:Assets written to: /content/drive/MyDrive/data_papers/gpSVHN/model_finals/Collab_SFTMX1_SFTMX1_4-20_CNNDNN_A_20211121083329_saved_model_after_fit/assets\n",
            "4 2 0.9592750860792768 0.9592 0.9591746188933079 0.9592\n",
            "INFO:tensorflow:Assets written to: /content/drive/MyDrive/data_papers/gpSVHN/model_finals/Collab_SFTMX1_SFTMX1_5-19_CNNDNN_A_20211121083405_saved_model_after_fit/assets\n",
            "5 2 0.9600665108352944 0.9600333333333333 0.9600019850600957 0.9600333333333333\n",
            "INFO:tensorflow:Assets written to: /content/drive/MyDrive/data_papers/gpSVHN/model_finals/Collab_SFTMX1_SFTMX1_6-18_CNNDNN_A_20211121083445_saved_model_after_fit/assets\n",
            "6 2 0.9624193059551495 0.9623 0.9622928799591504 0.9623\n",
            "INFO:tensorflow:Assets written to: /content/drive/MyDrive/data_papers/gpSVHN/model_finals/Collab_SFTMX1_SFTMX1_7-17_CNNDNN_A_20211121083521_saved_model_after_fit/assets\n",
            "7 2 0.961625861427724 0.9615333333333334 0.9615047736454632 0.9615333333333334\n",
            "INFO:tensorflow:Assets written to: /content/drive/MyDrive/data_papers/gpSVHN/model_finals/Collab_SFTMX1_SFTMX1_8-16_CNNDNN_A_20211121083550_saved_model_after_fit/assets\n",
            "8 2 0.9631223928286942 0.9630333333333333 0.9630116007735677 0.9630333333333333\n",
            "INFO:tensorflow:Assets written to: /content/drive/MyDrive/data_papers/gpSVHN/model_finals/Collab_SFTMX1_SFTMX1_9-15_CNNDNN_A_20211121083623_saved_model_after_fit/assets\n",
            "9 2 0.9639786339417212 0.9639333333333333 0.9639247484232624 0.9639333333333333\n",
            "INFO:tensorflow:Assets written to: /content/drive/MyDrive/data_papers/gpSVHN/model_finals/Collab_SFTMX1_SFTMX1_10-14_CNNDNN_A_20211121083711_saved_model_after_fit/assets\n",
            "10 2 0.9636105740265166 0.9635333333333334 0.9635168225076159 0.9635333333333334\n",
            "INFO:tensorflow:Assets written to: /content/drive/MyDrive/data_papers/gpSVHN/model_finals/Collab_SFTMX1_SFTMX1_11-13_CNNDNN_A_20211121083751_saved_model_after_fit/assets\n",
            "11 2 0.9637675532753817 0.9637 0.9636823087638607 0.9637\n",
            "INFO:tensorflow:Assets written to: /content/drive/MyDrive/data_papers/gpSVHN/model_finals/Collab_SFTMX1_SFTMX1_12-12_CNNDNN_A_20211121083837_saved_model_after_fit/assets\n",
            "12 2 0.9643040594201416 0.9642333333333334 0.9642274004357161 0.9642333333333334\n",
            "INFO:tensorflow:Assets written to: /content/drive/MyDrive/data_papers/gpSVHN/model_finals/Collab_SFTMX1_SFTMX1_13-11_CNNDNN_A_20211121083917_saved_model_after_fit/assets\n",
            "13 2 0.9647622308874735 0.9646666666666667 0.9646401166111103 0.9646666666666667\n",
            "INFO:tensorflow:Assets written to: /content/drive/MyDrive/data_papers/gpSVHN/model_finals/Collab_SFTMX1_SFTMX1_14-10_CNNDNN_A_20211121084006_saved_model_after_fit/assets\n",
            "14 2 0.9651542369417414 0.9651 0.9650809001580563 0.9651\n",
            "INFO:tensorflow:Assets written to: /content/drive/MyDrive/data_papers/gpSVHN/model_finals/Collab_SFTMX1_SFTMX1_15-9_CNNDNN_A_20211121084055_saved_model_after_fit/assets\n",
            "15 2 0.9639810668668637 0.9639 0.9638705473311688 0.9639\n",
            "INFO:tensorflow:Assets written to: /content/drive/MyDrive/data_papers/gpSVHN/model_finals/Collab_SFTMX1_SFTMX1_16-8_CNNDNN_A_20211121084139_saved_model_after_fit/assets\n",
            "16 2 0.9650080823840088 0.9649333333333333 0.9649081680759314 0.9649333333333333\n",
            "INFO:tensorflow:Assets written to: /content/drive/MyDrive/data_papers/gpSVHN/model_finals/Collab_SFTMX1_SFTMX1_17-7_CNNDNN_A_20211121084301_saved_model_after_fit/assets\n",
            "17 2 0.9663342554763046 0.9662666666666667 0.9662411720994536 0.9662666666666667\n",
            "INFO:tensorflow:Assets written to: /content/drive/MyDrive/data_papers/gpSVHN/model_finals/Collab_SFTMX1_SFTMX1_18-6_CNNDNN_A_20211121084328_saved_model_after_fit/assets\n",
            "18 2 0.965427999684332 0.9653666666666667 0.9653425981878163 0.9653666666666667\n",
            "INFO:tensorflow:Assets written to: /content/drive/MyDrive/data_papers/gpSVHN/model_finals/Collab_SFTMX1_SFTMX1_19-5_CNNDNN_A_20211121084411_saved_model_after_fit/assets\n",
            "19 2 0.9655078933182755 0.9654 0.9653869209920966 0.9654\n",
            "INFO:tensorflow:Assets written to: /content/drive/MyDrive/data_papers/gpSVHN/model_finals/Collab_SFTMX1_SFTMX1_20-4_CNNDNN_A_20211121084446_saved_model_after_fit/assets\n",
            "20 2 0.9653657250375571 0.9652333333333334 0.9652175210173217 0.9652333333333334\n",
            "INFO:tensorflow:Assets written to: /content/drive/MyDrive/data_papers/gpSVHN/model_finals/Collab_SFTMX1_SFTMX1_21-3_CNNDNN_A_20211121084510_saved_model_after_fit/assets\n",
            "21 2 0.9662204694728216 0.9661333333333333 0.9661126418388604 0.9661333333333333\n",
            "INFO:tensorflow:Assets written to: /content/drive/MyDrive/data_papers/gpSVHN/model_finals/Collab_SFTMX1_SFTMX1_22-2_CNNDNN_A_20211121084536_saved_model_after_fit/assets\n",
            "22 2 0.9661887210493076 0.9661333333333333 0.9661148079232891 0.9661333333333333\n",
            "INFO:tensorflow:Assets written to: /content/drive/MyDrive/data_papers/gpSVHN/model_finals/Collab_SFTMX1_SFTMX1_23-1_CNNDNN_A_20211121084624_saved_model_after_fit/assets\n",
            "23 2 0.9655366691617934 0.9654333333333334 0.9654215761688498 0.9654333333333334\n",
            "INFO:tensorflow:Assets written to: /content/drive/MyDrive/data_papers/gpSVHN/model_finals/Collab_SFTMX1_SFTMX1_24-0_CNNDNN_A_20211121084657_saved_model_after_fit/assets\n",
            "24 2 0.9660975758250576 0.9659666666666666 0.9659562548830019 0.9659666666666666\n",
            "INFO:tensorflow:Assets written to: /content/drive/MyDrive/data_papers/gpSVHN/model_finals/Collab_SFTMX1_SFTMX1_0-28_CNNDNN_A_20211121084723_saved_model_after_fit/assets\n",
            "0 2 0.907827321342663 0.9076 0.9075331253925566 0.9076\n",
            "INFO:tensorflow:Assets written to: /content/drive/MyDrive/data_papers/gpSVHN/model_finals/Collab_SFTMX1_SFTMX1_1-27_CNNDNN_A_20211121084810_saved_model_after_fit/assets\n",
            "1 2 0.9426918706522652 0.9427 0.9426765904795847 0.9427\n",
            "INFO:tensorflow:Assets written to: /content/drive/MyDrive/data_papers/gpSVHN/model_finals/Collab_SFTMX1_SFTMX1_2-26_CNNDNN_A_20211121084834_saved_model_after_fit/assets\n",
            "2 2 0.9511488703695168 0.9511333333333334 0.951117969001253 0.9511333333333334\n",
            "INFO:tensorflow:Assets written to: /content/drive/MyDrive/data_papers/gpSVHN/model_finals/Collab_SFTMX1_SFTMX1_3-25_CNNDNN_A_20211121084908_saved_model_after_fit/assets\n",
            "3 2 0.9553693944387068 0.9553666666666667 0.9553342347221218 0.9553666666666667\n",
            "INFO:tensorflow:Assets written to: /content/drive/MyDrive/data_papers/gpSVHN/model_finals/Collab_SFTMX1_SFTMX1_4-24_CNNDNN_A_20211121084942_saved_model_after_fit/assets\n",
            "4 2 0.9602619916128743 0.9601666666666666 0.9601345766749005 0.9601666666666666\n",
            "INFO:tensorflow:Assets written to: /content/drive/MyDrive/data_papers/gpSVHN/model_finals/Collab_SFTMX1_SFTMX1_5-23_CNNDNN_A_20211121085026_saved_model_after_fit/assets\n",
            "5 2 0.9619154303984634 0.9619 0.9618630696089256 0.9619\n",
            "INFO:tensorflow:Assets written to: /content/drive/MyDrive/data_papers/gpSVHN/model_finals/Collab_SFTMX1_SFTMX1_6-22_CNNDNN_A_20211121085121_saved_model_after_fit/assets\n",
            "6 2 0.9619199015088623 0.9618666666666666 0.961853446314539 0.9618666666666666\n",
            "INFO:tensorflow:Assets written to: /content/drive/MyDrive/data_papers/gpSVHN/model_finals/Collab_SFTMX1_SFTMX1_7-21_CNNDNN_A_20211121085152_saved_model_after_fit/assets\n",
            "7 2 0.9623558468287265 0.9623 0.9622912578530713 0.9623\n",
            "INFO:tensorflow:Assets written to: /content/drive/MyDrive/data_papers/gpSVHN/model_finals/Collab_SFTMX1_SFTMX1_8-20_CNNDNN_A_20211121085244_saved_model_after_fit/assets\n",
            "8 2 0.9631636905274134 0.9631 0.9630829195159973 0.9631\n",
            "INFO:tensorflow:Assets written to: /content/drive/MyDrive/data_papers/gpSVHN/model_finals/Collab_SFTMX1_SFTMX1_9-19_CNNDNN_A_20211121085331_saved_model_after_fit/assets\n",
            "9 2 0.9648995277207747 0.9648 0.9647840348161604 0.9648\n",
            "INFO:tensorflow:Assets written to: /content/drive/MyDrive/data_papers/gpSVHN/model_finals/Collab_SFTMX1_SFTMX1_10-18_CNNDNN_A_20211121085416_saved_model_after_fit/assets\n",
            "10 2 0.9639258159036334 0.9638333333333333 0.9638152183417665 0.9638333333333333\n",
            "INFO:tensorflow:Assets written to: /content/drive/MyDrive/data_papers/gpSVHN/model_finals/Collab_SFTMX1_SFTMX1_11-17_CNNDNN_A_20211121085500_saved_model_after_fit/assets\n",
            "11 2 0.9634346954606255 0.9633666666666667 0.9633448450789518 0.9633666666666667\n",
            "INFO:tensorflow:Assets written to: /content/drive/MyDrive/data_papers/gpSVHN/model_finals/Collab_SFTMX1_SFTMX1_12-16_CNNDNN_A_20211121085539_saved_model_after_fit/assets\n",
            "12 2 0.964953448041769 0.9648333333333333 0.9648213315681065 0.9648333333333333\n",
            "INFO:tensorflow:Assets written to: /content/drive/MyDrive/data_papers/gpSVHN/model_finals/Collab_SFTMX1_SFTMX1_13-15_CNNDNN_A_20211121085642_saved_model_after_fit/assets\n",
            "13 2 0.9644735266741844 0.9644 0.9643880014990387 0.9644\n",
            "INFO:tensorflow:Assets written to: /content/drive/MyDrive/data_papers/gpSVHN/model_finals/Collab_SFTMX1_SFTMX1_14-14_CNNDNN_A_20211121085752_saved_model_after_fit/assets\n",
            "14 2 0.9639529177716231 0.9638333333333333 0.9638125832028221 0.9638333333333333\n",
            "INFO:tensorflow:Assets written to: /content/drive/MyDrive/data_papers/gpSVHN/model_finals/Collab_SFTMX1_SFTMX1_15-13_CNNDNN_A_20211121085840_saved_model_after_fit/assets\n",
            "15 2 0.9646233970826703 0.9645666666666667 0.9645614744908283 0.9645666666666667\n",
            "INFO:tensorflow:Assets written to: /content/drive/MyDrive/data_papers/gpSVHN/model_finals/Collab_SFTMX1_SFTMX1_16-12_CNNDNN_A_20211121085926_saved_model_after_fit/assets\n",
            "16 2 0.9650056404698909 0.9649 0.964878358998131 0.9649\n",
            "INFO:tensorflow:Assets written to: /content/drive/MyDrive/data_papers/gpSVHN/model_finals/Collab_SFTMX1_SFTMX1_17-11_CNNDNN_A_20211121090028_saved_model_after_fit/assets\n",
            "17 2 0.9656524508631916 0.9655666666666667 0.9655513587178475 0.9655666666666667\n",
            "INFO:tensorflow:Assets written to: /content/drive/MyDrive/data_papers/gpSVHN/model_finals/Collab_SFTMX1_SFTMX1_18-10_CNNDNN_A_20211121090105_saved_model_after_fit/assets\n",
            "18 2 0.9655602717679609 0.9654666666666667 0.9654498348298688 0.9654666666666667\n",
            "INFO:tensorflow:Assets written to: /content/drive/MyDrive/data_papers/gpSVHN/model_finals/Collab_SFTMX1_SFTMX1_19-9_CNNDNN_A_20211121090141_saved_model_after_fit/assets\n",
            "19 2 0.9652775066283272 0.9651333333333333 0.9651175497333802 0.9651333333333333\n",
            "INFO:tensorflow:Assets written to: /content/drive/MyDrive/data_papers/gpSVHN/model_finals/Collab_SFTMX1_SFTMX1_20-8_CNNDNN_A_20211121090225_saved_model_after_fit/assets\n",
            "20 2 0.9653930311246676 0.9653333333333334 0.9653069605138409 0.9653333333333334\n",
            "INFO:tensorflow:Assets written to: /content/drive/MyDrive/data_papers/gpSVHN/model_finals/Collab_SFTMX1_SFTMX1_21-7_CNNDNN_A_20211121090300_saved_model_after_fit/assets\n",
            "21 2 0.9653285134675846 0.9652333333333334 0.9652211357783 0.9652333333333334\n",
            "INFO:tensorflow:Assets written to: /content/drive/MyDrive/data_papers/gpSVHN/model_finals/Collab_SFTMX1_SFTMX1_22-6_CNNDNN_A_20211121090324_saved_model_after_fit/assets\n",
            "22 2 0.9663930288750799 0.9663333333333334 0.9663179359055005 0.9663333333333334\n",
            "INFO:tensorflow:Assets written to: /content/drive/MyDrive/data_papers/gpSVHN/model_finals/Collab_SFTMX1_SFTMX1_23-5_CNNDNN_A_20211121090406_saved_model_after_fit/assets\n",
            "23 2 0.9663017189155528 0.9662 0.9661726816445654 0.9662\n",
            "INFO:tensorflow:Assets written to: /content/drive/MyDrive/data_papers/gpSVHN/model_finals/Collab_SFTMX1_SFTMX1_24-4_CNNDNN_A_20211121090448_saved_model_after_fit/assets\n",
            "24 2 0.966016375919805 0.9659 0.9658809687203316 0.9659\n",
            "INFO:tensorflow:Assets written to: /content/drive/MyDrive/data_papers/gpSVHN/model_finals/Collab_SFTMX1_SFTMX1_25-3_CNNDNN_A_20211121090530_saved_model_after_fit/assets\n",
            "25 2 0.9659471464163123 0.9659 0.9658734832189698 0.9659\n",
            "INFO:tensorflow:Assets written to: /content/drive/MyDrive/data_papers/gpSVHN/model_finals/Collab_SFTMX1_SFTMX1_26-2_CNNDNN_A_20211121090606_saved_model_after_fit/assets\n",
            "26 2 0.9664347667376048 0.9663666666666667 0.966356245135546 0.9663666666666667\n",
            "INFO:tensorflow:Assets written to: /content/drive/MyDrive/data_papers/gpSVHN/model_finals/Collab_SFTMX1_SFTMX1_27-1_CNNDNN_A_20211121090649_saved_model_after_fit/assets\n",
            "27 2 0.9661303719514057 0.9660333333333333 0.9660135302285132 0.9660333333333333\n",
            "INFO:tensorflow:Assets written to: /content/drive/MyDrive/data_papers/gpSVHN/model_finals/Collab_SFTMX1_SFTMX1_28-0_CNNDNN_A_20211121090717_saved_model_after_fit/assets\n",
            "28 2 0.9660268638421596 0.9659 0.9658844404249445 0.9659\n",
            "INFO:tensorflow:Assets written to: /content/drive/MyDrive/data_papers/gpSVHN/model_finals/Collab_SFTMX1_SFTMX1_0-32_CNNDNN_A_20211121090743_saved_model_after_fit/assets\n",
            "0 2 0.9083904614269731 0.9084 0.9082415482886422 0.9084\n",
            "INFO:tensorflow:Assets written to: /content/drive/MyDrive/data_papers/gpSVHN/model_finals/Collab_SFTMX1_SFTMX1_1-31_CNNDNN_A_20211121090850_saved_model_after_fit/assets\n",
            "1 2 0.94420019892705 0.9441 0.9440954181361343 0.9441\n",
            "INFO:tensorflow:Assets written to: /content/drive/MyDrive/data_papers/gpSVHN/model_finals/Collab_SFTMX1_SFTMX1_2-30_CNNDNN_A_20211121090913_saved_model_after_fit/assets\n",
            "2 2 0.9530500538095433 0.953 0.9529833933025693 0.953\n",
            "INFO:tensorflow:Assets written to: /content/drive/MyDrive/data_papers/gpSVHN/model_finals/Collab_SFTMX1_SFTMX1_3-29_CNNDNN_A_20211121090944_saved_model_after_fit/assets\n",
            "3 2 0.9570469377219386 0.957 0.9569702969912813 0.957\n",
            "INFO:tensorflow:Assets written to: /content/drive/MyDrive/data_papers/gpSVHN/model_finals/Collab_SFTMX1_SFTMX1_4-28_CNNDNN_A_20211121091017_saved_model_after_fit/assets\n",
            "4 2 0.9571502065503235 0.9570666666666666 0.9570430563280184 0.9570666666666666\n",
            "INFO:tensorflow:Assets written to: /content/drive/MyDrive/data_papers/gpSVHN/model_finals/Collab_SFTMX1_SFTMX1_5-27_CNNDNN_A_20211121091052_saved_model_after_fit/assets\n",
            "5 2 0.9616378199001064 0.9615666666666667 0.9615509887087241 0.9615666666666667\n",
            "INFO:tensorflow:Assets written to: /content/drive/MyDrive/data_papers/gpSVHN/model_finals/Collab_SFTMX1_SFTMX1_6-26_CNNDNN_A_20211121091136_saved_model_after_fit/assets\n",
            "6 2 0.9606978820831164 0.9606333333333333 0.9606043459427441 0.9606333333333333\n",
            "INFO:tensorflow:Assets written to: /content/drive/MyDrive/data_papers/gpSVHN/model_finals/Collab_SFTMX1_SFTMX1_7-25_CNNDNN_A_20211121091212_saved_model_after_fit/assets\n",
            "7 2 0.96278910863871 0.9627666666666667 0.9627398961390292 0.9627666666666667\n",
            "INFO:tensorflow:Assets written to: /content/drive/MyDrive/data_papers/gpSVHN/model_finals/Collab_SFTMX1_SFTMX1_8-24_CNNDNN_A_20211121091248_saved_model_after_fit/assets\n",
            "8 2 0.9643872315653309 0.9643 0.9642929232646911 0.9643\n",
            "INFO:tensorflow:Assets written to: /content/drive/MyDrive/data_papers/gpSVHN/model_finals/Collab_SFTMX1_SFTMX1_9-23_CNNDNN_A_20211121091414_saved_model_after_fit/assets\n",
            "9 2 0.9638024645281987 0.9637 0.9636761451583171 0.9637\n",
            "INFO:tensorflow:Assets written to: /content/drive/MyDrive/data_papers/gpSVHN/model_finals/Collab_SFTMX1_SFTMX1_10-22_CNNDNN_A_20211121091511_saved_model_after_fit/assets\n",
            "10 2 0.9642945501332956 0.9642 0.9641867838244009 0.9642\n",
            "INFO:tensorflow:Assets written to: /content/drive/MyDrive/data_papers/gpSVHN/model_finals/Collab_SFTMX1_SFTMX1_11-21_CNNDNN_A_20211121091600_saved_model_after_fit/assets\n",
            "11 2 0.9648082267980645 0.9647333333333333 0.9647227202614329 0.9647333333333333\n",
            "INFO:tensorflow:Assets written to: /content/drive/MyDrive/data_papers/gpSVHN/model_finals/Collab_SFTMX1_SFTMX1_12-20_CNNDNN_A_20211121091638_saved_model_after_fit/assets\n",
            "12 2 0.964876793954491 0.9647666666666667 0.964753454795972 0.9647666666666667\n",
            "INFO:tensorflow:Assets written to: /content/drive/MyDrive/data_papers/gpSVHN/model_finals/Collab_SFTMX1_SFTMX1_13-19_CNNDNN_A_20211121091759_saved_model_after_fit/assets\n",
            "13 2 0.9648245284162141 0.9647333333333333 0.9647212385440229 0.9647333333333333\n",
            "INFO:tensorflow:Assets written to: /content/drive/MyDrive/data_papers/gpSVHN/model_finals/Collab_SFTMX1_SFTMX1_14-18_CNNDNN_A_20211121091850_saved_model_after_fit/assets\n",
            "14 2 0.9646746460091988 0.9646333333333333 0.9646108785999871 0.9646333333333333\n",
            "INFO:tensorflow:Assets written to: /content/drive/MyDrive/data_papers/gpSVHN/model_finals/Collab_SFTMX1_SFTMX1_15-17_CNNDNN_A_20211121091942_saved_model_after_fit/assets\n",
            "15 2 0.964758846055928 0.9646333333333333 0.9646142152252672 0.9646333333333333\n",
            "INFO:tensorflow:Assets written to: /content/drive/MyDrive/data_papers/gpSVHN/model_finals/Collab_SFTMX1_SFTMX1_16-16_CNNDNN_A_20211121092037_saved_model_after_fit/assets\n",
            "16 2 0.9645439145699618 0.9644666666666667 0.9644483224160102 0.9644666666666667\n",
            "INFO:tensorflow:Assets written to: /content/drive/MyDrive/data_papers/gpSVHN/model_finals/Collab_SFTMX1_SFTMX1_17-15_CNNDNN_A_20211121092111_saved_model_after_fit/assets\n",
            "17 2 0.9653618771654733 0.9653 0.9652745291771002 0.9653\n",
            "INFO:tensorflow:Assets written to: /content/drive/MyDrive/data_papers/gpSVHN/model_finals/Collab_SFTMX1_SFTMX1_18-14_CNNDNN_A_20211121092144_saved_model_after_fit/assets\n",
            "18 2 0.9650920304783569 0.9650666666666666 0.9650391655771197 0.9650666666666666\n",
            "INFO:tensorflow:Assets written to: /content/drive/MyDrive/data_papers/gpSVHN/model_finals/Collab_SFTMX1_SFTMX1_19-13_CNNDNN_A_20211121092225_saved_model_after_fit/assets\n",
            "19 2 0.9659832477318931 0.9659 0.9658773495977111 0.9659\n",
            "INFO:tensorflow:Assets written to: /content/drive/MyDrive/data_papers/gpSVHN/model_finals/Collab_SFTMX1_SFTMX1_20-12_CNNDNN_A_20211121092341_saved_model_after_fit/assets\n",
            "20 2 0.965750386027414 0.9656666666666667 0.9656501931898324 0.9656666666666667\n",
            "INFO:tensorflow:Assets written to: /content/drive/MyDrive/data_papers/gpSVHN/model_finals/Collab_SFTMX1_SFTMX1_21-11_CNNDNN_A_20211121092413_saved_model_after_fit/assets\n",
            "21 2 0.9661587883062759 0.9661 0.9660744074863032 0.9661\n",
            "INFO:tensorflow:Assets written to: /content/drive/MyDrive/data_papers/gpSVHN/model_finals/Collab_SFTMX1_SFTMX1_22-10_CNNDNN_A_20211121092448_saved_model_after_fit/assets\n",
            "22 2 0.9651250538822675 0.9650333333333333 0.9650130499149241 0.9650333333333333\n",
            "INFO:tensorflow:Assets written to: /content/drive/MyDrive/data_papers/gpSVHN/model_finals/Collab_SFTMX1_SFTMX1_23-9_CNNDNN_A_20211121092522_saved_model_after_fit/assets\n",
            "23 2 0.9664283275720048 0.9663666666666667 0.9663365999104717 0.9663666666666667\n",
            "INFO:tensorflow:Assets written to: /content/drive/MyDrive/data_papers/gpSVHN/model_finals/Collab_SFTMX1_SFTMX1_24-8_CNNDNN_A_20211121092605_saved_model_after_fit/assets\n",
            "24 2 0.9659581482544456 0.9658666666666667 0.9658577639201873 0.9658666666666667\n",
            "INFO:tensorflow:Assets written to: /content/drive/MyDrive/data_papers/gpSVHN/model_finals/Collab_SFTMX1_SFTMX1_25-7_CNNDNN_A_20211121092645_saved_model_after_fit/assets\n",
            "25 2 0.9654191370770417 0.9653333333333334 0.9653183537390283 0.9653333333333334\n",
            "INFO:tensorflow:Assets written to: /content/drive/MyDrive/data_papers/gpSVHN/model_finals/Collab_SFTMX1_SFTMX1_26-6_CNNDNN_A_20211121092722_saved_model_after_fit/assets\n",
            "26 2 0.966456645330621 0.9663333333333334 0.9663226051801076 0.9663333333333334\n",
            "INFO:tensorflow:Assets written to: /content/drive/MyDrive/data_papers/gpSVHN/model_finals/Collab_SFTMX1_SFTMX1_27-5_CNNDNN_A_20211121092758_saved_model_after_fit/assets\n",
            "27 2 0.9658161531210742 0.9657333333333333 0.9657115640840336 0.9657333333333333\n",
            "INFO:tensorflow:Assets written to: /content/drive/MyDrive/data_papers/gpSVHN/model_finals/Collab_SFTMX1_SFTMX1_28-4_CNNDNN_A_20211121092842_saved_model_after_fit/assets\n",
            "28 2 0.9654871989556908 0.9654 0.9653842137334434 0.9654\n",
            "INFO:tensorflow:Assets written to: /content/drive/MyDrive/data_papers/gpSVHN/model_finals/Collab_SFTMX1_SFTMX1_29-3_CNNDNN_A_20211121092905_saved_model_after_fit/assets\n",
            "29 2 0.9669438758517923 0.9668666666666667 0.9668504588747471 0.9668666666666667\n",
            "INFO:tensorflow:Assets written to: /content/drive/MyDrive/data_papers/gpSVHN/model_finals/Collab_SFTMX1_SFTMX1_30-2_CNNDNN_A_20211121092946_saved_model_after_fit/assets\n",
            "30 2 0.9661604596779573 0.9660333333333333 0.9660123011185148 0.9660333333333333\n",
            "INFO:tensorflow:Assets written to: /content/drive/MyDrive/data_papers/gpSVHN/model_finals/Collab_SFTMX1_SFTMX1_31-1_CNNDNN_A_20211121093024_saved_model_after_fit/assets\n",
            "31 2 0.9664825783646678 0.9663666666666667 0.9663494249093361 0.9663666666666667\n",
            "INFO:tensorflow:Assets written to: /content/drive/MyDrive/data_papers/gpSVHN/model_finals/Collab_SFTMX1_SFTMX1_32-0_CNNDNN_A_20211121093055_saved_model_after_fit/assets\n",
            "32 2 0.9670311582014194 0.9669666666666666 0.9669411712007219 0.9669666666666666\n",
            "INFO:tensorflow:Assets written to: /content/drive/MyDrive/data_papers/gpSVHN/model_finals/Collab_SFTMX1_SFTMX1_0-36_CNNDNN_A_20211121093124_saved_model_after_fit/assets\n",
            "0 2 0.9094209631387877 0.9093 0.909244159026905 0.9093\n",
            "INFO:tensorflow:Assets written to: /content/drive/MyDrive/data_papers/gpSVHN/model_finals/Collab_SFTMX1_SFTMX1_1-35_CNNDNN_A_20211121093206_saved_model_after_fit/assets\n",
            "1 2 0.94386668315857 0.9438 0.9437405742067655 0.9438\n",
            "INFO:tensorflow:Assets written to: /content/drive/MyDrive/data_papers/gpSVHN/model_finals/Collab_SFTMX1_SFTMX1_2-34_CNNDNN_A_20211121093230_saved_model_after_fit/assets\n",
            "2 2 0.9516784400247331 0.9516333333333333 0.9515899475794453 0.9516333333333333\n",
            "INFO:tensorflow:Assets written to: /content/drive/MyDrive/data_papers/gpSVHN/model_finals/Collab_SFTMX1_SFTMX1_3-33_CNNDNN_A_20211121093256_saved_model_after_fit/assets\n",
            "3 2 0.9571223641955311 0.9571 0.9570765572489704 0.9571\n",
            "INFO:tensorflow:Assets written to: /content/drive/MyDrive/data_papers/gpSVHN/model_finals/Collab_SFTMX1_SFTMX1_4-32_CNNDNN_A_20211121093332_saved_model_after_fit/assets\n",
            "4 2 0.9584633567666692 0.9583666666666667 0.958341713436366 0.9583666666666667\n",
            "INFO:tensorflow:Assets written to: /content/drive/MyDrive/data_papers/gpSVHN/model_finals/Collab_SFTMX1_SFTMX1_5-31_CNNDNN_A_20211121093410_saved_model_after_fit/assets\n",
            "5 2 0.9607434623114068 0.9607 0.9606863665984107 0.9607\n",
            "INFO:tensorflow:Assets written to: /content/drive/MyDrive/data_papers/gpSVHN/model_finals/Collab_SFTMX1_SFTMX1_6-30_CNNDNN_A_20211121093437_saved_model_after_fit/assets\n",
            "6 2 0.9621705796022927 0.9620666666666666 0.9620374986031078 0.9620666666666666\n",
            "INFO:tensorflow:Assets written to: /content/drive/MyDrive/data_papers/gpSVHN/model_finals/Collab_SFTMX1_SFTMX1_7-29_CNNDNN_A_20211121093524_saved_model_after_fit/assets\n",
            "7 2 0.9628393862479256 0.9627666666666667 0.9627450706957627 0.9627666666666667\n",
            "INFO:tensorflow:Assets written to: /content/drive/MyDrive/data_papers/gpSVHN/model_finals/Collab_SFTMX1_SFTMX1_8-28_CNNDNN_A_20211121093559_saved_model_after_fit/assets\n",
            "8 2 0.9624537584796907 0.9624 0.9623883473259244 0.9624\n",
            "INFO:tensorflow:Assets written to: /content/drive/MyDrive/data_papers/gpSVHN/model_finals/Collab_SFTMX1_SFTMX1_9-27_CNNDNN_A_20211121093638_saved_model_after_fit/assets\n",
            "9 2 0.9637133175437158 0.9635333333333334 0.9635382458228567 0.9635333333333334\n",
            "INFO:tensorflow:Assets written to: /content/drive/MyDrive/data_papers/gpSVHN/model_finals/Collab_SFTMX1_SFTMX1_10-26_CNNDNN_A_20211121093715_saved_model_after_fit/assets\n",
            "10 2 0.963384470340314 0.9632666666666667 0.9632370867552049 0.9632666666666667\n",
            "INFO:tensorflow:Assets written to: /content/drive/MyDrive/data_papers/gpSVHN/model_finals/Collab_SFTMX1_SFTMX1_11-25_CNNDNN_A_20211121093757_saved_model_after_fit/assets\n",
            "11 2 0.9649518207970033 0.9648666666666667 0.9648583453814332 0.9648666666666667\n",
            "INFO:tensorflow:Assets written to: /content/drive/MyDrive/data_papers/gpSVHN/model_finals/Collab_SFTMX1_SFTMX1_12-24_CNNDNN_A_20211121093846_saved_model_after_fit/assets\n",
            "12 2 0.964714599126774 0.9646333333333333 0.9646174850710628 0.9646333333333333\n",
            "INFO:tensorflow:Assets written to: /content/drive/MyDrive/data_papers/gpSVHN/model_finals/Collab_SFTMX1_SFTMX1_13-23_CNNDNN_A_20211121093954_saved_model_after_fit/assets\n",
            "13 2 0.9641339376486147 0.9640666666666666 0.9640438175064094 0.9640666666666666\n",
            "INFO:tensorflow:Assets written to: /content/drive/MyDrive/data_papers/gpSVHN/model_finals/Collab_SFTMX1_SFTMX1_14-22_CNNDNN_A_20211121094051_saved_model_after_fit/assets\n",
            "14 2 0.9662590750890487 0.9662 0.966176470772148 0.9662\n",
            "INFO:tensorflow:Assets written to: /content/drive/MyDrive/data_papers/gpSVHN/model_finals/Collab_SFTMX1_SFTMX1_15-21_CNNDNN_A_20211121094128_saved_model_after_fit/assets\n",
            "15 2 0.9653359568289587 0.9652333333333334 0.9652203186726073 0.9652333333333334\n",
            "INFO:tensorflow:Assets written to: /content/drive/MyDrive/data_papers/gpSVHN/model_finals/Collab_SFTMX1_SFTMX1_16-20_CNNDNN_A_20211121094237_saved_model_after_fit/assets\n",
            "16 2 0.965255979070088 0.9651333333333333 0.9651328445650545 0.9651333333333333\n",
            "INFO:tensorflow:Assets written to: /content/drive/MyDrive/data_papers/gpSVHN/model_finals/Collab_SFTMX1_SFTMX1_17-19_CNNDNN_A_20211121094333_saved_model_after_fit/assets\n",
            "17 2 0.9654309320409578 0.9653666666666667 0.9653498600550124 0.9653666666666667\n",
            "INFO:tensorflow:Assets written to: /content/drive/MyDrive/data_papers/gpSVHN/model_finals/Collab_SFTMX1_SFTMX1_18-18_CNNDNN_A_20211121094416_saved_model_after_fit/assets\n",
            "18 2 0.965475920309513 0.9653666666666667 0.96535679030524 0.9653666666666667\n",
            "INFO:tensorflow:Assets written to: /content/drive/MyDrive/data_papers/gpSVHN/model_finals/Collab_SFTMX1_SFTMX1_19-17_CNNDNN_A_20211121094458_saved_model_after_fit/assets\n",
            "19 2 0.9652349342732779 0.9651333333333333 0.9651092243571089 0.9651333333333333\n",
            "INFO:tensorflow:Assets written to: /content/drive/MyDrive/data_papers/gpSVHN/model_finals/Collab_SFTMX1_SFTMX1_20-16_CNNDNN_A_20211121094551_saved_model_after_fit/assets\n",
            "20 2 0.966419181038387 0.9663333333333334 0.9663118759192086 0.9663333333333334\n",
            "INFO:tensorflow:Assets written to: /content/drive/MyDrive/data_papers/gpSVHN/model_finals/Collab_SFTMX1_SFTMX1_21-15_CNNDNN_A_20211121094659_saved_model_after_fit/assets\n",
            "21 2 0.9652630121587794 0.9651666666666666 0.9651419415242121 0.9651666666666666\n",
            "INFO:tensorflow:Assets written to: /content/drive/MyDrive/data_papers/gpSVHN/model_finals/Collab_SFTMX1_SFTMX1_22-14_CNNDNN_A_20211121094735_saved_model_after_fit/assets\n",
            "22 2 0.9664620296375714 0.9663666666666667 0.9663570312578977 0.9663666666666667\n",
            "INFO:tensorflow:Assets written to: /content/drive/MyDrive/data_papers/gpSVHN/model_finals/Collab_SFTMX1_SFTMX1_23-13_CNNDNN_A_20211121094847_saved_model_after_fit/assets\n",
            "23 2 0.9651524178833112 0.9650333333333333 0.9650196958321026 0.9650333333333333\n",
            "INFO:tensorflow:Assets written to: /content/drive/MyDrive/data_papers/gpSVHN/model_finals/Collab_SFTMX1_SFTMX1_24-12_CNNDNN_A_20211121094933_saved_model_after_fit/assets\n",
            "24 2 0.96591756065061 0.9658333333333333 0.9658008675955884 0.9658333333333333\n",
            "INFO:tensorflow:Assets written to: /content/drive/MyDrive/data_papers/gpSVHN/model_finals/Collab_SFTMX1_SFTMX1_25-11_CNNDNN_A_20211121094959_saved_model_after_fit/assets\n",
            "25 2 0.9663030685456772 0.9662333333333334 0.9662218458318454 0.9662333333333334\n",
            "INFO:tensorflow:Assets written to: /content/drive/MyDrive/data_papers/gpSVHN/model_finals/Collab_SFTMX1_SFTMX1_26-10_CNNDNN_A_20211121095056_saved_model_after_fit/assets\n",
            "26 2 0.9655371184254321 0.9654333333333334 0.9654174720916924 0.9654333333333334\n",
            "INFO:tensorflow:Assets written to: /content/drive/MyDrive/data_papers/gpSVHN/model_finals/Collab_SFTMX1_SFTMX1_27-9_CNNDNN_A_20211121095142_saved_model_after_fit/assets\n",
            "27 2 0.9658490372129394 0.9657333333333333 0.965712267230966 0.9657333333333333\n",
            "INFO:tensorflow:Assets written to: /content/drive/MyDrive/data_papers/gpSVHN/model_finals/Collab_SFTMX1_SFTMX1_28-8_CNNDNN_A_20211121095217_saved_model_after_fit/assets\n",
            "28 2 0.965913673229277 0.9658333333333333 0.965816753521368 0.9658333333333333\n",
            "INFO:tensorflow:Assets written to: /content/drive/MyDrive/data_papers/gpSVHN/model_finals/Collab_SFTMX1_SFTMX1_29-7_CNNDNN_A_20211121095309_saved_model_after_fit/assets\n",
            "29 2 0.9661760126423006 0.9661 0.9660817374248789 0.9661\n",
            "INFO:tensorflow:Assets written to: /content/drive/MyDrive/data_papers/gpSVHN/model_finals/Collab_SFTMX1_SFTMX1_30-6_CNNDNN_A_20211121095344_saved_model_after_fit/assets\n",
            "30 2 0.9663530184477269 0.9663 0.966277802098828 0.9663\n",
            "INFO:tensorflow:Assets written to: /content/drive/MyDrive/data_papers/gpSVHN/model_finals/Collab_SFTMX1_SFTMX1_31-5_CNNDNN_A_20211121095417_saved_model_after_fit/assets\n",
            "31 2 0.9663619700911037 0.9662666666666667 0.9662492203915283 0.9662666666666667\n",
            "INFO:tensorflow:Assets written to: /content/drive/MyDrive/data_papers/gpSVHN/model_finals/Collab_SFTMX1_SFTMX1_32-4_CNNDNN_A_20211121095508_saved_model_after_fit/assets\n",
            "32 2 0.9663066988444626 0.9662333333333334 0.9662095723916747 0.9662333333333334\n",
            "INFO:tensorflow:Assets written to: /content/drive/MyDrive/data_papers/gpSVHN/model_finals/Collab_SFTMX1_SFTMX1_33-3_CNNDNN_A_20211121095537_saved_model_after_fit/assets\n",
            "33 2 0.9661497806823653 0.9660333333333333 0.9660159425172167 0.9660333333333333\n",
            "INFO:tensorflow:Assets written to: /content/drive/MyDrive/data_papers/gpSVHN/model_finals/Collab_SFTMX1_SFTMX1_34-2_CNNDNN_A_20211121095626_saved_model_after_fit/assets\n",
            "34 2 0.9663930270442186 0.9663333333333334 0.9663125771899731 0.9663333333333334\n",
            "INFO:tensorflow:Assets written to: /content/drive/MyDrive/data_papers/gpSVHN/model_finals/Collab_SFTMX1_SFTMX1_35-1_CNNDNN_A_20211121095710_saved_model_after_fit/assets\n",
            "35 2 0.9663516733467624 0.9662333333333334 0.9661966407896886 0.9662333333333334\n",
            "INFO:tensorflow:Assets written to: /content/drive/MyDrive/data_papers/gpSVHN/model_finals/Collab_SFTMX1_SFTMX1_36-0_CNNDNN_A_20211121095741_saved_model_after_fit/assets\n",
            "36 2 0.9668747128397828 0.9668 0.9667839991302539 0.9668\n",
            "INFO:tensorflow:Assets written to: /content/drive/MyDrive/data_papers/gpSVHN/model_finals/Collab_SFTMX1_SFTMX1_0-38_CNNDNN_A_20211121095813_saved_model_after_fit/assets\n",
            "0 2 0.9079742248621604 0.9076333333333333 0.9075339112068619 0.9076333333333333\n",
            "INFO:tensorflow:Assets written to: /content/drive/MyDrive/data_papers/gpSVHN/model_finals/Collab_SFTMX1_SFTMX1_1-37_CNNDNN_A_20211121095913_saved_model_after_fit/assets\n",
            "1 2 0.9444520733740639 0.9445 0.9444563779873877 0.9445\n",
            "INFO:tensorflow:Assets written to: /content/drive/MyDrive/data_papers/gpSVHN/model_finals/Collab_SFTMX1_SFTMX1_2-36_CNNDNN_A_20211121095936_saved_model_after_fit/assets\n",
            "2 2 0.9520857666478716 0.9520666666666666 0.9520363984485375 0.9520666666666666\n",
            "INFO:tensorflow:Assets written to: /content/drive/MyDrive/data_papers/gpSVHN/model_finals/Collab_SFTMX1_SFTMX1_3-35_CNNDNN_A_20211121100007_saved_model_after_fit/assets\n",
            "3 2 0.9586382282874252 0.9585666666666667 0.9585343144589704 0.9585666666666667\n",
            "INFO:tensorflow:Assets written to: /content/drive/MyDrive/data_papers/gpSVHN/model_finals/Collab_SFTMX1_SFTMX1_4-34_CNNDNN_A_20211121100045_saved_model_after_fit/assets\n",
            "4 2 0.9593169288036908 0.9592 0.959185617698822 0.9592\n",
            "INFO:tensorflow:Assets written to: /content/drive/MyDrive/data_papers/gpSVHN/model_finals/Collab_SFTMX1_SFTMX1_5-33_CNNDNN_A_20211121100120_saved_model_after_fit/assets\n",
            "5 2 0.9613563348857149 0.9612666666666667 0.9612330684832241 0.9612666666666667\n",
            "INFO:tensorflow:Assets written to: /content/drive/MyDrive/data_papers/gpSVHN/model_finals/Collab_SFTMX1_SFTMX1_6-32_CNNDNN_A_20211121100210_saved_model_after_fit/assets\n",
            "6 2 0.9615937981346271 0.9613333333333334 0.9613375846393294 0.9613333333333334\n",
            "INFO:tensorflow:Assets written to: /content/drive/MyDrive/data_papers/gpSVHN/model_finals/Collab_SFTMX1_SFTMX1_7-31_CNNDNN_A_20211121100309_saved_model_after_fit/assets\n",
            "7 2 0.9617115906584552 0.9616666666666667 0.9616319748831244 0.9616666666666667\n",
            "INFO:tensorflow:Assets written to: /content/drive/MyDrive/data_papers/gpSVHN/model_finals/Collab_SFTMX1_SFTMX1_8-30_CNNDNN_A_20211121100350_saved_model_after_fit/assets\n",
            "8 2 0.9634899945434416 0.9634 0.963377774333539 0.9634\n",
            "INFO:tensorflow:Assets written to: /content/drive/MyDrive/data_papers/gpSVHN/model_finals/Collab_SFTMX1_SFTMX1_9-29_CNNDNN_A_20211121100437_saved_model_after_fit/assets\n",
            "9 2 0.963599488471383 0.9635666666666667 0.9635436615855274 0.9635666666666667\n",
            "INFO:tensorflow:Assets written to: /content/drive/MyDrive/data_papers/gpSVHN/model_finals/Collab_SFTMX1_SFTMX1_10-28_CNNDNN_A_20211121100527_saved_model_after_fit/assets\n",
            "10 2 0.9633430914212748 0.9632 0.9631849419947561 0.9632\n",
            "INFO:tensorflow:Assets written to: /content/drive/MyDrive/data_papers/gpSVHN/model_finals/Collab_SFTMX1_SFTMX1_11-27_CNNDNN_A_20211121100622_saved_model_after_fit/assets\n",
            "11 2 0.9646932317404818 0.9646 0.9645872952807821 0.9646\n",
            "INFO:tensorflow:Assets written to: /content/drive/MyDrive/data_papers/gpSVHN/model_finals/Collab_SFTMX1_SFTMX1_12-26_CNNDNN_A_20211121100704_saved_model_after_fit/assets\n",
            "12 2 0.9645373549591738 0.9644666666666667 0.9644441841179098 0.9644666666666667\n",
            "INFO:tensorflow:Assets written to: /content/drive/MyDrive/data_papers/gpSVHN/model_finals/Collab_SFTMX1_SFTMX1_13-25_CNNDNN_A_20211121100750_saved_model_after_fit/assets\n",
            "13 2 0.9644481790759063 0.9643666666666667 0.9643621927433644 0.9643666666666667\n",
            "INFO:tensorflow:Assets written to: /content/drive/MyDrive/data_papers/gpSVHN/model_finals/Collab_SFTMX1_SFTMX1_14-24_CNNDNN_A_20211121100848_saved_model_after_fit/assets\n",
            "14 2 0.9653000789022431 0.9652333333333334 0.9652129301045048 0.9652333333333334\n",
            "INFO:tensorflow:Assets written to: /content/drive/MyDrive/data_papers/gpSVHN/model_finals/Collab_SFTMX1_SFTMX1_15-23_CNNDNN_A_20211121100944_saved_model_after_fit/assets\n",
            "15 2 0.9652338464302543 0.9651333333333333 0.9651086041747005 0.9651333333333333\n",
            "INFO:tensorflow:Assets written to: /content/drive/MyDrive/data_papers/gpSVHN/model_finals/Collab_SFTMX1_SFTMX1_16-22_CNNDNN_A_20211121101029_saved_model_after_fit/assets\n",
            "16 2 0.9652275174540011 0.9651333333333333 0.9651238789826438 0.9651333333333333\n",
            "INFO:tensorflow:Assets written to: /content/drive/MyDrive/data_papers/gpSVHN/model_finals/Collab_SFTMX1_SFTMX1_17-21_CNNDNN_A_20211121101137_saved_model_after_fit/assets\n",
            "17 2 0.9650451059879459 0.9649666666666666 0.9649415689579842 0.9649666666666666\n",
            "INFO:tensorflow:Assets written to: /content/drive/MyDrive/data_papers/gpSVHN/model_finals/Collab_SFTMX1_SFTMX1_18-20_CNNDNN_A_20211121101208_saved_model_after_fit/assets\n",
            "18 2 0.9654854509376712 0.9654333333333334 0.9654184039193123 0.9654333333333334\n",
            "INFO:tensorflow:Assets written to: /content/drive/MyDrive/data_papers/gpSVHN/model_finals/Collab_SFTMX1_SFTMX1_19-19_CNNDNN_A_20211121101249_saved_model_after_fit/assets\n",
            "19 2 0.9669334616326252 0.9668666666666667 0.9668493832108894 0.9668666666666667\n",
            "INFO:tensorflow:Assets written to: /content/drive/MyDrive/data_papers/gpSVHN/model_finals/Collab_SFTMX1_SFTMX1_20-18_CNNDNN_A_20211121101342_saved_model_after_fit/assets\n",
            "20 2 0.9659513012217107 0.9658666666666667 0.9658578747180419 0.9658666666666667\n",
            "INFO:tensorflow:Assets written to: /content/drive/MyDrive/data_papers/gpSVHN/model_finals/Collab_SFTMX1_SFTMX1_21-17_CNNDNN_A_20211121101424_saved_model_after_fit/assets\n",
            "21 2 0.9655408567540951 0.9654666666666667 0.9654369677387671 0.9654666666666667\n",
            "INFO:tensorflow:Assets written to: /content/drive/MyDrive/data_papers/gpSVHN/model_finals/Collab_SFTMX1_SFTMX1_22-16_CNNDNN_A_20211121101518_saved_model_after_fit/assets\n",
            "22 2 0.9657207885432609 0.9656 0.9655856531578403 0.9656\n",
            "INFO:tensorflow:Assets written to: /content/drive/MyDrive/data_papers/gpSVHN/model_finals/Collab_SFTMX1_SFTMX1_23-15_CNNDNN_A_20211121101606_saved_model_after_fit/assets\n",
            "23 2 0.9654138859899186 0.9653333333333334 0.9653052669648661 0.9653333333333334\n",
            "INFO:tensorflow:Assets written to: /content/drive/MyDrive/data_papers/gpSVHN/model_finals/Collab_SFTMX1_SFTMX1_24-14_CNNDNN_A_20211121101707_saved_model_after_fit/assets\n",
            "24 2 0.9659259710196967 0.9658666666666667 0.96583851848611 0.9658666666666667\n",
            "INFO:tensorflow:Assets written to: /content/drive/MyDrive/data_papers/gpSVHN/model_finals/Collab_SFTMX1_SFTMX1_25-13_CNNDNN_A_20211121101751_saved_model_after_fit/assets\n",
            "25 2 0.9665040131426509 0.9664333333333334 0.9664160644637992 0.9664333333333334\n",
            "INFO:tensorflow:Assets written to: /content/drive/MyDrive/data_papers/gpSVHN/model_finals/Collab_SFTMX1_SFTMX1_26-12_CNNDNN_A_20211121101838_saved_model_after_fit/assets\n",
            "26 2 0.9659071438598987 0.9658 0.965772541684085 0.9658\n",
            "INFO:tensorflow:Assets written to: /content/drive/MyDrive/data_papers/gpSVHN/model_finals/Collab_SFTMX1_SFTMX1_27-11_CNNDNN_A_20211121101935_saved_model_after_fit/assets\n",
            "27 2 0.9657518287948516 0.9656 0.9655852225384896 0.9656\n",
            "INFO:tensorflow:Assets written to: /content/drive/MyDrive/data_papers/gpSVHN/model_finals/Collab_SFTMX1_SFTMX1_28-10_CNNDNN_A_20211121102012_saved_model_after_fit/assets\n",
            "28 2 0.9662851090480994 0.9662 0.9661821255874639 0.9662\n",
            "INFO:tensorflow:Assets written to: /content/drive/MyDrive/data_papers/gpSVHN/model_finals/Collab_SFTMX1_SFTMX1_29-9_CNNDNN_A_20211121102054_saved_model_after_fit/assets\n",
            "29 2 0.9661781495801153 0.9661 0.9660862483904412 0.9661\n",
            "INFO:tensorflow:Assets written to: /content/drive/MyDrive/data_papers/gpSVHN/model_finals/Collab_SFTMX1_SFTMX1_30-8_CNNDNN_A_20211121102121_saved_model_after_fit/assets\n",
            "30 2 0.9669127520896418 0.9668 0.9667894164252192 0.9668\n",
            "INFO:tensorflow:Assets written to: /content/drive/MyDrive/data_papers/gpSVHN/model_finals/Collab_SFTMX1_SFTMX1_31-7_CNNDNN_A_20211121102209_saved_model_after_fit/assets\n",
            "31 2 0.965642307068967 0.9655333333333334 0.9655114312980814 0.9655333333333334\n",
            "INFO:tensorflow:Assets written to: /content/drive/MyDrive/data_papers/gpSVHN/model_finals/Collab_SFTMX1_SFTMX1_32-6_CNNDNN_A_20211121102308_saved_model_after_fit/assets\n",
            "32 2 0.96630033960519 0.9662 0.9661838596958009 0.9662\n",
            "INFO:tensorflow:Assets written to: /content/drive/MyDrive/data_papers/gpSVHN/model_finals/Collab_SFTMX1_SFTMX1_33-5_CNNDNN_A_20211121102405_saved_model_after_fit/assets\n",
            "33 2 0.9661077548065269 0.9659666666666666 0.9659578776516837 0.9659666666666666\n",
            "INFO:tensorflow:Assets written to: /content/drive/MyDrive/data_papers/gpSVHN/model_finals/Collab_SFTMX1_SFTMX1_34-4_CNNDNN_A_20211121102448_saved_model_after_fit/assets\n",
            "34 2 0.9653752201074265 0.9653 0.9652731690016573 0.9653\n",
            "INFO:tensorflow:Assets written to: /content/drive/MyDrive/data_papers/gpSVHN/model_finals/Collab_SFTMX1_SFTMX1_35-3_CNNDNN_A_20211121102524_saved_model_after_fit/assets\n",
            "35 2 0.9663708404515894 0.9662 0.9662024870666287 0.9662\n",
            "INFO:tensorflow:Assets written to: /content/drive/MyDrive/data_papers/gpSVHN/model_finals/Collab_SFTMX1_SFTMX1_36-2_CNNDNN_A_20211121102557_saved_model_after_fit/assets\n",
            "36 2 0.9663852300930798 0.9663 0.9662874301181001 0.9663\n",
            "INFO:tensorflow:Assets written to: /content/drive/MyDrive/data_papers/gpSVHN/model_finals/Collab_SFTMX1_SFTMX1_37-1_CNNDNN_A_20211121102621_saved_model_after_fit/assets\n",
            "37 2 0.9667741398269718 0.9666666666666667 0.9666502862217332 0.9666666666666667\n",
            "INFO:tensorflow:Assets written to: /content/drive/MyDrive/data_papers/gpSVHN/model_finals/Collab_SFTMX1_SFTMX1_38-0_CNNDNN_A_20211121102646_saved_model_after_fit/assets\n",
            "38 2 0.9661110550724002 0.9659666666666666 0.9659460517102664 0.9659666666666666\n",
            "INFO:tensorflow:Assets written to: /content/drive/MyDrive/data_papers/gpSVHN/model_finals/Collab_SFTMX1_SFTMX1_0-40_CNNDNN_A_20211121102717_saved_model_after_fit/assets\n",
            "0 2 0.9080317029239656 0.9081666666666667 0.9079753133713375 0.9081666666666667\n",
            "INFO:tensorflow:Assets written to: /content/drive/MyDrive/data_papers/gpSVHN/model_finals/Collab_SFTMX1_SFTMX1_1-39_CNNDNN_A_20211121102803_saved_model_after_fit/assets\n",
            "1 2 0.942250647788262 0.9421666666666667 0.9421026220352915 0.9421666666666667\n",
            "INFO:tensorflow:Assets written to: /content/drive/MyDrive/data_papers/gpSVHN/model_finals/Collab_SFTMX1_SFTMX1_2-38_CNNDNN_A_20211121102826_saved_model_after_fit/assets\n",
            "2 2 0.9499007842145439 0.9499 0.9498813639365038 0.9499\n",
            "INFO:tensorflow:Assets written to: /content/drive/MyDrive/data_papers/gpSVHN/model_finals/Collab_SFTMX1_SFTMX1_3-37_CNNDNN_A_20211121102852_saved_model_after_fit/assets\n",
            "3 2 0.9576649957015602 0.9575666666666667 0.9575261539252498 0.9575666666666667\n",
            "INFO:tensorflow:Assets written to: /content/drive/MyDrive/data_papers/gpSVHN/model_finals/Collab_SFTMX1_SFTMX1_4-36_CNNDNN_A_20211121102922_saved_model_after_fit/assets\n",
            "4 2 0.9593116782791098 0.9593 0.9592658362022695 0.9593\n",
            "INFO:tensorflow:Assets written to: /content/drive/MyDrive/data_papers/gpSVHN/model_finals/Collab_SFTMX1_SFTMX1_5-35_CNNDNN_A_20211121102959_saved_model_after_fit/assets\n",
            "5 2 0.9595938264168923 0.9594666666666667 0.9594402274639815 0.9594666666666667\n",
            "INFO:tensorflow:Assets written to: /content/drive/MyDrive/data_papers/gpSVHN/model_finals/Collab_SFTMX1_SFTMX1_6-34_CNNDNN_A_20211121103048_saved_model_after_fit/assets\n",
            "6 2 0.9618762670008081 0.9618 0.9617781860423013 0.9618\n",
            "INFO:tensorflow:Assets written to: /content/drive/MyDrive/data_papers/gpSVHN/model_finals/Collab_SFTMX1_SFTMX1_7-33_CNNDNN_A_20211121103141_saved_model_after_fit/assets\n",
            "7 2 0.9633176554815572 0.9632666666666667 0.9632466397885245 0.9632666666666667\n",
            "INFO:tensorflow:Assets written to: /content/drive/MyDrive/data_papers/gpSVHN/model_finals/Collab_SFTMX1_SFTMX1_8-32_CNNDNN_A_20211121103251_saved_model_after_fit/assets\n",
            "8 2 0.9625147738993222 0.9624666666666667 0.9624396921336174 0.9624666666666667\n",
            "INFO:tensorflow:Assets written to: /content/drive/MyDrive/data_papers/gpSVHN/model_finals/Collab_SFTMX1_SFTMX1_9-31_CNNDNN_A_20211121103342_saved_model_after_fit/assets\n",
            "9 2 0.9644135892866332 0.9643333333333334 0.9643084826568176 0.9643333333333334\n",
            "INFO:tensorflow:Assets written to: /content/drive/MyDrive/data_papers/gpSVHN/model_finals/Collab_SFTMX1_SFTMX1_10-30_CNNDNN_A_20211121103437_saved_model_after_fit/assets\n",
            "10 2 0.9634904974570442 0.9634666666666667 0.9634432008784193 0.9634666666666667\n",
            "INFO:tensorflow:Assets written to: /content/drive/MyDrive/data_papers/gpSVHN/model_finals/Collab_SFTMX1_SFTMX1_11-29_CNNDNN_A_20211121103505_saved_model_after_fit/assets\n",
            "11 2 0.9635235162154487 0.9634 0.9633866717366878 0.9634\n",
            "INFO:tensorflow:Assets written to: /content/drive/MyDrive/data_papers/gpSVHN/model_finals/Collab_SFTMX1_SFTMX1_12-28_CNNDNN_A_20211121103600_saved_model_after_fit/assets\n",
            "12 2 0.9651010817203923 0.9650333333333333 0.9650013998141097 0.9650333333333333\n",
            "INFO:tensorflow:Assets written to: /content/drive/MyDrive/data_papers/gpSVHN/model_finals/Collab_SFTMX1_SFTMX1_13-27_CNNDNN_A_20211121103731_saved_model_after_fit/assets\n",
            "13 2 0.9648528229722854 0.9647666666666667 0.964742573533048 0.9647666666666667\n",
            "INFO:tensorflow:Assets written to: /content/drive/MyDrive/data_papers/gpSVHN/model_finals/Collab_SFTMX1_SFTMX1_14-26_CNNDNN_A_20211121103836_saved_model_after_fit/assets\n",
            "14 2 0.9646055393735697 0.9645333333333334 0.9645067588192544 0.9645333333333334\n",
            "INFO:tensorflow:Assets written to: /content/drive/MyDrive/data_papers/gpSVHN/model_finals/Collab_SFTMX1_SFTMX1_15-25_CNNDNN_A_20211121103926_saved_model_after_fit/assets\n",
            "15 2 0.9656877120711911 0.9655333333333334 0.9655274625719805 0.9655333333333334\n",
            "INFO:tensorflow:Assets written to: /content/drive/MyDrive/data_papers/gpSVHN/model_finals/Collab_SFTMX1_SFTMX1_16-24_CNNDNN_A_20211121104033_saved_model_after_fit/assets\n",
            "16 2 0.9652183088458616 0.9651333333333333 0.9651181031175272 0.9651333333333333\n",
            "INFO:tensorflow:Assets written to: /content/drive/MyDrive/data_papers/gpSVHN/model_finals/Collab_SFTMX1_SFTMX1_17-23_CNNDNN_A_20211121104113_saved_model_after_fit/assets\n",
            "17 2 0.9656832495153058 0.9656 0.9655760215845313 0.9656\n",
            "INFO:tensorflow:Assets written to: /content/drive/MyDrive/data_papers/gpSVHN/model_finals/Collab_SFTMX1_SFTMX1_18-22_CNNDNN_A_20211121104154_saved_model_after_fit/assets\n",
            "18 2 0.9653549601832891 0.9653 0.9652732496650062 0.9653\n",
            "INFO:tensorflow:Assets written to: /content/drive/MyDrive/data_papers/gpSVHN/model_finals/Collab_SFTMX1_SFTMX1_19-21_CNNDNN_A_20211121104306_saved_model_after_fit/assets\n",
            "19 2 0.9649639367749065 0.9648333333333333 0.9648304943161563 0.9648333333333333\n",
            "INFO:tensorflow:Assets written to: /content/drive/MyDrive/data_papers/gpSVHN/model_finals/Collab_SFTMX1_SFTMX1_20-20_CNNDNN_A_20211121104347_saved_model_after_fit/assets\n",
            "20 2 0.9653611811835926 0.9653 0.9652852795199924 0.9653\n",
            "INFO:tensorflow:Assets written to: /content/drive/MyDrive/data_papers/gpSVHN/model_finals/Collab_SFTMX1_SFTMX1_21-19_CNNDNN_A_20211121104432_saved_model_after_fit/assets\n",
            "21 2 0.9655978357583848 0.9655 0.9654789084111209 0.9655\n",
            "INFO:tensorflow:Assets written to: /content/drive/MyDrive/data_papers/gpSVHN/model_finals/Collab_SFTMX1_SFTMX1_22-18_CNNDNN_A_20211121104522_saved_model_after_fit/assets\n",
            "22 2 0.9660281936640451 0.9659333333333333 0.965923894503007 0.9659333333333333\n",
            "INFO:tensorflow:Assets written to: /content/drive/MyDrive/data_papers/gpSVHN/model_finals/Collab_SFTMX1_SFTMX1_23-17_CNNDNN_A_20211121104600_saved_model_after_fit/assets\n",
            "23 2 0.9653926611305255 0.9653 0.9652758187506469 0.9653\n",
            "INFO:tensorflow:Assets written to: /content/drive/MyDrive/data_papers/gpSVHN/model_finals/Collab_SFTMX1_SFTMX1_24-16_CNNDNN_A_20211121104642_saved_model_after_fit/assets\n",
            "24 2 0.9654509548924027 0.9653666666666667 0.9653499418260577 0.9653666666666667\n",
            "INFO:tensorflow:Assets written to: /content/drive/MyDrive/data_papers/gpSVHN/model_finals/Collab_SFTMX1_SFTMX1_25-15_CNNDNN_A_20211121104750_saved_model_after_fit/assets\n",
            "25 2 0.9660776604045465 0.9659666666666666 0.9659512988550512 0.9659666666666666\n",
            "INFO:tensorflow:Assets written to: /content/drive/MyDrive/data_papers/gpSVHN/model_finals/Collab_SFTMX1_SFTMX1_26-14_CNNDNN_A_20211121104838_saved_model_after_fit/assets\n",
            "26 2 0.9666759320405575 0.9666333333333333 0.9666213879478308 0.9666333333333333\n",
            "INFO:tensorflow:Assets written to: /content/drive/MyDrive/data_papers/gpSVHN/model_finals/Collab_SFTMX1_SFTMX1_27-13_CNNDNN_A_20211121104916_saved_model_after_fit/assets\n",
            "27 2 0.9657033099546797 0.9656 0.9655764595032467 0.9656\n",
            "INFO:tensorflow:Assets written to: /content/drive/MyDrive/data_papers/gpSVHN/model_finals/Collab_SFTMX1_SFTMX1_28-12_CNNDNN_A_20211121104948_saved_model_after_fit/assets\n",
            "28 2 0.9658687284109657 0.9658 0.9657757556417537 0.9658\n",
            "INFO:tensorflow:Assets written to: /content/drive/MyDrive/data_papers/gpSVHN/model_finals/Collab_SFTMX1_SFTMX1_29-11_CNNDNN_A_20211121105048_saved_model_after_fit/assets\n",
            "29 2 0.9661582535303516 0.9660666666666666 0.9660466082853397 0.9660666666666666\n",
            "INFO:tensorflow:Assets written to: /content/drive/MyDrive/data_papers/gpSVHN/model_finals/Collab_SFTMX1_SFTMX1_30-10_CNNDNN_A_20211121105131_saved_model_after_fit/assets\n",
            "30 2 0.9663289554025964 0.9661666666666666 0.9661596171893068 0.9661666666666666\n",
            "INFO:tensorflow:Assets written to: /content/drive/MyDrive/data_papers/gpSVHN/model_finals/Collab_SFTMX1_SFTMX1_31-9_CNNDNN_A_20211121105216_saved_model_after_fit/assets\n",
            "31 2 0.9659924395073765 0.9659333333333333 0.965907223494519 0.9659333333333333\n",
            "INFO:tensorflow:Assets written to: /content/drive/MyDrive/data_papers/gpSVHN/model_finals/Collab_SFTMX1_SFTMX1_32-8_CNNDNN_A_20211121105238_saved_model_after_fit/assets\n",
            "32 2 0.9662201693328674 0.9661333333333333 0.9661151053532879 0.9661333333333333\n",
            "INFO:tensorflow:Assets written to: /content/drive/MyDrive/data_papers/gpSVHN/model_finals/Collab_SFTMX1_SFTMX1_33-7_CNNDNN_A_20211121105308_saved_model_after_fit/assets\n",
            "33 2 0.9658658464795273 0.9657666666666667 0.9657483971641171 0.9657666666666667\n",
            "INFO:tensorflow:Assets written to: /content/drive/MyDrive/data_papers/gpSVHN/model_finals/Collab_SFTMX1_SFTMX1_34-6_CNNDNN_A_20211121105342_saved_model_after_fit/assets\n",
            "34 2 0.9660658308277502 0.9659333333333333 0.9659139008464145 0.9659333333333333\n",
            "INFO:tensorflow:Assets written to: /content/drive/MyDrive/data_papers/gpSVHN/model_finals/Collab_SFTMX1_SFTMX1_35-5_CNNDNN_A_20211121105426_saved_model_after_fit/assets\n",
            "35 2 0.9662655001486554 0.9661666666666666 0.9661497309518986 0.9661666666666666\n",
            "INFO:tensorflow:Assets written to: /content/drive/MyDrive/data_papers/gpSVHN/model_finals/Collab_SFTMX1_SFTMX1_36-4_CNNDNN_A_20211121105500_saved_model_after_fit/assets\n",
            "36 2 0.9667937797956667 0.9667 0.9666776474735047 0.9667\n",
            "INFO:tensorflow:Assets written to: /content/drive/MyDrive/data_papers/gpSVHN/model_finals/Collab_SFTMX1_SFTMX1_37-3_CNNDNN_A_20211121105543_saved_model_after_fit/assets\n",
            "37 2 0.966338829991218 0.9662333333333334 0.9662187257539153 0.9662333333333334\n",
            "INFO:tensorflow:Assets written to: /content/drive/MyDrive/data_papers/gpSVHN/model_finals/Collab_SFTMX1_SFTMX1_38-2_CNNDNN_A_20211121105609_saved_model_after_fit/assets\n",
            "38 2 0.9667676958514919 0.9666666666666667 0.9666553260783729 0.9666666666666667\n",
            "INFO:tensorflow:Assets written to: /content/drive/MyDrive/data_papers/gpSVHN/model_finals/Collab_SFTMX1_SFTMX1_39-1_CNNDNN_A_20211121105646_saved_model_after_fit/assets\n",
            "39 2 0.9659609081722559 0.9659 0.9658783340592827 0.9659\n",
            "INFO:tensorflow:Assets written to: /content/drive/MyDrive/data_papers/gpSVHN/model_finals/Collab_SFTMX1_SFTMX1_40-0_CNNDNN_A_20211121105722_saved_model_after_fit/assets\n",
            "40 2 0.9661317346071314 0.9660333333333333 0.9660084263365895 0.9660333333333333\n"
          ]
        }
      ]
    },
    {
      "cell_type": "code",
      "metadata": {
        "id": "2iN0aQPfuPRg"
      },
      "source": [
        "cnn_dnn_contour_data.to_csv(f\"/content/drive/MyDrive/data_papers/{paper_name}/summary_results/cnn_dnn_contour_data_{datetime.datetime.now():%Y%m%d%H%M%S}.csv\")\n"
      ],
      "execution_count": null,
      "outputs": []
    },
    {
      "cell_type": "markdown",
      "metadata": {
        "id": "sddcE82tOFDm"
      },
      "source": [
        "# Data for Contour Plot on Collaborative CNN/DNN lastdense layers _In Progress_"
      ]
    },
    {
      "cell_type": "code",
      "metadata": {
        "id": "TuFWFx6YOFDn"
      },
      "source": [
        "import random\n",
        "import re\n",
        "\n",
        "def get_base_patterns_for_validation(features_files, layer_name = \"CLASSIFIER_D1\", model_type = \"WideResNet\"):\n",
        "  base_patterns_for_validations = []\n",
        "  for ff in [ s for s in features_files if \"Validation\" in s]:\n",
        "    validation_search = re.search(f'^.*({model_type}.*_ID.*features_{layer_name}_Validation)[0-9]+.*$', ff, re.IGNORECASE)\n",
        "    if validation_search:\n",
        "        base_patterns_for_validations.append(validation_search.group(1))\n",
        "\n",
        "  base_patterns_for_validations = sorted(list(set(base_patterns_for_validations)))\n",
        "  return base_patterns_for_validations\n",
        "\n"
      ],
      "execution_count": null,
      "outputs": []
    },
    {
      "cell_type": "code",
      "metadata": {
        "id": "QukEjJMcOFDn"
      },
      "source": [
        "# set up the combinations we are going to try\n",
        "# len(wideresnets_features_files)\n",
        "cnn_dnn_ld_contour_data = None"
      ],
      "execution_count": null,
      "outputs": []
    },
    {
      "cell_type": "code",
      "metadata": {
        "colab": {
          "base_uri": "https://localhost:8080/",
          "height": 1000
        },
        "id": "C6cY5BzAOFDn",
        "outputId": "f69a3f8c-29b3-4793-e2bd-bcac40437577"
      },
      "source": [
        "# set up the data for the DNN+CNN collaborative on lastdense layer\n",
        "import random\n",
        "layer_name_penultimate_cnn = \"DRP1\"\n",
        "layer_name_penultimate_dnn = \"D3R\"\n",
        "total_num_components = [25, 30, 35, 40] # [2,4,6,8,10,12,14,16,18,20]\n",
        "num_of_repeats = 2\n",
        "\n",
        "idxCount = 0 if cnn_dnn_ld_contour_data is None else len(cnn_dnn_ld_contour_data.index)\n",
        "\n",
        "for repc in range(num_of_repeats):\n",
        "  for component_count in total_num_components:\n",
        "    for num_of_models_cnn in range(component_count+1):\n",
        "      num_of_models_dnn = component_count - num_of_models_cnn\n",
        "\n",
        "      np_x_validation_collab_cnn, np_x_train_collab_cnn, np_x_test_collab_cnn = (None,None,None)\n",
        "      np_x_validation_collab_dnn, np_x_train_collab_dnn, np_x_test_collab_dnn = (None,None,None)\n",
        "      np_x_validation_collab_wrcdnn, np_x_train_collab_wrcdnn, np_x_test_collab_wrcdnn = (None, None, None)\n",
        "\n",
        "      if num_of_models_cnn > 0:\n",
        "        np_x_validation_collab_cnn, np_x_train_collab_cnn, np_x_test_collab_cnn = get_features_for_layer(cnn_features_files,layer_name_penultimate_cnn,num_of_models_cnn)\n",
        "\n",
        "      if num_of_models_dnn > 0:\n",
        "        np_x_validation_collab_dnn, np_x_train_collab_dnn, np_x_test_collab_dnn = get_features_for_layer(dnn_features_files,layer_name_penultimate_dnn,num_of_models_dnn)\n",
        "      \n",
        "      if num_of_models_cnn > 0 and num_of_models_dnn > 0:        \n",
        "        np_x_train_collab_wrcdnn = np.concatenate([np_x_train_collab_cnn,np_x_train_collab_dnn], axis=1)\n",
        "        np_x_validation_collab_wrcdnn = np.concatenate([np_x_validation_collab_cnn,np_x_validation_collab_dnn], axis=1)\n",
        "        np_x_test_collab_wrcdnn = np.concatenate([np_x_test_collab_cnn,np_x_test_collab_dnn], axis=1)\n",
        "      else: \n",
        "        if num_of_models_cnn == 0:\n",
        "          np_x_train_collab_wrcdnn = np_x_train_collab_dnn\n",
        "          np_x_validation_collab_wrcdnn = np_x_validation_collab_dnn\n",
        "          np_x_test_collab_wrcdnn = np_x_test_collab_dnn\n",
        "        if num_of_models_dnn == 0:\n",
        "          np_x_train_collab_wrcdnn = np_x_train_collab_cnn\n",
        "          np_x_validation_collab_wrcdnn = np_x_validation_collab_cnn\n",
        "          np_x_test_collab_wrcdnn = np_x_test_collab_cnn\n",
        "      \n",
        "      layer_name = f\"{layer_name_penultimate_cnn}_{layer_name_penultimate_dnn}_{str(num_of_models_cnn)}-{str(num_of_models_dnn)}\"\n",
        "      model_here, history_here = compile_and_fit_model_basic( model_combination_of_features_with_flatten,  \n",
        "                          f\"Collab_{layer_name}_CNNDNN_A_{datetime.datetime.now():%Y%m%d%H%M%S}\", \n",
        "                          np_x_train_collab_wrcdnn[0,:].shape, \n",
        "                          np_x_train_collab_wrcdnn, \n",
        "                          train_targets,\n",
        "                          save_max_epoch=False,\n",
        "                          save_final=True,\n",
        "                          patience_count = 35,\n",
        "                          early_stopping_obs = 'val_sparse_categorical_accuracy',\n",
        "                          log_history = True,\n",
        "                          verbose_level=0,                             \n",
        "                          batch_size=512, \n",
        "                          epochs=250, \n",
        "                          class_weight=None, \n",
        "                          validation_data=(np_x_validation_collab_wrcdnn, validation_targets))\n",
        "      del np_x_train_collab_wrcdnn\n",
        "      del np_x_validation_collab_wrcdnn\n",
        "      del np_x_validation_collab_cnn\n",
        "      del np_x_train_collab_cnn\n",
        "      del np_x_validation_collab_dnn\n",
        "      del np_x_train_collab_dnn\n",
        "      \n",
        "      y_pred_model = model_here.predict(np_x_test_collab_wrcdnn)\n",
        "      del np_x_test_collab_cnn\n",
        "      del np_x_test_collab_dnn\n",
        "      del np_x_test_collab_wrcdnn\n",
        "\n",
        "      y_pred = np.apply_along_axis(np.argmax, 1, y_pred_model) \n",
        "      pr, rc, f1, acc = pr_rc_f1_acc_from_supplied(y_pred,test_targets)\n",
        "      print (num_of_models_cnn, repc, pr, rc, f1, acc)\n",
        "      del model_here\n",
        "      del history_here\n",
        "      if cnn_dnn_ld_contour_data is None:\n",
        "        cnn_dnn_ld_contour_data = pd.DataFrame({\"TypeA\": \"CNN\", \n",
        "                                                    \"TypeB\": \"DNN\", \n",
        "                                                    \"Data\" : \"Test\",\n",
        "                                                    \"NumOfA\": num_of_models_cnn, \n",
        "                                                    \"NumOfB\": num_of_models_dnn, \n",
        "                                                    \"Layer\": \"LastDense\",\n",
        "                                                    \"RepC\": repc, \n",
        "                                                    \"Pr\": pr,\n",
        "                                                    \"Rc\": rc,\n",
        "                                                    \"F1\": f1,\n",
        "                                                    \"Acc\": acc,\n",
        "                                                    }, index = [idxCount])\n",
        "      else:\n",
        "        cnn_dnn_ld_contour_data = pd.concat([cnn_dnn_ld_contour_data,\n",
        "                                          pd.DataFrame({\"TypeA\": \"CNN\", \n",
        "                                              \"TypeB\": \"DNN\", \n",
        "                                              \"Data\" : \"Test\",\n",
        "                                              \"NumOfA\": num_of_models_cnn, \n",
        "                                              \"NumOfB\": num_of_models_dnn, \n",
        "                                              \"Layer\": \"LastDense\",\n",
        "                                              \"RepC\": repc, \n",
        "                                              \"Pr\": pr,\n",
        "                                              \"Rc\": rc,\n",
        "                                              \"F1\": f1,\n",
        "                                              \"Acc\": acc\n",
        "                                              }, index = [idxCount])\n",
        "                                          ])\n",
        "      idxCount = idxCount + 1\n",
        "    cnn_dnn_ld_contour_data.to_csv(f\"/content/drive/MyDrive/data_papers/{paper_name}/summary_results/temp/cnn_dnn_ldtemp_contour_data_{datetime.datetime.now():%Y%m%d%H%M%S}.csv\")\n",
        "    \n"
      ],
      "execution_count": null,
      "outputs": [
        {
          "output_type": "stream",
          "name": "stdout",
          "text": [
            "INFO:tensorflow:Assets written to: /content/drive/MyDrive/data_papers/gpSVHN/model_finals/Collab_DRP1_D3R_0-25_CNNDNN_A_20211122124320_saved_model_after_fit/assets\n",
            "0 0 0.9078859947925303 0.9078333333333334 0.9077592027272374 0.9078333333333334\n",
            "INFO:tensorflow:Assets written to: /content/drive/MyDrive/data_papers/gpSVHN/model_finals/Collab_DRP1_D3R_1-24_CNNDNN_A_20211122124542_saved_model_after_fit/assets\n",
            "1 0 0.9442715105827376 0.9442 0.944193419101919 0.9442\n",
            "INFO:tensorflow:Assets written to: /content/drive/MyDrive/data_papers/gpSVHN/model_finals/Collab_DRP1_D3R_2-23_CNNDNN_A_20211122124702_saved_model_after_fit/assets\n",
            "2 0 0.9525755659469545 0.9525333333333333 0.9525075996762754 0.9525333333333333\n",
            "INFO:tensorflow:Assets written to: /content/drive/MyDrive/data_papers/gpSVHN/model_finals/Collab_DRP1_D3R_3-22_CNNDNN_A_20211122124828_saved_model_after_fit/assets\n",
            "3 0 0.9562041545120804 0.9561 0.9560829678430431 0.9561\n",
            "INFO:tensorflow:Assets written to: /content/drive/MyDrive/data_papers/gpSVHN/model_finals/Collab_DRP1_D3R_4-21_CNNDNN_A_20211122125013_saved_model_after_fit/assets\n",
            "4 0 0.959707185058383 0.9596666666666667 0.9596417803792407 0.9596666666666667\n",
            "INFO:tensorflow:Assets written to: /content/drive/MyDrive/data_papers/gpSVHN/model_finals/Collab_DRP1_D3R_5-20_CNNDNN_A_20211122125150_saved_model_after_fit/assets\n",
            "5 0 0.9623879269427716 0.9623666666666667 0.9623479304052012 0.9623666666666667\n",
            "INFO:tensorflow:Assets written to: /content/drive/MyDrive/data_papers/gpSVHN/model_finals/Collab_DRP1_D3R_6-19_CNNDNN_A_20211122125334_saved_model_after_fit/assets\n",
            "6 0 0.96218739516759 0.9620333333333333 0.9620227723649274 0.9620333333333333\n",
            "INFO:tensorflow:Assets written to: /content/drive/MyDrive/data_papers/gpSVHN/model_finals/Collab_DRP1_D3R_7-18_CNNDNN_A_20211122125522_saved_model_after_fit/assets\n",
            "7 0 0.9638126262076676 0.9637333333333333 0.9637000000118532 0.9637333333333333\n",
            "INFO:tensorflow:Assets written to: /content/drive/MyDrive/data_papers/gpSVHN/model_finals/Collab_DRP1_D3R_8-17_CNNDNN_A_20211122125634_saved_model_after_fit/assets\n",
            "8 0 0.9649177927873457 0.9649 0.9648791374609962 0.9649\n",
            "INFO:tensorflow:Assets written to: /content/drive/MyDrive/data_papers/gpSVHN/model_finals/Collab_DRP1_D3R_9-16_CNNDNN_A_20211122125758_saved_model_after_fit/assets\n",
            "9 0 0.9635352201054508 0.9635 0.9634820317100234 0.9635\n",
            "INFO:tensorflow:Assets written to: /content/drive/MyDrive/data_papers/gpSVHN/model_finals/Collab_DRP1_D3R_10-15_CNNDNN_A_20211122125939_saved_model_after_fit/assets\n",
            "10 0 0.96380964678516 0.9636333333333333 0.9636109065146122 0.9636333333333333\n",
            "INFO:tensorflow:Assets written to: /content/drive/MyDrive/data_papers/gpSVHN/model_finals/Collab_DRP1_D3R_11-14_CNNDNN_A_20211122130130_saved_model_after_fit/assets\n",
            "11 0 0.9646361438409113 0.9645333333333334 0.9645129473821741 0.9645333333333334\n",
            "INFO:tensorflow:Assets written to: /content/drive/MyDrive/data_papers/gpSVHN/model_finals/Collab_DRP1_D3R_12-13_CNNDNN_A_20211122130317_saved_model_after_fit/assets\n",
            "12 0 0.964311036673626 0.9642333333333334 0.964203335232812 0.9642333333333334\n",
            "INFO:tensorflow:Assets written to: /content/drive/MyDrive/data_papers/gpSVHN/model_finals/Collab_DRP1_D3R_13-12_CNNDNN_A_20211122130550_saved_model_after_fit/assets\n",
            "13 0 0.9659938240850405 0.9659333333333333 0.9659217315047235 0.9659333333333333\n",
            "INFO:tensorflow:Assets written to: /content/drive/MyDrive/data_papers/gpSVHN/model_finals/Collab_DRP1_D3R_14-11_CNNDNN_A_20211122130812_saved_model_after_fit/assets\n",
            "14 0 0.9652117653616393 0.9651 0.9650784693098806 0.9651\n",
            "INFO:tensorflow:Assets written to: /content/drive/MyDrive/data_papers/gpSVHN/model_finals/Collab_DRP1_D3R_15-10_CNNDNN_A_20211122130959_saved_model_after_fit/assets\n",
            "15 0 0.9665326063226438 0.9665 0.9664804223289044 0.9665\n",
            "INFO:tensorflow:Assets written to: /content/drive/MyDrive/data_papers/gpSVHN/model_finals/Collab_DRP1_D3R_16-9_CNNDNN_A_20211122131205_saved_model_after_fit/assets\n",
            "16 0 0.9660241481776447 0.966 0.965982506815294 0.966\n",
            "INFO:tensorflow:Assets written to: /content/drive/MyDrive/data_papers/gpSVHN/model_finals/Collab_DRP1_D3R_17-8_CNNDNN_A_20211122131425_saved_model_after_fit/assets\n",
            "17 0 0.9668310219829589 0.9667666666666667 0.9667418415164403 0.9667666666666667\n",
            "INFO:tensorflow:Assets written to: /content/drive/MyDrive/data_papers/gpSVHN/model_finals/Collab_DRP1_D3R_18-7_CNNDNN_A_20211122131650_saved_model_after_fit/assets\n",
            "18 0 0.9661533599039142 0.9661 0.9660783319502063 0.9661\n",
            "INFO:tensorflow:Assets written to: /content/drive/MyDrive/data_papers/gpSVHN/model_finals/Collab_DRP1_D3R_19-6_CNNDNN_A_20211122131922_saved_model_after_fit/assets\n",
            "19 0 0.9663168949930249 0.9663 0.9662823346279291 0.9663\n",
            "INFO:tensorflow:Assets written to: /content/drive/MyDrive/data_papers/gpSVHN/model_finals/Collab_DRP1_D3R_20-5_CNNDNN_A_20211122132133_saved_model_after_fit/assets\n",
            "20 0 0.9667389543965429 0.9667333333333333 0.9667213105252371 0.9667333333333333\n",
            "INFO:tensorflow:Assets written to: /content/drive/MyDrive/data_papers/gpSVHN/model_finals/Collab_DRP1_D3R_21-4_CNNDNN_A_20211122132454_saved_model_after_fit/assets\n",
            "21 0 0.9675232136387469 0.9674666666666667 0.9674499936972899 0.9674666666666667\n",
            "INFO:tensorflow:Assets written to: /content/drive/MyDrive/data_papers/gpSVHN/model_finals/Collab_DRP1_D3R_22-3_CNNDNN_A_20211122132718_saved_model_after_fit/assets\n",
            "22 0 0.9671040135742718 0.9670333333333333 0.9670182283156241 0.9670333333333333\n",
            "INFO:tensorflow:Assets written to: /content/drive/MyDrive/data_papers/gpSVHN/model_finals/Collab_DRP1_D3R_23-2_CNNDNN_A_20211122132952_saved_model_after_fit/assets\n",
            "23 0 0.966717095522855 0.9667 0.966682405439982 0.9667\n",
            "INFO:tensorflow:Assets written to: /content/drive/MyDrive/data_papers/gpSVHN/model_finals/Collab_DRP1_D3R_24-1_CNNDNN_A_20211122133217_saved_model_after_fit/assets\n",
            "24 0 0.9670932781993787 0.9670666666666666 0.9670488988083106 0.9670666666666666\n",
            "INFO:tensorflow:Assets written to: /content/drive/MyDrive/data_papers/gpSVHN/model_finals/Collab_DRP1_D3R_25-0_CNNDNN_A_20211122133450_saved_model_after_fit/assets\n",
            "25 0 0.966710420254177 0.9667 0.9666826025802667 0.9667\n",
            "INFO:tensorflow:Assets written to: /content/drive/MyDrive/data_papers/gpSVHN/model_finals/Collab_DRP1_D3R_0-30_CNNDNN_A_20211122133640_saved_model_after_fit/assets\n",
            "0 0 0.9090535168203808 0.9086333333333333 0.9085554091071069 0.9086333333333333\n",
            "INFO:tensorflow:Assets written to: /content/drive/MyDrive/data_papers/gpSVHN/model_finals/Collab_DRP1_D3R_1-29_CNNDNN_A_20211122133806_saved_model_after_fit/assets\n",
            "1 0 0.9449999986095425 0.9449333333333333 0.9448669285104745 0.9449333333333333\n",
            "INFO:tensorflow:Assets written to: /content/drive/MyDrive/data_papers/gpSVHN/model_finals/Collab_DRP1_D3R_2-28_CNNDNN_A_20211122133855_saved_model_after_fit/assets\n",
            "2 0 0.9524026271712391 0.9522666666666667 0.9522587696145217 0.9522666666666667\n",
            "INFO:tensorflow:Assets written to: /content/drive/MyDrive/data_papers/gpSVHN/model_finals/Collab_DRP1_D3R_3-27_CNNDNN_A_20211122133939_saved_model_after_fit/assets\n",
            "3 0 0.9557943039924939 0.9557333333333333 0.9556993393971384 0.9557333333333333\n",
            "INFO:tensorflow:Assets written to: /content/drive/MyDrive/data_papers/gpSVHN/model_finals/Collab_DRP1_D3R_4-26_CNNDNN_A_20211122134038_saved_model_after_fit/assets\n",
            "4 0 0.9601412310141624 0.9599666666666666 0.9599703628169345 0.9599666666666666\n",
            "INFO:tensorflow:Assets written to: /content/drive/MyDrive/data_papers/gpSVHN/model_finals/Collab_DRP1_D3R_5-25_CNNDNN_A_20211122134152_saved_model_after_fit/assets\n",
            "5 0 0.9599940510635055 0.9599666666666666 0.9599327288189579 0.9599666666666666\n",
            "INFO:tensorflow:Assets written to: /content/drive/MyDrive/data_papers/gpSVHN/model_finals/Collab_DRP1_D3R_6-24_CNNDNN_A_20211122134257_saved_model_after_fit/assets\n",
            "6 0 0.9620028609509462 0.9619666666666666 0.9619609074503261 0.9619666666666666\n",
            "INFO:tensorflow:Assets written to: /content/drive/MyDrive/data_papers/gpSVHN/model_finals/Collab_DRP1_D3R_7-23_CNNDNN_A_20211122134404_saved_model_after_fit/assets\n",
            "7 0 0.9630750857118455 0.9629333333333333 0.9629218142625283 0.9629333333333333\n",
            "INFO:tensorflow:Assets written to: /content/drive/MyDrive/data_papers/gpSVHN/model_finals/Collab_DRP1_D3R_8-22_CNNDNN_A_20211122134525_saved_model_after_fit/assets\n",
            "8 0 0.9632076685573668 0.9631333333333333 0.9631082904514776 0.9631333333333333\n",
            "INFO:tensorflow:Assets written to: /content/drive/MyDrive/data_papers/gpSVHN/model_finals/Collab_DRP1_D3R_9-21_CNNDNN_A_20211122134705_saved_model_after_fit/assets\n",
            "9 0 0.9634763608392631 0.9634333333333334 0.9634297264988237 0.9634333333333334\n",
            "INFO:tensorflow:Assets written to: /content/drive/MyDrive/data_papers/gpSVHN/model_finals/Collab_DRP1_D3R_10-20_CNNDNN_A_20211122134849_saved_model_after_fit/assets\n",
            "10 0 0.9639612633258998 0.9639333333333333 0.9639033187445426 0.9639333333333333\n",
            "INFO:tensorflow:Assets written to: /content/drive/MyDrive/data_papers/gpSVHN/model_finals/Collab_DRP1_D3R_11-19_CNNDNN_A_20211122135052_saved_model_after_fit/assets\n",
            "11 0 0.9647542205065601 0.9647 0.9646740342326724 0.9647\n",
            "INFO:tensorflow:Assets written to: /content/drive/MyDrive/data_papers/gpSVHN/model_finals/Collab_DRP1_D3R_12-18_CNNDNN_A_20211122135242_saved_model_after_fit/assets\n",
            "12 0 0.9654738518870165 0.9654666666666667 0.9654515708411565 0.9654666666666667\n",
            "INFO:tensorflow:Assets written to: /content/drive/MyDrive/data_papers/gpSVHN/model_finals/Collab_DRP1_D3R_13-17_CNNDNN_A_20211122135414_saved_model_after_fit/assets\n",
            "13 0 0.966604770411167 0.9666 0.966579111347195 0.9666\n",
            "INFO:tensorflow:Assets written to: /content/drive/MyDrive/data_papers/gpSVHN/model_finals/Collab_DRP1_D3R_14-16_CNNDNN_A_20211122135606_saved_model_after_fit/assets\n",
            "14 0 0.9672468883098021 0.9672 0.9671910001614712 0.9672\n",
            "INFO:tensorflow:Assets written to: /content/drive/MyDrive/data_papers/gpSVHN/model_finals/Collab_DRP1_D3R_15-15_CNNDNN_A_20211122135832_saved_model_after_fit/assets\n",
            "15 0 0.9653610898201852 0.9653666666666667 0.9653480641286815 0.9653666666666667\n",
            "INFO:tensorflow:Assets written to: /content/drive/MyDrive/data_papers/gpSVHN/model_finals/Collab_DRP1_D3R_16-14_CNNDNN_A_20211122140007_saved_model_after_fit/assets\n",
            "16 0 0.9660965187939066 0.9660333333333333 0.9660211327349328 0.9660333333333333\n",
            "INFO:tensorflow:Assets written to: /content/drive/MyDrive/data_papers/gpSVHN/model_finals/Collab_DRP1_D3R_17-13_CNNDNN_A_20211122140200_saved_model_after_fit/assets\n",
            "17 0 0.966460169211462 0.9664333333333334 0.9664039185722016 0.9664333333333334\n",
            "INFO:tensorflow:Assets written to: /content/drive/MyDrive/data_papers/gpSVHN/model_finals/Collab_DRP1_D3R_18-12_CNNDNN_A_20211122140436_saved_model_after_fit/assets\n",
            "18 0 0.9667881418188856 0.9667666666666667 0.9667314856030398 0.9667666666666667\n",
            "INFO:tensorflow:Assets written to: /content/drive/MyDrive/data_papers/gpSVHN/model_finals/Collab_DRP1_D3R_19-11_CNNDNN_A_20211122140642_saved_model_after_fit/assets\n",
            "19 0 0.9672687511864173 0.9672333333333333 0.9672181776686645 0.9672333333333333\n",
            "INFO:tensorflow:Assets written to: /content/drive/MyDrive/data_papers/gpSVHN/model_finals/Collab_DRP1_D3R_20-10_CNNDNN_A_20211122140912_saved_model_after_fit/assets\n",
            "20 0 0.9651756423308754 0.9651333333333333 0.9651045343345612 0.9651333333333333\n",
            "INFO:tensorflow:Assets written to: /content/drive/MyDrive/data_papers/gpSVHN/model_finals/Collab_DRP1_D3R_21-9_CNNDNN_A_20211122141149_saved_model_after_fit/assets\n",
            "21 0 0.9663365593112515 0.9662666666666667 0.9662436869899635 0.9662666666666667\n",
            "INFO:tensorflow:Assets written to: /content/drive/MyDrive/data_papers/gpSVHN/model_finals/Collab_DRP1_D3R_22-8_CNNDNN_A_20211122141404_saved_model_after_fit/assets\n",
            "22 0 0.9668614225280445 0.9668333333333333 0.9668173195351855 0.9668333333333333\n",
            "INFO:tensorflow:Assets written to: /content/drive/MyDrive/data_papers/gpSVHN/model_finals/Collab_DRP1_D3R_23-7_CNNDNN_A_20211122141607_saved_model_after_fit/assets\n",
            "23 0 0.9665083346075133 0.9663 0.9663023187106795 0.9663\n",
            "INFO:tensorflow:Assets written to: /content/drive/MyDrive/data_papers/gpSVHN/model_finals/Collab_DRP1_D3R_24-6_CNNDNN_A_20211122141912_saved_model_after_fit/assets\n",
            "24 0 0.9669946855207562 0.9669666666666666 0.9669445281401737 0.9669666666666666\n",
            "INFO:tensorflow:Assets written to: /content/drive/MyDrive/data_papers/gpSVHN/model_finals/Collab_DRP1_D3R_25-5_CNNDNN_A_20211122142314_saved_model_after_fit/assets\n",
            "25 0 0.9669613146321223 0.9669 0.9668865516955718 0.9669\n",
            "INFO:tensorflow:Assets written to: /content/drive/MyDrive/data_papers/gpSVHN/model_finals/Collab_DRP1_D3R_26-4_CNNDNN_A_20211122142635_saved_model_after_fit/assets\n",
            "26 0 0.9682151699218314 0.9681333333333333 0.9681337783946122 0.9681333333333333\n",
            "INFO:tensorflow:Assets written to: /content/drive/MyDrive/data_papers/gpSVHN/model_finals/Collab_DRP1_D3R_27-3_CNNDNN_A_20211122142932_saved_model_after_fit/assets\n",
            "27 0 0.9669733026510345 0.9668333333333333 0.9668174215957763 0.9668333333333333\n",
            "INFO:tensorflow:Assets written to: /content/drive/MyDrive/data_papers/gpSVHN/model_finals/Collab_DRP1_D3R_28-2_CNNDNN_A_20211122143311_saved_model_after_fit/assets\n",
            "28 0 0.9672819750713775 0.9672 0.9671874208379027 0.9672\n",
            "INFO:tensorflow:Assets written to: /content/drive/MyDrive/data_papers/gpSVHN/model_finals/Collab_DRP1_D3R_29-1_CNNDNN_A_20211122143715_saved_model_after_fit/assets\n",
            "29 0 0.967361439496066 0.9673333333333334 0.9673091993644755 0.9673333333333334\n",
            "INFO:tensorflow:Assets written to: /content/drive/MyDrive/data_papers/gpSVHN/model_finals/Collab_DRP1_D3R_30-0_CNNDNN_A_20211122144030_saved_model_after_fit/assets\n",
            "30 0 0.9683582792268463 0.9683333333333334 0.9683130875161361 0.9683333333333334\n",
            "INFO:tensorflow:Assets written to: /content/drive/MyDrive/data_papers/gpSVHN/model_finals/Collab_DRP1_D3R_0-35_CNNDNN_A_20211122144231_saved_model_after_fit/assets\n",
            "0 0 0.911121121390421 0.9109 0.9108402992721579 0.9109\n",
            "INFO:tensorflow:Assets written to: /content/drive/MyDrive/data_papers/gpSVHN/model_finals/Collab_DRP1_D3R_1-34_CNNDNN_A_20211122144418_saved_model_after_fit/assets\n",
            "1 0 0.9436903308637897 0.9436666666666667 0.943594883767229 0.9436666666666667\n",
            "INFO:tensorflow:Assets written to: /content/drive/MyDrive/data_papers/gpSVHN/model_finals/Collab_DRP1_D3R_2-33_CNNDNN_A_20211122144521_saved_model_after_fit/assets\n",
            "2 0 0.9515247980537491 0.9514 0.9513695270271858 0.9514\n",
            "INFO:tensorflow:Assets written to: /content/drive/MyDrive/data_papers/gpSVHN/model_finals/Collab_DRP1_D3R_3-32_CNNDNN_A_20211122144630_saved_model_after_fit/assets\n",
            "3 0 0.9593272218358169 0.9592666666666667 0.959238204339038 0.9592666666666667\n",
            "INFO:tensorflow:Assets written to: /content/drive/MyDrive/data_papers/gpSVHN/model_finals/Collab_DRP1_D3R_4-31_CNNDNN_A_20211122144732_saved_model_after_fit/assets\n",
            "4 0 0.961029131511347 0.961 0.9609779884449604 0.961\n",
            "INFO:tensorflow:Assets written to: /content/drive/MyDrive/data_papers/gpSVHN/model_finals/Collab_DRP1_D3R_5-30_CNNDNN_A_20211122144838_saved_model_after_fit/assets\n",
            "5 0 0.9630772834819178 0.9630333333333333 0.9630029073719557 0.9630333333333333\n",
            "INFO:tensorflow:Assets written to: /content/drive/MyDrive/data_papers/gpSVHN/model_finals/Collab_DRP1_D3R_6-29_CNNDNN_A_20211122144952_saved_model_after_fit/assets\n",
            "6 0 0.9631303987899502 0.9631 0.9630761834417753 0.9631\n",
            "INFO:tensorflow:Assets written to: /content/drive/MyDrive/data_papers/gpSVHN/model_finals/Collab_DRP1_D3R_7-28_CNNDNN_A_20211122145119_saved_model_after_fit/assets\n",
            "7 0 0.9629161015110177 0.9628333333333333 0.9628131684833321 0.9628333333333333\n",
            "INFO:tensorflow:Assets written to: /content/drive/MyDrive/data_papers/gpSVHN/model_finals/Collab_DRP1_D3R_8-27_CNNDNN_A_20211122145252_saved_model_after_fit/assets\n",
            "8 0 0.9646625220147232 0.9646 0.9645793313605237 0.9646\n",
            "INFO:tensorflow:Assets written to: /content/drive/MyDrive/data_papers/gpSVHN/model_finals/Collab_DRP1_D3R_9-26_CNNDNN_A_20211122145420_saved_model_after_fit/assets\n",
            "9 0 0.9652634610649244 0.9652666666666667 0.9652511059218367 0.9652666666666667\n",
            "INFO:tensorflow:Assets written to: /content/drive/MyDrive/data_papers/gpSVHN/model_finals/Collab_DRP1_D3R_10-25_CNNDNN_A_20211122145553_saved_model_after_fit/assets\n",
            "10 0 0.9632624768009771 0.9632 0.9631962466481191 0.9632\n",
            "INFO:tensorflow:Assets written to: /content/drive/MyDrive/data_papers/gpSVHN/model_finals/Collab_DRP1_D3R_11-24_CNNDNN_A_20211122145701_saved_model_after_fit/assets\n",
            "11 0 0.9648670436505895 0.9648 0.9647846169128184 0.9648\n",
            "INFO:tensorflow:Assets written to: /content/drive/MyDrive/data_papers/gpSVHN/model_finals/Collab_DRP1_D3R_12-23_CNNDNN_A_20211122145843_saved_model_after_fit/assets\n",
            "12 0 0.9672168146396707 0.9671333333333333 0.9671356271610073 0.9671333333333333\n",
            "INFO:tensorflow:Assets written to: /content/drive/MyDrive/data_papers/gpSVHN/model_finals/Collab_DRP1_D3R_13-22_CNNDNN_A_20211122150014_saved_model_after_fit/assets\n",
            "13 0 0.9661145758462374 0.9661 0.9660775085241433 0.9661\n",
            "INFO:tensorflow:Assets written to: /content/drive/MyDrive/data_papers/gpSVHN/model_finals/Collab_DRP1_D3R_14-21_CNNDNN_A_20211122150211_saved_model_after_fit/assets\n",
            "14 0 0.9658493750599216 0.9658333333333333 0.9658120774150853 0.9658333333333333\n",
            "INFO:tensorflow:Assets written to: /content/drive/MyDrive/data_papers/gpSVHN/model_finals/Collab_DRP1_D3R_15-20_CNNDNN_A_20211122150407_saved_model_after_fit/assets\n",
            "15 0 0.9663606394621068 0.9663333333333334 0.9663224217317711 0.9663333333333334\n",
            "INFO:tensorflow:Assets written to: /content/drive/MyDrive/data_papers/gpSVHN/model_finals/Collab_DRP1_D3R_16-19_CNNDNN_A_20211122150608_saved_model_after_fit/assets\n",
            "16 0 0.9651544388483747 0.9650333333333333 0.9650068656208928 0.9650333333333333\n",
            "INFO:tensorflow:Assets written to: /content/drive/MyDrive/data_papers/gpSVHN/model_finals/Collab_DRP1_D3R_17-18_CNNDNN_A_20211122150842_saved_model_after_fit/assets\n",
            "17 0 0.9665803955339662 0.9665666666666667 0.966544944300864 0.9665666666666667\n",
            "INFO:tensorflow:Assets written to: /content/drive/MyDrive/data_papers/gpSVHN/model_finals/Collab_DRP1_D3R_18-17_CNNDNN_A_20211122151128_saved_model_after_fit/assets\n",
            "18 0 0.9664370130359591 0.9663666666666667 0.9663543789051551 0.9663666666666667\n",
            "INFO:tensorflow:Assets written to: /content/drive/MyDrive/data_papers/gpSVHN/model_finals/Collab_DRP1_D3R_19-16_CNNDNN_A_20211122151330_saved_model_after_fit/assets\n",
            "19 0 0.966607512030194 0.9665666666666667 0.96655994891452 0.9665666666666667\n",
            "INFO:tensorflow:Assets written to: /content/drive/MyDrive/data_papers/gpSVHN/model_finals/Collab_DRP1_D3R_20-15_CNNDNN_A_20211122151546_saved_model_after_fit/assets\n",
            "20 0 0.96669268615477 0.9666666666666667 0.96664224249203 0.9666666666666667\n",
            "INFO:tensorflow:Assets written to: /content/drive/MyDrive/data_papers/gpSVHN/model_finals/Collab_DRP1_D3R_21-14_CNNDNN_A_20211122151820_saved_model_after_fit/assets\n",
            "21 0 0.9663640051152842 0.9663333333333334 0.9663182576430788 0.9663333333333334\n",
            "INFO:tensorflow:Assets written to: /content/drive/MyDrive/data_papers/gpSVHN/model_finals/Collab_DRP1_D3R_22-13_CNNDNN_A_20211122152054_saved_model_after_fit/assets\n",
            "22 0 0.9667144852807916 0.9667 0.9666758629755876 0.9667\n",
            "INFO:tensorflow:Assets written to: /content/drive/MyDrive/data_papers/gpSVHN/model_finals/Collab_DRP1_D3R_23-12_CNNDNN_A_20211122152311_saved_model_after_fit/assets\n",
            "23 0 0.9678668529479623 0.9678333333333333 0.9678192600908118 0.9678333333333333\n",
            "INFO:tensorflow:Assets written to: /content/drive/MyDrive/data_papers/gpSVHN/model_finals/Collab_DRP1_D3R_24-11_CNNDNN_A_20211122152606_saved_model_after_fit/assets\n",
            "24 0 0.9677083130127729 0.9677 0.9676815015887635 0.9677\n",
            "INFO:tensorflow:Assets written to: /content/drive/MyDrive/data_papers/gpSVHN/model_finals/Collab_DRP1_D3R_25-10_CNNDNN_A_20211122152903_saved_model_after_fit/assets\n",
            "25 0 0.9675639821589117 0.9675333333333334 0.967517162754277 0.9675333333333334\n",
            "INFO:tensorflow:Assets written to: /content/drive/MyDrive/data_papers/gpSVHN/model_finals/Collab_DRP1_D3R_26-9_CNNDNN_A_20211122153235_saved_model_after_fit/assets\n",
            "26 0 0.9680333846185037 0.968 0.9679927364560297 0.968\n",
            "INFO:tensorflow:Assets written to: /content/drive/MyDrive/data_papers/gpSVHN/model_finals/Collab_DRP1_D3R_27-8_CNNDNN_A_20211122153526_saved_model_after_fit/assets\n",
            "27 0 0.9668890727046549 0.9668666666666667 0.96685483060792 0.9668666666666667\n",
            "INFO:tensorflow:Assets written to: /content/drive/MyDrive/data_papers/gpSVHN/model_finals/Collab_DRP1_D3R_28-7_CNNDNN_A_20211122153841_saved_model_after_fit/assets\n",
            "28 0 0.967264441319494 0.9672333333333333 0.9672189389627709 0.9672333333333333\n",
            "INFO:tensorflow:Assets written to: /content/drive/MyDrive/data_papers/gpSVHN/model_finals/Collab_DRP1_D3R_29-6_CNNDNN_A_20211122154216_saved_model_after_fit/assets\n",
            "29 0 0.9673593699031158 0.9672666666666667 0.9672569429218932 0.9672666666666667\n",
            "INFO:tensorflow:Assets written to: /content/drive/MyDrive/data_papers/gpSVHN/model_finals/Collab_DRP1_D3R_30-5_CNNDNN_A_20211122154518_saved_model_after_fit/assets\n",
            "30 0 0.9670350387923766 0.967 0.9669785552177322 0.967\n",
            "INFO:tensorflow:Assets written to: /content/drive/MyDrive/data_papers/gpSVHN/model_finals/Collab_DRP1_D3R_31-4_CNNDNN_A_20211122154849_saved_model_after_fit/assets\n",
            "31 0 0.9677705720496899 0.9677333333333333 0.9677106583665162 0.9677333333333333\n",
            "INFO:tensorflow:Assets written to: /content/drive/MyDrive/data_papers/gpSVHN/model_finals/Collab_DRP1_D3R_32-3_CNNDNN_A_20211122155225_saved_model_after_fit/assets\n",
            "32 0 0.9668075639246472 0.9667666666666667 0.9667607280263666 0.9667666666666667\n"
          ]
        },
        {
          "output_type": "error",
          "ename": "InternalError",
          "evalue": "ignored",
          "traceback": [
            "\u001b[0;31m---------------------------------------------------------------------------\u001b[0m",
            "\u001b[0;31mInternalError\u001b[0m                             Traceback (most recent call last)",
            "\u001b[0;32m<ipython-input-39-968300bff9e0>\u001b[0m in \u001b[0;36m<module>\u001b[0;34m()\u001b[0m\n\u001b[1;32m     52\u001b[0m                           \u001b[0mepochs\u001b[0m\u001b[0;34m=\u001b[0m\u001b[0;36m250\u001b[0m\u001b[0;34m,\u001b[0m\u001b[0;34m\u001b[0m\u001b[0;34m\u001b[0m\u001b[0m\n\u001b[1;32m     53\u001b[0m                           \u001b[0mclass_weight\u001b[0m\u001b[0;34m=\u001b[0m\u001b[0;32mNone\u001b[0m\u001b[0;34m,\u001b[0m\u001b[0;34m\u001b[0m\u001b[0;34m\u001b[0m\u001b[0m\n\u001b[0;32m---> 54\u001b[0;31m                           validation_data=(np_x_validation_collab_wrcdnn, validation_targets))\n\u001b[0m\u001b[1;32m     55\u001b[0m       \u001b[0;32mdel\u001b[0m \u001b[0mnp_x_train_collab_wrcdnn\u001b[0m\u001b[0;34m\u001b[0m\u001b[0;34m\u001b[0m\u001b[0m\n\u001b[1;32m     56\u001b[0m       \u001b[0;32mdel\u001b[0m \u001b[0mnp_x_validation_collab_wrcdnn\u001b[0m\u001b[0;34m\u001b[0m\u001b[0;34m\u001b[0m\u001b[0m\n",
            "\u001b[0;32m<ipython-input-23-633f1114e7bd>\u001b[0m in \u001b[0;36mcompile_and_fit_model_basic\u001b[0;34m(model_func, model_name, input_shape, X_train, Y_train, save_max_epoch, save_final, patience_count, early_stopping_obs, log_history, verbose_level, **kwargs)\u001b[0m\n\u001b[1;32m     41\u001b[0m               metrics=[tf.keras.metrics.SparseCategoricalAccuracy()])\n\u001b[1;32m     42\u001b[0m \u001b[0;34m\u001b[0m\u001b[0m\n\u001b[0;32m---> 43\u001b[0;31m     \u001b[0mhistory\u001b[0m \u001b[0;34m=\u001b[0m \u001b[0mm\u001b[0m\u001b[0;34m.\u001b[0m\u001b[0mfit\u001b[0m\u001b[0;34m(\u001b[0m\u001b[0mX_train\u001b[0m\u001b[0;34m,\u001b[0m \u001b[0mY_train\u001b[0m\u001b[0;34m,\u001b[0m \u001b[0mcallbacks\u001b[0m\u001b[0;34m=\u001b[0m\u001b[0mcallbacks_used\u001b[0m\u001b[0;34m,\u001b[0m \u001b[0mverbose\u001b[0m\u001b[0;34m=\u001b[0m\u001b[0mverbose_level\u001b[0m\u001b[0;34m,\u001b[0m \u001b[0;34m**\u001b[0m\u001b[0mkwargs\u001b[0m\u001b[0;34m)\u001b[0m\u001b[0;34m\u001b[0m\u001b[0;34m\u001b[0m\u001b[0m\n\u001b[0m\u001b[1;32m     44\u001b[0m     \u001b[0;32mif\u001b[0m \u001b[0msave_final\u001b[0m\u001b[0;34m:\u001b[0m\u001b[0;34m\u001b[0m\u001b[0;34m\u001b[0m\u001b[0m\n\u001b[1;32m     45\u001b[0m         \u001b[0mmake_dir_if_not_exist\u001b[0m\u001b[0;34m(\u001b[0m\u001b[0mmodel_name\u001b[0m\u001b[0;34m)\u001b[0m\u001b[0;34m\u001b[0m\u001b[0;34m\u001b[0m\u001b[0m\n",
            "\u001b[0;32m/usr/local/lib/python3.7/dist-packages/keras/utils/traceback_utils.py\u001b[0m in \u001b[0;36merror_handler\u001b[0;34m(*args, **kwargs)\u001b[0m\n\u001b[1;32m     65\u001b[0m     \u001b[0;32mexcept\u001b[0m \u001b[0mException\u001b[0m \u001b[0;32mas\u001b[0m \u001b[0me\u001b[0m\u001b[0;34m:\u001b[0m  \u001b[0;31m# pylint: disable=broad-except\u001b[0m\u001b[0;34m\u001b[0m\u001b[0;34m\u001b[0m\u001b[0m\n\u001b[1;32m     66\u001b[0m       \u001b[0mfiltered_tb\u001b[0m \u001b[0;34m=\u001b[0m \u001b[0m_process_traceback_frames\u001b[0m\u001b[0;34m(\u001b[0m\u001b[0me\u001b[0m\u001b[0;34m.\u001b[0m\u001b[0m__traceback__\u001b[0m\u001b[0;34m)\u001b[0m\u001b[0;34m\u001b[0m\u001b[0;34m\u001b[0m\u001b[0m\n\u001b[0;32m---> 67\u001b[0;31m       \u001b[0;32mraise\u001b[0m \u001b[0me\u001b[0m\u001b[0;34m.\u001b[0m\u001b[0mwith_traceback\u001b[0m\u001b[0;34m(\u001b[0m\u001b[0mfiltered_tb\u001b[0m\u001b[0;34m)\u001b[0m \u001b[0;32mfrom\u001b[0m \u001b[0;32mNone\u001b[0m\u001b[0;34m\u001b[0m\u001b[0;34m\u001b[0m\u001b[0m\n\u001b[0m\u001b[1;32m     68\u001b[0m     \u001b[0;32mfinally\u001b[0m\u001b[0;34m:\u001b[0m\u001b[0;34m\u001b[0m\u001b[0;34m\u001b[0m\u001b[0m\n\u001b[1;32m     69\u001b[0m       \u001b[0;32mdel\u001b[0m \u001b[0mfiltered_tb\u001b[0m\u001b[0;34m\u001b[0m\u001b[0;34m\u001b[0m\u001b[0m\n",
            "\u001b[0;32m/usr/local/lib/python3.7/dist-packages/tensorflow/python/framework/constant_op.py\u001b[0m in \u001b[0;36mconvert_to_eager_tensor\u001b[0;34m(value, ctx, dtype)\u001b[0m\n\u001b[1;32m    104\u001b[0m       \u001b[0mdtype\u001b[0m \u001b[0;34m=\u001b[0m \u001b[0mdtypes\u001b[0m\u001b[0;34m.\u001b[0m\u001b[0mas_dtype\u001b[0m\u001b[0;34m(\u001b[0m\u001b[0mdtype\u001b[0m\u001b[0;34m)\u001b[0m\u001b[0;34m.\u001b[0m\u001b[0mas_datatype_enum\u001b[0m\u001b[0;34m\u001b[0m\u001b[0;34m\u001b[0m\u001b[0m\n\u001b[1;32m    105\u001b[0m   \u001b[0mctx\u001b[0m\u001b[0;34m.\u001b[0m\u001b[0mensure_initialized\u001b[0m\u001b[0;34m(\u001b[0m\u001b[0;34m)\u001b[0m\u001b[0;34m\u001b[0m\u001b[0;34m\u001b[0m\u001b[0m\n\u001b[0;32m--> 106\u001b[0;31m   \u001b[0;32mreturn\u001b[0m \u001b[0mops\u001b[0m\u001b[0;34m.\u001b[0m\u001b[0mEagerTensor\u001b[0m\u001b[0;34m(\u001b[0m\u001b[0mvalue\u001b[0m\u001b[0;34m,\u001b[0m \u001b[0mctx\u001b[0m\u001b[0;34m.\u001b[0m\u001b[0mdevice_name\u001b[0m\u001b[0;34m,\u001b[0m \u001b[0mdtype\u001b[0m\u001b[0;34m)\u001b[0m\u001b[0;34m\u001b[0m\u001b[0;34m\u001b[0m\u001b[0m\n\u001b[0m\u001b[1;32m    107\u001b[0m \u001b[0;34m\u001b[0m\u001b[0m\n\u001b[1;32m    108\u001b[0m \u001b[0;34m\u001b[0m\u001b[0m\n",
            "\u001b[0;31mInternalError\u001b[0m: Failed copying input tensor from /job:localhost/replica:0/task:0/device:CPU:0 to /job:localhost/replica:0/task:0/device:GPU:0 in order to run _EagerConst: Dst tensor is not initialized."
          ]
        }
      ]
    },
    {
      "cell_type": "code",
      "metadata": {
        "id": "jXbwuusKOFDo"
      },
      "source": [
        "cnn_dnn_ld_contour_data.to_csv(f\"/content/drive/MyDrive/data_papers/{paper_name}/summary_results/cnn_dnn_ld_contour_data_{datetime.datetime.now():%Y%m%d%H%M%S}.csv\")\n"
      ],
      "execution_count": null,
      "outputs": []
    },
    {
      "cell_type": "markdown",
      "metadata": {
        "id": "FWDC54QRQhyy"
      },
      "source": [
        "# Data for Plot on Collaborative DNN last dense layers"
      ]
    },
    {
      "cell_type": "code",
      "metadata": {
        "id": "jckmvYAKQhyy"
      },
      "source": [
        "collaborativeFullyC_lastdense_data = None\n",
        "\n",
        "x_input = test_data_grey\n",
        "y_input = test_targets"
      ],
      "execution_count": null,
      "outputs": []
    },
    {
      "cell_type": "code",
      "metadata": {
        "id": "qzVNJs1VQhyy"
      },
      "source": [
        "# dnn_features_files_here = [ f for f in dnn_features_files if layer_name_sfmx_dnn in f]\n",
        "# dnn_features_files_here\n"
      ],
      "execution_count": null,
      "outputs": []
    },
    {
      "cell_type": "code",
      "metadata": {
        "colab": {
          "base_uri": "https://localhost:8080/"
        },
        "id": "o51PtIPEQhyy",
        "outputId": "0a5e16ee-4eb1-4cc0-d4e5-fd472d91ae6c"
      },
      "source": [
        "# set up the data for the DNN collaborative\n",
        "\n",
        "import random\n",
        "import datetime\n",
        "\n",
        "num_of_repeats = 4\n",
        "num_of_models = [25,30,35,40]\n",
        "# [2,3,4,5,6,8,10,12,14,16,18,20]\n",
        "layer_name_penultimate_dnn = \"D3R\"\n",
        "\n",
        "idxCount = 0 if collaborativeFullyC_lastdense_data is None else len(collaborativeFullyC_lastdense_data.index)\n",
        "for repc in range(num_of_repeats):\n",
        "  for mc in num_of_models:\n",
        "    model_name = f\"Collab_{layer_name_penultimate_dnn}_DNN_A_{datetime.datetime.now():%Y%m%d%H%M%S}\"\n",
        "    np_x_validation_collab_dnn_penultimate, np_y_train_collab_dnn_penultimate, np_x_test_collab_dnn_penultimate = get_features_for_layer(dnn_features_files, layer_name_penultimate_dnn, mc)\n",
        "    model_here, history_here = compile_and_fit_model_basic( model_combination_of_features,  \n",
        "                        model_name, \n",
        "                        np_y_train_collab_dnn_penultimate[0,:].shape, \n",
        "                        np_y_train_collab_dnn_penultimate, \n",
        "                        train_targets,\n",
        "                        save_max_epoch = False,\n",
        "                        save_final = True,\n",
        "                        patience_count = 35,\n",
        "                        early_stopping_obs = 'val_sparse_categorical_accuracy',\n",
        "                        log_history = True,\n",
        "                        verbose_level=0,                             \n",
        "                        batch_size=512, \n",
        "                        epochs=250, \n",
        "                        class_weight=None, \n",
        "                        validation_data=(np_x_validation_collab_dnn_penultimate, validation_targets))\n",
        "    del np_x_validation_collab_dnn_penultimate\n",
        "    del np_y_train_collab_dnn_penultimate\n",
        "    y_pred_model = model_here.predict(np_x_test_collab_dnn_penultimate)\n",
        "    del np_x_test_collab_dnn_penultimate\n",
        "    y_pred = np.apply_along_axis(np.argmax, 1, y_pred_model) \n",
        "    pr, rc, f1, acc = pr_rc_f1_acc_from_supplied(y_pred,test_targets)\n",
        "    print (mc, repc, pr, rc, f1, acc)\n",
        "    del model_here\n",
        "    del history_here\n",
        "    if collaborativeFullyC_lastdense_data is None:\n",
        "      collaborativeFullyC_lastdense_data = pd.DataFrame({\"Type\": \"DNN\", \n",
        "                                            \"Data\" : \"Test\",\n",
        "                                            \"Layer\" : layer_name_penultimate_dnn,\n",
        "                                            \"NumOfModels\": mc, \n",
        "                                            \"RepC\": repc, \n",
        "                                            \"Pr\": pr,\n",
        "                                            \"Rc\": rc,\n",
        "                                            \"F1\": f1,\n",
        "                                            \"Acc\": acc,\n",
        "                                            }, index = [idxCount])\n",
        "    else:\n",
        "      collaborativeFullyC_lastdense_data = pd.concat([collaborativeFullyC_lastdense_data,\n",
        "                                         pd.DataFrame({\"Type\": \"DNN\", \n",
        "                                            \"Data\" : \"Test\",\n",
        "                                            \"Layer\" : layer_name_penultimate_dnn,\n",
        "                                            \"NumOfModels\": mc, \n",
        "                                            \"RepC\": repc, \n",
        "                                            \"Pr\": pr,\n",
        "                                            \"Rc\": rc,\n",
        "                                            \"F1\": f1,\n",
        "                                            \"Acc\": acc\n",
        "                                            }, index = [idxCount])\n",
        "                                         ])\n",
        "    idxCount = idxCount + 1\n",
        "\n",
        "\n",
        "\n"
      ],
      "execution_count": null,
      "outputs": [
        {
          "output_type": "stream",
          "name": "stdout",
          "text": [
            "INFO:tensorflow:Assets written to: /content/drive/MyDrive/data_papers/gpSVHN/model_finals/Collab_D3R_DNN_A_20211119231707_saved_model_after_fit/assets\n",
            "25 0 0.9042247577957069 0.9040666666666667 0.9038852024836672 0.9040666666666667\n",
            "INFO:tensorflow:Assets written to: /content/drive/MyDrive/data_papers/gpSVHN/model_finals/Collab_D3R_DNN_A_20211119231916_saved_model_after_fit/assets\n",
            "30 0 0.9094185385453776 0.9095 0.9093789161598879 0.9095\n",
            "INFO:tensorflow:Assets written to: /content/drive/MyDrive/data_papers/gpSVHN/model_finals/Collab_D3R_DNN_A_20211119232118_saved_model_after_fit/assets\n",
            "35 0 0.9106798864864728 0.9103 0.9102533931584856 0.9103\n",
            "INFO:tensorflow:Assets written to: /content/drive/MyDrive/data_papers/gpSVHN/model_finals/Collab_D3R_DNN_A_20211119232348_saved_model_after_fit/assets\n",
            "40 0 0.9131473657173176 0.9130666666666667 0.912929910281771 0.9130666666666667\n",
            "INFO:tensorflow:Assets written to: /content/drive/MyDrive/data_papers/gpSVHN/model_finals/Collab_D3R_DNN_A_20211119232556_saved_model_after_fit/assets\n",
            "25 1 0.9105779314517207 0.9104 0.9102705525986337 0.9104\n",
            "INFO:tensorflow:Assets written to: /content/drive/MyDrive/data_papers/gpSVHN/model_finals/Collab_D3R_DNN_A_20211119232801_saved_model_after_fit/assets\n",
            "30 1 0.9108851105592036 0.9107333333333333 0.9106893153653858 0.9107333333333333\n",
            "INFO:tensorflow:Assets written to: /content/drive/MyDrive/data_papers/gpSVHN/model_finals/Collab_D3R_DNN_A_20211119232957_saved_model_after_fit/assets\n",
            "35 1 0.9099502527488017 0.9098666666666667 0.9098132630478387 0.9098666666666667\n",
            "INFO:tensorflow:Assets written to: /content/drive/MyDrive/data_papers/gpSVHN/model_finals/Collab_D3R_DNN_A_20211119233201_saved_model_after_fit/assets\n",
            "40 1 0.9117930607524666 0.9116666666666666 0.9114939805830593 0.9116666666666666\n",
            "INFO:tensorflow:Assets written to: /content/drive/MyDrive/data_papers/gpSVHN/model_finals/Collab_D3R_DNN_A_20211119233322_saved_model_after_fit/assets\n",
            "25 2 0.9112902088435764 0.9113666666666667 0.9111988224140221 0.9113666666666667\n",
            "INFO:tensorflow:Assets written to: /content/drive/MyDrive/data_papers/gpSVHN/model_finals/Collab_D3R_DNN_A_20211119233507_saved_model_after_fit/assets\n",
            "30 2 0.9090378665462782 0.9089666666666667 0.9087798158456951 0.9089666666666667\n",
            "INFO:tensorflow:Assets written to: /content/drive/MyDrive/data_papers/gpSVHN/model_finals/Collab_D3R_DNN_A_20211119233709_saved_model_after_fit/assets\n",
            "35 2 0.9137650268560015 0.9136666666666666 0.9135871067934246 0.9136666666666666\n",
            "INFO:tensorflow:Assets written to: /content/drive/MyDrive/data_papers/gpSVHN/model_finals/Collab_D3R_DNN_A_20211119233828_saved_model_after_fit/assets\n",
            "40 2 0.9136338877724677 0.9137333333333333 0.9135776346819405 0.9137333333333333\n",
            "INFO:tensorflow:Assets written to: /content/drive/MyDrive/data_papers/gpSVHN/model_finals/Collab_D3R_DNN_A_20211119234034_saved_model_after_fit/assets\n",
            "25 3 0.9091616428145038 0.909 0.9088189528193139 0.909\n",
            "INFO:tensorflow:Assets written to: /content/drive/MyDrive/data_papers/gpSVHN/model_finals/Collab_D3R_DNN_A_20211119234212_saved_model_after_fit/assets\n",
            "30 3 0.9091736379043386 0.9092 0.9090542392842589 0.9092\n",
            "INFO:tensorflow:Assets written to: /content/drive/MyDrive/data_papers/gpSVHN/model_finals/Collab_D3R_DNN_A_20211119234346_saved_model_after_fit/assets\n",
            "35 3 0.9125083879868384 0.9125333333333333 0.9124491510884499 0.9125333333333333\n",
            "INFO:tensorflow:Assets written to: /content/drive/MyDrive/data_papers/gpSVHN/model_finals/Collab_D3R_DNN_A_20211119234519_saved_model_after_fit/assets\n",
            "40 3 0.9130950166814857 0.9130333333333334 0.9129324713582032 0.9130333333333334\n"
          ]
        }
      ]
    },
    {
      "cell_type": "code",
      "metadata": {
        "id": "w5v1LfD_Qhyy"
      },
      "source": [
        "collaborativeFullyC_lastdense_data.to_csv(f\"/content/drive/MyDrive/data_papers/{paper_name}/summary_results/dnn_collab_lastdense_test_results_{datetime.datetime.now():%Y%m%d%H%M%S}.csv\")\n",
        "\n"
      ],
      "execution_count": null,
      "outputs": []
    },
    {
      "cell_type": "markdown",
      "metadata": {
        "id": "hx1fELMRQhyy"
      },
      "source": [
        "# Data for Plot on Collaborative CNN last dense layers"
      ]
    },
    {
      "cell_type": "code",
      "metadata": {
        "id": "jse5z9uRQhyy"
      },
      "source": [
        "# carry this over from DNN if possible (so keep commented out)\n",
        "## collaborativeFullyC_softmax_data = None"
      ],
      "execution_count": null,
      "outputs": []
    },
    {
      "cell_type": "code",
      "metadata": {
        "colab": {
          "base_uri": "https://localhost:8080/"
        },
        "id": "_Ej69RilQhyz",
        "outputId": "64fee7b9-13b0-4e0e-d8d4-74b703b0a153"
      },
      "source": [
        "# set up the data for the CNN collaborative\n",
        "\n",
        "import random\n",
        "import datetime\n",
        "\n",
        "num_of_repeats = 4\n",
        "num_of_models = [35, 40] # [22, 25,30]\n",
        "# [2,3,4,5,6,8,10,12,14,16,18,20]\n",
        "layer_name_penultimate_cnn = \"DRP1\"\n",
        "\n",
        "idxCount = 0 if collaborativeFullyC_lastdense_data is None else len(collaborativeFullyC_lastdense_data.index)\n",
        "for repc in range(num_of_repeats):\n",
        "  for mc in num_of_models:\n",
        "    model_name = f\"Collab_{layer_name_penultimate_cnn}_CNN_A_{datetime.datetime.now():%Y%m%d%H%M%S}\"\n",
        "    np_x_validation_collab_cnn_penultimate, np_y_train_collab_cnn_penultimate, np_x_test_collab_cnn_penultimate = get_features_for_layer(cnn_features_files, layer_name_penultimate_cnn, mc)\n",
        "    model_here, history_here = compile_and_fit_model_basic( model_combination_of_features,  \n",
        "                        model_name, \n",
        "                        np_y_train_collab_cnn_penultimate[0,:].shape, \n",
        "                        np_y_train_collab_cnn_penultimate, \n",
        "                        train_targets,\n",
        "                        save_max_epoch = False,\n",
        "                        save_final = True,\n",
        "                        patience_count = 35,\n",
        "                        early_stopping_obs = 'val_sparse_categorical_accuracy',\n",
        "                        log_history = True,\n",
        "                        verbose_level=0,                             \n",
        "                        batch_size=512, \n",
        "                        epochs=250, \n",
        "                        class_weight=None, \n",
        "                        validation_data=(np_x_validation_collab_cnn_penultimate, validation_targets))\n",
        "    del np_x_validation_collab_cnn_penultimate\n",
        "    del np_y_train_collab_cnn_penultimate\n",
        "    y_pred_model = model_here.predict(np_x_test_collab_cnn_penultimate)\n",
        "    del np_x_test_collab_cnn_penultimate\n",
        "    y_pred = np.apply_along_axis(np.argmax, 1, y_pred_model) \n",
        "    pr, rc, f1, acc = pr_rc_f1_acc_from_supplied(y_pred,test_targets)\n",
        "    print (mc, repc, pr, rc, f1, acc)\n",
        "    del model_here\n",
        "    del history_here\n",
        "    if collaborativeFullyC_lastdense_data is None:\n",
        "      collaborativeFullyC_lastdense_data = pd.DataFrame({\"Type\": \"CNN\", \n",
        "                                            \"Data\" : \"Test\",\n",
        "                                            \"Layer\" : layer_name_penultimate_cnn,\n",
        "                                            \"NumOfModels\": mc, \n",
        "                                            \"RepC\": repc, \n",
        "                                            \"Pr\": pr,\n",
        "                                            \"Rc\": rc,\n",
        "                                            \"F1\": f1,\n",
        "                                            \"Acc\": acc,\n",
        "                                            }, index = [idxCount])\n",
        "    else:\n",
        "      collaborativeFullyC_lastdense_data = pd.concat([collaborativeFullyC_lastdense_data,\n",
        "                                         pd.DataFrame({\"Type\": \"CNN\", \n",
        "                                            \"Data\" : \"Test\",\n",
        "                                            \"Layer\" : layer_name_penultimate_cnn,\n",
        "                                            \"NumOfModels\": mc, \n",
        "                                            \"RepC\": repc, \n",
        "                                            \"Pr\": pr,\n",
        "                                            \"Rc\": rc,\n",
        "                                            \"F1\": f1,\n",
        "                                            \"Acc\": acc\n",
        "                                            }, index = [idxCount])\n",
        "                                         ])\n",
        "    idxCount = idxCount + 1\n",
        "\n",
        "\n",
        "\n"
      ],
      "execution_count": null,
      "outputs": [
        {
          "output_type": "stream",
          "name": "stdout",
          "text": [
            "INFO:tensorflow:Assets written to: /content/drive/MyDrive/data_papers/gpSVHN/model_finals/Collab_DRP1_CNN_A_20211119165311_saved_model_after_fit/assets\n",
            "22 0 0.9675026978338923 0.9674666666666667 0.967454283865865 0.9674666666666667\n",
            "INFO:tensorflow:Assets written to: /content/drive/MyDrive/data_papers/gpSVHN/model_finals/Collab_DRP1_CNN_A_20211119165609_saved_model_after_fit/assets\n",
            "25 0 0.9682110925190383 0.9681666666666666 0.9681550827326197 0.9681666666666666\n",
            "INFO:tensorflow:Assets written to: /content/drive/MyDrive/data_papers/gpSVHN/model_finals/Collab_DRP1_CNN_A_20211119165930_saved_model_after_fit/assets\n",
            "30 0 0.966942150788929 0.9669 0.966875318600343 0.9669\n",
            "INFO:tensorflow:Assets written to: /content/drive/MyDrive/data_papers/gpSVHN/model_finals/Collab_DRP1_CNN_A_20211119170314_saved_model_after_fit/assets\n",
            "22 1 0.9672171058738663 0.9670333333333333 0.9670156526054587 0.9670333333333333\n",
            "INFO:tensorflow:Assets written to: /content/drive/MyDrive/data_papers/gpSVHN/model_finals/Collab_DRP1_CNN_A_20211119170617_saved_model_after_fit/assets\n",
            "25 1 0.9675241273664507 0.9674666666666667 0.9674538441498033 0.9674666666666667\n",
            "INFO:tensorflow:Assets written to: /content/drive/MyDrive/data_papers/gpSVHN/model_finals/Collab_DRP1_CNN_A_20211119170914_saved_model_after_fit/assets\n",
            "30 1 0.967215307364124 0.9671666666666666 0.9671507327016898 0.9671666666666666\n",
            "INFO:tensorflow:Assets written to: /content/drive/MyDrive/data_papers/gpSVHN/model_finals/Collab_DRP1_CNN_A_20211119171304_saved_model_after_fit/assets\n",
            "22 2 0.9670667123310902 0.9670333333333333 0.9670213966432314 0.9670333333333333\n",
            "INFO:tensorflow:Assets written to: /content/drive/MyDrive/data_papers/gpSVHN/model_finals/Collab_DRP1_CNN_A_20211119171522_saved_model_after_fit/assets\n",
            "25 2 0.9666946737649353 0.9666666666666667 0.9666401593838426 0.9666666666666667\n",
            "INFO:tensorflow:Assets written to: /content/drive/MyDrive/data_papers/gpSVHN/model_finals/Collab_DRP1_CNN_A_20211119171809_saved_model_after_fit/assets\n",
            "30 2 0.9682359954657893 0.9682333333333333 0.9682133976856124 0.9682333333333333\n",
            "INFO:tensorflow:Assets written to: /content/drive/MyDrive/data_papers/gpSVHN/model_finals/Collab_DRP1_CNN_A_20211119172047_saved_model_after_fit/assets\n",
            "22 3 0.9668746654440704 0.9668 0.9667850472277366 0.9668\n",
            "INFO:tensorflow:Assets written to: /content/drive/MyDrive/data_papers/gpSVHN/model_finals/Collab_DRP1_CNN_A_20211119172346_saved_model_after_fit/assets\n",
            "25 3 0.9681791112107707 0.9681333333333333 0.9681193975848165 0.9681333333333333\n",
            "INFO:tensorflow:Assets written to: /content/drive/MyDrive/data_papers/gpSVHN/model_finals/Collab_DRP1_CNN_A_20211119172607_saved_model_after_fit/assets\n",
            "30 3 0.9668154027068244 0.9667666666666667 0.9667403678085424 0.9667666666666667\n"
          ]
        }
      ]
    },
    {
      "cell_type": "code",
      "metadata": {
        "id": "k2iGJLv1Qhyz"
      },
      "source": [
        "collaborativeFullyC_lastdense_data.to_csv(f\"/content/drive/MyDrive/data_papers/{paper_name}/summary_results/cnn_collab_lastdense_test_results_{datetime.datetime.now():%Y%m%d%H%M%S}.csv\")\n"
      ],
      "execution_count": null,
      "outputs": []
    },
    {
      "cell_type": "markdown",
      "metadata": {
        "id": "io3MAwHuQhyz"
      },
      "source": [
        "# Data for Plot on Collaborative WideResNet last dense layers (does not work)"
      ]
    },
    {
      "cell_type": "code",
      "metadata": {
        "id": "XKjiiIoMQhyz"
      },
      "source": [
        "# carry this over from DNN/CNN if possible (so keep commented out)\n",
        "## collaborativeFullyC_softmax_data = None\n",
        "\n",
        "# wideresnets_features_files\n",
        "# cnn_features_files\n"
      ],
      "execution_count": null,
      "outputs": []
    },
    {
      "cell_type": "code",
      "metadata": {
        "id": "KGA4KvQeQhyz"
      },
      "source": [
        "import random\n",
        "import re\n",
        "\n",
        "def get_base_patterns_for_validation(features_files, layer_name = \"CLASSIFIER_D1\", model_type = \"WideResNet\"):\n",
        "  base_patterns_for_validations = []\n",
        "  for ff in [ s for s in features_files if \"Validation\" in s]:\n",
        "    validation_search = re.search(f'^.*({model_type}.*_ID.*features_{layer_name}_Validation)[0-9]+.*$', ff, re.IGNORECASE)\n",
        "    if validation_search:\n",
        "        base_patterns_for_validations.append(validation_search.group(1))\n",
        "\n",
        "  base_patterns_for_validations = sorted(list(set(base_patterns_for_validations)))\n",
        "  return base_patterns_for_validations\n",
        "\n"
      ],
      "execution_count": null,
      "outputs": []
    },
    {
      "cell_type": "code",
      "metadata": {
        "id": "TaD_SmR_Qhyz"
      },
      "source": [
        "def get_features_for_layer_using_subbatches(feature_files, layer_name, num_of_models, model_type=\"WideResNet\", axis_to_concat = 1):\n",
        " \n",
        "  feature_files_used = [ff for ff in feature_files if \"Validation\" in ff and \"_X\" in ff and f\"_{layer_name}_\" in ff ]\n",
        "  \n",
        "  # base_patterns_for_validations = []\n",
        "  # for ff in [ s for s in feature_files_used ]:\n",
        "  #   validation_search = re.search(f'^.*(_ID.*features_{layer_name}_Validation)[0-9]+.*$', ff, re.IGNORECASE)\n",
        "  #   if validation_search:\n",
        "  #       base_patterns_for_validations.append(validation_search.group(1))\n",
        "  # base_patterns_for_validations = sorted(list(set(base_patterns_for_validations)))\n",
        "\n",
        "  base_patterns_for_validations = get_base_patterns_for_validation(feature_files_used, layer_name, model_type)\n",
        "  base_patterns_for_validations = sorted(random.sample(base_patterns_for_validations, min(num_of_models,len(base_patterns_for_validations)) ))\n",
        "\n",
        "  np_x_validation_collab = None\n",
        "  for base_val_str in base_patterns_for_validations:\n",
        "      validation_batch_files = sorted([ ff for ff in feature_files_used if base_val_str in ff])\n",
        "      np_x_validation_collab_batch = np.array([np.load(ff) for ff in validation_batch_files])\n",
        "      np_x_validation_collab_batch = np.concatenate(np_x_validation_collab_batch, axis=0)\n",
        "      if np_x_validation_collab is None:\n",
        "        np_x_validation_collab = np_x_validation_collab_batch.copy()\n",
        "      else:\n",
        "        np_x_validation_collab = np.concatenate([np_x_validation_collab, np_x_validation_collab_batch], axis=axis_to_concat)\n",
        "  \n",
        "  np_x_test_collab = None\n",
        "  for base_val_str in [ ff.replace(\"Validation\",\"Test\") for ff in base_patterns_for_validations]:\n",
        "      test_batch_files = dir_has_file_with_regex(f\"/content/drive/MyDrive/data_papers/{paper_name}/model_features\",f\".*{base_val_str}.*_X.*$\")\n",
        "      np_x_test_collab_batch = np.array([np.load(ff) for ff in test_batch_files])\n",
        "      np_x_test_collab_batch = np.concatenate(np_x_test_collab_batch, axis=0)\n",
        "      if np_x_test_collab is None:\n",
        "        np_x_test_collab = np_x_test_collab_batch.copy()\n",
        "      else:\n",
        "        np_x_test_collab = np.concatenate([np_x_test_collab, np_x_test_collab_batch], axis=axis_to_concat)\n",
        "\n",
        "  np_x_train_collab = None\n",
        "  for base_val_str in [ ff.replace(\"Validation\",\"Train\") for ff in base_patterns_for_validations]:\n",
        "      train_batch_files = dir_has_file_with_regex(f\"/content/drive/MyDrive/data_papers/{paper_name}/model_features\",f\".*{base_val_str}.*_X.*$\")\n",
        "      np_x_train_collab_batch = np.array([np.load(ff) for ff in train_batch_files])\n",
        "      np_x_train_collab_batch = np.concatenate(np_x_train_collab_batch, axis=0)\n",
        "      if np_x_train_collab is None:\n",
        "        np_x_train_collab = np_x_train_collab_batch.copy()\n",
        "      else:\n",
        "        np_x_train_collab = np.concatenate([np_x_train_collab, np_x_train_collab_batch], axis=axis_to_concat)\n",
        "\n",
        "  return np_x_validation_collab, np_x_train_collab, np_x_test_collab"
      ],
      "execution_count": null,
      "outputs": []
    },
    {
      "cell_type": "code",
      "metadata": {
        "colab": {
          "base_uri": "https://localhost:8080/"
        },
        "id": "qka-rNJfQhyz",
        "outputId": "1d0f5692-5ebf-4a90-aa8f-3d8728fe9e09"
      },
      "source": [
        "# set up the data for the WideResNet collaborative\n",
        "\n",
        "import random\n",
        "import datetime\n",
        "\n",
        "num_of_repeats = 4\n",
        "num_of_models = [2,3,4,5,6,7,8,9,10]\n",
        "layer_name_penultimate_wideresnets = \"CLASSIFIER_FL\"\n",
        "model_type = \"WideResNet\"\n",
        "\n",
        "idxCount = 0 if collaborativeFullyC_lastdense_data is None else len(collaborativeFullyC_lastdense_data.index)\n",
        "for repc in range(num_of_repeats):\n",
        "  for mc in num_of_models:\n",
        "    model_name = f\"Collab_{layer_name_penultimate_wideresnets}_WideResNet_A_{datetime.datetime.now():%Y%m%d%H%M%S}\"\n",
        "    np_x_validation_collab_wideresnets_penultimate, np_y_train_collab_wideresnets_penultimate, np_x_test_collab_wideresnets_penultimate = get_features_for_layer_using_subbatches(wideresnets_features_files,layer_name_penultimate_wideresnets,mc,model_type )\n",
        "    model_here, history_here = compile_and_fit_model_basic( model_combination_of_features,  \n",
        "                        model_name, \n",
        "                        np_y_train_collab_wideresnets_penultimate[0,:].shape, \n",
        "                        np_y_train_collab_wideresnets_penultimate, \n",
        "                        train_targets,\n",
        "                        save_max_epoch = False,\n",
        "                        save_final = True,\n",
        "                        patience_count = 35,\n",
        "                        early_stopping_obs = 'val_sparse_categorical_accuracy',\n",
        "                        log_history = True,\n",
        "                        verbose_level=0,                             \n",
        "                        batch_size=512, \n",
        "                        epochs=250, \n",
        "                        class_weight=None, \n",
        "                        validation_data=(np_x_validation_collab_wideresnets_penultimate, validation_targets))\n",
        "    del np_x_validation_collab_wideresnets_penultimate\n",
        "    del np_y_train_collab_wideresnets_penultimate\n",
        "    y_pred_model = model_here.predict(np_x_test_collab_wideresnets_penultimate)\n",
        "    del np_x_test_collab_wideresnets_penultimate\n",
        "    y_pred = np.apply_along_axis(np.argmax, 1, y_pred_model) \n",
        "    pr, rc, f1, acc = pr_rc_f1_acc_from_supplied(y_pred,test_targets)\n",
        "    print (mc, repc, pr, rc, f1, acc)\n",
        "    del model_here\n",
        "    del history_here\n",
        "    if collaborativeFullyC_lastdense_data is None:\n",
        "      collaborativeFullyC_lastdense_data = pd.DataFrame({\"Type\": \"WideResNet\", \n",
        "                                            \"Data\" : \"Test\",\n",
        "                                            \"Layer\" : layer_name_penultimate_wideresnets,\n",
        "                                            \"NumOfModels\": mc, \n",
        "                                            \"RepC\": repc, \n",
        "                                            \"Pr\": pr,\n",
        "                                            \"Rc\": rc,\n",
        "                                            \"F1\": f1,\n",
        "                                            \"Acc\": acc,\n",
        "                                            }, index = [idxCount])\n",
        "    else:\n",
        "      collaborativeFullyC_lastdense_data = pd.concat([collaborativeFullyC_lastdense_data,\n",
        "                                         pd.DataFrame({\"Type\": \"WideResNet\", \n",
        "                                            \"Data\" : \"Test\",\n",
        "                                            \"Layer\" : layer_name_penultimate_wideresnets,\n",
        "                                            \"NumOfModels\": mc, \n",
        "                                            \"RepC\": repc, \n",
        "                                            \"Pr\": pr,\n",
        "                                            \"Rc\": rc,\n",
        "                                            \"F1\": f1,\n",
        "                                            \"Acc\": acc\n",
        "                                            }, index = [idxCount])\n",
        "                                         ])\n",
        "    collaborativeFullyC_lastdense_data.to_csv(f\"/content/drive/MyDrive/data_papers/{paper_name}/summary_results/wideresnet_collab_lastdense_interim_test_results_{datetime.datetime.now():%Y%m%d%H%M%S}.csv\")\n",
        "    idxCount = idxCount + 1\n",
        "\n",
        "\n",
        "# np_x_validation_collab_wideresnets, np_x_train_collab_wideresnets, np_x_test_collab_wideresnets =  get_features_for_layer_using_subbatches(wideresnets_features_files,layer_name,num_of_models,model_type )\n",
        "# wrsftmx, wrsftmxh = compile_and_fit_model_basic( model_combination_of_features,  \n",
        "#                     f\"Collab_{layer_name}_WideResnet28-10_A_{datetime.datetime.now():%Y%m%d%H%M%S}\", \n",
        "#                     np_x_train_collab_wideresnets[0,:].shape, \n",
        "#                     np_x_train_collab_wideresnets, \n",
        "#                     train_targets,\n",
        "#                     save_max_epoch=False,\n",
        "#                     save_final=True,\n",
        "#                     patience_count = 35,\n",
        "#                     early_stopping_obs = 'val_sparse_categorical_accuracy',\n",
        "#                     log_history = True,\n",
        "#                     verbose_level=1,                             \n",
        "#                     batch_size=512, \n",
        "#                     epochs=250, \n",
        "#                     class_weight=None, \n",
        "#                     validation_data=(np_x_validation_collab_wideresnets, validation_targets))\n",
        "\n"
      ],
      "execution_count": null,
      "outputs": [
        {
          "output_type": "stream",
          "name": "stderr",
          "text": [
            "/usr/local/lib/python3.7/dist-packages/ipykernel_launcher.py:18: VisibleDeprecationWarning: Creating an ndarray from ragged nested sequences (which is a list-or-tuple of lists-or-tuples-or ndarrays with different lengths or shapes) is deprecated. If you meant to do this, you must specify 'dtype=object' when creating the ndarray\n"
          ]
        }
      ]
    },
    {
      "cell_type": "code",
      "metadata": {
        "id": "KlsYre4_Qhyz"
      },
      "source": [
        "collaborativeFullyC_lastdense_data.to_csv(f\"/content/drive/MyDrive/data_papers/{paper_name}/summary_results/wideresnet_collab_lastdense_test_results_{datetime.datetime.now():%Y%m%d%H%M%S}.csv\")\n"
      ],
      "execution_count": null,
      "outputs": []
    },
    {
      "cell_type": "markdown",
      "metadata": {
        "id": "cxBmUlk5Qhy0"
      },
      "source": [
        "# Plot on Collaborative CNN/DNN/WideResNet last dense layers as function of number of models"
      ]
    },
    {
      "cell_type": "code",
      "metadata": {
        "colab": {
          "base_uri": "https://localhost:8080/"
        },
        "id": "YJBHqxkQQhy0",
        "outputId": "9d4a85f5-4417-43ff-c1a1-5c0f11e4316f"
      },
      "source": [
        "all_lastdense_collab_data = pd.concat([ pd.read_csv(f\"/content/drive/MyDrive/data_papers/{paper_name}/summary_results/{f}\") for f in os.listdir(f\"/content/drive/MyDrive/data_papers/{paper_name}/summary_results/\") if \"collab_lastdense_test_results\" in f ])\n",
        "all_lastdense_collab_data = all_lastdense_collab_data.drop_duplicates()\n",
        "all_lastdense_collab_data[\"BestComponent\"] = np.nan\n",
        "\n"
      ],
      "execution_count": null,
      "outputs": [
        {
          "output_type": "stream",
          "name": "stderr",
          "text": [
            "/usr/local/lib/python3.7/dist-packages/ipykernel_launcher.py:3: SettingWithCopyWarning: \n",
            "A value is trying to be set on a copy of a slice from a DataFrame.\n",
            "Try using .loc[row_indexer,col_indexer] = value instead\n",
            "\n",
            "See the caveats in the documentation: https://pandas.pydata.org/pandas-docs/stable/user_guide/indexing.html#returning-a-view-versus-a-copy\n",
            "  This is separate from the ipykernel package so we can avoid doing imports until\n"
          ]
        }
      ]
    },
    {
      "cell_type": "code",
      "metadata": {
        "id": "89TQ2Q1IQhy0"
      },
      "source": [
        "# read validation accur\n",
        "val_accs = pd.read_csv(f\"/content/drive/MyDrive/data_papers/{paper_name}/summary_results/val_test_accs_20211118165251.csv\")"
      ],
      "execution_count": null,
      "outputs": []
    },
    {
      "cell_type": "code",
      "metadata": {
        "id": "go025R4GQhy0"
      },
      "source": [
        "best_submodels = val_accs.loc[val_accs.groupby(\"Type\")['ValAcc'].idxmax()].copy()"
      ],
      "execution_count": null,
      "outputs": []
    },
    {
      "cell_type": "code",
      "metadata": {
        "id": "VvmWk6U1Qhy0"
      },
      "source": [
        "for typename in best_submodels[\"Type\"]:\n",
        "  all_lastdense_collab_data.loc[all_lastdense_collab_data.Type==typename,\"BestComponent\"] = float(best_submodels.loc[best_submodels.Type==typename, \"TestAcc\"])"
      ],
      "execution_count": null,
      "outputs": []
    },
    {
      "cell_type": "code",
      "metadata": {
        "id": "ApUSqTHOQhy0"
      },
      "source": [
        "all_lastdense_collab_data = pd.concat([all_lastdense_collab_data.groupby([\"Type\",\"NumOfModels\"])[\"Acc\"].mean(), all_lastdense_collab_data.groupby([\"Type\",\"NumOfModels\"])[\"BestComponent\"].mean()],axis=1)\n",
        "all_lastdense_collab_data = all_lastdense_collab_data.reset_index()\n",
        "\n",
        "# all_lastdense_collab_data[all_lastdense_collab_data.NumOfModels<=2]\n",
        "# all_lastdense_collab_data = all_lastdense_collab_data[all_lastdense_collab_data.NumOfModels>2]"
      ],
      "execution_count": null,
      "outputs": []
    },
    {
      "cell_type": "code",
      "metadata": {
        "colab": {
          "base_uri": "https://localhost:8080/",
          "height": 526
        },
        "id": "4Pk8mYEnQhy0",
        "outputId": "6a854e5d-237c-491d-8779-5d3b68fce9f3"
      },
      "source": [
        "ggplot(all_lastdense_collab_data) +  \\\n",
        "  geom_line(aes(x='NumOfModels',y='Acc',group='Type',color='Type', fill='Type'),size=2) + \\\n",
        "  geom_line(aes(x='NumOfModels',y='BestComponent',group='Type',color='Type', fill='Type'), linetype='dashed')  + \\\n",
        "  theme_bw() + ggtitle('Test Accuracy for Collab models')"
      ],
      "execution_count": null,
      "outputs": [
        {
          "output_type": "stream",
          "name": "stderr",
          "text": [
            "/usr/local/lib/python3.7/dist-packages/plotnine/utils.py:1246: FutureWarning: is_categorical is deprecated and will be removed in a future version.  Use is_categorical_dtype instead\n",
            "  if pdtypes.is_categorical(arr):\n"
          ]
        },
        {
          "output_type": "display_data",
          "data": {
            "image/png": "[encoded data removed]",
            "text/plain": [
              "<Figure size 640x480 with 1 Axes>"
            ]
          },
          "metadata": {}
        },
        {
          "output_type": "execute_result",
          "data": {
            "text/plain": [
              "<ggplot: (8763377075189)>"
            ]
          },
          "metadata": {},
          "execution_count": 55
        }
      ]
    },
    {
      "cell_type": "code",
      "metadata": {
        "colab": {
          "base_uri": "https://localhost:8080/",
          "height": 355
        },
        "id": "fEPMLKUxQhy0",
        "outputId": "b25e6660-bc07-4690-c07c-1a9e6bd06feb"
      },
      "source": [
        "all_lastdense_collab_data.sample(10)\n"
      ],
      "execution_count": null,
      "outputs": [
        {
          "output_type": "execute_result",
          "data": {
            "text/html": [
              "<div>\n",
              "<style scoped>\n",
              "    .dataframe tbody tr th:only-of-type {\n",
              "        vertical-align: middle;\n",
              "    }\n",
              "\n",
              "    .dataframe tbody tr th {\n",
              "        vertical-align: top;\n",
              "    }\n",
              "\n",
              "    .dataframe thead th {\n",
              "        text-align: right;\n",
              "    }\n",
              "</style>\n",
              "<table border=\"1\" class=\"dataframe\">\n",
              "  <thead>\n",
              "    <tr style=\"text-align: right;\">\n",
              "      <th></th>\n",
              "      <th>Type</th>\n",
              "      <th>NumOfModels</th>\n",
              "      <th>Acc</th>\n",
              "      <th>BestComponent</th>\n",
              "    </tr>\n",
              "  </thead>\n",
              "  <tbody>\n",
              "    <tr>\n",
              "      <th>1</th>\n",
              "      <td>CNN</td>\n",
              "      <td>3</td>\n",
              "      <td>0.957458</td>\n",
              "      <td>0.946867</td>\n",
              "    </tr>\n",
              "    <tr>\n",
              "      <th>10</th>\n",
              "      <td>CNN</td>\n",
              "      <td>18</td>\n",
              "      <td>0.966542</td>\n",
              "      <td>0.946867</td>\n",
              "    </tr>\n",
              "    <tr>\n",
              "      <th>4</th>\n",
              "      <td>CNN</td>\n",
              "      <td>6</td>\n",
              "      <td>0.962500</td>\n",
              "      <td>0.946867</td>\n",
              "    </tr>\n",
              "    <tr>\n",
              "      <th>3</th>\n",
              "      <td>CNN</td>\n",
              "      <td>5</td>\n",
              "      <td>0.961583</td>\n",
              "      <td>0.946867</td>\n",
              "    </tr>\n",
              "    <tr>\n",
              "      <th>16</th>\n",
              "      <td>DNN</td>\n",
              "      <td>3</td>\n",
              "      <td>0.890025</td>\n",
              "      <td>0.874700</td>\n",
              "    </tr>\n",
              "    <tr>\n",
              "      <th>12</th>\n",
              "      <td>CNN</td>\n",
              "      <td>22</td>\n",
              "      <td>0.967083</td>\n",
              "      <td>0.946867</td>\n",
              "    </tr>\n",
              "    <tr>\n",
              "      <th>9</th>\n",
              "      <td>CNN</td>\n",
              "      <td>16</td>\n",
              "      <td>0.965492</td>\n",
              "      <td>0.946867</td>\n",
              "    </tr>\n",
              "    <tr>\n",
              "      <th>26</th>\n",
              "      <td>DNN</td>\n",
              "      <td>20</td>\n",
              "      <td>0.908450</td>\n",
              "      <td>0.874700</td>\n",
              "    </tr>\n",
              "    <tr>\n",
              "      <th>21</th>\n",
              "      <td>DNN</td>\n",
              "      <td>10</td>\n",
              "      <td>0.903308</td>\n",
              "      <td>0.874700</td>\n",
              "    </tr>\n",
              "    <tr>\n",
              "      <th>25</th>\n",
              "      <td>DNN</td>\n",
              "      <td>18</td>\n",
              "      <td>0.906117</td>\n",
              "      <td>0.874700</td>\n",
              "    </tr>\n",
              "  </tbody>\n",
              "</table>\n",
              "</div>"
            ],
            "text/plain": [
              "   Type  NumOfModels       Acc  BestComponent\n",
              "1   CNN            3  0.957458       0.946867\n",
              "10  CNN           18  0.966542       0.946867\n",
              "4   CNN            6  0.962500       0.946867\n",
              "3   CNN            5  0.961583       0.946867\n",
              "16  DNN            3  0.890025       0.874700\n",
              "12  CNN           22  0.967083       0.946867\n",
              "9   CNN           16  0.965492       0.946867\n",
              "26  DNN           20  0.908450       0.874700\n",
              "21  DNN           10  0.903308       0.874700\n",
              "25  DNN           18  0.906117       0.874700"
            ]
          },
          "metadata": {},
          "execution_count": 56
        }
      ]
    },
    {
      "cell_type": "code",
      "metadata": {
        "id": "JBcVku5ACyVv"
      },
      "source": [
        "all_lastdense_collab_data[\"Layer\"] = \"LASTDENSE\""
      ],
      "execution_count": null,
      "outputs": []
    },
    {
      "cell_type": "markdown",
      "metadata": {
        "id": "4Z9SnOmMTKbj"
      },
      "source": [
        "# A GP collaborative model on the softmax layer features of input DNNX/CNNX/CNNX0.5+DNNX0.5/WideResNet28-10"
      ]
    },
    {
      "cell_type": "code",
      "metadata": {
        "id": "-dyXfmdTb1aU"
      },
      "source": [
        "import gpflow\n",
        "from gpflow.utilities import ops, print_summary, set_trainable\n",
        "from gpflow.config import set_default_float, default_float, set_default_summary_fmt\n",
        "from gpflow.ci_utils import ci_niter"
      ],
      "execution_count": null,
      "outputs": []
    },
    {
      "cell_type": "code",
      "metadata": {
        "id": "SUt2vbQC62W9"
      },
      "source": [
        "import inspect\n",
        "  \n",
        "def retrieve_name(var):\n",
        "    callers_local_vars = inspect.currentframe().f_back.f_locals.items()\n",
        "    return [var_name for var_name, var_val in callers_local_vars if var_val is var]\n",
        " \n",
        "def mod_retrieve_name(var):\n",
        "    callers_local_vars = inspect.currentframe().f_back.f_back.f_locals.items()\n",
        "    return [var_name for var_name, var_val in callers_local_vars if var_val is var]\n",
        " \n",
        "def foo(bar):\n",
        "\tprint(retrieve_name(bar))\n",
        "\tprint(mod_retrieve_name(bar))\n",
        "\n",
        "# x,y,z = 1,2,3\n",
        "# foo(x)"
      ],
      "execution_count": null,
      "outputs": []
    },
    {
      "cell_type": "code",
      "metadata": {
        "colab": {
          "base_uri": "https://localhost:8080/"
        },
        "id": "busXdvq-TKbj",
        "outputId": "2a033e57-4608-4033-8bde-5c428bee312a"
      },
      "source": [
        "# set up the data for the collaborative models using GPs from DNN and CNN softmax\n",
        "\n",
        "num_of_models = 20\n",
        "\n",
        "layer_name_sftmx_dnn = \"SFTMX1\"\n",
        "np_x_validation_collab_dnn, np_x_train_collab_dnn, np_x_test_collab_dnn = get_features_for_layer(dnn_features_files, layer_name_sftmx_dnn, num_of_models)\n",
        "\n",
        "layer_name_sftmx_cnn = \"SFTMX1\"\n",
        "np_x_validation_collab_cnn, np_x_train_collab_cnn, np_x_test_collab_cnn = get_features_for_layer(cnn_features_files, layer_name_sftmx_cnn, num_of_models)\n",
        "\n",
        "# set up the data for the collaborative models using GPs from WideResNet softmax\n",
        "\n",
        "layer_name_sftmx_wideresnets = \"CLASSIFIER_D1\"\n",
        "np_x_validation_collab_wideresnets, np_x_train_collab_wideresnets, np_x_test_collab_wideresnets = get_features_for_layer_using_subbatches(wideresnets_features_files, layer_name_sftmx_wideresnets, num_of_models)\n",
        "\n",
        "\n"
      ],
      "execution_count": null,
      "outputs": [
        {
          "output_type": "stream",
          "name": "stderr",
          "text": [
            "/usr/local/lib/python3.7/dist-packages/ipykernel_launcher.py:18: VisibleDeprecationWarning: Creating an ndarray from ragged nested sequences (which is a list-or-tuple of lists-or-tuples-or ndarrays with different lengths or shapes) is deprecated. If you meant to do this, you must specify 'dtype=object' when creating the ndarray\n",
            "/usr/local/lib/python3.7/dist-packages/ipykernel_launcher.py:38: VisibleDeprecationWarning: Creating an ndarray from ragged nested sequences (which is a list-or-tuple of lists-or-tuples-or ndarrays with different lengths or shapes) is deprecated. If you meant to do this, you must specify 'dtype=object' when creating the ndarray\n"
          ]
        }
      ]
    },
    {
      "cell_type": "markdown",
      "metadata": {
        "id": "YI3qO9NDwcbj"
      },
      "source": [
        "Setup the GP-specific data structure for the DNN/CNN/WideResNet softmax features"
      ]
    },
    {
      "cell_type": "code",
      "metadata": {
        "id": "UUDOr6jhn4qN"
      },
      "source": [
        "def setup_feature_data_for_gp(np_x_train_collab, np_x_test_collab, train_targets, test_targets):\n",
        "  \n",
        "  num_of_data_points = np_x_train_collab.shape[0] \n",
        "  num_classes = np.unique(train_targets[:num_of_data_points,:]).size\n",
        "  num_of_functions = num_classes\n",
        "  num_of_independent_vars = np_x_train_collab.shape[-1]\n",
        "  num_of_test_data_points = min(num_of_data_points,test_targets.shape[0])\n",
        "\n",
        "  data_gp_train = np_x_train_collab[:num_of_data_points,:]\n",
        "  data_gp_test = np_x_test_collab[:num_of_test_data_points,:]\n",
        "\n",
        "  data_gp_train_target_hot = np.squeeze(np.eye(num_classes)[train_targets[:num_of_data_points,:]].astype(bool))\n",
        "  data_gp_train_target = np.apply_along_axis(np.argmax, 1, data_gp_train_target_hot)\n",
        "  data_gp_train_target = np.expand_dims(data_gp_train_target, axis=1)\n",
        "\n",
        "  data_gp_test_target_hot = np.squeeze(np.eye(num_classes)[test_targets[:num_of_test_data_points,:]].astype(bool))\n",
        "  data_gp_test_target = np.apply_along_axis(np.argmax, 1, data_gp_test_target_hot)\n",
        "  data_gp_test_target = np.expand_dims(data_gp_test_target, axis=1)\n",
        "\n",
        "  data_gp = ( data_gp_train, data_gp_train_target )\n",
        "  return data_gp, data_gp_test, data_gp_test_target\n"
      ],
      "execution_count": null,
      "outputs": []
    },
    {
      "cell_type": "code",
      "metadata": {
        "id": "3nog8X09wcbn"
      },
      "source": [
        "# reproducibility:\n",
        "np.random.seed(0)\n",
        "tf.random.set_seed(123)\n",
        "\n",
        "data_gp_dnnf, data_gp_test_dnnf, data_gp_test_target_dnnf = setup_feature_data_for_gp(np_x_train_collab_dnn,  np_x_test_collab_dnn, train_targets, test_targets   )\n",
        "data_gp_cnnf, data_gp_test_cnnf, data_gp_test_target_cnnf = setup_feature_data_for_gp(np_x_train_collab_cnn,  np_x_test_collab_cnn, train_targets, test_targets   )\n",
        "data_gp_wideresnets, data_gp_test_wideresnets, data_gp_test_target_wideresnets = setup_feature_data_for_gp(np_x_train_collab_wideresnets,  np_x_test_collab_wideresnets, train_targets, test_targets   )\n",
        "\n"
      ],
      "execution_count": null,
      "outputs": []
    },
    {
      "cell_type": "code",
      "metadata": {
        "id": "I2BuEPuRS4Tt"
      },
      "source": [
        "def construct_kernel_list(num_of_independent_vars, base_lengthscales = [0.1]):\n",
        "  possible_kernels = []\n",
        "  for i in range(len(base_lengthscales)):\n",
        "    possible_kernels.append(gpflow.kernels.Matern12(variance=1.0, lengthscales=[base_lengthscales[i]]*num_of_independent_vars))\n",
        "    possible_kernels.append(gpflow.kernels.Matern32(variance=1.0, lengthscales=[base_lengthscales[i]]*num_of_independent_vars))\n",
        "    possible_kernels.append(gpflow.kernels.RBF(variance=1.0, lengthscales=[base_lengthscales[i]]*num_of_independent_vars))\n",
        "    # possible_kernels.append(gpflow.kernels.Matern52(variance=1.0, lengthscales=[base_lengthscales[i]]*num_of_independent_vars))\n",
        "    # possible_kernels.append(gpflow.kernels.SquaredExponential(lengthscales=[base_lengthscales[i]]*num_of_independent_vars))  \n",
        "\n",
        "  return possible_kernels"
      ],
      "execution_count": null,
      "outputs": []
    },
    {
      "cell_type": "code",
      "metadata": {
        "id": "g_qZ_vVF5KrG"
      },
      "source": [
        "# print(np_x_validation_collab_wideresnets.shape)\n",
        "# print(np_x_test_collab_wideresnets.shape)\n",
        "# print(np_x_train_collab_wideresnets.shape)\n",
        "\n",
        "# print(np_x_validation_collab_cnn.shape)\n",
        "# print(np_x_test_collab_cnn.shape)\n",
        "# print(np_x_train_collab_cnn.shape)\n"
      ],
      "execution_count": null,
      "outputs": []
    },
    {
      "cell_type": "code",
      "metadata": {
        "id": "6zIkvKG7qLKB"
      },
      "source": [
        "import numpy as np\n",
        "import pandas as pd\n",
        "import os,sys\n",
        "\n",
        "\n",
        "def run_gp_directly_on_input(data_gp, \n",
        "                             data_gp_test,\n",
        "                             data_gp_test_target,\n",
        "                             id_str,\n",
        "                             nth_inducing_ratio = 120, \n",
        "                             var_list = [0.1, 1.0],       \n",
        "                             early_stop_count = 100,\n",
        "                             early_stop_check_interval = 1000,\n",
        "                             early_stop_elbo_factor = 1.0001,\n",
        "                             max_niters = 200000):\n",
        "\n",
        "  num_of_independent_vars = data_gp[0].shape[1]\n",
        "  num_of_classes = np.unique(data_gp[1]).size\n",
        "  num_of_functions = num_of_classes\n",
        "  possible_kernels = construct_kernel_list(num_of_independent_vars, var_list)\n",
        "  # Robustmax Multiclass Likelihood\n",
        "  invlink = gpflow.likelihoods.RobustMax(num_of_functions)  # Robustmax inverse link function\n",
        "  likelihood = gpflow.likelihoods.MultiClass(num_of_functions, invlink=invlink)  # Multiclass likelihood\n",
        "  idxs_of_induced = sorted(random.sample(range(data_gp[0].shape[0]),int(data_gp[0].shape[0]/nth_inducing_ratio)))\n",
        "  inducing_inputs = data_gp[0][idxs_of_induced,:].copy()  # inducing inputs\n",
        "  gp_models = []\n",
        "  for kernel in possible_kernels:\n",
        "    m = gpflow.models.SVGP(\n",
        "        kernel=kernel,\n",
        "        likelihood=likelihood,\n",
        "        inducing_variable=inducing_inputs,\n",
        "        num_latent_gps=num_of_functions,\n",
        "        whiten=True,\n",
        "        q_diag=True,\n",
        "    )\n",
        "    # Only train the variational parameters\n",
        "    # set_trainable(m.kernel.kernels[1].variance, False)\n",
        "    set_trainable(m.inducing_variable, True)\n",
        "    gp_models.append(m)\n",
        "  result_dict = dict()\n",
        "  for mcount,m in enumerate(gp_models):\n",
        "      print(mcount)\n",
        "      tensor_data = tuple(map(tf.convert_to_tensor, data_gp))\n",
        "      training_loss = m.training_loss_closure(tensor_data, compile=True)\n",
        "      starting_elbo = -training_loss().numpy()\n",
        "      print(f'Starting ELBO {starting_elbo}')\n",
        "      elbos = [training_loss().numpy()]\n",
        "      optimizer = tf.optimizers.Adam()  \n",
        "\n",
        "      # optimizer = tf.optimizers.RMSprop()\n",
        "      @tf.function\n",
        "      def optim_here():\n",
        "          optimizer.minimize(training_loss, m.trainable_variables)\n",
        "\n",
        "      try:\n",
        "        for itc in range(max_niters):\n",
        "            optim_here()\n",
        "            elbo_now = -training_loss().numpy()\n",
        "            elbos.append(elbo_now)\n",
        "            if (itc % early_stop_check_interval) == 0:\n",
        "              print(f'ELBO {elbo_now}')\n",
        "              if len(elbos) > (early_stop_count+1):\n",
        "                if elbos[-early_stop_count] >= elbos[-1]*early_stop_elbo_factor:\n",
        "                    print(f'Early stopping at {itc}')\n",
        "                    break          \n",
        "            # needs at least a decent improvement\n",
        "\n",
        "        print(f'Ending ELBO {elbos[-1]}')\n",
        "\n",
        "        pY, pYv = m.predict_y(data_gp_test)  # Predict Y values at test locations\n",
        "        result_dict[f\"{gp_models[0].kernel.name}_{mcount}_{id_str}\"] = dict({'model': m, 'X': data_gp_test, 'Y': data_gp_test_target, 'pY': pY, 'pYv': pYv})\n",
        "        np.save(f\"/content/drive/MyDrive/data_papers/{paper_name}/gp_collab/feature_collabUsingGP_{id_str}_Test_{gp_models[mcount].kernel.name}_{mcount}_{datetime.datetime.now():%Y%m%d%H%M%S}\", \n",
        "            np.array(pY), \n",
        "            allow_pickle=True, \n",
        "            fix_imports=True)\n",
        "        np.save(f\"/content/drive/MyDrive/data_papers/{paper_name}/gp_collab/feature_collabUsingGP_{id_str}_Test_Targets_{gp_models[mcount].kernel.name}_{mcount}_{datetime.datetime.now():%Y%m%d%H%M%S}\", \n",
        "            np.array(data_gp[1]), \n",
        "            allow_pickle=True, \n",
        "            fix_imports=True)\n",
        "        tf.saved_model.save(m, f\"/content/drive/MyDrive/data_papers/{paper_name}/gp_collab/feature_collabUsingGP_{id_str}_model_{gp_models[mcount].kernel.name}_{mcount}_{datetime.datetime.now():%Y%m%d%H%M%S}\")\n",
        "        print_summary(m, fmt=\"notebook\")  \n",
        "      except:\n",
        "        print(f'ERROR, Ending ELBO {elbos[-1]} (NOT saved)')\n",
        "        next\n",
        "\n",
        "  return result_dict\n"
      ],
      "execution_count": null,
      "outputs": []
    },
    {
      "cell_type": "markdown",
      "metadata": {
        "id": "7en8tCffS4Tt"
      },
      "source": [
        "Do a Collobarative for the softmax features of DNN"
      ]
    },
    {
      "cell_type": "code",
      "metadata": {
        "id": "eMoheCCYyyD5"
      },
      "source": [
        "layer_name_sftmx_dnn = \"SFTMX1\"\n",
        "gp_dnn_sftmx_dict = run_gp_directly_on_input(data_gp_dnnf, \n",
        "                             data_gp_test_dnnf,\n",
        "                             data_gp_test_target_dnnf,\n",
        "                             f\"DNN_{layer_name_sftmx_dnn}_ID{str(uuid.uuid4()).split('-')[0]}\",\n",
        "                             nth_inducing_ratio = 120, \n",
        "                             var_list = [0.1, 1.0],       \n",
        "                             early_stop_count = 100,\n",
        "                             early_stop_check_interval = 1000,\n",
        "                             early_stop_elbo_factor = 1.0001,\n",
        "                             max_niters = 200000)\n"
      ],
      "execution_count": null,
      "outputs": []
    },
    {
      "cell_type": "markdown",
      "metadata": {
        "id": "95F5SdFc3l2v"
      },
      "source": [
        "Do a Collobarative for the softmax features of CNN"
      ]
    },
    {
      "cell_type": "code",
      "metadata": {
        "id": "pPFjYugx3l2w"
      },
      "source": [
        "layer_name_sftmx_cnn = \"SFTMX1\"\n",
        "gp_cnn_sftmx_dict = run_gp_directly_on_input(data_gp_cnnf, \n",
        "                             data_gp_test_cnnf,\n",
        "                             data_gp_test_target_cnnf,\n",
        "                             f\"CNN_{layer_name_sftmx_cnn}_ID{str(uuid.uuid4()).split('-')[0]}\",\n",
        "                             nth_inducing_ratio = 120, \n",
        "                             var_list = [0.1, 1.0],       \n",
        "                             early_stop_count = 100,\n",
        "                             early_stop_check_interval = 1000,\n",
        "                             early_stop_elbo_factor = 1.0001,\n",
        "                             max_niters = 200000)\n"
      ],
      "execution_count": null,
      "outputs": []
    },
    {
      "cell_type": "markdown",
      "metadata": {
        "id": "V4nn00xj33dI"
      },
      "source": [
        "Do a Collobarative for the softmax features of WideResNet"
      ]
    },
    {
      "cell_type": "code",
      "metadata": {
        "colab": {
          "base_uri": "https://localhost:8080/",
          "height": 561
        },
        "id": "0sPjC97G33dI",
        "outputId": "f31f2b4c-001b-49b1-f583-e9a95bafc77c"
      },
      "source": [
        "layer_name_sftmx_wideresnets = \"CLASSIFIER_D1\"\n",
        "gp_wideresnets_sftmx_dict = run_gp_directly_on_input(data_gp_wideresnets, \n",
        "                             data_gp_test_wideresnets,\n",
        "                             data_gp_test_target_wideresnets,\n",
        "                             f\"WideResNet28-10_{layer_name_sftmx_wideresnets}_ID{str(uuid.uuid4()).split('-')[0]}\",\n",
        "                             nth_inducing_ratio = 120, \n",
        "                             var_list = [0.1, 1.0],       \n",
        "                             early_stop_count = 100,\n",
        "                             early_stop_check_interval = 1000,\n",
        "                             early_stop_elbo_factor = 1.0001,\n",
        "                             max_niters = 200000)\n"
      ],
      "execution_count": null,
      "outputs": [
        {
          "output_type": "stream",
          "name": "stdout",
          "text": [
            "0\n",
            "Starting ELBO -600298.2439976931\n",
            "ELBO -600099.4212387437\n",
            "ELBO -93141.69490801982\n",
            "ELBO -15792.050079042247\n",
            "ERROR, Ending ELBO -13996.380858377663 (NOT saved)\n",
            "1\n",
            "Starting ELBO -600298.2439976931\n",
            "ELBO -600095.424377444\n",
            "ELBO -118283.36592472972\n",
            "ELBO -14477.195194778238\n",
            "ERROR, Ending ELBO -10582.666047864153 (NOT saved)\n",
            "2\n"
          ]
        },
        {
          "output_type": "error",
          "ename": "KeyboardInterrupt",
          "evalue": "ignored",
          "traceback": [
            "\u001b[0;31m---------------------------------------------------------------------------\u001b[0m",
            "\u001b[0;31mKeyboardInterrupt\u001b[0m                         Traceback (most recent call last)",
            "\u001b[0;32m<ipython-input-48-8af11cc9cbf6>\u001b[0m in \u001b[0;36m<module>\u001b[0;34m()\u001b[0m\n\u001b[1;32m      9\u001b[0m                              \u001b[0mearly_stop_check_interval\u001b[0m \u001b[0;34m=\u001b[0m \u001b[0;36m1000\u001b[0m\u001b[0;34m,\u001b[0m\u001b[0;34m\u001b[0m\u001b[0;34m\u001b[0m\u001b[0m\n\u001b[1;32m     10\u001b[0m                              \u001b[0mearly_stop_elbo_factor\u001b[0m \u001b[0;34m=\u001b[0m \u001b[0;36m1.0001\u001b[0m\u001b[0;34m,\u001b[0m\u001b[0;34m\u001b[0m\u001b[0;34m\u001b[0m\u001b[0m\n\u001b[0;32m---> 11\u001b[0;31m                              max_niters = 200000)\n\u001b[0m",
            "\u001b[0;32m<ipython-input-47-9647c605e050>\u001b[0m in \u001b[0;36mrun_gp_directly_on_input\u001b[0;34m(data_gp, data_gp_test, data_gp_test_target, id_str, nth_inducing_ratio, var_list, early_stop_count, early_stop_check_interval, early_stop_elbo_factor, max_niters)\u001b[0m\n\u001b[1;32m     43\u001b[0m       \u001b[0mtensor_data\u001b[0m \u001b[0;34m=\u001b[0m \u001b[0mtuple\u001b[0m\u001b[0;34m(\u001b[0m\u001b[0mmap\u001b[0m\u001b[0;34m(\u001b[0m\u001b[0mtf\u001b[0m\u001b[0;34m.\u001b[0m\u001b[0mconvert_to_tensor\u001b[0m\u001b[0;34m,\u001b[0m \u001b[0mdata_gp\u001b[0m\u001b[0;34m)\u001b[0m\u001b[0;34m)\u001b[0m\u001b[0;34m\u001b[0m\u001b[0;34m\u001b[0m\u001b[0m\n\u001b[1;32m     44\u001b[0m       \u001b[0mtraining_loss\u001b[0m \u001b[0;34m=\u001b[0m \u001b[0mm\u001b[0m\u001b[0;34m.\u001b[0m\u001b[0mtraining_loss_closure\u001b[0m\u001b[0;34m(\u001b[0m\u001b[0mtensor_data\u001b[0m\u001b[0;34m,\u001b[0m \u001b[0mcompile\u001b[0m\u001b[0;34m=\u001b[0m\u001b[0;32mTrue\u001b[0m\u001b[0;34m)\u001b[0m\u001b[0;34m\u001b[0m\u001b[0;34m\u001b[0m\u001b[0m\n\u001b[0;32m---> 45\u001b[0;31m       \u001b[0mstarting_elbo\u001b[0m \u001b[0;34m=\u001b[0m \u001b[0;34m-\u001b[0m\u001b[0mtraining_loss\u001b[0m\u001b[0;34m(\u001b[0m\u001b[0;34m)\u001b[0m\u001b[0;34m.\u001b[0m\u001b[0mnumpy\u001b[0m\u001b[0;34m(\u001b[0m\u001b[0;34m)\u001b[0m\u001b[0;34m\u001b[0m\u001b[0;34m\u001b[0m\u001b[0m\n\u001b[0m\u001b[1;32m     46\u001b[0m       \u001b[0mprint\u001b[0m\u001b[0;34m(\u001b[0m\u001b[0;34mf'Starting ELBO {starting_elbo}'\u001b[0m\u001b[0;34m)\u001b[0m\u001b[0;34m\u001b[0m\u001b[0;34m\u001b[0m\u001b[0m\n\u001b[1;32m     47\u001b[0m       \u001b[0melbos\u001b[0m \u001b[0;34m=\u001b[0m \u001b[0;34m[\u001b[0m\u001b[0mtraining_loss\u001b[0m\u001b[0;34m(\u001b[0m\u001b[0;34m)\u001b[0m\u001b[0;34m.\u001b[0m\u001b[0mnumpy\u001b[0m\u001b[0;34m(\u001b[0m\u001b[0;34m)\u001b[0m\u001b[0;34m]\u001b[0m\u001b[0;34m\u001b[0m\u001b[0;34m\u001b[0m\u001b[0m\n",
            "\u001b[0;32m/usr/local/lib/python3.7/dist-packages/tensorflow/python/eager/def_function.py\u001b[0m in \u001b[0;36m__call__\u001b[0;34m(self, *args, **kwds)\u001b[0m\n\u001b[1;32m    883\u001b[0m \u001b[0;34m\u001b[0m\u001b[0m\n\u001b[1;32m    884\u001b[0m       \u001b[0;32mwith\u001b[0m \u001b[0mOptionalXlaContext\u001b[0m\u001b[0;34m(\u001b[0m\u001b[0mself\u001b[0m\u001b[0;34m.\u001b[0m\u001b[0m_jit_compile\u001b[0m\u001b[0;34m)\u001b[0m\u001b[0;34m:\u001b[0m\u001b[0;34m\u001b[0m\u001b[0;34m\u001b[0m\u001b[0m\n\u001b[0;32m--> 885\u001b[0;31m         \u001b[0mresult\u001b[0m \u001b[0;34m=\u001b[0m \u001b[0mself\u001b[0m\u001b[0;34m.\u001b[0m\u001b[0m_call\u001b[0m\u001b[0;34m(\u001b[0m\u001b[0;34m*\u001b[0m\u001b[0margs\u001b[0m\u001b[0;34m,\u001b[0m \u001b[0;34m**\u001b[0m\u001b[0mkwds\u001b[0m\u001b[0;34m)\u001b[0m\u001b[0;34m\u001b[0m\u001b[0;34m\u001b[0m\u001b[0m\n\u001b[0m\u001b[1;32m    886\u001b[0m \u001b[0;34m\u001b[0m\u001b[0m\n\u001b[1;32m    887\u001b[0m       \u001b[0mnew_tracing_count\u001b[0m \u001b[0;34m=\u001b[0m \u001b[0mself\u001b[0m\u001b[0;34m.\u001b[0m\u001b[0mexperimental_get_tracing_count\u001b[0m\u001b[0;34m(\u001b[0m\u001b[0;34m)\u001b[0m\u001b[0;34m\u001b[0m\u001b[0;34m\u001b[0m\u001b[0m\n",
            "\u001b[0;32m/usr/local/lib/python3.7/dist-packages/tensorflow/python/eager/def_function.py\u001b[0m in \u001b[0;36m_call\u001b[0;34m(self, *args, **kwds)\u001b[0m\n\u001b[1;32m    931\u001b[0m       \u001b[0;31m# This is the first call of __call__, so we have to initialize.\u001b[0m\u001b[0;34m\u001b[0m\u001b[0;34m\u001b[0m\u001b[0;34m\u001b[0m\u001b[0m\n\u001b[1;32m    932\u001b[0m       \u001b[0minitializers\u001b[0m \u001b[0;34m=\u001b[0m \u001b[0;34m[\u001b[0m\u001b[0;34m]\u001b[0m\u001b[0;34m\u001b[0m\u001b[0;34m\u001b[0m\u001b[0m\n\u001b[0;32m--> 933\u001b[0;31m       \u001b[0mself\u001b[0m\u001b[0;34m.\u001b[0m\u001b[0m_initialize\u001b[0m\u001b[0;34m(\u001b[0m\u001b[0margs\u001b[0m\u001b[0;34m,\u001b[0m \u001b[0mkwds\u001b[0m\u001b[0;34m,\u001b[0m \u001b[0madd_initializers_to\u001b[0m\u001b[0;34m=\u001b[0m\u001b[0minitializers\u001b[0m\u001b[0;34m)\u001b[0m\u001b[0;34m\u001b[0m\u001b[0;34m\u001b[0m\u001b[0m\n\u001b[0m\u001b[1;32m    934\u001b[0m     \u001b[0;32mfinally\u001b[0m\u001b[0;34m:\u001b[0m\u001b[0;34m\u001b[0m\u001b[0;34m\u001b[0m\u001b[0m\n\u001b[1;32m    935\u001b[0m       \u001b[0;31m# At this point we know that the initialization is complete (or less\u001b[0m\u001b[0;34m\u001b[0m\u001b[0;34m\u001b[0m\u001b[0;34m\u001b[0m\u001b[0m\n",
            "\u001b[0;32m/usr/local/lib/python3.7/dist-packages/tensorflow/python/eager/def_function.py\u001b[0m in \u001b[0;36m_initialize\u001b[0;34m(self, args, kwds, add_initializers_to)\u001b[0m\n\u001b[1;32m    758\u001b[0m     self._concrete_stateful_fn = (\n\u001b[1;32m    759\u001b[0m         self._stateful_fn._get_concrete_function_internal_garbage_collected(  # pylint: disable=protected-access\n\u001b[0;32m--> 760\u001b[0;31m             *args, **kwds))\n\u001b[0m\u001b[1;32m    761\u001b[0m \u001b[0;34m\u001b[0m\u001b[0m\n\u001b[1;32m    762\u001b[0m     \u001b[0;32mdef\u001b[0m \u001b[0minvalid_creator_scope\u001b[0m\u001b[0;34m(\u001b[0m\u001b[0;34m*\u001b[0m\u001b[0munused_args\u001b[0m\u001b[0;34m,\u001b[0m \u001b[0;34m**\u001b[0m\u001b[0munused_kwds\u001b[0m\u001b[0;34m)\u001b[0m\u001b[0;34m:\u001b[0m\u001b[0;34m\u001b[0m\u001b[0;34m\u001b[0m\u001b[0m\n",
            "\u001b[0;32m/usr/local/lib/python3.7/dist-packages/tensorflow/python/eager/function.py\u001b[0m in \u001b[0;36m_get_concrete_function_internal_garbage_collected\u001b[0;34m(self, *args, **kwargs)\u001b[0m\n\u001b[1;32m   3064\u001b[0m       \u001b[0margs\u001b[0m\u001b[0;34m,\u001b[0m \u001b[0mkwargs\u001b[0m \u001b[0;34m=\u001b[0m \u001b[0;32mNone\u001b[0m\u001b[0;34m,\u001b[0m \u001b[0;32mNone\u001b[0m\u001b[0;34m\u001b[0m\u001b[0;34m\u001b[0m\u001b[0m\n\u001b[1;32m   3065\u001b[0m     \u001b[0;32mwith\u001b[0m \u001b[0mself\u001b[0m\u001b[0;34m.\u001b[0m\u001b[0m_lock\u001b[0m\u001b[0;34m:\u001b[0m\u001b[0;34m\u001b[0m\u001b[0;34m\u001b[0m\u001b[0m\n\u001b[0;32m-> 3066\u001b[0;31m       \u001b[0mgraph_function\u001b[0m\u001b[0;34m,\u001b[0m \u001b[0m_\u001b[0m \u001b[0;34m=\u001b[0m \u001b[0mself\u001b[0m\u001b[0;34m.\u001b[0m\u001b[0m_maybe_define_function\u001b[0m\u001b[0;34m(\u001b[0m\u001b[0margs\u001b[0m\u001b[0;34m,\u001b[0m \u001b[0mkwargs\u001b[0m\u001b[0;34m)\u001b[0m\u001b[0;34m\u001b[0m\u001b[0;34m\u001b[0m\u001b[0m\n\u001b[0m\u001b[1;32m   3067\u001b[0m     \u001b[0;32mreturn\u001b[0m \u001b[0mgraph_function\u001b[0m\u001b[0;34m\u001b[0m\u001b[0;34m\u001b[0m\u001b[0m\n\u001b[1;32m   3068\u001b[0m \u001b[0;34m\u001b[0m\u001b[0m\n",
            "\u001b[0;32m/usr/local/lib/python3.7/dist-packages/tensorflow/python/eager/function.py\u001b[0m in \u001b[0;36m_maybe_define_function\u001b[0;34m(self, args, kwargs)\u001b[0m\n\u001b[1;32m   3461\u001b[0m \u001b[0;34m\u001b[0m\u001b[0m\n\u001b[1;32m   3462\u001b[0m           \u001b[0mself\u001b[0m\u001b[0;34m.\u001b[0m\u001b[0m_function_cache\u001b[0m\u001b[0;34m.\u001b[0m\u001b[0mmissed\u001b[0m\u001b[0;34m.\u001b[0m\u001b[0madd\u001b[0m\u001b[0;34m(\u001b[0m\u001b[0mcall_context_key\u001b[0m\u001b[0;34m)\u001b[0m\u001b[0;34m\u001b[0m\u001b[0;34m\u001b[0m\u001b[0m\n\u001b[0;32m-> 3463\u001b[0;31m           \u001b[0mgraph_function\u001b[0m \u001b[0;34m=\u001b[0m \u001b[0mself\u001b[0m\u001b[0;34m.\u001b[0m\u001b[0m_create_graph_function\u001b[0m\u001b[0;34m(\u001b[0m\u001b[0margs\u001b[0m\u001b[0;34m,\u001b[0m \u001b[0mkwargs\u001b[0m\u001b[0;34m)\u001b[0m\u001b[0;34m\u001b[0m\u001b[0;34m\u001b[0m\u001b[0m\n\u001b[0m\u001b[1;32m   3464\u001b[0m           \u001b[0mself\u001b[0m\u001b[0;34m.\u001b[0m\u001b[0m_function_cache\u001b[0m\u001b[0;34m.\u001b[0m\u001b[0mprimary\u001b[0m\u001b[0;34m[\u001b[0m\u001b[0mcache_key\u001b[0m\u001b[0;34m]\u001b[0m \u001b[0;34m=\u001b[0m \u001b[0mgraph_function\u001b[0m\u001b[0;34m\u001b[0m\u001b[0;34m\u001b[0m\u001b[0m\n\u001b[1;32m   3465\u001b[0m \u001b[0;34m\u001b[0m\u001b[0m\n",
            "\u001b[0;32m/usr/local/lib/python3.7/dist-packages/tensorflow/python/eager/function.py\u001b[0m in \u001b[0;36m_create_graph_function\u001b[0;34m(self, args, kwargs, override_flat_arg_shapes)\u001b[0m\n\u001b[1;32m   3306\u001b[0m             \u001b[0marg_names\u001b[0m\u001b[0;34m=\u001b[0m\u001b[0marg_names\u001b[0m\u001b[0;34m,\u001b[0m\u001b[0;34m\u001b[0m\u001b[0;34m\u001b[0m\u001b[0m\n\u001b[1;32m   3307\u001b[0m             \u001b[0moverride_flat_arg_shapes\u001b[0m\u001b[0;34m=\u001b[0m\u001b[0moverride_flat_arg_shapes\u001b[0m\u001b[0;34m,\u001b[0m\u001b[0;34m\u001b[0m\u001b[0;34m\u001b[0m\u001b[0m\n\u001b[0;32m-> 3308\u001b[0;31m             capture_by_value=self._capture_by_value),\n\u001b[0m\u001b[1;32m   3309\u001b[0m         \u001b[0mself\u001b[0m\u001b[0;34m.\u001b[0m\u001b[0m_function_attributes\u001b[0m\u001b[0;34m,\u001b[0m\u001b[0;34m\u001b[0m\u001b[0;34m\u001b[0m\u001b[0m\n\u001b[1;32m   3310\u001b[0m         \u001b[0mfunction_spec\u001b[0m\u001b[0;34m=\u001b[0m\u001b[0mself\u001b[0m\u001b[0;34m.\u001b[0m\u001b[0mfunction_spec\u001b[0m\u001b[0;34m,\u001b[0m\u001b[0;34m\u001b[0m\u001b[0;34m\u001b[0m\u001b[0m\n",
            "\u001b[0;32m/usr/local/lib/python3.7/dist-packages/tensorflow/python/framework/func_graph.py\u001b[0m in \u001b[0;36mfunc_graph_from_py_func\u001b[0;34m(name, python_func, args, kwargs, signature, func_graph, autograph, autograph_options, add_control_dependencies, arg_names, op_return_value, collections, capture_by_value, override_flat_arg_shapes, acd_record_initial_resource_uses)\u001b[0m\n\u001b[1;32m   1005\u001b[0m         \u001b[0m_\u001b[0m\u001b[0;34m,\u001b[0m \u001b[0moriginal_func\u001b[0m \u001b[0;34m=\u001b[0m \u001b[0mtf_decorator\u001b[0m\u001b[0;34m.\u001b[0m\u001b[0munwrap\u001b[0m\u001b[0;34m(\u001b[0m\u001b[0mpython_func\u001b[0m\u001b[0;34m)\u001b[0m\u001b[0;34m\u001b[0m\u001b[0;34m\u001b[0m\u001b[0m\n\u001b[1;32m   1006\u001b[0m \u001b[0;34m\u001b[0m\u001b[0m\n\u001b[0;32m-> 1007\u001b[0;31m       \u001b[0mfunc_outputs\u001b[0m \u001b[0;34m=\u001b[0m \u001b[0mpython_func\u001b[0m\u001b[0;34m(\u001b[0m\u001b[0;34m*\u001b[0m\u001b[0mfunc_args\u001b[0m\u001b[0;34m,\u001b[0m \u001b[0;34m**\u001b[0m\u001b[0mfunc_kwargs\u001b[0m\u001b[0;34m)\u001b[0m\u001b[0;34m\u001b[0m\u001b[0;34m\u001b[0m\u001b[0m\n\u001b[0m\u001b[1;32m   1008\u001b[0m \u001b[0;34m\u001b[0m\u001b[0m\n\u001b[1;32m   1009\u001b[0m       \u001b[0;31m# invariant: `func_outputs` contains only Tensors, CompositeTensors,\u001b[0m\u001b[0;34m\u001b[0m\u001b[0;34m\u001b[0m\u001b[0;34m\u001b[0m\u001b[0m\n",
            "\u001b[0;32m/usr/local/lib/python3.7/dist-packages/tensorflow/python/eager/def_function.py\u001b[0m in \u001b[0;36mwrapped_fn\u001b[0;34m(*args, **kwds)\u001b[0m\n\u001b[1;32m    666\u001b[0m         \u001b[0;31m# the function a weak reference to itself to avoid a reference cycle.\u001b[0m\u001b[0;34m\u001b[0m\u001b[0;34m\u001b[0m\u001b[0;34m\u001b[0m\u001b[0m\n\u001b[1;32m    667\u001b[0m         \u001b[0;32mwith\u001b[0m \u001b[0mOptionalXlaContext\u001b[0m\u001b[0;34m(\u001b[0m\u001b[0mcompile_with_xla\u001b[0m\u001b[0;34m)\u001b[0m\u001b[0;34m:\u001b[0m\u001b[0;34m\u001b[0m\u001b[0;34m\u001b[0m\u001b[0m\n\u001b[0;32m--> 668\u001b[0;31m           \u001b[0mout\u001b[0m \u001b[0;34m=\u001b[0m \u001b[0mweak_wrapped_fn\u001b[0m\u001b[0;34m(\u001b[0m\u001b[0;34m)\u001b[0m\u001b[0;34m.\u001b[0m\u001b[0m__wrapped__\u001b[0m\u001b[0;34m(\u001b[0m\u001b[0;34m*\u001b[0m\u001b[0margs\u001b[0m\u001b[0;34m,\u001b[0m \u001b[0;34m**\u001b[0m\u001b[0mkwds\u001b[0m\u001b[0;34m)\u001b[0m\u001b[0;34m\u001b[0m\u001b[0;34m\u001b[0m\u001b[0m\n\u001b[0m\u001b[1;32m    669\u001b[0m         \u001b[0;32mreturn\u001b[0m \u001b[0mout\u001b[0m\u001b[0;34m\u001b[0m\u001b[0;34m\u001b[0m\u001b[0m\n\u001b[1;32m    670\u001b[0m \u001b[0;34m\u001b[0m\u001b[0m\n",
            "\u001b[0;32m/usr/local/lib/python3.7/dist-packages/tensorflow/python/framework/func_graph.py\u001b[0m in \u001b[0;36mwrapper\u001b[0;34m(*args, **kwargs)\u001b[0m\n\u001b[1;32m    988\u001b[0m                     \u001b[0mrecursive\u001b[0m\u001b[0;34m=\u001b[0m\u001b[0;32mTrue\u001b[0m\u001b[0;34m,\u001b[0m\u001b[0;34m\u001b[0m\u001b[0;34m\u001b[0m\u001b[0m\n\u001b[1;32m    989\u001b[0m                     \u001b[0moptional_features\u001b[0m\u001b[0;34m=\u001b[0m\u001b[0mautograph_options\u001b[0m\u001b[0;34m,\u001b[0m\u001b[0;34m\u001b[0m\u001b[0;34m\u001b[0m\u001b[0m\n\u001b[0;32m--> 990\u001b[0;31m                     \u001b[0muser_requested\u001b[0m\u001b[0;34m=\u001b[0m\u001b[0;32mTrue\u001b[0m\u001b[0;34m,\u001b[0m\u001b[0;34m\u001b[0m\u001b[0;34m\u001b[0m\u001b[0m\n\u001b[0m\u001b[1;32m    991\u001b[0m                 ))\n\u001b[1;32m    992\u001b[0m           \u001b[0;32mexcept\u001b[0m \u001b[0mException\u001b[0m \u001b[0;32mas\u001b[0m \u001b[0me\u001b[0m\u001b[0;34m:\u001b[0m  \u001b[0;31m# pylint:disable=broad-except\u001b[0m\u001b[0;34m\u001b[0m\u001b[0;34m\u001b[0m\u001b[0m\n",
            "\u001b[0;32m/usr/local/lib/python3.7/dist-packages/tensorflow/python/autograph/impl/api.py\u001b[0m in \u001b[0;36mconverted_call\u001b[0;34m(f, args, kwargs, caller_fn_scope, options)\u001b[0m\n\u001b[1;32m    442\u001b[0m     \u001b[0;32mtry\u001b[0m\u001b[0;34m:\u001b[0m\u001b[0;34m\u001b[0m\u001b[0;34m\u001b[0m\u001b[0m\n\u001b[1;32m    443\u001b[0m       \u001b[0;32mif\u001b[0m \u001b[0mkwargs\u001b[0m \u001b[0;32mis\u001b[0m \u001b[0;32mnot\u001b[0m \u001b[0;32mNone\u001b[0m\u001b[0;34m:\u001b[0m\u001b[0;34m\u001b[0m\u001b[0;34m\u001b[0m\u001b[0m\n\u001b[0;32m--> 444\u001b[0;31m         \u001b[0mresult\u001b[0m \u001b[0;34m=\u001b[0m \u001b[0mconverted_f\u001b[0m\u001b[0;34m(\u001b[0m\u001b[0;34m*\u001b[0m\u001b[0meffective_args\u001b[0m\u001b[0;34m,\u001b[0m \u001b[0;34m**\u001b[0m\u001b[0mkwargs\u001b[0m\u001b[0;34m)\u001b[0m\u001b[0;34m\u001b[0m\u001b[0;34m\u001b[0m\u001b[0m\n\u001b[0m\u001b[1;32m    445\u001b[0m       \u001b[0;32melse\u001b[0m\u001b[0;34m:\u001b[0m\u001b[0;34m\u001b[0m\u001b[0;34m\u001b[0m\u001b[0m\n\u001b[1;32m    446\u001b[0m         \u001b[0mresult\u001b[0m \u001b[0;34m=\u001b[0m \u001b[0mconverted_f\u001b[0m\u001b[0;34m(\u001b[0m\u001b[0;34m*\u001b[0m\u001b[0meffective_args\u001b[0m\u001b[0;34m)\u001b[0m\u001b[0;34m\u001b[0m\u001b[0;34m\u001b[0m\u001b[0m\n",
            "\u001b[0;32m/usr/local/lib/python3.7/dist-packages/gpflow/models/training_mixins.py\u001b[0m in \u001b[0;36mtf__closure\u001b[0;34m()\u001b[0m\n\u001b[1;32m     12\u001b[0m                 \u001b[0;32mtry\u001b[0m\u001b[0;34m:\u001b[0m\u001b[0;34m\u001b[0m\u001b[0;34m\u001b[0m\u001b[0m\n\u001b[1;32m     13\u001b[0m                     \u001b[0mdo_return\u001b[0m \u001b[0;34m=\u001b[0m \u001b[0;32mTrue\u001b[0m\u001b[0;34m\u001b[0m\u001b[0;34m\u001b[0m\u001b[0m\n\u001b[0;32m---> 14\u001b[0;31m                     \u001b[0mretval_\u001b[0m \u001b[0;34m=\u001b[0m \u001b[0mag__\u001b[0m\u001b[0;34m.\u001b[0m\u001b[0mconverted_call\u001b[0m\u001b[0;34m(\u001b[0m\u001b[0mag__\u001b[0m\u001b[0;34m.\u001b[0m\u001b[0mld\u001b[0m\u001b[0;34m(\u001b[0m\u001b[0mtraining_loss\u001b[0m\u001b[0;34m)\u001b[0m\u001b[0;34m,\u001b[0m \u001b[0;34m(\u001b[0m\u001b[0mag__\u001b[0m\u001b[0;34m.\u001b[0m\u001b[0mld\u001b[0m\u001b[0;34m(\u001b[0m\u001b[0mdata\u001b[0m\u001b[0;34m)\u001b[0m\u001b[0;34m,\u001b[0m\u001b[0;34m)\u001b[0m\u001b[0;34m,\u001b[0m \u001b[0;32mNone\u001b[0m\u001b[0;34m,\u001b[0m \u001b[0mfscope\u001b[0m\u001b[0;34m)\u001b[0m\u001b[0;34m\u001b[0m\u001b[0;34m\u001b[0m\u001b[0m\n\u001b[0m\u001b[1;32m     15\u001b[0m                 \u001b[0;32mexcept\u001b[0m\u001b[0;34m:\u001b[0m\u001b[0;34m\u001b[0m\u001b[0;34m\u001b[0m\u001b[0m\n\u001b[1;32m     16\u001b[0m                     \u001b[0mdo_return\u001b[0m \u001b[0;34m=\u001b[0m \u001b[0;32mFalse\u001b[0m\u001b[0;34m\u001b[0m\u001b[0;34m\u001b[0m\u001b[0m\n",
            "\u001b[0;32m/usr/local/lib/python3.7/dist-packages/tensorflow/python/autograph/impl/api.py\u001b[0m in \u001b[0;36mconverted_call\u001b[0;34m(f, args, kwargs, caller_fn_scope, options)\u001b[0m\n\u001b[1;32m    444\u001b[0m         \u001b[0mresult\u001b[0m \u001b[0;34m=\u001b[0m \u001b[0mconverted_f\u001b[0m\u001b[0;34m(\u001b[0m\u001b[0;34m*\u001b[0m\u001b[0meffective_args\u001b[0m\u001b[0;34m,\u001b[0m \u001b[0;34m**\u001b[0m\u001b[0mkwargs\u001b[0m\u001b[0;34m)\u001b[0m\u001b[0;34m\u001b[0m\u001b[0;34m\u001b[0m\u001b[0m\n\u001b[1;32m    445\u001b[0m       \u001b[0;32melse\u001b[0m\u001b[0;34m:\u001b[0m\u001b[0;34m\u001b[0m\u001b[0;34m\u001b[0m\u001b[0m\n\u001b[0;32m--> 446\u001b[0;31m         \u001b[0mresult\u001b[0m \u001b[0;34m=\u001b[0m \u001b[0mconverted_f\u001b[0m\u001b[0;34m(\u001b[0m\u001b[0;34m*\u001b[0m\u001b[0meffective_args\u001b[0m\u001b[0;34m)\u001b[0m\u001b[0;34m\u001b[0m\u001b[0;34m\u001b[0m\u001b[0m\n\u001b[0m\u001b[1;32m    447\u001b[0m     \u001b[0;32mexcept\u001b[0m \u001b[0mException\u001b[0m \u001b[0;32mas\u001b[0m \u001b[0me\u001b[0m\u001b[0;34m:\u001b[0m\u001b[0;34m\u001b[0m\u001b[0;34m\u001b[0m\u001b[0m\n\u001b[1;32m    448\u001b[0m       \u001b[0m_attach_error_metadata\u001b[0m\u001b[0;34m(\u001b[0m\u001b[0me\u001b[0m\u001b[0;34m,\u001b[0m \u001b[0mconverted_f\u001b[0m\u001b[0;34m)\u001b[0m\u001b[0;34m\u001b[0m\u001b[0;34m\u001b[0m\u001b[0m\n",
            "\u001b[0;32m/usr/local/lib/python3.7/dist-packages/gpflow/models/training_mixins.py\u001b[0m in \u001b[0;36mtf__training_loss\u001b[0;34m(self, data)\u001b[0m\n\u001b[1;32m     11\u001b[0m                 \u001b[0;32mtry\u001b[0m\u001b[0;34m:\u001b[0m\u001b[0;34m\u001b[0m\u001b[0;34m\u001b[0m\u001b[0m\n\u001b[1;32m     12\u001b[0m                     \u001b[0mdo_return\u001b[0m \u001b[0;34m=\u001b[0m \u001b[0;32mTrue\u001b[0m\u001b[0;34m\u001b[0m\u001b[0;34m\u001b[0m\u001b[0m\n\u001b[0;32m---> 13\u001b[0;31m                     \u001b[0mretval_\u001b[0m \u001b[0;34m=\u001b[0m \u001b[0mag__\u001b[0m\u001b[0;34m.\u001b[0m\u001b[0mconverted_call\u001b[0m\u001b[0;34m(\u001b[0m\u001b[0mag__\u001b[0m\u001b[0;34m.\u001b[0m\u001b[0mld\u001b[0m\u001b[0;34m(\u001b[0m\u001b[0mself\u001b[0m\u001b[0;34m)\u001b[0m\u001b[0;34m.\u001b[0m\u001b[0m_training_loss\u001b[0m\u001b[0;34m,\u001b[0m \u001b[0;34m(\u001b[0m\u001b[0mag__\u001b[0m\u001b[0;34m.\u001b[0m\u001b[0mld\u001b[0m\u001b[0;34m(\u001b[0m\u001b[0mdata\u001b[0m\u001b[0;34m)\u001b[0m\u001b[0;34m,\u001b[0m\u001b[0;34m)\u001b[0m\u001b[0;34m,\u001b[0m \u001b[0;32mNone\u001b[0m\u001b[0;34m,\u001b[0m \u001b[0mfscope\u001b[0m\u001b[0;34m)\u001b[0m\u001b[0;34m\u001b[0m\u001b[0;34m\u001b[0m\u001b[0m\n\u001b[0m\u001b[1;32m     14\u001b[0m                 \u001b[0;32mexcept\u001b[0m\u001b[0;34m:\u001b[0m\u001b[0;34m\u001b[0m\u001b[0;34m\u001b[0m\u001b[0m\n\u001b[1;32m     15\u001b[0m                     \u001b[0mdo_return\u001b[0m \u001b[0;34m=\u001b[0m \u001b[0;32mFalse\u001b[0m\u001b[0;34m\u001b[0m\u001b[0;34m\u001b[0m\u001b[0m\n",
            "\u001b[0;32m/usr/local/lib/python3.7/dist-packages/tensorflow/python/autograph/impl/api.py\u001b[0m in \u001b[0;36mconverted_call\u001b[0;34m(f, args, kwargs, caller_fn_scope, options)\u001b[0m\n\u001b[1;32m    444\u001b[0m         \u001b[0mresult\u001b[0m \u001b[0;34m=\u001b[0m \u001b[0mconverted_f\u001b[0m\u001b[0;34m(\u001b[0m\u001b[0;34m*\u001b[0m\u001b[0meffective_args\u001b[0m\u001b[0;34m,\u001b[0m \u001b[0;34m**\u001b[0m\u001b[0mkwargs\u001b[0m\u001b[0;34m)\u001b[0m\u001b[0;34m\u001b[0m\u001b[0;34m\u001b[0m\u001b[0m\n\u001b[1;32m    445\u001b[0m       \u001b[0;32melse\u001b[0m\u001b[0;34m:\u001b[0m\u001b[0;34m\u001b[0m\u001b[0;34m\u001b[0m\u001b[0m\n\u001b[0;32m--> 446\u001b[0;31m         \u001b[0mresult\u001b[0m \u001b[0;34m=\u001b[0m \u001b[0mconverted_f\u001b[0m\u001b[0;34m(\u001b[0m\u001b[0;34m*\u001b[0m\u001b[0meffective_args\u001b[0m\u001b[0;34m)\u001b[0m\u001b[0;34m\u001b[0m\u001b[0;34m\u001b[0m\u001b[0m\n\u001b[0m\u001b[1;32m    447\u001b[0m     \u001b[0;32mexcept\u001b[0m \u001b[0mException\u001b[0m \u001b[0;32mas\u001b[0m \u001b[0me\u001b[0m\u001b[0;34m:\u001b[0m\u001b[0;34m\u001b[0m\u001b[0;34m\u001b[0m\u001b[0m\n\u001b[1;32m    448\u001b[0m       \u001b[0m_attach_error_metadata\u001b[0m\u001b[0;34m(\u001b[0m\u001b[0me\u001b[0m\u001b[0;34m,\u001b[0m \u001b[0mconverted_f\u001b[0m\u001b[0;34m)\u001b[0m\u001b[0;34m\u001b[0m\u001b[0;34m\u001b[0m\u001b[0m\n",
            "\u001b[0;32m/usr/local/lib/python3.7/dist-packages/gpflow/models/model.py\u001b[0m in \u001b[0;36mtf___training_loss\u001b[0;34m(self, *args, **kwargs)\u001b[0m\n\u001b[1;32m     11\u001b[0m                 \u001b[0;32mtry\u001b[0m\u001b[0;34m:\u001b[0m\u001b[0;34m\u001b[0m\u001b[0;34m\u001b[0m\u001b[0m\n\u001b[1;32m     12\u001b[0m                     \u001b[0mdo_return\u001b[0m \u001b[0;34m=\u001b[0m \u001b[0;32mTrue\u001b[0m\u001b[0;34m\u001b[0m\u001b[0;34m\u001b[0m\u001b[0m\n\u001b[0;32m---> 13\u001b[0;31m                     \u001b[0mretval_\u001b[0m \u001b[0;34m=\u001b[0m \u001b[0;34m(\u001b[0m\u001b[0;34m-\u001b[0m \u001b[0;34m(\u001b[0m\u001b[0mag__\u001b[0m\u001b[0;34m.\u001b[0m\u001b[0mconverted_call\u001b[0m\u001b[0;34m(\u001b[0m\u001b[0mag__\u001b[0m\u001b[0;34m.\u001b[0m\u001b[0mld\u001b[0m\u001b[0;34m(\u001b[0m\u001b[0mself\u001b[0m\u001b[0;34m)\u001b[0m\u001b[0;34m.\u001b[0m\u001b[0mmaximum_log_likelihood_objective\u001b[0m\u001b[0;34m,\u001b[0m \u001b[0mtuple\u001b[0m\u001b[0;34m(\u001b[0m\u001b[0mag__\u001b[0m\u001b[0;34m.\u001b[0m\u001b[0mld\u001b[0m\u001b[0;34m(\u001b[0m\u001b[0margs\u001b[0m\u001b[0;34m)\u001b[0m\u001b[0;34m)\u001b[0m\u001b[0;34m,\u001b[0m \u001b[0mdict\u001b[0m\u001b[0;34m(\u001b[0m\u001b[0;34m**\u001b[0m\u001b[0mag__\u001b[0m\u001b[0;34m.\u001b[0m\u001b[0mld\u001b[0m\u001b[0;34m(\u001b[0m\u001b[0mkwargs\u001b[0m\u001b[0;34m)\u001b[0m\u001b[0;34m)\u001b[0m\u001b[0;34m,\u001b[0m \u001b[0mfscope\u001b[0m\u001b[0;34m)\u001b[0m \u001b[0;34m+\u001b[0m \u001b[0mag__\u001b[0m\u001b[0;34m.\u001b[0m\u001b[0mconverted_call\u001b[0m\u001b[0;34m(\u001b[0m\u001b[0mag__\u001b[0m\u001b[0;34m.\u001b[0m\u001b[0mld\u001b[0m\u001b[0;34m(\u001b[0m\u001b[0mself\u001b[0m\u001b[0;34m)\u001b[0m\u001b[0;34m.\u001b[0m\u001b[0mlog_prior_density\u001b[0m\u001b[0;34m,\u001b[0m \u001b[0;34m(\u001b[0m\u001b[0;34m)\u001b[0m\u001b[0;34m,\u001b[0m \u001b[0;32mNone\u001b[0m\u001b[0;34m,\u001b[0m \u001b[0mfscope\u001b[0m\u001b[0;34m)\u001b[0m\u001b[0;34m)\u001b[0m\u001b[0;34m)\u001b[0m\u001b[0;34m\u001b[0m\u001b[0;34m\u001b[0m\u001b[0m\n\u001b[0m\u001b[1;32m     14\u001b[0m                 \u001b[0;32mexcept\u001b[0m\u001b[0;34m:\u001b[0m\u001b[0;34m\u001b[0m\u001b[0;34m\u001b[0m\u001b[0m\n\u001b[1;32m     15\u001b[0m                     \u001b[0mdo_return\u001b[0m \u001b[0;34m=\u001b[0m \u001b[0;32mFalse\u001b[0m\u001b[0;34m\u001b[0m\u001b[0;34m\u001b[0m\u001b[0m\n",
            "\u001b[0;32m/usr/local/lib/python3.7/dist-packages/tensorflow/python/autograph/impl/api.py\u001b[0m in \u001b[0;36mconverted_call\u001b[0;34m(f, args, kwargs, caller_fn_scope, options)\u001b[0m\n\u001b[1;32m    442\u001b[0m     \u001b[0;32mtry\u001b[0m\u001b[0;34m:\u001b[0m\u001b[0;34m\u001b[0m\u001b[0;34m\u001b[0m\u001b[0m\n\u001b[1;32m    443\u001b[0m       \u001b[0;32mif\u001b[0m \u001b[0mkwargs\u001b[0m \u001b[0;32mis\u001b[0m \u001b[0;32mnot\u001b[0m \u001b[0;32mNone\u001b[0m\u001b[0;34m:\u001b[0m\u001b[0;34m\u001b[0m\u001b[0;34m\u001b[0m\u001b[0m\n\u001b[0;32m--> 444\u001b[0;31m         \u001b[0mresult\u001b[0m \u001b[0;34m=\u001b[0m \u001b[0mconverted_f\u001b[0m\u001b[0;34m(\u001b[0m\u001b[0;34m*\u001b[0m\u001b[0meffective_args\u001b[0m\u001b[0;34m,\u001b[0m \u001b[0;34m**\u001b[0m\u001b[0mkwargs\u001b[0m\u001b[0;34m)\u001b[0m\u001b[0;34m\u001b[0m\u001b[0;34m\u001b[0m\u001b[0m\n\u001b[0m\u001b[1;32m    445\u001b[0m       \u001b[0;32melse\u001b[0m\u001b[0;34m:\u001b[0m\u001b[0;34m\u001b[0m\u001b[0;34m\u001b[0m\u001b[0m\n\u001b[1;32m    446\u001b[0m         \u001b[0mresult\u001b[0m \u001b[0;34m=\u001b[0m \u001b[0mconverted_f\u001b[0m\u001b[0;34m(\u001b[0m\u001b[0;34m*\u001b[0m\u001b[0meffective_args\u001b[0m\u001b[0;34m)\u001b[0m\u001b[0;34m\u001b[0m\u001b[0;34m\u001b[0m\u001b[0m\n",
            "\u001b[0;32m/usr/local/lib/python3.7/dist-packages/gpflow/models/svgp.py\u001b[0m in \u001b[0;36mtf__maximum_log_likelihood_objective\u001b[0;34m(self, data)\u001b[0m\n\u001b[1;32m     10\u001b[0m                 \u001b[0;32mtry\u001b[0m\u001b[0;34m:\u001b[0m\u001b[0;34m\u001b[0m\u001b[0;34m\u001b[0m\u001b[0m\n\u001b[1;32m     11\u001b[0m                     \u001b[0mdo_return\u001b[0m \u001b[0;34m=\u001b[0m \u001b[0;32mTrue\u001b[0m\u001b[0;34m\u001b[0m\u001b[0;34m\u001b[0m\u001b[0m\n\u001b[0;32m---> 12\u001b[0;31m                     \u001b[0mretval_\u001b[0m \u001b[0;34m=\u001b[0m \u001b[0mag__\u001b[0m\u001b[0;34m.\u001b[0m\u001b[0mconverted_call\u001b[0m\u001b[0;34m(\u001b[0m\u001b[0mag__\u001b[0m\u001b[0;34m.\u001b[0m\u001b[0mld\u001b[0m\u001b[0;34m(\u001b[0m\u001b[0mself\u001b[0m\u001b[0;34m)\u001b[0m\u001b[0;34m.\u001b[0m\u001b[0melbo\u001b[0m\u001b[0;34m,\u001b[0m \u001b[0;34m(\u001b[0m\u001b[0mag__\u001b[0m\u001b[0;34m.\u001b[0m\u001b[0mld\u001b[0m\u001b[0;34m(\u001b[0m\u001b[0mdata\u001b[0m\u001b[0;34m)\u001b[0m\u001b[0;34m,\u001b[0m\u001b[0;34m)\u001b[0m\u001b[0;34m,\u001b[0m \u001b[0;32mNone\u001b[0m\u001b[0;34m,\u001b[0m \u001b[0mfscope\u001b[0m\u001b[0;34m)\u001b[0m\u001b[0;34m\u001b[0m\u001b[0;34m\u001b[0m\u001b[0m\n\u001b[0m\u001b[1;32m     13\u001b[0m                 \u001b[0;32mexcept\u001b[0m\u001b[0;34m:\u001b[0m\u001b[0;34m\u001b[0m\u001b[0;34m\u001b[0m\u001b[0m\n\u001b[1;32m     14\u001b[0m                     \u001b[0mdo_return\u001b[0m \u001b[0;34m=\u001b[0m \u001b[0;32mFalse\u001b[0m\u001b[0;34m\u001b[0m\u001b[0;34m\u001b[0m\u001b[0m\n",
            "\u001b[0;32m/usr/local/lib/python3.7/dist-packages/tensorflow/python/autograph/impl/api.py\u001b[0m in \u001b[0;36mconverted_call\u001b[0;34m(f, args, kwargs, caller_fn_scope, options)\u001b[0m\n\u001b[1;32m    444\u001b[0m         \u001b[0mresult\u001b[0m \u001b[0;34m=\u001b[0m \u001b[0mconverted_f\u001b[0m\u001b[0;34m(\u001b[0m\u001b[0;34m*\u001b[0m\u001b[0meffective_args\u001b[0m\u001b[0;34m,\u001b[0m \u001b[0;34m**\u001b[0m\u001b[0mkwargs\u001b[0m\u001b[0;34m)\u001b[0m\u001b[0;34m\u001b[0m\u001b[0;34m\u001b[0m\u001b[0m\n\u001b[1;32m    445\u001b[0m       \u001b[0;32melse\u001b[0m\u001b[0;34m:\u001b[0m\u001b[0;34m\u001b[0m\u001b[0;34m\u001b[0m\u001b[0m\n\u001b[0;32m--> 446\u001b[0;31m         \u001b[0mresult\u001b[0m \u001b[0;34m=\u001b[0m \u001b[0mconverted_f\u001b[0m\u001b[0;34m(\u001b[0m\u001b[0;34m*\u001b[0m\u001b[0meffective_args\u001b[0m\u001b[0;34m)\u001b[0m\u001b[0;34m\u001b[0m\u001b[0;34m\u001b[0m\u001b[0m\n\u001b[0m\u001b[1;32m    447\u001b[0m     \u001b[0;32mexcept\u001b[0m \u001b[0mException\u001b[0m \u001b[0;32mas\u001b[0m \u001b[0me\u001b[0m\u001b[0;34m:\u001b[0m\u001b[0;34m\u001b[0m\u001b[0;34m\u001b[0m\u001b[0m\n\u001b[1;32m    448\u001b[0m       \u001b[0m_attach_error_metadata\u001b[0m\u001b[0;34m(\u001b[0m\u001b[0me\u001b[0m\u001b[0;34m,\u001b[0m \u001b[0mconverted_f\u001b[0m\u001b[0;34m)\u001b[0m\u001b[0;34m\u001b[0m\u001b[0;34m\u001b[0m\u001b[0m\n",
            "\u001b[0;32m/usr/local/lib/python3.7/dist-packages/gpflow/models/svgp.py\u001b[0m in \u001b[0;36mtf__elbo\u001b[0;34m(self, data)\u001b[0m\n\u001b[1;32m     11\u001b[0m                 \u001b[0;34m(\u001b[0m\u001b[0mX\u001b[0m\u001b[0;34m,\u001b[0m \u001b[0mY\u001b[0m\u001b[0;34m)\u001b[0m \u001b[0;34m=\u001b[0m \u001b[0mag__\u001b[0m\u001b[0;34m.\u001b[0m\u001b[0mld\u001b[0m\u001b[0;34m(\u001b[0m\u001b[0mdata\u001b[0m\u001b[0;34m)\u001b[0m\u001b[0;34m\u001b[0m\u001b[0;34m\u001b[0m\u001b[0m\n\u001b[1;32m     12\u001b[0m                 \u001b[0mkl\u001b[0m \u001b[0;34m=\u001b[0m \u001b[0mag__\u001b[0m\u001b[0;34m.\u001b[0m\u001b[0mconverted_call\u001b[0m\u001b[0;34m(\u001b[0m\u001b[0mag__\u001b[0m\u001b[0;34m.\u001b[0m\u001b[0mld\u001b[0m\u001b[0;34m(\u001b[0m\u001b[0mself\u001b[0m\u001b[0;34m)\u001b[0m\u001b[0;34m.\u001b[0m\u001b[0mprior_kl\u001b[0m\u001b[0;34m,\u001b[0m \u001b[0;34m(\u001b[0m\u001b[0;34m)\u001b[0m\u001b[0;34m,\u001b[0m \u001b[0;32mNone\u001b[0m\u001b[0;34m,\u001b[0m \u001b[0mfscope\u001b[0m\u001b[0;34m)\u001b[0m\u001b[0;34m\u001b[0m\u001b[0;34m\u001b[0m\u001b[0m\n\u001b[0;32m---> 13\u001b[0;31m                 \u001b[0;34m(\u001b[0m\u001b[0mf_mean\u001b[0m\u001b[0;34m,\u001b[0m \u001b[0mf_var\u001b[0m\u001b[0;34m)\u001b[0m \u001b[0;34m=\u001b[0m \u001b[0mag__\u001b[0m\u001b[0;34m.\u001b[0m\u001b[0mconverted_call\u001b[0m\u001b[0;34m(\u001b[0m\u001b[0mag__\u001b[0m\u001b[0;34m.\u001b[0m\u001b[0mld\u001b[0m\u001b[0;34m(\u001b[0m\u001b[0mself\u001b[0m\u001b[0;34m)\u001b[0m\u001b[0;34m.\u001b[0m\u001b[0mpredict_f\u001b[0m\u001b[0;34m,\u001b[0m \u001b[0;34m(\u001b[0m\u001b[0mag__\u001b[0m\u001b[0;34m.\u001b[0m\u001b[0mld\u001b[0m\u001b[0;34m(\u001b[0m\u001b[0mX\u001b[0m\u001b[0;34m)\u001b[0m\u001b[0;34m,\u001b[0m\u001b[0;34m)\u001b[0m\u001b[0;34m,\u001b[0m \u001b[0mdict\u001b[0m\u001b[0;34m(\u001b[0m\u001b[0mfull_cov\u001b[0m\u001b[0;34m=\u001b[0m\u001b[0;32mFalse\u001b[0m\u001b[0;34m,\u001b[0m \u001b[0mfull_output_cov\u001b[0m\u001b[0;34m=\u001b[0m\u001b[0;32mFalse\u001b[0m\u001b[0;34m)\u001b[0m\u001b[0;34m,\u001b[0m \u001b[0mfscope\u001b[0m\u001b[0;34m)\u001b[0m\u001b[0;34m\u001b[0m\u001b[0;34m\u001b[0m\u001b[0m\n\u001b[0m\u001b[1;32m     14\u001b[0m                 \u001b[0mvar_exp\u001b[0m \u001b[0;34m=\u001b[0m \u001b[0mag__\u001b[0m\u001b[0;34m.\u001b[0m\u001b[0mconverted_call\u001b[0m\u001b[0;34m(\u001b[0m\u001b[0mag__\u001b[0m\u001b[0;34m.\u001b[0m\u001b[0mld\u001b[0m\u001b[0;34m(\u001b[0m\u001b[0mself\u001b[0m\u001b[0;34m)\u001b[0m\u001b[0;34m.\u001b[0m\u001b[0mlikelihood\u001b[0m\u001b[0;34m.\u001b[0m\u001b[0mvariational_expectations\u001b[0m\u001b[0;34m,\u001b[0m \u001b[0;34m(\u001b[0m\u001b[0mag__\u001b[0m\u001b[0;34m.\u001b[0m\u001b[0mld\u001b[0m\u001b[0;34m(\u001b[0m\u001b[0mf_mean\u001b[0m\u001b[0;34m)\u001b[0m\u001b[0;34m,\u001b[0m \u001b[0mag__\u001b[0m\u001b[0;34m.\u001b[0m\u001b[0mld\u001b[0m\u001b[0;34m(\u001b[0m\u001b[0mf_var\u001b[0m\u001b[0;34m)\u001b[0m\u001b[0;34m,\u001b[0m \u001b[0mag__\u001b[0m\u001b[0;34m.\u001b[0m\u001b[0mld\u001b[0m\u001b[0;34m(\u001b[0m\u001b[0mY\u001b[0m\u001b[0;34m)\u001b[0m\u001b[0;34m)\u001b[0m\u001b[0;34m,\u001b[0m \u001b[0;32mNone\u001b[0m\u001b[0;34m,\u001b[0m \u001b[0mfscope\u001b[0m\u001b[0;34m)\u001b[0m\u001b[0;34m\u001b[0m\u001b[0;34m\u001b[0m\u001b[0m\n\u001b[1;32m     15\u001b[0m \u001b[0;34m\u001b[0m\u001b[0m\n",
            "\u001b[0;32m/usr/local/lib/python3.7/dist-packages/tensorflow/python/autograph/impl/api.py\u001b[0m in \u001b[0;36mconverted_call\u001b[0;34m(f, args, kwargs, caller_fn_scope, options)\u001b[0m\n\u001b[1;32m    442\u001b[0m     \u001b[0;32mtry\u001b[0m\u001b[0;34m:\u001b[0m\u001b[0;34m\u001b[0m\u001b[0;34m\u001b[0m\u001b[0m\n\u001b[1;32m    443\u001b[0m       \u001b[0;32mif\u001b[0m \u001b[0mkwargs\u001b[0m \u001b[0;32mis\u001b[0m \u001b[0;32mnot\u001b[0m \u001b[0;32mNone\u001b[0m\u001b[0;34m:\u001b[0m\u001b[0;34m\u001b[0m\u001b[0;34m\u001b[0m\u001b[0m\n\u001b[0;32m--> 444\u001b[0;31m         \u001b[0mresult\u001b[0m \u001b[0;34m=\u001b[0m \u001b[0mconverted_f\u001b[0m\u001b[0;34m(\u001b[0m\u001b[0;34m*\u001b[0m\u001b[0meffective_args\u001b[0m\u001b[0;34m,\u001b[0m \u001b[0;34m**\u001b[0m\u001b[0mkwargs\u001b[0m\u001b[0;34m)\u001b[0m\u001b[0;34m\u001b[0m\u001b[0;34m\u001b[0m\u001b[0m\n\u001b[0m\u001b[1;32m    445\u001b[0m       \u001b[0;32melse\u001b[0m\u001b[0;34m:\u001b[0m\u001b[0;34m\u001b[0m\u001b[0;34m\u001b[0m\u001b[0m\n\u001b[1;32m    446\u001b[0m         \u001b[0mresult\u001b[0m \u001b[0;34m=\u001b[0m \u001b[0mconverted_f\u001b[0m\u001b[0;34m(\u001b[0m\u001b[0;34m*\u001b[0m\u001b[0meffective_args\u001b[0m\u001b[0;34m)\u001b[0m\u001b[0;34m\u001b[0m\u001b[0;34m\u001b[0m\u001b[0m\n",
            "\u001b[0;32m/usr/local/lib/python3.7/dist-packages/gpflow/models/svgp.py\u001b[0m in \u001b[0;36mtf__predict_f\u001b[0;34m(self, Xnew, full_cov, full_output_cov)\u001b[0m\n\u001b[1;32m     11\u001b[0m                 \u001b[0;32mtry\u001b[0m\u001b[0;34m:\u001b[0m\u001b[0;34m\u001b[0m\u001b[0;34m\u001b[0m\u001b[0m\n\u001b[1;32m     12\u001b[0m                     \u001b[0mdo_return\u001b[0m \u001b[0;34m=\u001b[0m \u001b[0;32mTrue\u001b[0m\u001b[0;34m\u001b[0m\u001b[0;34m\u001b[0m\u001b[0m\n\u001b[0;32m---> 13\u001b[0;31m                     \u001b[0mretval_\u001b[0m \u001b[0;34m=\u001b[0m \u001b[0mag__\u001b[0m\u001b[0;34m.\u001b[0m\u001b[0mconverted_call\u001b[0m\u001b[0;34m(\u001b[0m\u001b[0mag__\u001b[0m\u001b[0;34m.\u001b[0m\u001b[0mconverted_call\u001b[0m\u001b[0;34m(\u001b[0m\u001b[0mag__\u001b[0m\u001b[0;34m.\u001b[0m\u001b[0mld\u001b[0m\u001b[0;34m(\u001b[0m\u001b[0mself\u001b[0m\u001b[0;34m)\u001b[0m\u001b[0;34m.\u001b[0m\u001b[0mposterior\u001b[0m\u001b[0;34m,\u001b[0m \u001b[0;34m(\u001b[0m\u001b[0mag__\u001b[0m\u001b[0;34m.\u001b[0m\u001b[0mld\u001b[0m\u001b[0;34m(\u001b[0m\u001b[0mposteriors\u001b[0m\u001b[0;34m)\u001b[0m\u001b[0;34m.\u001b[0m\u001b[0mPrecomputeCacheType\u001b[0m\u001b[0;34m.\u001b[0m\u001b[0mNOCACHE\u001b[0m\u001b[0;34m,\u001b[0m\u001b[0;34m)\u001b[0m\u001b[0;34m,\u001b[0m \u001b[0;32mNone\u001b[0m\u001b[0;34m,\u001b[0m \u001b[0mfscope\u001b[0m\u001b[0;34m)\u001b[0m\u001b[0;34m.\u001b[0m\u001b[0mfused_predict_f\u001b[0m\u001b[0;34m,\u001b[0m \u001b[0;34m(\u001b[0m\u001b[0mag__\u001b[0m\u001b[0;34m.\u001b[0m\u001b[0mld\u001b[0m\u001b[0;34m(\u001b[0m\u001b[0mXnew\u001b[0m\u001b[0;34m)\u001b[0m\u001b[0;34m,\u001b[0m\u001b[0;34m)\u001b[0m\u001b[0;34m,\u001b[0m \u001b[0mdict\u001b[0m\u001b[0;34m(\u001b[0m\u001b[0mfull_cov\u001b[0m\u001b[0;34m=\u001b[0m\u001b[0mag__\u001b[0m\u001b[0;34m.\u001b[0m\u001b[0mld\u001b[0m\u001b[0;34m(\u001b[0m\u001b[0mfull_cov\u001b[0m\u001b[0;34m)\u001b[0m\u001b[0;34m,\u001b[0m \u001b[0mfull_output_cov\u001b[0m\u001b[0;34m=\u001b[0m\u001b[0mag__\u001b[0m\u001b[0;34m.\u001b[0m\u001b[0mld\u001b[0m\u001b[0;34m(\u001b[0m\u001b[0mfull_output_cov\u001b[0m\u001b[0;34m)\u001b[0m\u001b[0;34m)\u001b[0m\u001b[0;34m,\u001b[0m \u001b[0mfscope\u001b[0m\u001b[0;34m)\u001b[0m\u001b[0;34m\u001b[0m\u001b[0;34m\u001b[0m\u001b[0m\n\u001b[0m\u001b[1;32m     14\u001b[0m                 \u001b[0;32mexcept\u001b[0m\u001b[0;34m:\u001b[0m\u001b[0;34m\u001b[0m\u001b[0;34m\u001b[0m\u001b[0m\n\u001b[1;32m     15\u001b[0m                     \u001b[0mdo_return\u001b[0m \u001b[0;34m=\u001b[0m \u001b[0;32mFalse\u001b[0m\u001b[0;34m\u001b[0m\u001b[0;34m\u001b[0m\u001b[0m\n",
            "\u001b[0;32m/usr/local/lib/python3.7/dist-packages/tensorflow/python/autograph/impl/api.py\u001b[0m in \u001b[0;36mconverted_call\u001b[0;34m(f, args, kwargs, caller_fn_scope, options)\u001b[0m\n\u001b[1;32m    442\u001b[0m     \u001b[0;32mtry\u001b[0m\u001b[0;34m:\u001b[0m\u001b[0;34m\u001b[0m\u001b[0;34m\u001b[0m\u001b[0m\n\u001b[1;32m    443\u001b[0m       \u001b[0;32mif\u001b[0m \u001b[0mkwargs\u001b[0m \u001b[0;32mis\u001b[0m \u001b[0;32mnot\u001b[0m \u001b[0;32mNone\u001b[0m\u001b[0;34m:\u001b[0m\u001b[0;34m\u001b[0m\u001b[0;34m\u001b[0m\u001b[0m\n\u001b[0;32m--> 444\u001b[0;31m         \u001b[0mresult\u001b[0m \u001b[0;34m=\u001b[0m \u001b[0mconverted_f\u001b[0m\u001b[0;34m(\u001b[0m\u001b[0;34m*\u001b[0m\u001b[0meffective_args\u001b[0m\u001b[0;34m,\u001b[0m \u001b[0;34m**\u001b[0m\u001b[0mkwargs\u001b[0m\u001b[0;34m)\u001b[0m\u001b[0;34m\u001b[0m\u001b[0;34m\u001b[0m\u001b[0m\n\u001b[0m\u001b[1;32m    445\u001b[0m       \u001b[0;32melse\u001b[0m\u001b[0;34m:\u001b[0m\u001b[0;34m\u001b[0m\u001b[0;34m\u001b[0m\u001b[0m\n\u001b[1;32m    446\u001b[0m         \u001b[0mresult\u001b[0m \u001b[0;34m=\u001b[0m \u001b[0mconverted_f\u001b[0m\u001b[0;34m(\u001b[0m\u001b[0;34m*\u001b[0m\u001b[0meffective_args\u001b[0m\u001b[0;34m)\u001b[0m\u001b[0;34m\u001b[0m\u001b[0;34m\u001b[0m\u001b[0m\n",
            "\u001b[0;32m/usr/local/lib/python3.7/dist-packages/gpflow/posteriors.py\u001b[0m in \u001b[0;36mtf__fused_predict_f\u001b[0;34m(self, Xnew, full_cov, full_output_cov)\u001b[0m\n\u001b[1;32m      9\u001b[0m                 \u001b[0mdo_return\u001b[0m \u001b[0;34m=\u001b[0m \u001b[0;32mFalse\u001b[0m\u001b[0;34m\u001b[0m\u001b[0;34m\u001b[0m\u001b[0m\n\u001b[1;32m     10\u001b[0m                 \u001b[0mretval_\u001b[0m \u001b[0;34m=\u001b[0m \u001b[0mag__\u001b[0m\u001b[0;34m.\u001b[0m\u001b[0mUndefinedReturnValue\u001b[0m\u001b[0;34m(\u001b[0m\u001b[0;34m)\u001b[0m\u001b[0;34m\u001b[0m\u001b[0;34m\u001b[0m\u001b[0m\n\u001b[0;32m---> 11\u001b[0;31m                 \u001b[0;34m(\u001b[0m\u001b[0mmean\u001b[0m\u001b[0;34m,\u001b[0m \u001b[0mcov\u001b[0m\u001b[0;34m)\u001b[0m \u001b[0;34m=\u001b[0m \u001b[0mag__\u001b[0m\u001b[0;34m.\u001b[0m\u001b[0mconverted_call\u001b[0m\u001b[0;34m(\u001b[0m\u001b[0mag__\u001b[0m\u001b[0;34m.\u001b[0m\u001b[0mld\u001b[0m\u001b[0;34m(\u001b[0m\u001b[0mself\u001b[0m\u001b[0;34m)\u001b[0m\u001b[0;34m.\u001b[0m\u001b[0m_conditional_fused\u001b[0m\u001b[0;34m,\u001b[0m \u001b[0;34m(\u001b[0m\u001b[0mag__\u001b[0m\u001b[0;34m.\u001b[0m\u001b[0mld\u001b[0m\u001b[0;34m(\u001b[0m\u001b[0mXnew\u001b[0m\u001b[0;34m)\u001b[0m\u001b[0;34m,\u001b[0m\u001b[0;34m)\u001b[0m\u001b[0;34m,\u001b[0m \u001b[0mdict\u001b[0m\u001b[0;34m(\u001b[0m\u001b[0mfull_cov\u001b[0m\u001b[0;34m=\u001b[0m\u001b[0mag__\u001b[0m\u001b[0;34m.\u001b[0m\u001b[0mld\u001b[0m\u001b[0;34m(\u001b[0m\u001b[0mfull_cov\u001b[0m\u001b[0;34m)\u001b[0m\u001b[0;34m,\u001b[0m \u001b[0mfull_output_cov\u001b[0m\u001b[0;34m=\u001b[0m\u001b[0mag__\u001b[0m\u001b[0;34m.\u001b[0m\u001b[0mld\u001b[0m\u001b[0;34m(\u001b[0m\u001b[0mfull_output_cov\u001b[0m\u001b[0;34m)\u001b[0m\u001b[0;34m)\u001b[0m\u001b[0;34m,\u001b[0m \u001b[0mfscope\u001b[0m\u001b[0;34m)\u001b[0m\u001b[0;34m\u001b[0m\u001b[0;34m\u001b[0m\u001b[0m\n\u001b[0m\u001b[1;32m     12\u001b[0m                 \u001b[0;32mtry\u001b[0m\u001b[0;34m:\u001b[0m\u001b[0;34m\u001b[0m\u001b[0;34m\u001b[0m\u001b[0m\n\u001b[1;32m     13\u001b[0m                     \u001b[0mdo_return\u001b[0m \u001b[0;34m=\u001b[0m \u001b[0;32mTrue\u001b[0m\u001b[0;34m\u001b[0m\u001b[0;34m\u001b[0m\u001b[0m\n",
            "\u001b[0;32m/usr/local/lib/python3.7/dist-packages/tensorflow/python/autograph/impl/api.py\u001b[0m in \u001b[0;36mconverted_call\u001b[0;34m(f, args, kwargs, caller_fn_scope, options)\u001b[0m\n\u001b[1;32m    442\u001b[0m     \u001b[0;32mtry\u001b[0m\u001b[0;34m:\u001b[0m\u001b[0;34m\u001b[0m\u001b[0;34m\u001b[0m\u001b[0m\n\u001b[1;32m    443\u001b[0m       \u001b[0;32mif\u001b[0m \u001b[0mkwargs\u001b[0m \u001b[0;32mis\u001b[0m \u001b[0;32mnot\u001b[0m \u001b[0;32mNone\u001b[0m\u001b[0;34m:\u001b[0m\u001b[0;34m\u001b[0m\u001b[0;34m\u001b[0m\u001b[0m\n\u001b[0;32m--> 444\u001b[0;31m         \u001b[0mresult\u001b[0m \u001b[0;34m=\u001b[0m \u001b[0mconverted_f\u001b[0m\u001b[0;34m(\u001b[0m\u001b[0;34m*\u001b[0m\u001b[0meffective_args\u001b[0m\u001b[0;34m,\u001b[0m \u001b[0;34m**\u001b[0m\u001b[0mkwargs\u001b[0m\u001b[0;34m)\u001b[0m\u001b[0;34m\u001b[0m\u001b[0;34m\u001b[0m\u001b[0m\n\u001b[0m\u001b[1;32m    445\u001b[0m       \u001b[0;32melse\u001b[0m\u001b[0;34m:\u001b[0m\u001b[0;34m\u001b[0m\u001b[0;34m\u001b[0m\u001b[0m\n\u001b[1;32m    446\u001b[0m         \u001b[0mresult\u001b[0m \u001b[0;34m=\u001b[0m \u001b[0mconverted_f\u001b[0m\u001b[0;34m(\u001b[0m\u001b[0;34m*\u001b[0m\u001b[0meffective_args\u001b[0m\u001b[0;34m)\u001b[0m\u001b[0;34m\u001b[0m\u001b[0;34m\u001b[0m\u001b[0m\n",
            "\u001b[0;32m/usr/local/lib/python3.7/dist-packages/gpflow/posteriors.py\u001b[0m in \u001b[0;36mtf___conditional_fused\u001b[0;34m(self, Xnew, full_cov, full_output_cov)\u001b[0m\n\u001b[1;32m     11\u001b[0m                 \u001b[0mKmm\u001b[0m \u001b[0;34m=\u001b[0m \u001b[0mag__\u001b[0m\u001b[0;34m.\u001b[0m\u001b[0mconverted_call\u001b[0m\u001b[0;34m(\u001b[0m\u001b[0mag__\u001b[0m\u001b[0;34m.\u001b[0m\u001b[0mld\u001b[0m\u001b[0;34m(\u001b[0m\u001b[0mcovariances\u001b[0m\u001b[0;34m)\u001b[0m\u001b[0;34m.\u001b[0m\u001b[0mKuu\u001b[0m\u001b[0;34m,\u001b[0m \u001b[0;34m(\u001b[0m\u001b[0mag__\u001b[0m\u001b[0;34m.\u001b[0m\u001b[0mld\u001b[0m\u001b[0;34m(\u001b[0m\u001b[0mself\u001b[0m\u001b[0;34m)\u001b[0m\u001b[0;34m.\u001b[0m\u001b[0mX_data\u001b[0m\u001b[0;34m,\u001b[0m \u001b[0mag__\u001b[0m\u001b[0;34m.\u001b[0m\u001b[0mld\u001b[0m\u001b[0;34m(\u001b[0m\u001b[0mself\u001b[0m\u001b[0;34m)\u001b[0m\u001b[0;34m.\u001b[0m\u001b[0mkernel\u001b[0m\u001b[0;34m)\u001b[0m\u001b[0;34m,\u001b[0m \u001b[0mdict\u001b[0m\u001b[0;34m(\u001b[0m\u001b[0mjitter\u001b[0m\u001b[0;34m=\u001b[0m\u001b[0mag__\u001b[0m\u001b[0;34m.\u001b[0m\u001b[0mconverted_call\u001b[0m\u001b[0;34m(\u001b[0m\u001b[0mag__\u001b[0m\u001b[0;34m.\u001b[0m\u001b[0mld\u001b[0m\u001b[0;34m(\u001b[0m\u001b[0mdefault_jitter\u001b[0m\u001b[0;34m)\u001b[0m\u001b[0;34m,\u001b[0m \u001b[0;34m(\u001b[0m\u001b[0;34m)\u001b[0m\u001b[0;34m,\u001b[0m \u001b[0;32mNone\u001b[0m\u001b[0;34m,\u001b[0m \u001b[0mfscope\u001b[0m\u001b[0;34m)\u001b[0m\u001b[0;34m)\u001b[0m\u001b[0;34m,\u001b[0m \u001b[0mfscope\u001b[0m\u001b[0;34m)\u001b[0m\u001b[0;34m\u001b[0m\u001b[0;34m\u001b[0m\u001b[0m\n\u001b[1;32m     12\u001b[0m                 \u001b[0mKmn\u001b[0m \u001b[0;34m=\u001b[0m \u001b[0mag__\u001b[0m\u001b[0;34m.\u001b[0m\u001b[0mconverted_call\u001b[0m\u001b[0;34m(\u001b[0m\u001b[0mag__\u001b[0m\u001b[0;34m.\u001b[0m\u001b[0mld\u001b[0m\u001b[0;34m(\u001b[0m\u001b[0mcovariances\u001b[0m\u001b[0;34m)\u001b[0m\u001b[0;34m.\u001b[0m\u001b[0mKuf\u001b[0m\u001b[0;34m,\u001b[0m \u001b[0;34m(\u001b[0m\u001b[0mag__\u001b[0m\u001b[0;34m.\u001b[0m\u001b[0mld\u001b[0m\u001b[0;34m(\u001b[0m\u001b[0mself\u001b[0m\u001b[0;34m)\u001b[0m\u001b[0;34m.\u001b[0m\u001b[0mX_data\u001b[0m\u001b[0;34m,\u001b[0m \u001b[0mag__\u001b[0m\u001b[0;34m.\u001b[0m\u001b[0mld\u001b[0m\u001b[0;34m(\u001b[0m\u001b[0mself\u001b[0m\u001b[0;34m)\u001b[0m\u001b[0;34m.\u001b[0m\u001b[0mkernel\u001b[0m\u001b[0;34m,\u001b[0m \u001b[0mag__\u001b[0m\u001b[0;34m.\u001b[0m\u001b[0mld\u001b[0m\u001b[0;34m(\u001b[0m\u001b[0mXnew\u001b[0m\u001b[0;34m)\u001b[0m\u001b[0;34m)\u001b[0m\u001b[0;34m,\u001b[0m \u001b[0;32mNone\u001b[0m\u001b[0;34m,\u001b[0m \u001b[0mfscope\u001b[0m\u001b[0;34m)\u001b[0m\u001b[0;34m\u001b[0m\u001b[0;34m\u001b[0m\u001b[0m\n\u001b[0;32m---> 13\u001b[0;31m                 \u001b[0;34m(\u001b[0m\u001b[0mfmean\u001b[0m\u001b[0;34m,\u001b[0m \u001b[0mfvar\u001b[0m\u001b[0;34m)\u001b[0m \u001b[0;34m=\u001b[0m \u001b[0mag__\u001b[0m\u001b[0;34m.\u001b[0m\u001b[0mconverted_call\u001b[0m\u001b[0;34m(\u001b[0m\u001b[0mag__\u001b[0m\u001b[0;34m.\u001b[0m\u001b[0mld\u001b[0m\u001b[0;34m(\u001b[0m\u001b[0mbase_conditional\u001b[0m\u001b[0;34m)\u001b[0m\u001b[0;34m,\u001b[0m \u001b[0;34m(\u001b[0m\u001b[0mag__\u001b[0m\u001b[0;34m.\u001b[0m\u001b[0mld\u001b[0m\u001b[0;34m(\u001b[0m\u001b[0mKmn\u001b[0m\u001b[0;34m)\u001b[0m\u001b[0;34m,\u001b[0m \u001b[0mag__\u001b[0m\u001b[0;34m.\u001b[0m\u001b[0mld\u001b[0m\u001b[0;34m(\u001b[0m\u001b[0mKmm\u001b[0m\u001b[0;34m)\u001b[0m\u001b[0;34m,\u001b[0m \u001b[0mag__\u001b[0m\u001b[0;34m.\u001b[0m\u001b[0mld\u001b[0m\u001b[0;34m(\u001b[0m\u001b[0mKnn\u001b[0m\u001b[0;34m)\u001b[0m\u001b[0;34m,\u001b[0m \u001b[0mag__\u001b[0m\u001b[0;34m.\u001b[0m\u001b[0mld\u001b[0m\u001b[0;34m(\u001b[0m\u001b[0mself\u001b[0m\u001b[0;34m)\u001b[0m\u001b[0;34m.\u001b[0m\u001b[0mq_mu\u001b[0m\u001b[0;34m)\u001b[0m\u001b[0;34m,\u001b[0m \u001b[0mdict\u001b[0m\u001b[0;34m(\u001b[0m\u001b[0mfull_cov\u001b[0m\u001b[0;34m=\u001b[0m\u001b[0mag__\u001b[0m\u001b[0;34m.\u001b[0m\u001b[0mld\u001b[0m\u001b[0;34m(\u001b[0m\u001b[0mfull_cov\u001b[0m\u001b[0;34m)\u001b[0m\u001b[0;34m,\u001b[0m \u001b[0mq_sqrt\u001b[0m\u001b[0;34m=\u001b[0m\u001b[0mag__\u001b[0m\u001b[0;34m.\u001b[0m\u001b[0mld\u001b[0m\u001b[0;34m(\u001b[0m\u001b[0mself\u001b[0m\u001b[0;34m)\u001b[0m\u001b[0;34m.\u001b[0m\u001b[0mq_sqrt\u001b[0m\u001b[0;34m,\u001b[0m \u001b[0mwhite\u001b[0m\u001b[0;34m=\u001b[0m\u001b[0mag__\u001b[0m\u001b[0;34m.\u001b[0m\u001b[0mld\u001b[0m\u001b[0;34m(\u001b[0m\u001b[0mself\u001b[0m\u001b[0;34m)\u001b[0m\u001b[0;34m.\u001b[0m\u001b[0mwhiten\u001b[0m\u001b[0;34m)\u001b[0m\u001b[0;34m,\u001b[0m \u001b[0mfscope\u001b[0m\u001b[0;34m)\u001b[0m\u001b[0;34m\u001b[0m\u001b[0;34m\u001b[0m\u001b[0m\n\u001b[0m\u001b[1;32m     14\u001b[0m                 \u001b[0;32mtry\u001b[0m\u001b[0;34m:\u001b[0m\u001b[0;34m\u001b[0m\u001b[0;34m\u001b[0m\u001b[0m\n\u001b[1;32m     15\u001b[0m                     \u001b[0mdo_return\u001b[0m \u001b[0;34m=\u001b[0m \u001b[0;32mTrue\u001b[0m\u001b[0;34m\u001b[0m\u001b[0;34m\u001b[0m\u001b[0m\n",
            "\u001b[0;32m/usr/local/lib/python3.7/dist-packages/tensorflow/python/autograph/impl/api.py\u001b[0m in \u001b[0;36mconverted_call\u001b[0;34m(f, args, kwargs, caller_fn_scope, options)\u001b[0m\n\u001b[1;32m    442\u001b[0m     \u001b[0;32mtry\u001b[0m\u001b[0;34m:\u001b[0m\u001b[0;34m\u001b[0m\u001b[0;34m\u001b[0m\u001b[0m\n\u001b[1;32m    443\u001b[0m       \u001b[0;32mif\u001b[0m \u001b[0mkwargs\u001b[0m \u001b[0;32mis\u001b[0m \u001b[0;32mnot\u001b[0m \u001b[0;32mNone\u001b[0m\u001b[0;34m:\u001b[0m\u001b[0;34m\u001b[0m\u001b[0;34m\u001b[0m\u001b[0m\n\u001b[0;32m--> 444\u001b[0;31m         \u001b[0mresult\u001b[0m \u001b[0;34m=\u001b[0m \u001b[0mconverted_f\u001b[0m\u001b[0;34m(\u001b[0m\u001b[0;34m*\u001b[0m\u001b[0meffective_args\u001b[0m\u001b[0;34m,\u001b[0m \u001b[0;34m**\u001b[0m\u001b[0mkwargs\u001b[0m\u001b[0;34m)\u001b[0m\u001b[0;34m\u001b[0m\u001b[0;34m\u001b[0m\u001b[0m\n\u001b[0m\u001b[1;32m    445\u001b[0m       \u001b[0;32melse\u001b[0m\u001b[0;34m:\u001b[0m\u001b[0;34m\u001b[0m\u001b[0;34m\u001b[0m\u001b[0m\n\u001b[1;32m    446\u001b[0m         \u001b[0mresult\u001b[0m \u001b[0;34m=\u001b[0m \u001b[0mconverted_f\u001b[0m\u001b[0;34m(\u001b[0m\u001b[0;34m*\u001b[0m\u001b[0meffective_args\u001b[0m\u001b[0;34m)\u001b[0m\u001b[0;34m\u001b[0m\u001b[0;34m\u001b[0m\u001b[0m\n",
            "\u001b[0;32m/usr/local/lib/python3.7/dist-packages/gpflow/conditionals/util.py\u001b[0m in \u001b[0;36mtf__base_conditional\u001b[0;34m(Kmn, Kmm, Knn, f, full_cov, q_sqrt, white)\u001b[0m\n\u001b[1;32m     12\u001b[0m                 \u001b[0;32mtry\u001b[0m\u001b[0;34m:\u001b[0m\u001b[0;34m\u001b[0m\u001b[0;34m\u001b[0m\u001b[0m\n\u001b[1;32m     13\u001b[0m                     \u001b[0mdo_return\u001b[0m \u001b[0;34m=\u001b[0m \u001b[0;32mTrue\u001b[0m\u001b[0;34m\u001b[0m\u001b[0;34m\u001b[0m\u001b[0m\n\u001b[0;32m---> 14\u001b[0;31m                     \u001b[0mretval_\u001b[0m \u001b[0;34m=\u001b[0m \u001b[0mag__\u001b[0m\u001b[0;34m.\u001b[0m\u001b[0mconverted_call\u001b[0m\u001b[0;34m(\u001b[0m\u001b[0mag__\u001b[0m\u001b[0;34m.\u001b[0m\u001b[0mld\u001b[0m\u001b[0;34m(\u001b[0m\u001b[0mbase_conditional_with_lm\u001b[0m\u001b[0;34m)\u001b[0m\u001b[0;34m,\u001b[0m \u001b[0;34m(\u001b[0m\u001b[0;34m)\u001b[0m\u001b[0;34m,\u001b[0m \u001b[0mdict\u001b[0m\u001b[0;34m(\u001b[0m\u001b[0mKmn\u001b[0m\u001b[0;34m=\u001b[0m\u001b[0mag__\u001b[0m\u001b[0;34m.\u001b[0m\u001b[0mld\u001b[0m\u001b[0;34m(\u001b[0m\u001b[0mKmn\u001b[0m\u001b[0;34m)\u001b[0m\u001b[0;34m,\u001b[0m \u001b[0mLm\u001b[0m\u001b[0;34m=\u001b[0m\u001b[0mag__\u001b[0m\u001b[0;34m.\u001b[0m\u001b[0mld\u001b[0m\u001b[0;34m(\u001b[0m\u001b[0mLm\u001b[0m\u001b[0;34m)\u001b[0m\u001b[0;34m,\u001b[0m \u001b[0mKnn\u001b[0m\u001b[0;34m=\u001b[0m\u001b[0mag__\u001b[0m\u001b[0;34m.\u001b[0m\u001b[0mld\u001b[0m\u001b[0;34m(\u001b[0m\u001b[0mKnn\u001b[0m\u001b[0;34m)\u001b[0m\u001b[0;34m,\u001b[0m \u001b[0mf\u001b[0m\u001b[0;34m=\u001b[0m\u001b[0mag__\u001b[0m\u001b[0;34m.\u001b[0m\u001b[0mld\u001b[0m\u001b[0;34m(\u001b[0m\u001b[0mf\u001b[0m\u001b[0;34m)\u001b[0m\u001b[0;34m,\u001b[0m \u001b[0mfull_cov\u001b[0m\u001b[0;34m=\u001b[0m\u001b[0mag__\u001b[0m\u001b[0;34m.\u001b[0m\u001b[0mld\u001b[0m\u001b[0;34m(\u001b[0m\u001b[0mfull_cov\u001b[0m\u001b[0;34m)\u001b[0m\u001b[0;34m,\u001b[0m \u001b[0mq_sqrt\u001b[0m\u001b[0;34m=\u001b[0m\u001b[0mag__\u001b[0m\u001b[0;34m.\u001b[0m\u001b[0mld\u001b[0m\u001b[0;34m(\u001b[0m\u001b[0mq_sqrt\u001b[0m\u001b[0;34m)\u001b[0m\u001b[0;34m,\u001b[0m \u001b[0mwhite\u001b[0m\u001b[0;34m=\u001b[0m\u001b[0mag__\u001b[0m\u001b[0;34m.\u001b[0m\u001b[0mld\u001b[0m\u001b[0;34m(\u001b[0m\u001b[0mwhite\u001b[0m\u001b[0;34m)\u001b[0m\u001b[0;34m)\u001b[0m\u001b[0;34m,\u001b[0m \u001b[0mfscope\u001b[0m\u001b[0;34m)\u001b[0m\u001b[0;34m\u001b[0m\u001b[0;34m\u001b[0m\u001b[0m\n\u001b[0m\u001b[1;32m     15\u001b[0m                 \u001b[0;32mexcept\u001b[0m\u001b[0;34m:\u001b[0m\u001b[0;34m\u001b[0m\u001b[0;34m\u001b[0m\u001b[0m\n\u001b[1;32m     16\u001b[0m                     \u001b[0mdo_return\u001b[0m \u001b[0;34m=\u001b[0m \u001b[0;32mFalse\u001b[0m\u001b[0;34m\u001b[0m\u001b[0;34m\u001b[0m\u001b[0m\n",
            "\u001b[0;32m/usr/local/lib/python3.7/dist-packages/tensorflow/python/autograph/impl/api.py\u001b[0m in \u001b[0;36mconverted_call\u001b[0;34m(f, args, kwargs, caller_fn_scope, options)\u001b[0m\n\u001b[1;32m    442\u001b[0m     \u001b[0;32mtry\u001b[0m\u001b[0;34m:\u001b[0m\u001b[0;34m\u001b[0m\u001b[0;34m\u001b[0m\u001b[0m\n\u001b[1;32m    443\u001b[0m       \u001b[0;32mif\u001b[0m \u001b[0mkwargs\u001b[0m \u001b[0;32mis\u001b[0m \u001b[0;32mnot\u001b[0m \u001b[0;32mNone\u001b[0m\u001b[0;34m:\u001b[0m\u001b[0;34m\u001b[0m\u001b[0;34m\u001b[0m\u001b[0m\n\u001b[0;32m--> 444\u001b[0;31m         \u001b[0mresult\u001b[0m \u001b[0;34m=\u001b[0m \u001b[0mconverted_f\u001b[0m\u001b[0;34m(\u001b[0m\u001b[0;34m*\u001b[0m\u001b[0meffective_args\u001b[0m\u001b[0;34m,\u001b[0m \u001b[0;34m**\u001b[0m\u001b[0mkwargs\u001b[0m\u001b[0;34m)\u001b[0m\u001b[0;34m\u001b[0m\u001b[0;34m\u001b[0m\u001b[0m\n\u001b[0m\u001b[1;32m    445\u001b[0m       \u001b[0;32melse\u001b[0m\u001b[0;34m:\u001b[0m\u001b[0;34m\u001b[0m\u001b[0;34m\u001b[0m\u001b[0m\n\u001b[1;32m    446\u001b[0m         \u001b[0mresult\u001b[0m \u001b[0;34m=\u001b[0m \u001b[0mconverted_f\u001b[0m\u001b[0;34m(\u001b[0m\u001b[0;34m*\u001b[0m\u001b[0meffective_args\u001b[0m\u001b[0;34m)\u001b[0m\u001b[0;34m\u001b[0m\u001b[0;34m\u001b[0m\u001b[0m\n",
            "\u001b[0;32m/usr/local/lib/python3.7/dist-packages/gpflow/conditionals/util.py\u001b[0m in \u001b[0;36mtf__base_conditional_with_lm\u001b[0;34m(Kmn, Lm, Knn, f, full_cov, q_sqrt, white)\u001b[0m\n\u001b[1;32m     72\u001b[0m                 \u001b[0mag__\u001b[0m\u001b[0;34m.\u001b[0m\u001b[0mif_stmt\u001b[0m\u001b[0;34m(\u001b[0m\u001b[0mag__\u001b[0m\u001b[0;34m.\u001b[0m\u001b[0mnot_\u001b[0m\u001b[0;34m(\u001b[0m\u001b[0mag__\u001b[0m\u001b[0;34m.\u001b[0m\u001b[0mld\u001b[0m\u001b[0;34m(\u001b[0m\u001b[0mwhite\u001b[0m\u001b[0;34m)\u001b[0m\u001b[0;34m)\u001b[0m\u001b[0;34m,\u001b[0m \u001b[0mif_body_2\u001b[0m\u001b[0;34m,\u001b[0m \u001b[0melse_body_2\u001b[0m\u001b[0;34m,\u001b[0m \u001b[0mget_state_2\u001b[0m\u001b[0;34m,\u001b[0m \u001b[0mset_state_2\u001b[0m\u001b[0;34m,\u001b[0m \u001b[0;34m(\u001b[0m\u001b[0;34m'A'\u001b[0m\u001b[0;34m,\u001b[0m\u001b[0;34m)\u001b[0m\u001b[0;34m,\u001b[0m \u001b[0;36m1\u001b[0m\u001b[0;34m)\u001b[0m\u001b[0;34m\u001b[0m\u001b[0;34m\u001b[0m\u001b[0m\n\u001b[1;32m     73\u001b[0m                 \u001b[0mf_shape\u001b[0m \u001b[0;34m=\u001b[0m \u001b[0mag__\u001b[0m\u001b[0;34m.\u001b[0m\u001b[0mconverted_call\u001b[0m\u001b[0;34m(\u001b[0m\u001b[0mag__\u001b[0m\u001b[0;34m.\u001b[0m\u001b[0mld\u001b[0m\u001b[0;34m(\u001b[0m\u001b[0mtf\u001b[0m\u001b[0;34m)\u001b[0m\u001b[0;34m.\u001b[0m\u001b[0mconcat\u001b[0m\u001b[0;34m,\u001b[0m \u001b[0;34m(\u001b[0m\u001b[0;34m[\u001b[0m\u001b[0mag__\u001b[0m\u001b[0;34m.\u001b[0m\u001b[0mld\u001b[0m\u001b[0;34m(\u001b[0m\u001b[0mleading_dims\u001b[0m\u001b[0;34m)\u001b[0m\u001b[0;34m,\u001b[0m \u001b[0;34m[\u001b[0m\u001b[0mag__\u001b[0m\u001b[0;34m.\u001b[0m\u001b[0mld\u001b[0m\u001b[0;34m(\u001b[0m\u001b[0mM\u001b[0m\u001b[0;34m)\u001b[0m\u001b[0;34m,\u001b[0m \u001b[0mag__\u001b[0m\u001b[0;34m.\u001b[0m\u001b[0mld\u001b[0m\u001b[0;34m(\u001b[0m\u001b[0mnum_func\u001b[0m\u001b[0;34m)\u001b[0m\u001b[0;34m]\u001b[0m\u001b[0;34m]\u001b[0m\u001b[0;34m,\u001b[0m \u001b[0;36m0\u001b[0m\u001b[0;34m)\u001b[0m\u001b[0;34m,\u001b[0m \u001b[0;32mNone\u001b[0m\u001b[0;34m,\u001b[0m \u001b[0mfscope\u001b[0m\u001b[0;34m)\u001b[0m\u001b[0;34m\u001b[0m\u001b[0;34m\u001b[0m\u001b[0m\n\u001b[0;32m---> 74\u001b[0;31m                 \u001b[0mf\u001b[0m \u001b[0;34m=\u001b[0m \u001b[0mag__\u001b[0m\u001b[0;34m.\u001b[0m\u001b[0mconverted_call\u001b[0m\u001b[0;34m(\u001b[0m\u001b[0mag__\u001b[0m\u001b[0;34m.\u001b[0m\u001b[0mld\u001b[0m\u001b[0;34m(\u001b[0m\u001b[0mtf\u001b[0m\u001b[0;34m)\u001b[0m\u001b[0;34m.\u001b[0m\u001b[0mbroadcast_to\u001b[0m\u001b[0;34m,\u001b[0m \u001b[0;34m(\u001b[0m\u001b[0mag__\u001b[0m\u001b[0;34m.\u001b[0m\u001b[0mld\u001b[0m\u001b[0;34m(\u001b[0m\u001b[0mf\u001b[0m\u001b[0;34m)\u001b[0m\u001b[0;34m,\u001b[0m \u001b[0mag__\u001b[0m\u001b[0;34m.\u001b[0m\u001b[0mld\u001b[0m\u001b[0;34m(\u001b[0m\u001b[0mf_shape\u001b[0m\u001b[0;34m)\u001b[0m\u001b[0;34m)\u001b[0m\u001b[0;34m,\u001b[0m \u001b[0;32mNone\u001b[0m\u001b[0;34m,\u001b[0m \u001b[0mfscope\u001b[0m\u001b[0;34m)\u001b[0m\u001b[0;34m\u001b[0m\u001b[0;34m\u001b[0m\u001b[0m\n\u001b[0m\u001b[1;32m     75\u001b[0m                 \u001b[0mfmean\u001b[0m \u001b[0;34m=\u001b[0m \u001b[0mag__\u001b[0m\u001b[0;34m.\u001b[0m\u001b[0mconverted_call\u001b[0m\u001b[0;34m(\u001b[0m\u001b[0mag__\u001b[0m\u001b[0;34m.\u001b[0m\u001b[0mld\u001b[0m\u001b[0;34m(\u001b[0m\u001b[0mtf\u001b[0m\u001b[0;34m)\u001b[0m\u001b[0;34m.\u001b[0m\u001b[0mlinalg\u001b[0m\u001b[0;34m.\u001b[0m\u001b[0mmatmul\u001b[0m\u001b[0;34m,\u001b[0m \u001b[0;34m(\u001b[0m\u001b[0mag__\u001b[0m\u001b[0;34m.\u001b[0m\u001b[0mld\u001b[0m\u001b[0;34m(\u001b[0m\u001b[0mA\u001b[0m\u001b[0;34m)\u001b[0m\u001b[0;34m,\u001b[0m \u001b[0mag__\u001b[0m\u001b[0;34m.\u001b[0m\u001b[0mld\u001b[0m\u001b[0;34m(\u001b[0m\u001b[0mf\u001b[0m\u001b[0;34m)\u001b[0m\u001b[0;34m)\u001b[0m\u001b[0;34m,\u001b[0m \u001b[0mdict\u001b[0m\u001b[0;34m(\u001b[0m\u001b[0mtranspose_a\u001b[0m\u001b[0;34m=\u001b[0m\u001b[0;32mTrue\u001b[0m\u001b[0;34m)\u001b[0m\u001b[0;34m,\u001b[0m \u001b[0mfscope\u001b[0m\u001b[0;34m)\u001b[0m\u001b[0;34m\u001b[0m\u001b[0;34m\u001b[0m\u001b[0m\n\u001b[1;32m     76\u001b[0m \u001b[0;34m\u001b[0m\u001b[0m\n",
            "\u001b[0;32m/usr/local/lib/python3.7/dist-packages/tensorflow/python/autograph/impl/api.py\u001b[0m in \u001b[0;36mconverted_call\u001b[0;34m(f, args, kwargs, caller_fn_scope, options)\u001b[0m\n\u001b[1;32m    334\u001b[0m   \u001b[0;32mif\u001b[0m \u001b[0mconversion\u001b[0m\u001b[0;34m.\u001b[0m\u001b[0mis_in_allowlist_cache\u001b[0m\u001b[0;34m(\u001b[0m\u001b[0mf\u001b[0m\u001b[0;34m,\u001b[0m \u001b[0moptions\u001b[0m\u001b[0;34m)\u001b[0m\u001b[0;34m:\u001b[0m\u001b[0;34m\u001b[0m\u001b[0;34m\u001b[0m\u001b[0m\n\u001b[1;32m    335\u001b[0m     \u001b[0mlogging\u001b[0m\u001b[0;34m.\u001b[0m\u001b[0mlog\u001b[0m\u001b[0;34m(\u001b[0m\u001b[0;36m2\u001b[0m\u001b[0;34m,\u001b[0m \u001b[0;34m'Allowlisted %s: from cache'\u001b[0m\u001b[0;34m,\u001b[0m \u001b[0mf\u001b[0m\u001b[0;34m)\u001b[0m\u001b[0;34m\u001b[0m\u001b[0;34m\u001b[0m\u001b[0m\n\u001b[0;32m--> 336\u001b[0;31m     \u001b[0;32mreturn\u001b[0m \u001b[0m_call_unconverted\u001b[0m\u001b[0;34m(\u001b[0m\u001b[0mf\u001b[0m\u001b[0;34m,\u001b[0m \u001b[0margs\u001b[0m\u001b[0;34m,\u001b[0m \u001b[0mkwargs\u001b[0m\u001b[0;34m,\u001b[0m \u001b[0moptions\u001b[0m\u001b[0;34m,\u001b[0m \u001b[0;32mFalse\u001b[0m\u001b[0;34m)\u001b[0m\u001b[0;34m\u001b[0m\u001b[0;34m\u001b[0m\u001b[0m\n\u001b[0m\u001b[1;32m    337\u001b[0m \u001b[0;34m\u001b[0m\u001b[0m\n\u001b[1;32m    338\u001b[0m   \u001b[0;32mif\u001b[0m \u001b[0mag_ctx\u001b[0m\u001b[0;34m.\u001b[0m\u001b[0mcontrol_status_ctx\u001b[0m\u001b[0;34m(\u001b[0m\u001b[0;34m)\u001b[0m\u001b[0;34m.\u001b[0m\u001b[0mstatus\u001b[0m \u001b[0;34m==\u001b[0m \u001b[0mag_ctx\u001b[0m\u001b[0;34m.\u001b[0m\u001b[0mStatus\u001b[0m\u001b[0;34m.\u001b[0m\u001b[0mDISABLED\u001b[0m\u001b[0;34m:\u001b[0m\u001b[0;34m\u001b[0m\u001b[0;34m\u001b[0m\u001b[0m\n",
            "\u001b[0;32m/usr/local/lib/python3.7/dist-packages/tensorflow/python/autograph/impl/api.py\u001b[0m in \u001b[0;36m_call_unconverted\u001b[0;34m(f, args, kwargs, options, update_cache)\u001b[0m\n\u001b[1;32m    462\u001b[0m   \u001b[0;32mif\u001b[0m \u001b[0mkwargs\u001b[0m \u001b[0;32mis\u001b[0m \u001b[0;32mnot\u001b[0m \u001b[0;32mNone\u001b[0m\u001b[0;34m:\u001b[0m\u001b[0;34m\u001b[0m\u001b[0;34m\u001b[0m\u001b[0m\n\u001b[1;32m    463\u001b[0m     \u001b[0;32mreturn\u001b[0m \u001b[0mf\u001b[0m\u001b[0;34m(\u001b[0m\u001b[0;34m*\u001b[0m\u001b[0margs\u001b[0m\u001b[0;34m,\u001b[0m \u001b[0;34m**\u001b[0m\u001b[0mkwargs\u001b[0m\u001b[0;34m)\u001b[0m\u001b[0;34m\u001b[0m\u001b[0;34m\u001b[0m\u001b[0m\n\u001b[0;32m--> 464\u001b[0;31m   \u001b[0;32mreturn\u001b[0m \u001b[0mf\u001b[0m\u001b[0;34m(\u001b[0m\u001b[0;34m*\u001b[0m\u001b[0margs\u001b[0m\u001b[0;34m)\u001b[0m\u001b[0;34m\u001b[0m\u001b[0;34m\u001b[0m\u001b[0m\n\u001b[0m\u001b[1;32m    465\u001b[0m \u001b[0;34m\u001b[0m\u001b[0m\n\u001b[1;32m    466\u001b[0m \u001b[0;34m\u001b[0m\u001b[0m\n",
            "\u001b[0;32m/usr/local/lib/python3.7/dist-packages/tensorflow/python/ops/gen_array_ops.py\u001b[0m in \u001b[0;36mbroadcast_to\u001b[0;34m(input, shape, name)\u001b[0m\n\u001b[1;32m    843\u001b[0m   \u001b[0;32mtry\u001b[0m\u001b[0;34m:\u001b[0m\u001b[0;34m\u001b[0m\u001b[0;34m\u001b[0m\u001b[0m\n\u001b[1;32m    844\u001b[0m     _, _, _op, _outputs = _op_def_library._apply_op_helper(\n\u001b[0;32m--> 845\u001b[0;31m         \"BroadcastTo\", input=input, shape=shape, name=name)\n\u001b[0m\u001b[1;32m    846\u001b[0m   \u001b[0;32mexcept\u001b[0m \u001b[0;34m(\u001b[0m\u001b[0mTypeError\u001b[0m\u001b[0;34m,\u001b[0m \u001b[0mValueError\u001b[0m\u001b[0;34m)\u001b[0m\u001b[0;34m:\u001b[0m\u001b[0;34m\u001b[0m\u001b[0;34m\u001b[0m\u001b[0m\n\u001b[1;32m    847\u001b[0m     result = _dispatch.dispatch(\n",
            "\u001b[0;32m/usr/local/lib/python3.7/dist-packages/tensorflow/python/framework/op_def_library.py\u001b[0m in \u001b[0;36m_apply_op_helper\u001b[0;34m(op_type_name, name, **keywords)\u001b[0m\n\u001b[1;32m    520\u001b[0m                 \u001b[0mdtype\u001b[0m\u001b[0;34m=\u001b[0m\u001b[0mdtype\u001b[0m\u001b[0;34m,\u001b[0m\u001b[0;34m\u001b[0m\u001b[0;34m\u001b[0m\u001b[0m\n\u001b[1;32m    521\u001b[0m                 \u001b[0mas_ref\u001b[0m\u001b[0;34m=\u001b[0m\u001b[0minput_arg\u001b[0m\u001b[0;34m.\u001b[0m\u001b[0mis_ref\u001b[0m\u001b[0;34m,\u001b[0m\u001b[0;34m\u001b[0m\u001b[0;34m\u001b[0m\u001b[0m\n\u001b[0;32m--> 522\u001b[0;31m                 preferred_dtype=default_dtype)\n\u001b[0m\u001b[1;32m    523\u001b[0m         \u001b[0;32mexcept\u001b[0m \u001b[0mTypeError\u001b[0m \u001b[0;32mas\u001b[0m \u001b[0merr\u001b[0m\u001b[0;34m:\u001b[0m\u001b[0;34m\u001b[0m\u001b[0;34m\u001b[0m\u001b[0m\n\u001b[1;32m    524\u001b[0m           \u001b[0;32mif\u001b[0m \u001b[0mdtype\u001b[0m \u001b[0;32mis\u001b[0m \u001b[0;32mNone\u001b[0m\u001b[0;34m:\u001b[0m\u001b[0;34m\u001b[0m\u001b[0;34m\u001b[0m\u001b[0m\n",
            "\u001b[0;32m/usr/local/lib/python3.7/dist-packages/tensorflow/python/profiler/trace.py\u001b[0m in \u001b[0;36mwrapped\u001b[0;34m(*args, **kwargs)\u001b[0m\n\u001b[1;32m    161\u001b[0m         \u001b[0;32mwith\u001b[0m \u001b[0mTrace\u001b[0m\u001b[0;34m(\u001b[0m\u001b[0mtrace_name\u001b[0m\u001b[0;34m,\u001b[0m \u001b[0;34m**\u001b[0m\u001b[0mtrace_kwargs\u001b[0m\u001b[0;34m)\u001b[0m\u001b[0;34m:\u001b[0m\u001b[0;34m\u001b[0m\u001b[0;34m\u001b[0m\u001b[0m\n\u001b[1;32m    162\u001b[0m           \u001b[0;32mreturn\u001b[0m \u001b[0mfunc\u001b[0m\u001b[0;34m(\u001b[0m\u001b[0;34m*\u001b[0m\u001b[0margs\u001b[0m\u001b[0;34m,\u001b[0m \u001b[0;34m**\u001b[0m\u001b[0mkwargs\u001b[0m\u001b[0;34m)\u001b[0m\u001b[0;34m\u001b[0m\u001b[0;34m\u001b[0m\u001b[0m\n\u001b[0;32m--> 163\u001b[0;31m       \u001b[0;32mreturn\u001b[0m \u001b[0mfunc\u001b[0m\u001b[0;34m(\u001b[0m\u001b[0;34m*\u001b[0m\u001b[0margs\u001b[0m\u001b[0;34m,\u001b[0m \u001b[0;34m**\u001b[0m\u001b[0mkwargs\u001b[0m\u001b[0;34m)\u001b[0m\u001b[0;34m\u001b[0m\u001b[0;34m\u001b[0m\u001b[0m\n\u001b[0m\u001b[1;32m    164\u001b[0m \u001b[0;34m\u001b[0m\u001b[0m\n\u001b[1;32m    165\u001b[0m     \u001b[0;32mreturn\u001b[0m \u001b[0mwrapped\u001b[0m\u001b[0;34m\u001b[0m\u001b[0;34m\u001b[0m\u001b[0m\n",
            "\u001b[0;32m/usr/local/lib/python3.7/dist-packages/tensorflow/python/framework/ops.py\u001b[0m in \u001b[0;36mconvert_to_tensor\u001b[0;34m(value, dtype, name, as_ref, preferred_dtype, dtype_hint, ctx, accepted_result_types)\u001b[0m\n\u001b[1;32m   1564\u001b[0m \u001b[0;34m\u001b[0m\u001b[0m\n\u001b[1;32m   1565\u001b[0m     \u001b[0;32mif\u001b[0m \u001b[0mret\u001b[0m \u001b[0;32mis\u001b[0m \u001b[0;32mNone\u001b[0m\u001b[0;34m:\u001b[0m\u001b[0;34m\u001b[0m\u001b[0;34m\u001b[0m\u001b[0m\n\u001b[0;32m-> 1566\u001b[0;31m       \u001b[0mret\u001b[0m \u001b[0;34m=\u001b[0m \u001b[0mconversion_func\u001b[0m\u001b[0;34m(\u001b[0m\u001b[0mvalue\u001b[0m\u001b[0;34m,\u001b[0m \u001b[0mdtype\u001b[0m\u001b[0;34m=\u001b[0m\u001b[0mdtype\u001b[0m\u001b[0;34m,\u001b[0m \u001b[0mname\u001b[0m\u001b[0;34m=\u001b[0m\u001b[0mname\u001b[0m\u001b[0;34m,\u001b[0m \u001b[0mas_ref\u001b[0m\u001b[0;34m=\u001b[0m\u001b[0mas_ref\u001b[0m\u001b[0;34m)\u001b[0m\u001b[0;34m\u001b[0m\u001b[0;34m\u001b[0m\u001b[0m\n\u001b[0m\u001b[1;32m   1567\u001b[0m \u001b[0;34m\u001b[0m\u001b[0m\n\u001b[1;32m   1568\u001b[0m     \u001b[0;32mif\u001b[0m \u001b[0mret\u001b[0m \u001b[0;32mis\u001b[0m \u001b[0mNotImplemented\u001b[0m\u001b[0;34m:\u001b[0m\u001b[0;34m\u001b[0m\u001b[0;34m\u001b[0m\u001b[0m\n",
            "\u001b[0;32m/usr/local/lib/python3.7/dist-packages/tensorflow_probability/python/util/deferred_tensor.py\u001b[0m in \u001b[0;36m_tensorize\u001b[0;34m(d, dtype, name, as_ref)\u001b[0m\n\u001b[1;32m     81\u001b[0m \u001b[0;32mdef\u001b[0m \u001b[0m_tensorize\u001b[0m\u001b[0;34m(\u001b[0m\u001b[0md\u001b[0m\u001b[0;34m,\u001b[0m \u001b[0mdtype\u001b[0m\u001b[0;34m=\u001b[0m\u001b[0;32mNone\u001b[0m\u001b[0;34m,\u001b[0m \u001b[0mname\u001b[0m\u001b[0;34m=\u001b[0m\u001b[0;32mNone\u001b[0m\u001b[0;34m,\u001b[0m \u001b[0mas_ref\u001b[0m\u001b[0;34m=\u001b[0m\u001b[0;32mFalse\u001b[0m\u001b[0;34m)\u001b[0m\u001b[0;34m:\u001b[0m\u001b[0;34m\u001b[0m\u001b[0;34m\u001b[0m\u001b[0m\n\u001b[1;32m     82\u001b[0m   \u001b[0;34m\"\"\"Tensor conversion function presuming `hasattr(d, '_value')`.\"\"\"\u001b[0m\u001b[0;34m\u001b[0m\u001b[0;34m\u001b[0m\u001b[0m\n\u001b[0;32m---> 83\u001b[0;31m   \u001b[0;32mreturn\u001b[0m \u001b[0md\u001b[0m\u001b[0;34m.\u001b[0m\u001b[0m_value\u001b[0m\u001b[0;34m(\u001b[0m\u001b[0mdtype\u001b[0m\u001b[0;34m,\u001b[0m \u001b[0mname\u001b[0m\u001b[0;34m,\u001b[0m \u001b[0mas_ref\u001b[0m\u001b[0;34m)\u001b[0m  \u001b[0;31m# pylint: disable=protected-access\u001b[0m\u001b[0;34m\u001b[0m\u001b[0;34m\u001b[0m\u001b[0m\n\u001b[0m\u001b[1;32m     84\u001b[0m \u001b[0;34m\u001b[0m\u001b[0m\n\u001b[1;32m     85\u001b[0m \u001b[0;34m\u001b[0m\u001b[0m\n",
            "\u001b[0;32m/usr/local/lib/python3.7/dist-packages/tensorflow_probability/python/util/deferred_tensor.py\u001b[0m in \u001b[0;36m_value\u001b[0;34m(self, dtype, name, as_ref)\u001b[0m\n\u001b[1;32m    364\u001b[0m \u001b[0;34m\u001b[0m\u001b[0m\n\u001b[1;32m    365\u001b[0m   \u001b[0;32mdef\u001b[0m \u001b[0m_value\u001b[0m\u001b[0;34m(\u001b[0m\u001b[0mself\u001b[0m\u001b[0;34m,\u001b[0m \u001b[0mdtype\u001b[0m\u001b[0;34m=\u001b[0m\u001b[0;32mNone\u001b[0m\u001b[0;34m,\u001b[0m \u001b[0mname\u001b[0m\u001b[0;34m=\u001b[0m\u001b[0;32mNone\u001b[0m\u001b[0;34m,\u001b[0m \u001b[0mas_ref\u001b[0m\u001b[0;34m=\u001b[0m\u001b[0;32mFalse\u001b[0m\u001b[0;34m)\u001b[0m\u001b[0;34m:\u001b[0m\u001b[0;34m\u001b[0m\u001b[0;34m\u001b[0m\u001b[0m\n\u001b[0;32m--> 366\u001b[0;31m     \u001b[0my\u001b[0m \u001b[0;34m=\u001b[0m \u001b[0mself\u001b[0m\u001b[0;34m.\u001b[0m\u001b[0mtransform_fn\u001b[0m\u001b[0;34m(\u001b[0m\u001b[0mself\u001b[0m\u001b[0;34m.\u001b[0m\u001b[0mpretransformed_input\u001b[0m\u001b[0;34m)\u001b[0m  \u001b[0;31m# pylint: disable=not-callable\u001b[0m\u001b[0;34m\u001b[0m\u001b[0;34m\u001b[0m\u001b[0m\n\u001b[0m\u001b[1;32m    367\u001b[0m     \u001b[0;32mif\u001b[0m \u001b[0mdtype_util\u001b[0m\u001b[0;34m.\u001b[0m\u001b[0mbase_dtype\u001b[0m\u001b[0;34m(\u001b[0m\u001b[0my\u001b[0m\u001b[0;34m.\u001b[0m\u001b[0mdtype\u001b[0m\u001b[0;34m)\u001b[0m \u001b[0;34m!=\u001b[0m \u001b[0mself\u001b[0m\u001b[0;34m.\u001b[0m\u001b[0mdtype\u001b[0m\u001b[0;34m:\u001b[0m\u001b[0;34m\u001b[0m\u001b[0;34m\u001b[0m\u001b[0m\n\u001b[1;32m    368\u001b[0m       raise TypeError(\n",
            "\u001b[0;32m/usr/local/lib/python3.7/dist-packages/tensorflow_probability/python/bijectors/bijector.py\u001b[0m in \u001b[0;36mforward\u001b[0;34m(self, x, name, **kwargs)\u001b[0m\n\u001b[1;32m   1350\u001b[0m       \u001b[0mNotImplementedError\u001b[0m\u001b[0;34m:\u001b[0m \u001b[0;32mif\u001b[0m\u001b[0;31m \u001b[0m\u001b[0;31m`\u001b[0m\u001b[0m_forward\u001b[0m\u001b[0;31m`\u001b[0m \u001b[0;32mis\u001b[0m \u001b[0;32mnot\u001b[0m \u001b[0mimplemented\u001b[0m\u001b[0;34m.\u001b[0m\u001b[0;34m\u001b[0m\u001b[0;34m\u001b[0m\u001b[0m\n\u001b[1;32m   1351\u001b[0m     \"\"\"\n\u001b[0;32m-> 1352\u001b[0;31m     \u001b[0;32mreturn\u001b[0m \u001b[0mself\u001b[0m\u001b[0;34m.\u001b[0m\u001b[0m_call_forward\u001b[0m\u001b[0;34m(\u001b[0m\u001b[0mx\u001b[0m\u001b[0;34m,\u001b[0m \u001b[0mname\u001b[0m\u001b[0;34m,\u001b[0m \u001b[0;34m**\u001b[0m\u001b[0mkwargs\u001b[0m\u001b[0;34m)\u001b[0m\u001b[0;34m\u001b[0m\u001b[0;34m\u001b[0m\u001b[0m\n\u001b[0m\u001b[1;32m   1353\u001b[0m \u001b[0;34m\u001b[0m\u001b[0m\n\u001b[1;32m   1354\u001b[0m   \u001b[0;34m@\u001b[0m\u001b[0mclassmethod\u001b[0m\u001b[0;34m\u001b[0m\u001b[0;34m\u001b[0m\u001b[0m\n",
            "\u001b[0;32m/usr/local/lib/python3.7/dist-packages/tensorflow_probability/python/bijectors/bijector.py\u001b[0m in \u001b[0;36m_call_forward\u001b[0;34m(self, x, name, **kwargs)\u001b[0m\n\u001b[1;32m   1329\u001b[0m           \u001b[0mx\u001b[0m\u001b[0;34m,\u001b[0m \u001b[0mname\u001b[0m\u001b[0;34m=\u001b[0m\u001b[0;34m'x'\u001b[0m\u001b[0;34m,\u001b[0m \u001b[0mdtype_hint\u001b[0m\u001b[0;34m=\u001b[0m\u001b[0mdtype\u001b[0m\u001b[0;34m,\u001b[0m\u001b[0;34m\u001b[0m\u001b[0;34m\u001b[0m\u001b[0m\n\u001b[1;32m   1330\u001b[0m           \u001b[0mdtype\u001b[0m\u001b[0;34m=\u001b[0m\u001b[0;32mNone\u001b[0m \u001b[0;32mif\u001b[0m \u001b[0mSKIP_DTYPE_CHECKS\u001b[0m \u001b[0;32melse\u001b[0m \u001b[0mdtype\u001b[0m\u001b[0;34m,\u001b[0m\u001b[0;34m\u001b[0m\u001b[0;34m\u001b[0m\u001b[0m\n\u001b[0;32m-> 1331\u001b[0;31m           allow_packing=True)\n\u001b[0m\u001b[1;32m   1332\u001b[0m       \u001b[0;32mif\u001b[0m \u001b[0;32mnot\u001b[0m \u001b[0mself\u001b[0m\u001b[0;34m.\u001b[0m\u001b[0m_is_injective\u001b[0m\u001b[0;34m:\u001b[0m  \u001b[0;31m# No caching for non-injective\u001b[0m\u001b[0;34m\u001b[0m\u001b[0;34m\u001b[0m\u001b[0m\n\u001b[1;32m   1333\u001b[0m         \u001b[0;32mreturn\u001b[0m \u001b[0mself\u001b[0m\u001b[0;34m.\u001b[0m\u001b[0m_forward\u001b[0m\u001b[0;34m(\u001b[0m\u001b[0mx\u001b[0m\u001b[0;34m,\u001b[0m \u001b[0;34m**\u001b[0m\u001b[0mkwargs\u001b[0m\u001b[0;34m)\u001b[0m\u001b[0;34m\u001b[0m\u001b[0;34m\u001b[0m\u001b[0m\n",
            "\u001b[0;32m/usr/local/lib/python3.7/dist-packages/tensorflow_probability/python/internal/nest_util.py\u001b[0m in \u001b[0;36mconvert_to_nested_tensor\u001b[0;34m(value, dtype, dtype_hint, allow_packing, as_shape_tensor, name)\u001b[0m\n\u001b[1;32m    350\u001b[0m   \u001b[0;31m# For unstructured calls, just use the provided name.\u001b[0m\u001b[0;34m\u001b[0m\u001b[0;34m\u001b[0m\u001b[0;34m\u001b[0m\u001b[0m\n\u001b[1;32m    351\u001b[0m   \u001b[0;32mif\u001b[0m \u001b[0;32mnot\u001b[0m \u001b[0mnest\u001b[0m\u001b[0;34m.\u001b[0m\u001b[0mis_nested\u001b[0m\u001b[0;34m(\u001b[0m\u001b[0mdtype\u001b[0m\u001b[0;34m)\u001b[0m\u001b[0;34m:\u001b[0m\u001b[0;34m\u001b[0m\u001b[0;34m\u001b[0m\u001b[0m\n\u001b[0;32m--> 352\u001b[0;31m     \u001b[0;32mreturn\u001b[0m \u001b[0mconvert_fn\u001b[0m\u001b[0;34m(\u001b[0m\u001b[0;34m(\u001b[0m\u001b[0;34m)\u001b[0m\u001b[0;34m,\u001b[0m \u001b[0mvalue\u001b[0m\u001b[0;34m,\u001b[0m \u001b[0mdtype\u001b[0m\u001b[0;34m,\u001b[0m \u001b[0mdtype_hint\u001b[0m\u001b[0;34m,\u001b[0m \u001b[0mname\u001b[0m\u001b[0;34m=\u001b[0m\u001b[0mname\u001b[0m\u001b[0;34m)\u001b[0m\u001b[0;34m\u001b[0m\u001b[0;34m\u001b[0m\u001b[0m\n\u001b[0m\u001b[1;32m    353\u001b[0m   \u001b[0;31m# For structured calls where name is provided, include a scope and name\u001b[0m\u001b[0;34m\u001b[0m\u001b[0;34m\u001b[0m\u001b[0;34m\u001b[0m\u001b[0m\n\u001b[1;32m    354\u001b[0m   \u001b[0;31m# members according to \"{path}.{to}.{element}\".\u001b[0m\u001b[0;34m\u001b[0m\u001b[0;34m\u001b[0m\u001b[0;34m\u001b[0m\u001b[0m\n",
            "\u001b[0;32m/usr/local/lib/python3.7/dist-packages/tensorflow_probability/python/internal/nest_util.py\u001b[0m in \u001b[0;36mconvert_fn\u001b[0;34m(path, value, dtype, dtype_hint, name)\u001b[0m\n\u001b[1;32m    345\u001b[0m       \u001b[0;32mreturn\u001b[0m \u001b[0mps\u001b[0m\u001b[0;34m.\u001b[0m\u001b[0mconvert_to_shape_tensor\u001b[0m\u001b[0;34m(\u001b[0m\u001b[0mvalue\u001b[0m\u001b[0;34m,\u001b[0m \u001b[0mdtype\u001b[0m\u001b[0;34m,\u001b[0m \u001b[0mdtype_hint\u001b[0m\u001b[0;34m,\u001b[0m \u001b[0mname\u001b[0m\u001b[0;34m=\u001b[0m\u001b[0mname\u001b[0m\u001b[0;34m)\u001b[0m\u001b[0;34m\u001b[0m\u001b[0;34m\u001b[0m\u001b[0m\n\u001b[1;32m    346\u001b[0m     \u001b[0;32melse\u001b[0m\u001b[0;34m:\u001b[0m\u001b[0;34m\u001b[0m\u001b[0;34m\u001b[0m\u001b[0m\n\u001b[0;32m--> 347\u001b[0;31m       \u001b[0;32mreturn\u001b[0m \u001b[0mtf\u001b[0m\u001b[0;34m.\u001b[0m\u001b[0mconvert_to_tensor\u001b[0m\u001b[0;34m(\u001b[0m\u001b[0mvalue\u001b[0m\u001b[0;34m,\u001b[0m \u001b[0mdtype\u001b[0m\u001b[0;34m,\u001b[0m \u001b[0mdtype_hint\u001b[0m\u001b[0;34m,\u001b[0m \u001b[0mname\u001b[0m\u001b[0;34m=\u001b[0m\u001b[0mname\u001b[0m\u001b[0;34m)\u001b[0m\u001b[0;34m\u001b[0m\u001b[0;34m\u001b[0m\u001b[0m\n\u001b[0m\u001b[1;32m    348\u001b[0m \u001b[0;34m\u001b[0m\u001b[0m\n\u001b[1;32m    349\u001b[0m   \u001b[0;31m### The following branches only affect naming.\u001b[0m\u001b[0;34m\u001b[0m\u001b[0;34m\u001b[0m\u001b[0;34m\u001b[0m\u001b[0m\n",
            "\u001b[0;32m/usr/local/lib/python3.7/dist-packages/tensorflow/python/util/dispatch.py\u001b[0m in \u001b[0;36mwrapper\u001b[0;34m(*args, **kwargs)\u001b[0m\n\u001b[1;32m    204\u001b[0m     \u001b[0;34m\"\"\"Call target, and fall back on dispatchers if there is a TypeError.\"\"\"\u001b[0m\u001b[0;34m\u001b[0m\u001b[0;34m\u001b[0m\u001b[0m\n\u001b[1;32m    205\u001b[0m     \u001b[0;32mtry\u001b[0m\u001b[0;34m:\u001b[0m\u001b[0;34m\u001b[0m\u001b[0;34m\u001b[0m\u001b[0m\n\u001b[0;32m--> 206\u001b[0;31m       \u001b[0;32mreturn\u001b[0m \u001b[0mtarget\u001b[0m\u001b[0;34m(\u001b[0m\u001b[0;34m*\u001b[0m\u001b[0margs\u001b[0m\u001b[0;34m,\u001b[0m \u001b[0;34m**\u001b[0m\u001b[0mkwargs\u001b[0m\u001b[0;34m)\u001b[0m\u001b[0;34m\u001b[0m\u001b[0;34m\u001b[0m\u001b[0m\n\u001b[0m\u001b[1;32m    207\u001b[0m     \u001b[0;32mexcept\u001b[0m \u001b[0;34m(\u001b[0m\u001b[0mTypeError\u001b[0m\u001b[0;34m,\u001b[0m \u001b[0mValueError\u001b[0m\u001b[0;34m)\u001b[0m\u001b[0;34m:\u001b[0m\u001b[0;34m\u001b[0m\u001b[0;34m\u001b[0m\u001b[0m\n\u001b[1;32m    208\u001b[0m       \u001b[0;31m# Note: convert_to_eager_tensor currently raises a ValueError, not a\u001b[0m\u001b[0;34m\u001b[0m\u001b[0;34m\u001b[0m\u001b[0;34m\u001b[0m\u001b[0m\n",
            "\u001b[0;32m/usr/local/lib/python3.7/dist-packages/tensorflow/python/framework/ops.py\u001b[0m in \u001b[0;36mconvert_to_tensor_v2_with_dispatch\u001b[0;34m(value, dtype, dtype_hint, name)\u001b[0m\n\u001b[1;32m   1429\u001b[0m   \"\"\"\n\u001b[1;32m   1430\u001b[0m   return convert_to_tensor_v2(\n\u001b[0;32m-> 1431\u001b[0;31m       value, dtype=dtype, dtype_hint=dtype_hint, name=name)\n\u001b[0m\u001b[1;32m   1432\u001b[0m \u001b[0;34m\u001b[0m\u001b[0m\n\u001b[1;32m   1433\u001b[0m \u001b[0;34m\u001b[0m\u001b[0m\n",
            "\u001b[0;32m/usr/local/lib/python3.7/dist-packages/tensorflow/python/framework/ops.py\u001b[0m in \u001b[0;36mconvert_to_tensor_v2\u001b[0;34m(value, dtype, dtype_hint, name)\u001b[0m\n\u001b[1;32m   1439\u001b[0m       \u001b[0mname\u001b[0m\u001b[0;34m=\u001b[0m\u001b[0mname\u001b[0m\u001b[0;34m,\u001b[0m\u001b[0;34m\u001b[0m\u001b[0;34m\u001b[0m\u001b[0m\n\u001b[1;32m   1440\u001b[0m       \u001b[0mpreferred_dtype\u001b[0m\u001b[0;34m=\u001b[0m\u001b[0mdtype_hint\u001b[0m\u001b[0;34m,\u001b[0m\u001b[0;34m\u001b[0m\u001b[0;34m\u001b[0m\u001b[0m\n\u001b[0;32m-> 1441\u001b[0;31m       as_ref=False)\n\u001b[0m\u001b[1;32m   1442\u001b[0m \u001b[0;34m\u001b[0m\u001b[0m\n\u001b[1;32m   1443\u001b[0m \u001b[0;34m\u001b[0m\u001b[0m\n",
            "\u001b[0;32m/usr/local/lib/python3.7/dist-packages/tensorflow/python/profiler/trace.py\u001b[0m in \u001b[0;36mwrapped\u001b[0;34m(*args, **kwargs)\u001b[0m\n\u001b[1;32m    161\u001b[0m         \u001b[0;32mwith\u001b[0m \u001b[0mTrace\u001b[0m\u001b[0;34m(\u001b[0m\u001b[0mtrace_name\u001b[0m\u001b[0;34m,\u001b[0m \u001b[0;34m**\u001b[0m\u001b[0mtrace_kwargs\u001b[0m\u001b[0;34m)\u001b[0m\u001b[0;34m:\u001b[0m\u001b[0;34m\u001b[0m\u001b[0;34m\u001b[0m\u001b[0m\n\u001b[1;32m    162\u001b[0m           \u001b[0;32mreturn\u001b[0m \u001b[0mfunc\u001b[0m\u001b[0;34m(\u001b[0m\u001b[0;34m*\u001b[0m\u001b[0margs\u001b[0m\u001b[0;34m,\u001b[0m \u001b[0;34m**\u001b[0m\u001b[0mkwargs\u001b[0m\u001b[0;34m)\u001b[0m\u001b[0;34m\u001b[0m\u001b[0;34m\u001b[0m\u001b[0m\n\u001b[0;32m--> 163\u001b[0;31m       \u001b[0;32mreturn\u001b[0m \u001b[0mfunc\u001b[0m\u001b[0;34m(\u001b[0m\u001b[0;34m*\u001b[0m\u001b[0margs\u001b[0m\u001b[0;34m,\u001b[0m \u001b[0;34m**\u001b[0m\u001b[0mkwargs\u001b[0m\u001b[0;34m)\u001b[0m\u001b[0;34m\u001b[0m\u001b[0;34m\u001b[0m\u001b[0m\n\u001b[0m\u001b[1;32m    164\u001b[0m \u001b[0;34m\u001b[0m\u001b[0m\n\u001b[1;32m    165\u001b[0m     \u001b[0;32mreturn\u001b[0m \u001b[0mwrapped\u001b[0m\u001b[0;34m\u001b[0m\u001b[0;34m\u001b[0m\u001b[0m\n",
            "\u001b[0;32m/usr/local/lib/python3.7/dist-packages/tensorflow/python/framework/ops.py\u001b[0m in \u001b[0;36mconvert_to_tensor\u001b[0;34m(value, dtype, name, as_ref, preferred_dtype, dtype_hint, ctx, accepted_result_types)\u001b[0m\n\u001b[1;32m   1564\u001b[0m \u001b[0;34m\u001b[0m\u001b[0m\n\u001b[1;32m   1565\u001b[0m     \u001b[0;32mif\u001b[0m \u001b[0mret\u001b[0m \u001b[0;32mis\u001b[0m \u001b[0;32mNone\u001b[0m\u001b[0;34m:\u001b[0m\u001b[0;34m\u001b[0m\u001b[0;34m\u001b[0m\u001b[0m\n\u001b[0;32m-> 1566\u001b[0;31m       \u001b[0mret\u001b[0m \u001b[0;34m=\u001b[0m \u001b[0mconversion_func\u001b[0m\u001b[0;34m(\u001b[0m\u001b[0mvalue\u001b[0m\u001b[0;34m,\u001b[0m \u001b[0mdtype\u001b[0m\u001b[0;34m=\u001b[0m\u001b[0mdtype\u001b[0m\u001b[0;34m,\u001b[0m \u001b[0mname\u001b[0m\u001b[0;34m=\u001b[0m\u001b[0mname\u001b[0m\u001b[0;34m,\u001b[0m \u001b[0mas_ref\u001b[0m\u001b[0;34m=\u001b[0m\u001b[0mas_ref\u001b[0m\u001b[0;34m)\u001b[0m\u001b[0;34m\u001b[0m\u001b[0;34m\u001b[0m\u001b[0m\n\u001b[0m\u001b[1;32m   1567\u001b[0m \u001b[0;34m\u001b[0m\u001b[0m\n\u001b[1;32m   1568\u001b[0m     \u001b[0;32mif\u001b[0m \u001b[0mret\u001b[0m \u001b[0;32mis\u001b[0m \u001b[0mNotImplemented\u001b[0m\u001b[0;34m:\u001b[0m\u001b[0;34m\u001b[0m\u001b[0;34m\u001b[0m\u001b[0m\n",
            "\u001b[0;32m/usr/local/lib/python3.7/dist-packages/tensorflow/python/ops/resource_variable_ops.py\u001b[0m in \u001b[0;36m_dense_var_to_tensor\u001b[0;34m(var, dtype, name, as_ref)\u001b[0m\n\u001b[1;32m   2021\u001b[0m \u001b[0;34m\u001b[0m\u001b[0m\n\u001b[1;32m   2022\u001b[0m \u001b[0;32mdef\u001b[0m \u001b[0m_dense_var_to_tensor\u001b[0m\u001b[0;34m(\u001b[0m\u001b[0mvar\u001b[0m\u001b[0;34m,\u001b[0m \u001b[0mdtype\u001b[0m\u001b[0;34m=\u001b[0m\u001b[0;32mNone\u001b[0m\u001b[0;34m,\u001b[0m \u001b[0mname\u001b[0m\u001b[0;34m=\u001b[0m\u001b[0;32mNone\u001b[0m\u001b[0;34m,\u001b[0m \u001b[0mas_ref\u001b[0m\u001b[0;34m=\u001b[0m\u001b[0;32mFalse\u001b[0m\u001b[0;34m)\u001b[0m\u001b[0;34m:\u001b[0m\u001b[0;34m\u001b[0m\u001b[0;34m\u001b[0m\u001b[0m\n\u001b[0;32m-> 2023\u001b[0;31m   \u001b[0;32mreturn\u001b[0m \u001b[0mvar\u001b[0m\u001b[0;34m.\u001b[0m\u001b[0m_dense_var_to_tensor\u001b[0m\u001b[0;34m(\u001b[0m\u001b[0mdtype\u001b[0m\u001b[0;34m=\u001b[0m\u001b[0mdtype\u001b[0m\u001b[0;34m,\u001b[0m \u001b[0mname\u001b[0m\u001b[0;34m=\u001b[0m\u001b[0mname\u001b[0m\u001b[0;34m,\u001b[0m \u001b[0mas_ref\u001b[0m\u001b[0;34m=\u001b[0m\u001b[0mas_ref\u001b[0m\u001b[0;34m)\u001b[0m  \u001b[0;31m# pylint: disable=protected-access\u001b[0m\u001b[0;34m\u001b[0m\u001b[0;34m\u001b[0m\u001b[0m\n\u001b[0m\u001b[1;32m   2024\u001b[0m \u001b[0;34m\u001b[0m\u001b[0m\n\u001b[1;32m   2025\u001b[0m \u001b[0;34m\u001b[0m\u001b[0m\n",
            "\u001b[0;32m/usr/local/lib/python3.7/dist-packages/tensorflow/python/ops/resource_variable_ops.py\u001b[0m in \u001b[0;36m_dense_var_to_tensor\u001b[0;34m(***failed resolving arguments***)\u001b[0m\n\u001b[1;32m   1419\u001b[0m       \u001b[0;32mreturn\u001b[0m \u001b[0mself\u001b[0m\u001b[0;34m.\u001b[0m\u001b[0mread_value\u001b[0m\u001b[0;34m(\u001b[0m\u001b[0;34m)\u001b[0m\u001b[0;34m.\u001b[0m\u001b[0mop\u001b[0m\u001b[0;34m.\u001b[0m\u001b[0minputs\u001b[0m\u001b[0;34m[\u001b[0m\u001b[0;36m0\u001b[0m\u001b[0;34m]\u001b[0m\u001b[0;34m\u001b[0m\u001b[0;34m\u001b[0m\u001b[0m\n\u001b[1;32m   1420\u001b[0m     \u001b[0;32melse\u001b[0m\u001b[0;34m:\u001b[0m\u001b[0;34m\u001b[0m\u001b[0;34m\u001b[0m\u001b[0m\n\u001b[0;32m-> 1421\u001b[0;31m       \u001b[0;32mreturn\u001b[0m \u001b[0mself\u001b[0m\u001b[0;34m.\u001b[0m\u001b[0mvalue\u001b[0m\u001b[0;34m(\u001b[0m\u001b[0;34m)\u001b[0m\u001b[0;34m\u001b[0m\u001b[0;34m\u001b[0m\u001b[0m\n\u001b[0m\u001b[1;32m   1422\u001b[0m \u001b[0;34m\u001b[0m\u001b[0m\n\u001b[1;32m   1423\u001b[0m   \u001b[0;32mdef\u001b[0m \u001b[0m__iadd__\u001b[0m\u001b[0;34m(\u001b[0m\u001b[0mself\u001b[0m\u001b[0;34m,\u001b[0m \u001b[0munused_other\u001b[0m\u001b[0;34m)\u001b[0m\u001b[0;34m:\u001b[0m\u001b[0;34m\u001b[0m\u001b[0;34m\u001b[0m\u001b[0m\n",
            "\u001b[0;32m/usr/local/lib/python3.7/dist-packages/tensorflow/python/ops/resource_variable_ops.py\u001b[0m in \u001b[0;36mvalue\u001b[0;34m(self)\u001b[0m\n\u001b[1;32m    574\u001b[0m       \u001b[0;32mreturn\u001b[0m \u001b[0mself\u001b[0m\u001b[0;34m.\u001b[0m\u001b[0m_cached_value\u001b[0m\u001b[0;34m\u001b[0m\u001b[0;34m\u001b[0m\u001b[0m\n\u001b[1;32m    575\u001b[0m     \u001b[0;32mwith\u001b[0m \u001b[0mops\u001b[0m\u001b[0;34m.\u001b[0m\u001b[0mcolocate_with\u001b[0m\u001b[0;34m(\u001b[0m\u001b[0;32mNone\u001b[0m\u001b[0;34m,\u001b[0m \u001b[0mignore_existing\u001b[0m\u001b[0;34m=\u001b[0m\u001b[0;32mTrue\u001b[0m\u001b[0;34m)\u001b[0m\u001b[0;34m:\u001b[0m\u001b[0;34m\u001b[0m\u001b[0;34m\u001b[0m\u001b[0m\n\u001b[0;32m--> 576\u001b[0;31m       \u001b[0;32mreturn\u001b[0m \u001b[0mself\u001b[0m\u001b[0;34m.\u001b[0m\u001b[0m_read_variable_op\u001b[0m\u001b[0;34m(\u001b[0m\u001b[0;34m)\u001b[0m\u001b[0;34m\u001b[0m\u001b[0;34m\u001b[0m\u001b[0m\n\u001b[0m\u001b[1;32m    577\u001b[0m \u001b[0;34m\u001b[0m\u001b[0m\n\u001b[1;32m    578\u001b[0m   \u001b[0;32mdef\u001b[0m \u001b[0m_as_graph_element\u001b[0m\u001b[0;34m(\u001b[0m\u001b[0mself\u001b[0m\u001b[0;34m)\u001b[0m\u001b[0;34m:\u001b[0m\u001b[0;34m\u001b[0m\u001b[0;34m\u001b[0m\u001b[0m\n",
            "\u001b[0;32m/usr/local/lib/python3.7/dist-packages/tensorflow/python/ops/resource_variable_ops.py\u001b[0m in \u001b[0;36m_read_variable_op\u001b[0;34m(self)\u001b[0m\n\u001b[1;32m    681\u001b[0m           \u001b[0mresult\u001b[0m \u001b[0;34m=\u001b[0m \u001b[0mread_and_set_handle\u001b[0m\u001b[0;34m(\u001b[0m\u001b[0;34m)\u001b[0m\u001b[0;34m\u001b[0m\u001b[0;34m\u001b[0m\u001b[0m\n\u001b[1;32m    682\u001b[0m     \u001b[0;32melse\u001b[0m\u001b[0;34m:\u001b[0m\u001b[0;34m\u001b[0m\u001b[0;34m\u001b[0m\u001b[0m\n\u001b[0;32m--> 683\u001b[0;31m       \u001b[0mresult\u001b[0m \u001b[0;34m=\u001b[0m \u001b[0mread_and_set_handle\u001b[0m\u001b[0;34m(\u001b[0m\u001b[0;34m)\u001b[0m\u001b[0;34m\u001b[0m\u001b[0;34m\u001b[0m\u001b[0m\n\u001b[0m\u001b[1;32m    684\u001b[0m \u001b[0;34m\u001b[0m\u001b[0m\n\u001b[1;32m    685\u001b[0m     \u001b[0;32mif\u001b[0m \u001b[0;32mnot\u001b[0m \u001b[0mcontext\u001b[0m\u001b[0;34m.\u001b[0m\u001b[0mexecuting_eagerly\u001b[0m\u001b[0;34m(\u001b[0m\u001b[0;34m)\u001b[0m\u001b[0;34m:\u001b[0m\u001b[0;34m\u001b[0m\u001b[0;34m\u001b[0m\u001b[0m\n",
            "\u001b[0;32m/usr/local/lib/python3.7/dist-packages/tensorflow/python/ops/resource_variable_ops.py\u001b[0m in \u001b[0;36mread_and_set_handle\u001b[0;34m()\u001b[0m\n\u001b[1;32m    672\u001b[0m     \u001b[0;32mdef\u001b[0m \u001b[0mread_and_set_handle\u001b[0m\u001b[0;34m(\u001b[0m\u001b[0;34m)\u001b[0m\u001b[0;34m:\u001b[0m\u001b[0;34m\u001b[0m\u001b[0;34m\u001b[0m\u001b[0m\n\u001b[1;32m    673\u001b[0m       result = gen_resource_variable_ops.read_variable_op(\n\u001b[0;32m--> 674\u001b[0;31m           self.handle, self._dtype)\n\u001b[0m\u001b[1;32m    675\u001b[0m       \u001b[0m_maybe_set_handle_data\u001b[0m\u001b[0;34m(\u001b[0m\u001b[0mself\u001b[0m\u001b[0;34m.\u001b[0m\u001b[0m_dtype\u001b[0m\u001b[0;34m,\u001b[0m \u001b[0mself\u001b[0m\u001b[0;34m.\u001b[0m\u001b[0mhandle\u001b[0m\u001b[0;34m,\u001b[0m \u001b[0mresult\u001b[0m\u001b[0;34m)\u001b[0m\u001b[0;34m\u001b[0m\u001b[0;34m\u001b[0m\u001b[0m\n\u001b[1;32m    676\u001b[0m       \u001b[0;32mreturn\u001b[0m \u001b[0mresult\u001b[0m\u001b[0;34m\u001b[0m\u001b[0;34m\u001b[0m\u001b[0m\n",
            "\u001b[0;32m/usr/local/lib/python3.7/dist-packages/tensorflow/python/ops/gen_resource_variable_ops.py\u001b[0m in \u001b[0;36mread_variable_op\u001b[0;34m(resource, dtype, name)\u001b[0m\n\u001b[1;32m    483\u001b[0m   \u001b[0mdtype\u001b[0m \u001b[0;34m=\u001b[0m \u001b[0m_execute\u001b[0m\u001b[0;34m.\u001b[0m\u001b[0mmake_type\u001b[0m\u001b[0;34m(\u001b[0m\u001b[0mdtype\u001b[0m\u001b[0;34m,\u001b[0m \u001b[0;34m\"dtype\"\u001b[0m\u001b[0;34m)\u001b[0m\u001b[0;34m\u001b[0m\u001b[0;34m\u001b[0m\u001b[0m\n\u001b[1;32m    484\u001b[0m   _, _, _op, _outputs = _op_def_library._apply_op_helper(\n\u001b[0;32m--> 485\u001b[0;31m         \"ReadVariableOp\", resource=resource, dtype=dtype, name=name)\n\u001b[0m\u001b[1;32m    486\u001b[0m   \u001b[0m_result\u001b[0m \u001b[0;34m=\u001b[0m \u001b[0m_outputs\u001b[0m\u001b[0;34m[\u001b[0m\u001b[0;34m:\u001b[0m\u001b[0;34m]\u001b[0m\u001b[0;34m\u001b[0m\u001b[0;34m\u001b[0m\u001b[0m\n\u001b[1;32m    487\u001b[0m   \u001b[0;32mif\u001b[0m \u001b[0m_execute\u001b[0m\u001b[0;34m.\u001b[0m\u001b[0mmust_record_gradient\u001b[0m\u001b[0;34m(\u001b[0m\u001b[0;34m)\u001b[0m\u001b[0;34m:\u001b[0m\u001b[0;34m\u001b[0m\u001b[0;34m\u001b[0m\u001b[0m\n",
            "\u001b[0;32m/usr/local/lib/python3.7/dist-packages/tensorflow/python/framework/op_def_library.py\u001b[0m in \u001b[0;36m_apply_op_helper\u001b[0;34m(op_type_name, name, **keywords)\u001b[0m\n\u001b[1;32m    748\u001b[0m       op = g._create_op_internal(op_type_name, inputs, dtypes=None,\n\u001b[1;32m    749\u001b[0m                                  \u001b[0mname\u001b[0m\u001b[0;34m=\u001b[0m\u001b[0mscope\u001b[0m\u001b[0;34m,\u001b[0m \u001b[0minput_types\u001b[0m\u001b[0;34m=\u001b[0m\u001b[0minput_types\u001b[0m\u001b[0;34m,\u001b[0m\u001b[0;34m\u001b[0m\u001b[0;34m\u001b[0m\u001b[0m\n\u001b[0;32m--> 750\u001b[0;31m                                  attrs=attr_protos, op_def=op_def)\n\u001b[0m\u001b[1;32m    751\u001b[0m \u001b[0;34m\u001b[0m\u001b[0m\n\u001b[1;32m    752\u001b[0m     \u001b[0;31m# `outputs` is returned as a separate return value so that the output\u001b[0m\u001b[0;34m\u001b[0m\u001b[0;34m\u001b[0m\u001b[0;34m\u001b[0m\u001b[0m\n",
            "\u001b[0;32m/usr/local/lib/python3.7/dist-packages/tensorflow/python/framework/func_graph.py\u001b[0m in \u001b[0;36m_create_op_internal\u001b[0;34m(self, op_type, inputs, dtypes, input_types, name, attrs, op_def, compute_device)\u001b[0m\n\u001b[1;32m    599\u001b[0m     return super(FuncGraph, self)._create_op_internal(  # pylint: disable=protected-access\n\u001b[1;32m    600\u001b[0m         \u001b[0mop_type\u001b[0m\u001b[0;34m,\u001b[0m \u001b[0mcaptured_inputs\u001b[0m\u001b[0;34m,\u001b[0m \u001b[0mdtypes\u001b[0m\u001b[0;34m,\u001b[0m \u001b[0minput_types\u001b[0m\u001b[0;34m,\u001b[0m \u001b[0mname\u001b[0m\u001b[0;34m,\u001b[0m \u001b[0mattrs\u001b[0m\u001b[0;34m,\u001b[0m \u001b[0mop_def\u001b[0m\u001b[0;34m,\u001b[0m\u001b[0;34m\u001b[0m\u001b[0;34m\u001b[0m\u001b[0m\n\u001b[0;32m--> 601\u001b[0;31m         compute_device)\n\u001b[0m\u001b[1;32m    602\u001b[0m \u001b[0;34m\u001b[0m\u001b[0m\n\u001b[1;32m    603\u001b[0m   \u001b[0;32mdef\u001b[0m \u001b[0mcapture\u001b[0m\u001b[0;34m(\u001b[0m\u001b[0mself\u001b[0m\u001b[0;34m,\u001b[0m \u001b[0mtensor\u001b[0m\u001b[0;34m,\u001b[0m \u001b[0mname\u001b[0m\u001b[0;34m=\u001b[0m\u001b[0;32mNone\u001b[0m\u001b[0;34m,\u001b[0m \u001b[0mshape\u001b[0m\u001b[0;34m=\u001b[0m\u001b[0;32mNone\u001b[0m\u001b[0;34m)\u001b[0m\u001b[0;34m:\u001b[0m\u001b[0;34m\u001b[0m\u001b[0;34m\u001b[0m\u001b[0m\n",
            "\u001b[0;32m/usr/local/lib/python3.7/dist-packages/tensorflow/python/framework/ops.py\u001b[0m in \u001b[0;36m_create_op_internal\u001b[0;34m(self, op_type, inputs, dtypes, input_types, name, attrs, op_def, compute_device)\u001b[0m\n\u001b[1;32m   3548\u001b[0m     \u001b[0;31m# after removing the trailing '/'.\u001b[0m\u001b[0;34m\u001b[0m\u001b[0;34m\u001b[0m\u001b[0;34m\u001b[0m\u001b[0m\n\u001b[1;32m   3549\u001b[0m     \u001b[0;32mif\u001b[0m \u001b[0mname\u001b[0m \u001b[0;32mand\u001b[0m \u001b[0mname\u001b[0m\u001b[0;34m[\u001b[0m\u001b[0;34m-\u001b[0m\u001b[0;36m1\u001b[0m\u001b[0;34m]\u001b[0m \u001b[0;34m==\u001b[0m \u001b[0;34m\"/\"\u001b[0m\u001b[0;34m:\u001b[0m\u001b[0;34m\u001b[0m\u001b[0;34m\u001b[0m\u001b[0m\n\u001b[0;32m-> 3550\u001b[0;31m       \u001b[0mname\u001b[0m \u001b[0;34m=\u001b[0m \u001b[0mname_from_scope_name\u001b[0m\u001b[0;34m(\u001b[0m\u001b[0mname\u001b[0m\u001b[0;34m)\u001b[0m\u001b[0;34m\u001b[0m\u001b[0;34m\u001b[0m\u001b[0m\n\u001b[0m\u001b[1;32m   3551\u001b[0m     \u001b[0;32melse\u001b[0m\u001b[0;34m:\u001b[0m\u001b[0;34m\u001b[0m\u001b[0;34m\u001b[0m\u001b[0m\n\u001b[1;32m   3552\u001b[0m       \u001b[0mname\u001b[0m \u001b[0;34m=\u001b[0m \u001b[0mself\u001b[0m\u001b[0;34m.\u001b[0m\u001b[0munique_name\u001b[0m\u001b[0;34m(\u001b[0m\u001b[0mname\u001b[0m\u001b[0;34m)\u001b[0m\u001b[0;34m\u001b[0m\u001b[0;34m\u001b[0m\u001b[0m\n",
            "\u001b[0;32m/usr/local/lib/python3.7/dist-packages/tensorflow/python/framework/ops.py\u001b[0m in \u001b[0;36mname_from_scope_name\u001b[0;34m(name)\u001b[0m\n\u001b[1;32m   2889\u001b[0m     \u001b[0mthe\u001b[0m \u001b[0mname\u001b[0m \u001b[0mof\u001b[0m \u001b[0mthe\u001b[0m \u001b[0mop\u001b[0m \u001b[0;34m(\u001b[0m\u001b[0mequal\u001b[0m \u001b[0mto\u001b[0m \u001b[0mscope\u001b[0m \u001b[0mname\u001b[0m \u001b[0mminus\u001b[0m \u001b[0many\u001b[0m \u001b[0mtrailing\u001b[0m \u001b[0mslash\u001b[0m\u001b[0;34m)\u001b[0m\u001b[0;34m.\u001b[0m\u001b[0;34m\u001b[0m\u001b[0;34m\u001b[0m\u001b[0m\n\u001b[1;32m   2890\u001b[0m   \"\"\"\n\u001b[0;32m-> 2891\u001b[0;31m   \u001b[0;32mreturn\u001b[0m \u001b[0mname\u001b[0m\u001b[0;34m[\u001b[0m\u001b[0;34m:\u001b[0m\u001b[0;34m-\u001b[0m\u001b[0;36m1\u001b[0m\u001b[0;34m]\u001b[0m \u001b[0;32mif\u001b[0m \u001b[0;34m(\u001b[0m\u001b[0mname\u001b[0m \u001b[0;32mand\u001b[0m \u001b[0mname\u001b[0m\u001b[0;34m[\u001b[0m\u001b[0;34m-\u001b[0m\u001b[0;36m1\u001b[0m\u001b[0;34m]\u001b[0m \u001b[0;34m==\u001b[0m \u001b[0;34m\"/\"\u001b[0m\u001b[0;34m)\u001b[0m \u001b[0;32melse\u001b[0m \u001b[0mname\u001b[0m\u001b[0;34m\u001b[0m\u001b[0;34m\u001b[0m\u001b[0m\n\u001b[0m\u001b[1;32m   2892\u001b[0m \u001b[0;34m\u001b[0m\u001b[0m\n\u001b[1;32m   2893\u001b[0m \u001b[0;34m\u001b[0m\u001b[0m\n",
            "\u001b[0;31mKeyboardInterrupt\u001b[0m: "
          ]
        }
      ]
    },
    {
      "cell_type": "code",
      "metadata": {
        "id": "Y3rtsniIwbwP"
      },
      "source": [
        ""
      ],
      "execution_count": null,
      "outputs": []
    },
    {
      "cell_type": "markdown",
      "metadata": {
        "id": "yHXkywirRpmM"
      },
      "source": [
        "# A collaborative GP model on the penultimate layer features of input DNNX/CNNX/CNNX0.5+DNNX0.5"
      ]
    },
    {
      "cell_type": "code",
      "metadata": {
        "id": "tdG2Foo36ck8"
      },
      "source": [
        "# set up the data for the collaborative models using GPs\n",
        "\n",
        "num_of_models = 20\n",
        "\n",
        "layer_name_penultimate_dnn = \"D3R\"\n",
        "layer_name_penultimate_cnn = \"DRP1\"\n",
        "\n",
        "validation_features_to_load_dnn = sorted(random.sample([ff for ff in dnn_features_files if \"Validation_X.npy\" in ff and f\"_{layer_name_penultimate_dnn}_\" in ff ], num_of_models))\n",
        "np_x_validation_collab_dnn = np.array([np.load(ff) for ff in validation_features_to_load_dnn ])\n",
        "np_x_validation_collab_dnn = np.concatenate(np_x_validation_collab_dnn, axis=1)\n",
        "\n",
        "train_features_to_load_dnn = [ff.replace(\"Validation\", \"Train\") for ff in validation_features_to_load_dnn]\n",
        "np_x_train_collab_dnn = np.array([np.load(ff) for ff in train_features_to_load_dnn ])\n",
        "np_x_train_collab_dnn = np.concatenate(np_x_train_collab_dnn, axis=1)\n",
        "\n",
        "test_features_to_load_dnn = [ff.replace(\"Validation\", \"Test\") for ff in validation_features_to_load_dnn]\n",
        "np_x_test_collab_dnn = np.array([np.load(ff) for ff in test_features_to_load_dnn ])\n",
        "np_x_test_collab_dnn = np.concatenate(np_x_test_collab_dnn, axis=1)\n",
        "\n",
        "validation_features_to_load_cnn = sorted(random.sample([ff for ff in cnn_features_files if \"Validation_X.npy\" in ff and f\"_{layer_name_penultimate_cnn}_\" in ff], num_of_models))\n",
        "np_x_validation_collab_cnn = np.array([np.load(ff) for ff in validation_features_to_load_cnn ])\n",
        "np_x_validation_collab_cnn = np.concatenate(np_x_validation_collab_cnn, axis=1)\n",
        "\n",
        "train_features_to_load_cnn = [ff.replace(\"Validation\", \"Train\") for ff in validation_features_to_load_cnn]\n",
        "np_x_train_collab_cnn = np.array([np.load(ff) for ff in train_features_to_load_cnn ])\n",
        "np_x_train_collab_cnn = np.concatenate(np_x_train_collab_cnn, axis=1)\n",
        "\n",
        "test_features_to_load_cnn = [ff.replace(\"Validation\", \"Test\") for ff in validation_features_to_load_cnn]\n",
        "np_x_test_collab_cnn = np.array([np.load(ff) for ff in test_features_to_load_cnn ])\n",
        "np_x_test_collab_cnn = np.concatenate(np_x_test_collab_cnn, axis=1)\n",
        "\n",
        "validation_features_to_load_cnn = sorted(random.sample([ff for ff in cnn_features_files if \"Validation_X.npy\" in ff and f\"_{layer_name_penultimate_cnn}_\" in ff], int(num_of_models/2)))\n",
        "validation_features_to_load_dnn  = sorted(random.sample([ff for ff in dnn_features_files if \"Validation_X.npy\" in ff and f\"_{layer_name_penultimate_dnn}_\" in ff], int(num_of_models/2)))\n",
        "\n",
        "validation_features_cnn = np.array([np.load(ff) for ff in validation_features_to_load_cnn ])\n",
        "validation_features_dnn = np.array([np.load(ff) for ff in validation_features_to_load_dnn ])\n",
        "np_x_validation_collab_cdnn = np.concatenate([validation_features_cnn,validation_features_dnn], axis=2)\n",
        "\n",
        "train_features_to_load_cnn = [ff.replace(\"Validation\", \"Train\") for ff in validation_features_to_load_cnn]\n",
        "train_features_to_load_dnn = [ff.replace(\"Validation\", \"Train\") for ff in validation_features_to_load_dnn]\n",
        "train_features_cnn = np.array([np.load(ff) for ff in train_features_to_load_cnn ])\n",
        "train_features_dnn = np.array([np.load(ff) for ff in train_features_to_load_dnn ])\n",
        "np_x_train_collab_cdnn = np.concatenate([train_features_cnn,train_features_dnn], axis=2)\n",
        "\n",
        "test_features_to_load_cnn = [ff.replace(\"Validation\", \"Test\") for ff in validation_features_to_load_cnn]\n",
        "test_features_to_load_dnn = [ff.replace(\"Validation\", \"Test\") for ff in validation_features_to_load_dnn]\n",
        "test_features_cnn = np.array([np.load(ff) for ff in test_features_to_load_cnn ])\n",
        "test_features_dnn = np.array([np.load(ff) for ff in test_features_to_load_dnn ])\n",
        "np_x_test_collab_cdnn = np.concatenate([test_features_cnn,test_features_dnn], axis=2)\n",
        "\n",
        "np_x_train_collab_cdnn = np.swapaxes(np_x_train_collab_cdnn, 0,1)\n",
        "np_x_validation_collab_cdnn = np.swapaxes(np_x_validation_collab_cdnn, 0,1)\n",
        "np_x_test_collab_cdnn = np.swapaxes(np_x_test_collab_cdnn, 0,1)\n"
      ],
      "execution_count": null,
      "outputs": []
    },
    {
      "cell_type": "code",
      "metadata": {
        "id": "fNEi9qQeUTf1"
      },
      "source": [
        "# np_x_train_collab_dnn\n",
        "# data_gp_train_dnnf\n",
        "# test_targets.shape\n",
        "# data_gp_test_target_dnnf.shape\n",
        "# data_gp_test_dnnf.shape\n",
        "# data_gp_train_dnnf.shape"
      ],
      "execution_count": null,
      "outputs": []
    },
    {
      "cell_type": "markdown",
      "metadata": {
        "id": "A2BIu6tAocat"
      },
      "source": [
        "Setup the GP data for the DNN features"
      ]
    },
    {
      "cell_type": "code",
      "metadata": {
        "id": "tupBZqUJXG7L"
      },
      "source": [
        "# reproducibility:\n",
        "np.random.seed(0)\n",
        "tf.random.set_seed(123)\n",
        "\n",
        "num_of_data_points_dnnf = np_x_train_collab_dnn.shape[0] # 2000\n",
        "num_classes = np.unique(train_targets[:num_of_data_points_dnnf,:]).size\n",
        "num_of_functions = num_classes\n",
        "num_of_independent_vars_dnn = np_x_train_collab_dnn.shape[-1]\n",
        "num_of_test_data_points_dnnf = min(num_of_data_points_dnnf,test_targets.shape[0])\n",
        "\n",
        "data_gp_train_dnnf = np_x_train_collab_dnn[:num_of_data_points_dnnf,:]     # np_x_train_collab_dnn # np.concatenate((data_train[0],data_train_post[0]), axis = 1)\n",
        "data_gp_test_dnnf = np_x_test_collab_dnn[:num_of_test_data_points_dnnf,:]     # np_x_train_collab_dnn # np.concatenate((data_train[0],data_train_post[0]), axis = 1)\n",
        "\n",
        "data_gp_train_target_hot_dnnf = np.squeeze(np.eye(num_classes)[train_targets[:num_of_data_points_dnnf,:]].astype(bool))\n",
        "data_gp_train_target_dnnf = np.apply_along_axis(np.argmax, 1, data_gp_train_target_hot_dnnf)\n",
        "data_gp_train_target_dnnf = np.expand_dims(data_gp_train_target_dnnf, axis=1)\n",
        "\n",
        "data_gp_test_target_hot_dnnf = np.squeeze(np.eye(num_classes)[test_targets[:num_of_test_data_points_dnnf,:]].astype(bool))\n",
        "data_gp_test_target_dnnf = np.apply_along_axis(np.argmax, 1, data_gp_test_target_hot_dnnf)\n",
        "data_gp_test_target_dnnf = np.expand_dims(data_gp_test_target_dnnf, axis=1)\n",
        "\n",
        "data_gp_dnnf = ( data_gp_train_dnnf, data_gp_train_target_dnnf )\n",
        "\n"
      ],
      "execution_count": null,
      "outputs": []
    },
    {
      "cell_type": "markdown",
      "metadata": {
        "id": "Wp4y41yYbv1B"
      },
      "source": [
        "Setup the GP data for the CNN features"
      ]
    },
    {
      "cell_type": "code",
      "metadata": {
        "id": "YRrCIHWlbv1B"
      },
      "source": [
        "# reproducibility:\n",
        "np.random.seed(0)\n",
        "tf.random.set_seed(123)\n",
        "\n",
        "num_of_data_points_cnnf = np_x_train_collab_cnn.shape[0] # 2000\n",
        "num_classes = np.unique(train_targets[:num_of_data_points_cnnf,:]).size\n",
        "num_of_functions = num_classes\n",
        "num_of_independent_vars_cnn = np_x_train_collab_cnn.shape[-1]\n",
        "num_of_test_data_points_cnnf = min(num_of_data_points_cnnf,test_targets.shape[0])\n",
        "\n",
        "data_gp_train_cnnf = np_x_train_collab_cnn[:num_of_data_points_cnnf,:]\n",
        "data_gp_test_cnnf = np_x_test_collab_cnn[:num_of_test_data_points_cnnf,:]\n",
        "\n",
        "data_gp_train_target_hot_cnnf = np.squeeze(np.eye(num_classes)[train_targets[:num_of_data_points_cnnf,:]].astype(bool))\n",
        "data_gp_train_target_cnnf = np.apply_along_axis(np.argmax, 1, data_gp_train_target_hot_cnnf)\n",
        "data_gp_train_target_cnnf = np.expand_dims(data_gp_train_target_cnnf, axis=1)\n",
        "\n",
        "data_gp_test_target_hot_cnnf = np.squeeze(np.eye(num_classes)[test_targets[:num_of_test_data_points_cnnf,:]].astype(bool))\n",
        "data_gp_test_target_cnnf = np.apply_along_axis(np.argmax, 1, data_gp_test_target_hot_cnnf)\n",
        "data_gp_test_target_cnnf = np.expand_dims(data_gp_test_target_cnnf, axis=1)\n",
        "\n",
        "data_gp_cnnf = ( data_gp_train_cnnf, data_gp_train_target_cnnf )\n",
        "\n"
      ],
      "execution_count": null,
      "outputs": []
    },
    {
      "cell_type": "code",
      "metadata": {
        "colab": {
          "base_uri": "https://localhost:8080/"
        },
        "id": "cFnc2Nq7ug2n",
        "outputId": "646a33a9-8f0d-459a-e6c3-bfa27b1cbba9"
      },
      "source": [
        "# save this down for local analysis\n",
        "npy_to_save = [data_gp_train_dnnf, \n",
        "               data_gp_train_target_dnnf,\n",
        "               data_gp_test_dnnf,\n",
        "               data_gp_test_target_dnnf,\n",
        "               data_gp_train_cnnf, \n",
        "               data_gp_train_target_cnnf,\n",
        "               data_gp_test_cnnf,\n",
        "               data_gp_test_target_cnnf]\n",
        "\n",
        "for npx in npy_to_save:\n",
        "  print([x for x in retrieve_name(npx) if 'data' in x][0])\n",
        "  # np.save(f\"/content/drive/MyDrive/data_papers/{paper_name}/features_for_local/{[x for x in retrieve_name(npx) if 'data' in x][0]}_20models_{datetime.datetime.now():%Y%m%d%H%M%S}\", \n",
        "  #         npx, \n",
        "  #         allow_pickle=True, \n",
        "  #         fix_imports=True)\n",
        "  # np.save(f\"/content/drive/MyDrive/data_papers/{paper_name}/features_for_local/{[x for x in retrieve_name(npx) if 'data' in x][0]}_4models_{datetime.datetime.now():%Y%m%d%H%M%S}\", \n",
        "  #         npx, \n",
        "  #         allow_pickle=True, \n",
        "  #         fix_imports=True)\n",
        "  # np.save(f\"/content/drive/MyDrive/data_papers/{paper_name}/features_for_local/{[x for x in retrieve_name(npx) if 'data' in x][0]}_2models_{datetime.datetime.now():%Y%m%d%H%M%S}\", \n",
        "  #         npx, \n",
        "  #         allow_pickle=True, \n",
        "  #         fix_imports=True)\n",
        "\n",
        "\n"
      ],
      "execution_count": null,
      "outputs": [
        {
          "name": "stdout",
          "output_type": "stream",
          "text": [
            "data_gp_train_dnnf\n",
            "data_gp_train_target_dnnf\n",
            "data_gp_test_dnnf\n",
            "data_gp_test_target_dnnf\n",
            "data_gp_train_cnnf\n",
            "data_gp_train_target_cnnf\n",
            "data_gp_test_cnnf\n",
            "data_gp_test_target_cnnf\n"
          ]
        }
      ]
    },
    {
      "cell_type": "code",
      "metadata": {
        "id": "Z_kpE1wX--Vf"
      },
      "source": [
        "# np_x_train_collab_dnn.shape\n",
        "# np_x_train_collab_dnn[:1000,:].shape\n",
        "# train_targets[:1000]\n",
        "# train_targets.shape\n",
        "# data_gp_train_target_hot\n",
        "# np.apply_along_axis(np.argmax, 1, data_gp_train_target_hot)\n",
        "# data_gp_train_target\n",
        "# num_of_independent_vars\n",
        "# np_x_train_collab_dnn.shape\n",
        "# possible_kernels"
      ],
      "execution_count": null,
      "outputs": []
    },
    {
      "cell_type": "code",
      "metadata": {
        "id": "wG768Pf7errr"
      },
      "source": [
        "# cnn_features_files"
      ],
      "execution_count": null,
      "outputs": []
    },
    {
      "cell_type": "markdown",
      "metadata": {
        "id": "nJnGnexkeJim"
      },
      "source": [
        "Get the explained variance graph on the DNN features PCA"
      ]
    },
    {
      "cell_type": "code",
      "metadata": {
        "id": "LxYELqWFB0AD"
      },
      "source": [
        "from sklearn.preprocessing import StandardScaler\n",
        "from sklearn.decomposition import PCA\n",
        "import tensorflow as tf\n"
      ],
      "execution_count": null,
      "outputs": []
    },
    {
      "cell_type": "code",
      "metadata": {
        "id": "vlXxrzjzC8CM"
      },
      "source": [
        "sc_dnnf = StandardScaler()\n",
        "sc_dnnf.fit(data_gp_train_dnnf)\n",
        "data_gp_train_dnnf_pca = sc_dnnf.transform(data_gp_train_dnnf)\n",
        "data_gp_test_dnnf_pca = sc_dnnf.transform(data_gp_test_dnnf)\n",
        "\n",
        "pca_dnnf = PCA()\n",
        "data_gp_train_dnnf_pca = pca_dnnf.fit_transform(data_gp_train_dnnf_pca)\n",
        "data_gp_test_dnnf_pca = pca_dnnf.transform(data_gp_test_dnnf_pca)\n"
      ],
      "execution_count": null,
      "outputs": []
    },
    {
      "cell_type": "code",
      "metadata": {
        "id": "5g4iRu2KDeRr"
      },
      "source": [
        "exp_var_pca_dnnf = pca_dnnf.explained_variance_ratio_\n",
        "cum_sum_eigenvalues_dnnf = np.cumsum(exp_var_pca_dnnf)\n",
        "\n",
        "plt.bar(range(0,len(exp_var_pca_dnnf)), exp_var_pca_dnnf, alpha=0.5, align='center', label='Individual explained variance')\n",
        "plt.step(range(0,len(cum_sum_eigenvalues_dnnf)), cum_sum_eigenvalues_dnnf, where='mid',label='Cumulative explained variance')\n",
        "plt.ylabel('Explained variance ratio _dnnf')\n",
        "plt.xlabel('Principal component index _dnnf')\n",
        "plt.legend(loc='best')\n",
        "plt.tight_layout()\n",
        "plt.show()\n"
      ],
      "execution_count": null,
      "outputs": []
    },
    {
      "cell_type": "markdown",
      "metadata": {
        "id": "rH6ZnzMyeTga"
      },
      "source": [
        "Get the explained variance graph on the CNN features PCA"
      ]
    },
    {
      "cell_type": "code",
      "metadata": {
        "id": "z5394cPreZGS"
      },
      "source": [
        "sc_cnnf = StandardScaler()\n",
        "sc_cnnf.fit(data_gp_train_cnnf)\n",
        "data_gp_train_cnnf_pca = sc_cnnf.transform(data_gp_train_cnnf)\n",
        "data_gp_test_cnnf_pca = sc_cnnf.transform(data_gp_test_cnnf)\n",
        "\n",
        "pca_cnnf = PCA()\n",
        "data_gp_train_cnnf_pca = pca_cnnf.fit_transform(data_gp_train_cnnf_pca)\n",
        "data_gp_test_cnnf_pca = pca_cnnf.transform(data_gp_test_cnnf_pca)\n"
      ],
      "execution_count": null,
      "outputs": []
    },
    {
      "cell_type": "code",
      "metadata": {
        "id": "awvaE0OceZGT"
      },
      "source": [
        "exp_var_pca_cnnf = pca_cnnf.explained_variance_ratio_\n",
        "cum_sum_eigenvalues_cnnf = np.cumsum(exp_var_pca_cnnf)\n",
        "\n",
        "plt.bar(range(0,len(exp_var_pca_cnnf)), exp_var_pca_cnnf, alpha=0.5, align='center', label='Individual explained variance')\n",
        "plt.step(range(0,len(cum_sum_eigenvalues_cnnf)), cum_sum_eigenvalues_cnnf, where='mid',label='Cumulative explained variance')\n",
        "plt.ylabel('Explained variance ratio _cnnf')\n",
        "plt.xlabel('Principal component index _cnnf')\n",
        "plt.legend(loc='best')\n",
        "plt.tight_layout()\n",
        "plt.show()\n"
      ],
      "execution_count": null,
      "outputs": []
    },
    {
      "cell_type": "markdown",
      "metadata": {
        "id": "iEtkDK7OY4k2"
      },
      "source": [
        "Do a Collobarative on the X first PCAs for the DNN features"
      ]
    },
    {
      "cell_type": "code",
      "metadata": {
        "id": "8niTwje9e7Hh"
      },
      "source": [
        "# trying to run it at different var% explained through PCA\n",
        "vars_to_explain = [0.95]"
      ],
      "execution_count": null,
      "outputs": []
    },
    {
      "cell_type": "code",
      "metadata": {
        "id": "uGLZOuaHpMvj"
      },
      "source": [
        "def construct_kernel_list(num_of_independent_vars, base_lengthscales = [0.1]):\n",
        "  possible_kernels = []\n",
        "  for i in range(len(base_lengthscales)):\n",
        "    possible_kernels.append(gpflow.kernels.RBF(variance=1.0, lengthscales=[base_lengthscales[i]]*num_of_independent_vars))\n",
        "    possible_kernels.append(gpflow.kernels.Matern12(variance=1.0, lengthscales=[base_lengthscales[i]]*num_of_independent_vars))\n",
        "    possible_kernels.append(gpflow.kernels.Matern32(variance=1.0, lengthscales=[base_lengthscales[i]]*num_of_independent_vars))\n",
        "    # possible_kernels.append(gpflow.kernels.Matern52(variance=1.0, lengthscales=[base_lengthscales[i]]*num_of_independent_vars))\n",
        "    # possible_kernels.append(gpflow.kernels.SquaredExponential(lengthscales=[base_lengthscales[i]]*num_of_independent_vars))  \n",
        "\n",
        "  return possible_kernels"
      ],
      "execution_count": null,
      "outputs": []
    },
    {
      "cell_type": "code",
      "metadata": {
        "id": "9Yl5ILQWDhHh"
      },
      "source": [
        "\n",
        "# nth_inducing_ratio = 80\n",
        "nth_inducing_ratio = 120\n",
        "\n",
        "for min_var_explained in vars_to_explain:\n",
        "  num_of_loadings = np.min(np.where(cum_sum_eigenvalues_dnnf>min_var_explained))\n",
        "  data_gp_train_dnnf_pca = data_gp_train_dnnf_pca[:,:(num_of_loadings)]\n",
        "  data_gp_test_dnnf_pca = data_gp_test_dnnf_pca[:,:(num_of_loadings)]\n",
        "  data_gp_dnnf = ( data_gp_train_dnnf_pca, data_gp_train_target_dnnf )\n",
        "  num_of_independent_vars = data_gp_dnnf[0].shape[1]\n",
        "  num_of_classes = np.unique(data_gp_dnnf[1]).size\n",
        "  num_of_functions = num_of_classes\n",
        "  possible_kernels_dnnf = construct_kernel_list(num_of_independent_vars, [0.1, 1.0])\n",
        "  # Robustmax Multiclass Likelihood\n",
        "  invlink = gpflow.likelihoods.RobustMax(num_of_functions)  # Robustmax inverse link function\n",
        "  likelihood = gpflow.likelihoods.MultiClass(num_of_functions, invlink=invlink)  # Multiclass likelihood\n",
        "  idxs_of_induced_dnnf = sorted(random.sample(range(data_gp_dnnf[0].shape[0]),int(data_gp_dnnf[0].shape[0]/nth_inducing_ratio)))\n",
        "  inducing_inputs_dnnf = data_gp_dnnf[0][idxs_of_induced_dnnf,:].copy()  # inducing inputs\n",
        "  gp_models_dnnf = []\n",
        "  for kernel in possible_kernels_dnnf:\n",
        "    m = gpflow.models.SVGP(\n",
        "        kernel=kernel,\n",
        "        likelihood=likelihood,\n",
        "        inducing_variable=inducing_inputs_dnnf,\n",
        "        num_latent_gps=num_of_functions,\n",
        "        whiten=True,\n",
        "        q_diag=True,\n",
        "    )\n",
        "    # Only train the variational parameters\n",
        "    # set_trainable(m.kernel.kernels[1].variance, False)\n",
        "    set_trainable(m.inducing_variable, False)\n",
        "    gp_models_dnnf.append(m)\n",
        "  result_dict_dnnf = dict()\n",
        "  # tensor_data = tuple(map(tf.convert_to_tensor, data_gp_dnnf))\n",
        "  # training_loss = m.training_loss_closure(tensor_data, compile=True)\n",
        "  # starting_elbo = -training_loss().numpy()\n",
        "  # print(f'Starting ELBO {starting_elbo}')\n",
        "  for mcount,m in enumerate(gp_models_dnnf):\n",
        "      print(mcount)\n",
        "      # opt = gpflow.optimizers.Scipy()\n",
        "      # opt_logs = opt.minimize(\n",
        "      #     m.training_loss_closure(data_gp_dnnf), m.trainable_variables, options=dict(maxiter=ci_niter(500))\n",
        "      # )\n",
        "      tensor_data = tuple(map(tf.convert_to_tensor, data_gp_dnnf))\n",
        "      training_loss = m.training_loss_closure(tensor_data, compile=True)\n",
        "      starting_elbo = -training_loss().numpy()\n",
        "      print(f'Starting ELBO {starting_elbo}')\n",
        "\n",
        "      elbos = [training_loss().numpy()]\n",
        "      optimizer = tf.optimizers.Adam()  \n",
        "      # optimizer = tf.optimizers.RMSprop()\n",
        "\n",
        "      @tf.function\n",
        "      def optim_here():\n",
        "          optimizer.minimize(training_loss, m.trainable_variables)\n",
        "\n",
        "      early_stop_count = 100\n",
        "      max_niters = 200000\n",
        "      for itc in range(max_niters):\n",
        "          optim_here()\n",
        "          elbo_now = -training_loss().numpy()\n",
        "          elbos.append(elbo_now)\n",
        "          # if len(elbos) > 100:\n",
        "          if (itc % 1000) == 0:\n",
        "            print(f'ELBO {elbo_now}')\n",
        "            if len(elbos) > (early_stop_count+1):\n",
        "              if elbos[-early_stop_count] >= elbos[-1]*1.0001:\n",
        "                  print(f'Early stopping at {itc}')\n",
        "                  break          \n",
        "          # needs at least a decent improvement\n",
        "\n",
        "      print(f'Ending ELBO {elbos[-1]}')\n",
        "\n",
        "      pY, pYv = m.predict_y(data_gp_test_dnnf_pca)  # Predict Y values at test locations\n",
        "      result_dict_dnnf[f\"{gp_models_dnnf[0].kernel.name}_{mcount}_{str(int(min_var_explained*100))}\"] = dict({'model': m, 'X': data_gp_test_dnnf_pca, 'Y': data_gp_test_target_dnnf, 'pY': pY, 'pYv': pYv})\n",
        "      np.save(f\"/content/drive/MyDrive/data_papers/{paper_name}/gp_collab/feature_collabUsingGP_dnn20_TestPCA_{gp_models_dnnf[mcount].kernel.name}_{mcount}_{str(int(min_var_explained*1000))}_{datetime.datetime.now():%Y%m%d%H%M%S}\", \n",
        "          np.array(pY), \n",
        "          allow_pickle=True, \n",
        "          fix_imports=True)\n",
        "      np.save(f\"/content/drive/MyDrive/data_papers/{paper_name}/gp_collab/feature_collabUsingGP_dnn20_TestPCA_Targets_{gp_models_dnnf[mcount].kernel.name}_{mcount}_{str(int(min_var_explained*1000))}_{datetime.datetime.now():%Y%m%d%H%M%S}\", \n",
        "          np.array(data_gp_dnnf[1]), \n",
        "          allow_pickle=True, \n",
        "          fix_imports=True)\n",
        "      tf.saved_model.save(m, f\"/content/drive/MyDrive/data_papers/{paper_name}/gp_collab/feature_collabUsingGP_dnn20_model_{gp_models_dnnf[mcount].kernel.name}_{mcount}_{str(int(min_var_explained*1000))}_{datetime.datetime.now():%Y%m%d%H%M%S}\")\n",
        "      print_summary(m, fmt=\"notebook\")  \n"
      ],
      "execution_count": null,
      "outputs": []
    },
    {
      "cell_type": "markdown",
      "metadata": {
        "id": "A4hFzFmgUjSq"
      },
      "source": [
        "Do a Collobarative on the X first PCAs for the CNN\n"
      ]
    },
    {
      "cell_type": "code",
      "metadata": {
        "id": "h9hhtojWUjSs"
      },
      "source": [
        "# trying to run it at different var% explained through PCA\n",
        "vars_to_explain = [0.95]"
      ],
      "execution_count": null,
      "outputs": []
    },
    {
      "cell_type": "code",
      "metadata": {
        "id": "Lk7BkNymel7P"
      },
      "source": [
        "# len(cum_sum_eigenvalues_cnnf)\n",
        "# min_var_explained\n",
        "# cum_sum_eigenvalues_cnnf\n",
        "# num_of_loadings\n",
        "# data_gp_cnnf[0].shape\n",
        "# # 73257/120"
      ],
      "execution_count": null,
      "outputs": []
    },
    {
      "cell_type": "code",
      "metadata": {
        "id": "v6U4WHJxUvjW"
      },
      "source": [
        "import numpy as np\n",
        "import pandas as pd\n",
        "import os,sys\n",
        "\n",
        "# min_var_explained = 0.4\n",
        "\n",
        "# nth_inducing_ratio = 80\n",
        "nth_inducing_ratio = 120\n",
        "\n",
        "for min_var_explained in vars_to_explain:\n",
        "  num_of_loadings = np.min(np.where(cum_sum_eigenvalues_cnnf>min_var_explained))\n",
        "  data_gp_train_cnnf_pca = data_gp_train_cnnf_pca[:,:(num_of_loadings)]\n",
        "  data_gp_test_cnnf_pca = data_gp_test_cnnf_pca[:,:(num_of_loadings)]\n",
        "  data_gp_cnnf = ( data_gp_train_cnnf_pca, data_gp_train_target_cnnf )\n",
        "  num_of_independent_vars = data_gp_cnnf[0].shape[1]\n",
        "  num_of_classes = np.unique(data_gp_cnnf[1]).size\n",
        "  num_of_functions = num_of_classes\n",
        "  possible_kernels_cnnf = construct_kernel_list(num_of_independent_vars, [0.1, 1.0])\n",
        "  # Robustmax Multiclass Likelihood\n",
        "  invlink = gpflow.likelihoods.RobustMax(num_of_functions)  # Robustmax inverse link function\n",
        "  likelihood = gpflow.likelihoods.MultiClass(num_of_functions, invlink=invlink)  # Multiclass likelihood\n",
        "  idxs_of_induced_cnnf = sorted(random.sample(range(data_gp_cnnf[0].shape[0]),int(data_gp_cnnf[0].shape[0]/nth_inducing_ratio)))\n",
        "  inducing_inputs_cnnf = data_gp_cnnf[0][idxs_of_induced_cnnf,:].copy()  # inducing inputs\n",
        "  gp_models_cnnf = []\n",
        "  for kernel in possible_kernels_cnnf:\n",
        "    m = gpflow.models.SVGP(\n",
        "        kernel=kernel,\n",
        "        likelihood=likelihood,\n",
        "        inducing_variable=inducing_inputs_cnnf,\n",
        "        num_latent_gps=num_of_functions,\n",
        "        whiten=True,\n",
        "        q_diag=True,\n",
        "    )\n",
        "    # Only train the variational parameters\n",
        "    # set_trainable(m.kernel.kernels[1].variance, False)\n",
        "    set_trainable(m.inducing_variable, False)\n",
        "    gp_models_cnnf.append(m)\n",
        "  result_dict_cnnf = dict()\n",
        "  # tensor_data = tuple(map(tf.convert_to_tensor, data_gp_cnnf))\n",
        "  # training_loss = m.training_loss_closure(tensor_data, compile=True)\n",
        "  # starting_elbo = -training_loss().numpy()\n",
        "  # print(f'Starting ELBO {starting_elbo}')\n",
        "  for mcount,m in enumerate(gp_models_cnnf):\n",
        "      print(mcount)\n",
        "      # opt = gpflow.optimizers.Scipy()\n",
        "      # opt_logs = opt.minimize(\n",
        "      #     m.training_loss_closure(data_gp_cnnf), m.trainable_variables, options=dict(maxiter=ci_niter(500))\n",
        "      # )\n",
        "      tensor_data = tuple(map(tf.convert_to_tensor, data_gp_cnnf))\n",
        "      training_loss = m.training_loss_closure(tensor_data, compile=True)\n",
        "      starting_elbo = -training_loss().numpy()\n",
        "      print(f'Starting ELBO {starting_elbo}')\n",
        "\n",
        "      elbos = [training_loss().numpy()]\n",
        "      optimizer = tf.optimizers.Adam()  \n",
        "      # optimizer = tf.optimizers.RMSprop()\n",
        "\n",
        "      @tf.function\n",
        "      def optim_here():\n",
        "          optimizer.minimize(training_loss, m.trainable_variables)\n",
        "\n",
        "      early_stop_count = 100\n",
        "      max_niters = 200000\n",
        "      for itc in range(max_niters):\n",
        "          optim_here()\n",
        "          elbo_now = -training_loss().numpy()\n",
        "          elbos.append(elbo_now)\n",
        "          # if len(elbos) > 100:\n",
        "          if (itc % 1000) == 0:\n",
        "            print(f'ELBO {elbo_now}')\n",
        "            if len(elbos) > (early_stop_count+1):\n",
        "              if elbos[-early_stop_count] >= elbos[-1]*1.0001:\n",
        "                  print(f'Early stopping at {itc}')\n",
        "                  break          \n",
        "          # needs at least a decent improvement\n",
        "\n",
        "      print(f'Ending ELBO {elbos[-1]}')\n",
        "\n",
        "      pY, pYv = m.predict_y(data_gp_test_cnnf_pca)  # Predict Y values at test locations\n",
        "      result_dict_cnnf[f\"{gp_models_cnnf[0].kernel.name}_{mcount}_{str(int(min_var_explained*100))}\"] = dict({'model': m, 'X': data_gp_test_cnnf_pca, 'Y': data_gp_test_target_cnnf, 'pY': pY, 'pYv': pYv})\n",
        "      np.save(f\"/content/drive/MyDrive/data_papers/{paper_name}/gp_collab/feature_collabUsingGP_cnn20_TestPCA_{gp_models_cnnf[mcount].kernel.name}_{mcount}_{str(int(min_var_explained*1000))}_{datetime.datetime.now():%Y%m%d%H%M%S}\", \n",
        "          np.array(pY), \n",
        "          allow_pickle=True, \n",
        "          fix_imports=True)\n",
        "      np.save(f\"/content/drive/MyDrive/data_papers/{paper_name}/gp_collab/feature_collabUsingGP_cnn20_TestPCA_Targets_{gp_models_cnnf[mcount].kernel.name}_{mcount}_{str(int(min_var_explained*1000))}_{datetime.datetime.now():%Y%m%d%H%M%S}\", \n",
        "          np.array(data_gp_cnnf[1]), \n",
        "          allow_pickle=True, \n",
        "          fix_imports=True)\n",
        "      tf.saved_model.save(m, f\"/content/drive/MyDrive/data_papers/{paper_name}/gp_collab/feature_collabUsingGP_cnn20_model_{gp_models_cnnf[mcount].kernel.name}_{mcount}_{str(int(min_var_explained*1000))}_{datetime.datetime.now():%Y%m%d%H%M%S}\")\n",
        "      print_summary(m, fmt=\"notebook\")  "
      ],
      "execution_count": null,
      "outputs": []
    },
    {
      "cell_type": "code",
      "metadata": {
        "id": "xATuNcTfxZ5R"
      },
      "source": [
        "# gp_models_dnnf[0].kernel.name"
      ],
      "execution_count": null,
      "outputs": []
    },
    {
      "cell_type": "code",
      "metadata": {
        "colab": {
          "base_uri": "https://localhost:8080/"
        },
        "id": "kKzFaZdmn5WS",
        "outputId": "b8ee12c5-1e74-46e1-9bdf-bd81313bfcf7"
      },
      "source": [
        "# gp_models[0].kernel\n",
        "# gp_models[1].kernel\n",
        "\n",
        "# data_gp_test_dnnf.shape\n",
        "# data_gp_test_dnnf_pca.shape\n",
        "# data_gp_test_target_dnnf.shape\n",
        "\n",
        "# pY, pYv = m.predict_y(data_gp_test_dnnf_pca)  # Predict Y values at test locations\n",
        "# result_dict[f\"{gp_models_dnnf[0].kernel.name}_{mcount}\"] = dict({'model': m, 'X': data_gp_test_dnnf_pca, 'Y': data_gp_test_target_dnnf, 'pY': pY, 'pYv': pYv})\n",
        "# print_summary(m, fmt=\"notebook\")\n",
        "# print(pY.shape)\n",
        "# np.apply_along_axis(np.argmax, 1, pY) "
      ],
      "execution_count": null,
      "outputs": [
        {
          "data": {
            "text/plain": [
              "(30000, 158)"
            ]
          },
          "execution_count": 74,
          "metadata": {},
          "output_type": "execute_result"
        }
      ]
    },
    {
      "cell_type": "markdown",
      "metadata": {
        "id": "DqVhyWuv26HD"
      },
      "source": [
        "Set up a summary of all the GP collaborative"
      ]
    },
    {
      "cell_type": "code",
      "metadata": {
        "colab": {
          "base_uri": "https://localhost:8080/"
        },
        "id": "63Tz4R2t2zqj",
        "outputId": "66a92952-03ae-4b11-b327-3f848235fc4d"
      },
      "source": [
        "import datetime\n",
        "\n",
        "# it (\"Targets\") is reverted!!!\n",
        "predicted_y_files = [ i for i in os.listdir(f\"/content/drive/MyDrive/data_papers/{paper_name}/gp_collab/\") if os.path.isfile(f\"/content/drive/MyDrive/data_papers/{paper_name}/gp_collab/{i}\") and not \"_Targets_\" in i ]  \n",
        "# used_x_files = [ i for i in os.listdir(\"D:/papers/gp_collab/gp_collab\") if os.path.isfile(i) and \"_Targets_\" in i ]\n",
        "\n",
        "collab_summaries = []\n",
        "used_y_files = []\n",
        "\n",
        "# check that it picks up the full directory\n",
        "for predicted_y_file in predicted_y_files:\n",
        "    y_test_predicted = np.load(f\"/content/drive/MyDrive/data_papers/{paper_name}/gp_collab/{predicted_y_file}\")\n",
        "    y_test_predicted = np.apply_along_axis(np.argmax, 1, y_test_predicted)\n",
        "    y_test_predicted = np.expand_dims(y_test_predicted, axis=1)\n",
        "    try:\n",
        "        summary_here =  pr_rc_f1_acc_from_supplied(y_test_predicted, test_targets)\n",
        "        used_y_files.append(predicted_y_file)\n",
        "        collab_summaries.append(summary_here)\n",
        "    except ValueError:\n",
        "        print(f\"FAILED {predicted_y_file}\")            \n",
        "        pass\n",
        "\n",
        "\n",
        "collab_summaries = np.array(collab_summaries)\n",
        "\n",
        "gp_collab_summary = pd.DataFrame(collab_summaries, columns=['PR','RC','F1','ACC'])\n",
        "gp_collab_summary['file'] = used_y_files\n",
        "\n",
        "gp_collab_summary.to_csv(f\"/content/drive/MyDrive/data_papers/{paper_name}/summary_results/gp_collab_summary_with_file_{datetime.datetime.now():%Y%m%d%H%M%S}.csv\",index=False)\n",
        "np.save(f\"/content/drive/MyDrive/data_papers/{paper_name}/summary_results/gp_collab_summary_with_file_{datetime.datetime.now():%Y%m%d%H%M%S}.npy\",collab_summaries)\n",
        "\n"
      ],
      "execution_count": null,
      "outputs": [
        {
          "output_type": "stream",
          "name": "stderr",
          "text": [
            "/usr/local/lib/python3.7/dist-packages/sklearn/metrics/_classification.py:1272: UndefinedMetricWarning: Precision and F-score are ill-defined and being set to 0.0 in labels with no predicted samples. Use `zero_division` parameter to control this behavior.\n",
            "  _warn_prf(average, modifier, msg_start, len(result))\n"
          ]
        }
      ]
    },
    {
      "cell_type": "markdown",
      "metadata": {
        "id": "jh3gG7xCrTxM"
      },
      "source": [
        "# Summary analysis/display across all runs"
      ]
    },
    {
      "cell_type": "code",
      "metadata": {
        "id": "OCIWfW-E_MKa",
        "colab": {
          "base_uri": "https://localhost:8080/"
        },
        "outputId": "14a18ab0-637d-4ea6-8e4b-209295cbd848"
      },
      "source": [
        "import os,sys\n",
        "import numpy as np\n",
        "import pandas as pd\n",
        "\n",
        "# os.chdir(\"D:/papers/gp_collab/summary_results\")\n",
        "# os.listdir()\n",
        "\n",
        "# pr_rc_f1_acc_from_supplied\n",
        "# feature_collabs = np.load(\"feature_collabUsingDnn_dnn20_cnn20_cnn10dnn10_wideresnet2810_summary_20211021233740.npy\")\n",
        "# feature_collabs = np.load(\"feature_collabUsingDnn_dnn20_cnn20_cnn10dnn10_wideresnet2810_wrs5cnn4dnn1_wrs10cnn8dnn2_summary_20211027174827.npy\")\n",
        "\n",
        "feature_collabs = np.load(f\"/content/drive/MyDrive/data_papers/{paper_name}/summary_results/feature_collabUsingDnn_dnn20_cnn20_cnn10dnn10_wideresnet2810_wrs5cnn4dnn1_wrs10cnn8dnn2_wrs5cnn5_summary_20211028180009.npy\")\n",
        "full_parrallel = np.load(f\"/content/drive/MyDrive/data_papers/{paper_name}/summary_results/full_parallel_dnn20_cnn20_cnn10dnn10_summary_20211003130317.npy\")\n",
        "\n",
        "tensemble_dnn20 = np.load(f\"/content/drive/MyDrive/data_papers/{paper_name}/summary_results/traditional_ensemble_dnn20_summary_20211117002646.npy\")\n",
        "tensemble_cnn20 = np.load(f\"/content/drive/MyDrive/data_papers/{paper_name}/summary_results/traditional_ensemble_cnn20_summary_20211117002646.npy\")\n",
        "tensemble_cnn10dnn10 = np.load(f\"/content/drive/MyDrive/data_papers/{paper_name}/summary_results/traditional_ensemble_cnn10dnn10_summary_20211117002646.npy\")\n",
        "tensemble_resnets = np.load(f\"/content/drive/MyDrive/data_papers/{paper_name}/summary_results/traditional_ensemble_resnets_summary_20211117022755.npy\")\n",
        "tensemble_wideresnets = np.load(f\"/content/drive/MyDrive/data_papers/{paper_name}/summary_results/traditional_ensemble_wideresnet28-10_summary_20211117022755.npy\")\n",
        "\n",
        "individual_dnns = np.load(f\"/content/drive/MyDrive/data_papers/{paper_name}/summary_results/individual_dnn_summary_20211014152626.npy\")\n",
        "individual_cnns = np.load(f\"/content/drive/MyDrive/data_papers/{paper_name}/summary_results/individual_cnn_summary_20211014152108.npy\")\n",
        "individual_resnets = np.load(f\"/content/drive/MyDrive/data_papers/{paper_name}/summary_results/individual_resnets_summary_20211014154755.npy\")\n",
        "individual_wideresnets = np.load(f\"/content/drive/MyDrive/data_papers/{paper_name}/summary_results/individual_WideResNet2810_summary_20211017233136.npy\")\n",
        "\n",
        "\n",
        "\n",
        "gpresults = pd.read_csv(f\"/content/drive/MyDrive/data_papers/{paper_name}/summary_results/gp_collab_summary_with_file_20211027112445.csv\")\n",
        "\n",
        "print(np.mean(tensemble_dnn20,0))\n",
        "print(np.mean(tensemble_cnn20,0))\n",
        "print(np.mean(tensemble_cnn10dnn10,0))\n",
        "# individual_dnns[np.where(individual_dnns[:,0]>0.10)[0],:]\n",
        "print(np.mean(individual_dnns,0))\n",
        "print(np.mean(individual_dnns[np.where(individual_dnns[:,0]>0.10)[0],:],0))\n",
        "print(np.where(individual_dnns[:,0]>0.10)[0].size)\n",
        "print(len(individual_cnns))\n",
        "print(np.mean(individual_cnns,0))\n",
        "print(np.mean(individual_cnns[np.where(individual_cnns[:,0]>0.10)[0],:],0))\n",
        "print(np.where(individual_cnns[:,0]>0.10)[0].size)\n",
        "print(len(individual_resnets))\n",
        "print(np.mean(individual_resnets,0))\n",
        "print(len(individual_wideresnets))\n",
        "print(np.mean(individual_wideresnets,0))\n",
        "print(len(tensemble_wideresnets))\n",
        "print(np.mean(tensemble_wideresnets,0))\n",
        "print(len(tensemble_resnets))\n",
        "print(np.mean(tensemble_resnets,0))\n",
        "\n",
        "print(feature_collabs)\n",
        "\n",
        "# import platform\n",
        "# print(platform.python_implementation())\n",
        "\n",
        "# os.listdir()"
      ],
      "execution_count": null,
      "outputs": [
        {
          "output_type": "stream",
          "name": "stdout",
          "text": [
            "[0.90353628 0.90340333 0.90315186 0.90340333]\n",
            "[0.96583118 0.96565167 0.96563785 0.96565167]\n",
            "[0.95886195 0.958685   0.95864857 0.958685  ]\n",
            "[0.73610128 0.75525433 0.73697966 0.75525433]\n",
            "[0.86074024 0.85806392 0.85806173 0.85806392]\n",
            "85\n",
            "79\n",
            "[0.94161997 0.94148776 0.94142351 0.94148776]\n",
            "[0.94161997 0.94148776 0.94142351 0.94148776]\n",
            "79\n",
            "39\n",
            "[0.94606387 0.9454641  0.94546924 0.9454641 ]\n",
            "10\n",
            "[0.95950424 0.95736    0.95756266 0.95736   ]\n",
            "1\n",
            "[0.98327605 0.98323333 0.98323184 0.98323333]\n",
            "10\n",
            "[0.97286512 0.97282667 0.97281812 0.97282667]\n",
            "[[0.90519283 0.90506667 0.90493785 0.90506667]\n",
            " [0.90904861 0.909      0.9088983  0.909     ]\n",
            " [0.9671091  0.96703333 0.96701551 0.96703333]\n",
            " [0.96520287 0.96506667 0.96504992 0.96506667]\n",
            " [0.96336822 0.9633     0.96325942 0.9633    ]\n",
            " [0.9641486  0.96406667 0.96405607 0.96406667]\n",
            " [0.98355319 0.98353333 0.98353591 0.98353333]\n",
            " [0.97356675 0.9735     0.97350019 0.9735    ]\n",
            " [0.97731496 0.97726667 0.97726925 0.97726667]\n",
            " [0.97469034 0.97463333 0.97463499 0.97463333]]\n"
          ]
        }
      ]
    },
    {
      "cell_type": "code",
      "metadata": {
        "id": "8EjlpZ2ia5SN"
      },
      "source": [
        "# # [ i for i in os.listdir(f\"/content/drive/MyDrive/data_papers/{paper_name}/gp_collab/\") if not \"_Targets_\" in i and os.path.isfile(f\"/content/drive/MyDrive/data_papers/{paper_name}/gp_collab/{i}\")  ]\n",
        "# collab_summaries\n",
        "# # used_y_files\n",
        "# np.save(collab_summaries,f\"/content/drive/MyDrive/data_papers/{paper_name}/summary_results/gp_collab_summary_with_file_{datetime.datetime.now():%Y%m%d%H%M%S}.npy\")"
      ],
      "execution_count": null,
      "outputs": []
    },
    {
      "cell_type": "code",
      "metadata": {
        "id": "0dox3kuua3ff"
      },
      "source": [
        "\n"
      ],
      "execution_count": null,
      "outputs": []
    },
    {
      "cell_type": "code",
      "metadata": {
        "id": "oo_ykvqAencY"
      },
      "source": [
        "# (Y_test_GP_mean_dnnf, Y_test_GP_variance_dnnf) = gp_models[0].predict_y(data_gp_test_dnnf)\n",
        "# Y_test_GP_mean_dnnf = Y_test_GP_mean_dnnf.numpy()\n",
        "# Y_test_pred_dnnf = []\n",
        "# for i in range(data_gp_test_dnnf.shape[0]):\n",
        "#   Y_test_pred_dnnf.append(np.argmax(Y_test_GP_mean_dnnf[i,]))\n"
      ],
      "execution_count": null,
      "outputs": []
    },
    {
      "cell_type": "code",
      "metadata": {
        "id": "qFnU7LqBrmBU"
      },
      "source": [
        "# Y_test_GP_mean_dnnf"
      ],
      "execution_count": null,
      "outputs": []
    },
    {
      "cell_type": "code",
      "metadata": {
        "colab": {
          "base_uri": "https://localhost:8080/"
        },
        "id": "M_-H1KDTojCa",
        "outputId": "980636e3-9a38-42cf-df33-f9e983a313b7"
      },
      "source": [
        "# np_x_train_collab_dnn.shape\n",
        "# np_x_train_collab_dnn[:1000,:].shape\n",
        "# train_targets[:1000]\n",
        "# train_targets.shape\n",
        "# data_gp_train_target_hot\n",
        "# np.apply_along_axis(np.argmax, 1, data_gp_train_target_hot)\n",
        "# data_gp_train_target\n",
        "# num_of_independent_vars\n",
        "# np_x_train_collab_dnn.shape\n",
        "# possible_kernels"
      ],
      "execution_count": null,
      "outputs": [
        {
          "data": {
            "text/plain": [
              "(73257, 960)"
            ]
          },
          "execution_count": 53,
          "metadata": {},
          "output_type": "execute_result"
        }
      ]
    },
    {
      "cell_type": "code",
      "metadata": {
        "id": "PjMVfwrK5H2s"
      },
      "source": [
        ""
      ],
      "execution_count": null,
      "outputs": []
    },
    {
      "cell_type": "code",
      "metadata": {
        "id": "sy1gmVR3GSrG"
      },
      "source": [
        "def unpacking_apply_along_axis(all_args):\n",
        "    \"\"\"\n",
        "    Like numpy.apply_along_axis(), but with arguments in a tuple\n",
        "    instead.\n",
        "\n",
        "    This function is useful with multiprocessing.Pool().map(): (1)\n",
        "    map() only handles functions that take a single argument, and (2)\n",
        "    this function can generally be imported from a module, as required\n",
        "    by map().\n",
        "    \"\"\"\n",
        "    (func1d, axis, arr, args, kwargs) = all_args\n",
        "    # return np.apply_along_axis(func1d, axis, arr, *args, **kwargs)\n",
        "\n",
        "\n",
        "def parallel_apply_along_axis(func1d, axis, arr, *args, **kwargs):\n",
        "    \"\"\"\n",
        "    Like numpy.apply_along_axis(), but takes advantage of multiple\n",
        "    cores.\n",
        "    \"\"\"\n",
        "    # Effective axis where apply_along_axis() will be applied by each\n",
        "    # worker (any non-zero axis number would work, so as to allow the use\n",
        "    # of `np.array_split()`, which is only done on axis 0):\n",
        "    effective_axis = 1 if axis == 0 else axis\n",
        "    if effective_axis != axis:\n",
        "        arr = arr.swapaxes(axis, effective_axis)\n",
        "\n",
        "    # Chunks for the mapping (only a few chunks):\n",
        "    chunks = [(func1d, effective_axis, sub_arr, args, kwargs)\n",
        "              for sub_arr in np.array_split(arr, multiprocessing.cpu_count())]\n",
        "\n",
        "    pool = multiprocessing.Pool()\n",
        "    individual_results = pool.map(unpacking_apply_along_axis, chunks)\n",
        "    # Freeing the workers:\n",
        "    pool.close()\n",
        "    pool.join()\n",
        "\n",
        "    return np.concatenate(individual_results)\n"
      ],
      "execution_count": null,
      "outputs": []
    }
  ]
}